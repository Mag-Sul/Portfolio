{
 "cells": [
  {
   "cell_type": "markdown",
   "id": "856777df",
   "metadata": {},
   "source": [
    "# SOS Text Vectorization"
   ]
  },
  {
   "cell_type": "code",
   "execution_count": 1,
   "id": "a8556a78",
   "metadata": {},
   "outputs": [
    {
     "name": "stdout",
     "output_type": "stream",
     "text": [
      "Exception reporting mode: Minimal\n"
     ]
    }
   ],
   "source": [
    "import csv\n",
    "import numpy as np\n",
    "import pandas as pd\n",
    "import nltk\n",
    "import matplotlib.pyplot as plt\n",
    "from sklearn.feature_extraction.text import CountVectorizer, TfidfTransformer \n",
    "from sklearn.feature_extraction.text import TfidfVectorizer\n",
    "from nltk.stem import WordNetLemmatizer\n",
    "import random\n",
    "\n",
    "from IPython.core.interactiveshell import InteractiveShell \n",
    "InteractiveShell.ast_node_interactivity = \"all\"\n",
    "\n",
    "%xmode Minimal"
   ]
  },
  {
   "cell_type": "code",
   "execution_count": 2,
   "id": "6d8a1b5c",
   "metadata": {},
   "outputs": [],
   "source": [
    "# load data \n",
    "sos = pd.read_csv('data/sos.csv')"
   ]
  },
  {
   "cell_type": "code",
   "execution_count": 3,
   "id": "325632fb",
   "metadata": {},
   "outputs": [
    {
     "data": {
      "text/html": [
       "<div>\n",
       "<style scoped>\n",
       "    .dataframe tbody tr th:only-of-type {\n",
       "        vertical-align: middle;\n",
       "    }\n",
       "\n",
       "    .dataframe tbody tr th {\n",
       "        vertical-align: top;\n",
       "    }\n",
       "\n",
       "    .dataframe thead th {\n",
       "        text-align: right;\n",
       "    }\n",
       "</style>\n",
       "<table border=\"1\" class=\"dataframe\">\n",
       "  <thead>\n",
       "    <tr style=\"text-align: right;\">\n",
       "      <th></th>\n",
       "      <th>title</th>\n",
       "      <th>source</th>\n",
       "      <th>type_of_release</th>\n",
       "      <th>link</th>\n",
       "      <th>content</th>\n",
       "      <th>page_scraped</th>\n",
       "      <th>content_length</th>\n",
       "      <th>date_clean</th>\n",
       "    </tr>\n",
       "  </thead>\n",
       "  <tbody>\n",
       "    <tr>\n",
       "      <th>0</th>\n",
       "      <td>Secretary Antony J. Blinken And Surinamese Pre...</td>\n",
       "      <td>Antony J. Blinken</td>\n",
       "      <td>Remarks</td>\n",
       "      <td>https://www.state.gov/secretary-antony-j-blink...</td>\n",
       "      <td>SECRETARY BLINKEN: Well, good morning, everyon...</td>\n",
       "      <td>110.0</td>\n",
       "      <td>602</td>\n",
       "      <td>2022-09-15</td>\n",
       "    </tr>\n",
       "    <tr>\n",
       "      <th>1</th>\n",
       "      <td>Targeting Russia’s Senior Officials, Defense I...</td>\n",
       "      <td>Antony J. Blinken</td>\n",
       "      <td>Press Statement</td>\n",
       "      <td>https://www.state.gov/targeting-senior-russian...</td>\n",
       "      <td>The United States continues to hold the Russia...</td>\n",
       "      <td>110.0</td>\n",
       "      <td>440</td>\n",
       "      <td>2022-09-15</td>\n",
       "    </tr>\n",
       "    <tr>\n",
       "      <th>2</th>\n",
       "      <td>Commemorating the International Day of Democracy</td>\n",
       "      <td>Antony J. Blinken</td>\n",
       "      <td>Press Statement</td>\n",
       "      <td>https://www.state.gov/commemorating-the-intern...</td>\n",
       "      <td>This International Day of Democracy, we unders...</td>\n",
       "      <td>110.0</td>\n",
       "      <td>318</td>\n",
       "      <td>2022-09-15</td>\n",
       "    </tr>\n",
       "    <tr>\n",
       "      <th>3</th>\n",
       "      <td>Papua New Guinea National Day</td>\n",
       "      <td>Antony J. Blinken</td>\n",
       "      <td>Press Statement</td>\n",
       "      <td>https://www.state.gov/papua-new-guinea-nationa...</td>\n",
       "      <td>On behalf of the United States of America, I e...</td>\n",
       "      <td>110.0</td>\n",
       "      <td>113</td>\n",
       "      <td>2022-09-15</td>\n",
       "    </tr>\n",
       "    <tr>\n",
       "      <th>4</th>\n",
       "      <td>El Salvador National Day</td>\n",
       "      <td>Antony J. Blinken</td>\n",
       "      <td>Press Statement</td>\n",
       "      <td>https://www.state.gov/el-salvador-national-day/</td>\n",
       "      <td>On behalf of the Government of the United Stat...</td>\n",
       "      <td>110.0</td>\n",
       "      <td>181</td>\n",
       "      <td>2022-09-15</td>\n",
       "    </tr>\n",
       "  </tbody>\n",
       "</table>\n",
       "</div>"
      ],
      "text/plain": [
       "                                               title             source  \\\n",
       "0  Secretary Antony J. Blinken And Surinamese Pre...  Antony J. Blinken   \n",
       "1  Targeting Russia’s Senior Officials, Defense I...  Antony J. Blinken   \n",
       "2   Commemorating the International Day of Democracy  Antony J. Blinken   \n",
       "3                      Papua New Guinea National Day  Antony J. Blinken   \n",
       "4                           El Salvador National Day  Antony J. Blinken   \n",
       "\n",
       "   type_of_release                                               link  \\\n",
       "0          Remarks  https://www.state.gov/secretary-antony-j-blink...   \n",
       "1  Press Statement  https://www.state.gov/targeting-senior-russian...   \n",
       "2  Press Statement  https://www.state.gov/commemorating-the-intern...   \n",
       "3  Press Statement  https://www.state.gov/papua-new-guinea-nationa...   \n",
       "4  Press Statement    https://www.state.gov/el-salvador-national-day/   \n",
       "\n",
       "                                             content  page_scraped  \\\n",
       "0  SECRETARY BLINKEN: Well, good morning, everyon...         110.0   \n",
       "1  The United States continues to hold the Russia...         110.0   \n",
       "2  This International Day of Democracy, we unders...         110.0   \n",
       "3  On behalf of the United States of America, I e...         110.0   \n",
       "4  On behalf of the Government of the United Stat...         110.0   \n",
       "\n",
       "   content_length  date_clean  \n",
       "0             602  2022-09-15  \n",
       "1             440  2022-09-15  \n",
       "2             318  2022-09-15  \n",
       "3             113  2022-09-15  \n",
       "4             181  2022-09-15  "
      ]
     },
     "execution_count": 3,
     "metadata": {},
     "output_type": "execute_result"
    },
    {
     "name": "stdout",
     "output_type": "stream",
     "text": [
      "<class 'pandas.core.frame.DataFrame'>\n",
      "RangeIndex: 1973 entries, 0 to 1972\n",
      "Data columns (total 8 columns):\n",
      " #   Column           Non-Null Count  Dtype  \n",
      "---  ------           --------------  -----  \n",
      " 0   title            1973 non-null   object \n",
      " 1   source           1973 non-null   object \n",
      " 2   type_of_release  1973 non-null   object \n",
      " 3   link             1973 non-null   object \n",
      " 4   content          1973 non-null   object \n",
      " 5   page_scraped     1959 non-null   float64\n",
      " 6   content_length   1973 non-null   int64  \n",
      " 7   date_clean       1973 non-null   object \n",
      "dtypes: float64(1), int64(1), object(6)\n",
      "memory usage: 123.4+ KB\n"
     ]
    }
   ],
   "source": [
    "sos.head()\n",
    "sos.info()"
   ]
  },
  {
   "cell_type": "code",
   "execution_count": 4,
   "id": "ebea21e1",
   "metadata": {},
   "outputs": [],
   "source": [
    "# explore min_doc frequency options of 1-30\n",
    "term_count = []\n",
    "\n",
    "for i in range(1, 31):\n",
    "    vectorizer = CountVectorizer(stop_words='english', min_df=i)\n",
    "    dtm = vectorizer.fit_transform(sos.content)\n",
    "    length = dtm.shape[1]\n",
    "    term_count.append(length)\n",
    "\n",
    "min_df = pd.DataFrame(data = {'Min Doc': range(1,31),\n",
    "                              'Term Count': term_count})"
   ]
  },
  {
   "cell_type": "code",
   "execution_count": 5,
   "id": "303c88db",
   "metadata": {},
   "outputs": [],
   "source": [
    "# min_df"
   ]
  },
  {
   "cell_type": "code",
   "execution_count": 6,
   "id": "792f2642",
   "metadata": {},
   "outputs": [
    {
     "data": {
      "text/plain": [
       "<matplotlib.collections.PathCollection at 0x7fa781678d90>"
      ]
     },
     "execution_count": 6,
     "metadata": {},
     "output_type": "execute_result"
    },
    {
     "data": {
      "text/plain": [
       "Text(0.5, 1.0, 'From 1973 press releases from the Department of State')"
      ]
     },
     "execution_count": 6,
     "metadata": {},
     "output_type": "execute_result"
    },
    {
     "data": {
      "text/plain": [
       "Text(0.5, 0.98, 'Minimum Document Frequency and Resulting Term Count')"
      ]
     },
     "execution_count": 6,
     "metadata": {},
     "output_type": "execute_result"
    },
    {
     "data": {
      "text/plain": [
       "Text(0, 0.5, 'Term Count')"
      ]
     },
     "execution_count": 6,
     "metadata": {},
     "output_type": "execute_result"
    },
    {
     "data": {
      "text/plain": [
       "Text(0.5, 0, 'Minimum Document Frequency')"
      ]
     },
     "execution_count": 6,
     "metadata": {},
     "output_type": "execute_result"
    },
    {
     "data": {
      "text/plain": [
       "([<matplotlib.axis.XTick at 0x7fa7816bffa0>,\n",
       "  <matplotlib.axis.XTick at 0x7fa7816bff70>,\n",
       "  <matplotlib.axis.XTick at 0x7fa7816bfa60>,\n",
       "  <matplotlib.axis.XTick at 0x7fa78190bcd0>,\n",
       "  <matplotlib.axis.XTick at 0x7fa7b41c07c0>,\n",
       "  <matplotlib.axis.XTick at 0x7fa7b41c0cd0>,\n",
       "  <matplotlib.axis.XTick at 0x7fa7b41c97c0>,\n",
       "  <matplotlib.axis.XTick at 0x7fa7b41ef2b0>,\n",
       "  <matplotlib.axis.XTick at 0x7fa7b41efd60>,\n",
       "  <matplotlib.axis.XTick at 0x7fa7b41e1850>,\n",
       "  <matplotlib.axis.XTick at 0x7fa78190b850>,\n",
       "  <matplotlib.axis.XTick at 0x7fa7b41e1df0>,\n",
       "  <matplotlib.axis.XTick at 0x7fa7b41d1c40>,\n",
       "  <matplotlib.axis.XTick at 0x7fa7b41c1730>,\n",
       "  <matplotlib.axis.XTick at 0x7fa7b41d1f70>,\n",
       "  <matplotlib.axis.XTick at 0x7fa7b41c1970>,\n",
       "  <matplotlib.axis.XTick at 0x7fa781857b20>,\n",
       "  <matplotlib.axis.XTick at 0x7fa78185d610>,\n",
       "  <matplotlib.axis.XTick at 0x7fa78185dd60>,\n",
       "  <matplotlib.axis.XTick at 0x7fa781857670>,\n",
       "  <matplotlib.axis.XTick at 0x7fa781849b20>,\n",
       "  <matplotlib.axis.XTick at 0x7fa781841610>,\n",
       "  <matplotlib.axis.XTick at 0x7fa781841d60>,\n",
       "  <matplotlib.axis.XTick at 0x7fa781836bb0>,\n",
       "  <matplotlib.axis.XTick at 0x7fa7b41ef910>,\n",
       "  <matplotlib.axis.XTick at 0x7fa7818544f0>,\n",
       "  <matplotlib.axis.XTick at 0x7fa781854fa0>,\n",
       "  <matplotlib.axis.XTick at 0x7fa781859a90>,\n",
       "  <matplotlib.axis.XTick at 0x7fa781838580>,\n",
       "  <matplotlib.axis.XTick at 0x7fa781859340>],\n",
       " [Text(1, 0, '1'),\n",
       "  Text(2, 0, '2'),\n",
       "  Text(3, 0, '3'),\n",
       "  Text(4, 0, '4'),\n",
       "  Text(5, 0, '5'),\n",
       "  Text(6, 0, '6'),\n",
       "  Text(7, 0, '7'),\n",
       "  Text(8, 0, '8'),\n",
       "  Text(9, 0, '9'),\n",
       "  Text(10, 0, '10'),\n",
       "  Text(11, 0, '11'),\n",
       "  Text(12, 0, '12'),\n",
       "  Text(13, 0, '13'),\n",
       "  Text(14, 0, '14'),\n",
       "  Text(15, 0, '15'),\n",
       "  Text(16, 0, '16'),\n",
       "  Text(17, 0, '17'),\n",
       "  Text(18, 0, '18'),\n",
       "  Text(19, 0, '19'),\n",
       "  Text(20, 0, '20'),\n",
       "  Text(21, 0, '21'),\n",
       "  Text(22, 0, '22'),\n",
       "  Text(23, 0, '23'),\n",
       "  Text(24, 0, '24'),\n",
       "  Text(25, 0, '25'),\n",
       "  Text(26, 0, '26'),\n",
       "  Text(27, 0, '27'),\n",
       "  Text(28, 0, '28'),\n",
       "  Text(29, 0, '29'),\n",
       "  Text(30, 0, '30')])"
      ]
     },
     "execution_count": 6,
     "metadata": {},
     "output_type": "execute_result"
    },
    {
     "data": {
      "image/png": "[encoded data removed]",
      "text/plain": [
       "<Figure size 864x468 with 1 Axes>"
      ]
     },
     "metadata": {
      "needs_background": "light"
     },
     "output_type": "display_data"
    }
   ],
   "source": [
    "fig, ax = plt.subplots(figsize=(12,6.5))\n",
    "# ax.plot(range(1,26), min_df['Term Count'], linewidth = 2.5, color = 'green')\n",
    "ax.scatter(x = min_df['Min Doc'], y = min_df['Term Count'])\n",
    "plt.title('From 1973 press releases from the Department of State')\n",
    "plt.suptitle('Minimum Document Frequency and Resulting Term Count', size = 20)\n",
    "plt.ylabel('Term Count')\n",
    "plt.xlabel('Minimum Document Frequency')\n",
    "plt.xticks(range(1,31))\n",
    "#plt.savefig('min_doc_freq.png')"
   ]
  },
  {
   "cell_type": "code",
   "execution_count": 7,
   "id": "190d9b1d",
   "metadata": {},
   "outputs": [],
   "source": [
    "# define functions for testing hyper parameter easily\n",
    "def convert_to_term_df(dtm_input, tfidf_vectorizer_input):\n",
    "    content_index = pd.DataFrame(dtm_input.toarray()).head()\n",
    "    term_indices = {index: term for term, index in tfidf_vectorizer_input.vocabulary_.items()}\n",
    "    colterms = [term_indices[i] for i in range(dtm_input.shape[1])]\n",
    "    final_df = pd.DataFrame(dtm_input.toarray(), columns=colterms)\n",
    "\n",
    "    return final_df"
   ]
  },
  {
   "cell_type": "code",
   "execution_count": 8,
   "id": "5e021177",
   "metadata": {},
   "outputs": [],
   "source": [
    "# https://stackoverflow.com/questions/34232190/scikit-learn-tfidfvectorizer-how-to-get-top-n-terms-with-highest-tf-idf-score\n",
    "def get_top_terms(dtm_input, tfidf_vectorizer_input, num):\n",
    "    importance = np.argsort(np.asarray(dtm_input.sum(axis=0)).ravel())[::-1]\n",
    "    tfidf_feature_names = np.array(tfidf_vectorizer_input.get_feature_names_out())\n",
    "    return tfidf_feature_names[importance[: num]]"
   ]
  },
  {
   "cell_type": "markdown",
   "id": "ce25a116",
   "metadata": {
    "heading_collapsed": true
   },
   "source": [
    "#### Stop words, min_df"
   ]
  },
  {
   "cell_type": "code",
   "execution_count": 9,
   "id": "0e37e2c0",
   "metadata": {
    "hidden": true
   },
   "outputs": [
    {
     "data": {
      "text/plain": [
       "(1973, 6839)"
      ]
     },
     "execution_count": 9,
     "metadata": {},
     "output_type": "execute_result"
    }
   ],
   "source": [
    "# vectorize with stop words only \n",
    "tfidf_vectorizer = TfidfVectorizer(stop_words='english', min_df=8)\n",
    "dtm = tfidf_vectorizer.fit_transform(sos.content)\n",
    "dtm.shape #(1973, 10075)"
   ]
  },
  {
   "cell_type": "code",
   "execution_count": 10,
   "id": "6d5b6952",
   "metadata": {
    "hidden": true
   },
   "outputs": [
    {
     "data": {
      "text/html": [
       "<div>\n",
       "<style scoped>\n",
       "    .dataframe tbody tr th:only-of-type {\n",
       "        vertical-align: middle;\n",
       "    }\n",
       "\n",
       "    .dataframe tbody tr th {\n",
       "        vertical-align: top;\n",
       "    }\n",
       "\n",
       "    .dataframe thead th {\n",
       "        text-align: right;\n",
       "    }\n",
       "</style>\n",
       "<table border=\"1\" class=\"dataframe\">\n",
       "  <thead>\n",
       "    <tr style=\"text-align: right;\">\n",
       "      <th></th>\n",
       "      <th>000</th>\n",
       "      <th>10</th>\n",
       "      <th>100</th>\n",
       "      <th>100th</th>\n",
       "      <th>109</th>\n",
       "      <th>10th</th>\n",
       "      <th>11</th>\n",
       "      <th>110</th>\n",
       "      <th>116</th>\n",
       "      <th>11th</th>\n",
       "      <th>...</th>\n",
       "      <th>zayed</th>\n",
       "      <th>zealand</th>\n",
       "      <th>zelenskyy</th>\n",
       "      <th>zero</th>\n",
       "      <th>zeya</th>\n",
       "      <th>zimbabwe</th>\n",
       "      <th>zone</th>\n",
       "      <th>zones</th>\n",
       "      <th>zoom</th>\n",
       "      <th>zte</th>\n",
       "    </tr>\n",
       "  </thead>\n",
       "  <tbody>\n",
       "    <tr>\n",
       "      <th>0</th>\n",
       "      <td>0.0</td>\n",
       "      <td>0.0</td>\n",
       "      <td>0.0</td>\n",
       "      <td>0.0</td>\n",
       "      <td>0.0</td>\n",
       "      <td>0.0</td>\n",
       "      <td>0.0</td>\n",
       "      <td>0.0</td>\n",
       "      <td>0.0</td>\n",
       "      <td>0.0</td>\n",
       "      <td>...</td>\n",
       "      <td>0.0</td>\n",
       "      <td>0.0</td>\n",
       "      <td>0.0</td>\n",
       "      <td>0.0</td>\n",
       "      <td>0.0</td>\n",
       "      <td>0.0</td>\n",
       "      <td>0.0</td>\n",
       "      <td>0.0</td>\n",
       "      <td>0.0</td>\n",
       "      <td>0.0</td>\n",
       "    </tr>\n",
       "    <tr>\n",
       "      <th>1</th>\n",
       "      <td>0.0</td>\n",
       "      <td>0.0</td>\n",
       "      <td>0.0</td>\n",
       "      <td>0.0</td>\n",
       "      <td>0.0</td>\n",
       "      <td>0.0</td>\n",
       "      <td>0.0</td>\n",
       "      <td>0.0</td>\n",
       "      <td>0.0</td>\n",
       "      <td>0.0</td>\n",
       "      <td>...</td>\n",
       "      <td>0.0</td>\n",
       "      <td>0.0</td>\n",
       "      <td>0.0</td>\n",
       "      <td>0.0</td>\n",
       "      <td>0.0</td>\n",
       "      <td>0.0</td>\n",
       "      <td>0.0</td>\n",
       "      <td>0.0</td>\n",
       "      <td>0.0</td>\n",
       "      <td>0.0</td>\n",
       "    </tr>\n",
       "    <tr>\n",
       "      <th>2</th>\n",
       "      <td>0.0</td>\n",
       "      <td>0.0</td>\n",
       "      <td>0.0</td>\n",
       "      <td>0.0</td>\n",
       "      <td>0.0</td>\n",
       "      <td>0.0</td>\n",
       "      <td>0.0</td>\n",
       "      <td>0.0</td>\n",
       "      <td>0.0</td>\n",
       "      <td>0.0</td>\n",
       "      <td>...</td>\n",
       "      <td>0.0</td>\n",
       "      <td>0.0</td>\n",
       "      <td>0.0</td>\n",
       "      <td>0.0</td>\n",
       "      <td>0.0</td>\n",
       "      <td>0.0</td>\n",
       "      <td>0.0</td>\n",
       "      <td>0.0</td>\n",
       "      <td>0.0</td>\n",
       "      <td>0.0</td>\n",
       "    </tr>\n",
       "    <tr>\n",
       "      <th>3</th>\n",
       "      <td>0.0</td>\n",
       "      <td>0.0</td>\n",
       "      <td>0.0</td>\n",
       "      <td>0.0</td>\n",
       "      <td>0.0</td>\n",
       "      <td>0.0</td>\n",
       "      <td>0.0</td>\n",
       "      <td>0.0</td>\n",
       "      <td>0.0</td>\n",
       "      <td>0.0</td>\n",
       "      <td>...</td>\n",
       "      <td>0.0</td>\n",
       "      <td>0.0</td>\n",
       "      <td>0.0</td>\n",
       "      <td>0.0</td>\n",
       "      <td>0.0</td>\n",
       "      <td>0.0</td>\n",
       "      <td>0.0</td>\n",
       "      <td>0.0</td>\n",
       "      <td>0.0</td>\n",
       "      <td>0.0</td>\n",
       "    </tr>\n",
       "    <tr>\n",
       "      <th>4</th>\n",
       "      <td>0.0</td>\n",
       "      <td>0.0</td>\n",
       "      <td>0.0</td>\n",
       "      <td>0.0</td>\n",
       "      <td>0.0</td>\n",
       "      <td>0.0</td>\n",
       "      <td>0.0</td>\n",
       "      <td>0.0</td>\n",
       "      <td>0.0</td>\n",
       "      <td>0.0</td>\n",
       "      <td>...</td>\n",
       "      <td>0.0</td>\n",
       "      <td>0.0</td>\n",
       "      <td>0.0</td>\n",
       "      <td>0.0</td>\n",
       "      <td>0.0</td>\n",
       "      <td>0.0</td>\n",
       "      <td>0.0</td>\n",
       "      <td>0.0</td>\n",
       "      <td>0.0</td>\n",
       "      <td>0.0</td>\n",
       "    </tr>\n",
       "  </tbody>\n",
       "</table>\n",
       "<p>5 rows × 6839 columns</p>\n",
       "</div>"
      ],
      "text/plain": [
       "   000   10  100  100th  109  10th   11  110  116  11th  ...  zayed  zealand  \\\n",
       "0  0.0  0.0  0.0    0.0  0.0   0.0  0.0  0.0  0.0   0.0  ...    0.0      0.0   \n",
       "1  0.0  0.0  0.0    0.0  0.0   0.0  0.0  0.0  0.0   0.0  ...    0.0      0.0   \n",
       "2  0.0  0.0  0.0    0.0  0.0   0.0  0.0  0.0  0.0   0.0  ...    0.0      0.0   \n",
       "3  0.0  0.0  0.0    0.0  0.0   0.0  0.0  0.0  0.0   0.0  ...    0.0      0.0   \n",
       "4  0.0  0.0  0.0    0.0  0.0   0.0  0.0  0.0  0.0   0.0  ...    0.0      0.0   \n",
       "\n",
       "   zelenskyy  zero  zeya  zimbabwe  zone  zones  zoom  zte  \n",
       "0        0.0   0.0   0.0       0.0   0.0    0.0   0.0  0.0  \n",
       "1        0.0   0.0   0.0       0.0   0.0    0.0   0.0  0.0  \n",
       "2        0.0   0.0   0.0       0.0   0.0    0.0   0.0  0.0  \n",
       "3        0.0   0.0   0.0       0.0   0.0    0.0   0.0  0.0  \n",
       "4        0.0   0.0   0.0       0.0   0.0    0.0   0.0  0.0  \n",
       "\n",
       "[5 rows x 6839 columns]"
      ]
     },
     "execution_count": 10,
     "metadata": {},
     "output_type": "execute_result"
    }
   ],
   "source": [
    "df1 = convert_to_term_df(dtm, tfidf_vectorizer)\n",
    "df1.head()"
   ]
  },
  {
   "cell_type": "code",
   "execution_count": 11,
   "id": "110fc76a",
   "metadata": {
    "hidden": true
   },
   "outputs": [
    {
     "data": {
      "text/plain": [
       "array(['people', 'secretary', 'united', 'states', 'ukraine', 'question',\n",
       "       'world', 've', 'president', 'thank'], dtype=object)"
      ]
     },
     "execution_count": 11,
     "metadata": {},
     "output_type": "execute_result"
    }
   ],
   "source": [
    "get_top_terms(dtm, tfidf_vectorizer, 10)"
   ]
  },
  {
   "cell_type": "markdown",
   "id": "cbc01870",
   "metadata": {
    "heading_collapsed": true
   },
   "source": [
    "#### + words, only"
   ]
  },
  {
   "cell_type": "code",
   "execution_count": 12,
   "id": "b2b52c7a",
   "metadata": {
    "hidden": true
   },
   "outputs": [
    {
     "data": {
      "text/plain": [
       "(1973, 6637)"
      ]
     },
     "execution_count": 12,
     "metadata": {},
     "output_type": "execute_result"
    }
   ],
   "source": [
    "# vectorzie with stop words and words only (remove numbers and must be 3 letters minimum)\n",
    "tfidf_vectorizer2 = TfidfVectorizer(stop_words='english', min_df=8, token_pattern= r'\\b[a-zA-Z]{3,}\\b')\n",
    "dtm2 = tfidf_vectorizer2.fit_transform(sos.content)\n",
    "dtm2.shape #(1973, 9818)"
   ]
  },
  {
   "cell_type": "code",
   "execution_count": 13,
   "id": "55adf629",
   "metadata": {
    "hidden": true
   },
   "outputs": [
    {
     "data": {
      "text/html": [
       "<div>\n",
       "<style scoped>\n",
       "    .dataframe tbody tr th:only-of-type {\n",
       "        vertical-align: middle;\n",
       "    }\n",
       "\n",
       "    .dataframe tbody tr th {\n",
       "        vertical-align: top;\n",
       "    }\n",
       "\n",
       "    .dataframe thead th {\n",
       "        text-align: right;\n",
       "    }\n",
       "</style>\n",
       "<table border=\"1\" class=\"dataframe\">\n",
       "  <thead>\n",
       "    <tr style=\"text-align: right;\">\n",
       "      <th></th>\n",
       "      <th>abandon</th>\n",
       "      <th>abandoned</th>\n",
       "      <th>abbas</th>\n",
       "      <th>abc</th>\n",
       "      <th>abducted</th>\n",
       "      <th>abdullah</th>\n",
       "      <th>abe</th>\n",
       "      <th>abhorrent</th>\n",
       "      <th>abide</th>\n",
       "      <th>abiding</th>\n",
       "      <th>...</th>\n",
       "      <th>zayed</th>\n",
       "      <th>zealand</th>\n",
       "      <th>zelenskyy</th>\n",
       "      <th>zero</th>\n",
       "      <th>zeya</th>\n",
       "      <th>zimbabwe</th>\n",
       "      <th>zone</th>\n",
       "      <th>zones</th>\n",
       "      <th>zoom</th>\n",
       "      <th>zte</th>\n",
       "    </tr>\n",
       "  </thead>\n",
       "  <tbody>\n",
       "    <tr>\n",
       "      <th>0</th>\n",
       "      <td>0.0</td>\n",
       "      <td>0.0</td>\n",
       "      <td>0.0</td>\n",
       "      <td>0.0</td>\n",
       "      <td>0.0</td>\n",
       "      <td>0.0</td>\n",
       "      <td>0.0</td>\n",
       "      <td>0.0</td>\n",
       "      <td>0.0</td>\n",
       "      <td>0.0</td>\n",
       "      <td>...</td>\n",
       "      <td>0.0</td>\n",
       "      <td>0.0</td>\n",
       "      <td>0.0</td>\n",
       "      <td>0.0</td>\n",
       "      <td>0.0</td>\n",
       "      <td>0.0</td>\n",
       "      <td>0.0</td>\n",
       "      <td>0.0</td>\n",
       "      <td>0.0</td>\n",
       "      <td>0.0</td>\n",
       "    </tr>\n",
       "    <tr>\n",
       "      <th>1</th>\n",
       "      <td>0.0</td>\n",
       "      <td>0.0</td>\n",
       "      <td>0.0</td>\n",
       "      <td>0.0</td>\n",
       "      <td>0.0</td>\n",
       "      <td>0.0</td>\n",
       "      <td>0.0</td>\n",
       "      <td>0.0</td>\n",
       "      <td>0.0</td>\n",
       "      <td>0.0</td>\n",
       "      <td>...</td>\n",
       "      <td>0.0</td>\n",
       "      <td>0.0</td>\n",
       "      <td>0.0</td>\n",
       "      <td>0.0</td>\n",
       "      <td>0.0</td>\n",
       "      <td>0.0</td>\n",
       "      <td>0.0</td>\n",
       "      <td>0.0</td>\n",
       "      <td>0.0</td>\n",
       "      <td>0.0</td>\n",
       "    </tr>\n",
       "    <tr>\n",
       "      <th>2</th>\n",
       "      <td>0.0</td>\n",
       "      <td>0.0</td>\n",
       "      <td>0.0</td>\n",
       "      <td>0.0</td>\n",
       "      <td>0.0</td>\n",
       "      <td>0.0</td>\n",
       "      <td>0.0</td>\n",
       "      <td>0.0</td>\n",
       "      <td>0.0</td>\n",
       "      <td>0.0</td>\n",
       "      <td>...</td>\n",
       "      <td>0.0</td>\n",
       "      <td>0.0</td>\n",
       "      <td>0.0</td>\n",
       "      <td>0.0</td>\n",
       "      <td>0.0</td>\n",
       "      <td>0.0</td>\n",
       "      <td>0.0</td>\n",
       "      <td>0.0</td>\n",
       "      <td>0.0</td>\n",
       "      <td>0.0</td>\n",
       "    </tr>\n",
       "    <tr>\n",
       "      <th>3</th>\n",
       "      <td>0.0</td>\n",
       "      <td>0.0</td>\n",
       "      <td>0.0</td>\n",
       "      <td>0.0</td>\n",
       "      <td>0.0</td>\n",
       "      <td>0.0</td>\n",
       "      <td>0.0</td>\n",
       "      <td>0.0</td>\n",
       "      <td>0.0</td>\n",
       "      <td>0.0</td>\n",
       "      <td>...</td>\n",
       "      <td>0.0</td>\n",
       "      <td>0.0</td>\n",
       "      <td>0.0</td>\n",
       "      <td>0.0</td>\n",
       "      <td>0.0</td>\n",
       "      <td>0.0</td>\n",
       "      <td>0.0</td>\n",
       "      <td>0.0</td>\n",
       "      <td>0.0</td>\n",
       "      <td>0.0</td>\n",
       "    </tr>\n",
       "    <tr>\n",
       "      <th>4</th>\n",
       "      <td>0.0</td>\n",
       "      <td>0.0</td>\n",
       "      <td>0.0</td>\n",
       "      <td>0.0</td>\n",
       "      <td>0.0</td>\n",
       "      <td>0.0</td>\n",
       "      <td>0.0</td>\n",
       "      <td>0.0</td>\n",
       "      <td>0.0</td>\n",
       "      <td>0.0</td>\n",
       "      <td>...</td>\n",
       "      <td>0.0</td>\n",
       "      <td>0.0</td>\n",
       "      <td>0.0</td>\n",
       "      <td>0.0</td>\n",
       "      <td>0.0</td>\n",
       "      <td>0.0</td>\n",
       "      <td>0.0</td>\n",
       "      <td>0.0</td>\n",
       "      <td>0.0</td>\n",
       "      <td>0.0</td>\n",
       "    </tr>\n",
       "  </tbody>\n",
       "</table>\n",
       "<p>5 rows × 6637 columns</p>\n",
       "</div>"
      ],
      "text/plain": [
       "   abandon  abandoned  abbas  abc  abducted  abdullah  abe  abhorrent  abide  \\\n",
       "0      0.0        0.0    0.0  0.0       0.0       0.0  0.0        0.0    0.0   \n",
       "1      0.0        0.0    0.0  0.0       0.0       0.0  0.0        0.0    0.0   \n",
       "2      0.0        0.0    0.0  0.0       0.0       0.0  0.0        0.0    0.0   \n",
       "3      0.0        0.0    0.0  0.0       0.0       0.0  0.0        0.0    0.0   \n",
       "4      0.0        0.0    0.0  0.0       0.0       0.0  0.0        0.0    0.0   \n",
       "\n",
       "   abiding  ...  zayed  zealand  zelenskyy  zero  zeya  zimbabwe  zone  zones  \\\n",
       "0      0.0  ...    0.0      0.0        0.0   0.0   0.0       0.0   0.0    0.0   \n",
       "1      0.0  ...    0.0      0.0        0.0   0.0   0.0       0.0   0.0    0.0   \n",
       "2      0.0  ...    0.0      0.0        0.0   0.0   0.0       0.0   0.0    0.0   \n",
       "3      0.0  ...    0.0      0.0        0.0   0.0   0.0       0.0   0.0    0.0   \n",
       "4      0.0  ...    0.0      0.0        0.0   0.0   0.0       0.0   0.0    0.0   \n",
       "\n",
       "   zoom  zte  \n",
       "0   0.0  0.0  \n",
       "1   0.0  0.0  \n",
       "2   0.0  0.0  \n",
       "3   0.0  0.0  \n",
       "4   0.0  0.0  \n",
       "\n",
       "[5 rows x 6637 columns]"
      ]
     },
     "execution_count": 13,
     "metadata": {},
     "output_type": "execute_result"
    }
   ],
   "source": [
    "df2 = convert_to_term_df(dtm2, tfidf_vectorizer2)\n",
    "df2.head()"
   ]
  },
  {
   "cell_type": "code",
   "execution_count": 14,
   "id": "86f64671",
   "metadata": {
    "hidden": true
   },
   "outputs": [
    {
     "data": {
      "text/plain": [
       "array(['people', 'secretary', 'united', 'states', 'ukraine', 'question',\n",
       "       'world', 'president', 'thank', 'pompeo', 'russia', 'security',\n",
       "       'today', 'countries', 'government'], dtype=object)"
      ]
     },
     "execution_count": 14,
     "metadata": {},
     "output_type": "execute_result"
    }
   ],
   "source": [
    "get_top_terms(dtm2, tfidf_vectorizer2, 15)"
   ]
  },
  {
   "cell_type": "markdown",
   "id": "c548e5a7",
   "metadata": {},
   "source": [
    "#### + bigrams"
   ]
  },
  {
   "cell_type": "code",
   "execution_count": 15,
   "id": "9d6ab332",
   "metadata": {},
   "outputs": [
    {
     "data": {
      "text/plain": [
       "(1973, 15068)"
      ]
     },
     "execution_count": 15,
     "metadata": {},
     "output_type": "execute_result"
    }
   ],
   "source": [
    "# vectorize with bigrams\n",
    "tfidf_vectorizer3 = TfidfVectorizer(stop_words='english', min_df=8, ngram_range=(1,2), \n",
    "                                    token_pattern= r'\\b[a-zA-Z]{3,}\\b')\n",
    "dtm3 = tfidf_vectorizer3.fit_transform(sos.content)\n",
    "dtm3.shape  # (1973, 36877)\n",
    "# larger number "
   ]
  },
  {
   "cell_type": "code",
   "execution_count": 16,
   "id": "3ad6b06f",
   "metadata": {},
   "outputs": [
    {
     "data": {
      "text/html": [
       "<div>\n",
       "<style scoped>\n",
       "    .dataframe tbody tr th:only-of-type {\n",
       "        vertical-align: middle;\n",
       "    }\n",
       "\n",
       "    .dataframe tbody tr th {\n",
       "        vertical-align: top;\n",
       "    }\n",
       "\n",
       "    .dataframe thead th {\n",
       "        text-align: right;\n",
       "    }\n",
       "</style>\n",
       "<table border=\"1\" class=\"dataframe\">\n",
       "  <thead>\n",
       "    <tr style=\"text-align: right;\">\n",
       "      <th></th>\n",
       "      <th>abandon</th>\n",
       "      <th>abandoned</th>\n",
       "      <th>abbas</th>\n",
       "      <th>abc</th>\n",
       "      <th>abducted</th>\n",
       "      <th>abdullah</th>\n",
       "      <th>abe</th>\n",
       "      <th>abhorrent</th>\n",
       "      <th>abide</th>\n",
       "      <th>abiding</th>\n",
       "      <th>...</th>\n",
       "      <th>zealand</th>\n",
       "      <th>zelenskyy</th>\n",
       "      <th>zelenskyy said</th>\n",
       "      <th>zero</th>\n",
       "      <th>zeya</th>\n",
       "      <th>zimbabwe</th>\n",
       "      <th>zone</th>\n",
       "      <th>zones</th>\n",
       "      <th>zoom</th>\n",
       "      <th>zte</th>\n",
       "    </tr>\n",
       "  </thead>\n",
       "  <tbody>\n",
       "    <tr>\n",
       "      <th>0</th>\n",
       "      <td>0.0</td>\n",
       "      <td>0.0</td>\n",
       "      <td>0.0</td>\n",
       "      <td>0.0</td>\n",
       "      <td>0.0</td>\n",
       "      <td>0.0</td>\n",
       "      <td>0.0</td>\n",
       "      <td>0.0</td>\n",
       "      <td>0.0</td>\n",
       "      <td>0.0</td>\n",
       "      <td>...</td>\n",
       "      <td>0.0</td>\n",
       "      <td>0.0</td>\n",
       "      <td>0.0</td>\n",
       "      <td>0.0</td>\n",
       "      <td>0.0</td>\n",
       "      <td>0.0</td>\n",
       "      <td>0.0</td>\n",
       "      <td>0.0</td>\n",
       "      <td>0.0</td>\n",
       "      <td>0.0</td>\n",
       "    </tr>\n",
       "    <tr>\n",
       "      <th>1</th>\n",
       "      <td>0.0</td>\n",
       "      <td>0.0</td>\n",
       "      <td>0.0</td>\n",
       "      <td>0.0</td>\n",
       "      <td>0.0</td>\n",
       "      <td>0.0</td>\n",
       "      <td>0.0</td>\n",
       "      <td>0.0</td>\n",
       "      <td>0.0</td>\n",
       "      <td>0.0</td>\n",
       "      <td>...</td>\n",
       "      <td>0.0</td>\n",
       "      <td>0.0</td>\n",
       "      <td>0.0</td>\n",
       "      <td>0.0</td>\n",
       "      <td>0.0</td>\n",
       "      <td>0.0</td>\n",
       "      <td>0.0</td>\n",
       "      <td>0.0</td>\n",
       "      <td>0.0</td>\n",
       "      <td>0.0</td>\n",
       "    </tr>\n",
       "    <tr>\n",
       "      <th>2</th>\n",
       "      <td>0.0</td>\n",
       "      <td>0.0</td>\n",
       "      <td>0.0</td>\n",
       "      <td>0.0</td>\n",
       "      <td>0.0</td>\n",
       "      <td>0.0</td>\n",
       "      <td>0.0</td>\n",
       "      <td>0.0</td>\n",
       "      <td>0.0</td>\n",
       "      <td>0.0</td>\n",
       "      <td>...</td>\n",
       "      <td>0.0</td>\n",
       "      <td>0.0</td>\n",
       "      <td>0.0</td>\n",
       "      <td>0.0</td>\n",
       "      <td>0.0</td>\n",
       "      <td>0.0</td>\n",
       "      <td>0.0</td>\n",
       "      <td>0.0</td>\n",
       "      <td>0.0</td>\n",
       "      <td>0.0</td>\n",
       "    </tr>\n",
       "    <tr>\n",
       "      <th>3</th>\n",
       "      <td>0.0</td>\n",
       "      <td>0.0</td>\n",
       "      <td>0.0</td>\n",
       "      <td>0.0</td>\n",
       "      <td>0.0</td>\n",
       "      <td>0.0</td>\n",
       "      <td>0.0</td>\n",
       "      <td>0.0</td>\n",
       "      <td>0.0</td>\n",
       "      <td>0.0</td>\n",
       "      <td>...</td>\n",
       "      <td>0.0</td>\n",
       "      <td>0.0</td>\n",
       "      <td>0.0</td>\n",
       "      <td>0.0</td>\n",
       "      <td>0.0</td>\n",
       "      <td>0.0</td>\n",
       "      <td>0.0</td>\n",
       "      <td>0.0</td>\n",
       "      <td>0.0</td>\n",
       "      <td>0.0</td>\n",
       "    </tr>\n",
       "    <tr>\n",
       "      <th>4</th>\n",
       "      <td>0.0</td>\n",
       "      <td>0.0</td>\n",
       "      <td>0.0</td>\n",
       "      <td>0.0</td>\n",
       "      <td>0.0</td>\n",
       "      <td>0.0</td>\n",
       "      <td>0.0</td>\n",
       "      <td>0.0</td>\n",
       "      <td>0.0</td>\n",
       "      <td>0.0</td>\n",
       "      <td>...</td>\n",
       "      <td>0.0</td>\n",
       "      <td>0.0</td>\n",
       "      <td>0.0</td>\n",
       "      <td>0.0</td>\n",
       "      <td>0.0</td>\n",
       "      <td>0.0</td>\n",
       "      <td>0.0</td>\n",
       "      <td>0.0</td>\n",
       "      <td>0.0</td>\n",
       "      <td>0.0</td>\n",
       "    </tr>\n",
       "  </tbody>\n",
       "</table>\n",
       "<p>5 rows × 15068 columns</p>\n",
       "</div>"
      ],
      "text/plain": [
       "   abandon  abandoned  abbas  abc  abducted  abdullah  abe  abhorrent  abide  \\\n",
       "0      0.0        0.0    0.0  0.0       0.0       0.0  0.0        0.0    0.0   \n",
       "1      0.0        0.0    0.0  0.0       0.0       0.0  0.0        0.0    0.0   \n",
       "2      0.0        0.0    0.0  0.0       0.0       0.0  0.0        0.0    0.0   \n",
       "3      0.0        0.0    0.0  0.0       0.0       0.0  0.0        0.0    0.0   \n",
       "4      0.0        0.0    0.0  0.0       0.0       0.0  0.0        0.0    0.0   \n",
       "\n",
       "   abiding  ...  zealand  zelenskyy  zelenskyy said  zero  zeya  zimbabwe  \\\n",
       "0      0.0  ...      0.0        0.0             0.0   0.0   0.0       0.0   \n",
       "1      0.0  ...      0.0        0.0             0.0   0.0   0.0       0.0   \n",
       "2      0.0  ...      0.0        0.0             0.0   0.0   0.0       0.0   \n",
       "3      0.0  ...      0.0        0.0             0.0   0.0   0.0       0.0   \n",
       "4      0.0  ...      0.0        0.0             0.0   0.0   0.0       0.0   \n",
       "\n",
       "   zone  zones  zoom  zte  \n",
       "0   0.0    0.0   0.0  0.0  \n",
       "1   0.0    0.0   0.0  0.0  \n",
       "2   0.0    0.0   0.0  0.0  \n",
       "3   0.0    0.0   0.0  0.0  \n",
       "4   0.0    0.0   0.0  0.0  \n",
       "\n",
       "[5 rows x 15068 columns]"
      ]
     },
     "execution_count": 16,
     "metadata": {},
     "output_type": "execute_result"
    }
   ],
   "source": [
    "df3 = convert_to_term_df(dtm3, tfidf_vectorizer3)\n",
    "df3.head()"
   ]
  },
  {
   "cell_type": "code",
   "execution_count": 17,
   "id": "560c5025",
   "metadata": {},
   "outputs": [
    {
     "data": {
      "text/plain": [
       "array(['secretary', 'people', 'united', 'states', 'united states',\n",
       "       'question', 'ukraine', 'world', 'president', 'thank', 'pompeo',\n",
       "       'russia', 'secretary pompeo', 'security', 'today'], dtype=object)"
      ]
     },
     "execution_count": 17,
     "metadata": {},
     "output_type": "execute_result"
    }
   ],
   "source": [
    "get_top_terms(dtm3, tfidf_vectorizer3, 15)"
   ]
  },
  {
   "cell_type": "markdown",
   "id": "b0ed011b",
   "metadata": {
    "heading_collapsed": true
   },
   "source": [
    "####  + max_df"
   ]
  },
  {
   "cell_type": "code",
   "execution_count": 18,
   "id": "a303bb84",
   "metadata": {
    "hidden": true
   },
   "outputs": [
    {
     "data": {
      "text/plain": [
       "(1973, 15064)"
      ]
     },
     "execution_count": 18,
     "metadata": {},
     "output_type": "execute_result"
    }
   ],
   "source": [
    "tfidf_vectorizer4 = TfidfVectorizer(stop_words='english', min_df=8, max_df=0.75, ngram_range=(1,2), \n",
    "                                    token_pattern= r'\\b[a-zA-Z]{3,}\\b')\n",
    "dtm4 = tfidf_vectorizer4.fit_transform(sos.content)\n",
    "dtm4.shape \n",
    "# larger number 37796 # only removed 4 words"
   ]
  },
  {
   "cell_type": "code",
   "execution_count": 19,
   "id": "3d91b469",
   "metadata": {
    "hidden": true
   },
   "outputs": [
    {
     "data": {
      "text/html": [
       "<div>\n",
       "<style scoped>\n",
       "    .dataframe tbody tr th:only-of-type {\n",
       "        vertical-align: middle;\n",
       "    }\n",
       "\n",
       "    .dataframe tbody tr th {\n",
       "        vertical-align: top;\n",
       "    }\n",
       "\n",
       "    .dataframe thead th {\n",
       "        text-align: right;\n",
       "    }\n",
       "</style>\n",
       "<table border=\"1\" class=\"dataframe\">\n",
       "  <thead>\n",
       "    <tr style=\"text-align: right;\">\n",
       "      <th></th>\n",
       "      <th>abandon</th>\n",
       "      <th>abandoned</th>\n",
       "      <th>abbas</th>\n",
       "      <th>abc</th>\n",
       "      <th>abducted</th>\n",
       "      <th>abdullah</th>\n",
       "      <th>abe</th>\n",
       "      <th>abhorrent</th>\n",
       "      <th>abide</th>\n",
       "      <th>abiding</th>\n",
       "      <th>...</th>\n",
       "      <th>zealand</th>\n",
       "      <th>zelenskyy</th>\n",
       "      <th>zelenskyy said</th>\n",
       "      <th>zero</th>\n",
       "      <th>zeya</th>\n",
       "      <th>zimbabwe</th>\n",
       "      <th>zone</th>\n",
       "      <th>zones</th>\n",
       "      <th>zoom</th>\n",
       "      <th>zte</th>\n",
       "    </tr>\n",
       "  </thead>\n",
       "  <tbody>\n",
       "    <tr>\n",
       "      <th>0</th>\n",
       "      <td>0.0</td>\n",
       "      <td>0.0</td>\n",
       "      <td>0.0</td>\n",
       "      <td>0.0</td>\n",
       "      <td>0.0</td>\n",
       "      <td>0.0</td>\n",
       "      <td>0.0</td>\n",
       "      <td>0.0</td>\n",
       "      <td>0.0</td>\n",
       "      <td>0.0</td>\n",
       "      <td>...</td>\n",
       "      <td>0.0</td>\n",
       "      <td>0.0</td>\n",
       "      <td>0.0</td>\n",
       "      <td>0.0</td>\n",
       "      <td>0.0</td>\n",
       "      <td>0.0</td>\n",
       "      <td>0.0</td>\n",
       "      <td>0.0</td>\n",
       "      <td>0.0</td>\n",
       "      <td>0.0</td>\n",
       "    </tr>\n",
       "    <tr>\n",
       "      <th>1</th>\n",
       "      <td>0.0</td>\n",
       "      <td>0.0</td>\n",
       "      <td>0.0</td>\n",
       "      <td>0.0</td>\n",
       "      <td>0.0</td>\n",
       "      <td>0.0</td>\n",
       "      <td>0.0</td>\n",
       "      <td>0.0</td>\n",
       "      <td>0.0</td>\n",
       "      <td>0.0</td>\n",
       "      <td>...</td>\n",
       "      <td>0.0</td>\n",
       "      <td>0.0</td>\n",
       "      <td>0.0</td>\n",
       "      <td>0.0</td>\n",
       "      <td>0.0</td>\n",
       "      <td>0.0</td>\n",
       "      <td>0.0</td>\n",
       "      <td>0.0</td>\n",
       "      <td>0.0</td>\n",
       "      <td>0.0</td>\n",
       "    </tr>\n",
       "    <tr>\n",
       "      <th>2</th>\n",
       "      <td>0.0</td>\n",
       "      <td>0.0</td>\n",
       "      <td>0.0</td>\n",
       "      <td>0.0</td>\n",
       "      <td>0.0</td>\n",
       "      <td>0.0</td>\n",
       "      <td>0.0</td>\n",
       "      <td>0.0</td>\n",
       "      <td>0.0</td>\n",
       "      <td>0.0</td>\n",
       "      <td>...</td>\n",
       "      <td>0.0</td>\n",
       "      <td>0.0</td>\n",
       "      <td>0.0</td>\n",
       "      <td>0.0</td>\n",
       "      <td>0.0</td>\n",
       "      <td>0.0</td>\n",
       "      <td>0.0</td>\n",
       "      <td>0.0</td>\n",
       "      <td>0.0</td>\n",
       "      <td>0.0</td>\n",
       "    </tr>\n",
       "    <tr>\n",
       "      <th>3</th>\n",
       "      <td>0.0</td>\n",
       "      <td>0.0</td>\n",
       "      <td>0.0</td>\n",
       "      <td>0.0</td>\n",
       "      <td>0.0</td>\n",
       "      <td>0.0</td>\n",
       "      <td>0.0</td>\n",
       "      <td>0.0</td>\n",
       "      <td>0.0</td>\n",
       "      <td>0.0</td>\n",
       "      <td>...</td>\n",
       "      <td>0.0</td>\n",
       "      <td>0.0</td>\n",
       "      <td>0.0</td>\n",
       "      <td>0.0</td>\n",
       "      <td>0.0</td>\n",
       "      <td>0.0</td>\n",
       "      <td>0.0</td>\n",
       "      <td>0.0</td>\n",
       "      <td>0.0</td>\n",
       "      <td>0.0</td>\n",
       "    </tr>\n",
       "    <tr>\n",
       "      <th>4</th>\n",
       "      <td>0.0</td>\n",
       "      <td>0.0</td>\n",
       "      <td>0.0</td>\n",
       "      <td>0.0</td>\n",
       "      <td>0.0</td>\n",
       "      <td>0.0</td>\n",
       "      <td>0.0</td>\n",
       "      <td>0.0</td>\n",
       "      <td>0.0</td>\n",
       "      <td>0.0</td>\n",
       "      <td>...</td>\n",
       "      <td>0.0</td>\n",
       "      <td>0.0</td>\n",
       "      <td>0.0</td>\n",
       "      <td>0.0</td>\n",
       "      <td>0.0</td>\n",
       "      <td>0.0</td>\n",
       "      <td>0.0</td>\n",
       "      <td>0.0</td>\n",
       "      <td>0.0</td>\n",
       "      <td>0.0</td>\n",
       "    </tr>\n",
       "  </tbody>\n",
       "</table>\n",
       "<p>5 rows × 15064 columns</p>\n",
       "</div>"
      ],
      "text/plain": [
       "   abandon  abandoned  abbas  abc  abducted  abdullah  abe  abhorrent  abide  \\\n",
       "0      0.0        0.0    0.0  0.0       0.0       0.0  0.0        0.0    0.0   \n",
       "1      0.0        0.0    0.0  0.0       0.0       0.0  0.0        0.0    0.0   \n",
       "2      0.0        0.0    0.0  0.0       0.0       0.0  0.0        0.0    0.0   \n",
       "3      0.0        0.0    0.0  0.0       0.0       0.0  0.0        0.0    0.0   \n",
       "4      0.0        0.0    0.0  0.0       0.0       0.0  0.0        0.0    0.0   \n",
       "\n",
       "   abiding  ...  zealand  zelenskyy  zelenskyy said  zero  zeya  zimbabwe  \\\n",
       "0      0.0  ...      0.0        0.0             0.0   0.0   0.0       0.0   \n",
       "1      0.0  ...      0.0        0.0             0.0   0.0   0.0       0.0   \n",
       "2      0.0  ...      0.0        0.0             0.0   0.0   0.0       0.0   \n",
       "3      0.0  ...      0.0        0.0             0.0   0.0   0.0       0.0   \n",
       "4      0.0  ...      0.0        0.0             0.0   0.0   0.0       0.0   \n",
       "\n",
       "   zone  zones  zoom  zte  \n",
       "0   0.0    0.0   0.0  0.0  \n",
       "1   0.0    0.0   0.0  0.0  \n",
       "2   0.0    0.0   0.0  0.0  \n",
       "3   0.0    0.0   0.0  0.0  \n",
       "4   0.0    0.0   0.0  0.0  \n",
       "\n",
       "[5 rows x 15064 columns]"
      ]
     },
     "execution_count": 19,
     "metadata": {},
     "output_type": "execute_result"
    }
   ],
   "source": [
    "df4 = convert_to_term_df(dtm4, tfidf_vectorizer4)\n",
    "df4.head()"
   ]
  },
  {
   "cell_type": "code",
   "execution_count": 20,
   "id": "1a6f2f6b",
   "metadata": {
    "hidden": true
   },
   "outputs": [
    {
     "data": {
      "text/plain": [
       "array(['secretary', 'question', 'ukraine', 'world', 'president', 'thank',\n",
       "       'pompeo', 'russia', 'secretary pompeo', 'security', 'today',\n",
       "       'countries', 'work', 'government', 'state'], dtype=object)"
      ]
     },
     "execution_count": 20,
     "metadata": {},
     "output_type": "execute_result"
    }
   ],
   "source": [
    "get_top_terms(dtm4, tfidf_vectorizer4, 15)"
   ]
  },
  {
   "cell_type": "markdown",
   "id": "8a32daaf",
   "metadata": {},
   "source": [
    "#### + sublinear_tf"
   ]
  },
  {
   "cell_type": "code",
   "execution_count": 21,
   "id": "a7ea882d",
   "metadata": {},
   "outputs": [
    {
     "data": {
      "text/plain": [
       "(1973, 15064)"
      ]
     },
     "execution_count": 21,
     "metadata": {},
     "output_type": "execute_result"
    }
   ],
   "source": [
    "tfidf_vectorizer5 = TfidfVectorizer(stop_words='english', min_df=8, max_df=0.75, sublinear_tf= True, \n",
    "                                    ngram_range=(1,2), token_pattern= r'\\b[a-zA-Z]{3,}\\b')\n",
    "dtm5 = tfidf_vectorizer5.fit_transform(sos.content)\n",
    "dtm5.shape "
   ]
  },
  {
   "cell_type": "code",
   "execution_count": 22,
   "id": "64f917b6",
   "metadata": {},
   "outputs": [
    {
     "data": {
      "text/html": [
       "<div>\n",
       "<style scoped>\n",
       "    .dataframe tbody tr th:only-of-type {\n",
       "        vertical-align: middle;\n",
       "    }\n",
       "\n",
       "    .dataframe tbody tr th {\n",
       "        vertical-align: top;\n",
       "    }\n",
       "\n",
       "    .dataframe thead th {\n",
       "        text-align: right;\n",
       "    }\n",
       "</style>\n",
       "<table border=\"1\" class=\"dataframe\">\n",
       "  <thead>\n",
       "    <tr style=\"text-align: right;\">\n",
       "      <th></th>\n",
       "      <th>abandon</th>\n",
       "      <th>abandoned</th>\n",
       "      <th>abbas</th>\n",
       "      <th>abc</th>\n",
       "      <th>abducted</th>\n",
       "      <th>abdullah</th>\n",
       "      <th>abe</th>\n",
       "      <th>abhorrent</th>\n",
       "      <th>abide</th>\n",
       "      <th>abiding</th>\n",
       "      <th>...</th>\n",
       "      <th>zealand</th>\n",
       "      <th>zelenskyy</th>\n",
       "      <th>zelenskyy said</th>\n",
       "      <th>zero</th>\n",
       "      <th>zeya</th>\n",
       "      <th>zimbabwe</th>\n",
       "      <th>zone</th>\n",
       "      <th>zones</th>\n",
       "      <th>zoom</th>\n",
       "      <th>zte</th>\n",
       "    </tr>\n",
       "  </thead>\n",
       "  <tbody>\n",
       "    <tr>\n",
       "      <th>0</th>\n",
       "      <td>0.0</td>\n",
       "      <td>0.0</td>\n",
       "      <td>0.0</td>\n",
       "      <td>0.0</td>\n",
       "      <td>0.0</td>\n",
       "      <td>0.0</td>\n",
       "      <td>0.0</td>\n",
       "      <td>0.0</td>\n",
       "      <td>0.0</td>\n",
       "      <td>0.0</td>\n",
       "      <td>...</td>\n",
       "      <td>0.0</td>\n",
       "      <td>0.0</td>\n",
       "      <td>0.0</td>\n",
       "      <td>0.0</td>\n",
       "      <td>0.0</td>\n",
       "      <td>0.0</td>\n",
       "      <td>0.0</td>\n",
       "      <td>0.0</td>\n",
       "      <td>0.0</td>\n",
       "      <td>0.0</td>\n",
       "    </tr>\n",
       "    <tr>\n",
       "      <th>1</th>\n",
       "      <td>0.0</td>\n",
       "      <td>0.0</td>\n",
       "      <td>0.0</td>\n",
       "      <td>0.0</td>\n",
       "      <td>0.0</td>\n",
       "      <td>0.0</td>\n",
       "      <td>0.0</td>\n",
       "      <td>0.0</td>\n",
       "      <td>0.0</td>\n",
       "      <td>0.0</td>\n",
       "      <td>...</td>\n",
       "      <td>0.0</td>\n",
       "      <td>0.0</td>\n",
       "      <td>0.0</td>\n",
       "      <td>0.0</td>\n",
       "      <td>0.0</td>\n",
       "      <td>0.0</td>\n",
       "      <td>0.0</td>\n",
       "      <td>0.0</td>\n",
       "      <td>0.0</td>\n",
       "      <td>0.0</td>\n",
       "    </tr>\n",
       "    <tr>\n",
       "      <th>2</th>\n",
       "      <td>0.0</td>\n",
       "      <td>0.0</td>\n",
       "      <td>0.0</td>\n",
       "      <td>0.0</td>\n",
       "      <td>0.0</td>\n",
       "      <td>0.0</td>\n",
       "      <td>0.0</td>\n",
       "      <td>0.0</td>\n",
       "      <td>0.0</td>\n",
       "      <td>0.0</td>\n",
       "      <td>...</td>\n",
       "      <td>0.0</td>\n",
       "      <td>0.0</td>\n",
       "      <td>0.0</td>\n",
       "      <td>0.0</td>\n",
       "      <td>0.0</td>\n",
       "      <td>0.0</td>\n",
       "      <td>0.0</td>\n",
       "      <td>0.0</td>\n",
       "      <td>0.0</td>\n",
       "      <td>0.0</td>\n",
       "    </tr>\n",
       "    <tr>\n",
       "      <th>3</th>\n",
       "      <td>0.0</td>\n",
       "      <td>0.0</td>\n",
       "      <td>0.0</td>\n",
       "      <td>0.0</td>\n",
       "      <td>0.0</td>\n",
       "      <td>0.0</td>\n",
       "      <td>0.0</td>\n",
       "      <td>0.0</td>\n",
       "      <td>0.0</td>\n",
       "      <td>0.0</td>\n",
       "      <td>...</td>\n",
       "      <td>0.0</td>\n",
       "      <td>0.0</td>\n",
       "      <td>0.0</td>\n",
       "      <td>0.0</td>\n",
       "      <td>0.0</td>\n",
       "      <td>0.0</td>\n",
       "      <td>0.0</td>\n",
       "      <td>0.0</td>\n",
       "      <td>0.0</td>\n",
       "      <td>0.0</td>\n",
       "    </tr>\n",
       "    <tr>\n",
       "      <th>4</th>\n",
       "      <td>0.0</td>\n",
       "      <td>0.0</td>\n",
       "      <td>0.0</td>\n",
       "      <td>0.0</td>\n",
       "      <td>0.0</td>\n",
       "      <td>0.0</td>\n",
       "      <td>0.0</td>\n",
       "      <td>0.0</td>\n",
       "      <td>0.0</td>\n",
       "      <td>0.0</td>\n",
       "      <td>...</td>\n",
       "      <td>0.0</td>\n",
       "      <td>0.0</td>\n",
       "      <td>0.0</td>\n",
       "      <td>0.0</td>\n",
       "      <td>0.0</td>\n",
       "      <td>0.0</td>\n",
       "      <td>0.0</td>\n",
       "      <td>0.0</td>\n",
       "      <td>0.0</td>\n",
       "      <td>0.0</td>\n",
       "    </tr>\n",
       "  </tbody>\n",
       "</table>\n",
       "<p>5 rows × 15064 columns</p>\n",
       "</div>"
      ],
      "text/plain": [
       "   abandon  abandoned  abbas  abc  abducted  abdullah  abe  abhorrent  abide  \\\n",
       "0      0.0        0.0    0.0  0.0       0.0       0.0  0.0        0.0    0.0   \n",
       "1      0.0        0.0    0.0  0.0       0.0       0.0  0.0        0.0    0.0   \n",
       "2      0.0        0.0    0.0  0.0       0.0       0.0  0.0        0.0    0.0   \n",
       "3      0.0        0.0    0.0  0.0       0.0       0.0  0.0        0.0    0.0   \n",
       "4      0.0        0.0    0.0  0.0       0.0       0.0  0.0        0.0    0.0   \n",
       "\n",
       "   abiding  ...  zealand  zelenskyy  zelenskyy said  zero  zeya  zimbabwe  \\\n",
       "0      0.0  ...      0.0        0.0             0.0   0.0   0.0       0.0   \n",
       "1      0.0  ...      0.0        0.0             0.0   0.0   0.0       0.0   \n",
       "2      0.0  ...      0.0        0.0             0.0   0.0   0.0       0.0   \n",
       "3      0.0  ...      0.0        0.0             0.0   0.0   0.0       0.0   \n",
       "4      0.0  ...      0.0        0.0             0.0   0.0   0.0       0.0   \n",
       "\n",
       "   zone  zones  zoom  zte  \n",
       "0   0.0    0.0   0.0  0.0  \n",
       "1   0.0    0.0   0.0  0.0  \n",
       "2   0.0    0.0   0.0  0.0  \n",
       "3   0.0    0.0   0.0  0.0  \n",
       "4   0.0    0.0   0.0  0.0  \n",
       "\n",
       "[5 rows x 15064 columns]"
      ]
     },
     "execution_count": 22,
     "metadata": {},
     "output_type": "execute_result"
    }
   ],
   "source": [
    "df5 = convert_to_term_df(dtm5, tfidf_vectorizer5)\n",
    "df5.head()"
   ]
  },
  {
   "cell_type": "code",
   "execution_count": 23,
   "id": "fb105321",
   "metadata": {},
   "outputs": [
    {
     "data": {
      "text/plain": [
       "array(['secretary', 'world', 'security', 'government', 'today',\n",
       "       'president', 'work', 'thank', 'countries', 'support', 'day',\n",
       "       'continue', 'state', 'ukraine', 'forward', 'american',\n",
       "       'department', 'rights', 'year', 'years'], dtype=object)"
      ]
     },
     "execution_count": 23,
     "metadata": {},
     "output_type": "execute_result"
    }
   ],
   "source": [
    "get_top_terms(dtm5, tfidf_vectorizer5, 20)"
   ]
  },
  {
   "cell_type": "markdown",
   "id": "957af513",
   "metadata": {},
   "source": [
    "#### + lemmatization"
   ]
  },
  {
   "cell_type": "code",
   "execution_count": 24,
   "id": "7c720cb9",
   "metadata": {},
   "outputs": [
    {
     "name": "stderr",
     "output_type": "stream",
     "text": [
      "[nltk_data] Downloading package wordnet to\n",
      "[nltk_data]     /Users/maggiesullivan/nltk_data...\n",
      "[nltk_data]   Package wordnet is already up-to-date!\n"
     ]
    },
    {
     "data": {
      "text/plain": [
       "True"
      ]
     },
     "execution_count": 24,
     "metadata": {},
     "output_type": "execute_result"
    },
    {
     "name": "stderr",
     "output_type": "stream",
     "text": [
      "[nltk_data] Downloading package omw-1.4 to\n",
      "[nltk_data]     /Users/maggiesullivan/nltk_data...\n",
      "[nltk_data]   Package omw-1.4 is already up-to-date!\n"
     ]
    },
    {
     "data": {
      "text/plain": [
       "True"
      ]
     },
     "execution_count": 24,
     "metadata": {},
     "output_type": "execute_result"
    }
   ],
   "source": [
    "# error instructed this\n",
    "import nltk\n",
    "nltk.download('wordnet')\n",
    "nltk.download('omw-1.4')"
   ]
  },
  {
   "cell_type": "code",
   "execution_count": 25,
   "id": "c8442e62",
   "metadata": {},
   "outputs": [],
   "source": [
    "import re\n",
    "from nltk import word_tokenize          \n",
    "from nltk.stem import WordNetLemmatizer \n",
    "\n",
    "class LemmaTokenizer:\n",
    "    def __init__(self):\n",
    "        self.wnl = WordNetLemmatizer()\n",
    "    def __call__(self, doc):\n",
    "        regex_num_ponctuation = '(\\d+)|([^\\w\\s])'\n",
    "        regex_little_words = r'(\\b\\w{1,2}\\b)'\n",
    "        return [self.wnl.lemmatize(t) for t in word_tokenize(doc) \n",
    "                if not re.search(regex_num_ponctuation, t) and not re.search(regex_little_words, t)]"
   ]
  },
  {
   "cell_type": "code",
   "execution_count": 26,
   "id": "8dff1d14",
   "metadata": {},
   "outputs": [
    {
     "name": "stderr",
     "output_type": "stream",
     "text": [
      "/Users/maggiesullivan/opt/anaconda3/lib/python3.9/site-packages/sklearn/feature_extraction/text.py:396: UserWarning: Your stop_words may be inconsistent with your preprocessing. Tokenizing the stop words generated tokens ['ha', 'le', 'wa'] not in stop_words.\n",
      "  warnings.warn(\n"
     ]
    },
    {
     "data": {
      "text/plain": [
       "(1973, 15411)"
      ]
     },
     "execution_count": 26,
     "metadata": {},
     "output_type": "execute_result"
    }
   ],
   "source": [
    "tfidf_vectorizer8 = TfidfVectorizer(stop_words='english', min_df=8, max_df=0.75, sublinear_tf= True, \n",
    "                                    ngram_range=(1,2), token_pattern= r'\\b[a-zA-Z]{3,}\\b', \n",
    "                                    tokenizer=LemmaTokenizer())\n",
    "dtm8 = tfidf_vectorizer8.fit_transform(sos.content)\n",
    "dtm8.shape "
   ]
  },
  {
   "cell_type": "code",
   "execution_count": 27,
   "id": "66be8663",
   "metadata": {},
   "outputs": [
    {
     "data": {
      "text/plain": [
       "array(['ha', 'year', 'country', 'government', 'secretary', 'security',\n",
       "       'world', 'today', 'right', 'day', 'president', 'support', 'work',\n",
       "       'american', 'thank', 'continue', 'wa', 'ukraine', 'partner',\n",
       "       'department', 'partnership', 'forward', 'time', 'behalf', 'effort',\n",
       "       'including', 'look', 'human', 'america', 'good'], dtype=object)"
      ]
     },
     "execution_count": 27,
     "metadata": {},
     "output_type": "execute_result"
    }
   ],
   "source": [
    "get_top_terms(dtm8, tfidf_vectorizer8, 30)"
   ]
  },
  {
   "cell_type": "markdown",
   "id": "0ea1e36a",
   "metadata": {},
   "source": [
    "#### custom stop words (aka remove blinken, pompeo)"
   ]
  },
  {
   "cell_type": "code",
   "execution_count": 28,
   "id": "5b7da4fe",
   "metadata": {},
   "outputs": [],
   "source": [
    "# # https://aparnamishra144.medium.com/how-to-add-custom-stopwords-and-remove-them-from-text-in-nlp-50d342cfafff\n",
    "# stop_list = [\"blinken\", 'pompeo']\n",
    "\n",
    "# stpwrd = nltk.corpus.stopwords.words('english')\n",
    "# # extend()function is used to add custom stopwords \n",
    "# stpwrd.extend(stop_list)\n",
    "# #stpwrd)"
   ]
  },
  {
   "cell_type": "code",
   "execution_count": 29,
   "id": "d388b344",
   "metadata": {},
   "outputs": [],
   "source": [
    "# tfidf_vectorizer_custom = TfidfVectorizer(stop_words=stpwrd, min_df=8, max_df=0.75, sublinear_tf= True, \n",
    "#                                     ngram_range=(1,2), token_pattern= r'\\b[a-zA-Z]{3,}\\b')\n",
    "# dtm_custom = tfidf_vectorizer_custom.fit_transform(sos.content)\n",
    "# dtm_custom.shape "
   ]
  },
  {
   "cell_type": "code",
   "execution_count": 30,
   "id": "ab35c479",
   "metadata": {},
   "outputs": [],
   "source": [
    "# get_top_terms(dtm_custom, tfidf_vectorizer_custom, 30)"
   ]
  },
  {
   "cell_type": "code",
   "execution_count": 31,
   "id": "f0205ec3",
   "metadata": {},
   "outputs": [],
   "source": [
    "# df_custom = convert_to_term_df(dtm_custom, tfidf_vectorizer_custom)\n",
    "# df_custom.head()"
   ]
  },
  {
   "cell_type": "code",
   "execution_count": 32,
   "id": "55e098d3",
   "metadata": {},
   "outputs": [],
   "source": [
    "# df_custom.to_csv('dtm_final_customstp.csv', index = False)"
   ]
  },
  {
   "cell_type": "markdown",
   "id": "016178f9",
   "metadata": {},
   "source": [
    "#### custom stpwords AND Lemm"
   ]
  },
  {
   "cell_type": "code",
   "execution_count": 33,
   "id": "a718e4f1",
   "metadata": {},
   "outputs": [],
   "source": [
    "# https://aparnamishra144.medium.com/how-to-add-custom-stopwords-and-remove-them-from-text-in-nlp-50d342cfafff\n",
    "stop_list = [\"blinken\", 'pompeo', 'trump', 'biden','united', 'state', 'states','united states','ha', 'le', 'wa', \n",
    "             'could', 'doe', 'might','must', 'need', 'sha', 'would', \"'d\", \"'ll\", \"'re\", \"'s\", \"'ve\", \"n't\", 'wo']\n",
    "\n",
    "# stop words based on error messages post lemmatization\n",
    "\n",
    "stpwrd = nltk.corpus.stopwords.words('english')\n",
    "# extend()function is used to add custom stopwords \n",
    "stpwrd.extend(stop_list)\n",
    "#stpwrd"
   ]
  },
  {
   "cell_type": "code",
   "execution_count": 34,
   "id": "f7f8f57e",
   "metadata": {},
   "outputs": [],
   "source": [
    "tfidf_vectorizer_final_lemm = TfidfVectorizer(stop_words=stpwrd, min_df=8, max_df=0.75, sublinear_tf= True, \n",
    "                                    ngram_range=(1,2), token_pattern= r'\\b[a-zA-Z]{3,}\\b', \n",
    "                                    tokenizer=LemmaTokenizer())"
   ]
  },
  {
   "cell_type": "code",
   "execution_count": 35,
   "id": "37a913cd",
   "metadata": {},
   "outputs": [
    {
     "data": {
      "text/plain": [
       "(1973, 15976)"
      ]
     },
     "execution_count": 35,
     "metadata": {},
     "output_type": "execute_result"
    }
   ],
   "source": [
    "dtm_custom_lemm = tfidf_vectorizer_final_lemm.fit_transform(sos.content)\n",
    "dtm_custom_lemm.shape "
   ]
  },
  {
   "cell_type": "code",
   "execution_count": 36,
   "id": "b26df615",
   "metadata": {},
   "outputs": [
    {
     "data": {
      "text/html": [
       "<div>\n",
       "<style scoped>\n",
       "    .dataframe tbody tr th:only-of-type {\n",
       "        vertical-align: middle;\n",
       "    }\n",
       "\n",
       "    .dataframe tbody tr th {\n",
       "        vertical-align: top;\n",
       "    }\n",
       "\n",
       "    .dataframe thead th {\n",
       "        text-align: right;\n",
       "    }\n",
       "</style>\n",
       "<table border=\"1\" class=\"dataframe\">\n",
       "  <thead>\n",
       "    <tr style=\"text-align: right;\">\n",
       "      <th></th>\n",
       "      <th>abandon</th>\n",
       "      <th>abandoned</th>\n",
       "      <th>abbas</th>\n",
       "      <th>abc</th>\n",
       "      <th>abducted</th>\n",
       "      <th>abdullah</th>\n",
       "      <th>abe</th>\n",
       "      <th>abhorrent</th>\n",
       "      <th>abide</th>\n",
       "      <th>abiding</th>\n",
       "      <th>...</th>\n",
       "      <th>zayed</th>\n",
       "      <th>zealand</th>\n",
       "      <th>zelenskyy</th>\n",
       "      <th>zelenskyy said</th>\n",
       "      <th>zero</th>\n",
       "      <th>zeya</th>\n",
       "      <th>zimbabwe</th>\n",
       "      <th>zone</th>\n",
       "      <th>zoom</th>\n",
       "      <th>zte</th>\n",
       "    </tr>\n",
       "  </thead>\n",
       "  <tbody>\n",
       "    <tr>\n",
       "      <th>0</th>\n",
       "      <td>0.0</td>\n",
       "      <td>0.0</td>\n",
       "      <td>0.0</td>\n",
       "      <td>0.0</td>\n",
       "      <td>0.0</td>\n",
       "      <td>0.0</td>\n",
       "      <td>0.0</td>\n",
       "      <td>0.0</td>\n",
       "      <td>0.0</td>\n",
       "      <td>0.0</td>\n",
       "      <td>...</td>\n",
       "      <td>0.0</td>\n",
       "      <td>0.0</td>\n",
       "      <td>0.0</td>\n",
       "      <td>0.0</td>\n",
       "      <td>0.0</td>\n",
       "      <td>0.0</td>\n",
       "      <td>0.0</td>\n",
       "      <td>0.0</td>\n",
       "      <td>0.0</td>\n",
       "      <td>0.0</td>\n",
       "    </tr>\n",
       "    <tr>\n",
       "      <th>1</th>\n",
       "      <td>0.0</td>\n",
       "      <td>0.0</td>\n",
       "      <td>0.0</td>\n",
       "      <td>0.0</td>\n",
       "      <td>0.0</td>\n",
       "      <td>0.0</td>\n",
       "      <td>0.0</td>\n",
       "      <td>0.0</td>\n",
       "      <td>0.0</td>\n",
       "      <td>0.0</td>\n",
       "      <td>...</td>\n",
       "      <td>0.0</td>\n",
       "      <td>0.0</td>\n",
       "      <td>0.0</td>\n",
       "      <td>0.0</td>\n",
       "      <td>0.0</td>\n",
       "      <td>0.0</td>\n",
       "      <td>0.0</td>\n",
       "      <td>0.0</td>\n",
       "      <td>0.0</td>\n",
       "      <td>0.0</td>\n",
       "    </tr>\n",
       "    <tr>\n",
       "      <th>2</th>\n",
       "      <td>0.0</td>\n",
       "      <td>0.0</td>\n",
       "      <td>0.0</td>\n",
       "      <td>0.0</td>\n",
       "      <td>0.0</td>\n",
       "      <td>0.0</td>\n",
       "      <td>0.0</td>\n",
       "      <td>0.0</td>\n",
       "      <td>0.0</td>\n",
       "      <td>0.0</td>\n",
       "      <td>...</td>\n",
       "      <td>0.0</td>\n",
       "      <td>0.0</td>\n",
       "      <td>0.0</td>\n",
       "      <td>0.0</td>\n",
       "      <td>0.0</td>\n",
       "      <td>0.0</td>\n",
       "      <td>0.0</td>\n",
       "      <td>0.0</td>\n",
       "      <td>0.0</td>\n",
       "      <td>0.0</td>\n",
       "    </tr>\n",
       "    <tr>\n",
       "      <th>3</th>\n",
       "      <td>0.0</td>\n",
       "      <td>0.0</td>\n",
       "      <td>0.0</td>\n",
       "      <td>0.0</td>\n",
       "      <td>0.0</td>\n",
       "      <td>0.0</td>\n",
       "      <td>0.0</td>\n",
       "      <td>0.0</td>\n",
       "      <td>0.0</td>\n",
       "      <td>0.0</td>\n",
       "      <td>...</td>\n",
       "      <td>0.0</td>\n",
       "      <td>0.0</td>\n",
       "      <td>0.0</td>\n",
       "      <td>0.0</td>\n",
       "      <td>0.0</td>\n",
       "      <td>0.0</td>\n",
       "      <td>0.0</td>\n",
       "      <td>0.0</td>\n",
       "      <td>0.0</td>\n",
       "      <td>0.0</td>\n",
       "    </tr>\n",
       "    <tr>\n",
       "      <th>4</th>\n",
       "      <td>0.0</td>\n",
       "      <td>0.0</td>\n",
       "      <td>0.0</td>\n",
       "      <td>0.0</td>\n",
       "      <td>0.0</td>\n",
       "      <td>0.0</td>\n",
       "      <td>0.0</td>\n",
       "      <td>0.0</td>\n",
       "      <td>0.0</td>\n",
       "      <td>0.0</td>\n",
       "      <td>...</td>\n",
       "      <td>0.0</td>\n",
       "      <td>0.0</td>\n",
       "      <td>0.0</td>\n",
       "      <td>0.0</td>\n",
       "      <td>0.0</td>\n",
       "      <td>0.0</td>\n",
       "      <td>0.0</td>\n",
       "      <td>0.0</td>\n",
       "      <td>0.0</td>\n",
       "      <td>0.0</td>\n",
       "    </tr>\n",
       "  </tbody>\n",
       "</table>\n",
       "<p>5 rows × 15976 columns</p>\n",
       "</div>"
      ],
      "text/plain": [
       "   abandon  abandoned  abbas  abc  abducted  abdullah  abe  abhorrent  abide  \\\n",
       "0      0.0        0.0    0.0  0.0       0.0       0.0  0.0        0.0    0.0   \n",
       "1      0.0        0.0    0.0  0.0       0.0       0.0  0.0        0.0    0.0   \n",
       "2      0.0        0.0    0.0  0.0       0.0       0.0  0.0        0.0    0.0   \n",
       "3      0.0        0.0    0.0  0.0       0.0       0.0  0.0        0.0    0.0   \n",
       "4      0.0        0.0    0.0  0.0       0.0       0.0  0.0        0.0    0.0   \n",
       "\n",
       "   abiding  ...  zayed  zealand  zelenskyy  zelenskyy said  zero  zeya  \\\n",
       "0      0.0  ...    0.0      0.0        0.0             0.0   0.0   0.0   \n",
       "1      0.0  ...    0.0      0.0        0.0             0.0   0.0   0.0   \n",
       "2      0.0  ...    0.0      0.0        0.0             0.0   0.0   0.0   \n",
       "3      0.0  ...    0.0      0.0        0.0             0.0   0.0   0.0   \n",
       "4      0.0  ...    0.0      0.0        0.0             0.0   0.0   0.0   \n",
       "\n",
       "   zimbabwe  zone  zoom  zte  \n",
       "0       0.0   0.0   0.0  0.0  \n",
       "1       0.0   0.0   0.0  0.0  \n",
       "2       0.0   0.0   0.0  0.0  \n",
       "3       0.0   0.0   0.0  0.0  \n",
       "4       0.0   0.0   0.0  0.0  \n",
       "\n",
       "[5 rows x 15976 columns]"
      ]
     },
     "execution_count": 36,
     "metadata": {},
     "output_type": "execute_result"
    }
   ],
   "source": [
    "df_custom_lemm = convert_to_term_df(dtm_custom_lemm, tfidf_vectorizer_final_lemm)\n",
    "df_custom_lemm.head()"
   ]
  },
  {
   "cell_type": "code",
   "execution_count": 37,
   "id": "3ad2ba58",
   "metadata": {},
   "outputs": [],
   "source": [
    "#df_custom_lemm.to_csv('data/df_custom_lemm.csv', index = False)"
   ]
  },
  {
   "cell_type": "code",
   "execution_count": 38,
   "id": "d259c55a",
   "metadata": {},
   "outputs": [
    {
     "data": {
      "text/plain": [
       "array(['year', 'country', 'government', 'secretary', 'security', 'world',\n",
       "       'right', 'today', 'day', 'also', 'president', 'support', 'work',\n",
       "       'american', 'together', 'thank', 'continue', 'ukraine', 'partner',\n",
       "       'department', 'partnership', 'forward', 'behalf', 'well', 'time',\n",
       "       'one', 'look', 'effort', 'human', 'including'], dtype=object)"
      ]
     },
     "execution_count": 38,
     "metadata": {},
     "output_type": "execute_result"
    }
   ],
   "source": [
    "get_top_terms(dtm_custom_lemm, tfidf_vectorizer_final_lemm, 30)"
   ]
  },
  {
   "cell_type": "markdown",
   "id": "7a254371",
   "metadata": {},
   "source": [
    "### Blinken Only "
   ]
  },
  {
   "cell_type": "code",
   "execution_count": 39,
   "id": "c58f6b3e",
   "metadata": {},
   "outputs": [],
   "source": [
    "blinken = pd.read_csv('data/blinken_2022.csv')"
   ]
  },
  {
   "cell_type": "code",
   "execution_count": 40,
   "id": "ee29e13b",
   "metadata": {},
   "outputs": [
    {
     "data": {
      "text/plain": [
       "(1019, 8682)"
      ]
     },
     "execution_count": 40,
     "metadata": {},
     "output_type": "execute_result"
    }
   ],
   "source": [
    "dtm_blinken_lemm = tfidf_vectorizer_final_lemm.fit_transform(blinken.content)\n",
    "dtm_blinken_lemm.shape "
   ]
  },
  {
   "cell_type": "code",
   "execution_count": 41,
   "id": "9fd0cd2d",
   "metadata": {},
   "outputs": [
    {
     "data": {
      "text/html": [
       "<div>\n",
       "<style scoped>\n",
       "    .dataframe tbody tr th:only-of-type {\n",
       "        vertical-align: middle;\n",
       "    }\n",
       "\n",
       "    .dataframe tbody tr th {\n",
       "        vertical-align: top;\n",
       "    }\n",
       "\n",
       "    .dataframe thead th {\n",
       "        text-align: right;\n",
       "    }\n",
       "</style>\n",
       "<table border=\"1\" class=\"dataframe\">\n",
       "  <thead>\n",
       "    <tr style=\"text-align: right;\">\n",
       "      <th></th>\n",
       "      <th>abc</th>\n",
       "      <th>abe</th>\n",
       "      <th>abide</th>\n",
       "      <th>abiding</th>\n",
       "      <th>ability</th>\n",
       "      <th>ability defend</th>\n",
       "      <th>ability get</th>\n",
       "      <th>able</th>\n",
       "      <th>able come</th>\n",
       "      <th>able get</th>\n",
       "      <th>...</th>\n",
       "      <th>young woman</th>\n",
       "      <th>younger</th>\n",
       "      <th>youth</th>\n",
       "      <th>zambia</th>\n",
       "      <th>zealand</th>\n",
       "      <th>zelenskyy</th>\n",
       "      <th>zelenskyy said</th>\n",
       "      <th>zero</th>\n",
       "      <th>zeya</th>\n",
       "      <th>zone</th>\n",
       "    </tr>\n",
       "  </thead>\n",
       "  <tbody>\n",
       "    <tr>\n",
       "      <th>0</th>\n",
       "      <td>0.0</td>\n",
       "      <td>0.0</td>\n",
       "      <td>0.0</td>\n",
       "      <td>0.0</td>\n",
       "      <td>0.000000</td>\n",
       "      <td>0.0</td>\n",
       "      <td>0.0</td>\n",
       "      <td>0.0</td>\n",
       "      <td>0.0</td>\n",
       "      <td>0.0</td>\n",
       "      <td>...</td>\n",
       "      <td>0.0</td>\n",
       "      <td>0.0</td>\n",
       "      <td>0.0</td>\n",
       "      <td>0.0</td>\n",
       "      <td>0.0</td>\n",
       "      <td>0.0</td>\n",
       "      <td>0.0</td>\n",
       "      <td>0.0</td>\n",
       "      <td>0.0</td>\n",
       "      <td>0.0</td>\n",
       "    </tr>\n",
       "    <tr>\n",
       "      <th>1</th>\n",
       "      <td>0.0</td>\n",
       "      <td>0.0</td>\n",
       "      <td>0.0</td>\n",
       "      <td>0.0</td>\n",
       "      <td>0.000000</td>\n",
       "      <td>0.0</td>\n",
       "      <td>0.0</td>\n",
       "      <td>0.0</td>\n",
       "      <td>0.0</td>\n",
       "      <td>0.0</td>\n",
       "      <td>...</td>\n",
       "      <td>0.0</td>\n",
       "      <td>0.0</td>\n",
       "      <td>0.0</td>\n",
       "      <td>0.0</td>\n",
       "      <td>0.0</td>\n",
       "      <td>0.0</td>\n",
       "      <td>0.0</td>\n",
       "      <td>0.0</td>\n",
       "      <td>0.0</td>\n",
       "      <td>0.0</td>\n",
       "    </tr>\n",
       "    <tr>\n",
       "      <th>2</th>\n",
       "      <td>0.0</td>\n",
       "      <td>0.0</td>\n",
       "      <td>0.0</td>\n",
       "      <td>0.0</td>\n",
       "      <td>0.000000</td>\n",
       "      <td>0.0</td>\n",
       "      <td>0.0</td>\n",
       "      <td>0.0</td>\n",
       "      <td>0.0</td>\n",
       "      <td>0.0</td>\n",
       "      <td>...</td>\n",
       "      <td>0.0</td>\n",
       "      <td>0.0</td>\n",
       "      <td>0.0</td>\n",
       "      <td>0.0</td>\n",
       "      <td>0.0</td>\n",
       "      <td>0.0</td>\n",
       "      <td>0.0</td>\n",
       "      <td>0.0</td>\n",
       "      <td>0.0</td>\n",
       "      <td>0.0</td>\n",
       "    </tr>\n",
       "    <tr>\n",
       "      <th>3</th>\n",
       "      <td>0.0</td>\n",
       "      <td>0.0</td>\n",
       "      <td>0.0</td>\n",
       "      <td>0.0</td>\n",
       "      <td>0.000000</td>\n",
       "      <td>0.0</td>\n",
       "      <td>0.0</td>\n",
       "      <td>0.0</td>\n",
       "      <td>0.0</td>\n",
       "      <td>0.0</td>\n",
       "      <td>...</td>\n",
       "      <td>0.0</td>\n",
       "      <td>0.0</td>\n",
       "      <td>0.0</td>\n",
       "      <td>0.0</td>\n",
       "      <td>0.0</td>\n",
       "      <td>0.0</td>\n",
       "      <td>0.0</td>\n",
       "      <td>0.0</td>\n",
       "      <td>0.0</td>\n",
       "      <td>0.0</td>\n",
       "    </tr>\n",
       "    <tr>\n",
       "      <th>4</th>\n",
       "      <td>0.0</td>\n",
       "      <td>0.0</td>\n",
       "      <td>0.0</td>\n",
       "      <td>0.0</td>\n",
       "      <td>0.075955</td>\n",
       "      <td>0.0</td>\n",
       "      <td>0.0</td>\n",
       "      <td>0.0</td>\n",
       "      <td>0.0</td>\n",
       "      <td>0.0</td>\n",
       "      <td>...</td>\n",
       "      <td>0.0</td>\n",
       "      <td>0.0</td>\n",
       "      <td>0.0</td>\n",
       "      <td>0.0</td>\n",
       "      <td>0.0</td>\n",
       "      <td>0.0</td>\n",
       "      <td>0.0</td>\n",
       "      <td>0.0</td>\n",
       "      <td>0.0</td>\n",
       "      <td>0.0</td>\n",
       "    </tr>\n",
       "  </tbody>\n",
       "</table>\n",
       "<p>5 rows × 8682 columns</p>\n",
       "</div>"
      ],
      "text/plain": [
       "   abc  abe  abide  abiding   ability  ability defend  ability get  able  \\\n",
       "0  0.0  0.0    0.0      0.0  0.000000             0.0          0.0   0.0   \n",
       "1  0.0  0.0    0.0      0.0  0.000000             0.0          0.0   0.0   \n",
       "2  0.0  0.0    0.0      0.0  0.000000             0.0          0.0   0.0   \n",
       "3  0.0  0.0    0.0      0.0  0.000000             0.0          0.0   0.0   \n",
       "4  0.0  0.0    0.0      0.0  0.075955             0.0          0.0   0.0   \n",
       "\n",
       "   able come  able get  ...  young woman  younger  youth  zambia  zealand  \\\n",
       "0        0.0       0.0  ...          0.0      0.0    0.0     0.0      0.0   \n",
       "1        0.0       0.0  ...          0.0      0.0    0.0     0.0      0.0   \n",
       "2        0.0       0.0  ...          0.0      0.0    0.0     0.0      0.0   \n",
       "3        0.0       0.0  ...          0.0      0.0    0.0     0.0      0.0   \n",
       "4        0.0       0.0  ...          0.0      0.0    0.0     0.0      0.0   \n",
       "\n",
       "   zelenskyy  zelenskyy said  zero  zeya  zone  \n",
       "0        0.0             0.0   0.0   0.0   0.0  \n",
       "1        0.0             0.0   0.0   0.0   0.0  \n",
       "2        0.0             0.0   0.0   0.0   0.0  \n",
       "3        0.0             0.0   0.0   0.0   0.0  \n",
       "4        0.0             0.0   0.0   0.0   0.0  \n",
       "\n",
       "[5 rows x 8682 columns]"
      ]
     },
     "execution_count": 41,
     "metadata": {},
     "output_type": "execute_result"
    }
   ],
   "source": [
    "df_blinken_lemm = convert_to_term_df(dtm_blinken_lemm, tfidf_vectorizer_final_lemm)\n",
    "df_blinken_lemm.head()"
   ]
  },
  {
   "cell_type": "code",
   "execution_count": 42,
   "id": "78bf2236",
   "metadata": {},
   "outputs": [],
   "source": [
    "df_blinken_lemm.to_csv('data/df_blinken_lemm.csv', index = False)"
   ]
  },
  {
   "cell_type": "code",
   "execution_count": 43,
   "id": "3aa8ad32",
   "metadata": {},
   "outputs": [
    {
     "data": {
      "text/plain": [
       "array(['ukraine', 'year', 'country', 'security', 'secretary', 'thank',\n",
       "       'also', 'world', 'together', 'support', 'today', 'day', 'work',\n",
       "       'government', 'russia', 'continue', 'president', 'right',\n",
       "       'partner', 'forward', 'partnership', 'including', 'one', 'many',\n",
       "       'well', 'time', 'effort', 'look', 'minister', 'department', 'good',\n",
       "       'international', 'behalf', 'america', 'much', 'working', 'foreign',\n",
       "       'human', 'challenge', 'independence', 'commitment', 'global',\n",
       "       'economic', 'around', 'look forward', 'think', 'important', 'see',\n",
       "       'wish', 'shared', 'human right', 'democratic', 'action',\n",
       "       'relationship', 'peace', 'democracy', 'make', 'value', 'russian',\n",
       "       'new', 'way', 'region', 'war', 'future', 'around world',\n",
       "       'opportunity', 'ally', 'welcome', 'cooperation', 'first', 'issue',\n",
       "       'strong', 'climate', 'like', 'two', 'celebrate', 'come', 'nation',\n",
       "       'going', 'american', 'national', 'committed', 'community', 'want',\n",
       "       'aggression', 'assistance', 'million', 'thing', 'foreign minister',\n",
       "       'stand', 'know', 'everyone', 'every', 'say', 'behalf america',\n",
       "       'question', 'part', 'help', 'best', 'health'], dtype=object)"
      ]
     },
     "execution_count": 43,
     "metadata": {},
     "output_type": "execute_result"
    }
   ],
   "source": [
    "blinken_100_lemm = get_top_terms(dtm_blinken_lemm, tfidf_vectorizer_final_lemm, 100)\n",
    "blinken_100_lemm"
   ]
  },
  {
   "cell_type": "markdown",
   "id": "a6a895e0",
   "metadata": {},
   "source": [
    "### Pompeo Only "
   ]
  },
  {
   "cell_type": "code",
   "execution_count": 44,
   "id": "03bdf540",
   "metadata": {},
   "outputs": [],
   "source": [
    "pompeo = pd.read_csv('data/pompeo_2020.csv')"
   ]
  },
  {
   "cell_type": "code",
   "execution_count": 45,
   "id": "c7989bdb",
   "metadata": {},
   "outputs": [
    {
     "data": {
      "text/plain": [
       "(954, 7714)"
      ]
     },
     "execution_count": 45,
     "metadata": {},
     "output_type": "execute_result"
    }
   ],
   "source": [
    "dtm_pompeo_lemm = tfidf_vectorizer_final_lemm.fit_transform(pompeo.content)\n",
    "dtm_pompeo_lemm.shape "
   ]
  },
  {
   "cell_type": "code",
   "execution_count": 46,
   "id": "db2a401c",
   "metadata": {},
   "outputs": [
    {
     "data": {
      "text/html": [
       "<div>\n",
       "<style scoped>\n",
       "    .dataframe tbody tr th:only-of-type {\n",
       "        vertical-align: middle;\n",
       "    }\n",
       "\n",
       "    .dataframe tbody tr th {\n",
       "        vertical-align: top;\n",
       "    }\n",
       "\n",
       "    .dataframe thead th {\n",
       "        text-align: right;\n",
       "    }\n",
       "</style>\n",
       "<table border=\"1\" class=\"dataframe\">\n",
       "  <thead>\n",
       "    <tr style=\"text-align: right;\">\n",
       "      <th></th>\n",
       "      <th>abandoned</th>\n",
       "      <th>abdullah</th>\n",
       "      <th>abide</th>\n",
       "      <th>ability</th>\n",
       "      <th>able</th>\n",
       "      <th>able achieve</th>\n",
       "      <th>able buy</th>\n",
       "      <th>able get</th>\n",
       "      <th>able make</th>\n",
       "      <th>abortion</th>\n",
       "      <th>...</th>\n",
       "      <th>young</th>\n",
       "      <th>young men</th>\n",
       "      <th>young people</th>\n",
       "      <th>young soldier</th>\n",
       "      <th>youth</th>\n",
       "      <th>zealand</th>\n",
       "      <th>zero</th>\n",
       "      <th>zimbabwe</th>\n",
       "      <th>zone</th>\n",
       "      <th>zte</th>\n",
       "    </tr>\n",
       "  </thead>\n",
       "  <tbody>\n",
       "    <tr>\n",
       "      <th>0</th>\n",
       "      <td>0.0</td>\n",
       "      <td>0.0</td>\n",
       "      <td>0.0</td>\n",
       "      <td>0.0</td>\n",
       "      <td>0.0</td>\n",
       "      <td>0.0</td>\n",
       "      <td>0.0</td>\n",
       "      <td>0.0</td>\n",
       "      <td>0.0</td>\n",
       "      <td>0.0</td>\n",
       "      <td>...</td>\n",
       "      <td>0.0</td>\n",
       "      <td>0.0</td>\n",
       "      <td>0.0</td>\n",
       "      <td>0.0</td>\n",
       "      <td>0.0</td>\n",
       "      <td>0.0</td>\n",
       "      <td>0.0</td>\n",
       "      <td>0.0</td>\n",
       "      <td>0.0</td>\n",
       "      <td>0.0</td>\n",
       "    </tr>\n",
       "    <tr>\n",
       "      <th>1</th>\n",
       "      <td>0.0</td>\n",
       "      <td>0.0</td>\n",
       "      <td>0.0</td>\n",
       "      <td>0.0</td>\n",
       "      <td>0.0</td>\n",
       "      <td>0.0</td>\n",
       "      <td>0.0</td>\n",
       "      <td>0.0</td>\n",
       "      <td>0.0</td>\n",
       "      <td>0.0</td>\n",
       "      <td>...</td>\n",
       "      <td>0.0</td>\n",
       "      <td>0.0</td>\n",
       "      <td>0.0</td>\n",
       "      <td>0.0</td>\n",
       "      <td>0.0</td>\n",
       "      <td>0.0</td>\n",
       "      <td>0.0</td>\n",
       "      <td>0.0</td>\n",
       "      <td>0.0</td>\n",
       "      <td>0.0</td>\n",
       "    </tr>\n",
       "    <tr>\n",
       "      <th>2</th>\n",
       "      <td>0.0</td>\n",
       "      <td>0.0</td>\n",
       "      <td>0.0</td>\n",
       "      <td>0.0</td>\n",
       "      <td>0.0</td>\n",
       "      <td>0.0</td>\n",
       "      <td>0.0</td>\n",
       "      <td>0.0</td>\n",
       "      <td>0.0</td>\n",
       "      <td>0.0</td>\n",
       "      <td>...</td>\n",
       "      <td>0.0</td>\n",
       "      <td>0.0</td>\n",
       "      <td>0.0</td>\n",
       "      <td>0.0</td>\n",
       "      <td>0.0</td>\n",
       "      <td>0.0</td>\n",
       "      <td>0.0</td>\n",
       "      <td>0.0</td>\n",
       "      <td>0.0</td>\n",
       "      <td>0.0</td>\n",
       "    </tr>\n",
       "    <tr>\n",
       "      <th>3</th>\n",
       "      <td>0.0</td>\n",
       "      <td>0.0</td>\n",
       "      <td>0.0</td>\n",
       "      <td>0.0</td>\n",
       "      <td>0.0</td>\n",
       "      <td>0.0</td>\n",
       "      <td>0.0</td>\n",
       "      <td>0.0</td>\n",
       "      <td>0.0</td>\n",
       "      <td>0.0</td>\n",
       "      <td>...</td>\n",
       "      <td>0.0</td>\n",
       "      <td>0.0</td>\n",
       "      <td>0.0</td>\n",
       "      <td>0.0</td>\n",
       "      <td>0.0</td>\n",
       "      <td>0.0</td>\n",
       "      <td>0.0</td>\n",
       "      <td>0.0</td>\n",
       "      <td>0.0</td>\n",
       "      <td>0.0</td>\n",
       "    </tr>\n",
       "    <tr>\n",
       "      <th>4</th>\n",
       "      <td>0.0</td>\n",
       "      <td>0.0</td>\n",
       "      <td>0.0</td>\n",
       "      <td>0.0</td>\n",
       "      <td>0.0</td>\n",
       "      <td>0.0</td>\n",
       "      <td>0.0</td>\n",
       "      <td>0.0</td>\n",
       "      <td>0.0</td>\n",
       "      <td>0.0</td>\n",
       "      <td>...</td>\n",
       "      <td>0.0</td>\n",
       "      <td>0.0</td>\n",
       "      <td>0.0</td>\n",
       "      <td>0.0</td>\n",
       "      <td>0.0</td>\n",
       "      <td>0.0</td>\n",
       "      <td>0.0</td>\n",
       "      <td>0.0</td>\n",
       "      <td>0.0</td>\n",
       "      <td>0.0</td>\n",
       "    </tr>\n",
       "  </tbody>\n",
       "</table>\n",
       "<p>5 rows × 7714 columns</p>\n",
       "</div>"
      ],
      "text/plain": [
       "   abandoned  abdullah  abide  ability  able  able achieve  able buy  \\\n",
       "0        0.0       0.0    0.0      0.0   0.0           0.0       0.0   \n",
       "1        0.0       0.0    0.0      0.0   0.0           0.0       0.0   \n",
       "2        0.0       0.0    0.0      0.0   0.0           0.0       0.0   \n",
       "3        0.0       0.0    0.0      0.0   0.0           0.0       0.0   \n",
       "4        0.0       0.0    0.0      0.0   0.0           0.0       0.0   \n",
       "\n",
       "   able get  able make  abortion  ...  young  young men  young people  \\\n",
       "0       0.0        0.0       0.0  ...    0.0        0.0           0.0   \n",
       "1       0.0        0.0       0.0  ...    0.0        0.0           0.0   \n",
       "2       0.0        0.0       0.0  ...    0.0        0.0           0.0   \n",
       "3       0.0        0.0       0.0  ...    0.0        0.0           0.0   \n",
       "4       0.0        0.0       0.0  ...    0.0        0.0           0.0   \n",
       "\n",
       "   young soldier  youth  zealand  zero  zimbabwe  zone  zte  \n",
       "0            0.0    0.0      0.0   0.0       0.0   0.0  0.0  \n",
       "1            0.0    0.0      0.0   0.0       0.0   0.0  0.0  \n",
       "2            0.0    0.0      0.0   0.0       0.0   0.0  0.0  \n",
       "3            0.0    0.0      0.0   0.0       0.0   0.0  0.0  \n",
       "4            0.0    0.0      0.0   0.0       0.0   0.0  0.0  \n",
       "\n",
       "[5 rows x 7714 columns]"
      ]
     },
     "execution_count": 46,
     "metadata": {},
     "output_type": "execute_result"
    }
   ],
   "source": [
    "df_pompeo_lemm = convert_to_term_df(dtm_pompeo_lemm, tfidf_vectorizer_final_lemm)\n",
    "df_pompeo_lemm.head()"
   ]
  },
  {
   "cell_type": "code",
   "execution_count": 47,
   "id": "a16611bb",
   "metadata": {},
   "outputs": [],
   "source": [
    "df_pompeo_lemm.to_csv('data/df_pompeo_lemm.csv', index = False)"
   ]
  },
  {
   "cell_type": "code",
   "execution_count": 48,
   "id": "5be70ada",
   "metadata": {},
   "outputs": [
    {
     "data": {
      "text/plain": [
       "array(['government', 'american', 'year', 'right', 'country', 'world',\n",
       "       'secretary', 'security', 'today', 'president', 'day', 'work',\n",
       "       'question', 'behalf', 'support', 'continue', 'department', 'human',\n",
       "       'peace', 'also', 'independence', 'nation', 'regime', 'economic',\n",
       "       'iran', 'america', 'freedom', 'look', 'time', 'effort', 'china',\n",
       "       'together', 'commitment', 'partnership', 'national', 'action',\n",
       "       'prosperity', 'well', 'international', 'chinese', 'partner',\n",
       "       'wish', 'one', 'forward', 'american people', 'good', 'human right',\n",
       "       'behalf government', 'two', 'thank', 'make', 'know', 'party',\n",
       "       'democracy', 'including', 'celebrate', 'important', 'region',\n",
       "       'want', 'foreign', 'shared', 'democratic', 'health', 'global',\n",
       "       'value', 'new', 'around', 'pandemic', 'look forward', 'made',\n",
       "       'citizen', 'like', 'see', 'come', 'thing', 'free', 'anniversary',\n",
       "       'get', 'place', 'law', 'think', 'working', 'congratulate', 'many',\n",
       "       'relationship', 'take', 'communist', 'cooperation', 'best', 'way',\n",
       "       'election', 'going', 'first', 'political', 'republic', 'challenge',\n",
       "       'around world', 'iranian', 'back', 'communist party'], dtype=object)"
      ]
     },
     "execution_count": 48,
     "metadata": {},
     "output_type": "execute_result"
    }
   ],
   "source": [
    "pompeo_100_lemm = get_top_terms(dtm_pompeo_lemm, tfidf_vectorizer_final_lemm, 100)\n",
    "pompeo_100_lemm"
   ]
  },
  {
   "cell_type": "markdown",
   "id": "98f5198f",
   "metadata": {},
   "source": [
    "## Compare Both"
   ]
  },
  {
   "cell_type": "code",
   "execution_count": 49,
   "id": "f782d18d",
   "metadata": {},
   "outputs": [
    {
     "data": {
      "text/plain": [
       "74"
      ]
     },
     "execution_count": 49,
     "metadata": {},
     "output_type": "execute_result"
    },
    {
     "data": {
      "text/plain": [
       "['year',\n",
       " 'country',\n",
       " 'security',\n",
       " 'secretary',\n",
       " 'thank',\n",
       " 'also',\n",
       " 'world',\n",
       " 'together',\n",
       " 'support',\n",
       " 'today',\n",
       " 'day',\n",
       " 'work',\n",
       " 'government',\n",
       " 'continue',\n",
       " 'president',\n",
       " 'right',\n",
       " 'partner',\n",
       " 'forward',\n",
       " 'partnership',\n",
       " 'including',\n",
       " 'one',\n",
       " 'many',\n",
       " 'well',\n",
       " 'time',\n",
       " 'effort',\n",
       " 'look',\n",
       " 'department',\n",
       " 'good',\n",
       " 'international',\n",
       " 'behalf',\n",
       " 'america',\n",
       " 'working',\n",
       " 'foreign',\n",
       " 'human',\n",
       " 'challenge',\n",
       " 'independence',\n",
       " 'commitment',\n",
       " 'global',\n",
       " 'economic',\n",
       " 'around',\n",
       " 'look forward',\n",
       " 'think',\n",
       " 'important',\n",
       " 'see',\n",
       " 'wish',\n",
       " 'shared',\n",
       " 'human right',\n",
       " 'democratic',\n",
       " 'action',\n",
       " 'relationship',\n",
       " 'peace',\n",
       " 'democracy',\n",
       " 'make',\n",
       " 'value',\n",
       " 'new',\n",
       " 'way',\n",
       " 'region',\n",
       " 'around world',\n",
       " 'cooperation',\n",
       " 'first',\n",
       " 'like',\n",
       " 'two',\n",
       " 'celebrate',\n",
       " 'come',\n",
       " 'nation',\n",
       " 'going',\n",
       " 'american',\n",
       " 'national',\n",
       " 'want',\n",
       " 'thing',\n",
       " 'know',\n",
       " 'question',\n",
       " 'best',\n",
       " 'health']"
      ]
     },
     "execution_count": 49,
     "metadata": {},
     "output_type": "execute_result"
    }
   ],
   "source": [
    "same_terms_lemm = [i for i in blinken_100_lemm if i in pompeo_100_lemm]\n",
    "len(same_terms_lemm)\n",
    "same_terms_lemm"
   ]
  },
  {
   "cell_type": "code",
   "execution_count": 50,
   "id": "06c65928",
   "metadata": {},
   "outputs": [
    {
     "data": {
      "text/plain": [
       "26"
      ]
     },
     "execution_count": 50,
     "metadata": {},
     "output_type": "execute_result"
    },
    {
     "data": {
      "text/plain": [
       "['regime',\n",
       " 'iran',\n",
       " 'freedom',\n",
       " 'china',\n",
       " 'prosperity',\n",
       " 'chinese',\n",
       " 'american people',\n",
       " 'behalf government',\n",
       " 'party',\n",
       " 'pandemic',\n",
       " 'made',\n",
       " 'citizen',\n",
       " 'free',\n",
       " 'anniversary',\n",
       " 'get',\n",
       " 'place',\n",
       " 'law',\n",
       " 'congratulate',\n",
       " 'take',\n",
       " 'communist',\n",
       " 'election',\n",
       " 'political',\n",
       " 'republic',\n",
       " 'iranian',\n",
       " 'back',\n",
       " 'communist party']"
      ]
     },
     "execution_count": 50,
     "metadata": {},
     "output_type": "execute_result"
    }
   ],
   "source": [
    "pompeo_unique_lemm = [i for i in pompeo_100_lemm if i not in blinken_100_lemm]\n",
    "len(pompeo_unique_lemm)\n",
    "pompeo_unique_lemm"
   ]
  },
  {
   "cell_type": "code",
   "execution_count": 51,
   "id": "83ccb88d",
   "metadata": {},
   "outputs": [
    {
     "data": {
      "text/plain": [
       "26"
      ]
     },
     "execution_count": 51,
     "metadata": {},
     "output_type": "execute_result"
    },
    {
     "data": {
      "text/plain": [
       "['ukraine',\n",
       " 'russia',\n",
       " 'minister',\n",
       " 'much',\n",
       " 'russian',\n",
       " 'war',\n",
       " 'future',\n",
       " 'opportunity',\n",
       " 'ally',\n",
       " 'welcome',\n",
       " 'issue',\n",
       " 'strong',\n",
       " 'climate',\n",
       " 'committed',\n",
       " 'community',\n",
       " 'aggression',\n",
       " 'assistance',\n",
       " 'million',\n",
       " 'foreign minister',\n",
       " 'stand',\n",
       " 'everyone',\n",
       " 'every',\n",
       " 'say',\n",
       " 'behalf america',\n",
       " 'part',\n",
       " 'help']"
      ]
     },
     "execution_count": 51,
     "metadata": {},
     "output_type": "execute_result"
    }
   ],
   "source": [
    "blinken_unique_lemm = [i for i in blinken_100_lemm if i not in pompeo_100_lemm]\n",
    "len(blinken_unique_lemm)\n",
    "blinken_unique_lemm"
   ]
  }
 ],
 "metadata": {
  "kernelspec": {
   "display_name": "Python 3 (ipykernel)",
   "language": "python",
   "name": "python3"
  },
  "language_info": {
   "codemirror_mode": {
    "name": "ipython",
    "version": 3
   },
   "file_extension": ".py",
   "mimetype": "text/x-python",
   "name": "python",
   "nbconvert_exporter": "python",
   "pygments_lexer": "ipython3",
   "version": "3.9.12"
  }
 },
 "nbformat": 4,
 "nbformat_minor": 5
}
