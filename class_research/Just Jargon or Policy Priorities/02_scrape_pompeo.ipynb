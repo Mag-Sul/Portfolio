{
 "cells": [
  {
   "cell_type": "code",
   "execution_count": 1,
   "id": "f9ef42fa",
   "metadata": {},
   "outputs": [
    {
     "name": "stdout",
     "output_type": "stream",
     "text": [
      "Exception reporting mode: Minimal\n"
     ]
    }
   ],
   "source": [
    "# set up\n",
    "import requests \n",
    "import bs4\n",
    "import pandas as pd \n",
    "import numpy as np\n",
    "import time \n",
    "import matplotlib.pyplot as plt\n",
    "\n",
    "from IPython.core.interactiveshell import InteractiveShell \n",
    "InteractiveShell.ast_node_interactivity = \"all\"\n",
    "\n",
    "%xmode Minimal"
   ]
  },
  {
   "cell_type": "markdown",
   "id": "6343597d",
   "metadata": {
    "heading_collapsed": true
   },
   "source": [
    "## Page Scraping of Links"
   ]
  },
  {
   "cell_type": "code",
   "execution_count": 2,
   "id": "6e8c48a4",
   "metadata": {
    "hidden": true
   },
   "outputs": [],
   "source": [
    "# set headers \n",
    "my_header_list = {'User-Agent': 'Mozilla/5.0 (Macintosh; Intel Mac OS X 10_15_7) AppleWebKit/537.36 (KHTML, like Gecko) Chrome/118.0.0.0 Safari/537.36',\n",
    "              'Accept-Language': 'en-US,en;q=0.9'}"
   ]
  },
  {
   "cell_type": "markdown",
   "id": "2c205215",
   "metadata": {
    "heading_collapsed": true,
    "hidden": true
   },
   "source": [
    "### Scrape one page"
   ]
  },
  {
   "cell_type": "code",
   "execution_count": 17,
   "id": "0e90b82d",
   "metadata": {
    "hidden": true
   },
   "outputs": [],
   "source": [
    "# won't work for page 1 but will work for page 2 or no page (default page 1)\n",
    "website = 'https://2017-2021.state.gov/remarks-secretary-pompeo/'"
   ]
  },
  {
   "cell_type": "code",
   "execution_count": 18,
   "id": "50bcd9a6",
   "metadata": {
    "hidden": true
   },
   "outputs": [
    {
     "data": {
      "text/plain": [
       "<Response [200]>"
      ]
     },
     "execution_count": 18,
     "metadata": {},
     "output_type": "execute_result"
    }
   ],
   "source": [
    "server_response = requests.get(website, my_header_list)\n",
    "server_response"
   ]
  },
  {
   "cell_type": "code",
   "execution_count": 19,
   "id": "a64ead93",
   "metadata": {
    "hidden": true
   },
   "outputs": [],
   "source": [
    "soup = bs4.BeautifulSoup(server_response.content, features=\"html.parser\")"
   ]
  },
  {
   "cell_type": "code",
   "execution_count": 20,
   "id": "456693f9",
   "metadata": {
    "hidden": true
   },
   "outputs": [],
   "source": [
    "results = soup.find_all('li', class_ = 'collection-result') "
   ]
  },
  {
   "cell_type": "code",
   "execution_count": 25,
   "id": "997daab7",
   "metadata": {
    "hidden": true
   },
   "outputs": [
    {
     "data": {
      "text/plain": [
       "[<li class=\"collection-result\">\n",
       " <!-- add label if a report custom post in inculded in collection-->\n",
       " <p class=\"collection-result__date\">Interview</p>\n",
       " <a class=\"collection-result__link\" href=\"https://2017-2021.state.gov/secretary-michael-r-pompeo-with-john-roberts-of-fox-news-america-reports/\">\n",
       " \n",
       " \t\tSecretary Michael R. Pompeo With John Roberts of Fox News America Reports\n",
       " \t</a>\n",
       " <div class=\"collection-result-meta\">\n",
       " <span>Michael R. Pompeo</span>\n",
       " <span>January 19, 2021</span>\n",
       " <!--audience defaults to hidden, only show if switch is on-->\n",
       " <span>Via Teleconference</span>\n",
       " </div>\n",
       " </li>,\n",
       " <li class=\"collection-result\">\n",
       " <!-- add label if a report custom post in inculded in collection-->\n",
       " <p class=\"collection-result__date\">Press Statement</p>\n",
       " <a class=\"collection-result__link\" href=\"https://2017-2021.state.gov/determination-of-the-secretary-of-state-on-atrocities-in-xinjiang/\">\n",
       " \n",
       " \t\tDetermination of the Secretary of State on Atrocities in Xinjiang\n",
       " \t</a>\n",
       " <div class=\"collection-result-meta\">\n",
       " <span>Michael R. Pompeo</span>\n",
       " <span>January 19, 2021</span>\n",
       " </div>\n",
       " </li>,\n",
       " <li class=\"collection-result\">\n",
       " <!-- add label if a report custom post in inculded in collection-->\n",
       " <p class=\"collection-result__date\">Press Statement</p>\n",
       " <a class=\"collection-result__link\" href=\"https://2017-2021.state.gov/the-united-states-takes-further-action-against-enablers-of-venezuelan-oil-transactions-including-sanctions-evasion-network/\">\n",
       " \n",
       " \t\tThe United States Takes Further Action Against Enablers of Venezuelan Oil Transactions, Including Sanctions Evasion Network\n",
       " \t</a>\n",
       " <div class=\"collection-result-meta\">\n",
       " <span>Michael R. Pompeo</span>\n",
       " <span>January 19, 2021</span>\n",
       " </div>\n",
       " </li>,\n",
       " <li class=\"collection-result\">\n",
       " <!-- add label if a report custom post in inculded in collection-->\n",
       " <p class=\"collection-result__date\">Press Statement</p>\n",
       " <a class=\"collection-result__link\" href=\"https://2017-2021.state.gov/visa-restrictions-on-tanzanians-for-undermining-the-democratic-process-and-human-rights/\">\n",
       " \n",
       " \t\tVisa Restrictions on Tanzanians for Undermining the Democratic Process and Human Rights\n",
       " \t</a>\n",
       " <div class=\"collection-result-meta\">\n",
       " <span>Michael R. Pompeo</span>\n",
       " <span>January 19, 2021</span>\n",
       " </div>\n",
       " </li>,\n",
       " <li class=\"collection-result\">\n",
       " <!-- add label if a report custom post in inculded in collection-->\n",
       " <p class=\"collection-result__date\">Press Statement</p>\n",
       " <a class=\"collection-result__link\" href=\"https://2017-2021.state.gov/arrest-of-aleksey-navalny/\">\n",
       " \n",
       " \t\tArrest of Aleksey Navalny\n",
       " \t</a>\n",
       " <div class=\"collection-result-meta\">\n",
       " <span>Michael R. Pompeo</span>\n",
       " <span>January 17, 2021</span>\n",
       " </div>\n",
       " </li>,\n",
       " <li class=\"collection-result\">\n",
       " <!-- add label if a report custom post in inculded in collection-->\n",
       " <p class=\"collection-result__date\">Press Statement</p>\n",
       " <a class=\"collection-result__link\" href=\"https://2017-2021.state.gov/championing-americas-first-freedom/\">\n",
       " \n",
       " \t\tChampioning America’s First Freedom\n",
       " \t</a>\n",
       " <div class=\"collection-result-meta\">\n",
       " <span>Michael R. Pompeo</span>\n",
       " <span>January 16, 2021</span>\n",
       " </div>\n",
       " </li>,\n",
       " <li class=\"collection-result\">\n",
       " <!-- add label if a report custom post in inculded in collection-->\n",
       " <p class=\"collection-result__date\">Press Statement</p>\n",
       " <a class=\"collection-result__link\" href=\"https://2017-2021.state.gov/increasing-iran-metals-sanctions-targeting-irans-nuclear-military-and-ballistic-missile-programs-and-the-irgc/\">\n",
       " \n",
       " \t\tIncreasing Iran Metals Sanctions Targeting Iran’s Nuclear, Military, and Ballistic Missile Programs and the IRGC\n",
       " \t</a>\n",
       " <div class=\"collection-result-meta\">\n",
       " <span>Michael R. Pompeo</span>\n",
       " <span>January 15, 2021</span>\n",
       " </div>\n",
       " </li>,\n",
       " <li class=\"collection-result\">\n",
       " <!-- add label if a report custom post in inculded in collection-->\n",
       " <p class=\"collection-result__date\">Press Statement</p>\n",
       " <a class=\"collection-result__link\" href=\"https://2017-2021.state.gov/ensuring-a-transparent-thorough-investigation-of-covid-19s-origin/\">\n",
       " \n",
       " \t\tEnsuring a Transparent, Thorough Investigation of COVID-19’s Origin\n",
       " \t</a>\n",
       " <div class=\"collection-result-meta\">\n",
       " <span>Michael R. Pompeo</span>\n",
       " <span>January 15, 2021</span>\n",
       " </div>\n",
       " </li>,\n",
       " <li class=\"collection-result\">\n",
       " <!-- add label if a report custom post in inculded in collection-->\n",
       " <p class=\"collection-result__date\">Press Statement</p>\n",
       " <a class=\"collection-result__link\" href=\"https://2017-2021.state.gov/designating-prc-and-hong-kong-officials-after-widespread-pro-democracy-arrests-in-hong-kong/\">\n",
       " \n",
       " \t\tDesignating PRC and Hong Kong Officials After Widespread Pro-Democracy Arrests in Hong Kong\n",
       " \t</a>\n",
       " <div class=\"collection-result-meta\">\n",
       " <span>Michael R. Pompeo</span>\n",
       " <span>January 15, 2021</span>\n",
       " </div>\n",
       " </li>,\n",
       " <li class=\"collection-result\">\n",
       " <!-- add label if a report custom post in inculded in collection-->\n",
       " <p class=\"collection-result__date\">Press Statement</p>\n",
       " <a class=\"collection-result__link\" href=\"https://2017-2021.state.gov/united-states-places-global-magnitsky-sanctions-on-the-cuban-ministry-of-interior-and-its-minister/\">\n",
       " \n",
       " \t\tUnited States Places Global Magnitsky Sanctions on the Cuban Ministry of Interior and Its Minister\n",
       " \t</a>\n",
       " <div class=\"collection-result-meta\">\n",
       " <span>Michael R. Pompeo</span>\n",
       " <span>January 15, 2021</span>\n",
       " </div>\n",
       " </li>]"
      ]
     },
     "execution_count": 25,
     "metadata": {},
     "output_type": "execute_result"
    }
   ],
   "source": [
    "results"
   ]
  },
  {
   "cell_type": "code",
   "execution_count": 48,
   "id": "83093863",
   "metadata": {
    "hidden": true
   },
   "outputs": [],
   "source": [
    "results_list = [{'title': i.find('a', class_ = 'collection-result__link').text,\n",
    "                 'source': i.find_all('span')[0].text, # differs from blinken's site \n",
    "                 'date': i.find_all('span')[1].text,  # differs from blinken's site\n",
    "                 'type_of_release': i.find('p', class_ = 'collection-result__date').text,\n",
    "                 'link': i.find('a', class_ = 'collection-result__link')['href']} for i in results]"
   ]
  },
  {
   "cell_type": "code",
   "execution_count": 117,
   "id": "d7e5aa65",
   "metadata": {
    "hidden": true
   },
   "outputs": [
    {
     "data": {
      "text/plain": [
       "[{'title': '\\n\\n\\t\\tSecretary Michael R. Pompeo With John Roberts of Fox News America Reports\\n\\t',\n",
       "  'source': 'Michael R. Pompeo',\n",
       "  'date': 'January 19, 2021',\n",
       "  'type_of_release': 'Interview',\n",
       "  'link': 'https://2017-2021.state.gov/secretary-michael-r-pompeo-with-john-roberts-of-fox-news-america-reports/'},\n",
       " {'title': '\\n\\n\\t\\tDetermination of the Secretary of State on Atrocities in Xinjiang\\n\\t',\n",
       "  'source': 'Michael R. Pompeo',\n",
       "  'date': 'January 19, 2021',\n",
       "  'type_of_release': 'Press Statement',\n",
       "  'link': 'https://2017-2021.state.gov/determination-of-the-secretary-of-state-on-atrocities-in-xinjiang/'},\n",
       " {'title': '\\n\\n\\t\\tThe United States Takes Further Action Against Enablers of Venezuelan Oil Transactions, Including Sanctions Evasion Network\\n\\t',\n",
       "  'source': 'Michael R. Pompeo',\n",
       "  'date': 'January 19, 2021',\n",
       "  'type_of_release': 'Press Statement',\n",
       "  'link': 'https://2017-2021.state.gov/the-united-states-takes-further-action-against-enablers-of-venezuelan-oil-transactions-including-sanctions-evasion-network/'},\n",
       " {'title': '\\n\\n\\t\\tVisa Restrictions on Tanzanians for Undermining the Democratic Process and Human Rights\\n\\t',\n",
       "  'source': 'Michael R. Pompeo',\n",
       "  'date': 'January 19, 2021',\n",
       "  'type_of_release': 'Press Statement',\n",
       "  'link': 'https://2017-2021.state.gov/visa-restrictions-on-tanzanians-for-undermining-the-democratic-process-and-human-rights/'},\n",
       " {'title': '\\n\\n\\t\\tArrest of Aleksey Navalny\\n\\t',\n",
       "  'source': 'Michael R. Pompeo',\n",
       "  'date': 'January 17, 2021',\n",
       "  'type_of_release': 'Press Statement',\n",
       "  'link': 'https://2017-2021.state.gov/arrest-of-aleksey-navalny/'},\n",
       " {'title': '\\n\\n\\t\\tChampioning America’s First Freedom\\n\\t',\n",
       "  'source': 'Michael R. Pompeo',\n",
       "  'date': 'January 16, 2021',\n",
       "  'type_of_release': 'Press Statement',\n",
       "  'link': 'https://2017-2021.state.gov/championing-americas-first-freedom/'},\n",
       " {'title': '\\n\\n\\t\\tIncreasing Iran Metals Sanctions Targeting Iran’s Nuclear, Military, and Ballistic Missile Programs and the IRGC\\n\\t',\n",
       "  'source': 'Michael R. Pompeo',\n",
       "  'date': 'January 15, 2021',\n",
       "  'type_of_release': 'Press Statement',\n",
       "  'link': 'https://2017-2021.state.gov/increasing-iran-metals-sanctions-targeting-irans-nuclear-military-and-ballistic-missile-programs-and-the-irgc/'},\n",
       " {'title': '\\n\\n\\t\\tEnsuring a Transparent, Thorough Investigation of COVID-19’s Origin\\n\\t',\n",
       "  'source': 'Michael R. Pompeo',\n",
       "  'date': 'January 15, 2021',\n",
       "  'type_of_release': 'Press Statement',\n",
       "  'link': 'https://2017-2021.state.gov/ensuring-a-transparent-thorough-investigation-of-covid-19s-origin/'},\n",
       " {'title': '\\n\\n\\t\\tDesignating PRC and Hong Kong Officials After Widespread Pro-Democracy Arrests in Hong Kong\\n\\t',\n",
       "  'source': 'Michael R. Pompeo',\n",
       "  'date': 'January 15, 2021',\n",
       "  'type_of_release': 'Press Statement',\n",
       "  'link': 'https://2017-2021.state.gov/designating-prc-and-hong-kong-officials-after-widespread-pro-democracy-arrests-in-hong-kong/'},\n",
       " {'title': '\\n\\n\\t\\tUnited States Places Global Magnitsky Sanctions on the Cuban Ministry of Interior and Its Minister\\n\\t',\n",
       "  'source': 'Michael R. Pompeo',\n",
       "  'date': 'January 15, 2021',\n",
       "  'type_of_release': 'Press Statement',\n",
       "  'link': 'https://2017-2021.state.gov/united-states-places-global-magnitsky-sanctions-on-the-cuban-ministry-of-interior-and-its-minister/'}]"
      ]
     },
     "execution_count": 117,
     "metadata": {},
     "output_type": "execute_result"
    }
   ],
   "source": [
    "results_list"
   ]
  },
  {
   "cell_type": "code",
   "execution_count": 118,
   "id": "ed30bdd8",
   "metadata": {
    "hidden": true
   },
   "outputs": [],
   "source": [
    "df_1 = pd.DataFrame.from_dict(results_list)\n",
    "df_1['title'] = [i.strip() for i in df_1.title] # because original output has weird \n",
    "df_1['content'] = np.nan"
   ]
  },
  {
   "cell_type": "code",
   "execution_count": 119,
   "id": "6003f889",
   "metadata": {
    "hidden": true
   },
   "outputs": [
    {
     "data": {
      "text/html": [
       "<div>\n",
       "<style scoped>\n",
       "    .dataframe tbody tr th:only-of-type {\n",
       "        vertical-align: middle;\n",
       "    }\n",
       "\n",
       "    .dataframe tbody tr th {\n",
       "        vertical-align: top;\n",
       "    }\n",
       "\n",
       "    .dataframe thead th {\n",
       "        text-align: right;\n",
       "    }\n",
       "</style>\n",
       "<table border=\"1\" class=\"dataframe\">\n",
       "  <thead>\n",
       "    <tr style=\"text-align: right;\">\n",
       "      <th></th>\n",
       "      <th>title</th>\n",
       "      <th>source</th>\n",
       "      <th>date</th>\n",
       "      <th>type_of_release</th>\n",
       "      <th>link</th>\n",
       "      <th>content</th>\n",
       "    </tr>\n",
       "  </thead>\n",
       "  <tbody>\n",
       "    <tr>\n",
       "      <th>0</th>\n",
       "      <td>Secretary Michael R. Pompeo With John Roberts ...</td>\n",
       "      <td>Michael R. Pompeo</td>\n",
       "      <td>January 19, 2021</td>\n",
       "      <td>Interview</td>\n",
       "      <td>https://2017-2021.state.gov/secretary-michael-...</td>\n",
       "      <td>NaN</td>\n",
       "    </tr>\n",
       "    <tr>\n",
       "      <th>1</th>\n",
       "      <td>Determination of the Secretary of State on Atr...</td>\n",
       "      <td>Michael R. Pompeo</td>\n",
       "      <td>January 19, 2021</td>\n",
       "      <td>Press Statement</td>\n",
       "      <td>https://2017-2021.state.gov/determination-of-t...</td>\n",
       "      <td>NaN</td>\n",
       "    </tr>\n",
       "    <tr>\n",
       "      <th>2</th>\n",
       "      <td>The United States Takes Further Action Against...</td>\n",
       "      <td>Michael R. Pompeo</td>\n",
       "      <td>January 19, 2021</td>\n",
       "      <td>Press Statement</td>\n",
       "      <td>https://2017-2021.state.gov/the-united-states-...</td>\n",
       "      <td>NaN</td>\n",
       "    </tr>\n",
       "    <tr>\n",
       "      <th>3</th>\n",
       "      <td>Visa Restrictions on Tanzanians for Underminin...</td>\n",
       "      <td>Michael R. Pompeo</td>\n",
       "      <td>January 19, 2021</td>\n",
       "      <td>Press Statement</td>\n",
       "      <td>https://2017-2021.state.gov/visa-restrictions-...</td>\n",
       "      <td>NaN</td>\n",
       "    </tr>\n",
       "    <tr>\n",
       "      <th>4</th>\n",
       "      <td>Arrest of Aleksey Navalny</td>\n",
       "      <td>Michael R. Pompeo</td>\n",
       "      <td>January 17, 2021</td>\n",
       "      <td>Press Statement</td>\n",
       "      <td>https://2017-2021.state.gov/arrest-of-aleksey-...</td>\n",
       "      <td>NaN</td>\n",
       "    </tr>\n",
       "  </tbody>\n",
       "</table>\n",
       "</div>"
      ],
      "text/plain": [
       "                                               title             source  \\\n",
       "0  Secretary Michael R. Pompeo With John Roberts ...  Michael R. Pompeo   \n",
       "1  Determination of the Secretary of State on Atr...  Michael R. Pompeo   \n",
       "2  The United States Takes Further Action Against...  Michael R. Pompeo   \n",
       "3  Visa Restrictions on Tanzanians for Underminin...  Michael R. Pompeo   \n",
       "4                          Arrest of Aleksey Navalny  Michael R. Pompeo   \n",
       "\n",
       "               date  type_of_release  \\\n",
       "0  January 19, 2021        Interview   \n",
       "1  January 19, 2021  Press Statement   \n",
       "2  January 19, 2021  Press Statement   \n",
       "3  January 19, 2021  Press Statement   \n",
       "4  January 17, 2021  Press Statement   \n",
       "\n",
       "                                                link  content  \n",
       "0  https://2017-2021.state.gov/secretary-michael-...      NaN  \n",
       "1  https://2017-2021.state.gov/determination-of-t...      NaN  \n",
       "2  https://2017-2021.state.gov/the-united-states-...      NaN  \n",
       "3  https://2017-2021.state.gov/visa-restrictions-...      NaN  \n",
       "4  https://2017-2021.state.gov/arrest-of-aleksey-...      NaN  "
      ]
     },
     "execution_count": 119,
     "metadata": {},
     "output_type": "execute_result"
    }
   ],
   "source": [
    "df_1.head()"
   ]
  },
  {
   "cell_type": "markdown",
   "id": "573fb2c0",
   "metadata": {
    "hidden": true
   },
   "source": [
    "### Scrape many pages"
   ]
  },
  {
   "cell_type": "code",
   "execution_count": 54,
   "id": "ae6cb410",
   "metadata": {
    "hidden": true
   },
   "outputs": [],
   "source": [
    "# define webpage scraping \n",
    "def scrape_dos_pompeo(website, headers):\n",
    "    server_response = requests.get(website, headers)\n",
    "    time.sleep(5)\n",
    "    soup = bs4.BeautifulSoup(server_response.content, features=\"html.parser\")\n",
    "    results = soup.find_all('li', class_ = 'collection-result') \n",
    "    results_list = [{'title': i.find('a', class_ = 'collection-result__link').text,\n",
    "                 'source': i.find_all('span')[0].text,\n",
    "                 'date': i.find_all('span')[1].text, \n",
    "                 'type_of_release': i.find('p', class_ = 'collection-result__date').text,\n",
    "                'link': i.find('a', class_ = 'collection-result__link')['href']} for i in results]\n",
    "    df = pd.DataFrame.from_dict(results_list)\n",
    "    df['title'] = [i.strip() for i in df.title] # because original output has weird \n",
    "    df['content'] = np.nan\n",
    "    return df"
   ]
  },
  {
   "cell_type": "code",
   "execution_count": 120,
   "id": "2ec56ac0",
   "metadata": {
    "hidden": true
   },
   "outputs": [
    {
     "name": "stdout",
     "output_type": "stream",
     "text": [
      "Error: list index out of range at page 4\n"
     ]
    }
   ],
   "source": [
    "# try for pages 2-10\n",
    "\n",
    "df_list=[]\n",
    "\n",
    "for i in range(2,11):\n",
    "    try: \n",
    "        df = scrape_dos_pompeo(f'https://2017-2021.state.gov/remarks-secretary-pompeo/page/{i}/', my_header_list)\n",
    "        df['page_scraped'] = i \n",
    "        df_list.append(df)\n",
    "    except Exception as e:\n",
    "        print(f'Error: {e} at page {i}')"
   ]
  },
  {
   "cell_type": "code",
   "execution_count": 121,
   "id": "ec132f32",
   "metadata": {
    "hidden": true
   },
   "outputs": [
    {
     "data": {
      "text/plain": [
       "[                                               title             source  \\\n",
       " 0  Imposing Sanctions Related to the Islamic Repu...  Michael R. Pompeo   \n",
       " 1  Imposing Sanctions on Iranian Entities for Act...  Michael R. Pompeo   \n",
       " 2  Protecting and Preserving a Free and Open Sout...  Michael R. Pompeo   \n",
       " 3      10th Anniversary of the Revolution in Tunisia  Michael R. Pompeo   \n",
       " 4  The United States Targets Foundations Controll...  Michael R. Pompeo   \n",
       " 5                            The Iran-al-Qa’ida Axis  Michael R. Pompeo   \n",
       " 6  United States Takes Action To Counter Iranian ...  Michael R. Pompeo   \n",
       " 7  Secretary Michael R. Pompeo With Hugh Hewitt o...  Michael R. Pompeo   \n",
       " 8  Secretary Michael R. Pompeo Hoover Institution...  Michael R. Pompeo   \n",
       " 9             Reclaiming America’s Voice for Freedom  Michael R. Pompeo   \n",
       " \n",
       "                date  type_of_release  \\\n",
       " 0  January 15, 2021  Press Statement   \n",
       " 1  January 15, 2021  Press Statement   \n",
       " 2  January 14, 2021  Press Statement   \n",
       " 3  January 14, 2021  Press Statement   \n",
       " 4  January 13, 2021  Press Statement   \n",
       " 5  January 12, 2021           Speech   \n",
       " 6  January 12, 2021  Press Statement   \n",
       " 7  January 12, 2021        Interview   \n",
       " 8  January 12, 2021        Interview   \n",
       " 9  January 11, 2021           Speech   \n",
       " \n",
       "                                                 link  content  page_scraped  \n",
       " 0  https://2017-2021.state.gov/imposing-sanctions...      NaN             2  \n",
       " 1  https://2017-2021.state.gov/imposing-sanctions...      NaN             2  \n",
       " 2  https://2017-2021.state.gov/protecting-and-pre...      NaN             2  \n",
       " 3  https://2017-2021.state.gov/10th-anniversary-o...      NaN             2  \n",
       " 4  https://2017-2021.state.gov/the-united-states-...      NaN             2  \n",
       " 5  https://2017-2021.state.gov/the-iran-al-qaida-...      NaN             2  \n",
       " 6  https://2017-2021.state.gov/united-states-take...      NaN             2  \n",
       " 7  https://2017-2021.state.gov/secretary-michael-...      NaN             2  \n",
       " 8  https://2017-2021.state.gov/hoover-institution...      NaN             2  \n",
       " 9  https://2017-2021.state.gov/reclaiming-america...      NaN             2  ,\n",
       "                                                title             source  \\\n",
       " 0  U.S. Announces Designation of Cuba as a State ...  Michael R. Pompeo   \n",
       " 1  Sanctioning Russia-linked Disinformation Netwo...  Michael R. Pompeo   \n",
       " 2       Terrorist Designation of Ansarallah in Yemen  Michael R. Pompeo   \n",
       " 3         Iran Threatening To Expel UN Investigators  Michael R. Pompeo   \n",
       " 4  Lifting Self-Imposed Restrictions on the U.S.-...  Michael R. Pompeo   \n",
       " 5                   Remembering the Victims of PS752  Michael R. Pompeo   \n",
       " 6  Designation of Iraqi Militia Leader in Connect...  Michael R. Pompeo   \n",
       " 7  On the Mass Arrests of Democracy Advocates in ...  Michael R. Pompeo   \n",
       " 8  The United States Welcomes the Breakthrough To...  Michael R. Pompeo   \n",
       " 9  The United States Continues To Recognize Inter...  Michael R. Pompeo   \n",
       " \n",
       "                date  type_of_release  \\\n",
       " 0  January 11, 2021  Press Statement   \n",
       " 1  January 11, 2021  Press Statement   \n",
       " 2  January 10, 2021  Press Statement   \n",
       " 3   January 9, 2021  Press Statement   \n",
       " 4   January 9, 2021  Press Statement   \n",
       " 5   January 9, 2021  Press Statement   \n",
       " 6   January 8, 2021  Press Statement   \n",
       " 7   January 6, 2021  Press Statement   \n",
       " 8   January 5, 2021  Press Statement   \n",
       " 9   January 5, 2021  Press Statement   \n",
       " \n",
       "                                                 link  content  page_scraped  \n",
       " 0  https://2017-2021.state.gov/u-s-announces-desi...      NaN             3  \n",
       " 1  https://2017-2021.state.gov/sanctioning-russia...      NaN             3  \n",
       " 2  https://2017-2021.state.gov/terrorist-designat...      NaN             3  \n",
       " 3  https://2017-2021.state.gov/iran-threatening-t...      NaN             3  \n",
       " 4  https://2017-2021.state.gov/lifting-self-impos...      NaN             3  \n",
       " 5  https://2017-2021.state.gov/remembering-the-vi...      NaN             3  \n",
       " 6  https://2017-2021.state.gov/designation-of-ira...      NaN             3  \n",
       " 7  https://2017-2021.state.gov/on-the-mass-arrest...      NaN             3  \n",
       " 8  https://2017-2021.state.gov/the-united-states-...      NaN             3  \n",
       " 9  https://2017-2021.state.gov/the-united-states-...      NaN             3  ,\n",
       "                                                title             source  \\\n",
       " 0  The United States Sanctions Venezuelan Officia...  Michael R. Pompeo   \n",
       " 1  On the Silencing and Prosecution of PRC Citize...  Michael R. Pompeo   \n",
       " 2  Protecting U.S. Investors from Financing Commu...  Michael R. Pompeo   \n",
       " 3  The Ortega Regime’s New Authoritarian Law Unde...  Michael R. Pompeo   \n",
       " 4  Announcement of New Virtual Presence Post for ...  Michael R. Pompeo   \n",
       " 5  Imposing Sanctions and Visa Restrictions on Ad...  Michael R. Pompeo   \n",
       " 6  Syria Sanctions Designations on the Anniversar...  Michael R. Pompeo   \n",
       " 7               Israel-Lebanon Maritime Negotiations  Michael R. Pompeo   \n",
       " 8  Eric Ueland Designated Authorities and Functio...  Michael R. Pompeo   \n",
       " 9  On Nathan Sales’s Service as Senior Official, ...  Michael R. Pompeo   \n",
       " \n",
       "                 date  type_of_release  \\\n",
       " 0  December 30, 2020  Press Statement   \n",
       " 1  December 29, 2020  Press Statement   \n",
       " 2  December 28, 2020  Press Statement   \n",
       " 3  December 24, 2020  Press Statement   \n",
       " 4  December 24, 2020  Press Statement   \n",
       " 5  December 23, 2020  Press Statement   \n",
       " 6  December 22, 2020  Press Statement   \n",
       " 7  December 22, 2020  Press Statement   \n",
       " 8  December 21, 2020  Press Statement   \n",
       " 9  December 21, 2020  Press Statement   \n",
       " \n",
       "                                                 link  content  page_scraped  \n",
       " 0  https://2017-2021.state.gov/the-united-states-...      NaN             5  \n",
       " 1  https://2017-2021.state.gov/on-the-silencing-a...      NaN             5  \n",
       " 2  https://2017-2021.state.gov/protecting-u-s-inv...      NaN             5  \n",
       " 3  https://2017-2021.state.gov/the-ortega-regimes...      NaN             5  \n",
       " 4  https://2017-2021.state.gov/announcement-of-ne...      NaN             5  \n",
       " 5  https://2017-2021.state.gov/imposing-sanctions...      NaN             5  \n",
       " 6  https://2017-2021.state.gov/syria-sanctions-de...      NaN             5  \n",
       " 7  https://2017-2021.state.gov/israel-lebanon-mar...      NaN             5  \n",
       " 8  https://2017-2021.state.gov/eric-ueland-design...      NaN             5  \n",
       " 9  https://2017-2021.state.gov/on-nathan-saless-s...      NaN             5  ,\n",
       "                                                title             source  \\\n",
       " 0  Additional Restrictions on the Issuance of Vis...  Michael R. Pompeo   \n",
       " 1  Additions of Cuban Military-Owned Companies to...  Michael R. Pompeo   \n",
       " 2  The United States Sanctions a Nicaraguan Polic...  Michael R. Pompeo   \n",
       " 3                              Rocket Attack in Iraq  Michael R. Pompeo   \n",
       " 4  Secretary Michael R. Pompeo With Nino Scalia o...  Michael R. Pompeo   \n",
       " 5  Secretary Michael R. Pompeo With Mark Levin of...  Michael R. Pompeo   \n",
       " 6  U.S. Imposes New Sanctions on People’s Republi...  Michael R. Pompeo   \n",
       " 7   The Free World’s Leadership Will Defeat COVID-19  Michael R. Pompeo   \n",
       " 8  Release of the U.S. Strategy to Prevent Confli...  Michael R. Pompeo   \n",
       " 9  The United States Takes Actions Against Suppor...  Michael R. Pompeo   \n",
       " \n",
       "                 date  type_of_release  \\\n",
       " 0  December 21, 2020  Press Statement   \n",
       " 1  December 21, 2020  Press Statement   \n",
       " 2  December 21, 2020  Press Statement   \n",
       " 3  December 20, 2020  Press Statement   \n",
       " 4  December 18, 2020        Interview   \n",
       " 5  December 18, 2020        Interview   \n",
       " 6  December 18, 2020  Press Statement   \n",
       " 7  December 18, 2020  Press Statement   \n",
       " 8  December 18, 2020  Press Statement   \n",
       " 9  December 18, 2020  Press Statement   \n",
       " \n",
       "                                                 link  content  page_scraped  \n",
       " 0  https://2017-2021.state.gov/additional-restric...      NaN             6  \n",
       " 1  https://2017-2021.state.gov/additions-of-cuban...      NaN             6  \n",
       " 2  https://2017-2021.state.gov/the-united-states-...      NaN             6  \n",
       " 3  https://2017-2021.state.gov/rocket-attack-in-i...      NaN             6  \n",
       " 4  https://2017-2021.state.gov/secretary-michael-...      NaN             6  \n",
       " 5  https://2017-2021.state.gov/secretary-michael-...      NaN             6  \n",
       " 6  https://2017-2021.state.gov/u-s-imposes-new-sa...      NaN             6  \n",
       " 7  https://2017-2021.state.gov/the-free-worlds-le...      NaN             6  \n",
       " 8  https://2017-2021.state.gov/release-of-the-u-s...      NaN             6  \n",
       " 9  https://2017-2021.state.gov/the-united-states-...      NaN             6  ,\n",
       "                                                title             source  \\\n",
       " 0                                 Qatar National Day  Michael R. Pompeo   \n",
       " 1  The United States Supports the Voices of the V...  Michael R. Pompeo   \n",
       " 2  Sanctioning Supporters of Iran’s Petroleum and...  Michael R. Pompeo   \n",
       " 3                               Bahrain National Day  Michael R. Pompeo   \n",
       " 4                                Bhutan National Day  Michael R. Pompeo   \n",
       " 5  Secretary Michael R. Pompeo With Ben Shapiro o...  Michael R. Pompeo   \n",
       " 6                        Kazakhstan Independence Day  Michael R. Pompeo   \n",
       " 7  State Department Terrorist Designation of Sara...  Michael R. Pompeo   \n",
       " 8             Russian Influence in the Mediterranean  Michael R. Pompeo   \n",
       " 9  Condolences on the Passing of Prime Minister A...  Michael R. Pompeo   \n",
       " \n",
       "                 date  type_of_release  \\\n",
       " 0  December 18, 2020  Press Statement   \n",
       " 1  December 16, 2020  Press Statement   \n",
       " 2  December 16, 2020  Press Statement   \n",
       " 3  December 16, 2020  Press Statement   \n",
       " 4  December 16, 2020  Press Statement   \n",
       " 5  December 15, 2020        Interview   \n",
       " 6  December 15, 2020  Press Statement   \n",
       " 7  December 15, 2020  Press Statement   \n",
       " 8  December 15, 2020  Press Statement   \n",
       " 9  December 14, 2020  Press Statement   \n",
       " \n",
       "                                                 link  content  page_scraped  \n",
       " 0    https://2017-2021.state.gov/qatar-national-day/      NaN             7  \n",
       " 1  https://2017-2021.state.gov/the-united-states-...      NaN             7  \n",
       " 2  https://2017-2021.state.gov/sanctioning-suppor...      NaN             7  \n",
       " 3  https://2017-2021.state.gov/bahrain-national-day/      NaN             7  \n",
       " 4  https://2017-2021.state.gov/bhutan-national-da...      NaN             7  \n",
       " 5  https://2017-2021.state.gov/secretary-michael-...      NaN             7  \n",
       " 6  https://2017-2021.state.gov/kazakhstan-indepen...      NaN             7  \n",
       " 7  https://2017-2021.state.gov/state-department-t...      NaN             7  \n",
       " 8  https://2017-2021.state.gov/russian-influence-...      NaN             7  \n",
       " 9  https://2017-2021.state.gov/condolences-on-the...      NaN             7  ,\n",
       "                                                title             source  \\\n",
       " 0  The United States Sanctions Turkey Under CAATS...  Michael R. Pompeo   \n",
       " 1  Sanctioning Iranian Intelligence Officers Invo...  Michael R. Pompeo   \n",
       " 2  Secretary Michael R. Pompeo With Rob Schmitt o...  Michael R. Pompeo   \n",
       " 3  Secretary Michael R. Pompeo With Alex Marlow o...  Michael R. Pompeo   \n",
       " 4               The Republic of Kenya’s National Day  Michael R. Pompeo   \n",
       " 5                           On Progress Toward Peace  Michael R. Pompeo   \n",
       " 6  Iran’s Efforts at Intimidation Must Not Be Rew...  Michael R. Pompeo   \n",
       " 7                        Burkina Faso’s National Day  Michael R. Pompeo   \n",
       " 8  Secretary Michael R. Pompeo with Tony Perkins ...  Michael R. Pompeo   \n",
       " 9        Rebranding United States Foreign Assistance  Michael R. Pompeo   \n",
       " \n",
       "                 date  type_of_release  \\\n",
       " 0  December 14, 2020  Press Statement   \n",
       " 1  December 14, 2020  Press Statement   \n",
       " 2  December 14, 2020        Interview   \n",
       " 3  December 14, 2020        Interview   \n",
       " 4  December 12, 2020  Press Statement   \n",
       " 5  December 11, 2020  Press Statement   \n",
       " 6  December 11, 2020  Press Statement   \n",
       " 7  December 11, 2020  Press Statement   \n",
       " 8  December 10, 2020        Interview   \n",
       " 9  December 10, 2020  Press Statement   \n",
       " \n",
       "                                                 link  content  page_scraped  \n",
       " 0  https://2017-2021.state.gov/the-united-states-...      NaN             8  \n",
       " 1  https://2017-2021.state.gov/sanctioning-irania...      NaN             8  \n",
       " 2  https://2017-2021.state.gov/secretary-michael-...      NaN             8  \n",
       " 3  https://2017-2021.state.gov/secretary-michael-...      NaN             8  \n",
       " 4  https://2017-2021.state.gov/the-republic-of-ke...      NaN             8  \n",
       " 5  https://2017-2021.state.gov/on-progress-toward...      NaN             8  \n",
       " 6  https://2017-2021.state.gov/irans-efforts-at-i...      NaN             8  \n",
       " 7  https://2017-2021.state.gov/burkina-fasos-nati...      NaN             8  \n",
       " 8  https://2017-2021.state.gov/secretary-michael-...      NaN             8  \n",
       " 9  https://2017-2021.state.gov/rebranding-united-...      NaN             8  ,\n",
       "                                                title             source  \\\n",
       " 0  United States and Partners Promote Accountabil...  Michael R. Pompeo   \n",
       " 1  Public Designations of Current and Former Gove...  Michael R. Pompeo   \n",
       " 2              The President’s National Space Policy  Michael R. Pompeo   \n",
       " 3                     International Human Rights Day  Michael R. Pompeo   \n",
       " 4  The Chinese Communist Party on the American Ca...  Michael R. Pompeo   \n",
       " 5  President Trump’s Executive Order on Ensuring ...  Michael R. Pompeo   \n",
       " 6  The United States Sanctions IRGC Facilitators ...  Michael R. Pompeo   \n",
       " 7  The United States Applauds the Interim Governm...  Michael R. Pompeo   \n",
       " 8  Secretary Michael R. Pompeo With Matt Murray o...  Michael R. Pompeo   \n",
       " 9  Secretary Michael R. Pompeo With Guy Benson of...  Michael R. Pompeo   \n",
       " \n",
       "                 date  type_of_release  \\\n",
       " 0  December 10, 2020  Press Statement   \n",
       " 1  December 10, 2020  Press Statement   \n",
       " 2  December 10, 2020  Press Statement   \n",
       " 3  December 10, 2020  Press Statement   \n",
       " 4   December 9, 2020           Speech   \n",
       " 5   December 8, 2020  Press Statement   \n",
       " 6   December 8, 2020  Press Statement   \n",
       " 7   December 8, 2020  Press Statement   \n",
       " 8   December 7, 2020        Interview   \n",
       " 9   December 7, 2020        Interview   \n",
       " \n",
       "                                                 link  content  page_scraped  \n",
       " 0  https://2017-2021.state.gov/united-states-and-...      NaN             9  \n",
       " 1  https://2017-2021.state.gov/public-designation...      NaN             9  \n",
       " 2  https://2017-2021.state.gov/the-presidents-nat...      NaN             9  \n",
       " 3  https://2017-2021.state.gov/international-huma...      NaN             9  \n",
       " 4  https://2017-2021.state.gov/the-chinese-commun...      NaN             9  \n",
       " 5  https://2017-2021.state.gov/president-trumps-e...      NaN             9  \n",
       " 6  https://2017-2021.state.gov/the-united-states-...      NaN             9  \n",
       " 7  https://2017-2021.state.gov/the-united-states-...      NaN             9  \n",
       " 8  https://2017-2021.state.gov/secretary-michael-...      NaN             9  \n",
       " 9  https://2017-2021.state.gov/secretary-michael-...      NaN             9  ,\n",
       "                                                title             source  \\\n",
       " 0  United States Takes Action Against Violators o...  Michael R. Pompeo   \n",
       " 1  Designations of National People’s Congress Off...  Michael R. Pompeo   \n",
       " 2  The United States Condemns Venezuela’s Fraudul...  Michael R. Pompeo   \n",
       " 3  On the EU’s Adoption of a Human Rights Sanctio...  Michael R. Pompeo   \n",
       " 4                               Finland National Day  Michael R. Pompeo   \n",
       " 5  U.S. Welcomes First Meeting of the Afghanistan...  Michael R. Pompeo   \n",
       " 6             The Kingdom of Thailand’s National Day  Michael R. Pompeo   \n",
       " 7      Termination of PRC-Funded Propaganda Programs  Michael R. Pompeo   \n",
       " 8   U.S. Commends Slovenia for Designating Hizballah  Michael R. Pompeo   \n",
       " 9  Secretary Michael R. Pompeo at the IISS Manama...  Michael R. Pompeo   \n",
       " \n",
       "                date  type_of_release  \\\n",
       " 0  December 7, 2020  Press Statement   \n",
       " 1  December 7, 2020  Press Statement   \n",
       " 2  December 7, 2020  Press Statement   \n",
       " 3  December 7, 2020  Press Statement   \n",
       " 4  December 6, 2020  Press Statement   \n",
       " 5  December 5, 2020  Press Statement   \n",
       " 6  December 5, 2020  Press Statement   \n",
       " 7  December 4, 2020  Press Statement   \n",
       " 8  December 4, 2020  Press Statement   \n",
       " 9  December 4, 2020          Remarks   \n",
       " \n",
       "                                                 link  content  page_scraped  \n",
       " 0  https://2017-2021.state.gov/united-states-take...      NaN            10  \n",
       " 1  https://2017-2021.state.gov/designations-of-na...      NaN            10  \n",
       " 2  https://2017-2021.state.gov/the-united-states-...      NaN            10  \n",
       " 3  https://2017-2021.state.gov/on-the-eus-adoptio...      NaN            10  \n",
       " 4  https://2017-2021.state.gov/finland-national-d...      NaN            10  \n",
       " 5  https://2017-2021.state.gov/u-s-welcomes-first...      NaN            10  \n",
       " 6  https://2017-2021.state.gov/the-kingdom-of-tha...      NaN            10  \n",
       " 7  https://2017-2021.state.gov/termination-of-prc...      NaN            10  \n",
       " 8  https://2017-2021.state.gov/u-s-commends-slove...      NaN            10  \n",
       " 9  https://2017-2021.state.gov/secretary-michael-...      NaN            10  ]"
      ]
     },
     "execution_count": 121,
     "metadata": {},
     "output_type": "execute_result"
    }
   ],
   "source": [
    "df_list"
   ]
  },
  {
   "cell_type": "code",
   "execution_count": 122,
   "id": "3a3c6c69",
   "metadata": {
    "hidden": true
   },
   "outputs": [],
   "source": [
    "combined = pd.concat(df_list, ignore_index = True)"
   ]
  },
  {
   "cell_type": "code",
   "execution_count": 123,
   "id": "cc3f6dd8",
   "metadata": {
    "hidden": true
   },
   "outputs": [],
   "source": [
    "combined_df = pd.concat([df_1, combined], ignore_index=True)"
   ]
  },
  {
   "cell_type": "code",
   "execution_count": 124,
   "id": "72a55e04",
   "metadata": {
    "hidden": true
   },
   "outputs": [
    {
     "data": {
      "text/html": [
       "<div>\n",
       "<style scoped>\n",
       "    .dataframe tbody tr th:only-of-type {\n",
       "        vertical-align: middle;\n",
       "    }\n",
       "\n",
       "    .dataframe tbody tr th {\n",
       "        vertical-align: top;\n",
       "    }\n",
       "\n",
       "    .dataframe thead th {\n",
       "        text-align: right;\n",
       "    }\n",
       "</style>\n",
       "<table border=\"1\" class=\"dataframe\">\n",
       "  <thead>\n",
       "    <tr style=\"text-align: right;\">\n",
       "      <th></th>\n",
       "      <th>title</th>\n",
       "      <th>source</th>\n",
       "      <th>date</th>\n",
       "      <th>type_of_release</th>\n",
       "      <th>link</th>\n",
       "      <th>content</th>\n",
       "      <th>page_scraped</th>\n",
       "    </tr>\n",
       "  </thead>\n",
       "  <tbody>\n",
       "    <tr>\n",
       "      <th>0</th>\n",
       "      <td>Secretary Michael R. Pompeo With John Roberts ...</td>\n",
       "      <td>Michael R. Pompeo</td>\n",
       "      <td>January 19, 2021</td>\n",
       "      <td>Interview</td>\n",
       "      <td>https://2017-2021.state.gov/secretary-michael-...</td>\n",
       "      <td>NaN</td>\n",
       "      <td>NaN</td>\n",
       "    </tr>\n",
       "    <tr>\n",
       "      <th>1</th>\n",
       "      <td>Determination of the Secretary of State on Atr...</td>\n",
       "      <td>Michael R. Pompeo</td>\n",
       "      <td>January 19, 2021</td>\n",
       "      <td>Press Statement</td>\n",
       "      <td>https://2017-2021.state.gov/determination-of-t...</td>\n",
       "      <td>NaN</td>\n",
       "      <td>NaN</td>\n",
       "    </tr>\n",
       "    <tr>\n",
       "      <th>2</th>\n",
       "      <td>The United States Takes Further Action Against...</td>\n",
       "      <td>Michael R. Pompeo</td>\n",
       "      <td>January 19, 2021</td>\n",
       "      <td>Press Statement</td>\n",
       "      <td>https://2017-2021.state.gov/the-united-states-...</td>\n",
       "      <td>NaN</td>\n",
       "      <td>NaN</td>\n",
       "    </tr>\n",
       "    <tr>\n",
       "      <th>3</th>\n",
       "      <td>Visa Restrictions on Tanzanians for Underminin...</td>\n",
       "      <td>Michael R. Pompeo</td>\n",
       "      <td>January 19, 2021</td>\n",
       "      <td>Press Statement</td>\n",
       "      <td>https://2017-2021.state.gov/visa-restrictions-...</td>\n",
       "      <td>NaN</td>\n",
       "      <td>NaN</td>\n",
       "    </tr>\n",
       "    <tr>\n",
       "      <th>4</th>\n",
       "      <td>Arrest of Aleksey Navalny</td>\n",
       "      <td>Michael R. Pompeo</td>\n",
       "      <td>January 17, 2021</td>\n",
       "      <td>Press Statement</td>\n",
       "      <td>https://2017-2021.state.gov/arrest-of-aleksey-...</td>\n",
       "      <td>NaN</td>\n",
       "      <td>NaN</td>\n",
       "    </tr>\n",
       "  </tbody>\n",
       "</table>\n",
       "</div>"
      ],
      "text/plain": [
       "                                               title             source  \\\n",
       "0  Secretary Michael R. Pompeo With John Roberts ...  Michael R. Pompeo   \n",
       "1  Determination of the Secretary of State on Atr...  Michael R. Pompeo   \n",
       "2  The United States Takes Further Action Against...  Michael R. Pompeo   \n",
       "3  Visa Restrictions on Tanzanians for Underminin...  Michael R. Pompeo   \n",
       "4                          Arrest of Aleksey Navalny  Michael R. Pompeo   \n",
       "\n",
       "               date  type_of_release  \\\n",
       "0  January 19, 2021        Interview   \n",
       "1  January 19, 2021  Press Statement   \n",
       "2  January 19, 2021  Press Statement   \n",
       "3  January 19, 2021  Press Statement   \n",
       "4  January 17, 2021  Press Statement   \n",
       "\n",
       "                                                link  content  page_scraped  \n",
       "0  https://2017-2021.state.gov/secretary-michael-...      NaN           NaN  \n",
       "1  https://2017-2021.state.gov/determination-of-t...      NaN           NaN  \n",
       "2  https://2017-2021.state.gov/the-united-states-...      NaN           NaN  \n",
       "3  https://2017-2021.state.gov/visa-restrictions-...      NaN           NaN  \n",
       "4  https://2017-2021.state.gov/arrest-of-aleksey-...      NaN           NaN  "
      ]
     },
     "execution_count": 124,
     "metadata": {},
     "output_type": "execute_result"
    }
   ],
   "source": [
    "combined_df.head()"
   ]
  },
  {
   "cell_type": "code",
   "execution_count": 125,
   "id": "455379d3",
   "metadata": {
    "hidden": true
   },
   "outputs": [
    {
     "data": {
      "text/plain": [
       "array([nan,  2.,  3.,  5.,  6.,  7.,  8.,  9., 10.])"
      ]
     },
     "execution_count": 125,
     "metadata": {},
     "output_type": "execute_result"
    }
   ],
   "source": [
    "combined_df.page_scraped.unique()\n",
    "# need to redo page 4 "
   ]
  },
  {
   "cell_type": "code",
   "execution_count": 126,
   "id": "78567732",
   "metadata": {
    "hidden": true
   },
   "outputs": [],
   "source": [
    "# safety \n",
    "combined_df.to_csv('pompeo_backup.csv')"
   ]
  },
  {
   "cell_type": "code",
   "execution_count": 127,
   "id": "a5056de0",
   "metadata": {
    "hidden": true
   },
   "outputs": [
    {
     "name": "stdout",
     "output_type": "stream",
     "text": [
      "Error: 'NoneType' object has no attribute 'text' at page 22\n"
     ]
    }
   ],
   "source": [
    "df_list=[]\n",
    "\n",
    "for i in range(11,101):\n",
    "    try: \n",
    "        df = scrape_dos_pompeo(f'https://2017-2021.state.gov/remarks-secretary-pompeo/page/{i}/', my_header_list)\n",
    "        df['page_scraped'] = i \n",
    "        df_list.append(df)\n",
    "    except Exception as e:\n",
    "        print(f'Error: {e} at page {i}')\n",
    "        \n",
    "# need to retry page 22\n",
    "#Error: 'NoneType' object has no attribute 'text' at page 22"
   ]
  },
  {
   "cell_type": "code",
   "execution_count": 128,
   "id": "19f32a37",
   "metadata": {
    "hidden": true
   },
   "outputs": [],
   "source": [
    "combined2 = pd.concat(df_list, ignore_index = True)"
   ]
  },
  {
   "cell_type": "code",
   "execution_count": 129,
   "id": "cc37920d",
   "metadata": {
    "hidden": true
   },
   "outputs": [],
   "source": [
    "combined_df2 = pd.concat([combined_df, combined2], ignore_index=True)"
   ]
  },
  {
   "cell_type": "code",
   "execution_count": 130,
   "id": "c797c93d",
   "metadata": {
    "hidden": true
   },
   "outputs": [
    {
     "name": "stdout",
     "output_type": "stream",
     "text": [
      "<class 'pandas.core.frame.DataFrame'>\n",
      "RangeIndex: 980 entries, 0 to 979\n",
      "Data columns (total 7 columns):\n",
      " #   Column           Non-Null Count  Dtype  \n",
      "---  ------           --------------  -----  \n",
      " 0   title            980 non-null    object \n",
      " 1   source           980 non-null    object \n",
      " 2   date             980 non-null    object \n",
      " 3   type_of_release  980 non-null    object \n",
      " 4   link             980 non-null    object \n",
      " 5   content          0 non-null      float64\n",
      " 6   page_scraped     970 non-null    float64\n",
      "dtypes: float64(2), object(5)\n",
      "memory usage: 53.7+ KB\n"
     ]
    }
   ],
   "source": [
    "combined_df2.info()"
   ]
  },
  {
   "cell_type": "code",
   "execution_count": 131,
   "id": "f17b448e",
   "metadata": {
    "hidden": true
   },
   "outputs": [
    {
     "data": {
      "text/html": [
       "<div>\n",
       "<style scoped>\n",
       "    .dataframe tbody tr th:only-of-type {\n",
       "        vertical-align: middle;\n",
       "    }\n",
       "\n",
       "    .dataframe tbody tr th {\n",
       "        vertical-align: top;\n",
       "    }\n",
       "\n",
       "    .dataframe thead th {\n",
       "        text-align: right;\n",
       "    }\n",
       "</style>\n",
       "<table border=\"1\" class=\"dataframe\">\n",
       "  <thead>\n",
       "    <tr style=\"text-align: right;\">\n",
       "      <th></th>\n",
       "      <th>title</th>\n",
       "      <th>source</th>\n",
       "      <th>date</th>\n",
       "      <th>type_of_release</th>\n",
       "      <th>link</th>\n",
       "      <th>content</th>\n",
       "      <th>page_scraped</th>\n",
       "    </tr>\n",
       "  </thead>\n",
       "  <tbody>\n",
       "    <tr>\n",
       "      <th>0</th>\n",
       "      <td>Secretary Michael R. Pompeo With John Roberts ...</td>\n",
       "      <td>Michael R. Pompeo</td>\n",
       "      <td>January 19, 2021</td>\n",
       "      <td>Interview</td>\n",
       "      <td>https://2017-2021.state.gov/secretary-michael-...</td>\n",
       "      <td>NaN</td>\n",
       "      <td>NaN</td>\n",
       "    </tr>\n",
       "    <tr>\n",
       "      <th>1</th>\n",
       "      <td>Determination of the Secretary of State on Atr...</td>\n",
       "      <td>Michael R. Pompeo</td>\n",
       "      <td>January 19, 2021</td>\n",
       "      <td>Press Statement</td>\n",
       "      <td>https://2017-2021.state.gov/determination-of-t...</td>\n",
       "      <td>NaN</td>\n",
       "      <td>NaN</td>\n",
       "    </tr>\n",
       "    <tr>\n",
       "      <th>2</th>\n",
       "      <td>The United States Takes Further Action Against...</td>\n",
       "      <td>Michael R. Pompeo</td>\n",
       "      <td>January 19, 2021</td>\n",
       "      <td>Press Statement</td>\n",
       "      <td>https://2017-2021.state.gov/the-united-states-...</td>\n",
       "      <td>NaN</td>\n",
       "      <td>NaN</td>\n",
       "    </tr>\n",
       "    <tr>\n",
       "      <th>3</th>\n",
       "      <td>Visa Restrictions on Tanzanians for Underminin...</td>\n",
       "      <td>Michael R. Pompeo</td>\n",
       "      <td>January 19, 2021</td>\n",
       "      <td>Press Statement</td>\n",
       "      <td>https://2017-2021.state.gov/visa-restrictions-...</td>\n",
       "      <td>NaN</td>\n",
       "      <td>NaN</td>\n",
       "    </tr>\n",
       "    <tr>\n",
       "      <th>4</th>\n",
       "      <td>Arrest of Aleksey Navalny</td>\n",
       "      <td>Michael R. Pompeo</td>\n",
       "      <td>January 17, 2021</td>\n",
       "      <td>Press Statement</td>\n",
       "      <td>https://2017-2021.state.gov/arrest-of-aleksey-...</td>\n",
       "      <td>NaN</td>\n",
       "      <td>NaN</td>\n",
       "    </tr>\n",
       "  </tbody>\n",
       "</table>\n",
       "</div>"
      ],
      "text/plain": [
       "                                               title             source  \\\n",
       "0  Secretary Michael R. Pompeo With John Roberts ...  Michael R. Pompeo   \n",
       "1  Determination of the Secretary of State on Atr...  Michael R. Pompeo   \n",
       "2  The United States Takes Further Action Against...  Michael R. Pompeo   \n",
       "3  Visa Restrictions on Tanzanians for Underminin...  Michael R. Pompeo   \n",
       "4                          Arrest of Aleksey Navalny  Michael R. Pompeo   \n",
       "\n",
       "               date  type_of_release  \\\n",
       "0  January 19, 2021        Interview   \n",
       "1  January 19, 2021  Press Statement   \n",
       "2  January 19, 2021  Press Statement   \n",
       "3  January 19, 2021  Press Statement   \n",
       "4  January 17, 2021  Press Statement   \n",
       "\n",
       "                                                link  content  page_scraped  \n",
       "0  https://2017-2021.state.gov/secretary-michael-...      NaN           NaN  \n",
       "1  https://2017-2021.state.gov/determination-of-t...      NaN           NaN  \n",
       "2  https://2017-2021.state.gov/the-united-states-...      NaN           NaN  \n",
       "3  https://2017-2021.state.gov/visa-restrictions-...      NaN           NaN  \n",
       "4  https://2017-2021.state.gov/arrest-of-aleksey-...      NaN           NaN  "
      ]
     },
     "execution_count": 131,
     "metadata": {},
     "output_type": "execute_result"
    }
   ],
   "source": [
    "combined_df2.head()"
   ]
  },
  {
   "cell_type": "code",
   "execution_count": 132,
   "id": "37af9e07",
   "metadata": {
    "hidden": true
   },
   "outputs": [
    {
     "data": {
      "text/html": [
       "<div>\n",
       "<style scoped>\n",
       "    .dataframe tbody tr th:only-of-type {\n",
       "        vertical-align: middle;\n",
       "    }\n",
       "\n",
       "    .dataframe tbody tr th {\n",
       "        vertical-align: top;\n",
       "    }\n",
       "\n",
       "    .dataframe thead th {\n",
       "        text-align: right;\n",
       "    }\n",
       "</style>\n",
       "<table border=\"1\" class=\"dataframe\">\n",
       "  <thead>\n",
       "    <tr style=\"text-align: right;\">\n",
       "      <th></th>\n",
       "      <th>title</th>\n",
       "      <th>source</th>\n",
       "      <th>date</th>\n",
       "      <th>type_of_release</th>\n",
       "      <th>link</th>\n",
       "      <th>content</th>\n",
       "      <th>page_scraped</th>\n",
       "    </tr>\n",
       "  </thead>\n",
       "  <tbody>\n",
       "    <tr>\n",
       "      <th>975</th>\n",
       "      <td>Secretary Michael R. Pompeo With Dillon Burrou...</td>\n",
       "      <td>Michael R. Pompeo</td>\n",
       "      <td>December 22, 2019</td>\n",
       "      <td>Interview</td>\n",
       "      <td>https://2017-2021.state.gov/secretary-michael-...</td>\n",
       "      <td>NaN</td>\n",
       "      <td>100.0</td>\n",
       "    </tr>\n",
       "    <tr>\n",
       "      <th>976</th>\n",
       "      <td>Russian Federation’s and China’s Veto of UNSCR...</td>\n",
       "      <td>Michael R. Pompeo</td>\n",
       "      <td>December 21, 2019</td>\n",
       "      <td>Press Statement</td>\n",
       "      <td>https://2017-2021.state.gov/russian-federation...</td>\n",
       "      <td>NaN</td>\n",
       "      <td>100.0</td>\n",
       "    </tr>\n",
       "    <tr>\n",
       "      <th>977</th>\n",
       "      <td>Passage of the Caesar Syria Civilian Protectio...</td>\n",
       "      <td>Michael R. Pompeo</td>\n",
       "      <td>December 20, 2019</td>\n",
       "      <td>Press Statement</td>\n",
       "      <td>https://2017-2021.state.gov/passage-of-the-cae...</td>\n",
       "      <td>NaN</td>\n",
       "      <td>100.0</td>\n",
       "    </tr>\n",
       "    <tr>\n",
       "      <th>978</th>\n",
       "      <td>The International Criminal Court Unfairly Targ...</td>\n",
       "      <td>Michael R. Pompeo</td>\n",
       "      <td>December 20, 2019</td>\n",
       "      <td>Press Statement</td>\n",
       "      <td>https://2017-2021.state.gov/the-international-...</td>\n",
       "      <td>NaN</td>\n",
       "      <td>100.0</td>\n",
       "    </tr>\n",
       "    <tr>\n",
       "      <th>979</th>\n",
       "      <td>United States Sanctions Five Malian Individuals</td>\n",
       "      <td>Michael R. Pompeo</td>\n",
       "      <td>December 20, 2019</td>\n",
       "      <td>Press Statement</td>\n",
       "      <td>https://2017-2021.state.gov/united-states-sanc...</td>\n",
       "      <td>NaN</td>\n",
       "      <td>100.0</td>\n",
       "    </tr>\n",
       "  </tbody>\n",
       "</table>\n",
       "</div>"
      ],
      "text/plain": [
       "                                                 title             source  \\\n",
       "975  Secretary Michael R. Pompeo With Dillon Burrou...  Michael R. Pompeo   \n",
       "976  Russian Federation’s and China’s Veto of UNSCR...  Michael R. Pompeo   \n",
       "977  Passage of the Caesar Syria Civilian Protectio...  Michael R. Pompeo   \n",
       "978  The International Criminal Court Unfairly Targ...  Michael R. Pompeo   \n",
       "979    United States Sanctions Five Malian Individuals  Michael R. Pompeo   \n",
       "\n",
       "                  date  type_of_release  \\\n",
       "975  December 22, 2019        Interview   \n",
       "976  December 21, 2019  Press Statement   \n",
       "977  December 20, 2019  Press Statement   \n",
       "978  December 20, 2019  Press Statement   \n",
       "979  December 20, 2019  Press Statement   \n",
       "\n",
       "                                                  link  content  page_scraped  \n",
       "975  https://2017-2021.state.gov/secretary-michael-...      NaN         100.0  \n",
       "976  https://2017-2021.state.gov/russian-federation...      NaN         100.0  \n",
       "977  https://2017-2021.state.gov/passage-of-the-cae...      NaN         100.0  \n",
       "978  https://2017-2021.state.gov/the-international-...      NaN         100.0  \n",
       "979  https://2017-2021.state.gov/united-states-sanc...      NaN         100.0  "
      ]
     },
     "execution_count": 132,
     "metadata": {},
     "output_type": "execute_result"
    }
   ],
   "source": [
    "combined_df2.tail()"
   ]
  },
  {
   "cell_type": "code",
   "execution_count": 133,
   "id": "b91ea879",
   "metadata": {
    "hidden": true
   },
   "outputs": [],
   "source": [
    "combined_df2.to_csv('pompeo1000.csv')"
   ]
  },
  {
   "cell_type": "code",
   "execution_count": 134,
   "id": "9671d5d0",
   "metadata": {
    "hidden": true
   },
   "outputs": [
    {
     "name": "stdout",
     "output_type": "stream",
     "text": [
      "Error: list index out of range at page 103\n"
     ]
    }
   ],
   "source": [
    "# scrape some more so I can get to october 2019 to compare Oct - Oct \n",
    " \n",
    "df_list=[]\n",
    "\n",
    "for i in range(101,121):\n",
    "    try: \n",
    "        df = scrape_dos_pompeo(f'https://2017-2021.state.gov/remarks-secretary-pompeo/page/{i}/', my_header_list)\n",
    "        df['page_scraped'] = i \n",
    "        df_list.append(df)\n",
    "    except Exception as e:\n",
    "        print(f'Error: {e} at page {i}')\n",
    "        \n",
    "# will need to retry page 103\n",
    "# Error: list index out of range at page 103"
   ]
  },
  {
   "cell_type": "code",
   "execution_count": 135,
   "id": "601f3406",
   "metadata": {
    "hidden": true
   },
   "outputs": [],
   "source": [
    "combined3 = pd.concat(df_list,ignore_index = True)"
   ]
  },
  {
   "cell_type": "code",
   "execution_count": 136,
   "id": "ac3ed509",
   "metadata": {
    "hidden": true
   },
   "outputs": [],
   "source": [
    "combined_df3 = pd.concat([combined_df2, combined3], ignore_index = True)"
   ]
  },
  {
   "cell_type": "code",
   "execution_count": 137,
   "id": "f9bb325f",
   "metadata": {
    "hidden": true
   },
   "outputs": [
    {
     "name": "stdout",
     "output_type": "stream",
     "text": [
      "<class 'pandas.core.frame.DataFrame'>\n",
      "RangeIndex: 1170 entries, 0 to 1169\n",
      "Data columns (total 7 columns):\n",
      " #   Column           Non-Null Count  Dtype  \n",
      "---  ------           --------------  -----  \n",
      " 0   title            1170 non-null   object \n",
      " 1   source           1170 non-null   object \n",
      " 2   date             1170 non-null   object \n",
      " 3   type_of_release  1170 non-null   object \n",
      " 4   link             1170 non-null   object \n",
      " 5   content          0 non-null      float64\n",
      " 6   page_scraped     1160 non-null   float64\n",
      "dtypes: float64(2), object(5)\n",
      "memory usage: 64.1+ KB\n"
     ]
    }
   ],
   "source": [
    "combined_df3.info()"
   ]
  },
  {
   "cell_type": "code",
   "execution_count": 138,
   "id": "775339fb",
   "metadata": {
    "hidden": true
   },
   "outputs": [
    {
     "data": {
      "text/html": [
       "<div>\n",
       "<style scoped>\n",
       "    .dataframe tbody tr th:only-of-type {\n",
       "        vertical-align: middle;\n",
       "    }\n",
       "\n",
       "    .dataframe tbody tr th {\n",
       "        vertical-align: top;\n",
       "    }\n",
       "\n",
       "    .dataframe thead th {\n",
       "        text-align: right;\n",
       "    }\n",
       "</style>\n",
       "<table border=\"1\" class=\"dataframe\">\n",
       "  <thead>\n",
       "    <tr style=\"text-align: right;\">\n",
       "      <th></th>\n",
       "      <th>title</th>\n",
       "      <th>source</th>\n",
       "      <th>date</th>\n",
       "      <th>type_of_release</th>\n",
       "      <th>link</th>\n",
       "      <th>content</th>\n",
       "      <th>page_scraped</th>\n",
       "    </tr>\n",
       "  </thead>\n",
       "  <tbody>\n",
       "    <tr>\n",
       "      <th>1165</th>\n",
       "      <td>Secretary Michael R. Pompeo at the Department ...</td>\n",
       "      <td>Michael R. Pompeo</td>\n",
       "      <td>September 26, 2019</td>\n",
       "      <td>Remarks</td>\n",
       "      <td>https://2017-2021.state.gov/secretary-michael-...</td>\n",
       "      <td>NaN</td>\n",
       "      <td>120.0</td>\n",
       "    </tr>\n",
       "    <tr>\n",
       "      <th>1166</th>\n",
       "      <td>The United States Imposes Sanctions on Chinese...</td>\n",
       "      <td>Michael R. Pompeo</td>\n",
       "      <td>September 25, 2019</td>\n",
       "      <td>Press Statement</td>\n",
       "      <td>https://2017-2021.state.gov/the-united-states-...</td>\n",
       "      <td>NaN</td>\n",
       "      <td>120.0</td>\n",
       "    </tr>\n",
       "    <tr>\n",
       "      <th>1167</th>\n",
       "      <td>Iranian Aggression: The World Awakes</td>\n",
       "      <td>Michael R. Pompeo</td>\n",
       "      <td>September 25, 2019</td>\n",
       "      <td>Speech</td>\n",
       "      <td>https://2017-2021.state.gov/iranian-aggression...</td>\n",
       "      <td>NaN</td>\n",
       "      <td>120.0</td>\n",
       "    </tr>\n",
       "    <tr>\n",
       "      <th>1168</th>\n",
       "      <td>Guinea-Bissau National Day</td>\n",
       "      <td>Michael R. Pompeo</td>\n",
       "      <td>September 24, 2019</td>\n",
       "      <td>Press Statement</td>\n",
       "      <td>https://2017-2021.state.gov/guinea-bissau-nati...</td>\n",
       "      <td>NaN</td>\n",
       "      <td>120.0</td>\n",
       "    </tr>\n",
       "    <tr>\n",
       "      <th>1169</th>\n",
       "      <td>Secretary Michael R. Pompeo at the United Nati...</td>\n",
       "      <td>Michael R. Pompeo</td>\n",
       "      <td>September 23, 2019</td>\n",
       "      <td>Remarks</td>\n",
       "      <td>https://2017-2021.state.gov/secretary-michael-...</td>\n",
       "      <td>NaN</td>\n",
       "      <td>120.0</td>\n",
       "    </tr>\n",
       "  </tbody>\n",
       "</table>\n",
       "</div>"
      ],
      "text/plain": [
       "                                                  title             source  \\\n",
       "1165  Secretary Michael R. Pompeo at the Department ...  Michael R. Pompeo   \n",
       "1166  The United States Imposes Sanctions on Chinese...  Michael R. Pompeo   \n",
       "1167               Iranian Aggression: The World Awakes  Michael R. Pompeo   \n",
       "1168                         Guinea-Bissau National Day  Michael R. Pompeo   \n",
       "1169  Secretary Michael R. Pompeo at the United Nati...  Michael R. Pompeo   \n",
       "\n",
       "                    date  type_of_release  \\\n",
       "1165  September 26, 2019          Remarks   \n",
       "1166  September 25, 2019  Press Statement   \n",
       "1167  September 25, 2019           Speech   \n",
       "1168  September 24, 2019  Press Statement   \n",
       "1169  September 23, 2019          Remarks   \n",
       "\n",
       "                                                   link  content  page_scraped  \n",
       "1165  https://2017-2021.state.gov/secretary-michael-...      NaN         120.0  \n",
       "1166  https://2017-2021.state.gov/the-united-states-...      NaN         120.0  \n",
       "1167  https://2017-2021.state.gov/iranian-aggression...      NaN         120.0  \n",
       "1168  https://2017-2021.state.gov/guinea-bissau-nati...      NaN         120.0  \n",
       "1169  https://2017-2021.state.gov/secretary-michael-...      NaN         120.0  "
      ]
     },
     "execution_count": 138,
     "metadata": {},
     "output_type": "execute_result"
    }
   ],
   "source": [
    "combined_df3.tail()"
   ]
  },
  {
   "cell_type": "code",
   "execution_count": 139,
   "id": "f75ae91c",
   "metadata": {
    "hidden": true
   },
   "outputs": [],
   "source": [
    "combined_df3.to_csv('pompeo1170.csv', index=False)"
   ]
  },
  {
   "cell_type": "markdown",
   "id": "427ef8b4",
   "metadata": {},
   "source": [
    "## Scrape link content"
   ]
  },
  {
   "cell_type": "markdown",
   "id": "289d53f7",
   "metadata": {
    "heading_collapsed": true
   },
   "source": [
    "### Test One (based on blinken)"
   ]
  },
  {
   "cell_type": "code",
   "execution_count": 141,
   "id": "f8fdd48c",
   "metadata": {
    "hidden": true
   },
   "outputs": [
    {
     "data": {
      "text/plain": [
       "'https://2017-2021.state.gov/secretary-michael-r-pompeo-with-john-roberts-of-fox-news-america-reports/'"
      ]
     },
     "execution_count": 141,
     "metadata": {},
     "output_type": "execute_result"
    }
   ],
   "source": [
    "website_link1 = combined_df3.link[0]\n",
    "website_link1"
   ]
  },
  {
   "cell_type": "code",
   "execution_count": 142,
   "id": "42f5dbec",
   "metadata": {
    "hidden": true
   },
   "outputs": [
    {
     "data": {
      "text/plain": [
       "<Response [200]>"
      ]
     },
     "execution_count": 142,
     "metadata": {},
     "output_type": "execute_result"
    }
   ],
   "source": [
    "server_response_link1 = requests.get(website_link1) \n",
    "server_response_link1 "
   ]
  },
  {
   "cell_type": "code",
   "execution_count": 143,
   "id": "37dab06b",
   "metadata": {
    "hidden": true
   },
   "outputs": [],
   "source": [
    "soup_link1 = bs4.BeautifulSoup(server_response_link1.content, features=\"html.parser\")"
   ]
  },
  {
   "cell_type": "code",
   "execution_count": 144,
   "id": "229bcdcc",
   "metadata": {
    "hidden": true
   },
   "outputs": [],
   "source": [
    "result = soup_link1.find('div', class_ = 'entry-content').find_all('p')\n",
    "#result"
   ]
  },
  {
   "cell_type": "code",
   "execution_count": 145,
   "id": "ed623f26",
   "metadata": {
    "hidden": true
   },
   "outputs": [
    {
     "data": {
      "text/plain": [
       "['QUESTION:  A Fox News alert now, the United States leveling perhaps the most serious charge a country can face, accusing China in the last hour and a bit of committing genocide and crimes against humanity in its repression of Uyghur Muslims.  Secretary of State Mike Pompeo made the announcement just a short time ago.  He joins us now for an exclusive interview.',\n",
       " 'Mr. Secretary, good to have you with us.  Let me just read if I could from your statement.  You said, quote, “I have determined that the People’s Republic of China, under the direction and control of the Chinese Communist Party, has committed genocide and crimes against the predominantly Muslim Uyghurs and other ethnic and religious minority groups.”',\n",
       " 'A very significant declaration, obviously one that China will oppose vigorously, but also one that sort of runs counter to what President Trump’s position has been for the last couple of years.',\n",
       " 'SECRETARY POMPEO:  Well, John, thanks for having me on.  This is a very serious and tragic set of actions that are taking place there in the western part of China.  We have been talking and working on this for an awfully long time in the Trump administration.  We have sanctioned officials.  We have told businesses they couldn’t bring products out of this region.  We’ve told businesses to be very careful that they could be too close to what’s taking place there, right.',\n",
       " 'This is forced labor.  This is forced sterilizations, forced abortions – John, the kind of things that we haven’t seen in an awfully long time in this world.  And we now have conducted an exhaustive review of the facts and made the determination that, in fact, the Chinese Communist Party has committed these crimes against humanity, is continuing to try and deny these people – not just the Uyghur Muslims but other faiths as well – the simple capacity to continue to exist and to create an ethnic set of activities that we haven’t seen in an awfully long time.',\n",
       " 'I’ve referred to this over time as the stain of the century.  It is truly that.  And today’s actions is simply a continuation of the work this administration has done to try and convince the Chinese Communist Party to cease this terrible, terrible set of human rights violations that have been taking place.',\n",
       " 'QUESTION:  Mr. Secretary, since you made the announcement a little more than an hour ago, it has received a tremendous amount of approval in the United States Congress, particularly from your Republican colleagues.  This was something that then-candidate Joe Biden proclaimed about a year ago.  Now, obviously when you’re a candidate it’s much easier to say something than when you are the State Department, but some of your Republican colleagues – Ben Sasse notably – are saying, “What took so long?”',\n",
       " 'SECRETARY POMPEO:  Look, I’m happy to accept that critique.  What took so long is when you do something like this, you have to be right.  You have to – and I think this will be a bipartisan analysis that will be shared by a broad swath of American leadership.  Indeed, leaders all across the world I think will recognize that the United States got this right.',\n",
       " 'But John, this is a serious matter.  We didn’t take it lightly.  We wanted to continue to work.  There were lots of vigorous discussions all across the United States Government.  We talked with people all across the world.  We relied on facts that came from nongovernmental organizations, journalists, other governments to make sure that we had everything just right, and we wouldn’t have done this if we weren’t convinced that these declarations, this determination that I have issued today, was proper, appropriate, and would hopefully lead to better lives for people in this region.  That, in the end, John, is our objective.',\n",
       " 'QUESTION:  Mr. Secretary, you, like the President, are in the last hours of your tenure at the State Department.  Looking ahead to the Biden administration, we’re wondering what we can expect.  In an exclusive interview with foxnews.com, counterintelligence chief Bill Evanina saying, quote, “We have to educate America so they know what malign influence tastes like, smells like, looks like, so when they see it they can call it out.  I think the challenge for the Biden administration will be to understand the scope and scale of some of the Chinese threats in the American landscape domestically and what is the best course to defeat that.”',\n",
       " 'Here we have a president-elect who not long ago said, “China is going to eat our lunch?  Come on, man.”  Do you believe that the Biden administration will be fully equipped to handle what many people say is the greatest future threat facing America?',\n",
       " 'SECRETARY POMPEO:  John, I’m counting on it.  More importantly, the American people are counting on it.  This threat – the work that President Trump has done to identify the risk – he talked about it with tariffs and economic issues.  We’ve talked about it with spies operating out of a consulate in Houston.  This challenge, the threat from the Chinese Communist Party, is real; it is existential to the United States.  We have to get this right.  And I am counting on the next administration continuing our work, continuing to build out on the things that we have done in the exact way that the American people will demand.',\n",
       " 'I have great confidence that the American people have come to understand this challenge from the Chinese Communist Party and will expect every leader, whatever political stripe, to continue to protect and secure American freedoms.',\n",
       " 'QUESTION:  Your presumed successor, Antony Blinken, begins his confirmation hearing in about an hour.  He says in his opening statement, quote, “Humility and confidence should be the flip sides of America’s leadership coin … Humility because we have a great deal of work to do at home to enhance our standing abroad.”',\n",
       " 'There are some critics who are saying this sounds like Obama redux.  Is he going to begin with an apology tour?',\n",
       " 'SECRETARY POMPEO:  Boy, I sure hope not, John.  I’m proud of this country.  Our founders recognized it was an imperfect union.  We all strive to be better.  But this is the most exceptional nation in the history of civilization.  I am proud of the work that the Trump administration has done in the Middle East, on China that we’ve been talking about.  We made life better for people all across the world.  We recognized that the people of Iran and North Korea deserved better, and we worked diligently to achieve that.  It ought not be an America that we apologize for.  We should be proud of the greatness, the uniqueness, and the exceptionalism of the United States of America.',\n",
       " 'QUESTION:  Mr. Secretary, it’s been good to talk to you.  We wish you well post-administration.',\n",
       " 'SECRETARY POMPEO:  Thank you, John.',\n",
       " 'QUESTION:  Thanks so much for joining us exclusively today.  We really appreciate it.',\n",
       " 'SECRETARY POMPEO:  Thank you, John.  Have a good day.',\n",
       " 'QUESTION:  You, too.',\n",
       " ' ']"
      ]
     },
     "execution_count": 145,
     "metadata": {},
     "output_type": "execute_result"
    }
   ],
   "source": [
    "string_list = [str(i.text) for i in result]\n",
    "# string_list\n",
    "string_list_clean = [i.replace(u'\\xa0', u' ') for i in string_list]\n",
    "string_list_clean"
   ]
  },
  {
   "cell_type": "code",
   "execution_count": 146,
   "id": "a7cc5f38",
   "metadata": {
    "hidden": true
   },
   "outputs": [
    {
     "data": {
      "text/plain": [
       "'QUESTION:  A Fox News alert now, the United States leveling perhaps the most serious charge a country can face, accusing China in the last hour and a bit of committing genocide and crimes against humanity in its repression of Uyghur Muslims.  Secretary of State Mike Pompeo made the announcement just a short time ago.  He joins us now for an exclusive interview. Mr. Secretary, good to have you with us.  Let me just read if I could from your statement.  You said, quote, “I have determined that the People’s Republic of China, under the direction and control of the Chinese Communist Party, has committed genocide and crimes against the predominantly Muslim Uyghurs and other ethnic and religious minority groups.” A very significant declaration, obviously one that China will oppose vigorously, but also one that sort of runs counter to what President Trump’s position has been for the last couple of years. SECRETARY POMPEO:  Well, John, thanks for having me on.  This is a very serious and tragic set of actions that are taking place there in the western part of China.  We have been talking and working on this for an awfully long time in the Trump administration.  We have sanctioned officials.  We have told businesses they couldn’t bring products out of this region.  We’ve told businesses to be very careful that they could be too close to what’s taking place there, right. This is forced labor.  This is forced sterilizations, forced abortions – John, the kind of things that we haven’t seen in an awfully long time in this world.  And we now have conducted an exhaustive review of the facts and made the determination that, in fact, the Chinese Communist Party has committed these crimes against humanity, is continuing to try and deny these people – not just the Uyghur Muslims but other faiths as well – the simple capacity to continue to exist and to create an ethnic set of activities that we haven’t seen in an awfully long time. I’ve referred to this over time as the stain of the century.  It is truly that.  And today’s actions is simply a continuation of the work this administration has done to try and convince the Chinese Communist Party to cease this terrible, terrible set of human rights violations that have been taking place. QUESTION:  Mr. Secretary, since you made the announcement a little more than an hour ago, it has received a tremendous amount of approval in the United States Congress, particularly from your Republican colleagues.  This was something that then-candidate Joe Biden proclaimed about a year ago.  Now, obviously when you’re a candidate it’s much easier to say something than when you are the State Department, but some of your Republican colleagues – Ben Sasse notably – are saying, “What took so long?” SECRETARY POMPEO:  Look, I’m happy to accept that critique.  What took so long is when you do something like this, you have to be right.  You have to – and I think this will be a bipartisan analysis that will be shared by a broad swath of American leadership.  Indeed, leaders all across the world I think will recognize that the United States got this right. But John, this is a serious matter.  We didn’t take it lightly.  We wanted to continue to work.  There were lots of vigorous discussions all across the United States Government.  We talked with people all across the world.  We relied on facts that came from nongovernmental organizations, journalists, other governments to make sure that we had everything just right, and we wouldn’t have done this if we weren’t convinced that these declarations, this determination that I have issued today, was proper, appropriate, and would hopefully lead to better lives for people in this region.  That, in the end, John, is our objective. QUESTION:  Mr. Secretary, you, like the President, are in the last hours of your tenure at the State Department.  Looking ahead to the Biden administration, we’re wondering what we can expect.  In an exclusive interview with foxnews.com, counterintelligence chief Bill Evanina saying, quote, “We have to educate America so they know what malign influence tastes like, smells like, looks like, so when they see it they can call it out.  I think the challenge for the Biden administration will be to understand the scope and scale of some of the Chinese threats in the American landscape domestically and what is the best course to defeat that.” Here we have a president-elect who not long ago said, “China is going to eat our lunch?  Come on, man.”  Do you believe that the Biden administration will be fully equipped to handle what many people say is the greatest future threat facing America? SECRETARY POMPEO:  John, I’m counting on it.  More importantly, the American people are counting on it.  This threat – the work that President Trump has done to identify the risk – he talked about it with tariffs and economic issues.  We’ve talked about it with spies operating out of a consulate in Houston.  This challenge, the threat from the Chinese Communist Party, is real; it is existential to the United States.  We have to get this right.  And I am counting on the next administration continuing our work, continuing to build out on the things that we have done in the exact way that the American people will demand. I have great confidence that the American people have come to understand this challenge from the Chinese Communist Party and will expect every leader, whatever political stripe, to continue to protect and secure American freedoms. QUESTION:  Your presumed successor, Antony Blinken, begins his confirmation hearing in about an hour.  He says in his opening statement, quote, “Humility and confidence should be the flip sides of America’s leadership coin … Humility because we have a great deal of work to do at home to enhance our standing abroad.” There are some critics who are saying this sounds like Obama redux.  Is he going to begin with an apology tour? SECRETARY POMPEO:  Boy, I sure hope not, John.  I’m proud of this country.  Our founders recognized it was an imperfect union.  We all strive to be better.  But this is the most exceptional nation in the history of civilization.  I am proud of the work that the Trump administration has done in the Middle East, on China that we’ve been talking about.  We made life better for people all across the world.  We recognized that the people of Iran and North Korea deserved better, and we worked diligently to achieve that.  It ought not be an America that we apologize for.  We should be proud of the greatness, the uniqueness, and the exceptionalism of the United States of America. QUESTION:  Mr. Secretary, it’s been good to talk to you.  We wish you well post-administration. SECRETARY POMPEO:  Thank you, John. QUESTION:  Thanks so much for joining us exclusively today.  We really appreciate it. SECRETARY POMPEO:  Thank you, John.  Have a good day. QUESTION:  You, too.  '"
      ]
     },
     "execution_count": 146,
     "metadata": {},
     "output_type": "execute_result"
    }
   ],
   "source": [
    "result_merged = \" \".join(string_list_clean)\n",
    "result_merged"
   ]
  },
  {
   "cell_type": "code",
   "execution_count": 147,
   "id": "0815d7b9",
   "metadata": {
    "hidden": true
   },
   "outputs": [],
   "source": [
    "combined_df3.loc[combined_df3.link == website_link1, 'content'] = result_merged"
   ]
  },
  {
   "cell_type": "code",
   "execution_count": 148,
   "id": "2e20cfee",
   "metadata": {
    "hidden": true
   },
   "outputs": [
    {
     "data": {
      "text/html": [
       "<div>\n",
       "<style scoped>\n",
       "    .dataframe tbody tr th:only-of-type {\n",
       "        vertical-align: middle;\n",
       "    }\n",
       "\n",
       "    .dataframe tbody tr th {\n",
       "        vertical-align: top;\n",
       "    }\n",
       "\n",
       "    .dataframe thead th {\n",
       "        text-align: right;\n",
       "    }\n",
       "</style>\n",
       "<table border=\"1\" class=\"dataframe\">\n",
       "  <thead>\n",
       "    <tr style=\"text-align: right;\">\n",
       "      <th></th>\n",
       "      <th>title</th>\n",
       "      <th>source</th>\n",
       "      <th>date</th>\n",
       "      <th>type_of_release</th>\n",
       "      <th>link</th>\n",
       "      <th>content</th>\n",
       "      <th>page_scraped</th>\n",
       "    </tr>\n",
       "  </thead>\n",
       "  <tbody>\n",
       "    <tr>\n",
       "      <th>0</th>\n",
       "      <td>Secretary Michael R. Pompeo With John Roberts ...</td>\n",
       "      <td>Michael R. Pompeo</td>\n",
       "      <td>January 19, 2021</td>\n",
       "      <td>Interview</td>\n",
       "      <td>https://2017-2021.state.gov/secretary-michael-...</td>\n",
       "      <td>QUESTION:  A Fox News alert now, the United St...</td>\n",
       "      <td>NaN</td>\n",
       "    </tr>\n",
       "    <tr>\n",
       "      <th>1</th>\n",
       "      <td>Determination of the Secretary of State on Atr...</td>\n",
       "      <td>Michael R. Pompeo</td>\n",
       "      <td>January 19, 2021</td>\n",
       "      <td>Press Statement</td>\n",
       "      <td>https://2017-2021.state.gov/determination-of-t...</td>\n",
       "      <td>NaN</td>\n",
       "      <td>NaN</td>\n",
       "    </tr>\n",
       "    <tr>\n",
       "      <th>2</th>\n",
       "      <td>The United States Takes Further Action Against...</td>\n",
       "      <td>Michael R. Pompeo</td>\n",
       "      <td>January 19, 2021</td>\n",
       "      <td>Press Statement</td>\n",
       "      <td>https://2017-2021.state.gov/the-united-states-...</td>\n",
       "      <td>NaN</td>\n",
       "      <td>NaN</td>\n",
       "    </tr>\n",
       "    <tr>\n",
       "      <th>3</th>\n",
       "      <td>Visa Restrictions on Tanzanians for Underminin...</td>\n",
       "      <td>Michael R. Pompeo</td>\n",
       "      <td>January 19, 2021</td>\n",
       "      <td>Press Statement</td>\n",
       "      <td>https://2017-2021.state.gov/visa-restrictions-...</td>\n",
       "      <td>NaN</td>\n",
       "      <td>NaN</td>\n",
       "    </tr>\n",
       "    <tr>\n",
       "      <th>4</th>\n",
       "      <td>Arrest of Aleksey Navalny</td>\n",
       "      <td>Michael R. Pompeo</td>\n",
       "      <td>January 17, 2021</td>\n",
       "      <td>Press Statement</td>\n",
       "      <td>https://2017-2021.state.gov/arrest-of-aleksey-...</td>\n",
       "      <td>NaN</td>\n",
       "      <td>NaN</td>\n",
       "    </tr>\n",
       "  </tbody>\n",
       "</table>\n",
       "</div>"
      ],
      "text/plain": [
       "                                               title             source  \\\n",
       "0  Secretary Michael R. Pompeo With John Roberts ...  Michael R. Pompeo   \n",
       "1  Determination of the Secretary of State on Atr...  Michael R. Pompeo   \n",
       "2  The United States Takes Further Action Against...  Michael R. Pompeo   \n",
       "3  Visa Restrictions on Tanzanians for Underminin...  Michael R. Pompeo   \n",
       "4                          Arrest of Aleksey Navalny  Michael R. Pompeo   \n",
       "\n",
       "               date  type_of_release  \\\n",
       "0  January 19, 2021        Interview   \n",
       "1  January 19, 2021  Press Statement   \n",
       "2  January 19, 2021  Press Statement   \n",
       "3  January 19, 2021  Press Statement   \n",
       "4  January 17, 2021  Press Statement   \n",
       "\n",
       "                                                link  \\\n",
       "0  https://2017-2021.state.gov/secretary-michael-...   \n",
       "1  https://2017-2021.state.gov/determination-of-t...   \n",
       "2  https://2017-2021.state.gov/the-united-states-...   \n",
       "3  https://2017-2021.state.gov/visa-restrictions-...   \n",
       "4  https://2017-2021.state.gov/arrest-of-aleksey-...   \n",
       "\n",
       "                                             content  page_scraped  \n",
       "0  QUESTION:  A Fox News alert now, the United St...           NaN  \n",
       "1                                                NaN           NaN  \n",
       "2                                                NaN           NaN  \n",
       "3                                                NaN           NaN  \n",
       "4                                                NaN           NaN  "
      ]
     },
     "execution_count": 148,
     "metadata": {},
     "output_type": "execute_result"
    }
   ],
   "source": [
    "combined_df3.head()"
   ]
  },
  {
   "cell_type": "code",
   "execution_count": 149,
   "id": "bd88759c",
   "metadata": {
    "hidden": true
   },
   "outputs": [
    {
     "name": "stdout",
     "output_type": "stream",
     "text": [
      "<class 'pandas.core.frame.DataFrame'>\n",
      "RangeIndex: 1170 entries, 0 to 1169\n",
      "Data columns (total 7 columns):\n",
      " #   Column           Non-Null Count  Dtype  \n",
      "---  ------           --------------  -----  \n",
      " 0   title            1170 non-null   object \n",
      " 1   source           1170 non-null   object \n",
      " 2   date             1170 non-null   object \n",
      " 3   type_of_release  1170 non-null   object \n",
      " 4   link             1170 non-null   object \n",
      " 5   content          1 non-null      object \n",
      " 6   page_scraped     1160 non-null   float64\n",
      "dtypes: float64(1), object(6)\n",
      "memory usage: 64.1+ KB\n"
     ]
    }
   ],
   "source": [
    "combined_df3.info()"
   ]
  },
  {
   "cell_type": "markdown",
   "id": "0a2458a2",
   "metadata": {},
   "source": [
    "### Scrape all content"
   ]
  },
  {
   "cell_type": "code",
   "execution_count": 150,
   "id": "526d7ea3",
   "metadata": {},
   "outputs": [],
   "source": [
    "# define link scraping \n",
    "# looks like same process should work, but let's update the def title anyway\n",
    "def get_link_content_pompeo(link, df, header_list):\n",
    "    try: \n",
    "        # check if content has already been pulled\n",
    "        result = df.loc[df.link == link, 'content'].notnull().all()\n",
    "        if result:\n",
    "            return f'content already existing for {link}' \n",
    "        else: \n",
    "            try: \n",
    "                df['content']\n",
    "                server_response = requests.get(link, headers = header_list)\n",
    "                time.sleep(5) # to align with dos robots.txt\n",
    "                soup_link = bs4.BeautifulSoup(server_response.content, features=\"html.parser\")\n",
    "                result = soup_link.find('div', class_ = 'entry-content').find_all('p')\n",
    "                string_result = [str(i.text) for i in result]\n",
    "                string_result_clean = [i.replace(u'\\xa0', u' ') for i in string_result]\n",
    "                result_merged = \" \".join(string_result_clean)\n",
    "                df.loc[df.link == link, 'content'] = result_merged\n",
    "                return f\"success: content added from {link}\"\n",
    "            except: \n",
    "                pass\n",
    "    except Exception as e: \n",
    "        return f\"unable to gather content from {link} due to {e}\"\n",
    "    #return df_updated "
   ]
  },
  {
   "cell_type": "code",
   "execution_count": 151,
   "id": "4974309c",
   "metadata": {},
   "outputs": [
    {
     "data": {
      "text/plain": [
       "'content already existing for https://2017-2021.state.gov/secretary-michael-r-pompeo-with-john-roberts-of-fox-news-america-reports/'"
      ]
     },
     "execution_count": 151,
     "metadata": {},
     "output_type": "execute_result"
    },
    {
     "data": {
      "text/plain": [
       "'success: content added from https://2017-2021.state.gov/determination-of-the-secretary-of-state-on-atrocities-in-xinjiang/'"
      ]
     },
     "execution_count": 151,
     "metadata": {},
     "output_type": "execute_result"
    },
    {
     "data": {
      "text/plain": [
       "'success: content added from https://2017-2021.state.gov/the-united-states-takes-further-action-against-enablers-of-venezuelan-oil-transactions-including-sanctions-evasion-network/'"
      ]
     },
     "execution_count": 151,
     "metadata": {},
     "output_type": "execute_result"
    },
    {
     "data": {
      "text/plain": [
       "'success: content added from https://2017-2021.state.gov/visa-restrictions-on-tanzanians-for-undermining-the-democratic-process-and-human-rights/'"
      ]
     },
     "execution_count": 151,
     "metadata": {},
     "output_type": "execute_result"
    },
    {
     "data": {
      "text/plain": [
       "'success: content added from https://2017-2021.state.gov/arrest-of-aleksey-navalny/'"
      ]
     },
     "execution_count": 151,
     "metadata": {},
     "output_type": "execute_result"
    },
    {
     "data": {
      "text/plain": [
       "'success: content added from https://2017-2021.state.gov/championing-americas-first-freedom/'"
      ]
     },
     "execution_count": 151,
     "metadata": {},
     "output_type": "execute_result"
    },
    {
     "data": {
      "text/plain": [
       "'success: content added from https://2017-2021.state.gov/increasing-iran-metals-sanctions-targeting-irans-nuclear-military-and-ballistic-missile-programs-and-the-irgc/'"
      ]
     },
     "execution_count": 151,
     "metadata": {},
     "output_type": "execute_result"
    },
    {
     "data": {
      "text/plain": [
       "'success: content added from https://2017-2021.state.gov/ensuring-a-transparent-thorough-investigation-of-covid-19s-origin/'"
      ]
     },
     "execution_count": 151,
     "metadata": {},
     "output_type": "execute_result"
    },
    {
     "data": {
      "text/plain": [
       "'success: content added from https://2017-2021.state.gov/designating-prc-and-hong-kong-officials-after-widespread-pro-democracy-arrests-in-hong-kong/'"
      ]
     },
     "execution_count": 151,
     "metadata": {},
     "output_type": "execute_result"
    },
    {
     "data": {
      "text/plain": [
       "'success: content added from https://2017-2021.state.gov/united-states-places-global-magnitsky-sanctions-on-the-cuban-ministry-of-interior-and-its-minister/'"
      ]
     },
     "execution_count": 151,
     "metadata": {},
     "output_type": "execute_result"
    },
    {
     "data": {
      "text/plain": [
       "'success: content added from https://2017-2021.state.gov/imposing-sanctions-related-to-the-islamic-republic-of-iran-shipping-lines-and-iranian-shipping-entities/'"
      ]
     },
     "execution_count": 151,
     "metadata": {},
     "output_type": "execute_result"
    }
   ],
   "source": [
    "for i in combined_df3.link[0:11]:\n",
    "     get_link_content_pompeo(i, combined_df3, my_header_list)"
   ]
  },
  {
   "cell_type": "code",
   "execution_count": 152,
   "id": "a061e764",
   "metadata": {},
   "outputs": [
    {
     "data": {
      "text/html": [
       "<div>\n",
       "<style scoped>\n",
       "    .dataframe tbody tr th:only-of-type {\n",
       "        vertical-align: middle;\n",
       "    }\n",
       "\n",
       "    .dataframe tbody tr th {\n",
       "        vertical-align: top;\n",
       "    }\n",
       "\n",
       "    .dataframe thead th {\n",
       "        text-align: right;\n",
       "    }\n",
       "</style>\n",
       "<table border=\"1\" class=\"dataframe\">\n",
       "  <thead>\n",
       "    <tr style=\"text-align: right;\">\n",
       "      <th></th>\n",
       "      <th>title</th>\n",
       "      <th>source</th>\n",
       "      <th>date</th>\n",
       "      <th>type_of_release</th>\n",
       "      <th>link</th>\n",
       "      <th>content</th>\n",
       "      <th>page_scraped</th>\n",
       "    </tr>\n",
       "  </thead>\n",
       "  <tbody>\n",
       "    <tr>\n",
       "      <th>0</th>\n",
       "      <td>Secretary Michael R. Pompeo With John Roberts ...</td>\n",
       "      <td>Michael R. Pompeo</td>\n",
       "      <td>January 19, 2021</td>\n",
       "      <td>Interview</td>\n",
       "      <td>https://2017-2021.state.gov/secretary-michael-...</td>\n",
       "      <td>QUESTION:  A Fox News alert now, the United St...</td>\n",
       "      <td>NaN</td>\n",
       "    </tr>\n",
       "    <tr>\n",
       "      <th>1</th>\n",
       "      <td>Determination of the Secretary of State on Atr...</td>\n",
       "      <td>Michael R. Pompeo</td>\n",
       "      <td>January 19, 2021</td>\n",
       "      <td>Press Statement</td>\n",
       "      <td>https://2017-2021.state.gov/determination-of-t...</td>\n",
       "      <td>The United States of America has led the world...</td>\n",
       "      <td>NaN</td>\n",
       "    </tr>\n",
       "    <tr>\n",
       "      <th>2</th>\n",
       "      <td>The United States Takes Further Action Against...</td>\n",
       "      <td>Michael R. Pompeo</td>\n",
       "      <td>January 19, 2021</td>\n",
       "      <td>Press Statement</td>\n",
       "      <td>https://2017-2021.state.gov/the-united-states-...</td>\n",
       "      <td>The United States has sanctioned three individ...</td>\n",
       "      <td>NaN</td>\n",
       "    </tr>\n",
       "    <tr>\n",
       "      <th>3</th>\n",
       "      <td>Visa Restrictions on Tanzanians for Underminin...</td>\n",
       "      <td>Michael R. Pompeo</td>\n",
       "      <td>January 19, 2021</td>\n",
       "      <td>Press Statement</td>\n",
       "      <td>https://2017-2021.state.gov/visa-restrictions-...</td>\n",
       "      <td>Today, the United States is announcing visa re...</td>\n",
       "      <td>NaN</td>\n",
       "    </tr>\n",
       "    <tr>\n",
       "      <th>4</th>\n",
       "      <td>Arrest of Aleksey Navalny</td>\n",
       "      <td>Michael R. Pompeo</td>\n",
       "      <td>January 17, 2021</td>\n",
       "      <td>Press Statement</td>\n",
       "      <td>https://2017-2021.state.gov/arrest-of-aleksey-...</td>\n",
       "      <td>The United States strongly condemns Russia’s d...</td>\n",
       "      <td>NaN</td>\n",
       "    </tr>\n",
       "  </tbody>\n",
       "</table>\n",
       "</div>"
      ],
      "text/plain": [
       "                                               title             source  \\\n",
       "0  Secretary Michael R. Pompeo With John Roberts ...  Michael R. Pompeo   \n",
       "1  Determination of the Secretary of State on Atr...  Michael R. Pompeo   \n",
       "2  The United States Takes Further Action Against...  Michael R. Pompeo   \n",
       "3  Visa Restrictions on Tanzanians for Underminin...  Michael R. Pompeo   \n",
       "4                          Arrest of Aleksey Navalny  Michael R. Pompeo   \n",
       "\n",
       "               date  type_of_release  \\\n",
       "0  January 19, 2021        Interview   \n",
       "1  January 19, 2021  Press Statement   \n",
       "2  January 19, 2021  Press Statement   \n",
       "3  January 19, 2021  Press Statement   \n",
       "4  January 17, 2021  Press Statement   \n",
       "\n",
       "                                                link  \\\n",
       "0  https://2017-2021.state.gov/secretary-michael-...   \n",
       "1  https://2017-2021.state.gov/determination-of-t...   \n",
       "2  https://2017-2021.state.gov/the-united-states-...   \n",
       "3  https://2017-2021.state.gov/visa-restrictions-...   \n",
       "4  https://2017-2021.state.gov/arrest-of-aleksey-...   \n",
       "\n",
       "                                             content  page_scraped  \n",
       "0  QUESTION:  A Fox News alert now, the United St...           NaN  \n",
       "1  The United States of America has led the world...           NaN  \n",
       "2  The United States has sanctioned three individ...           NaN  \n",
       "3  Today, the United States is announcing visa re...           NaN  \n",
       "4  The United States strongly condemns Russia’s d...           NaN  "
      ]
     },
     "execution_count": 152,
     "metadata": {},
     "output_type": "execute_result"
    }
   ],
   "source": [
    "combined_df3.head()"
   ]
  },
  {
   "cell_type": "code",
   "execution_count": 153,
   "id": "b6a590b6",
   "metadata": {},
   "outputs": [
    {
     "data": {
      "text/plain": [
       "'content already existing for https://2017-2021.state.gov/secretary-michael-r-pompeo-with-john-roberts-of-fox-news-america-reports/'"
      ]
     },
     "execution_count": 153,
     "metadata": {},
     "output_type": "execute_result"
    },
    {
     "data": {
      "text/plain": [
       "'content already existing for https://2017-2021.state.gov/determination-of-the-secretary-of-state-on-atrocities-in-xinjiang/'"
      ]
     },
     "execution_count": 153,
     "metadata": {},
     "output_type": "execute_result"
    },
    {
     "data": {
      "text/plain": [
       "'content already existing for https://2017-2021.state.gov/the-united-states-takes-further-action-against-enablers-of-venezuelan-oil-transactions-including-sanctions-evasion-network/'"
      ]
     },
     "execution_count": 153,
     "metadata": {},
     "output_type": "execute_result"
    },
    {
     "data": {
      "text/plain": [
       "'content already existing for https://2017-2021.state.gov/visa-restrictions-on-tanzanians-for-undermining-the-democratic-process-and-human-rights/'"
      ]
     },
     "execution_count": 153,
     "metadata": {},
     "output_type": "execute_result"
    },
    {
     "data": {
      "text/plain": [
       "'content already existing for https://2017-2021.state.gov/arrest-of-aleksey-navalny/'"
      ]
     },
     "execution_count": 153,
     "metadata": {},
     "output_type": "execute_result"
    },
    {
     "data": {
      "text/plain": [
       "'content already existing for https://2017-2021.state.gov/championing-americas-first-freedom/'"
      ]
     },
     "execution_count": 153,
     "metadata": {},
     "output_type": "execute_result"
    },
    {
     "data": {
      "text/plain": [
       "'content already existing for https://2017-2021.state.gov/increasing-iran-metals-sanctions-targeting-irans-nuclear-military-and-ballistic-missile-programs-and-the-irgc/'"
      ]
     },
     "execution_count": 153,
     "metadata": {},
     "output_type": "execute_result"
    },
    {
     "data": {
      "text/plain": [
       "'content already existing for https://2017-2021.state.gov/ensuring-a-transparent-thorough-investigation-of-covid-19s-origin/'"
      ]
     },
     "execution_count": 153,
     "metadata": {},
     "output_type": "execute_result"
    },
    {
     "data": {
      "text/plain": [
       "'content already existing for https://2017-2021.state.gov/designating-prc-and-hong-kong-officials-after-widespread-pro-democracy-arrests-in-hong-kong/'"
      ]
     },
     "execution_count": 153,
     "metadata": {},
     "output_type": "execute_result"
    },
    {
     "data": {
      "text/plain": [
       "'content already existing for https://2017-2021.state.gov/united-states-places-global-magnitsky-sanctions-on-the-cuban-ministry-of-interior-and-its-minister/'"
      ]
     },
     "execution_count": 153,
     "metadata": {},
     "output_type": "execute_result"
    },
    {
     "data": {
      "text/plain": [
       "'content already existing for https://2017-2021.state.gov/imposing-sanctions-related-to-the-islamic-republic-of-iran-shipping-lines-and-iranian-shipping-entities/'"
      ]
     },
     "execution_count": 153,
     "metadata": {},
     "output_type": "execute_result"
    },
    {
     "data": {
      "text/plain": [
       "'success: content added from https://2017-2021.state.gov/imposing-sanctions-on-iranian-entities-for-activities-related-to-conventional-arms-proliferation/'"
      ]
     },
     "execution_count": 153,
     "metadata": {},
     "output_type": "execute_result"
    },
    {
     "data": {
      "text/plain": [
       "'success: content added from https://2017-2021.state.gov/protecting-and-preserving-a-free-and-open-south-china-sea/'"
      ]
     },
     "execution_count": 153,
     "metadata": {},
     "output_type": "execute_result"
    },
    {
     "data": {
      "text/plain": [
       "'success: content added from https://2017-2021.state.gov/10th-anniversary-of-the-revolution-in-tunisia/'"
      ]
     },
     "execution_count": 153,
     "metadata": {},
     "output_type": "execute_result"
    },
    {
     "data": {
      "text/plain": [
       "'success: content added from https://2017-2021.state.gov/the-united-states-targets-foundations-controlled-by-irans-supreme-leader/'"
      ]
     },
     "execution_count": 153,
     "metadata": {},
     "output_type": "execute_result"
    },
    {
     "data": {
      "text/plain": [
       "'success: content added from https://2017-2021.state.gov/the-iran-al-qaida-axis/'"
      ]
     },
     "execution_count": 153,
     "metadata": {},
     "output_type": "execute_result"
    },
    {
     "data": {
      "text/plain": [
       "'success: content added from https://2017-2021.state.gov/united-states-takes-action-to-counter-iranian-support-for-al-qaida/'"
      ]
     },
     "execution_count": 153,
     "metadata": {},
     "output_type": "execute_result"
    },
    {
     "data": {
      "text/plain": [
       "'success: content added from https://2017-2021.state.gov/secretary-michael-r-pompeo-with-hugh-hewitt-of-the-hugh-hewitt-show-8/'"
      ]
     },
     "execution_count": 153,
     "metadata": {},
     "output_type": "execute_result"
    },
    {
     "data": {
      "text/plain": [
       "'success: content added from https://2017-2021.state.gov/hoover-institutions-pacific-century-podcast-with-co-hosts-michael-auslin-and-john-yoo/'"
      ]
     },
     "execution_count": 153,
     "metadata": {},
     "output_type": "execute_result"
    },
    {
     "data": {
      "text/plain": [
       "'success: content added from https://2017-2021.state.gov/reclaiming-americas-voice-for-freedom/'"
      ]
     },
     "execution_count": 153,
     "metadata": {},
     "output_type": "execute_result"
    },
    {
     "data": {
      "text/plain": [
       "'success: content added from https://2017-2021.state.gov/u-s-announces-designation-of-cuba-as-a-state-sponsor-of-terrorism/'"
      ]
     },
     "execution_count": 153,
     "metadata": {},
     "output_type": "execute_result"
    },
    {
     "data": {
      "text/plain": [
       "'success: content added from https://2017-2021.state.gov/sanctioning-russia-linked-disinformation-network-for-its-involvement-in-attempts-to-influence-u-s-election/'"
      ]
     },
     "execution_count": 153,
     "metadata": {},
     "output_type": "execute_result"
    },
    {
     "data": {
      "text/plain": [
       "'success: content added from https://2017-2021.state.gov/terrorist-designation-of-ansarallah-in-yemen/'"
      ]
     },
     "execution_count": 153,
     "metadata": {},
     "output_type": "execute_result"
    },
    {
     "data": {
      "text/plain": [
       "'success: content added from https://2017-2021.state.gov/iran-threatening-to-expel-un-investigators/'"
      ]
     },
     "execution_count": 153,
     "metadata": {},
     "output_type": "execute_result"
    },
    {
     "data": {
      "text/plain": [
       "'success: content added from https://2017-2021.state.gov/lifting-self-imposed-restrictions-on-the-u-s-taiwan-relationship/'"
      ]
     },
     "execution_count": 153,
     "metadata": {},
     "output_type": "execute_result"
    },
    {
     "data": {
      "text/plain": [
       "'success: content added from https://2017-2021.state.gov/remembering-the-victims-of-ps752/'"
      ]
     },
     "execution_count": 153,
     "metadata": {},
     "output_type": "execute_result"
    },
    {
     "data": {
      "text/plain": [
       "'success: content added from https://2017-2021.state.gov/designation-of-iraqi-militia-leader-in-connection-with-serious-human-rights-abuse/'"
      ]
     },
     "execution_count": 153,
     "metadata": {},
     "output_type": "execute_result"
    },
    {
     "data": {
      "text/plain": [
       "'success: content added from https://2017-2021.state.gov/on-the-mass-arrests-of-democracy-advocates-in-hong-kong/'"
      ]
     },
     "execution_count": 153,
     "metadata": {},
     "output_type": "execute_result"
    },
    {
     "data": {
      "text/plain": [
       "'success: content added from https://2017-2021.state.gov/the-united-states-welcomes-the-breakthrough-to-restore-gulf-and-arab-unity/'"
      ]
     },
     "execution_count": 153,
     "metadata": {},
     "output_type": "execute_result"
    },
    {
     "data": {
      "text/plain": [
       "'success: content added from https://2017-2021.state.gov/the-united-states-continues-to-recognize-interim-president-guaido-and-the-last-democratically-elected-national-assembly-in-venezuela/'"
      ]
     },
     "execution_count": 153,
     "metadata": {},
     "output_type": "execute_result"
    },
    {
     "data": {
      "text/plain": [
       "'success: content added from https://2017-2021.state.gov/the-united-states-sanctions-venezuelan-officials-involved-in-unjust-sentencing-of-the-citgo-6/'"
      ]
     },
     "execution_count": 153,
     "metadata": {},
     "output_type": "execute_result"
    },
    {
     "data": {
      "text/plain": [
       "'success: content added from https://2017-2021.state.gov/on-the-silencing-and-prosecution-of-prc-citizen-journalist-zhang-zhan/'"
      ]
     },
     "execution_count": 153,
     "metadata": {},
     "output_type": "execute_result"
    },
    {
     "data": {
      "text/plain": [
       "'success: content added from https://2017-2021.state.gov/protecting-u-s-investors-from-financing-communist-chinese-military-companies/'"
      ]
     },
     "execution_count": 153,
     "metadata": {},
     "output_type": "execute_result"
    },
    {
     "data": {
      "text/plain": [
       "'success: content added from https://2017-2021.state.gov/the-ortega-regimes-new-authoritarian-law-undermines-democracy/'"
      ]
     },
     "execution_count": 153,
     "metadata": {},
     "output_type": "execute_result"
    },
    {
     "data": {
      "text/plain": [
       "'success: content added from https://2017-2021.state.gov/announcement-of-new-virtual-presence-post-for-western-sahara/'"
      ]
     },
     "execution_count": 153,
     "metadata": {},
     "output_type": "execute_result"
    },
    {
     "data": {
      "text/plain": [
       "'success: content added from https://2017-2021.state.gov/imposing-sanctions-and-visa-restrictions-on-additional-individuals-and-entities-undermining-belarusian-democracy/'"
      ]
     },
     "execution_count": 153,
     "metadata": {},
     "output_type": "execute_result"
    },
    {
     "data": {
      "text/plain": [
       "'success: content added from https://2017-2021.state.gov/syria-sanctions-designations-on-the-anniversary-of-un-security-council-resolution-2254/'"
      ]
     },
     "execution_count": 153,
     "metadata": {},
     "output_type": "execute_result"
    },
    {
     "data": {
      "text/plain": [
       "'success: content added from https://2017-2021.state.gov/israel-lebanon-maritime-negotiations/'"
      ]
     },
     "execution_count": 153,
     "metadata": {},
     "output_type": "execute_result"
    },
    {
     "data": {
      "text/plain": [
       "'success: content added from https://2017-2021.state.gov/eric-ueland-designated-authorities-and-functions-of-under-secretary-for-civilian-security-democracy-and-human-rights/'"
      ]
     },
     "execution_count": 153,
     "metadata": {},
     "output_type": "execute_result"
    },
    {
     "data": {
      "text/plain": [
       "'success: content added from https://2017-2021.state.gov/on-nathan-saless-service-as-senior-official-under-secretary-of-state-for-civilian-security-democracy-and-human-rights/'"
      ]
     },
     "execution_count": 153,
     "metadata": {},
     "output_type": "execute_result"
    },
    {
     "data": {
      "text/plain": [
       "'success: content added from https://2017-2021.state.gov/additional-restrictions-on-the-issuance-of-visas-for-peoples-republic-of-china-officials-engaged-in-human-rights-abuses/'"
      ]
     },
     "execution_count": 153,
     "metadata": {},
     "output_type": "execute_result"
    },
    {
     "data": {
      "text/plain": [
       "'success: content added from https://2017-2021.state.gov/additions-of-cuban-military-owned-companies-to-the-specially-designated-nationals-and-blocked-persons-list/'"
      ]
     },
     "execution_count": 153,
     "metadata": {},
     "output_type": "execute_result"
    },
    {
     "data": {
      "text/plain": [
       "'success: content added from https://2017-2021.state.gov/the-united-states-sanctions-a-nicaraguan-police-chief-a-member-of-the-nicaraguan-judiciary-and-another-member-of-ortegas-inner-circle/'"
      ]
     },
     "execution_count": 153,
     "metadata": {},
     "output_type": "execute_result"
    },
    {
     "data": {
      "text/plain": [
       "'success: content added from https://2017-2021.state.gov/rocket-attack-in-iraq-2/'"
      ]
     },
     "execution_count": 153,
     "metadata": {},
     "output_type": "execute_result"
    },
    {
     "data": {
      "text/plain": [
       "'success: content added from https://2017-2021.state.gov/secretary-michael-r-pompeo-with-nino-scalia-of-madisons-notes-podcast/'"
      ]
     },
     "execution_count": 153,
     "metadata": {},
     "output_type": "execute_result"
    },
    {
     "data": {
      "text/plain": [
       "'success: content added from https://2017-2021.state.gov/secretary-michael-r-pompeo-with-mark-levin-of-the-mark-levin-show/'"
      ]
     },
     "execution_count": 153,
     "metadata": {},
     "output_type": "execute_result"
    },
    {
     "data": {
      "text/plain": [
       "'success: content added from https://2017-2021.state.gov/u-s-imposes-new-sanctions-on-peoples-republic-of-china-actors-linked-to-malign-activities/'"
      ]
     },
     "execution_count": 153,
     "metadata": {},
     "output_type": "execute_result"
    },
    {
     "data": {
      "text/plain": [
       "'success: content added from https://2017-2021.state.gov/the-free-worlds-leadership-will-defeat-covid-19/'"
      ]
     },
     "execution_count": 153,
     "metadata": {},
     "output_type": "execute_result"
    },
    {
     "data": {
      "text/plain": [
       "'success: content added from https://2017-2021.state.gov/release-of-the-u-s-strategy-to-prevent-conflict-and-promote-stability/'"
      ]
     },
     "execution_count": 153,
     "metadata": {},
     "output_type": "execute_result"
    },
    {
     "data": {
      "text/plain": [
       "'success: content added from https://2017-2021.state.gov/the-united-states-takes-actions-against-supporters-of-the-illegitimate-maduro-regimes-fraudulent-elections/'"
      ]
     },
     "execution_count": 153,
     "metadata": {},
     "output_type": "execute_result"
    },
    {
     "data": {
      "text/plain": [
       "'success: content added from https://2017-2021.state.gov/qatar-national-day/'"
      ]
     },
     "execution_count": 153,
     "metadata": {},
     "output_type": "execute_result"
    },
    {
     "data": {
      "text/plain": [
       "'success: content added from https://2017-2021.state.gov/the-united-states-supports-the-voices-of-the-venezuelan-people/'"
      ]
     },
     "execution_count": 153,
     "metadata": {},
     "output_type": "execute_result"
    },
    {
     "data": {
      "text/plain": [
       "'success: content added from https://2017-2021.state.gov/sanctioning-supporters-of-irans-petroleum-and-petrochemical-sectors/'"
      ]
     },
     "execution_count": 153,
     "metadata": {},
     "output_type": "execute_result"
    },
    {
     "data": {
      "text/plain": [
       "'success: content added from https://2017-2021.state.gov/bahrain-national-day/'"
      ]
     },
     "execution_count": 153,
     "metadata": {},
     "output_type": "execute_result"
    },
    {
     "data": {
      "text/plain": [
       "'success: content added from https://2017-2021.state.gov/bhutan-national-day-4/'"
      ]
     },
     "execution_count": 153,
     "metadata": {},
     "output_type": "execute_result"
    },
    {
     "data": {
      "text/plain": [
       "'success: content added from https://2017-2021.state.gov/secretary-michael-r-pompeo-with-ben-shapiro-of-the-ben-shapiro-show-6/'"
      ]
     },
     "execution_count": 153,
     "metadata": {},
     "output_type": "execute_result"
    },
    {
     "data": {
      "text/plain": [
       "'success: content added from https://2017-2021.state.gov/kazakhstan-independence-day/'"
      ]
     },
     "execution_count": 153,
     "metadata": {},
     "output_type": "execute_result"
    },
    {
     "data": {
      "text/plain": [
       "'success: content added from https://2017-2021.state.gov/state-department-terrorist-designation-of-saraya-al-mukhtar/'"
      ]
     },
     "execution_count": 153,
     "metadata": {},
     "output_type": "execute_result"
    },
    {
     "data": {
      "text/plain": [
       "'success: content added from https://2017-2021.state.gov/russian-influence-in-the-mediterranean/'"
      ]
     },
     "execution_count": 153,
     "metadata": {},
     "output_type": "execute_result"
    },
    {
     "data": {
      "text/plain": [
       "'success: content added from https://2017-2021.state.gov/condolences-on-the-passing-of-prime-minister-ambrose-dlamini-of-the-kingdom-of-eswatini/'"
      ]
     },
     "execution_count": 153,
     "metadata": {},
     "output_type": "execute_result"
    },
    {
     "data": {
      "text/plain": [
       "'success: content added from https://2017-2021.state.gov/the-united-states-sanctions-turkey-under-caatsa-231/'"
      ]
     },
     "execution_count": 153,
     "metadata": {},
     "output_type": "execute_result"
    },
    {
     "data": {
      "text/plain": [
       "'success: content added from https://2017-2021.state.gov/sanctioning-iranian-intelligence-officers-involved-in-the-abduction-of-bob-levinson/'"
      ]
     },
     "execution_count": 153,
     "metadata": {},
     "output_type": "execute_result"
    },
    {
     "data": {
      "text/plain": [
       "'success: content added from https://2017-2021.state.gov/secretary-michael-r-pompeo-with-rob-schmitt-of-wake-up-america-on-newsmax/'"
      ]
     },
     "execution_count": 153,
     "metadata": {},
     "output_type": "execute_result"
    },
    {
     "data": {
      "text/plain": [
       "'success: content added from https://2017-2021.state.gov/secretary-michael-r-pompeo-with-alex-marlow-of-breitbart-news-radio-on-siriusxm-patriot/'"
      ]
     },
     "execution_count": 153,
     "metadata": {},
     "output_type": "execute_result"
    },
    {
     "data": {
      "text/plain": [
       "'success: content added from https://2017-2021.state.gov/the-republic-of-kenyas-national-day-3/'"
      ]
     },
     "execution_count": 153,
     "metadata": {},
     "output_type": "execute_result"
    },
    {
     "data": {
      "text/plain": [
       "'success: content added from https://2017-2021.state.gov/on-progress-toward-peace/'"
      ]
     },
     "execution_count": 153,
     "metadata": {},
     "output_type": "execute_result"
    },
    {
     "data": {
      "text/plain": [
       "'success: content added from https://2017-2021.state.gov/irans-efforts-at-intimidation-must-not-be-rewarded/'"
      ]
     },
     "execution_count": 153,
     "metadata": {},
     "output_type": "execute_result"
    },
    {
     "data": {
      "text/plain": [
       "'success: content added from https://2017-2021.state.gov/burkina-fasos-national-day-3/'"
      ]
     },
     "execution_count": 153,
     "metadata": {},
     "output_type": "execute_result"
    },
    {
     "data": {
      "text/plain": [
       "'success: content added from https://2017-2021.state.gov/secretary-michael-r-pompeo-with-tony-perkins-of-washington-watch-with-tony-perkins-4/'"
      ]
     },
     "execution_count": 153,
     "metadata": {},
     "output_type": "execute_result"
    },
    {
     "data": {
      "text/plain": [
       "'success: content added from https://2017-2021.state.gov/rebranding-united-states-foreign-assistance/'"
      ]
     },
     "execution_count": 153,
     "metadata": {},
     "output_type": "execute_result"
    },
    {
     "data": {
      "text/plain": [
       "'success: content added from https://2017-2021.state.gov/united-states-and-partners-promote-accountability-for-corruption-and-human-rights-abuse/'"
      ]
     },
     "execution_count": 153,
     "metadata": {},
     "output_type": "execute_result"
    },
    {
     "data": {
      "text/plain": [
       "'success: content added from https://2017-2021.state.gov/public-designations-of-current-and-former-government-officials-under-section-7031c-of-the-department-of-state-foreign-operations-and-related-programs-appropriations-act-due-to-involvement-in-gross/'"
      ]
     },
     "execution_count": 153,
     "metadata": {},
     "output_type": "execute_result"
    },
    {
     "data": {
      "text/plain": [
       "'success: content added from https://2017-2021.state.gov/the-presidents-national-space-policy/'"
      ]
     },
     "execution_count": 153,
     "metadata": {},
     "output_type": "execute_result"
    },
    {
     "data": {
      "text/plain": [
       "'success: content added from https://2017-2021.state.gov/international-human-rights-day/'"
      ]
     },
     "execution_count": 153,
     "metadata": {},
     "output_type": "execute_result"
    },
    {
     "data": {
      "text/plain": [
       "'success: content added from https://2017-2021.state.gov/the-chinese-communist-party-on-the-american-campus/'"
      ]
     },
     "execution_count": 153,
     "metadata": {},
     "output_type": "execute_result"
    },
    {
     "data": {
      "text/plain": [
       "'success: content added from https://2017-2021.state.gov/president-trumps-executive-order-on-ensuring-access-to-united-states-government-covid-19-vaccines/'"
      ]
     },
     "execution_count": 153,
     "metadata": {},
     "output_type": "execute_result"
    },
    {
     "data": {
      "text/plain": [
       "'success: content added from https://2017-2021.state.gov/the-united-states-sanctions-irgc-facilitators-in-iran-and-an-irgc-official-in-yemen/'"
      ]
     },
     "execution_count": 153,
     "metadata": {},
     "output_type": "execute_result"
    },
    {
     "data": {
      "text/plain": [
       "'success: content added from https://2017-2021.state.gov/the-united-states-applauds-the-interim-governments-peoples-vote/'"
      ]
     },
     "execution_count": 153,
     "metadata": {},
     "output_type": "execute_result"
    },
    {
     "data": {
      "text/plain": [
       "'success: content added from https://2017-2021.state.gov/secretary-michael-r-pompeo-with-matt-murray-of-the-wall-street-journal-ceo-council/'"
      ]
     },
     "execution_count": 153,
     "metadata": {},
     "output_type": "execute_result"
    },
    {
     "data": {
      "text/plain": [
       "'success: content added from https://2017-2021.state.gov/secretary-michael-r-pompeo-with-guy-benson-of-the-guy-benson-show-3/'"
      ]
     },
     "execution_count": 153,
     "metadata": {},
     "output_type": "execute_result"
    },
    {
     "data": {
      "text/plain": [
       "'success: content added from https://2017-2021.state.gov/united-states-takes-action-against-violators-of-religious-freedom-2/'"
      ]
     },
     "execution_count": 153,
     "metadata": {},
     "output_type": "execute_result"
    },
    {
     "data": {
      "text/plain": [
       "'success: content added from https://2017-2021.state.gov/designations-of-national-peoples-congress-officials-undermining-the-autonomy-of-hong-kong/'"
      ]
     },
     "execution_count": 153,
     "metadata": {},
     "output_type": "execute_result"
    },
    {
     "data": {
      "text/plain": [
       "'success: content added from https://2017-2021.state.gov/the-united-states-condemns-venezuelas-fraudulent-legislative-elections/'"
      ]
     },
     "execution_count": 153,
     "metadata": {},
     "output_type": "execute_result"
    },
    {
     "data": {
      "text/plain": [
       "'success: content added from https://2017-2021.state.gov/on-the-eus-adoption-of-a-human-rights-sanctions-framework/'"
      ]
     },
     "execution_count": 153,
     "metadata": {},
     "output_type": "execute_result"
    },
    {
     "data": {
      "text/plain": [
       "'success: content added from https://2017-2021.state.gov/finland-national-day-4/'"
      ]
     },
     "execution_count": 153,
     "metadata": {},
     "output_type": "execute_result"
    },
    {
     "data": {
      "text/plain": [
       "'success: content added from https://2017-2021.state.gov/u-s-welcomes-first-meeting-of-the-afghanistan-high-council-for-national-reconciliation-leadership-committee/'"
      ]
     },
     "execution_count": 153,
     "metadata": {},
     "output_type": "execute_result"
    },
    {
     "data": {
      "text/plain": [
       "'success: content added from https://2017-2021.state.gov/the-kingdom-of-thailands-national-day/'"
      ]
     },
     "execution_count": 153,
     "metadata": {},
     "output_type": "execute_result"
    },
    {
     "data": {
      "text/plain": [
       "'success: content added from https://2017-2021.state.gov/termination-of-prc-funded-propaganda-programs/'"
      ]
     },
     "execution_count": 153,
     "metadata": {},
     "output_type": "execute_result"
    },
    {
     "data": {
      "text/plain": [
       "'success: content added from https://2017-2021.state.gov/u-s-commends-slovenia-for-designating-hizballah/'"
      ]
     },
     "execution_count": 153,
     "metadata": {},
     "output_type": "execute_result"
    },
    {
     "data": {
      "text/plain": [
       "'success: content added from https://2017-2021.state.gov/secretary-michael-r-pompeo-at-the-iiss-manama-dialogue/'"
      ]
     },
     "execution_count": 153,
     "metadata": {},
     "output_type": "execute_result"
    },
    {
     "data": {
      "text/plain": [
       "'success: content added from https://2017-2021.state.gov/u-s-imposes-sanctions-on-peoples-republic-of-china-officials-engaged-in-coercive-influence-activities/'"
      ]
     },
     "execution_count": 153,
     "metadata": {},
     "output_type": "execute_result"
    },
    {
     "data": {
      "text/plain": [
       "'success: content added from https://2017-2021.state.gov/on-the-political-persecution-of-hong-kong-democracy-advocates/'"
      ]
     },
     "execution_count": 153,
     "metadata": {},
     "output_type": "execute_result"
    },
    {
     "data": {
      "text/plain": [
       "'success: content added from https://2017-2021.state.gov/sanctions-on-iranian-entities-involved-in-chemical-weapons-activities-of-concern/'"
      ]
     },
     "execution_count": 153,
     "metadata": {},
     "output_type": "execute_result"
    },
    {
     "data": {
      "text/plain": [
       "'success: content added from https://2017-2021.state.gov/international-day-of-persons-with-disabilities-4/'"
      ]
     },
     "execution_count": 153,
     "metadata": {},
     "output_type": "execute_result"
    },
    {
     "data": {
      "text/plain": [
       "'success: content added from https://2017-2021.state.gov/designation-of-lucio-rodriguez-serrano-under-the-foreign-narcotics-kingpin-designation-act/'"
      ]
     },
     "execution_count": 153,
     "metadata": {},
     "output_type": "execute_result"
    },
    {
     "data": {
      "text/plain": [
       "'success: content added from https://2017-2021.state.gov/the-united-states-welcomes-major-milestone-in-afghanistan-peace-negotiations/'"
      ]
     },
     "execution_count": 153,
     "metadata": {},
     "output_type": "execute_result"
    },
    {
     "data": {
      "text/plain": [
       "'success: content added from https://2017-2021.state.gov/the-united-arab-emirates-national-day/'"
      ]
     },
     "execution_count": 153,
     "metadata": {},
     "output_type": "execute_result"
    },
    {
     "data": {
      "text/plain": [
       "'success: content added from https://2017-2021.state.gov/lao-peoples-democratic-republic-national-day-3/'"
      ]
     },
     "execution_count": 153,
     "metadata": {},
     "output_type": "execute_result"
    },
    {
     "data": {
      "text/plain": [
       "'success: content added from https://2017-2021.state.gov/designation-of-jhon-fredy-zapata-garzon-under-the-foreign-narcotics-kingpin-designation-act/'"
      ]
     },
     "execution_count": 153,
     "metadata": {},
     "output_type": "execute_result"
    },
    {
     "data": {
      "text/plain": [
       "'success: content added from https://2017-2021.state.gov/secretary-michael-r-pompeo-and-bahraini-foreign-minister-al-zayani-at-the-u-s-bahrain-strategic-dialogue/'"
      ]
     },
     "execution_count": 153,
     "metadata": {},
     "output_type": "execute_result"
    },
    {
     "data": {
      "text/plain": [
       "'success: content added from https://2017-2021.state.gov/romania-national-day-1/'"
      ]
     },
     "execution_count": 153,
     "metadata": {},
     "output_type": "execute_result"
    },
    {
     "data": {
      "text/plain": [
       "'success: content added from https://2017-2021.state.gov/central-african-republic-national-day-3/'"
      ]
     },
     "execution_count": 153,
     "metadata": {},
     "output_type": "execute_result"
    },
    {
     "data": {
      "text/plain": [
       "'success: content added from https://2017-2021.state.gov/u-s-sanctions-ceiec-for-supporting-the-illegitimate-maduro-regimes-efforts-to-undermine-venezuelan-democracy/'"
      ]
     },
     "execution_count": 153,
     "metadata": {},
     "output_type": "execute_result"
    },
    {
     "data": {
      "text/plain": [
       "'success: content added from https://2017-2021.state.gov/barbados-independence-day-4/'"
      ]
     },
     "execution_count": 153,
     "metadata": {},
     "output_type": "execute_result"
    },
    {
     "data": {
      "text/plain": [
       "'success: content added from https://2017-2021.state.gov/albania-national-day-4/'"
      ]
     },
     "execution_count": 153,
     "metadata": {},
     "output_type": "execute_result"
    },
    {
     "data": {
      "text/plain": [
       "'success: content added from https://2017-2021.state.gov/the-united-states-condemns-the-conviction-of-the-citgo-6/'"
      ]
     },
     "execution_count": 153,
     "metadata": {},
     "output_type": "execute_result"
    },
    {
     "data": {
      "text/plain": [
       "'success: content added from https://2017-2021.state.gov/new-sanctions-under-the-iran-north-korea-and-syria-nonproliferation-act-inksna-2/'"
      ]
     },
     "execution_count": 153,
     "metadata": {},
     "output_type": "execute_result"
    },
    {
     "data": {
      "text/plain": [
       "'success: content added from https://2017-2021.state.gov/secretary-michael-r-pompeo-with-bret-baier-of-fox-news-special-report-3/'"
      ]
     },
     "execution_count": 153,
     "metadata": {},
     "output_type": "execute_result"
    },
    {
     "data": {
      "text/plain": [
       "'success: content added from https://2017-2021.state.gov/observance-of-international-day-for-the-elimination-of-violence-against-women/'"
      ]
     },
     "execution_count": 153,
     "metadata": {},
     "output_type": "execute_result"
    },
    {
     "data": {
      "text/plain": [
       "'success: content added from https://2017-2021.state.gov/suriname-national-day/'"
      ]
     },
     "execution_count": 153,
     "metadata": {},
     "output_type": "execute_result"
    },
    {
     "data": {
      "text/plain": [
       "'success: content added from https://2017-2021.state.gov/bosnia-and-herzegovina-national-statehood-day-2/'"
      ]
     },
     "execution_count": 153,
     "metadata": {},
     "output_type": "execute_result"
    },
    {
     "data": {
      "text/plain": [
       "'success: content added from https://2017-2021.state.gov/secretary-michael-r-pompeo-interview-with-bret-baier-of-fox-news-special-report/'"
      ]
     },
     "execution_count": 153,
     "metadata": {},
     "output_type": "execute_result"
    },
    {
     "data": {
      "text/plain": [
       "'success: content added from https://2017-2021.state.gov/the-cuban-regimes-cruel-crackdown-on-peaceful-protesters/'"
      ]
     },
     "execution_count": 153,
     "metadata": {},
     "output_type": "execute_result"
    },
    {
     "data": {
      "text/plain": [
       "'success: content added from https://2017-2021.state.gov/remarks-at-2020-afghanistan-conference/'"
      ]
     },
     "execution_count": 153,
     "metadata": {},
     "output_type": "execute_result"
    },
    {
     "data": {
      "text/plain": [
       "'success: content added from https://2017-2021.state.gov/secretary-michael-r-pompeo-and-kuwaiti-foreign-minister-sheikh-ahmad-nasser-al-mohammad-al-sabah/'"
      ]
     },
     "execution_count": 153,
     "metadata": {},
     "output_type": "execute_result"
    },
    {
     "data": {
      "text/plain": [
       "'success: content added from https://2017-2021.state.gov/secretary-michael-r-pompeo-with-taher-baraka-of-al-arabiya/'"
      ]
     },
     "execution_count": 153,
     "metadata": {},
     "output_type": "execute_result"
    },
    {
     "data": {
      "text/plain": [
       "'success: content added from https://2017-2021.state.gov/on-the-presidential-elections-in-the-republic-of-palau/'"
      ]
     },
     "execution_count": 153,
     "metadata": {},
     "output_type": "execute_result"
    },
    {
     "data": {
      "text/plain": [
       "'success: content added from https://2017-2021.state.gov/anniversary-of-the-wrongful-detention-of-the-citgo-6-in-venezuela/'"
      ]
     },
     "execution_count": 153,
     "metadata": {},
     "output_type": "execute_result"
    },
    {
     "data": {
      "text/plain": [
       "'success: content added from https://2017-2021.state.gov/lebanon-national-day-4/'"
      ]
     },
     "execution_count": 153,
     "metadata": {},
     "output_type": "execute_result"
    },
    {
     "data": {
      "text/plain": [
       "'success: content added from https://2017-2021.state.gov/secretary-michael-r-pompeo-and-israeli-foreign-minister-gabi-ashkenazi/'"
      ]
     },
     "execution_count": 153,
     "metadata": {},
     "output_type": "execute_result"
    },
    {
     "data": {
      "text/plain": [
       "'success: content added from https://2017-2021.state.gov/marking-of-country-of-origin/'"
      ]
     },
     "execution_count": 153,
     "metadata": {},
     "output_type": "execute_result"
    },
    {
     "data": {
      "text/plain": [
       "'success: content added from https://2017-2021.state.gov/secretary-michael-r-pompeo-and-israeli-prime-minister-benjamin-netanyahu/'"
      ]
     },
     "execution_count": 153,
     "metadata": {},
     "output_type": "execute_result"
    },
    {
     "data": {
      "text/plain": [
       "'success: content added from https://2017-2021.state.gov/identifying-organizations-engaged-in-anti-semitic-bds-activities/'"
      ]
     },
     "execution_count": 153,
     "metadata": {},
     "output_type": "execute_result"
    },
    {
     "data": {
      "text/plain": [
       "'success: content added from https://2017-2021.state.gov/monaco-national-day-3/'"
      ]
     },
     "execution_count": 153,
     "metadata": {},
     "output_type": "execute_result"
    },
    {
     "data": {
      "text/plain": [
       "'success: content added from https://2017-2021.state.gov/secretary-michael-r-pompeo-with-israeli-prime-minister-benjamin-netanyahu-and-bahraini-foreign-minister-abdullatif-bin-rashid-al-zayani-before-their-meeting/'"
      ]
     },
     "execution_count": 153,
     "metadata": {},
     "output_type": "execute_result"
    },
    {
     "data": {
      "text/plain": [
       "'success: content added from https://2017-2021.state.gov/commemoration-of-the-massacre-of-mahshahr-and-designation-of-iranian-officials-due-to-involvement-in-gross-violations-of-human-rights/'"
      ]
     },
     "execution_count": 153,
     "metadata": {},
     "output_type": "execute_result"
    },
    {
     "data": {
      "text/plain": [
       "'success: content added from https://2017-2021.state.gov/the-importance-of-sanctions-on-iran/'"
      ]
     },
     "execution_count": 153,
     "metadata": {},
     "output_type": "execute_result"
    },
    {
     "data": {
      "text/plain": [
       "'success: content added from https://2017-2021.state.gov/oman-national-day/'"
      ]
     },
     "execution_count": 153,
     "metadata": {},
     "output_type": "execute_result"
    },
    {
     "data": {
      "text/plain": [
       "'success: content added from https://2017-2021.state.gov/latvia-national-day-4/'"
      ]
     },
     "execution_count": 153,
     "metadata": {},
     "output_type": "execute_result"
    },
    {
     "data": {
      "text/plain": [
       "'success: content added from https://2017-2021.state.gov/state-department-designates-two-senior-al-shabaab-leaders-as-terrorists/'"
      ]
     },
     "execution_count": 153,
     "metadata": {},
     "output_type": "execute_result"
    },
    {
     "data": {
      "text/plain": [
       "'success: content added from https://2017-2021.state.gov/the-united-states-welcomes-cessation-of-hostilities-between-armenia-and-azerbaijan-and-announces-new-assistance-to-respond-to-the-nagorno-karabakh-humanitarian-emergency/'"
      ]
     },
     "execution_count": 153,
     "metadata": {},
     "output_type": "execute_result"
    },
    {
     "data": {
      "text/plain": [
       "'success: content added from https://2017-2021.state.gov/the-united-states-condemns-the-attack-on-eritrea-by-the-tigray-peoples-liberation-front/'"
      ]
     },
     "execution_count": 153,
     "metadata": {},
     "output_type": "execute_result"
    },
    {
     "data": {
      "text/plain": [
       "'success: content added from https://2017-2021.state.gov/anniversary-of-protests-in-iran/'"
      ]
     },
     "execution_count": 153,
     "metadata": {},
     "output_type": "execute_result"
    },
    {
     "data": {
      "text/plain": [
       "'success: content added from https://2017-2021.state.gov/helicopter-crash-in-egypt/'"
      ]
     },
     "execution_count": 153,
     "metadata": {},
     "output_type": "execute_result"
    },
    {
     "data": {
      "text/plain": [
       "'success: content added from https://2017-2021.state.gov/st-vincent-and-the-grenadines-election/'"
      ]
     },
     "execution_count": 153,
     "metadata": {},
     "output_type": "execute_result"
    },
    {
     "data": {
      "text/plain": [
       "'success: content added from https://2017-2021.state.gov/disqualification-of-pan-democratic-lawmakers-in-hong-kong/'"
      ]
     },
     "execution_count": 153,
     "metadata": {},
     "output_type": "execute_result"
    },
    {
     "data": {
      "text/plain": [
       "'success: content added from https://2017-2021.state.gov/on-the-passing-of-his-royal-highness-prince-khalifa-bin-salman-al-khalifa/'"
      ]
     },
     "execution_count": 153,
     "metadata": {},
     "output_type": "execute_result"
    },
    {
     "data": {
      "text/plain": [
       "'success: content added from https://2017-2021.state.gov/political-prisoners-in-belarus-should-be-released/'"
      ]
     },
     "execution_count": 153,
     "metadata": {},
     "output_type": "execute_result"
    },
    {
     "data": {
      "text/plain": [
       "'success: content added from https://2017-2021.state.gov/secretary-michael-r-pompeo-with-hugh-hewitt-of-the-hugh-hewitt-show-7/'"
      ]
     },
     "execution_count": 153,
     "metadata": {},
     "output_type": "execute_result"
    },
    {
     "data": {
      "text/plain": [
       "'success: content added from https://2017-2021.state.gov/designation-of-iranian-procurement-networks/'"
      ]
     },
     "execution_count": 153,
     "metadata": {},
     "output_type": "execute_result"
    },
    {
     "data": {
      "text/plain": [
       "'success: content added from https://2017-2021.state.gov/secretary-michael-r-pompeo-with-bret-baier-of-fox-news-special-report-2/'"
      ]
     },
     "execution_count": 153,
     "metadata": {},
     "output_type": "execute_result"
    },
    {
     "data": {
      "text/plain": [
       "'success: content added from https://2017-2021.state.gov/secretary-michael-r-pompeo-with-tony-perkins-of-washington-watch-with-tony-perkins-3/'"
      ]
     },
     "execution_count": 153,
     "metadata": {},
     "output_type": "execute_result"
    },
    {
     "data": {
      "text/plain": [
       "'success: content added from https://2017-2021.state.gov/secretary-michael-r-pompeo-with-mark-belling-of-the-mark-belling-show/'"
      ]
     },
     "execution_count": 153,
     "metadata": {},
     "output_type": "execute_result"
    },
    {
     "data": {
      "text/plain": [
       "'success: content added from https://2017-2021.state.gov/wrongful-detention-by-the-houthis-of-levi-salem-musa-marhabi/'"
      ]
     },
     "execution_count": 153,
     "metadata": {},
     "output_type": "execute_result"
    },
    {
     "data": {
      "text/plain": [
       "'success: content added from https://2017-2021.state.gov/secretary-michael-r-pompeo-at-a-press-availability-16/'"
      ]
     },
     "execution_count": 153,
     "metadata": {},
     "output_type": "execute_result"
    },
    {
     "data": {
      "text/plain": [
       "'success: content added from https://2017-2021.state.gov/sint-maarten-national-day/'"
      ]
     },
     "execution_count": 153,
     "metadata": {},
     "output_type": "execute_result"
    },
    {
     "data": {
      "text/plain": [
       "'success: content added from https://2017-2021.state.gov/the-promise-of-america/'"
      ]
     },
     "execution_count": 153,
     "metadata": {},
     "output_type": "execute_result"
    },
    {
     "data": {
      "text/plain": [
       "'success: content added from https://2017-2021.state.gov/u-s-approves-advanced-defense-capabilities-for-the-united-arab-emirates/'"
      ]
     },
     "execution_count": 153,
     "metadata": {},
     "output_type": "execute_result"
    },
    {
     "data": {
      "text/plain": [
       "'success: content added from https://2017-2021.state.gov/coordinator-for-counterterrorism-ambassador-nathan-a-sales-designated-special-envoy-to-the-global-coalition-to-defeat-isis/'"
      ]
     },
     "execution_count": 153,
     "metadata": {},
     "output_type": "execute_result"
    },
    {
     "data": {
      "text/plain": [
       "'success: content added from https://2017-2021.state.gov/on-the-departure-of-ambassador-james-f-jeffrey/'"
      ]
     },
     "execution_count": 153,
     "metadata": {},
     "output_type": "execute_result"
    },
    {
     "data": {
      "text/plain": [
       "'success: content added from https://2017-2021.state.gov/designations-of-four-prc-and-hong-kong-officials-threatening-the-peace-security-and-autonomy-of-hong-kong/'"
      ]
     },
     "execution_count": 153,
     "metadata": {},
     "output_type": "execute_result"
    },
    {
     "data": {
      "text/plain": [
       "'success: content added from https://2017-2021.state.gov/syria-sanctions-designations-on-the-anniversary-of-assads-attack-against-the-people-of-douma-syria/'"
      ]
     },
     "execution_count": 153,
     "metadata": {},
     "output_type": "execute_result"
    },
    {
     "data": {
      "text/plain": [
       "'success: content added from https://2017-2021.state.gov/on-u-s-dedication-to-human-rights/'"
      ]
     },
     "execution_count": 153,
     "metadata": {},
     "output_type": "execute_result"
    },
    {
     "data": {
      "text/plain": [
       "'success: content added from https://2017-2021.state.gov/burmas-parliamentary-elections/'"
      ]
     },
     "execution_count": 153,
     "metadata": {},
     "output_type": "execute_result"
    },
    {
     "data": {
      "text/plain": [
       "'success: content added from https://2017-2021.state.gov/designation-of-former-president-of-nicaragua-aleman-due-to-involvement-in-significant-corruption/'"
      ]
     },
     "execution_count": 153,
     "metadata": {},
     "output_type": "execute_result"
    },
    {
     "data": {
      "text/plain": [
       "'success: content added from https://2017-2021.state.gov/cambodia-national-day/'"
      ]
     },
     "execution_count": 153,
     "metadata": {},
     "output_type": "execute_result"
    },
    {
     "data": {
      "text/plain": [
       "'success: content added from https://2017-2021.state.gov/condemning-the-assassination-of-abdul-wase-ghafari/'"
      ]
     },
     "execution_count": 153,
     "metadata": {},
     "output_type": "execute_result"
    },
    {
     "data": {
      "text/plain": [
       "'success: content added from https://2017-2021.state.gov/the-united-states-designates-corrupt-lebanese-political-leader-gibran-bassil/'"
      ]
     },
     "execution_count": 153,
     "metadata": {},
     "output_type": "execute_result"
    },
    {
     "data": {
      "text/plain": [
       "'success: content added from https://2017-2021.state.gov/2020-new-zealand-general-election/'"
      ]
     },
     "execution_count": 153,
     "metadata": {},
     "output_type": "execute_result"
    },
    {
     "data": {
      "text/plain": [
       "'success: content added from https://2017-2021.state.gov/osce-moscow-mechanism-report-details-widespread-rights-violations-in-belarus/'"
      ]
     },
     "execution_count": 153,
     "metadata": {},
     "output_type": "execute_result"
    },
    {
     "data": {
      "text/plain": [
       "'success: content added from https://2017-2021.state.gov/on-the-41st-anniversary-of-the-u-s-embassy-takeover-in-tehran/'"
      ]
     },
     "execution_count": 153,
     "metadata": {},
     "output_type": "execute_result"
    },
    {
     "data": {
      "text/plain": [
       "'success: content added from https://2017-2021.state.gov/panamas-independence-day-4/'"
      ]
     },
     "execution_count": 153,
     "metadata": {},
     "output_type": "execute_result"
    },
    {
     "data": {
      "text/plain": [
       "'success: content added from https://2017-2021.state.gov/tonga-national-day/'"
      ]
     },
     "execution_count": 153,
     "metadata": {},
     "output_type": "execute_result"
    },
    {
     "data": {
      "text/plain": [
       "'success: content added from https://2017-2021.state.gov/national-day-of-the-federated-states-of-micronesia/'"
      ]
     },
     "execution_count": 153,
     "metadata": {},
     "output_type": "execute_result"
    },
    {
     "data": {
      "text/plain": [
       "'success: content added from https://2017-2021.state.gov/arrest-of-eight-pan-democratic-politicians-in-hong-kong/'"
      ]
     },
     "execution_count": 153,
     "metadata": {},
     "output_type": "execute_result"
    },
    {
     "data": {
      "text/plain": [
       "'success: content added from https://2017-2021.state.gov/sudan-making-progress/'"
      ]
     },
     "execution_count": 153,
     "metadata": {},
     "output_type": "execute_result"
    },
    {
     "data": {
      "text/plain": [
       "'success: content added from https://2017-2021.state.gov/antigua-and-barbudas-national-day/'"
      ]
     },
     "execution_count": 153,
     "metadata": {},
     "output_type": "execute_result"
    },
    {
     "data": {
      "text/plain": [
       "'success: content added from https://2017-2021.state.gov/u-s-rescues-american-held-hostage-in-nigeria/'"
      ]
     },
     "execution_count": 153,
     "metadata": {},
     "output_type": "execute_result"
    },
    {
     "data": {
      "text/plain": [
       "'success: content added from https://2017-2021.state.gov/united-states-sanctions-entities-related-to-irans-petroleum-industry/'"
      ]
     },
     "execution_count": 153,
     "metadata": {},
     "output_type": "execute_result"
    },
    {
     "data": {
      "text/plain": [
       "'success: content added from https://2017-2021.state.gov/unalienable-rights-and-traditions-of-tolerance/'"
      ]
     },
     "execution_count": 153,
     "metadata": {},
     "output_type": "execute_result"
    },
    {
     "data": {
      "text/plain": [
       "'success: content added from https://2017-2021.state.gov/arrest-and-detention-of-student-democracy-activists-in-hong-kong-under-the-national-security-law/'"
      ]
     },
     "execution_count": 153,
     "metadata": {},
     "output_type": "execute_result"
    },
    {
     "data": {
      "text/plain": [
       "'success: content added from https://2017-2021.state.gov/u-s-citizens-born-in-jerusalem/'"
      ]
     },
     "execution_count": 153,
     "metadata": {},
     "output_type": "execute_result"
    },
    {
     "data": {
      "text/plain": [
       "'success: content added from https://2017-2021.state.gov/presidential-determination-on-refugee-admissions-for-fiscal-year-2021/'"
      ]
     },
     "execution_count": 153,
     "metadata": {},
     "output_type": "execute_result"
    },
    {
     "data": {
      "text/plain": [
       "'success: content added from https://2017-2021.state.gov/secretary-michael-r-pompeo-and-indonesian-foreign-minister-retno-marsudi/'"
      ]
     },
     "execution_count": 153,
     "metadata": {},
     "output_type": "execute_result"
    },
    {
     "data": {
      "text/plain": [
       "'success: content added from https://2017-2021.state.gov/secretary-michael-r-pompeo-with-aishath-shaany-of-raajje-tv/'"
      ]
     },
     "execution_count": 153,
     "metadata": {},
     "output_type": "execute_result"
    },
    {
     "data": {
      "text/plain": [
       "'success: content added from https://2017-2021.state.gov/public-designation-of-current-and-former-members-of-the-guatemalan-congress-due-to-involvement-in-significant-corruption/'"
      ]
     },
     "execution_count": 153,
     "metadata": {},
     "output_type": "execute_result"
    },
    {
     "data": {
      "text/plain": [
       "'success: content added from https://2017-2021.state.gov/designation-of-the-national-association-for-chinas-peaceful-unification-nacpu-as-a-foreign-mission-of-the-prc/'"
      ]
     },
     "execution_count": 153,
     "metadata": {},
     "output_type": "execute_result"
    },
    {
     "data": {
      "text/plain": [
       "'success: content added from https://2017-2021.state.gov/secretary-michael-r-pompeo-and-maldives-foreign-minister-abdulla-shahid-at-a-press-availability/'"
      ]
     },
     "execution_count": 153,
     "metadata": {},
     "output_type": "execute_result"
    },
    {
     "data": {
      "text/plain": [
       "'success: content added from https://2017-2021.state.gov/secretary-michael-r-pompeo-with-prasad-dodangodage-of-rupavahini-tv/'"
      ]
     },
     "execution_count": 153,
     "metadata": {},
     "output_type": "execute_result"
    },
    {
     "data": {
      "text/plain": [
       "'success: content added from https://2017-2021.state.gov/secretary-michael-r-pompeo-with-indeewari-amuwatte-of-derana-tv/'"
      ]
     },
     "execution_count": 153,
     "metadata": {},
     "output_type": "execute_result"
    },
    {
     "data": {
      "text/plain": [
       "'success: content added from https://2017-2021.state.gov/release-and-departure-of-u-s-citizen-vitali-shkliarov-from-belarus/'"
      ]
     },
     "execution_count": 153,
     "metadata": {},
     "output_type": "execute_result"
    },
    {
     "data": {
      "text/plain": [
       "'success: content added from https://2017-2021.state.gov/on-u-s-intent-to-open-an-embassy-in-maldives/'"
      ]
     },
     "execution_count": 153,
     "metadata": {},
     "output_type": "execute_result"
    },
    {
     "data": {
      "text/plain": [
       "'success: content added from https://2017-2021.state.gov/secretary-michael-r-pompeo-and-sri-lankan-foreign-minister-dinesh-gunawardena-at-a-press-availability/'"
      ]
     },
     "execution_count": 153,
     "metadata": {},
     "output_type": "execute_result"
    },
    {
     "data": {
      "text/plain": [
       "'success: content added from https://2017-2021.state.gov/czech-republic-national-day/'"
      ]
     },
     "execution_count": 153,
     "metadata": {},
     "output_type": "execute_result"
    },
    {
     "data": {
      "text/plain": [
       "'success: content added from https://2017-2021.state.gov/secretary-michael-r-pompeo-with-shekhar-gupta-of-the-print/'"
      ]
     },
     "execution_count": 153,
     "metadata": {},
     "output_type": "execute_result"
    },
    {
     "data": {
      "text/plain": [
       "'success: content added from https://2017-2021.state.gov/secretary-michael-r-pompeo-with-rahul-shivshankar-of-times-now/'"
      ]
     },
     "execution_count": 153,
     "metadata": {},
     "output_type": "execute_result"
    },
    {
     "data": {
      "text/plain": [
       "'success: content added from https://2017-2021.state.gov/saint-vincent-and-the-grenadines-independence-day/'"
      ]
     },
     "execution_count": 153,
     "metadata": {},
     "output_type": "execute_result"
    },
    {
     "data": {
      "text/plain": [
       "'success: content added from https://2017-2021.state.gov/international-religious-freedom-day-4/'"
      ]
     },
     "execution_count": 153,
     "metadata": {},
     "output_type": "execute_result"
    },
    {
     "data": {
      "text/plain": [
       "'success: content added from https://2017-2021.state.gov/secretary-michael-r-pompeo-secretary-of-defense-mark-esper-indian-minister-of-defense-rajnath-singh-and-indian-minister-of-external-affairs-subrahmanyam-jaishankar-opening-statements-at-the-u-s/'"
      ]
     },
     "execution_count": 153,
     "metadata": {},
     "output_type": "execute_result"
    },
    {
     "data": {
      "text/plain": [
       "'success: content added from https://2017-2021.state.gov/on-the-first-anniversary-of-the-death-of-abu-bakr-al-baghdadi/'"
      ]
     },
     "execution_count": 153,
     "metadata": {},
     "output_type": "execute_result"
    },
    {
     "data": {
      "text/plain": [
       "'success: content added from https://2017-2021.state.gov/united-states-sanctions-iranian-energy-institutions-supporting-the-irgc-qf/'"
      ]
     },
     "execution_count": 153,
     "metadata": {},
     "output_type": "execute_result"
    },
    {
     "data": {
      "text/plain": [
       "'success: content added from https://2017-2021.state.gov/ceasefire-in-libya/'"
      ]
     },
     "execution_count": 153,
     "metadata": {},
     "output_type": "execute_result"
    },
    {
     "data": {
      "text/plain": [
       "'success: content added from https://2017-2021.state.gov/austria-national-day-2/'"
      ]
     },
     "execution_count": 153,
     "metadata": {},
     "output_type": "execute_result"
    },
    {
     "data": {
      "text/plain": [
       "'success: content added from https://2017-2021.state.gov/u-s-welcomes-guatemalas-designation-of-hizballah-as-a-terrorist-organization/'"
      ]
     },
     "execution_count": 153,
     "metadata": {},
     "output_type": "execute_result"
    },
    {
     "data": {
      "text/plain": [
       "'success: content added from https://2017-2021.state.gov/u-s-welcomes-estonias-action-against-hizballah/'"
      ]
     },
     "execution_count": 153,
     "metadata": {},
     "output_type": "execute_result"
    },
    {
     "data": {
      "text/plain": [
       "'success: content added from https://2017-2021.state.gov/removing-cubas-military-from-the-remittance-process/'"
      ]
     },
     "execution_count": 153,
     "metadata": {},
     "output_type": "execute_result"
    },
    {
     "data": {
      "text/plain": [
       "'success: content added from https://2017-2021.state.gov/the-united-states-announces-humanitarian-assistance-for-the-crisis-response-in-sudan/'"
      ]
     },
     "execution_count": 153,
     "metadata": {},
     "output_type": "execute_result"
    },
    {
     "data": {
      "text/plain": [
       "'success: content added from https://2017-2021.state.gov/zambia-national-day-3/'"
      ]
     },
     "execution_count": 153,
     "metadata": {},
     "output_type": "execute_result"
    },
    {
     "data": {
      "text/plain": [
       "'success: content added from https://2017-2021.state.gov/united-states-sanctions-five-iranian-entities-and-watchlists-irgc-cyber-actors-for-interfering-in-our-elections/'"
      ]
     },
     "execution_count": 153,
     "metadata": {},
     "output_type": "execute_result"
    },
    {
     "data": {
      "text/plain": [
       "'success: content added from https://2017-2021.state.gov/united-states-sanctions-russian-government-research-institution/'"
      ]
     },
     "execution_count": 153,
     "metadata": {},
     "output_type": "execute_result"
    },
    {
     "data": {
      "text/plain": [
       "'success: content added from https://2017-2021.state.gov/at-the-virtual-launch-of-the-inaugural-u-s-uae-strategic-dialogue/'"
      ]
     },
     "execution_count": 153,
     "metadata": {},
     "output_type": "execute_result"
    },
    {
     "data": {
      "text/plain": [
       "'success: content added from https://2017-2021.state.gov/on-the-passing-of-former-marshallese-president-litokwa-tomeing/'"
      ]
     },
     "execution_count": 153,
     "metadata": {},
     "output_type": "execute_result"
    },
    {
     "data": {
      "text/plain": [
       "'success: content added from https://2017-2021.state.gov/united-states-charges-russian-military-intelligence-officers-for-cyber-crimes/'"
      ]
     },
     "execution_count": 153,
     "metadata": {},
     "output_type": "execute_result"
    },
    {
     "data": {
      "text/plain": [
       "'success: content added from https://2017-2021.state.gov/the-united-states-imposes-sanctions-on-chinese-and-hong-kong-persons-for-activities-related-to-supporting-the-islamic-republic-of-iran-shipping-lines/'"
      ]
     },
     "execution_count": 153,
     "metadata": {},
     "output_type": "execute_result"
    },
    {
     "data": {
      "text/plain": [
       "'success: content added from https://2017-2021.state.gov/the-united-states-designates-al-qaida-financial-facilitator/'"
      ]
     },
     "execution_count": 153,
     "metadata": {},
     "output_type": "execute_result"
    },
    {
     "data": {
      "text/plain": [
       "'success: content added from https://2017-2021.state.gov/meeting-of-the-presidents-interagency-task-force-to-monitor-and-combat-trafficking-in-persons-3/'"
      ]
     },
     "execution_count": 153,
     "metadata": {},
     "output_type": "execute_result"
    },
    {
     "data": {
      "text/plain": [
       "'success: content added from https://2017-2021.state.gov/secretary-michael-r-pompeo-at-the-three-seas-virtual-summit-and-web-forum/'"
      ]
     },
     "execution_count": 153,
     "metadata": {},
     "output_type": "execute_result"
    },
    {
     "data": {
      "text/plain": [
       "'success: content added from https://2017-2021.state.gov/status-of-un-arms-embargo-on-iran/'"
      ]
     },
     "execution_count": 153,
     "metadata": {},
     "output_type": "execute_result"
    },
    {
     "data": {
      "text/plain": [
       "'success: content added from https://2017-2021.state.gov/on-the-passing-of-former-palau-president-kuniwo-nakamura/'"
      ]
     },
     "execution_count": 153,
     "metadata": {},
     "output_type": "execute_result"
    },
    {
     "data": {
      "text/plain": [
       "'success: content added from https://2017-2021.state.gov/secretary-michael-r-pompeo-with-erick-erickson-of-the-erick-erickson-show-on-wsb-atlanta/'"
      ]
     },
     "execution_count": 153,
     "metadata": {},
     "output_type": "execute_result"
    },
    {
     "data": {
      "text/plain": [
       "'success: content added from https://2017-2021.state.gov/secretary-michael-r-pompeo-with-jayme-west-and-jim-sharpe-of-arizona-morning-news-on-ktar-phoenix/'"
      ]
     },
     "execution_count": 153,
     "metadata": {},
     "output_type": "execute_result"
    },
    {
     "data": {
      "text/plain": [
       "'success: content added from https://2017-2021.state.gov/secretary-michael-r-pompeo-with-paul-w-smith-of-the-paul-w-smith-show-on-wjr-detroit/'"
      ]
     },
     "execution_count": 153,
     "metadata": {},
     "output_type": "execute_result"
    },
    {
     "data": {
      "text/plain": [
       "'success: content added from https://2017-2021.state.gov/secretary-michael-r-pompeo-with-tony-katz-of-the-morning-news-on-wibc-indianapolis/'"
      ]
     },
     "execution_count": 153,
     "metadata": {},
     "output_type": "execute_result"
    },
    {
     "data": {
      "text/plain": [
       "'success: content added from https://2017-2021.state.gov/secretary-michael-r-pompeo-with-bud-hedinger-of-good-morning-orlando-on-wfla-orlando/'"
      ]
     },
     "execution_count": 153,
     "metadata": {},
     "output_type": "execute_result"
    },
    {
     "data": {
      "text/plain": [
       "'success: content added from https://2017-2021.state.gov/release-of-american-hostages-held-in-yemen/'"
      ]
     },
     "execution_count": 153,
     "metadata": {},
     "output_type": "execute_result"
    },
    {
     "data": {
      "text/plain": [
       "'success: content added from https://2017-2021.state.gov/secretary-michael-r-pompeo-at-a-press-availability-14/'"
      ]
     },
     "execution_count": 153,
     "metadata": {},
     "output_type": "execute_result"
    },
    {
     "data": {
      "text/plain": [
       "'success: content added from https://2017-2021.state.gov/designation-of-a-united-states-special-coordinator-for-tibetan-issues/'"
      ]
     },
     "execution_count": 153,
     "metadata": {},
     "output_type": "execute_result"
    },
    {
     "data": {
      "text/plain": [
       "'success: content added from https://2017-2021.state.gov/secretary-michael-r-pompeo-and-saudi-foreign-minister-prince-faisal-bin-farhan-al-saud-after-their-meeting/'"
      ]
     },
     "execution_count": 153,
     "metadata": {},
     "output_type": "execute_result"
    },
    {
     "data": {
      "text/plain": [
       "'success: content added from https://2017-2021.state.gov/america-stands-for-freedom/'"
      ]
     },
     "execution_count": 153,
     "metadata": {},
     "output_type": "execute_result"
    },
    {
     "data": {
      "text/plain": [
       "'success: content added from https://2017-2021.state.gov/on-the-un-human-rights-councils-embrace-of-authoritarian-regimes/'"
      ]
     },
     "execution_count": 153,
     "metadata": {},
     "output_type": "execute_result"
    },
    {
     "data": {
      "text/plain": [
       "'success: content added from https://2017-2021.state.gov/department-of-state-offers-reward-for-information-to-bring-mexican-transnational-criminal-to-justice/'"
      ]
     },
     "execution_count": 153,
     "metadata": {},
     "output_type": "execute_result"
    },
    {
     "data": {
      "text/plain": [
       "'success: content added from https://2017-2021.state.gov/on-transparency-and-foreign-funding-of-u-s-think-tanks/'"
      ]
     },
     "execution_count": 153,
     "metadata": {},
     "output_type": "execute_result"
    },
    {
     "data": {
      "text/plain": [
       "'success: content added from https://2017-2021.state.gov/on-the-exile-of-catholic-archbishop-kondrusiewicz/'"
      ]
     },
     "execution_count": 153,
     "metadata": {},
     "output_type": "execute_result"
    },
    {
     "data": {
      "text/plain": [
       "'success: content added from https://2017-2021.state.gov/spain-national-day-4/'"
      ]
     },
     "execution_count": 153,
     "metadata": {},
     "output_type": "execute_result"
    },
    {
     "data": {
      "text/plain": [
       "'success: content added from https://2017-2021.state.gov/equatorial-guinea-national-day-4/'"
      ]
     },
     "execution_count": 153,
     "metadata": {},
     "output_type": "execute_result"
    },
    {
     "data": {
      "text/plain": [
       "'success: content added from https://2017-2021.state.gov/joint-letter-to-state-commissioners-of-education/'"
      ]
     },
     "execution_count": 153,
     "metadata": {},
     "output_type": "execute_result"
    },
    {
     "data": {
      "text/plain": [
       "'success: content added from https://2017-2021.state.gov/joint-letter-to-presidents-of-american-institutions-of-higher-education-and-affiliates-regarding-the-peoples-republic-of-china/'"
      ]
     },
     "execution_count": 153,
     "metadata": {},
     "output_type": "execute_result"
    },
    {
     "data": {
      "text/plain": [
       "'success: content added from https://2017-2021.state.gov/secretary-michael-r-pompeo-with-greg-kelly-of-greg-kelly-reports-on-newsmax-tv/'"
      ]
     },
     "execution_count": 153,
     "metadata": {},
     "output_type": "execute_result"
    },
    {
     "data": {
      "text/plain": [
       "'success: content added from https://2017-2021.state.gov/secretary-michael-r-pompeo-with-guy-benson-of-the-guy-benson-show-2/'"
      ]
     },
     "execution_count": 153,
     "metadata": {},
     "output_type": "execute_result"
    },
    {
     "data": {
      "text/plain": [
       "'success: content added from https://2017-2021.state.gov/secretary-michael-r-pompeo-with-dana-perino-of-the-daily-briefing-on-fox-news/'"
      ]
     },
     "execution_count": 153,
     "metadata": {},
     "output_type": "execute_result"
    },
    {
     "data": {
      "text/plain": [
       "'success: content added from https://2017-2021.state.gov/secretary-michael-r-pompeo-with-larry-oconnor-of-the-larry-oconnor-show-2/'"
      ]
     },
     "execution_count": 153,
     "metadata": {},
     "output_type": "execute_result"
    },
    {
     "data": {
      "text/plain": [
       "'success: content added from https://2017-2021.state.gov/curacao-day-4/'"
      ]
     },
     "execution_count": 153,
     "metadata": {},
     "output_type": "execute_result"
    },
    {
     "data": {
      "text/plain": [
       "'success: content added from https://2017-2021.state.gov/secretary-michael-r-pompeo-with-hugh-hewitt-of-the-hugh-hewitt-show-6/'"
      ]
     },
     "execution_count": 153,
     "metadata": {},
     "output_type": "execute_result"
    },
    {
     "data": {
      "text/plain": [
       "'success: content added from https://2017-2021.state.gov/the-united-states-sanctions-a-member-of-the-nicaraguan-judiciary-another-member-of-ortegas-inner-circle-and-another-entity/'"
      ]
     },
     "execution_count": 153,
     "metadata": {},
     "output_type": "execute_result"
    },
    {
     "data": {
      "text/plain": [
       "'success: content added from https://2017-2021.state.gov/ugandas-independence-day-2/'"
      ]
     },
     "execution_count": 153,
     "metadata": {},
     "output_type": "execute_result"
    },
    {
     "data": {
      "text/plain": [
       "'success: content added from https://2017-2021.state.gov/sanctions-on-irans-financial-institutions/'"
      ]
     },
     "execution_count": 153,
     "metadata": {},
     "output_type": "execute_result"
    },
    {
     "data": {
      "text/plain": [
       "'success: content added from https://2017-2021.state.gov/fiji-national-day-2/'"
      ]
     },
     "execution_count": 153,
     "metadata": {},
     "output_type": "execute_result"
    },
    {
     "data": {
      "text/plain": [
       "'success: content added from https://2017-2021.state.gov/transnational-organized-crime-rewards-program-requests-information-to-bring-venezuelan-national-to-justice/'"
      ]
     },
     "execution_count": 153,
     "metadata": {},
     "output_type": "execute_result"
    },
    {
     "data": {
      "text/plain": [
       "'success: content added from https://2017-2021.state.gov/upcoming-elections-in-africa/'"
      ]
     },
     "execution_count": 153,
     "metadata": {},
     "output_type": "execute_result"
    },
    {
     "data": {
      "text/plain": [
       "'success: content added from https://2017-2021.state.gov/secretary-michael-r-pompeo-opening-remarks-at-quad-ministerial/'"
      ]
     },
     "execution_count": 153,
     "metadata": {},
     "output_type": "execute_result"
    },
    {
     "data": {
      "text/plain": [
       "'success: content added from https://2017-2021.state.gov/secretary-michael-r-pompeo-with-yoshio-arima-of-nhk/'"
      ]
     },
     "execution_count": 153,
     "metadata": {},
     "output_type": "execute_result"
    },
    {
     "data": {
      "text/plain": [
       "'success: content added from https://2017-2021.state.gov/condemning-the-attempt-on-the-life-of-international-woman-of-courage-mayor-zarifa-ghafari/'"
      ]
     },
     "execution_count": 153,
     "metadata": {},
     "output_type": "execute_result"
    },
    {
     "data": {
      "text/plain": [
       "'success: content added from https://2017-2021.state.gov/secretary-michael-r-pompeo-remarks-to-traveling-press-1/'"
      ]
     },
     "execution_count": 153,
     "metadata": {},
     "output_type": "execute_result"
    },
    {
     "data": {
      "text/plain": [
       "'success: content added from https://2017-2021.state.gov/lesotho-national-day-3/'"
      ]
     },
     "execution_count": 153,
     "metadata": {},
     "output_type": "execute_result"
    },
    {
     "data": {
      "text/plain": [
       "'success: content added from https://2017-2021.state.gov/respecting-life-in-americas-foreign-policy/'"
      ]
     },
     "execution_count": 153,
     "metadata": {},
     "output_type": "execute_result"
    },
    {
     "data": {
      "text/plain": [
       "'success: content added from https://2017-2021.state.gov/german-national-day-2/'"
      ]
     },
     "execution_count": 153,
     "metadata": {},
     "output_type": "execute_result"
    },
    {
     "data": {
      "text/plain": [
       "'success: content added from https://2017-2021.state.gov/the-u-s-action-against-belarusian-individuals-involved-in-efforts-to-undermine-belarusian-democracy/'"
      ]
     },
     "execution_count": 153,
     "metadata": {},
     "output_type": "execute_result"
    },
    {
     "data": {
      "text/plain": [
       "'success: content added from https://2017-2021.state.gov/secretary-michael-r-pompeo-briefing-with-the-traveling-press/'"
      ]
     },
     "execution_count": 153,
     "metadata": {},
     "output_type": "execute_result"
    },
    {
     "data": {
      "text/plain": [
       "'success: content added from https://2017-2021.state.gov/secretary-michael-r-pompeo-and-croatian-prime-minister-andrej-plenkovic-at-a-press-availability/'"
      ]
     },
     "execution_count": 153,
     "metadata": {},
     "output_type": "execute_result"
    },
    {
     "data": {
      "text/plain": [
       "'success: content added from https://2017-2021.state.gov/secretary-michael-r-pompeo-with-hrvoje-kresic-of-n1-tv/'"
      ]
     },
     "execution_count": 153,
     "metadata": {},
     "output_type": "execute_result"
    },
    {
     "data": {
      "text/plain": [
       "'success: content added from https://2017-2021.state.gov/secretary-michael-r-pompeo-remarks-to-traveling-press-6/'"
      ]
     },
     "execution_count": 153,
     "metadata": {},
     "output_type": "execute_result"
    },
    {
     "data": {
      "text/plain": [
       "'success: content added from https://2017-2021.state.gov/guineas-national-day-2/'"
      ]
     },
     "execution_count": 153,
     "metadata": {},
     "output_type": "execute_result"
    },
    {
     "data": {
      "text/plain": [
       "'success: content added from https://2017-2021.state.gov/secretary-michael-r-pompeo-with-amy-kellogg-of-fox-news/'"
      ]
     },
     "execution_count": 153,
     "metadata": {},
     "output_type": "execute_result"
    },
    {
     "data": {
      "text/plain": [
       "'success: content added from https://2017-2021.state.gov/u-s-commends-italy-for-repatriating-its-citizens-from-syria/'"
      ]
     },
     "execution_count": 153,
     "metadata": {},
     "output_type": "execute_result"
    },
    {
     "data": {
      "text/plain": [
       "'success: content added from https://2017-2021.state.gov/secretary-michael-r-pompeo-at-the-mining-agriculture-and-construction-protocol-signing-ceremony/'"
      ]
     },
     "execution_count": 153,
     "metadata": {},
     "output_type": "execute_result"
    },
    {
     "data": {
      "text/plain": [
       "'success: content added from https://2017-2021.state.gov/25th-anniversary-of-the-fourth-world-conference-on-women/'"
      ]
     },
     "execution_count": 153,
     "metadata": {},
     "output_type": "execute_result"
    },
    {
     "data": {
      "text/plain": [
       "'success: content added from https://2017-2021.state.gov/framework-agreement-for-israel-lebanon-maritime-discussions/'"
      ]
     },
     "execution_count": 153,
     "metadata": {},
     "output_type": "execute_result"
    },
    {
     "data": {
      "text/plain": [
       "'success: content added from https://2017-2021.state.gov/independence-day-in-the-republic-of-cyprus-2/'"
      ]
     },
     "execution_count": 153,
     "metadata": {},
     "output_type": "execute_result"
    },
    {
     "data": {
      "text/plain": [
       "'success: content added from https://2017-2021.state.gov/the-federal-republic-of-nigerias-independence-day-2/'"
      ]
     },
     "execution_count": 153,
     "metadata": {},
     "output_type": "execute_result"
    },
    {
     "data": {
      "text/plain": [
       "'success: content added from https://2017-2021.state.gov/department-of-state-offers-rewards-for-information-to-bring-former-venezuelan-public-officials-to-justice/'"
      ]
     },
     "execution_count": 153,
     "metadata": {},
     "output_type": "execute_result"
    },
    {
     "data": {
      "text/plain": [
       "'success: content added from https://2017-2021.state.gov/secretary-michael-r-pompeo-and-italian-foreign-minister-luigi-di-maio-at-a-press-availability-2/'"
      ]
     },
     "execution_count": 153,
     "metadata": {},
     "output_type": "execute_result"
    },
    {
     "data": {
      "text/plain": [
       "'success: content added from https://2017-2021.state.gov/tuvalu-national-day-3/'"
      ]
     },
     "execution_count": 153,
     "metadata": {},
     "output_type": "execute_result"
    },
    {
     "data": {
      "text/plain": [
       "'success: content added from https://2017-2021.state.gov/on-the-republic-of-koreas-chuseok-holiday/'"
      ]
     },
     "execution_count": 153,
     "metadata": {},
     "output_type": "execute_result"
    },
    {
     "data": {
      "text/plain": [
       "'success: content added from https://2017-2021.state.gov/peoples-republic-of-china-national-day/'"
      ]
     },
     "execution_count": 153,
     "metadata": {},
     "output_type": "execute_result"
    },
    {
     "data": {
      "text/plain": [
       "'success: content added from https://2017-2021.state.gov/addition-to-the-specially-designated-nationals-and-blocked-persons-list/'"
      ]
     },
     "execution_count": 153,
     "metadata": {},
     "output_type": "execute_result"
    },
    {
     "data": {
      "text/plain": [
       "'success: content added from https://2017-2021.state.gov/syria-sanctions-designations-on-the-anniversary-of-assads-attack-against-the-people-of-armanaz-syria/'"
      ]
     },
     "execution_count": 153,
     "metadata": {},
     "output_type": "execute_result"
    },
    {
     "data": {
      "text/plain": [
       "'success: content added from https://2017-2021.state.gov/moral-witness-and-religious-freedom/'"
      ]
     },
     "execution_count": 153,
     "metadata": {},
     "output_type": "execute_result"
    },
    {
     "data": {
      "text/plain": [
       "'success: content added from https://2017-2021.state.gov/botswana-national-day-3/'"
      ]
     },
     "execution_count": 153,
     "metadata": {},
     "output_type": "execute_result"
    },
    {
     "data": {
      "text/plain": [
       "'success: content added from https://2017-2021.state.gov/our-deepest-condolences-on-the-passing-of-his-highness-sheikh-sabah-al-ahmad-al-sabah/'"
      ]
     },
     "execution_count": 153,
     "metadata": {},
     "output_type": "execute_result"
    },
    {
     "data": {
      "text/plain": [
       "'success: content added from https://2017-2021.state.gov/secretary-michael-r-pompeo-with-christina-kratsi-of-alpha-tv/'"
      ]
     },
     "execution_count": 153,
     "metadata": {},
     "output_type": "execute_result"
    },
    {
     "data": {
      "text/plain": [
       "'success: content added from https://2017-2021.state.gov/narcotics-rewards-program-offers-for-information-to-bring-venezuelan-nationals-to-justice/'"
      ]
     },
     "execution_count": 153,
     "metadata": {},
     "output_type": "execute_result"
    },
    {
     "data": {
      "text/plain": [
       "'success: content added from https://2017-2021.state.gov/secretary-michael-r-pompeo-and-greek-prime-minister-kyriakos-mitsotakis-joint-press-statements-after-their-meeting/'"
      ]
     },
     "execution_count": 153,
     "metadata": {},
     "output_type": "execute_result"
    },
    {
     "data": {
      "text/plain": [
       "'success: content added from https://2017-2021.state.gov/secretary-michael-r-pompeo-with-sofia-papadopoulou-of-athens-news-agency/'"
      ]
     },
     "execution_count": 153,
     "metadata": {},
     "output_type": "execute_result"
    },
    {
     "data": {
      "text/plain": [
       "'success: content added from https://2017-2021.state.gov/addition-to-the-cuba-restricted-list/'"
      ]
     },
     "execution_count": 153,
     "metadata": {},
     "output_type": "execute_result"
    },
    {
     "data": {
      "text/plain": [
       "'success: content added from https://2017-2021.state.gov/secretary-michael-r-pompeo-with-mark-levin-of-life-liberty-levin/'"
      ]
     },
     "execution_count": 153,
     "metadata": {},
     "output_type": "execute_result"
    },
    {
     "data": {
      "text/plain": [
       "'success: content added from https://2017-2021.state.gov/turkmenistan-independence-day-2/'"
      ]
     },
     "execution_count": 153,
     "metadata": {},
     "output_type": "execute_result"
    },
    {
     "data": {
      "text/plain": [
       "'success: content added from https://2017-2021.state.gov/secretary-michael-r-pompeo-with-larry-oconnor-of-the-larry-oconnor-show-wmal/'"
      ]
     },
     "execution_count": 153,
     "metadata": {},
     "output_type": "execute_result"
    },
    {
     "data": {
      "text/plain": [
       "'success: content added from https://2017-2021.state.gov/major-new-human-rights-related-listings-and-accompanying-sanctions-on-iran/'"
      ]
     },
     "execution_count": 153,
     "metadata": {},
     "output_type": "execute_result"
    },
    {
     "data": {
      "text/plain": [
       "'success: content added from https://2017-2021.state.gov/the-united-states-announces-humanitarian-assistance-for-the-sahel-crisis-response/'"
      ]
     },
     "execution_count": 153,
     "metadata": {},
     "output_type": "execute_result"
    },
    {
     "data": {
      "text/plain": [
       "'success: content added from https://2017-2021.state.gov/the-united-states-announces-new-humanitarian-assistance-for-the-south-sudan-crisis-response/'"
      ]
     },
     "execution_count": 153,
     "metadata": {},
     "output_type": "execute_result"
    },
    {
     "data": {
      "text/plain": [
       "'success: content added from https://2017-2021.state.gov/the-united-states-announces-additional-humanitarian-assistance-for-the-syrian-people-2/'"
      ]
     },
     "execution_count": 153,
     "metadata": {},
     "output_type": "execute_result"
    },
    {
     "data": {
      "text/plain": [
       "'success: content added from https://2017-2021.state.gov/guinea-bissau-independence-day/'"
      ]
     },
     "execution_count": 153,
     "metadata": {},
     "output_type": "execute_result"
    },
    {
     "data": {
      "text/plain": [
       "'success: content added from https://2017-2021.state.gov/secretary-michael-r-pompeo-with-jason-calvi-of-fox-6-milwaukee/'"
      ]
     },
     "execution_count": 153,
     "metadata": {},
     "output_type": "execute_result"
    },
    {
     "data": {
      "text/plain": [
       "'success: content added from https://2017-2021.state.gov/secretary-michael-r-pompeo-with-eric-franke-of-wisc-tv-channel-3000-madison/'"
      ]
     },
     "execution_count": 153,
     "metadata": {},
     "output_type": "execute_result"
    },
    {
     "data": {
      "text/plain": [
       "'success: content added from https://2017-2021.state.gov/secretary-pompeos-video-remarks-at-the-prague-5g-security-conference-2020/'"
      ]
     },
     "execution_count": 153,
     "metadata": {},
     "output_type": "execute_result"
    },
    {
     "data": {
      "text/plain": [
       "'success: content added from https://2017-2021.state.gov/promoting-and-protecting-human-rights-a-re-dedication-to-the-universal-declaration-of-human-rights/'"
      ]
     },
     "execution_count": 153,
     "metadata": {},
     "output_type": "execute_result"
    },
    {
     "data": {
      "text/plain": [
       "'success: content added from https://2017-2021.state.gov/state-legislatures-and-the-china-challenge/'"
      ]
     },
     "execution_count": 153,
     "metadata": {},
     "output_type": "execute_result"
    },
    {
     "data": {
      "text/plain": [
       "'success: content added from https://2017-2021.state.gov/announcement-of-the-cuba-prohibited-accommodations-list/'"
      ]
     },
     "execution_count": 153,
     "metadata": {},
     "output_type": "execute_result"
    },
    {
     "data": {
      "text/plain": [
       "'success: content added from https://2017-2021.state.gov/imposing-sanctions-on-entities-and-individuals-advancing-russias-malign-influence/'"
      ]
     },
     "execution_count": 153,
     "metadata": {},
     "output_type": "execute_result"
    },
    {
     "data": {
      "text/plain": [
       "'success: content added from https://2017-2021.state.gov/saudi-national-day/'"
      ]
     },
     "execution_count": 153,
     "metadata": {},
     "output_type": "execute_result"
    },
    {
     "data": {
      "text/plain": [
       "'success: content added from https://2017-2021.state.gov/secretary-michael-r-pompeo-with-tony-perkins-of-value-voters-summit/'"
      ]
     },
     "execution_count": 153,
     "metadata": {},
     "output_type": "execute_result"
    },
    {
     "data": {
      "text/plain": [
       "'success: content added from https://2017-2021.state.gov/palau-independence-day/'"
      ]
     },
     "execution_count": 153,
     "metadata": {},
     "output_type": "execute_result"
    },
    {
     "data": {
      "text/plain": [
       "'success: content added from https://2017-2021.state.gov/the-united-states-sanctions-additional-individuals-involved-in-the-illegitimate-maduro-regimes-attempts-to-corrupt-democratic-elections-in-venezuela/'"
      ]
     },
     "execution_count": 153,
     "metadata": {},
     "output_type": "execute_result"
    },
    {
     "data": {
      "text/plain": [
       "'success: content added from https://2017-2021.state.gov/mali-national-day-message-2/'"
      ]
     },
     "execution_count": 153,
     "metadata": {},
     "output_type": "execute_result"
    },
    {
     "data": {
      "text/plain": [
       "'success: content added from https://2017-2021.state.gov/secretary-michael-r-pompeo-with-felice-friedson-of-the-media-line/'"
      ]
     },
     "execution_count": 153,
     "metadata": {},
     "output_type": "execute_result"
    },
    {
     "data": {
      "text/plain": [
       "'success: content added from https://2017-2021.state.gov/secretary-michael-r-pompeo-and-treasury-secretary-steven-mnuchin-defense-secretary-mark-esper-commerce-secretary-wilbur-ross-u-s-representative-to-the-united-nations-kelly-craft-and-national-sec/'"
      ]
     },
     "execution_count": 153,
     "metadata": {},
     "output_type": "execute_result"
    },
    {
     "data": {
      "text/plain": [
       "'success: content added from https://2017-2021.state.gov/secretary-michael-r-pompeo-with-julian-reichelt-of-bild-tv-2/'"
      ]
     },
     "execution_count": 153,
     "metadata": {},
     "output_type": "execute_result"
    },
    {
     "data": {
      "text/plain": [
       "'success: content added from https://2017-2021.state.gov/belizes-independence-day-5/'"
      ]
     },
     "execution_count": 153,
     "metadata": {},
     "output_type": "execute_result"
    },
    {
     "data": {
      "text/plain": [
       "'success: content added from https://2017-2021.state.gov/malta-national-day-2/'"
      ]
     },
     "execution_count": 153,
     "metadata": {},
     "output_type": "execute_result"
    },
    {
     "data": {
      "text/plain": [
       "'success: content added from https://2017-2021.state.gov/armenian-independence-day-2/'"
      ]
     },
     "execution_count": 153,
     "metadata": {},
     "output_type": "execute_result"
    },
    {
     "data": {
      "text/plain": [
       "'success: content added from https://2017-2021.state.gov/keeping-faith-in-the-public-square/'"
      ]
     },
     "execution_count": 153,
     "metadata": {},
     "output_type": "execute_result"
    },
    {
     "data": {
      "text/plain": [
       "'success: content added from https://2017-2021.state.gov/secretary-michael-r-pompeo-with-maria-bartiromo-of-fox-news-sunday-morning-futures-3/'"
      ]
     },
     "execution_count": 153,
     "metadata": {},
     "output_type": "execute_result"
    },
    {
     "data": {
      "text/plain": [
       "'success: content added from https://2017-2021.state.gov/the-return-of-un-sanctions-on-the-islamic-republic-of-iran/'"
      ]
     },
     "execution_count": 153,
     "metadata": {},
     "output_type": "execute_result"
    },
    {
     "data": {
      "text/plain": [
       "'success: content added from https://2017-2021.state.gov/the-united-states-announces-additional-assistance-to-respond-to-the-venezuela-crisis/'"
      ]
     },
     "execution_count": 153,
     "metadata": {},
     "output_type": "execute_result"
    },
    {
     "data": {
      "text/plain": [
       "'success: content added from https://2017-2021.state.gov/secretary-michael-r-pompeo-and-colombian-president-ivan-duque-after-their-meeting/'"
      ]
     },
     "execution_count": 153,
     "metadata": {},
     "output_type": "execute_result"
    },
    {
     "data": {
      "text/plain": [
       "'success: content added from https://2017-2021.state.gov/st-kitts-and-nevis-independence-day-3/'"
      ]
     },
     "execution_count": 153,
     "metadata": {},
     "output_type": "execute_result"
    },
    {
     "data": {
      "text/plain": [
       "'success: content added from https://2017-2021.state.gov/department-of-state-offers-reward-for-information-to-bring-colombian-drug-trafficker-to-justice/'"
      ]
     },
     "execution_count": 153,
     "metadata": {},
     "output_type": "execute_result"
    },
    {
     "data": {
      "text/plain": [
       "'success: content added from https://2017-2021.state.gov/secretary-michael-r-pompeo-and-brazilian-foreign-minister-ernesto-araujo-at-a-press-availability/'"
      ]
     },
     "execution_count": 153,
     "metadata": {},
     "output_type": "execute_result"
    },
    {
     "data": {
      "text/plain": [
       "'success: content added from https://2017-2021.state.gov/nepali-constitution-day-2/'"
      ]
     },
     "execution_count": 153,
     "metadata": {},
     "output_type": "execute_result"
    },
    {
     "data": {
      "text/plain": [
       "'success: content added from https://2017-2021.state.gov/secretary-michael-r-pompeo-with-leeron-brummel-of-national-communications-network/'"
      ]
     },
     "execution_count": 153,
     "metadata": {},
     "output_type": "execute_result"
    },
    {
     "data": {
      "text/plain": [
       "'success: content added from https://2017-2021.state.gov/secretary-michael-r-pompeo-and-guyana-president-mohamed-irfaan-ali-at-a-press-availability/'"
      ]
     },
     "execution_count": 153,
     "metadata": {},
     "output_type": "execute_result"
    },
    {
     "data": {
      "text/plain": [
       "'success: content added from https://2017-2021.state.gov/secretary-michael-r-pompeo-and-suriname-president-chandrikapersad-chan-santokhi-at-a-press-availability/'"
      ]
     },
     "execution_count": 153,
     "metadata": {},
     "output_type": "execute_result"
    },
    {
     "data": {
      "text/plain": [
       "'success: content added from https://2017-2021.state.gov/chiles-independence-day-2/'"
      ]
     },
     "execution_count": 153,
     "metadata": {},
     "output_type": "execute_result"
    },
    {
     "data": {
      "text/plain": [
       "'success: content added from https://2017-2021.state.gov/the-united-states-designates-hizballah-companies-and-official/'"
      ]
     },
     "execution_count": 153,
     "metadata": {},
     "output_type": "execute_result"
    },
    {
     "data": {
      "text/plain": [
       "'success: content added from https://2017-2021.state.gov/the-united-states-sanctions-cyber-actors-backed-by-iranian-intelligence-ministry/'"
      ]
     },
     "execution_count": 153,
     "metadata": {},
     "output_type": "execute_result"
    },
    {
     "data": {
      "text/plain": [
       "'success: content added from https://2017-2021.state.gov/secretary-michael-r-pompeo-and-uk-foreign-secretary-dominic-raab-at-a-press-availability/'"
      ]
     },
     "execution_count": 153,
     "metadata": {},
     "output_type": "execute_result"
    },
    {
     "data": {
      "text/plain": [
       "'success: content added from https://2017-2021.state.gov/on-yoshihide-sugas-election-as-prime-minister-of-japan/'"
      ]
     },
     "execution_count": 153,
     "metadata": {},
     "output_type": "execute_result"
    },
    {
     "data": {
      "text/plain": [
       "'success: content added from https://2017-2021.state.gov/the-united-states-sanctions-russian-nationals-for-phishing-campaign/'"
      ]
     },
     "execution_count": 153,
     "metadata": {},
     "output_type": "execute_result"
    },
    {
     "data": {
      "text/plain": [
       "'success: content added from https://2017-2021.state.gov/mexicos-independence-day/'"
      ]
     },
     "execution_count": 153,
     "metadata": {},
     "output_type": "execute_result"
    },
    {
     "data": {
      "text/plain": [
       "'success: content added from https://2017-2021.state.gov/the-united-states-condemns-the-ortega-regimes-attack-on-the-free-press/'"
      ]
     },
     "execution_count": 153,
     "metadata": {},
     "output_type": "execute_result"
    },
    {
     "data": {
      "text/plain": [
       "'success: content added from https://2017-2021.state.gov/the-united-states-sanctions-chinese-state-owned-entity-for-its-role-in-corruption-in-cambodia/'"
      ]
     },
     "execution_count": 153,
     "metadata": {},
     "output_type": "execute_result"
    },
    {
     "data": {
      "text/plain": [
       "'success: content added from https://2017-2021.state.gov/papua-new-guinea-independence-day-2/'"
      ]
     },
     "execution_count": 153,
     "metadata": {},
     "output_type": "execute_result"
    },
    {
     "data": {
      "text/plain": [
       "'success: content added from https://2017-2021.state.gov/secretary-michael-r-pompeo-with-atlantic-council-president-and-ceo-frederick-kempe/'"
      ]
     },
     "execution_count": 153,
     "metadata": {},
     "output_type": "execute_result"
    },
    {
     "data": {
      "text/plain": [
       "'success: content added from https://2017-2021.state.gov/honduras-independence-day/'"
      ]
     },
     "execution_count": 153,
     "metadata": {},
     "output_type": "execute_result"
    },
    {
     "data": {
      "text/plain": [
       "'success: content added from https://2017-2021.state.gov/guatemala-independence-day/'"
      ]
     },
     "execution_count": 153,
     "metadata": {},
     "output_type": "execute_result"
    },
    {
     "data": {
      "text/plain": [
       "'success: content added from https://2017-2021.state.gov/el-salvador-independence-day/'"
      ]
     },
     "execution_count": 153,
     "metadata": {},
     "output_type": "execute_result"
    },
    {
     "data": {
      "text/plain": [
       "'success: content added from https://2017-2021.state.gov/costa-ricas-independence-day-3/'"
      ]
     },
     "execution_count": 153,
     "metadata": {},
     "output_type": "execute_result"
    },
    {
     "data": {
      "text/plain": [
       "'success: content added from https://2017-2021.state.gov/sanctions-on-nabah-ltd-owned-or-controlled-by-corrupt-businessman-ashraf-al-cardinal/'"
      ]
     },
     "execution_count": 153,
     "metadata": {},
     "output_type": "execute_result"
    },
    {
     "data": {
      "text/plain": [
       "'success: content added from https://2017-2021.state.gov/former-first-lady-of-the-gambia-sanctioned-for-supporting-the-former-presidents-corruption/'"
      ]
     },
     "execution_count": 153,
     "metadata": {},
     "output_type": "execute_result"
    },
    {
     "data": {
      "text/plain": [
       "'success: content added from https://2017-2021.state.gov/secretary-michael-r-pompeo-with-lea-salame-of-france-inter/'"
      ]
     },
     "execution_count": 153,
     "metadata": {},
     "output_type": "execute_result"
    },
    {
     "data": {
      "text/plain": [
       "'success: content added from https://2017-2021.state.gov/secretary-michael-r-pompeo-with-martha-maccallum-of-the-story-with-martha-maccallum/'"
      ]
     },
     "execution_count": 153,
     "metadata": {},
     "output_type": "execute_result"
    },
    {
     "data": {
      "text/plain": [
       "'success: content added from https://2017-2021.state.gov/france-should-stand-with-freedom-not-tehran/'"
      ]
     },
     "execution_count": 153,
     "metadata": {},
     "output_type": "execute_result"
    },
    {
     "data": {
      "text/plain": [
       "'success: content added from https://2017-2021.state.gov/nicaraguas-independence-day/'"
      ]
     },
     "execution_count": 153,
     "metadata": {},
     "output_type": "execute_result"
    },
    {
     "data": {
      "text/plain": [
       "'success: content added from https://2017-2021.state.gov/cbps-continued-enforcement-actions-to-combat-forced-labor-in-china/'"
      ]
     },
     "execution_count": 153,
     "metadata": {},
     "output_type": "execute_result"
    },
    {
     "data": {
      "text/plain": [
       "'success: content added from https://2017-2021.state.gov/the-mekong-u-s-partnership-the-mekong-region-deserves-good-partners/'"
      ]
     },
     "execution_count": 153,
     "metadata": {},
     "output_type": "execute_result"
    },
    {
     "data": {
      "text/plain": [
       "'success: content added from https://2017-2021.state.gov/international-day-of-democracy-3/'"
      ]
     },
     "execution_count": 153,
     "metadata": {},
     "output_type": "execute_result"
    },
    {
     "data": {
      "text/plain": [
       "'success: content added from https://2017-2021.state.gov/secretary-michael-r-pompeo-at-the-u-s-qatar-strategic-dialogue/'"
      ]
     },
     "execution_count": 153,
     "metadata": {},
     "output_type": "execute_result"
    },
    {
     "data": {
      "text/plain": [
       "'success: content added from https://2017-2021.state.gov/u-s-welcomes-serbias-intention-to-designate-hizballah-as-a-terrorist-organization/'"
      ]
     },
     "execution_count": 153,
     "metadata": {},
     "output_type": "execute_result"
    },
    {
     "data": {
      "text/plain": [
       "'success: content added from https://2017-2021.state.gov/at-the-cyprus-center-for-land-open-seas-and-port-security-memorandum-of-understanding-signing-ceremony/'"
      ]
     },
     "execution_count": 153,
     "metadata": {},
     "output_type": "execute_result"
    },
    {
     "data": {
      "text/plain": [
       "'success: content added from https://2017-2021.state.gov/election-of-mauricio-claver-carone-as-president-of-the-inter-american-development-bank/'"
      ]
     },
     "execution_count": 153,
     "metadata": {},
     "output_type": "execute_result"
    },
    {
     "data": {
      "text/plain": [
       "'success: content added from https://2017-2021.state.gov/secretary-michael-r-pompeo-at-intra-afghan-negotiations-opening-ceremony/'"
      ]
     },
     "execution_count": 153,
     "metadata": {},
     "output_type": "execute_result"
    },
    {
     "data": {
      "text/plain": [
       "'success: content added from https://2017-2021.state.gov/the-united-states-expresses-concern-over-hong-kong-democracy-activists-held-in-guangdong-province/'"
      ]
     },
     "execution_count": 153,
     "metadata": {},
     "output_type": "execute_result"
    },
    {
     "data": {
      "text/plain": [
       "'success: content added from https://2017-2021.state.gov/historic-agreement-between-israel-and-the-kingdom-of-bahrain/'"
      ]
     },
     "execution_count": 153,
     "metadata": {},
     "output_type": "execute_result"
    },
    {
     "data": {
      "text/plain": [
       "'success: content added from https://2017-2021.state.gov/the-enduring-u-s-commitment-to-asean/'"
      ]
     },
     "execution_count": 153,
     "metadata": {},
     "output_type": "execute_result"
    },
    {
     "data": {
      "text/plain": [
       "'success: content added from https://2017-2021.state.gov/nineteenth-anniversary-of-the-september-11-2001-terrorist-attacks/'"
      ]
     },
     "execution_count": 153,
     "metadata": {},
     "output_type": "execute_result"
    },
    {
     "data": {
      "text/plain": [
       "'success: content added from https://2017-2021.state.gov/secretary-michael-r-pompeo-remarks-to-traveling-press-5/'"
      ]
     },
     "execution_count": 153,
     "metadata": {},
     "output_type": "execute_result"
    },
    {
     "data": {
      "text/plain": [
       "'success: content added from https://2017-2021.state.gov/welcoming-the-launch-of-afghanistan-peace-negotiations/'"
      ]
     },
     "execution_count": 153,
     "metadata": {},
     "output_type": "execute_result"
    },
    {
     "data": {
      "text/plain": [
       "'success: content added from https://2017-2021.state.gov/united-states-sanctions-russian-actors-and-proxies-for-efforts-to-interfere-in-elections/'"
      ]
     },
     "execution_count": 153,
     "metadata": {},
     "output_type": "execute_result"
    },
    {
     "data": {
      "text/plain": [
       "'success: content added from https://2017-2021.state.gov/public-designation-of-andrew-wonplo-due-to-involvement-in-significant-corruption/'"
      ]
     },
     "execution_count": 153,
     "metadata": {},
     "output_type": "execute_result"
    },
    {
     "data": {
      "text/plain": [
       "'success: content added from https://2017-2021.state.gov/secretary-michael-r-pompeo-with-shannon-bream-of-fox-news-night/'"
      ]
     },
     "execution_count": 153,
     "metadata": {},
     "output_type": "execute_result"
    },
    {
     "data": {
      "text/plain": [
       "'success: content added from https://2017-2021.state.gov/the-hypocrisy-of-the-prcs-propaganda-system/'"
      ]
     },
     "execution_count": 153,
     "metadata": {},
     "output_type": "execute_result"
    },
    {
     "data": {
      "text/plain": [
       "'success: content added from https://2017-2021.state.gov/secretary-michael-r-pompeo-with-ben-shapiro-of-the-ben-shapiro-show-5/'"
      ]
     },
     "execution_count": 153,
     "metadata": {},
     "output_type": "execute_result"
    },
    {
     "data": {
      "text/plain": [
       "'success: content added from https://2017-2021.state.gov/abduction-of-opposition-leaders-in-belarus/'"
      ]
     },
     "execution_count": 153,
     "metadata": {},
     "output_type": "execute_result"
    },
    {
     "data": {
      "text/plain": [
       "'success: content added from https://2017-2021.state.gov/the-united-states-designates-former-lebanese-government-ministers/'"
      ]
     },
     "execution_count": 153,
     "metadata": {},
     "output_type": "execute_result"
    },
    {
     "data": {
      "text/plain": [
       "'success: content added from https://2017-2021.state.gov/tajikistan-independence-day-4/'"
      ]
     },
     "execution_count": 153,
     "metadata": {},
     "output_type": "execute_result"
    },
    {
     "data": {
      "text/plain": [
       "'success: content added from https://2017-2021.state.gov/andorra-national-day-3/'"
      ]
     },
     "execution_count": 153,
     "metadata": {},
     "output_type": "execute_result"
    },
    {
     "data": {
      "text/plain": [
       "'success: content added from https://2017-2021.state.gov/north-macedonia-national-day/'"
      ]
     },
     "execution_count": 153,
     "metadata": {},
     "output_type": "execute_result"
    },
    {
     "data": {
      "text/plain": [
       "'success: content added from https://2017-2021.state.gov/brazils-independence-day-3/'"
      ]
     },
     "execution_count": 153,
     "metadata": {},
     "output_type": "execute_result"
    },
    {
     "data": {
      "text/plain": [
       "'success: content added from https://2017-2021.state.gov/eswatini-independence-day-2/'"
      ]
     },
     "execution_count": 153,
     "metadata": {},
     "output_type": "execute_result"
    },
    {
     "data": {
      "text/plain": [
       "'success: content added from https://2017-2021.state.gov/on-the-overdue-release-of-cuban-journalist-roberto-quinones/'"
      ]
     },
     "execution_count": 153,
     "metadata": {},
     "output_type": "execute_result"
    },
    {
     "data": {
      "text/plain": [
       "'success: content added from https://2017-2021.state.gov/economic-normalization-between-kosovo-and-serbia/'"
      ]
     },
     "execution_count": 153,
     "metadata": {},
     "output_type": "execute_result"
    },
    {
     "data": {
      "text/plain": [
       "'success: content added from https://2017-2021.state.gov/congratulations-on-jamaicas-general-elections/'"
      ]
     },
     "execution_count": 153,
     "metadata": {},
     "output_type": "execute_result"
    },
    {
     "data": {
      "text/plain": [
       "'success: content added from https://2017-2021.state.gov/secretary-michael-r-pompeo-with-steve-doocy-jedediah-bila-and-pete-hegseth-of-fox-friends/'"
      ]
     },
     "execution_count": 153,
     "metadata": {},
     "output_type": "execute_result"
    },
    {
     "data": {
      "text/plain": [
       "'success: content added from https://2017-2021.state.gov/secretary-michael-r-pompeo-with-hugh-hewitt-of-the-hugh-hewitt-show-5/'"
      ]
     },
     "execution_count": 153,
     "metadata": {},
     "output_type": "execute_result"
    },
    {
     "data": {
      "text/plain": [
       "'success: content added from https://2017-2021.state.gov/the-united-states-responds-to-the-maduro-regimes-attempts-to-corrupt-democratic-elections-in-venezuela/'"
      ]
     },
     "execution_count": 153,
     "metadata": {},
     "output_type": "execute_result"
    },
    {
     "data": {
      "text/plain": [
       "'success: content added from https://2017-2021.state.gov/imposing-sanctions-on-entities-for-engaging-in-transactions-related-to-irans-petroleum-and-petrochemical-industry/'"
      ]
     },
     "execution_count": 153,
     "metadata": {},
     "output_type": "execute_result"
    },
    {
     "data": {
      "text/plain": [
       "'success: content added from https://2017-2021.state.gov/recent-developments-in-venezuela/'"
      ]
     },
     "execution_count": 153,
     "metadata": {},
     "output_type": "execute_result"
    },
    {
     "data": {
      "text/plain": [
       "'success: content added from https://2017-2021.state.gov/san-marino-national-day-3/'"
      ]
     },
     "execution_count": 153,
     "metadata": {},
     "output_type": "execute_result"
    },
    {
     "data": {
      "text/plain": [
       "'success: content added from https://2017-2021.state.gov/secretary-michael-r-pompeo-with-trey-gowdy-of-the-sean-hannity-show/'"
      ]
     },
     "execution_count": 153,
     "metadata": {},
     "output_type": "execute_result"
    },
    {
     "data": {
      "text/plain": [
       "'success: content added from https://2017-2021.state.gov/secretary-michael-r-pompeo-with-sebastian-gorka-of-america-first-with-sebastian-gorka-2/'"
      ]
     },
     "execution_count": 153,
     "metadata": {},
     "output_type": "execute_result"
    },
    {
     "data": {
      "text/plain": [
       "'success: content added from https://2017-2021.state.gov/actions-to-protect-u-s-personnel-from-illegitimate-investigation-by-the-international-criminal-court/'"
      ]
     },
     "execution_count": 153,
     "metadata": {},
     "output_type": "execute_result"
    },
    {
     "data": {
      "text/plain": [
       "'success: content added from https://2017-2021.state.gov/secretary-michael-r-pompeo-at-a-press-availability-12/'"
      ]
     },
     "execution_count": 153,
     "metadata": {},
     "output_type": "execute_result"
    },
    {
     "data": {
      "text/plain": [
       "'success: content added from https://2017-2021.state.gov/advancing-reciprocity-in-u-s-china-diplomatic-relations/'"
      ]
     },
     "execution_count": 153,
     "metadata": {},
     "output_type": "execute_result"
    },
    {
     "data": {
      "text/plain": [
       "'success: content added from https://2017-2021.state.gov/secretary-michael-r-pompeo-with-lou-dobbs-of-lou-dobbs-tonight-3/'"
      ]
     },
     "execution_count": 153,
     "metadata": {},
     "output_type": "execute_result"
    },
    {
     "data": {
      "text/plain": [
       "'success: content added from https://2017-2021.state.gov/vietnam-national-day-4/'"
      ]
     },
     "execution_count": 153,
     "metadata": {},
     "output_type": "execute_result"
    },
    {
     "data": {
      "text/plain": [
       "'success: content added from https://2017-2021.state.gov/secretary-michael-r-pompeo-and-moroccan-foreign-minister-nasser-bourita-at-the-signing-of-enhanced-immunities-agreement-with-morocco/'"
      ]
     },
     "execution_count": 153,
     "metadata": {},
     "output_type": "execute_result"
    },
    {
     "data": {
      "text/plain": [
       "'success: content added from https://2017-2021.state.gov/the-state-department-expands-pickering-and-rangel-graduate-fellowship-programs/'"
      ]
     },
     "execution_count": 153,
     "metadata": {},
     "output_type": "execute_result"
    },
    {
     "data": {
      "text/plain": [
       "'success: content added from https://2017-2021.state.gov/citgo-6-surpasses-1000-days-of-wrongful-detention-in-venezuela/'"
      ]
     },
     "execution_count": 153,
     "metadata": {},
     "output_type": "execute_result"
    },
    {
     "data": {
      "text/plain": [
       "'success: content added from https://2017-2021.state.gov/on-the-passing-of-former-indian-president-pranab-mukherjee/'"
      ]
     },
     "execution_count": 153,
     "metadata": {},
     "output_type": "execute_result"
    },
    {
     "data": {
      "text/plain": [
       "'success: content added from https://2017-2021.state.gov/slovakia-national-day-3/'"
      ]
     },
     "execution_count": 153,
     "metadata": {},
     "output_type": "execute_result"
    },
    {
     "data": {
      "text/plain": [
       "'success: content added from https://2017-2021.state.gov/secretary-michael-r-pompeo-with-vince-coglianese-and-mary-walter-of-wmals-mornings-on-the-mall-radio-show/'"
      ]
     },
     "execution_count": 153,
     "metadata": {},
     "output_type": "execute_result"
    },
    {
     "data": {
      "text/plain": [
       "'success: content added from https://2017-2021.state.gov/trinidad-and-tobagos-independence-day/'"
      ]
     },
     "execution_count": 153,
     "metadata": {},
     "output_type": "execute_result"
    },
    {
     "data": {
      "text/plain": [
       "'success: content added from https://2017-2021.state.gov/uzbekistan-independence-day-4/'"
      ]
     },
     "execution_count": 153,
     "metadata": {},
     "output_type": "execute_result"
    },
    {
     "data": {
      "text/plain": [
       "'success: content added from https://2017-2021.state.gov/kyrgyz-republic-independence-day-3/'"
      ]
     },
     "execution_count": 153,
     "metadata": {},
     "output_type": "execute_result"
    },
    {
     "data": {
      "text/plain": [
       "'success: content added from https://2017-2021.state.gov/on-the-resignation-of-prime-minister-of-japan-shinzo-abe/'"
      ]
     },
     "execution_count": 153,
     "metadata": {},
     "output_type": "execute_result"
    },
    {
     "data": {
      "text/plain": [
       "'success: content added from https://2017-2021.state.gov/malaysia-independence-day/'"
      ]
     },
     "execution_count": 153,
     "metadata": {},
     "output_type": "execute_result"
    },
    {
     "data": {
      "text/plain": [
       "'success: content added from https://2017-2021.state.gov/moldova-national-day-4/'"
      ]
     },
     "execution_count": 153,
     "metadata": {},
     "output_type": "execute_result"
    },
    {
     "data": {
      "text/plain": [
       "'success: content added from https://2017-2021.state.gov/womens-equality-day/'"
      ]
     },
     "execution_count": 153,
     "metadata": {},
     "output_type": "execute_result"
    },
    {
     "data": {
      "text/plain": [
       "'success: content added from https://2017-2021.state.gov/u-s-imposes-restrictions-on-certain-prc-state-owned-enterprises-and-executives-for-malign-activities-in-the-south-china-sea/'"
      ]
     },
     "execution_count": 153,
     "metadata": {},
     "output_type": "execute_result"
    },
    {
     "data": {
      "text/plain": [
       "'success: content added from https://2017-2021.state.gov/on-chinas-continued-coercion-of-the-united-kingdom/'"
      ]
     },
     "execution_count": 153,
     "metadata": {},
     "output_type": "execute_result"
    },
    {
     "data": {
      "text/plain": [
       "'success: content added from https://2017-2021.state.gov/designation-of-peoples-republic-of-china-prc-foreign-national-and-hong-kong-entity-under-the-foreign-narcotics-kingpin-designation-act/'"
      ]
     },
     "execution_count": 153,
     "metadata": {},
     "output_type": "execute_result"
    },
    {
     "data": {
      "text/plain": [
       "'success: content added from https://2017-2021.state.gov/confirmation-of-reports-on-the-poisoning-of-aleksey-navalny/'"
      ]
     },
     "execution_count": 153,
     "metadata": {},
     "output_type": "execute_result"
    },
    {
     "data": {
      "text/plain": [
       "'success: content added from https://2017-2021.state.gov/uruguays-independence-day-3/'"
      ]
     },
     "execution_count": 153,
     "metadata": {},
     "output_type": "execute_result"
    },
    {
     "data": {
      "text/plain": [
       "'success: content added from https://2017-2021.state.gov/secretary-michael-r-pompeo-and-israeli-prime-minister-benjamin-netanyahu-after-their-meeting-2/'"
      ]
     },
     "execution_count": 153,
     "metadata": {},
     "output_type": "execute_result"
    },
    {
     "data": {
      "text/plain": [
       "'success: content added from https://2017-2021.state.gov/ukraines-independence-day-2/'"
      ]
     },
     "execution_count": 153,
     "metadata": {},
     "output_type": "execute_result"
    },
    {
     "data": {
      "text/plain": [
       "'success: content added from https://2017-2021.state.gov/designations-for-iranian-human-rights-offenders/'"
      ]
     },
     "execution_count": 153,
     "metadata": {},
     "output_type": "execute_result"
    },
    {
     "data": {
      "text/plain": [
       "'success: content added from https://2017-2021.state.gov/international-day-of-remembrance-and-tribute-to-the-victims-of-terrorism-2/'"
      ]
     },
     "execution_count": 153,
     "metadata": {},
     "output_type": "execute_result"
    },
    {
     "data": {
      "text/plain": [
       "'success: content added from https://2017-2021.state.gov/secretary-michael-r-pompeo-with-joe-kernen-and-wilfred-frost-of-cnbcs-squawk-box/'"
      ]
     },
     "execution_count": 153,
     "metadata": {},
     "output_type": "execute_result"
    },
    {
     "data": {
      "text/plain": [
       "'success: content added from https://2017-2021.state.gov/secretary-michael-r-pompeo-with-sandra-smith-of-americas-newsroom-fox-news/'"
      ]
     },
     "execution_count": 153,
     "metadata": {},
     "output_type": "execute_result"
    },
    {
     "data": {
      "text/plain": [
       "'success: content added from https://2017-2021.state.gov/secretary-michael-r-pompeo-at-a-press-availability-11/'"
      ]
     },
     "execution_count": 153,
     "metadata": {},
     "output_type": "execute_result"
    },
    {
     "data": {
      "text/plain": [
       "'success: content added from https://2017-2021.state.gov/supporting-the-aspirations-of-the-belarusian-people/'"
      ]
     },
     "execution_count": 153,
     "metadata": {},
     "output_type": "execute_result"
    },
    {
     "data": {
      "text/plain": [
       "'success: content added from https://2017-2021.state.gov/syria-sanctions-designations-2/'"
      ]
     },
     "execution_count": 153,
     "metadata": {},
     "output_type": "execute_result"
    },
    {
     "data": {
      "text/plain": [
       "'success: content added from https://2017-2021.state.gov/secretary-michael-r-pompeo-with-bret-baier-of-special-report-with-bret-baier-2/'"
      ]
     },
     "execution_count": 153,
     "metadata": {},
     "output_type": "execute_result"
    },
    {
     "data": {
      "text/plain": [
       "'success: content added from https://2017-2021.state.gov/secretary-michael-r-pompeo-and-iraqi-foreign-minister-fuad-hussein-at-a-press-availability/'"
      ]
     },
     "execution_count": 153,
     "metadata": {},
     "output_type": "execute_result"
    },
    {
     "data": {
      "text/plain": [
       "'success: content added from https://2017-2021.state.gov/u-s-announces-humanitarian-assistance-for-iraq/'"
      ]
     },
     "execution_count": 153,
     "metadata": {},
     "output_type": "execute_result"
    },
    {
     "data": {
      "text/plain": [
       "'success: content added from https://2017-2021.state.gov/the-united-states-designates-mahan-air-facilitators/'"
      ]
     },
     "execution_count": 153,
     "metadata": {},
     "output_type": "execute_result"
    },
    {
     "data": {
      "text/plain": [
       "'success: content added from https://2017-2021.state.gov/mutiny-in-mali/'"
      ]
     },
     "execution_count": 153,
     "metadata": {},
     "output_type": "execute_result"
    },
    {
     "data": {
      "text/plain": [
       "'success: content added from https://2017-2021.state.gov/on-the-occasion-of-world-humanitarian-day/'"
      ]
     },
     "execution_count": 153,
     "metadata": {},
     "output_type": "execute_result"
    },
    {
     "data": {
      "text/plain": [
       "'success: content added from https://2017-2021.state.gov/hungary-national-day-4/'"
      ]
     },
     "execution_count": 153,
     "metadata": {},
     "output_type": "execute_result"
    },
    {
     "data": {
      "text/plain": [
       "'success: content added from https://2017-2021.state.gov/statement-by-secretary-michael-r-pompeo-2/'"
      ]
     },
     "execution_count": 153,
     "metadata": {},
     "output_type": "execute_result"
    },
    {
     "data": {
      "text/plain": [
       "'success: content added from https://2017-2021.state.gov/second-review-of-the-protecting-life-in-global-health-assistance-policy/'"
      ]
     },
     "execution_count": 153,
     "metadata": {},
     "output_type": "execute_result"
    },
    {
     "data": {
      "text/plain": [
       "'success: content added from https://2017-2021.state.gov/afghanistans-independence-day/'"
      ]
     },
     "execution_count": 153,
     "metadata": {},
     "output_type": "execute_result"
    },
    {
     "data": {
      "text/plain": [
       "'success: content added from https://2017-2021.state.gov/financial-sanctions-and-visa-restrictions-against-ugandan-individuals-involved-in-corrupt-adoption-scheme/'"
      ]
     },
     "execution_count": 153,
     "metadata": {},
     "output_type": "execute_result"
    },
    {
     "data": {
      "text/plain": [
       "'success: content added from https://2017-2021.state.gov/the-united-states-further-restricts-huawei-access-to-u-s-technology/'"
      ]
     },
     "execution_count": 153,
     "metadata": {},
     "output_type": "execute_result"
    },
    {
     "data": {
      "text/plain": [
       "'success: content added from https://2017-2021.state.gov/gabon-national-day-3/'"
      ]
     },
     "execution_count": 153,
     "metadata": {},
     "output_type": "execute_result"
    },
    {
     "data": {
      "text/plain": [
       "'success: content added from https://2017-2021.state.gov/secretary-michael-r-pompeo-and-polish-foreign-minister-jacek-czaputowicz-at-a-press-availability/'"
      ]
     },
     "execution_count": 153,
     "metadata": {},
     "output_type": "execute_result"
    },
    {
     "data": {
      "text/plain": [
       "'success: content added from https://2017-2021.state.gov/u-s-welcomes-lithuanias-ban-of-hizballah-as-a-terrorist-organization/'"
      ]
     },
     "execution_count": 153,
     "metadata": {},
     "output_type": "execute_result"
    },
    {
     "data": {
      "text/plain": [
       "'success: content added from https://2017-2021.state.gov/national-day-of-the-republic-of-the-congo/'"
      ]
     },
     "execution_count": 153,
     "metadata": {},
     "output_type": "execute_result"
    },
    {
     "data": {
      "text/plain": [
       "'success: content added from https://2017-2021.state.gov/indian-independence-day-3/'"
      ]
     },
     "execution_count": 153,
     "metadata": {},
     "output_type": "execute_result"
    },
    {
     "data": {
      "text/plain": [
       "'success: content added from https://2017-2021.state.gov/on-the-security-councils-failure-to-hold-iran-accountable/'"
      ]
     },
     "execution_count": 153,
     "metadata": {},
     "output_type": "execute_result"
    },
    {
     "data": {
      "text/plain": [
       "'success: content added from https://2017-2021.state.gov/liechtenstein-national-day-4/'"
      ]
     },
     "execution_count": 153,
     "metadata": {},
     "output_type": "execute_result"
    },
    {
     "data": {
      "text/plain": [
       "'success: content added from https://2017-2021.state.gov/secretary-michael-r-pompeo-with-andreas-pfeifer-of-orf-tv/'"
      ]
     },
     "execution_count": 153,
     "metadata": {},
     "output_type": "execute_result"
    },
    {
     "data": {
      "text/plain": [
       "'success: content added from https://2017-2021.state.gov/secretary-pompeos-meeting-with-greek-foreign-minister-dendias/'"
      ]
     },
     "execution_count": 153,
     "metadata": {},
     "output_type": "execute_result"
    },
    {
     "data": {
      "text/plain": [
       "'success: content added from https://2017-2021.state.gov/secretary-michael-r-pompeo-and-austrian-foreign-minister-alexander-schallenberg-at-a-press-availability/'"
      ]
     },
     "execution_count": 153,
     "metadata": {},
     "output_type": "execute_result"
    },
    {
     "data": {
      "text/plain": [
       "'success: content added from https://2017-2021.state.gov/indonesia-national-day-2/'"
      ]
     },
     "execution_count": 153,
     "metadata": {},
     "output_type": "execute_result"
    },
    {
     "data": {
      "text/plain": [
       "'success: content added from https://2017-2021.state.gov/u-s-and-concerned-nations-stand-together-for-democratic-change-in-venezuela/'"
      ]
     },
     "execution_count": 153,
     "metadata": {},
     "output_type": "execute_result"
    },
    {
     "data": {
      "text/plain": [
       "'success: content added from https://2017-2021.state.gov/eight-year-anniversary-of-the-disappearance-of-austin-tice/'"
      ]
     },
     "execution_count": 153,
     "metadata": {},
     "output_type": "execute_result"
    },
    {
     "data": {
      "text/plain": [
       "'success: content added from https://2017-2021.state.gov/pakistan-independence-day-4/'"
      ]
     },
     "execution_count": 153,
     "metadata": {},
     "output_type": "execute_result"
    },
    {
     "data": {
      "text/plain": [
       "'success: content added from https://2017-2021.state.gov/secretary-michael-r-pompeo-with-jure-tepina-of-slovenias-pop-tv/'"
      ]
     },
     "execution_count": 153,
     "metadata": {},
     "output_type": "execute_result"
    },
    {
     "data": {
      "text/plain": [
       "'success: content added from https://2017-2021.state.gov/the-united-states-imposes-visa-restrictions-on-multiple-individuals-undermining-sudans-civilian-led-transitional-government/'"
      ]
     },
     "execution_count": 153,
     "metadata": {},
     "output_type": "execute_result"
    },
    {
     "data": {
      "text/plain": [
       "'success: content added from https://2017-2021.state.gov/suspension-of-private-charter-flights-between-the-united-states-and-cuba/'"
      ]
     },
     "execution_count": 153,
     "metadata": {},
     "output_type": "execute_result"
    },
    {
     "data": {
      "text/plain": [
       "'success: content added from https://2017-2021.state.gov/secretary-michael-r-pompeo-remarks-to-traveling-press-4/'"
      ]
     },
     "execution_count": 153,
     "metadata": {},
     "output_type": "execute_result"
    },
    {
     "data": {
      "text/plain": [
       "'success: content added from https://2017-2021.state.gov/secretary-michael-r-pompeo-and-slovenian-prime-minister-janez-jansa-at-a-press-availability/'"
      ]
     },
     "execution_count": 153,
     "metadata": {},
     "output_type": "execute_result"
    },
    {
     "data": {
      "text/plain": [
       "'success: content added from https://2017-2021.state.gov/designation-of-the-confucius-institute-u-s-center-as-a-foreign-mission-of-the-prc/'"
      ]
     },
     "execution_count": 153,
     "metadata": {},
     "output_type": "execute_result"
    },
    {
     "data": {
      "text/plain": [
       "'success: content added from https://2017-2021.state.gov/historic-day-for-peace-in-the-middle-east/'"
      ]
     },
     "execution_count": 153,
     "metadata": {},
     "output_type": "execute_result"
    },
    {
     "data": {
      "text/plain": [
       "'success: content added from https://2017-2021.state.gov/republic-of-korea-national-day-2/'"
      ]
     },
     "execution_count": 153,
     "metadata": {},
     "output_type": "execute_result"
    },
    {
     "data": {
      "text/plain": [
       "'success: content added from https://2017-2021.state.gov/secretary-michael-r-pompeo-with-ray-furlong-of-radio-free-europe-radio-liberty/'"
      ]
     },
     "execution_count": 153,
     "metadata": {},
     "output_type": "execute_result"
    },
    {
     "data": {
      "text/plain": [
       "'success: content added from https://2017-2021.state.gov/securing-freedom-in-the-heart-of-europe/'"
      ]
     },
     "execution_count": 153,
     "metadata": {},
     "output_type": "execute_result"
    },
    {
     "data": {
      "text/plain": [
       "'success: content added from https://2017-2021.state.gov/secretary-michael-r-pompeo-with-martin-reznicek-of-czech-tv/'"
      ]
     },
     "execution_count": 153,
     "metadata": {},
     "output_type": "execute_result"
    },
    {
     "data": {
      "text/plain": [
       "'success: content added from https://2017-2021.state.gov/secretary-michael-r-pompeo-and-czech-prime-minister-andrej-babis-at-a-press-availability/'"
      ]
     },
     "execution_count": 153,
     "metadata": {},
     "output_type": "execute_result"
    },
    {
     "data": {
      "text/plain": [
       "'success: content added from https://2017-2021.state.gov/secretary-michael-r-pompeo-at-the-thank-you-america-memorial/'"
      ]
     },
     "execution_count": 153,
     "metadata": {},
     "output_type": "execute_result"
    },
    {
     "data": {
      "text/plain": [
       "'success: content added from https://2017-2021.state.gov/chads-independence-day/'"
      ]
     },
     "execution_count": 153,
     "metadata": {},
     "output_type": "execute_result"
    },
    {
     "data": {
      "text/plain": [
       "'success: content added from https://2017-2021.state.gov/secretary-michael-r-pompeo-with-sean-spicer-of-newsmax-tvs-spicer-co/'"
      ]
     },
     "execution_count": 153,
     "metadata": {},
     "output_type": "execute_result"
    },
    {
     "data": {
      "text/plain": [
       "'success: content added from https://2017-2021.state.gov/secretary-michael-r-pompeo-with-matt-schlapp-chairman-of-the-american-conservative-union-for-cpac/'"
      ]
     },
     "execution_count": 153,
     "metadata": {},
     "output_type": "execute_result"
    },
    {
     "data": {
      "text/plain": [
       "'success: content added from https://2017-2021.state.gov/presidential-elections-in-belarus/'"
      ]
     },
     "execution_count": 153,
     "metadata": {},
     "output_type": "execute_result"
    },
    {
     "data": {
      "text/plain": [
       "'success: content added from https://2017-2021.state.gov/ecuadors-national-day-2/'"
      ]
     },
     "execution_count": 153,
     "metadata": {},
     "output_type": "execute_result"
    },
    {
     "data": {
      "text/plain": [
       "'success: content added from https://2017-2021.state.gov/russian-decree-targeting-rfe-rl-and-voice-of-america-in-russia/'"
      ]
     },
     "execution_count": 153,
     "metadata": {},
     "output_type": "execute_result"
    },
    {
     "data": {
      "text/plain": [
       "'success: content added from https://2017-2021.state.gov/u-s-government-response-to-the-explosion-in-beirut/'"
      ]
     },
     "execution_count": 153,
     "metadata": {},
     "output_type": "execute_result"
    },
    {
     "data": {
      "text/plain": [
       "'success: content added from https://2017-2021.state.gov/cote-divoire-independence-day/'"
      ]
     },
     "execution_count": 153,
     "metadata": {},
     "output_type": "execute_result"
    },
    {
     "data": {
      "text/plain": [
       "'success: content added from https://2017-2021.state.gov/the-united-states-imposes-sanctions-on-central-african-republic-militia-leader/'"
      ]
     },
     "execution_count": 153,
     "metadata": {},
     "output_type": "execute_result"
    },
    {
     "data": {
      "text/plain": [
       "'success: content added from https://2017-2021.state.gov/the-united-states-designates-individuals-in-hong-kong-for-curtailing-promised-freedoms/'"
      ]
     },
     "execution_count": 153,
     "metadata": {},
     "output_type": "execute_result"
    },
    {
     "data": {
      "text/plain": [
       "'success: content added from https://2017-2021.state.gov/commemorating-the-30th-anniversary-of-operation-desert-shield/'"
      ]
     },
     "execution_count": 153,
     "metadata": {},
     "output_type": "execute_result"
    },
    {
     "data": {
      "text/plain": [
       "'success: content added from https://2017-2021.state.gov/on-the-loya-jirga-in-afghanistan/'"
      ]
     },
     "execution_count": 153,
     "metadata": {},
     "output_type": "execute_result"
    },
    {
     "data": {
      "text/plain": [
       "'success: content added from https://2017-2021.state.gov/singapore-national-day/'"
      ]
     },
     "execution_count": 153,
     "metadata": {},
     "output_type": "execute_result"
    },
    {
     "data": {
      "text/plain": [
       "'success: content added from https://2017-2021.state.gov/on-the-departure-of-brian-hook/'"
      ]
     },
     "execution_count": 153,
     "metadata": {},
     "output_type": "execute_result"
    },
    {
     "data": {
      "text/plain": [
       "'success: content added from https://2017-2021.state.gov/bolivias-independence-day-2/'"
      ]
     },
     "execution_count": 153,
     "metadata": {},
     "output_type": "execute_result"
    },
    {
     "data": {
      "text/plain": [
       "'success: content added from https://2017-2021.state.gov/the-53rd-anniversary-of-the-founding-of-the-association-of-southeast-asian-nations/'"
      ]
     },
     "execution_count": 153,
     "metadata": {},
     "output_type": "execute_result"
    },
    {
     "data": {
      "text/plain": [
       "'success: content added from https://2017-2021.state.gov/the-united-states-sanctions-network-threatening-the-security-of-libya/'"
      ]
     },
     "execution_count": 153,
     "metadata": {},
     "output_type": "execute_result"
    },
    {
     "data": {
      "text/plain": [
       "'success: content added from https://2017-2021.state.gov/jamaicas-independence-day/'"
      ]
     },
     "execution_count": 153,
     "metadata": {},
     "output_type": "execute_result"
    },
    {
     "data": {
      "text/plain": [
       "'success: content added from https://2017-2021.state.gov/secretary-michael-r-pompeo-at-a-press-availability-10/'"
      ]
     },
     "execution_count": 153,
     "metadata": {},
     "output_type": "execute_result"
    },
    {
     "data": {
      "text/plain": [
       "'success: content added from https://2017-2021.state.gov/announcing-the-expansion-of-the-clean-network-to-safeguard-americas-assets/'"
      ]
     },
     "execution_count": 153,
     "metadata": {},
     "output_type": "execute_result"
    },
    {
     "data": {
      "text/plain": [
       "'success: content added from https://2017-2021.state.gov/u-s-economic-and-humanitarian-assistance-boost-u-s-leadership-in-continued-global-covid-19-response-efforts/'"
      ]
     },
     "execution_count": 153,
     "metadata": {},
     "output_type": "execute_result"
    },
    {
     "data": {
      "text/plain": [
       "'success: content added from https://2017-2021.state.gov/the-united-states-imposes-sanctions-on-zimbabwean-businessman-kudakwashe-tagwirei/'"
      ]
     },
     "execution_count": 153,
     "metadata": {},
     "output_type": "execute_result"
    },
    {
     "data": {
      "text/plain": [
       "'success: content added from https://2017-2021.state.gov/submission-of-the-second-congressional-report-pursuant-to-the-elie-wiesel-genocide-and-atrocities-prevention-act-of-2018/'"
      ]
     },
     "execution_count": 153,
     "metadata": {},
     "output_type": "execute_result"
    },
    {
     "data": {
      "text/plain": [
       "'success: content added from https://2017-2021.state.gov/explosion-in-beirut/'"
      ]
     },
     "execution_count": 153,
     "metadata": {},
     "output_type": "execute_result"
    },
    {
     "data": {
      "text/plain": [
       "'success: content added from https://2017-2021.state.gov/on-the-chinese-communist-partys-extra-territorial-authoritarianism/'"
      ]
     },
     "execution_count": 153,
     "metadata": {},
     "output_type": "execute_result"
    },
    {
     "data": {
      "text/plain": [
       "'success: content added from https://2017-2021.state.gov/the-passing-of-john-hume/'"
      ]
     },
     "execution_count": 153,
     "metadata": {},
     "output_type": "execute_result"
    },
    {
     "data": {
      "text/plain": [
       "'success: content added from https://2017-2021.state.gov/congratulations-on-nigers-60th-independence-day/'"
      ]
     },
     "execution_count": 153,
     "metadata": {},
     "output_type": "execute_result"
    },
    {
     "data": {
      "text/plain": [
       "'success: content added from https://2017-2021.state.gov/secretary-michael-r-pompeo-with-maria-bartiromo-of-fox-news-sunday-morning-futures-2/'"
      ]
     },
     "execution_count": 153,
     "metadata": {},
     "output_type": "execute_result"
    },
    {
     "data": {
      "text/plain": [
       "'success: content added from https://2017-2021.state.gov/on-chinas-predatory-fishing-practices-in-the-galapagos/'"
      ]
     },
     "execution_count": 153,
     "metadata": {},
     "output_type": "execute_result"
    },
    {
     "data": {
      "text/plain": [
       "'success: content added from https://2017-2021.state.gov/on-the-postponement-of-hong-kongs-legislative-council-elections/'"
      ]
     },
     "execution_count": 153,
     "metadata": {},
     "output_type": "execute_result"
    },
    {
     "data": {
      "text/plain": [
       "'success: content added from https://2017-2021.state.gov/benin-independence-day/'"
      ]
     },
     "execution_count": 153,
     "metadata": {},
     "output_type": "execute_result"
    },
    {
     "data": {
      "text/plain": [
       "'success: content added from https://2017-2021.state.gov/on-sanctioning-human-rights-abusers-in-xinjiang-china/'"
      ]
     },
     "execution_count": 153,
     "metadata": {},
     "output_type": "execute_result"
    },
    {
     "data": {
      "text/plain": [
       "'success: content added from https://2017-2021.state.gov/on-the-occasion-of-eid-al-adha-3/'"
      ]
     },
     "execution_count": 153,
     "metadata": {},
     "output_type": "execute_result"
    },
    {
     "data": {
      "text/plain": [
       "'success: content added from https://2017-2021.state.gov/on-the-occasion-of-switzerlands-national-day/'"
      ]
     },
     "execution_count": 153,
     "metadata": {},
     "output_type": "execute_result"
    },
    {
     "data": {
      "text/plain": [
       "'success: content added from https://2017-2021.state.gov/on-the-passing-of-former-taiwan-president-lee-teng-hui/'"
      ]
     },
     "execution_count": 153,
     "metadata": {},
     "output_type": "execute_result"
    },
    {
     "data": {
      "text/plain": [
       "'success: content added from https://2017-2021.state.gov/expansion-of-the-scope-of-iran-metals-sanctions-targeting-irans-nuclear-military-and-ballistic-missile-programs-and-the-irgc/'"
      ]
     },
     "execution_count": 153,
     "metadata": {},
     "output_type": "execute_result"
    },
    {
     "data": {
      "text/plain": [
       "'success: content added from https://2017-2021.state.gov/the-united-states-applauds-the-eus-action-on-cyber-sanctions/'"
      ]
     },
     "execution_count": 153,
     "metadata": {},
     "output_type": "execute_result"
    },
    {
     "data": {
      "text/plain": [
       "'success: content added from https://2017-2021.state.gov/secretary-michael-r-pompeo-before-the-senate-foreign-relations-committee-on-the-fiscal-year-2021-state-department-budget-request/'"
      ]
     },
     "execution_count": 153,
     "metadata": {},
     "output_type": "execute_result"
    },
    {
     "data": {
      "text/plain": [
       "'success: content added from https://2017-2021.state.gov/secretary-michael-r-pompeo-with-simon-conway-of-the-joe-pags-show/'"
      ]
     },
     "execution_count": 153,
     "metadata": {},
     "output_type": "execute_result"
    },
    {
     "data": {
      "text/plain": [
       "'success: content added from https://2017-2021.state.gov/moroccan-throne-day/'"
      ]
     },
     "execution_count": 153,
     "metadata": {},
     "output_type": "execute_result"
    },
    {
     "data": {
      "text/plain": [
       "'success: content added from https://2017-2021.state.gov/vanuatu-national-day-3/'"
      ]
     },
     "execution_count": 153,
     "metadata": {},
     "output_type": "execute_result"
    },
    {
     "data": {
      "text/plain": [
       "'success: content added from https://2017-2021.state.gov/secretary-michael-r-pompeo-with-michael-knowles-of-the-ben-shapiro-show/'"
      ]
     },
     "execution_count": 153,
     "metadata": {},
     "output_type": "execute_result"
    },
    {
     "data": {
      "text/plain": [
       "'success: content added from https://2017-2021.state.gov/release-of-the-just-act-report/'"
      ]
     },
     "execution_count": 153,
     "metadata": {},
     "output_type": "execute_result"
    },
    {
     "data": {
      "text/plain": [
       "'success: content added from https://2017-2021.state.gov/syria-sanctions-designations/'"
      ]
     },
     "execution_count": 153,
     "metadata": {},
     "output_type": "execute_result"
    },
    {
     "data": {
      "text/plain": [
       "'success: content added from https://2017-2021.state.gov/the-united-states-designates-two-isis-facilitators/'"
      ]
     },
     "execution_count": 153,
     "metadata": {},
     "output_type": "execute_result"
    },
    {
     "data": {
      "text/plain": [
       "'success: content added from https://2017-2021.state.gov/secretary-michael-r-pompeo-at-a-press-availability-with-secretary-of-defense-mark-esper-australian-foreign-minister-marise-payne-and-australian-defence-minister-linda-reynolds/'"
      ]
     },
     "execution_count": 153,
     "metadata": {},
     "output_type": "execute_result"
    },
    {
     "data": {
      "text/plain": [
       "'success: content added from https://2017-2021.state.gov/perus-independence-day-2/'"
      ]
     },
     "execution_count": 153,
     "metadata": {},
     "output_type": "execute_result"
    },
    {
     "data": {
      "text/plain": [
       "'success: content added from https://2017-2021.state.gov/public-designation-of-former-officials-of-the-illegitimate-maduro-regime-due-to-involvement-in-significant-corruption/'"
      ]
     },
     "execution_count": 153,
     "metadata": {},
     "output_type": "execute_result"
    },
    {
     "data": {
      "text/plain": [
       "'success: content added from https://2017-2021.state.gov/celebrating-the-231st-anniversary-of-the-u-s-department-of-state/'"
      ]
     },
     "execution_count": 153,
     "metadata": {},
     "output_type": "execute_result"
    },
    {
     "data": {
      "text/plain": [
       "'success: content added from https://2017-2021.state.gov/30th-anniversary-of-the-americans-with-disabilities-act/'"
      ]
     },
     "execution_count": 153,
     "metadata": {},
     "output_type": "execute_result"
    },
    {
     "data": {
      "text/plain": [
       "'success: content added from https://2017-2021.state.gov/on-the-occasion-of-liberias-independence-day/'"
      ]
     },
     "execution_count": 153,
     "metadata": {},
     "output_type": "execute_result"
    },
    {
     "data": {
      "text/plain": [
       "'success: content added from https://2017-2021.state.gov/maldivian-independence-day-2/'"
      ]
     },
     "execution_count": 153,
     "metadata": {},
     "output_type": "execute_result"
    },
    {
     "data": {
      "text/plain": [
       "'success: content added from https://2017-2021.state.gov/secretary-michael-r-pompeo-with-martha-maccallum-on-the-story-with-martha-maccallum-on-fox-news/'"
      ]
     },
     "execution_count": 153,
     "metadata": {},
     "output_type": "execute_result"
    },
    {
     "data": {
      "text/plain": [
       "'success: content added from https://2017-2021.state.gov/communist-china-and-the-free-worlds-future/'"
      ]
     },
     "execution_count": 153,
     "metadata": {},
     "output_type": "execute_result"
    },
    {
     "data": {
      "text/plain": [
       "'success: content added from https://2017-2021.state.gov/u-s-sanctions-moron-brothers-for-their-role-in-regime-corruption/'"
      ]
     },
     "execution_count": 153,
     "metadata": {},
     "output_type": "execute_result"
    },
    {
     "data": {
      "text/plain": [
       "'success: content added from https://2017-2021.state.gov/message-on-the-80th-anniversary-of-the-welles-declaration/'"
      ]
     },
     "execution_count": 153,
     "metadata": {},
     "output_type": "execute_result"
    },
    {
     "data": {
      "text/plain": [
       "'success: content added from https://2017-2021.state.gov/secretary-michael-r-pompeo-with-johannes-langkilde-of-dr1/'"
      ]
     },
     "execution_count": 153,
     "metadata": {},
     "output_type": "execute_result"
    },
    {
     "data": {
      "text/plain": [
       "'success: content added from https://2017-2021.state.gov/secretary-michael-r-pompeo-at-a-press-availability-with-danish-foreign-minister-jeppe-kofod/'"
      ]
     },
     "execution_count": 153,
     "metadata": {},
     "output_type": "execute_result"
    },
    {
     "data": {
      "text/plain": [
       "'success: content added from https://2017-2021.state.gov/transnational-organized-crime-rewards-program-offer-for-information-to-bring-ukrainian-nationals-to-justice/'"
      ]
     },
     "execution_count": 153,
     "metadata": {},
     "output_type": "execute_result"
    },
    {
     "data": {
      "text/plain": [
       "'success: content added from https://2017-2021.state.gov/the-state-department-takes-action-and-calls-for-information-to-bring-venezuelan-national-maikel-jose-moreno-perez-to-justice/'"
      ]
     },
     "execution_count": 153,
     "metadata": {},
     "output_type": "execute_result"
    },
    {
     "data": {
      "text/plain": [
       "'success: content added from https://2017-2021.state.gov/secretary-michael-r-pompeo-and-british-foreign-secretary-dominic-raab-at-a-press-availability/'"
      ]
     },
     "execution_count": 153,
     "metadata": {},
     "output_type": "execute_result"
    },
    {
     "data": {
      "text/plain": [
       "'success: content added from https://2017-2021.state.gov/belgium-national-day-4/'"
      ]
     },
     "execution_count": 153,
     "metadata": {},
     "output_type": "execute_result"
    },
    {
     "data": {
      "text/plain": [
       "'success: content added from https://2017-2021.state.gov/21st-anniversary-of-the-prc-governments-persecution-of-falun-gong/'"
      ]
     },
     "execution_count": 153,
     "metadata": {},
     "output_type": "execute_result"
    },
    {
     "data": {
      "text/plain": [
       "'success: content added from https://2017-2021.state.gov/public-designation-of-russian-national-ramzan-kadyrov-due-to-involvement-in-gross-violations-of-human-rights/'"
      ]
     },
     "execution_count": 153,
     "metadata": {},
     "output_type": "execute_result"
    },
    {
     "data": {
      "text/plain": [
       "'success: content added from https://2017-2021.state.gov/colombias-independence-day-2/'"
      ]
     },
     "execution_count": 153,
     "metadata": {},
     "output_type": "execute_result"
    },
    {
     "data": {
      "text/plain": [
       "'success: content added from https://2017-2021.state.gov/my-faith-my-work-my-country/'"
      ]
     },
     "execution_count": 153,
     "metadata": {},
     "output_type": "execute_result"
    },
    {
     "data": {
      "text/plain": [
       "'success: content added from https://2017-2021.state.gov/the-united-states-sanctions-two-individuals-and-two-entities-related-to-corruption-in-nicaragua/'"
      ]
     },
     "execution_count": 153,
     "metadata": {},
     "output_type": "execute_result"
    },
    {
     "data": {
      "text/plain": [
       "'success: content added from https://2017-2021.state.gov/european-court-of-justice-invalidates-eu-u-s-privacy-shield/'"
      ]
     },
     "execution_count": 153,
     "metadata": {},
     "output_type": "execute_result"
    },
    {
     "data": {
      "text/plain": [
       "'success: content added from https://2017-2021.state.gov/designation-of-prc-foreign-nationals-and-entities-under-the-foreign-narcotics-kingpin-designation-act/'"
      ]
     },
     "execution_count": 153,
     "metadata": {},
     "output_type": "execute_result"
    },
    {
     "data": {
      "text/plain": [
       "'success: content added from https://2017-2021.state.gov/secretary-michael-r-pompeo-with-bill-hemmer-of-fox-news/'"
      ]
     },
     "execution_count": 153,
     "metadata": {},
     "output_type": "execute_result"
    },
    {
     "data": {
      "text/plain": [
       "'success: content added from https://2017-2021.state.gov/unalienable-rights-and-the-securing-of-freedom/'"
      ]
     },
     "execution_count": 153,
     "metadata": {},
     "output_type": "execute_result"
    },
    {
     "data": {
      "text/plain": [
       "'success: content added from https://2017-2021.state.gov/secretary-michael-r-pompeo-with-simon-conway-of-the-simon-conway-show/'"
      ]
     },
     "execution_count": 153,
     "metadata": {},
     "output_type": "execute_result"
    },
    {
     "data": {
      "text/plain": [
       "'success: content added from https://2017-2021.state.gov/pan-american-health-organization-transparency/'"
      ]
     },
     "execution_count": 153,
     "metadata": {},
     "output_type": "execute_result"
    },
    {
     "data": {
      "text/plain": [
       "'success: content added from https://2017-2021.state.gov/on-the-presidents-announcement-on-hong-kong/'"
      ]
     },
     "execution_count": 153,
     "metadata": {},
     "output_type": "execute_result"
    },
    {
     "data": {
      "text/plain": [
       "'success: content added from https://2017-2021.state.gov/remarks-to-the-economic-club-of-new-york/'"
      ]
     },
     "execution_count": 153,
     "metadata": {},
     "output_type": "execute_result"
    },
    {
     "data": {
      "text/plain": [
       "'success: content added from https://2017-2021.state.gov/the-united-states-imposes-sanctions-on-russian-financiers-global-sanctions-evasion-network/'"
      ]
     },
     "execution_count": 153,
     "metadata": {},
     "output_type": "execute_result"
    },
    {
     "data": {
      "text/plain": [
       "'success: content added from https://2017-2021.state.gov/secretary-michael-r-pompeo-with-bob-cusack-editor-in-chief-of-the-hill/'"
      ]
     },
     "execution_count": 153,
     "metadata": {},
     "output_type": "execute_result"
    },
    {
     "data": {
      "text/plain": [
       "'success: content added from https://2017-2021.state.gov/secretary-michael-r-pompeo-at-a-press-availability-9/'"
      ]
     },
     "execution_count": 153,
     "metadata": {},
     "output_type": "execute_result"
    },
    {
     "data": {
      "text/plain": [
       "'success: content added from https://2017-2021.state.gov/the-united-states-and-six-member-states-of-tftc-target-isis-linked-financial-network/'"
      ]
     },
     "execution_count": 153,
     "metadata": {},
     "output_type": "execute_result"
    },
    {
     "data": {
      "text/plain": [
       "'success: content added from https://2017-2021.state.gov/u-s-department-of-state-imposes-visa-restrictions-on-guyanese-individuals-undermining-democracy/'"
      ]
     },
     "execution_count": 153,
     "metadata": {},
     "output_type": "execute_result"
    },
    {
     "data": {
      "text/plain": [
       "'success: content added from https://2017-2021.state.gov/new-humanitarian-and-health-assistance-bolsters-u-s-leadership-in-response-to-covid-19/'"
      ]
     },
     "execution_count": 153,
     "metadata": {},
     "output_type": "execute_result"
    },
    {
     "data": {
      "text/plain": [
       "'success: content added from https://2017-2021.state.gov/u-s-imposes-visa-restrictions-on-certain-employees-of-chinese-technology-companies-that-abuse-human-rights/'"
      ]
     },
     "execution_count": 153,
     "metadata": {},
     "output_type": "execute_result"
    },
    {
     "data": {
      "text/plain": [
       "'success: content added from https://2017-2021.state.gov/welcoming-the-united-kingdom-decision-to-prohibit-huawei-from-5g-networks/'"
      ]
     },
     "execution_count": 153,
     "metadata": {},
     "output_type": "execute_result"
    },
    {
     "data": {
      "text/plain": [
       "'success: content added from https://2017-2021.state.gov/on-the-pan-democratic-primary-election-in-hong-kong/'"
      ]
     },
     "execution_count": 153,
     "metadata": {},
     "output_type": "execute_result"
    },
    {
     "data": {
      "text/plain": [
       "'success: content added from https://2017-2021.state.gov/on-the-occasion-of-frances-national-day-2/'"
      ]
     },
     "execution_count": 153,
     "metadata": {},
     "output_type": "execute_result"
    },
    {
     "data": {
      "text/plain": [
       "'success: content added from https://2017-2021.state.gov/u-s-position-on-maritime-claims-in-the-south-china-sea/'"
      ]
     },
     "execution_count": 153,
     "metadata": {},
     "output_type": "execute_result"
    },
    {
     "data": {
      "text/plain": [
       "'success: content added from https://2017-2021.state.gov/montenegro-statehood-day/'"
      ]
     },
     "execution_count": 153,
     "metadata": {},
     "output_type": "execute_result"
    },
    {
     "data": {
      "text/plain": [
       "'success: content added from https://2017-2021.state.gov/sao-tome-and-principe-national-day-2/'"
      ]
     },
     "execution_count": 153,
     "metadata": {},
     "output_type": "execute_result"
    },
    {
     "data": {
      "text/plain": [
       "'success: content added from https://2017-2021.state.gov/2020-singapore-general-election/'"
      ]
     },
     "execution_count": 153,
     "metadata": {},
     "output_type": "execute_result"
    },
    {
     "data": {
      "text/plain": [
       "'success: content added from https://2017-2021.state.gov/commemorating-the-25th-anniversary-of-diplomatic-relations-between-the-united-states-and-the-socialist-republic-of-vietnam/'"
      ]
     },
     "execution_count": 153,
     "metadata": {},
     "output_type": "execute_result"
    },
    {
     "data": {
      "text/plain": [
       "'success: content added from https://2017-2021.state.gov/the-bahamas-independence-day/'"
      ]
     },
     "execution_count": 153,
     "metadata": {},
     "output_type": "execute_result"
    },
    {
     "data": {
      "text/plain": [
       "'success: content added from https://2017-2021.state.gov/un-special-rapporteur-gives-more-cause-to-distrust-un-human-rights-mechanisms/'"
      ]
     },
     "execution_count": 153,
     "metadata": {},
     "output_type": "execute_result"
    },
    {
     "data": {
      "text/plain": [
       "'success: content added from https://2017-2021.state.gov/on-the-passing-of-prime-minister-amadou-gon-coulibaly/'"
      ]
     },
     "execution_count": 153,
     "metadata": {},
     "output_type": "execute_result"
    },
    {
     "data": {
      "text/plain": [
       "'success: content added from https://2017-2021.state.gov/kiribati-national-day-3/'"
      ]
     },
     "execution_count": 153,
     "metadata": {},
     "output_type": "execute_result"
    },
    {
     "data": {
      "text/plain": [
       "'success: content added from https://2017-2021.state.gov/argentinas-independence-day-4/'"
      ]
     },
     "execution_count": 153,
     "metadata": {},
     "output_type": "execute_result"
    },
    {
     "data": {
      "text/plain": [
       "'success: content added from https://2017-2021.state.gov/secretary-michael-r-pompeo-at-a-press-briefing-on-current-u-s-foreign-policy/'"
      ]
     },
     "execution_count": 153,
     "metadata": {},
     "output_type": "execute_result"
    },
    {
     "data": {
      "text/plain": [
       "'success: content added from https://2017-2021.state.gov/the-united-states-imposes-sanctions-and-visa-restrictions-in-response-to-the-ongoing-human-rights-violations-and-abuses-in-xinjiang/'"
      ]
     },
     "execution_count": 153,
     "metadata": {},
     "output_type": "execute_result"
    },
    {
     "data": {
      "text/plain": [
       "'success: content added from https://2017-2021.state.gov/south-sudan-national-day-3/'"
      ]
     },
     "execution_count": 153,
     "metadata": {},
     "output_type": "execute_result"
    },
    {
     "data": {
      "text/plain": [
       "'success: content added from https://2017-2021.state.gov/five-years-of-injustice-following-chinas-709-crackdown/'"
      ]
     },
     "execution_count": 153,
     "metadata": {},
     "output_type": "execute_result"
    },
    {
     "data": {
      "text/plain": [
       "'success: content added from https://2017-2021.state.gov/mongolia-national-day-3/'"
      ]
     },
     "execution_count": 153,
     "metadata": {},
     "output_type": "execute_result"
    },
    {
     "data": {
      "text/plain": [
       "'success: content added from https://2017-2021.state.gov/secretary-michael-r-pompeo-at-a-press-availability-8/'"
      ]
     },
     "execution_count": 153,
     "metadata": {},
     "output_type": "execute_result"
    },
    {
     "data": {
      "text/plain": [
       "'success: content added from https://2017-2021.state.gov/implementing-visa-restrictions-under-the-reciprocal-access-to-tibet-act/'"
      ]
     },
     "execution_count": 153,
     "metadata": {},
     "output_type": "execute_result"
    },
    {
     "data": {
      "text/plain": [
       "'success: content added from https://2017-2021.state.gov/passing-of-lorne-craner-former-assistant-secretary-of-state-for-the-bureau-of-democracy-human-rights-and-labor/'"
      ]
     },
     "execution_count": 153,
     "metadata": {},
     "output_type": "execute_result"
    },
    {
     "data": {
      "text/plain": [
       "'success: content added from https://2017-2021.state.gov/secretary-michael-r-pompeo-with-laura-ingraham-of-fox-news-3/'"
      ]
     },
     "execution_count": 153,
     "metadata": {},
     "output_type": "execute_result"
    },
    {
     "data": {
      "text/plain": [
       "'success: content added from https://2017-2021.state.gov/on-the-ccps-orwellian-censorship-on-hong-kong/'"
      ]
     },
     "execution_count": 153,
     "metadata": {},
     "output_type": "execute_result"
    },
    {
     "data": {
      "text/plain": [
       "'success: content added from https://2017-2021.state.gov/secretary-michael-r-pompeo-with-tony-perkins-of-washington-watch-4/'"
      ]
     },
     "execution_count": 153,
     "metadata": {},
     "output_type": "execute_result"
    },
    {
     "data": {
      "text/plain": [
       "'success: content added from https://2017-2021.state.gov/on-the-united-kingdoms-establishment-of-a-global-human-rights-sanctions-regime/'"
      ]
     },
     "execution_count": 153,
     "metadata": {},
     "output_type": "execute_result"
    },
    {
     "data": {
      "text/plain": [
       "'success: content added from https://2017-2021.state.gov/malawi-national-day-4/'"
      ]
     },
     "execution_count": 153,
     "metadata": {},
     "output_type": "execute_result"
    },
    {
     "data": {
      "text/plain": [
       "'success: content added from https://2017-2021.state.gov/comoros-national-day-4/'"
      ]
     },
     "execution_count": 153,
     "metadata": {},
     "output_type": "execute_result"
    },
    {
     "data": {
      "text/plain": [
       "'success: content added from https://2017-2021.state.gov/algerian-independence-day-2/'"
      ]
     },
     "execution_count": 153,
     "metadata": {},
     "output_type": "execute_result"
    },
    {
     "data": {
      "text/plain": [
       "'success: content added from https://2017-2021.state.gov/cabo-verde-national-day/'"
      ]
     },
     "execution_count": 153,
     "metadata": {},
     "output_type": "execute_result"
    },
    {
     "data": {
      "text/plain": [
       "'success: content added from https://2017-2021.state.gov/solomon-islands-national-day%e2%80%af/'"
      ]
     },
     "execution_count": 153,
     "metadata": {},
     "output_type": "execute_result"
    },
    {
     "data": {
      "text/plain": [
       "'success: content added from https://2017-2021.state.gov/marking-the-birth-of-our-great-nation/'"
      ]
     },
     "execution_count": 153,
     "metadata": {},
     "output_type": "execute_result"
    },
    {
     "data": {
      "text/plain": [
       "'success: content added from https://2017-2021.state.gov/venezuelas-national-day/'"
      ]
     },
     "execution_count": 153,
     "metadata": {},
     "output_type": "execute_result"
    },
    {
     "data": {
      "text/plain": [
       "'success: content added from https://2017-2021.state.gov/belarus-national-day-3/'"
      ]
     },
     "execution_count": 153,
     "metadata": {},
     "output_type": "execute_result"
    },
    {
     "data": {
      "text/plain": [
       "'success: content added from https://2017-2021.state.gov/secretary-of-state-michael-r-pompeo-with-bret-baier-of-fox-news-special-report/'"
      ]
     },
     "execution_count": 153,
     "metadata": {},
     "output_type": "execute_result"
    },
    {
     "data": {
      "text/plain": [
       "'success: content added from https://2017-2021.state.gov/secretary-michael-r-pompeo-at-a-press-availability-7/'"
      ]
     },
     "execution_count": 153,
     "metadata": {},
     "output_type": "execute_result"
    },
    {
     "data": {
      "text/plain": [
       "'success: content added from https://2017-2021.state.gov/entry-into-force-of-the-united-states-mexico-canada-agreement/'"
      ]
     },
     "execution_count": 153,
     "metadata": {},
     "output_type": "execute_result"
    },
    {
     "data": {
      "text/plain": [
       "'success: content added from https://2017-2021.state.gov/the-status-of-the-hagia-sophia/'"
      ]
     },
     "execution_count": 153,
     "metadata": {},
     "output_type": "execute_result"
    },
    {
     "data": {
      "text/plain": [
       "'success: content added from https://2017-2021.state.gov/issuance-of-the-xinjiang-supply-chain-business-advisory/'"
      ]
     },
     "execution_count": 153,
     "metadata": {},
     "output_type": "execute_result"
    },
    {
     "data": {
      "text/plain": [
       "'success: content added from https://2017-2021.state.gov/burundi-independence-day/'"
      ]
     },
     "execution_count": 153,
     "metadata": {},
     "output_type": "execute_result"
    },
    {
     "data": {
      "text/plain": [
       "'success: content added from https://2017-2021.state.gov/somalia-national-day-4/'"
      ]
     },
     "execution_count": 153,
     "metadata": {},
     "output_type": "execute_result"
    },
    {
     "data": {
      "text/plain": [
       "'success: content added from https://2017-2021.state.gov/on-the-occasion-of-the-rwanda-national-day/'"
      ]
     },
     "execution_count": 153,
     "metadata": {},
     "output_type": "execute_result"
    },
    {
     "data": {
      "text/plain": [
       "'success: content added from https://2017-2021.state.gov/on-beijings-imposition-of-national-security-legislation-on-hong-kong/'"
      ]
     },
     "execution_count": 153,
     "metadata": {},
     "output_type": "execute_result"
    },
    {
     "data": {
      "text/plain": [
       "'success: content added from https://2017-2021.state.gov/canada-day-4/'"
      ]
     },
     "execution_count": 153,
     "metadata": {},
     "output_type": "execute_result"
    },
    {
     "data": {
      "text/plain": [
       "'success: content added from https://2017-2021.state.gov/secretary-michael-r-pompeo-at-the-un-security-council-on-the-iran-arms-embargo/'"
      ]
     },
     "execution_count": 153,
     "metadata": {},
     "output_type": "execute_result"
    },
    {
     "data": {
      "text/plain": [
       "'success: content added from https://2017-2021.state.gov/the-united-states-announces-additional-humanitarian-assistance-for-the-syrian-people/'"
      ]
     },
     "execution_count": 153,
     "metadata": {},
     "output_type": "execute_result"
    },
    {
     "data": {
      "text/plain": [
       "'success: content added from https://2017-2021.state.gov/on-the-occasion-of-the-democratic-republic-of-the-congo-national-day/'"
      ]
     },
     "execution_count": 153,
     "metadata": {},
     "output_type": "execute_result"
    },
    {
     "data": {
      "text/plain": [
       "'success: content added from https://2017-2021.state.gov/on-chinas-threats-to-impose-visa-restrictions-on-u-s-officials/'"
      ]
     },
     "execution_count": 153,
     "metadata": {},
     "output_type": "execute_result"
    },
    {
     "data": {
      "text/plain": [
       "'success: content added from https://2017-2021.state.gov/seychelles-national-day-4/'"
      ]
     },
     "execution_count": 153,
     "metadata": {},
     "output_type": "execute_result"
    },
    {
     "data": {
      "text/plain": [
       "'success: content added from https://2017-2021.state.gov/u-s-government-ending-controlled-defense-exports-to-hong-kong/'"
      ]
     },
     "execution_count": 153,
     "metadata": {},
     "output_type": "execute_result"
    },
    {
     "data": {
      "text/plain": [
       "'success: content added from https://2017-2021.state.gov/on-chinas-coercive-family-planning-and-forced-sterilization-program-in-xinjiang/'"
      ]
     },
     "execution_count": 153,
     "metadata": {},
     "output_type": "execute_result"
    },
    {
     "data": {
      "text/plain": [
       "'success: content added from https://2017-2021.state.gov/on-the-occasion-of-the-republic-of-djiboutis-national-day/'"
      ]
     },
     "execution_count": 153,
     "metadata": {},
     "output_type": "execute_result"
    },
    {
     "data": {
      "text/plain": [
       "'success: content added from https://2017-2021.state.gov/u-s-department-of-state-imposes-visa-restrictions-on-chinese-communist-party-officials-for-undermining-hong-kongs-high-degree-of-autonomy-and-restricting-human-rights/'"
      ]
     },
     "execution_count": 153,
     "metadata": {},
     "output_type": "execute_result"
    },
    {
     "data": {
      "text/plain": [
       "'success: content added from https://2017-2021.state.gov/madagascar-national-day-4/'"
      ]
     },
     "execution_count": 153,
     "metadata": {},
     "output_type": "execute_result"
    },
    {
     "data": {
      "text/plain": [
       "'success: content added from https://2017-2021.state.gov/at-the-2020-trafficking-in-persons-report-launch-ceremony/'"
      ]
     },
     "execution_count": 153,
     "metadata": {},
     "output_type": "execute_result"
    },
    {
     "data": {
      "text/plain": [
       "'success: content added from https://2017-2021.state.gov/the-united-states-imposes-sanctions-with-respect-to-irans-metal-industry/'"
      ]
     },
     "execution_count": 153,
     "metadata": {},
     "output_type": "execute_result"
    },
    {
     "data": {
      "text/plain": [
       "'success: content added from https://2017-2021.state.gov/a-new-transatlantic-dialogue/'"
      ]
     },
     "execution_count": 153,
     "metadata": {},
     "output_type": "execute_result"
    },
    {
     "data": {
      "text/plain": [
       "'success: content added from https://2017-2021.state.gov/the-70th-anniversary-of-the-korean-war/'"
      ]
     },
     "execution_count": 153,
     "metadata": {},
     "output_type": "execute_result"
    },
    {
     "data": {
      "text/plain": [
       "'success: content added from https://2017-2021.state.gov/mozambique-national-day-4/'"
      ]
     },
     "execution_count": 153,
     "metadata": {},
     "output_type": "execute_result"
    },
    {
     "data": {
      "text/plain": [
       "'success: content added from https://2017-2021.state.gov/secretary-michael-r-pompeo-at-a-press-availability-on-the-release-of-the-2019-country-reports-on-terrorism/'"
      ]
     },
     "execution_count": 153,
     "metadata": {},
     "output_type": "execute_result"
    },
    {
     "data": {
      "text/plain": [
       "'success: content added from https://2017-2021.state.gov/on-the-occasion-of-slovenias-statehood-day-2/'"
      ]
     },
     "execution_count": 153,
     "metadata": {},
     "output_type": "execute_result"
    },
    {
     "data": {
      "text/plain": [
       "'success: content added from https://2017-2021.state.gov/empty-promises-from-the-peoples-republic-china-in-africa/'"
      ]
     },
     "execution_count": 153,
     "metadata": {},
     "output_type": "execute_result"
    },
    {
     "data": {
      "text/plain": [
       "'success: content added from https://2017-2021.state.gov/the-tide-is-turning-toward-trusted-5g-vendors/'"
      ]
     },
     "execution_count": 153,
     "metadata": {},
     "output_type": "execute_result"
    },
    {
     "data": {
      "text/plain": [
       "'success: content added from https://2017-2021.state.gov/sanctions-on-iranian-tanker-captains-for-assistance-to-maduros-illegitimate-regime/'"
      ]
     },
     "execution_count": 153,
     "metadata": {},
     "output_type": "execute_result"
    },
    {
     "data": {
      "text/plain": [
       "'success: content added from https://2017-2021.state.gov/united-states-provides-additional-u-s-foreign-assistance-for-el-salvador-guatemala-and-honduras/'"
      ]
     },
     "execution_count": 153,
     "metadata": {},
     "output_type": "execute_result"
    },
    {
     "data": {
      "text/plain": [
       "'success: content added from https://2017-2021.state.gov/secretary-michael-r-pompeo-with-hugh-hewitt-of-the-hugh-hewitt-show-4/'"
      ]
     },
     "execution_count": 153,
     "metadata": {},
     "output_type": "execute_result"
    },
    {
     "data": {
      "text/plain": [
       "'success: content added from https://2017-2021.state.gov/luxembourg-national-day-3/'"
      ]
     },
     "execution_count": 153,
     "metadata": {},
     "output_type": "execute_result"
    },
    {
     "data": {
      "text/plain": [
       "'success: content added from https://2017-2021.state.gov/secretary-michael-r-pompeo-with-sean-hannity-of-the-sean-hannity-show-5/'"
      ]
     },
     "execution_count": 153,
     "metadata": {},
     "output_type": "execute_result"
    },
    {
     "data": {
      "text/plain": [
       "'success: content added from https://2017-2021.state.gov/united-states-stands-with-canada-against-chinas-arbitrary-detention-of-canadian-citizens/'"
      ]
     },
     "execution_count": 153,
     "metadata": {},
     "output_type": "execute_result"
    },
    {
     "data": {
      "text/plain": [
       "'success: content added from https://2017-2021.state.gov/on-the-occasion-of-world-refugee-day-2/'"
      ]
     },
     "execution_count": 153,
     "metadata": {},
     "output_type": "execute_result"
    },
    {
     "data": {
      "text/plain": [
       "'success: content added from https://2017-2021.state.gov/on-the-hypocrisy-of-un-human-rights-council/'"
      ]
     },
     "execution_count": 153,
     "metadata": {},
     "output_type": "execute_result"
    },
    {
     "data": {
      "text/plain": [
       "'success: content added from https://2017-2021.state.gov/europe-and-the-china-challenge/'"
      ]
     },
     "execution_count": 153,
     "metadata": {},
     "output_type": "execute_result"
    },
    {
     "data": {
      "text/plain": [
       "'success: content added from https://2017-2021.state.gov/iaea-board-of-governors-adopts-resolution-calls-on-iran-to-cooperate-without-further-delay/'"
      ]
     },
     "execution_count": 153,
     "metadata": {},
     "output_type": "execute_result"
    },
    {
     "data": {
      "text/plain": [
       "'success: content added from https://2017-2021.state.gov/sustaining-u-s-humanitarian-assistance-leadership-in-response-to-covid-19/'"
      ]
     },
     "execution_count": 153,
     "metadata": {},
     "output_type": "execute_result"
    },
    {
     "data": {
      "text/plain": [
       "'success: content added from https://2017-2021.state.gov/secretary-michael-r-pompeo-with-alec-lace-of-the-first-class-fatherhood-podcast/'"
      ]
     },
     "execution_count": 153,
     "metadata": {},
     "output_type": "execute_result"
    },
    {
     "data": {
      "text/plain": [
       "'success: content added from https://2017-2021.state.gov/i-was-in-the-room-too/'"
      ]
     },
     "execution_count": 153,
     "metadata": {},
     "output_type": "execute_result"
    },
    {
     "data": {
      "text/plain": [
       "'success: content added from https://2017-2021.state.gov/the-united-states-targets-network-supporting-corrupt-venezuelan-actors-attempting-to-evade-sanctions/'"
      ]
     },
     "execution_count": 153,
     "metadata": {},
     "output_type": "execute_result"
    },
    {
     "data": {
      "text/plain": [
       "'success: content added from https://2017-2021.state.gov/department-of-state-offers-rewards-for-information-to-bring-colombian-drug-traffickers-to-justice/'"
      ]
     },
     "execution_count": 153,
     "metadata": {},
     "output_type": "execute_result"
    },
    {
     "data": {
      "text/plain": [
       "'success: content added from https://2017-2021.state.gov/syria-caesar-act-designations/'"
      ]
     },
     "execution_count": 153,
     "metadata": {},
     "output_type": "execute_result"
    },
    {
     "data": {
      "text/plain": [
       "'success: content added from https://2017-2021.state.gov/icelands-national-day/'"
      ]
     },
     "execution_count": 153,
     "metadata": {},
     "output_type": "execute_result"
    },
    {
     "data": {
      "text/plain": [
       "'success: content added from https://2017-2021.state.gov/the-united-states-condemns-the-brazen-killings-of-civilians-in-nigeria/'"
      ]
     },
     "execution_count": 153,
     "metadata": {},
     "output_type": "execute_result"
    },
    {
     "data": {
      "text/plain": [
       "'success: content added from https://2017-2021.state.gov/u-s-sanctions-nigerian-cyber-actors-for-targeting-u-s-businesses-and-individuals/'"
      ]
     },
     "execution_count": 153,
     "metadata": {},
     "output_type": "execute_result"
    },
    {
     "data": {
      "text/plain": [
       "'success: content added from https://2017-2021.state.gov/the-united-states-condemns-maduros-latest-step-to-rig-the-next-venezuelan-election/'"
      ]
     },
     "execution_count": 153,
     "metadata": {},
     "output_type": "execute_result"
    },
    {
     "data": {
      "text/plain": [
       "'success: content added from https://2017-2021.state.gov/the-conviction-of-u-s-citizen-paul-whelan-in-russia/'"
      ]
     },
     "execution_count": 153,
     "metadata": {},
     "output_type": "execute_result"
    },
    {
     "data": {
      "text/plain": [
       "'success: content added from https://2017-2021.state.gov/on-the-occasion-of-the-official-birthday-of-her-majesty-queen-elizabeth-ii-2/'"
      ]
     },
     "execution_count": 153,
     "metadata": {},
     "output_type": "execute_result"
    },
    {
     "data": {
      "text/plain": [
       "'success: content added from https://2017-2021.state.gov/jose-daniel-ferrer-receives-the-truman-reagan-medal-of-freedom-award/'"
      ]
     },
     "execution_count": 153,
     "metadata": {},
     "output_type": "execute_result"
    },
    {
     "data": {
      "text/plain": [
       "'success: content added from https://2017-2021.state.gov/on-the-occasion-of-russia-day-in-the-russian-federation-3/'"
      ]
     },
     "execution_count": 153,
     "metadata": {},
     "output_type": "execute_result"
    },
    {
     "data": {
      "text/plain": [
       "'success: content added from https://2017-2021.state.gov/secretary-michael-r-pompeo-with-dr-james-dobson-of-family-talk-with-james-dobson/'"
      ]
     },
     "execution_count": 153,
     "metadata": {},
     "output_type": "execute_result"
    },
    {
     "data": {
      "text/plain": [
       "'success: content added from https://2017-2021.state.gov/the-conviction-of-u-s-consulate-general-istanbul-employee-metin-topuz/'"
      ]
     },
     "execution_count": 153,
     "metadata": {},
     "output_type": "execute_result"
    },
    {
     "data": {
      "text/plain": [
       "'success: content added from https://2017-2021.state.gov/state-department-releases-women-peace-and-security-implementation-plan/'"
      ]
     },
     "execution_count": 153,
     "metadata": {},
     "output_type": "execute_result"
    },
    {
     "data": {
      "text/plain": [
       "'success: content added from https://2017-2021.state.gov/secretary-michael-r-pompeo-at-a-press-availability-with-secretary-of-defense-mark-esper-attorney-general-william-barr-and-national-security-advisor-robert-obrien/'"
      ]
     },
     "execution_count": 153,
     "metadata": {},
     "output_type": "execute_result"
    },
    {
     "data": {
      "text/plain": [
       "'success: content added from https://2017-2021.state.gov/philippines-independence-day/'"
      ]
     },
     "execution_count": 153,
     "metadata": {},
     "output_type": "execute_result"
    },
    {
     "data": {
      "text/plain": [
       "'success: content added from https://2017-2021.state.gov/on-the-passing-of-ambassador-simon-henshaw/'"
      ]
     },
     "execution_count": 153,
     "metadata": {},
     "output_type": "execute_result"
    },
    {
     "data": {
      "text/plain": [
       "'success: content added from https://2017-2021.state.gov/secretary-michael-r-pompeo-at-a-press-availability-on-the-release-of-the-2019-international-religious-freedom-report/'"
      ]
     },
     "execution_count": 153,
     "metadata": {},
     "output_type": "execute_result"
    },
    {
     "data": {
      "text/plain": [
       "'success: content added from https://2017-2021.state.gov/statement-by-secretary-pompeo-on-the-opening-of-u-s-consulate-nuuk/'"
      ]
     },
     "execution_count": 153,
     "metadata": {},
     "output_type": "execute_result"
    },
    {
     "data": {
      "text/plain": [
       "'success: content added from https://2017-2021.state.gov/message-on-the-occasion-of-portugals-national-day/'"
      ]
     },
     "execution_count": 153,
     "metadata": {},
     "output_type": "execute_result"
    },
    {
     "data": {
      "text/plain": [
       "'success: content added from https://2017-2021.state.gov/on-chinas-attempted-coercion-of-the-united-kingdom/'"
      ]
     },
     "execution_count": 153,
     "metadata": {},
     "output_type": "execute_result"
    },
    {
     "data": {
      "text/plain": [
       "'success: content added from https://2017-2021.state.gov/united-states-designates-key-iranian-shipping-entities-under-proliferation-authority-as-tehran-continues-to-expand-proliferation-sensitive-activities/'"
      ]
     },
     "execution_count": 153,
     "metadata": {},
     "output_type": "execute_result"
    },
    {
     "data": {
      "text/plain": [
       "'success: content added from https://2017-2021.state.gov/public-designation-of-gustavo-adolfo-alejos-cambara-of-guatemala-due-to-involvement-in-significant-corruption/'"
      ]
     },
     "execution_count": 153,
     "metadata": {},
     "output_type": "execute_result"
    },
    {
     "data": {
      "text/plain": [
       "'success: content added from https://2017-2021.state.gov/on-the-chinese-communist-partys-obscene-propaganda/'"
      ]
     },
     "execution_count": 153,
     "metadata": {},
     "output_type": "execute_result"
    },
    {
     "data": {
      "text/plain": [
       "'success: content added from https://2017-2021.state.gov/swedens-national-day/'"
      ]
     },
     "execution_count": 153,
     "metadata": {},
     "output_type": "execute_result"
    },
    {
     "data": {
      "text/plain": [
       "'success: content added from https://2017-2021.state.gov/denmarks-constitution-day/'"
      ]
     },
     "execution_count": 153,
     "metadata": {},
     "output_type": "execute_result"
    },
    {
     "data": {
      "text/plain": [
       "'success: content added from https://2017-2021.state.gov/secretary-michael-r-pompeo-with-samantha-renck-of-the-daily-caller/'"
      ]
     },
     "execution_count": 153,
     "metadata": {},
     "output_type": "execute_result"
    },
    {
     "data": {
      "text/plain": [
       "'success: content added from https://2017-2021.state.gov/fulfilling-the-presidents-generous-commitment-to-provide-critical-medical-supplies-across-the-globe/'"
      ]
     },
     "execution_count": 153,
     "metadata": {},
     "output_type": "execute_result"
    },
    {
     "data": {
      "text/plain": [
       "'success: content added from https://2017-2021.state.gov/new-nasdaq-restrictions-affecting-listing-of-chinese-companies/'"
      ]
     },
     "execution_count": 153,
     "metadata": {},
     "output_type": "execute_result"
    },
    {
     "data": {
      "text/plain": [
       "'success: content added from https://2017-2021.state.gov/release-of-michael-white/'"
      ]
     },
     "execution_count": 153,
     "metadata": {},
     "output_type": "execute_result"
    },
    {
     "data": {
      "text/plain": [
       "'success: content added from https://2017-2021.state.gov/secretary-michael-r-pompeo-at-the-ministerial-meeting-of-the-global-coalition-to-defeat-isis/'"
      ]
     },
     "execution_count": 153,
     "metadata": {},
     "output_type": "execute_result"
    },
    {
     "data": {
      "text/plain": [
       "'success: content added from https://2017-2021.state.gov/additions-to-the-cuba-restricted-list/'"
      ]
     },
     "execution_count": 153,
     "metadata": {},
     "output_type": "execute_result"
    },
    {
     "data": {
      "text/plain": [
       "'success: content added from https://2017-2021.state.gov/the-united-states-targets-maritime-entities-for-supporting-illegitimate-maduro-regime-in-the-venezuela-oil-trade/'"
      ]
     },
     "execution_count": 153,
     "metadata": {},
     "output_type": "execute_result"
    },
    {
     "data": {
      "text/plain": [
       "'success: content added from https://2017-2021.state.gov/italian-republic-day/'"
      ]
     },
     "execution_count": 153,
     "metadata": {},
     "output_type": "execute_result"
    },
    {
     "data": {
      "text/plain": [
       "'success: content added from https://2017-2021.state.gov/transnational-organized-crime-rewards-program-offer-for-information-to-bring-venezuelan-national-to-justice/'"
      ]
     },
     "execution_count": 153,
     "metadata": {},
     "output_type": "execute_result"
    },
    {
     "data": {
      "text/plain": [
       "'success: content added from https://2017-2021.state.gov/u-s-limits-the-peoples-liberation-armys-ability-to-use-nonimmigrant-visa-programs-to-illicitly-acquire-u-s-technologies-and-intellectual-property/'"
      ]
     },
     "execution_count": 153,
     "metadata": {},
     "output_type": "execute_result"
    },
    {
     "data": {
      "text/plain": [
       "'success: content added from https://2017-2021.state.gov/secretary-michael-r-pompeo-with-maria-bartiromo-of-fox-news-sunday-morning-futures/'"
      ]
     },
     "execution_count": 153,
     "metadata": {},
     "output_type": "execute_result"
    },
    {
     "data": {
      "text/plain": [
       "'success: content added from https://2017-2021.state.gov/croatia-statehood-day/'"
      ]
     },
     "execution_count": 153,
     "metadata": {},
     "output_type": "execute_result"
    },
    {
     "data": {
      "text/plain": [
       "'success: content added from https://2017-2021.state.gov/secretary-michael-r-pompeo-with-marc-thiessen-and-danielle-pletka-of-aeis-what-the-hell-is-going-on-podcast/'"
      ]
     },
     "execution_count": 153,
     "metadata": {},
     "output_type": "execute_result"
    },
    {
     "data": {
      "text/plain": [
       "'success: content added from https://2017-2021.state.gov/in-defense-of-democracy-in-venezuela/'"
      ]
     },
     "execution_count": 153,
     "metadata": {},
     "output_type": "execute_result"
    },
    {
     "data": {
      "text/plain": [
       "'success: content added from https://2017-2021.state.gov/secretary-michael-r-pompeo-with-laura-ingraham-of-fox-news-2/'"
      ]
     },
     "execution_count": 153,
     "metadata": {},
     "output_type": "execute_result"
    },
    {
     "data": {
      "text/plain": [
       "'success: content added from https://2017-2021.state.gov/samoa-independence-day/'"
      ]
     },
     "execution_count": 153,
     "metadata": {},
     "output_type": "execute_result"
    },
    {
     "data": {
      "text/plain": [
       "'success: content added from https://2017-2021.state.gov/public-designation-of-former-representative-amir-zukic-of-bosnia-and-herzegovina-due-to-involvement-in-significant-corruption/'"
      ]
     },
     "execution_count": 153,
     "metadata": {},
     "output_type": "execute_result"
    },
    {
     "data": {
      "text/plain": [
       "'success: content added from https://2017-2021.state.gov/azerbaijan-republic-day-2/'"
      ]
     },
     "execution_count": 153,
     "metadata": {},
     "output_type": "execute_result"
    },
    {
     "data": {
      "text/plain": [
       "'success: content added from https://2017-2021.state.gov/keeping-the-world-safe-from-irans-nuclear-program/'"
      ]
     },
     "execution_count": 153,
     "metadata": {},
     "output_type": "execute_result"
    },
    {
     "data": {
      "text/plain": [
       "'success: content added from https://2017-2021.state.gov/prc-national-peoples-congress-proposal-on-hong-kong-national-security-legislation/'"
      ]
     },
     "execution_count": 153,
     "metadata": {},
     "output_type": "execute_result"
    },
    {
     "data": {
      "text/plain": [
       "'success: content added from https://2017-2021.state.gov/guyana-independence-day-2/'"
      ]
     },
     "execution_count": 153,
     "metadata": {},
     "output_type": "execute_result"
    },
    {
     "data": {
      "text/plain": [
       "'success: content added from https://2017-2021.state.gov/georgia-national-day-2/'"
      ]
     },
     "execution_count": 153,
     "metadata": {},
     "output_type": "execute_result"
    },
    {
     "data": {
      "text/plain": [
       "'success: content added from https://2017-2021.state.gov/jordan-national-day/'"
      ]
     },
     "execution_count": 153,
     "metadata": {},
     "output_type": "execute_result"
    },
    {
     "data": {
      "text/plain": [
       "'success: content added from https://2017-2021.state.gov/statement-by-secretary-pompeo-welcoming-eid-ceasefire-announcement/'"
      ]
     },
     "execution_count": 153,
     "metadata": {},
     "output_type": "execute_result"
    },
    {
     "data": {
      "text/plain": [
       "'success: content added from https://2017-2021.state.gov/on-the-occasion-of-the-state-of-eritreas-national-day-3/'"
      ]
     },
     "execution_count": 153,
     "metadata": {},
     "output_type": "execute_result"
    },
    {
     "data": {
      "text/plain": [
       "'success: content added from https://2017-2021.state.gov/on-the-occasion-of-eid-al-fitr-5/'"
      ]
     },
     "execution_count": 153,
     "metadata": {},
     "output_type": "execute_result"
    },
    {
     "data": {
      "text/plain": [
       "'success: content added from https://2017-2021.state.gov/on-the-passing-of-former-lao-prime-minister-keobounphanh/'"
      ]
     },
     "execution_count": 153,
     "metadata": {},
     "output_type": "execute_result"
    },
    {
     "data": {
      "text/plain": [
       "'success: content added from https://2017-2021.state.gov/the-united-states-sanctions-nicaraguan-army-general-aviles-and-finance-minister-acosta-/'"
      ]
     },
     "execution_count": 153,
     "metadata": {},
     "output_type": "execute_result"
    },
    {
     "data": {
      "text/plain": [
       "'success: content added from https://2017-2021.state.gov/prc-proposal-to-impose-national-security-legislation-on-hong-kong/'"
      ]
     },
     "execution_count": 153,
     "metadata": {},
     "output_type": "execute_result"
    },
    {
     "data": {
      "text/plain": [
       "'success: content added from https://2017-2021.state.gov/secretary-michael-r-pompeo-with-rowan-dean-of-sky-news-australia/'"
      ]
     },
     "execution_count": 153,
     "metadata": {},
     "output_type": "execute_result"
    },
    {
     "data": {
      "text/plain": [
       "'success: content added from https://2017-2021.state.gov/on-the-treaty-on-open-skies/'"
      ]
     },
     "execution_count": 153,
     "metadata": {},
     "output_type": "execute_result"
    },
    {
     "data": {
      "text/plain": [
       "'success: content added from https://2017-2021.state.gov/passing-of-ambassador-matthew-j-matthews/'"
      ]
     },
     "execution_count": 153,
     "metadata": {},
     "output_type": "execute_result"
    },
    {
     "data": {
      "text/plain": [
       "'success: content added from https://2017-2021.state.gov/united-states-provides-additional-assistance-for-the-crisis-in-venezuela-and-the-region/'"
      ]
     },
     "execution_count": 153,
     "metadata": {},
     "output_type": "execute_result"
    },
    {
     "data": {
      "text/plain": [
       "'success: content added from https://2017-2021.state.gov/secretary-michael-r-pompeo-at-a-press-availability-6/'"
      ]
     },
     "execution_count": 153,
     "metadata": {},
     "output_type": "execute_result"
    },
    {
     "data": {
      "text/plain": [
       "'success: content added from https://2017-2021.state.gov/standing-with-the-iranian-people/'"
      ]
     },
     "execution_count": 153,
     "metadata": {},
     "output_type": "execute_result"
    },
    {
     "data": {
      "text/plain": [
       "'success: content added from https://2017-2021.state.gov/delivering-on-american-commitments-in-the-covid-19-response-with-additional-foreign-assistance/'"
      ]
     },
     "execution_count": 153,
     "metadata": {},
     "output_type": "execute_result"
    },
    {
     "data": {
      "text/plain": [
       "'success: content added from https://2017-2021.state.gov/cuban-independence-day/'"
      ]
     },
     "execution_count": 153,
     "metadata": {},
     "output_type": "execute_result"
    },
    {
     "data": {
      "text/plain": [
       "'success: content added from https://2017-2021.state.gov/the-republic-of-cameroon-national-day/'"
      ]
     },
     "execution_count": 153,
     "metadata": {},
     "output_type": "execute_result"
    },
    {
     "data": {
      "text/plain": [
       "'success: content added from https://2017-2021.state.gov/the-united-states-designates-company-providing-services-for-iranian-airline-mahan-airs-operations-in-china/'"
      ]
     },
     "execution_count": 153,
     "metadata": {},
     "output_type": "execute_result"
    },
    {
     "data": {
      "text/plain": [
       "'success: content added from https://2017-2021.state.gov/taiwans-inauguration-of-president-tsai-ing-wen/'"
      ]
     },
     "execution_count": 153,
     "metadata": {},
     "output_type": "execute_result"
    },
    {
     "data": {
      "text/plain": [
       "'success: content added from https://2017-2021.state.gov/timor-lestes-national-day/'"
      ]
     },
     "execution_count": 153,
     "metadata": {},
     "output_type": "execute_result"
    },
    {
     "data": {
      "text/plain": [
       "'success: content added from https://2017-2021.state.gov/25th-anniversary-of-the-panchen-lamas-disappearance/'"
      ]
     },
     "execution_count": 153,
     "metadata": {},
     "output_type": "execute_result"
    },
    {
     "data": {
      "text/plain": [
       "'success: content added from https://2017-2021.state.gov/taiwans-exclusion-from-the-world-health-assembly/'"
      ]
     },
     "execution_count": 153,
     "metadata": {},
     "output_type": "execute_result"
    },
    {
     "data": {
      "text/plain": [
       "'success: content added from https://2017-2021.state.gov/american-journalists-based-in-hong-kong/'"
      ]
     },
     "execution_count": 153,
     "metadata": {},
     "output_type": "execute_result"
    },
    {
     "data": {
      "text/plain": [
       "'success: content added from https://2017-2021.state.gov/norways-constitution-day/'"
      ]
     },
     "execution_count": 153,
     "metadata": {},
     "output_type": "execute_result"
    },
    {
     "data": {
      "text/plain": [
       "'success: content added from https://2017-2021.state.gov/the-international-criminal-courts-illegitimate-prosecutions/'"
      ]
     },
     "execution_count": 153,
     "metadata": {},
     "output_type": "execute_result"
    },
    {
     "data": {
      "text/plain": [
       "'success: content added from https://2017-2021.state.gov/the-united-states-protects-national-security-and-the-integrity-of-5g-networks/'"
      ]
     },
     "execution_count": 153,
     "metadata": {},
     "output_type": "execute_result"
    },
    {
     "data": {
      "text/plain": [
       "'success: content added from https://2017-2021.state.gov/first-shipment-of-u-s-oil-to-belarus/'"
      ]
     },
     "execution_count": 153,
     "metadata": {},
     "output_type": "execute_result"
    },
    {
     "data": {
      "text/plain": [
       "'success: content added from https://2017-2021.state.gov/secretary-michael-r-pompeo-with-matthew-boyle-of-breitbart-news-network-and-siriusxm-patriot/'"
      ]
     },
     "execution_count": 153,
     "metadata": {},
     "output_type": "execute_result"
    },
    {
     "data": {
      "text/plain": [
       "'success: content added from https://2017-2021.state.gov/the-united-states-welcomes-taiwan-semiconductor-manufacturing-corporations-intent-to-invest-12-billion-to-bolster-u-s-national-security-and-economic-prosperity/'"
      ]
     },
     "execution_count": 153,
     "metadata": {},
     "output_type": "execute_result"
    },
    {
     "data": {
      "text/plain": [
       "'success: content added from https://2017-2021.state.gov/the-united-states-condemns-attempts-by-prc-affiliated-actors-to-steal-american-covid-19-research/'"
      ]
     },
     "execution_count": 153,
     "metadata": {},
     "output_type": "execute_result"
    },
    {
     "data": {
      "text/plain": [
       "'success: content added from https://2017-2021.state.gov/paraguay-independence-day-2/'"
      ]
     },
     "execution_count": 153,
     "metadata": {},
     "output_type": "execute_result"
    },
    {
     "data": {
      "text/plain": [
       "'success: content added from https://2017-2021.state.gov/secretary-michael-r-pompeo-with-gili-cohen-of-kan-11/'"
      ]
     },
     "execution_count": 153,
     "metadata": {},
     "output_type": "execute_result"
    },
    {
     "data": {
      "text/plain": [
       "'success: content added from https://2017-2021.state.gov/secretary-michael-r-pompeo-and-israeli-prime-minister-benjamin-netanyahu-before-their-meeting-2/'"
      ]
     },
     "execution_count": 153,
     "metadata": {},
     "output_type": "execute_result"
    },
    {
     "data": {
      "text/plain": [
       "'success: content added from https://2017-2021.state.gov/condemning-heinous-terrorist-attacks-in-afghanistan-today/'"
      ]
     },
     "execution_count": 153,
     "metadata": {},
     "output_type": "execute_result"
    },
    {
     "data": {
      "text/plain": [
       "'success: content added from https://2017-2021.state.gov/secretary-michael-r-pompeo-with-jim-daly-of-focus-on-the-family/'"
      ]
     },
     "execution_count": 153,
     "metadata": {},
     "output_type": "execute_result"
    },
    {
     "data": {
      "text/plain": [
       "'success: content added from https://2017-2021.state.gov/leading-the-world-against-irans-threats/'"
      ]
     },
     "execution_count": 153,
     "metadata": {},
     "output_type": "execute_result"
    },
    {
     "data": {
      "text/plain": [
       "'success: content added from https://2017-2021.state.gov/europe-day/'"
      ]
     },
     "execution_count": 153,
     "metadata": {},
     "output_type": "execute_result"
    },
    {
     "data": {
      "text/plain": [
       "'success: content added from https://2017-2021.state.gov/secretary-michael-r-pompeo-with-ben-shapiro-of-the-ben-shapiro-show-4/'"
      ]
     },
     "execution_count": 153,
     "metadata": {},
     "output_type": "execute_result"
    },
    {
     "data": {
      "text/plain": [
       "'success: content added from https://2017-2021.state.gov/message-on-the-75th-anniversary-of-victory-in-europe-ve-day/'"
      ]
     },
     "execution_count": 153,
     "metadata": {},
     "output_type": "execute_result"
    },
    {
     "data": {
      "text/plain": [
       "'success: content added from https://2017-2021.state.gov/secretary-michael-r-pompeo-with-chris-stigall-of-the-chris-stigall-show/'"
      ]
     },
     "execution_count": 153,
     "metadata": {},
     "output_type": "execute_result"
    },
    {
     "data": {
      "text/plain": [
       "'success: content added from https://2017-2021.state.gov/secretary-michael-r-pompeo-with-jack-heath-of-the-jack-heath-radio-show/'"
      ]
     },
     "execution_count": 153,
     "metadata": {},
     "output_type": "execute_result"
    },
    {
     "data": {
      "text/plain": [
       "'success: content added from https://2017-2021.state.gov/secretary-michael-r-pompeo-with-steve-gruber-of-the-steve-gruber-show/'"
      ]
     },
     "execution_count": 153,
     "metadata": {},
     "output_type": "execute_result"
    },
    {
     "data": {
      "text/plain": [
       "'success: content added from https://2017-2021.state.gov/secretary-michael-r-pompeo-with-joe-kernen-andrew-sorkin-and-rebecca-quick-of-cnbcs-squawk-box/'"
      ]
     },
     "execution_count": 153,
     "metadata": {},
     "output_type": "execute_result"
    },
    {
     "data": {
      "text/plain": [
       "'success: content added from https://2017-2021.state.gov/on-the-occasion-of-vesak-day/'"
      ]
     },
     "execution_count": 153,
     "metadata": {},
     "output_type": "execute_result"
    },
    {
     "data": {
      "text/plain": [
       "'success: content added from https://2017-2021.state.gov/secretary-michael-r-pompeo-with-lou-dobbs-of-lou-dobbs-tonight-2/'"
      ]
     },
     "execution_count": 153,
     "metadata": {},
     "output_type": "execute_result"
    },
    {
     "data": {
      "text/plain": [
       "'success: content added from https://2017-2021.state.gov/secretary-michael-r-pompeo-at-a-press-availability-5/'"
      ]
     },
     "execution_count": 153,
     "metadata": {},
     "output_type": "execute_result"
    },
    {
     "data": {
      "text/plain": [
       "'success: content added from https://2017-2021.state.gov/additional-u-s-foreign-assistance-builds-upon-u-s-leadership-in-the-global-covid-19-response/'"
      ]
     },
     "execution_count": 153,
     "metadata": {},
     "output_type": "execute_result"
    },
    {
     "data": {
      "text/plain": [
       "'success: content added from https://2017-2021.state.gov/designation-of-ambassador-ronald-j-gidwitz-as-acting-representative-of-the-united-states-to-the-european-union/'"
      ]
     },
     "execution_count": 153,
     "metadata": {},
     "output_type": "execute_result"
    },
    {
     "data": {
      "text/plain": [
       "'success: content added from https://2017-2021.state.gov/secretary-michael-r-pompeo-with-martha-raddatz-of-abcs-this-week-with-george-stephanopoulos/'"
      ]
     },
     "execution_count": 153,
     "metadata": {},
     "output_type": "execute_result"
    },
    {
     "data": {
      "text/plain": [
       "'success: content added from https://2017-2021.state.gov/world-press-freedom-day-4/'"
      ]
     },
     "execution_count": 153,
     "metadata": {},
     "output_type": "execute_result"
    },
    {
     "data": {
      "text/plain": [
       "'success: content added from https://2017-2021.state.gov/poland-constitution-day/'"
      ]
     },
     "execution_count": 153,
     "metadata": {},
     "output_type": "execute_result"
    },
    {
     "data": {
      "text/plain": [
       "'success: content added from https://2017-2021.state.gov/secretary-michael-r-pompeo-with-buck-sexton-of-the-buck-sexton-show/'"
      ]
     },
     "execution_count": 153,
     "metadata": {},
     "output_type": "execute_result"
    },
    {
     "data": {
      "text/plain": [
       "'success: content added from https://2017-2021.state.gov/republic-of-the-marshall-islands-national-day%e2%80%af/'"
      ]
     },
     "execution_count": 153,
     "metadata": {},
     "output_type": "execute_result"
    },
    {
     "data": {
      "text/plain": [
       "'success: content added from https://2017-2021.state.gov/secretary-michael-r-pompeo-with-simon-conway-of-newsradio-1040/'"
      ]
     },
     "execution_count": 153,
     "metadata": {},
     "output_type": "execute_result"
    },
    {
     "data": {
      "text/plain": [
       "'success: content added from https://2017-2021.state.gov/secretary-michael-r-pompeo-with-dan-ox-ochsner-of-ox-in-the-afternoons/'"
      ]
     },
     "execution_count": 153,
     "metadata": {},
     "output_type": "execute_result"
    },
    {
     "data": {
      "text/plain": [
       "'success: content added from https://2017-2021.state.gov/secretary-michael-r-pompeo-with-scott-sands-of-the-scott-sands-show/'"
      ]
     },
     "execution_count": 153,
     "metadata": {},
     "output_type": "execute_result"
    },
    {
     "data": {
      "text/plain": [
       "'success: content added from https://2017-2021.state.gov/secretary-michael-r-pompeo-with-lars-larson-of-the-lars-larson-show/'"
      ]
     },
     "execution_count": 153,
     "metadata": {},
     "output_type": "execute_result"
    },
    {
     "data": {
      "text/plain": [
       "'success: content added from https://2017-2021.state.gov/united-states-commends-germany-for-banning-hizballah/'"
      ]
     },
     "execution_count": 153,
     "metadata": {},
     "output_type": "execute_result"
    },
    {
     "data": {
      "text/plain": [
       "'success: content added from https://2017-2021.state.gov/secretary-michael-r-pompeo-with-shannon-bream-of-fox-news/'"
      ]
     },
     "execution_count": 153,
     "metadata": {},
     "output_type": "execute_result"
    },
    {
     "data": {
      "text/plain": [
       "'success: content added from https://2017-2021.state.gov/secretary-michael-r-pompeo-at-a-press-availability-4/'"
      ]
     },
     "execution_count": 153,
     "metadata": {},
     "output_type": "execute_result"
    },
    {
     "data": {
      "text/plain": [
       "'success: content added from https://2017-2021.state.gov/secretary-michael-r-pompeo-with-steve-doocy-ainsley-earhardt-and-brian-kilmeade-of-fox-and-friends-2/'"
      ]
     },
     "execution_count": 153,
     "metadata": {},
     "output_type": "execute_result"
    },
    {
     "data": {
      "text/plain": [
       "'success: content added from https://2017-2021.state.gov/the-united-states-concern-with-the-southern-transitional-councils-announcement-of-self-rule-in-southern-yemen/'"
      ]
     },
     "execution_count": 153,
     "metadata": {},
     "output_type": "execute_result"
    },
    {
     "data": {
      "text/plain": [
       "'success: content added from https://2017-2021.state.gov/on-the-occasion-of-koningsdag-in-the-kingdom-of-the-netherlands-3/'"
      ]
     },
     "execution_count": 153,
     "metadata": {},
     "output_type": "execute_result"
    },
    {
     "data": {
      "text/plain": [
       "'success: content added from https://2017-2021.state.gov/togos-national-day-2/'"
      ]
     },
     "execution_count": 153,
     "metadata": {},
     "output_type": "execute_result"
    },
    {
     "data": {
      "text/plain": [
       "'success: content added from https://2017-2021.state.gov/sierra-leones-national-day/'"
      ]
     },
     "execution_count": 153,
     "metadata": {},
     "output_type": "execute_result"
    },
    {
     "data": {
      "text/plain": [
       "'success: content added from https://2017-2021.state.gov/south-africas-national-day/'"
      ]
     },
     "execution_count": 153,
     "metadata": {},
     "output_type": "execute_result"
    },
    {
     "data": {
      "text/plain": [
       "'success: content added from https://2017-2021.state.gov/the-united-republic-of-tanzanias-union-day/'"
      ]
     },
     "execution_count": 153,
     "metadata": {},
     "output_type": "execute_result"
    },
    {
     "data": {
      "text/plain": [
       "'success: content added from https://2017-2021.state.gov/irans-space-program-is-dangerous-not-peaceful/'"
      ]
     },
     "execution_count": 153,
     "metadata": {},
     "output_type": "execute_result"
    },
    {
     "data": {
      "text/plain": [
       "'success: content added from https://2017-2021.state.gov/secretary-michael-r-pompeo-with-ben-shapiro-of-the-ben-shapiro-show-3/'"
      ]
     },
     "execution_count": 153,
     "metadata": {},
     "output_type": "execute_result"
    },
    {
     "data": {
      "text/plain": [
       "'success: content added from https://2017-2021.state.gov/secretary-michael-r-pompeo-with-tony-perkins-of-washington-watch-3/'"
      ]
     },
     "execution_count": 153,
     "metadata": {},
     "output_type": "execute_result"
    },
    {
     "data": {
      "text/plain": [
       "'success: content added from https://2017-2021.state.gov/secretary-michael-r-pompeo-with-david-brody-of-faith-nation-with-david-brody-cbn/'"
      ]
     },
     "execution_count": 153,
     "metadata": {},
     "output_type": "execute_result"
    },
    {
     "data": {
      "text/plain": [
       "'success: content added from https://2017-2021.state.gov/secretary-michael-r-pompeo-with-sean-hannity-of-fox-news/'"
      ]
     },
     "execution_count": 153,
     "metadata": {},
     "output_type": "execute_result"
    },
    {
     "data": {
      "text/plain": [
       "'success: content added from https://2017-2021.state.gov/secretary-michael-r-pompeo-with-larry-oconnor-of-the-larry-oconnor-show/'"
      ]
     },
     "execution_count": 153,
     "metadata": {},
     "output_type": "execute_result"
    },
    {
     "data": {
      "text/plain": [
       "'success: content added from https://2017-2021.state.gov/anzac-day-3/'"
      ]
     },
     "execution_count": 153,
     "metadata": {},
     "output_type": "execute_result"
    },
    {
     "data": {
      "text/plain": [
       "'success: content added from https://2017-2021.state.gov/on-the-occasion-of-ramadan-4/'"
      ]
     },
     "execution_count": 153,
     "metadata": {},
     "output_type": "execute_result"
    },
    {
     "data": {
      "text/plain": [
       "'success: content added from https://2017-2021.state.gov/secretary-michael-r-pompeo-with-laura-ingraham-of-fox-news/'"
      ]
     },
     "execution_count": 153,
     "metadata": {},
     "output_type": "execute_result"
    },
    {
     "data": {
      "text/plain": [
       "'success: content added from https://2017-2021.state.gov/the-united-states-and-asean-are-partnering-to-defeat-covid-19-build-long-term-resilience-and-support-economic-recovery/'"
      ]
     },
     "execution_count": 153,
     "metadata": {},
     "output_type": "execute_result"
    },
    {
     "data": {
      "text/plain": [
       "'success: content added from https://2017-2021.state.gov/secretary-michael-r-pompeo-remarks-to-the-press-at-a-press-availability/'"
      ]
     },
     "execution_count": 153,
     "metadata": {},
     "output_type": "execute_result"
    },
    {
     "data": {
      "text/plain": [
       "'success: content added from https://2017-2021.state.gov/the-united-states-continues-leadership-in-the-global-covid-19-response-with-more-than-270-million-in-additional-u-s-foreign-assistance/'"
      ]
     },
     "execution_count": 153,
     "metadata": {},
     "output_type": "execute_result"
    },
    {
     "data": {
      "text/plain": [
       "'success: content added from https://2017-2021.state.gov/on-the-50th-anniversary-of-earth-day/'"
      ]
     },
     "execution_count": 153,
     "metadata": {},
     "output_type": "execute_result"
    },
    {
     "data": {
      "text/plain": [
       "'success: content added from https://2017-2021.state.gov/anniversary-of-the-easter-sunday-attacks-in-sri-lanka/'"
      ]
     },
     "execution_count": 153,
     "metadata": {},
     "output_type": "execute_result"
    },
    {
     "data": {
      "text/plain": [
       "'success: content added from https://2017-2021.state.gov/recent-arrests-of-pro-democracy-activists-in-hong-kong/'"
      ]
     },
     "execution_count": 153,
     "metadata": {},
     "output_type": "execute_result"
    },
    {
     "data": {
      "text/plain": [
       "'success: content added from https://2017-2021.state.gov/two-year-anniversary-of-the-crisis-in-nicaragua/'"
      ]
     },
     "execution_count": 153,
     "metadata": {},
     "output_type": "execute_result"
    },
    {
     "data": {
      "text/plain": [
       "'success: content added from https://2017-2021.state.gov/message-to-the-faithful-of-the-orthodox-churches/'"
      ]
     },
     "execution_count": 153,
     "metadata": {},
     "output_type": "execute_result"
    },
    {
     "data": {
      "text/plain": [
       "'success: content added from https://2017-2021.state.gov/zimbabwes-national-day/'"
      ]
     },
     "execution_count": 153,
     "metadata": {},
     "output_type": "execute_result"
    },
    {
     "data": {
      "text/plain": [
       "'success: content added from https://2017-2021.state.gov/the-united-states-concerned-by-threat-of-cyber-attack-against-the-czech-republics-healthcare-sector/'"
      ]
     },
     "execution_count": 153,
     "metadata": {},
     "output_type": "execute_result"
    },
    {
     "data": {
      "text/plain": [
       "'success: content added from https://2017-2021.state.gov/secretary-michael-r-pompeo-with-sebastian-gorka-of-america-first-with-sebastian-gorka/'"
      ]
     },
     "execution_count": 153,
     "metadata": {},
     "output_type": "execute_result"
    },
    {
     "data": {
      "text/plain": [
       "'success: content added from https://2017-2021.state.gov/secretary-michael-r-pompeo-with-maria-bartiromo-of-mornings-with-maria-on-fox-business-network-2/'"
      ]
     },
     "execution_count": 153,
     "metadata": {},
     "output_type": "execute_result"
    },
    {
     "data": {
      "text/plain": [
       "'success: content added from https://2017-2021.state.gov/secretary-michael-r-pompeo-with-hugh-hewitt-of-the-hugh-hewitt-show-3/'"
      ]
     },
     "execution_count": 153,
     "metadata": {},
     "output_type": "execute_result"
    },
    {
     "data": {
      "text/plain": [
       "'success: content added from https://2017-2021.state.gov/support-for-5g-and-internet-of-things-development/'"
      ]
     },
     "execution_count": 153,
     "metadata": {},
     "output_type": "execute_result"
    },
    {
     "data": {
      "text/plain": [
       "'success: content added from https://2017-2021.state.gov/secretary-michael-r-pompeo-with-martha-maccallum-of-fox-news-2/'"
      ]
     },
     "execution_count": 153,
     "metadata": {},
     "output_type": "execute_result"
    },
    {
     "data": {
      "text/plain": [
       "'success: content added from https://2017-2021.state.gov/legislative-elections-in-the-republic-of-korea/'"
      ]
     },
     "execution_count": 153,
     "metadata": {},
     "output_type": "execute_result"
    },
    {
     "data": {
      "text/plain": [
       "'success: content added from https://2017-2021.state.gov/secretary-michael-r-pompeo-with-sean-hannity-of-the-sean-hannity-show-4/'"
      ]
     },
     "execution_count": 153,
     "metadata": {},
     "output_type": "execute_result"
    },
    {
     "data": {
      "text/plain": [
       "'success: content added from https://2017-2021.state.gov/secretary-michael-r-pompeo-with-john-fredericks-of-the-john-fredericks-show-wntw-richmond/'"
      ]
     },
     "execution_count": 153,
     "metadata": {},
     "output_type": "execute_result"
    },
    {
     "data": {
      "text/plain": [
       "'success: content added from https://2017-2021.state.gov/secretary-michael-r-pompeo-with-chris-salcedo-of-the-chris-salcedo-show-ksev-houston-newsmax-tv/'"
      ]
     },
     "execution_count": 153,
     "metadata": {},
     "output_type": "execute_result"
    },
    {
     "data": {
      "text/plain": [
       "'success: content added from https://2017-2021.state.gov/secretary-michael-r-pompeo-with-van-harden-of-the-van-harden-show-who-des-moines/'"
      ]
     },
     "execution_count": 153,
     "metadata": {},
     "output_type": "execute_result"
    },
    {
     "data": {
      "text/plain": [
       "'success: content added from https://2017-2021.state.gov/secretary-michael-r-pompeo-with-pete-mundo-of-kcmo-2/'"
      ]
     },
     "execution_count": 153,
     "metadata": {},
     "output_type": "execute_result"
    },
    {
     "data": {
      "text/plain": [
       "'success: content added from https://2017-2021.state.gov/secretary-michael-r-pompeo-with-tony-katz-of-the-morning-news/'"
      ]
     },
     "execution_count": 153,
     "metadata": {},
     "output_type": "execute_result"
    },
    {
     "data": {
      "text/plain": [
       "'success: content added from https://2017-2021.state.gov/secretary-michael-r-pompeo-with-bud-hedinger-of-good-morning-orlando/'"
      ]
     },
     "execution_count": 153,
     "metadata": {},
     "output_type": "execute_result"
    },
    {
     "data": {
      "text/plain": [
       "'success: content added from https://2017-2021.state.gov/secretary-michael-r-pompeo-with-jack-harris-of-wfla-am-tampa-bay/'"
      ]
     },
     "execution_count": 153,
     "metadata": {},
     "output_type": "execute_result"
    },
    {
     "data": {
      "text/plain": [
       "'success: content added from https://2017-2021.state.gov/united-states-continues-u-s-foreign-assistance-for-el-salvador-guatemala-and-honduras/'"
      ]
     },
     "execution_count": 153,
     "metadata": {},
     "output_type": "execute_result"
    },
    {
     "data": {
      "text/plain": [
       "'success: content added from https://2017-2021.state.gov/secretary-michael-r-pompeo-with-julian-reichelt-of-bild-tv/'"
      ]
     },
     "execution_count": 153,
     "metadata": {},
     "output_type": "execute_result"
    },
    {
     "data": {
      "text/plain": [
       "'success: content added from https://2017-2021.state.gov/political-situation-in-iraq/'"
      ]
     },
     "execution_count": 153,
     "metadata": {},
     "output_type": "execute_result"
    },
    {
     "data": {
      "text/plain": [
       "'success: content added from https://2017-2021.state.gov/u-s-assistance-to-italy/'"
      ]
     },
     "execution_count": 153,
     "metadata": {},
     "output_type": "execute_result"
    },
    {
     "data": {
      "text/plain": [
       "'success: content added from https://2017-2021.state.gov/the-united-states-welcomes-the-saudi-led-coalition-announcement-of-a-unilateral-ceasefire-in-yemen/'"
      ]
     },
     "execution_count": 153,
     "metadata": {},
     "output_type": "execute_result"
    },
    {
     "data": {
      "text/plain": [
       "'success: content added from https://2017-2021.state.gov/secretary-michael-r-pompeo-with-wendy-bell-of-the-wendy-bell-show/'"
      ]
     },
     "execution_count": 153,
     "metadata": {},
     "output_type": "execute_result"
    },
    {
     "data": {
      "text/plain": [
       "'success: content added from https://2017-2021.state.gov/secretary-michael-r-pompeo-with-jeff-katz-of-the-jeff-katz-show/'"
      ]
     },
     "execution_count": 153,
     "metadata": {},
     "output_type": "execute_result"
    },
    {
     "data": {
      "text/plain": [
       "'success: content added from https://2017-2021.state.gov/secretary-michael-r-pompeo-with-guy-benson-of-the-guy-benson-show/'"
      ]
     },
     "execution_count": 153,
     "metadata": {},
     "output_type": "execute_result"
    },
    {
     "data": {
      "text/plain": [
       "'success: content added from https://2017-2021.state.gov/report-of-the-opcw-investigation-and-identification-team-regarding-incidents-in-ltamenah-the-syrian-arab-republic-on-24-25-and-30-march-2017/'"
      ]
     },
     "execution_count": 153,
     "metadata": {},
     "output_type": "execute_result"
    },
    {
     "data": {
      "text/plain": [
       "'success: content added from https://2017-2021.state.gov/continuing-u-s-leadership-in-the-global-covid-19-response-through-additional-u-s-foreign-assistance/'"
      ]
     },
     "execution_count": 153,
     "metadata": {},
     "output_type": "execute_result"
    },
    {
     "data": {
      "text/plain": [
       "'success: content added from https://2017-2021.state.gov/secretary-michael-r-pompeo-remarks-to-the-press-8/'"
      ]
     },
     "execution_count": 153,
     "metadata": {},
     "output_type": "execute_result"
    },
    {
     "data": {
      "text/plain": [
       "'success: content added from https://2017-2021.state.gov/united-states-designates-russian-imperial-movement-and-leaders-as-global-terrorists/'"
      ]
     },
     "execution_count": 153,
     "metadata": {},
     "output_type": "execute_result"
    },
    {
     "data": {
      "text/plain": [
       "'success: content added from https://2017-2021.state.gov/senegal-independence-day/'"
      ]
     },
     "execution_count": 153,
     "metadata": {},
     "output_type": "execute_result"
    },
    {
     "data": {
      "text/plain": [
       "'success: content added from https://2017-2021.state.gov/secretary-michael-r-pompeo-remarks-to-the-press-7/'"
      ]
     },
     "execution_count": 153,
     "metadata": {},
     "output_type": "execute_result"
    },
    {
     "data": {
      "text/plain": [
       "'success: content added from https://2017-2021.state.gov/the-united-states-proposes-a-framework-for-a-peaceful-democratic-transition-in-venezuela/'"
      ]
     },
     "execution_count": 153,
     "metadata": {},
     "output_type": "execute_result"
    },
    {
     "data": {
      "text/plain": [
       "'success: content added from https://2017-2021.state.gov/secretary-michael-r-pompeo-briefing-with-journalists-from-east-asian-and-pacific-media-outlets/'"
      ]
     },
     "execution_count": 153,
     "metadata": {},
     "output_type": "execute_result"
    },
    {
     "data": {
      "text/plain": [
       "'success: content added from https://2017-2021.state.gov/secretary-michael-r-pompeo-with-sean-hannity-of-the-sean-hannity-show-3/'"
      ]
     },
     "execution_count": 153,
     "metadata": {},
     "output_type": "execute_result"
    },
    {
     "data": {
      "text/plain": [
       "'success: content added from https://2017-2021.state.gov/north-macedonia-joins-the-nato-alliance/'"
      ]
     },
     "execution_count": 153,
     "metadata": {},
     "output_type": "execute_result"
    },
    {
     "data": {
      "text/plain": [
       "'success: content added from https://2017-2021.state.gov/u-s-foreign-assistance-in-response-to-the-covid-19-pandemic/'"
      ]
     },
     "execution_count": 153,
     "metadata": {},
     "output_type": "execute_result"
    },
    {
     "data": {
      "text/plain": [
       "'success: content added from https://2017-2021.state.gov/support-for-the-family-of-robert-levinson/'"
      ]
     },
     "execution_count": 153,
     "metadata": {},
     "output_type": "execute_result"
    },
    {
     "data": {
      "text/plain": [
       "'success: content added from https://2017-2021.state.gov/the-european-unions-decision-on-albania-and-north-macedonia/'"
      ]
     },
     "execution_count": 153,
     "metadata": {},
     "output_type": "execute_result"
    },
    {
     "data": {
      "text/plain": [
       "'success: content added from https://2017-2021.state.gov/department-of-state-offers-rewards-for-information-to-bring-venezuelan-drug-traffickers-to-justice/'"
      ]
     },
     "execution_count": 153,
     "metadata": {},
     "output_type": "execute_result"
    },
    {
     "data": {
      "text/plain": [
       "'success: content added from https://2017-2021.state.gov/secretary-michael-r-pompeo-with-hugh-hewitt-of-the-hugh-hewitt-show-2/'"
      ]
     },
     "execution_count": 153,
     "metadata": {},
     "output_type": "execute_result"
    },
    {
     "data": {
      "text/plain": [
       "'success: content added from https://2017-2021.state.gov/secretary-michael-r-pompeo-at-a-press-availability-3/'"
      ]
     },
     "execution_count": 153,
     "metadata": {},
     "output_type": "execute_result"
    },
    {
     "data": {
      "text/plain": [
       "'success: content added from https://2017-2021.state.gov/bangladesh-independence-day/'"
      ]
     },
     "execution_count": 153,
     "metadata": {},
     "output_type": "execute_result"
    },
    {
     "data": {
      "text/plain": [
       "'success: content added from https://2017-2021.state.gov/greece-national-day/'"
      ]
     },
     "execution_count": 153,
     "metadata": {},
     "output_type": "execute_result"
    },
    {
     "data": {
      "text/plain": [
       "'success: content added from https://2017-2021.state.gov/secretary-michael-r-pompeo-with-tony-perkins-of-washington-watch-2/'"
      ]
     },
     "execution_count": 153,
     "metadata": {},
     "output_type": "execute_result"
    },
    {
     "data": {
      "text/plain": [
       "'success: content added from https://2017-2021.state.gov/attack-on-afghan-female-mayor-zarifa-ghafari/'"
      ]
     },
     "execution_count": 153,
     "metadata": {},
     "output_type": "execute_result"
    },
    {
     "data": {
      "text/plain": [
       "'success: content added from https://2017-2021.state.gov/secretary-michael-r-pompeo-remarks-to-the-traveling-press-2/'"
      ]
     },
     "execution_count": 153,
     "metadata": {},
     "output_type": "execute_result"
    },
    {
     "data": {
      "text/plain": [
       "'success: content added from https://2017-2021.state.gov/on-the-political-impasse-in-afghanistan/'"
      ]
     },
     "execution_count": 153,
     "metadata": {},
     "output_type": "execute_result"
    },
    {
     "data": {
      "text/plain": [
       "'success: content added from https://2017-2021.state.gov/khameneis-lies-about-the-wuhan-virus-put-lives-at-risk/'"
      ]
     },
     "execution_count": 153,
     "metadata": {},
     "output_type": "execute_result"
    },
    {
     "data": {
      "text/plain": [
       "'success: content added from https://2017-2021.state.gov/namibias-national-day/'"
      ]
     },
     "execution_count": 153,
     "metadata": {},
     "output_type": "execute_result"
    },
    {
     "data": {
      "text/plain": [
       "'success: content added from https://2017-2021.state.gov/re-election-of-organization-of-american-states-secretary-general-luis-almagro/'"
      ]
     },
     "execution_count": 153,
     "metadata": {},
     "output_type": "execute_result"
    },
    {
     "data": {
      "text/plain": [
       "'success: content added from https://2017-2021.state.gov/statement-on-the-celebration-of-nowruz/'"
      ]
     },
     "execution_count": 153,
     "metadata": {},
     "output_type": "execute_result"
    },
    {
     "data": {
      "text/plain": [
       "'success: content added from https://2017-2021.state.gov/release-of-detained-american-citizen-amer-fakhoury/'"
      ]
     },
     "execution_count": 153,
     "metadata": {},
     "output_type": "execute_result"
    },
    {
     "data": {
      "text/plain": [
       "'success: content added from https://2017-2021.state.gov/medical-furlough-of-u-s-citizen-michael-white/'"
      ]
     },
     "execution_count": 153,
     "metadata": {},
     "output_type": "execute_result"
    },
    {
     "data": {
      "text/plain": [
       "'success: content added from https://2017-2021.state.gov/united-states-calls-for-humanitarian-release-of-wrongfully-detained-americans-in-venezuela/'"
      ]
     },
     "execution_count": 153,
     "metadata": {},
     "output_type": "execute_result"
    },
    {
     "data": {
      "text/plain": [
       "'success: content added from https://2017-2021.state.gov/secretary-michael-r-pompeo-with-sean-hannity-of-the-sean-hannity-show-2/'"
      ]
     },
     "execution_count": 153,
     "metadata": {},
     "output_type": "execute_result"
    },
    {
     "data": {
      "text/plain": [
       "'success: content added from https://2017-2021.state.gov/constraining-iranian-nuclear-scientists/'"
      ]
     },
     "execution_count": 153,
     "metadata": {},
     "output_type": "execute_result"
    },
    {
     "data": {
      "text/plain": [
       "'success: content added from https://2017-2021.state.gov/further-sanctions-on-entities-trading-in-or-transporting-iranian-petrochemicals/'"
      ]
     },
     "execution_count": 153,
     "metadata": {},
     "output_type": "execute_result"
    },
    {
     "data": {
      "text/plain": [
       "'success: content added from https://2017-2021.state.gov/secretary-michael-r-pompeo-remarks-to-the-press-6/'"
      ]
     },
     "execution_count": 153,
     "metadata": {},
     "output_type": "execute_result"
    },
    {
     "data": {
      "text/plain": [
       "'success: content added from https://2017-2021.state.gov/the-state-department-imposes-sanctions-on-individual-responsible-for-the-violence-in-northern-syria/'"
      ]
     },
     "execution_count": 153,
     "metadata": {},
     "output_type": "execute_result"
    },
    {
     "data": {
      "text/plain": [
       "'success: content added from https://2017-2021.state.gov/on-the-occasion-of-st-patricks-day-3/'"
      ]
     },
     "execution_count": 153,
     "metadata": {},
     "output_type": "execute_result"
    },
    {
     "data": {
      "text/plain": [
       "'success: content added from https://2017-2021.state.gov/on-usaid-administrator-mark-green/'"
      ]
     },
     "execution_count": 153,
     "metadata": {},
     "output_type": "execute_result"
    },
    {
     "data": {
      "text/plain": [
       "'success: content added from https://2017-2021.state.gov/anniversary-of-the-election-of-pope-francis/'"
      ]
     },
     "execution_count": 153,
     "metadata": {},
     "output_type": "execute_result"
    },
    {
     "data": {
      "text/plain": [
       "'success: content added from https://2017-2021.state.gov/the-united-states-increases-pressure-on-illegitimate-former-maduro-regime-with-designation-of-tnk-trading-international-s-a/'"
      ]
     },
     "execution_count": 153,
     "metadata": {},
     "output_type": "execute_result"
    },
    {
     "data": {
      "text/plain": [
       "'success: content added from https://2017-2021.state.gov/sanctions-against-businesses-linked-to-mexican-cartels/'"
      ]
     },
     "execution_count": 153,
     "metadata": {},
     "output_type": "execute_result"
    },
    {
     "data": {
      "text/plain": [
       "'success: content added from https://2017-2021.state.gov/the-republic-of-mauritius-national-day/'"
      ]
     },
     "execution_count": 153,
     "metadata": {},
     "output_type": "execute_result"
    },
    {
     "data": {
      "text/plain": [
       "'success: content added from https://2017-2021.state.gov/announcement-of-mick-mulvaney-as-special-envoy-to-northern-ireland/'"
      ]
     },
     "execution_count": 153,
     "metadata": {},
     "output_type": "execute_result"
    },
    {
     "data": {
      "text/plain": [
       "'success: content added from https://2017-2021.state.gov/the-united-states-sanctions-two-zimbabwean-officials-for-human-rights-abuses/'"
      ]
     },
     "execution_count": 153,
     "metadata": {},
     "output_type": "execute_result"
    },
    {
     "data": {
      "text/plain": [
       "'success: content added from https://2017-2021.state.gov/g7-ministerial-to-be-hosted-virtually/'"
      ]
     },
     "execution_count": 153,
     "metadata": {},
     "output_type": "execute_result"
    },
    {
     "data": {
      "text/plain": [
       "'success: content added from https://2017-2021.state.gov/secretary-michael-r-pompeo-on-the-release-of-the-2019-country-reports-on-human-rights-practices/'"
      ]
     },
     "execution_count": 153,
     "metadata": {},
     "output_type": "execute_result"
    },
    {
     "data": {
      "text/plain": [
       "'success: content added from https://2017-2021.state.gov/united-states-calls-for-humanitarian-release-of-all-wrongfully-detained-americans-in-iran/'"
      ]
     },
     "execution_count": 153,
     "metadata": {},
     "output_type": "execute_result"
    },
    {
     "data": {
      "text/plain": [
       "'success: content added from https://2017-2021.state.gov/statement-on-presidential-inaugurations-in-afghanistan/'"
      ]
     },
     "execution_count": 153,
     "metadata": {},
     "output_type": "execute_result"
    },
    {
     "data": {
      "text/plain": [
       "'success: content added from https://2017-2021.state.gov/thirteen-year-anniversary-of-the-disappearance-of-robert-levinson/'"
      ]
     },
     "execution_count": 153,
     "metadata": {},
     "output_type": "execute_result"
    },
    {
     "data": {
      "text/plain": [
       "'success: content added from https://2017-2021.state.gov/trial-of-four-suspects-in-mh17-case/'"
      ]
     },
     "execution_count": 153,
     "metadata": {},
     "output_type": "execute_result"
    },
    {
     "data": {
      "text/plain": [
       "'success: content added from https://2017-2021.state.gov/observance-of-international-womens-day-2/'"
      ]
     },
     "execution_count": 153,
     "metadata": {},
     "output_type": "execute_result"
    },
    {
     "data": {
      "text/plain": [
       "'success: content added from https://2017-2021.state.gov/condemning-isis-k-attack-on-a-kabul-gathering/'"
      ]
     },
     "execution_count": 153,
     "metadata": {},
     "output_type": "execute_result"
    },
    {
     "data": {
      "text/plain": [
       "'success: content added from https://2017-2021.state.gov/secretary-michael-r-pompeo-with-joe-kernan-becky-quick-and-andrew-ross-sorkin-of-cnbc-squawk-box/'"
      ]
     },
     "execution_count": 153,
     "metadata": {},
     "output_type": "execute_result"
    },
    {
     "data": {
      "text/plain": [
       "'success: content added from https://2017-2021.state.gov/secretary-michael-r-pompeo-with-steve-doocy-jedediah-bila-and-pete-hegseth-of-fox-and-friends/'"
      ]
     },
     "execution_count": 153,
     "metadata": {},
     "output_type": "execute_result"
    },
    {
     "data": {
      "text/plain": [
       "'success: content added from https://2017-2021.state.gov/condolences-on-the-death-of-former-un-secretary-general-javier-perez-de-cuellar/'"
      ]
     },
     "execution_count": 153,
     "metadata": {},
     "output_type": "execute_result"
    },
    {
     "data": {
      "text/plain": [
       "'success: content added from https://2017-2021.state.gov/ghanas-national-day-3/'"
      ]
     },
     "execution_count": 153,
     "metadata": {},
     "output_type": "execute_result"
    },
    {
     "data": {
      "text/plain": [
       "'success: content added from https://2017-2021.state.gov/iaea-reports-nuclear-concerns-in-iran/'"
      ]
     },
     "execution_count": 153,
     "metadata": {},
     "output_type": "execute_result"
    },
    {
     "data": {
      "text/plain": [
       "'success: content added from https://2017-2021.state.gov/the-united-states-sanctions-the-nicaraguan-national-police-and-three-commissioners/'"
      ]
     },
     "execution_count": 153,
     "metadata": {},
     "output_type": "execute_result"
    },
    {
     "data": {
      "text/plain": [
       "'success: content added from https://2017-2021.state.gov/secretary-pompeos-remarks-to-the-press/'"
      ]
     },
     "execution_count": 153,
     "metadata": {},
     "output_type": "execute_result"
    },
    {
     "data": {
      "text/plain": [
       "'success: content added from https://2017-2021.state.gov/icc-decision-on-afghanistan/'"
      ]
     },
     "execution_count": 153,
     "metadata": {},
     "output_type": "execute_result"
    },
    {
     "data": {
      "text/plain": [
       "'success: content added from https://2017-2021.state.gov/election-of-daren-tang-of-singapore-as-director-general-of-the-world-intellectual-property-organization/'"
      ]
     },
     "execution_count": 153,
     "metadata": {},
     "output_type": "execute_result"
    },
    {
     "data": {
      "text/plain": [
       "'success: content added from https://2017-2021.state.gov/at-the-international-women-of-courage-iwoc-awards-ceremony/'"
      ]
     },
     "execution_count": 153,
     "metadata": {},
     "output_type": "execute_result"
    },
    {
     "data": {
      "text/plain": [
       "'success: content added from https://2017-2021.state.gov/secretary-michael-r-pompeo-with-bret-baier-of-special-report-with-bret-baier/'"
      ]
     },
     "execution_count": 153,
     "metadata": {},
     "output_type": "execute_result"
    },
    {
     "data": {
      "text/plain": [
       "'success: content added from https://2017-2021.state.gov/israel-central-to-the-middle-easts-future/'"
      ]
     },
     "execution_count": 153,
     "metadata": {},
     "output_type": "execute_result"
    },
    {
     "data": {
      "text/plain": [
       "'success: content added from https://2017-2021.state.gov/department-of-state-guidance-to-u-s-companies-regarding-the-un-office-of-the-high-commissioner-for-human-rights-database-report-release/'"
      ]
     },
     "execution_count": 153,
     "metadata": {},
     "output_type": "execute_result"
    },
    {
     "data": {
      "text/plain": [
       "'success: content added from https://2017-2021.state.gov/institution-of-a-personnel-cap-on-designated-prc-state-media-entities/'"
      ]
     },
     "execution_count": 153,
     "metadata": {},
     "output_type": "execute_result"
    },
    {
     "data": {
      "text/plain": [
       "'success: content added from https://2017-2021.state.gov/bulgaria-national-day-2/'"
      ]
     },
     "execution_count": 153,
     "metadata": {},
     "output_type": "execute_result"
    },
    {
     "data": {
      "text/plain": [
       "'success: content added from https://2017-2021.state.gov/secretary-michael-r-pompeo-with-margaret-brennan-of-cbs-face-the-nation-3/'"
      ]
     },
     "execution_count": 153,
     "metadata": {},
     "output_type": "execute_result"
    },
    {
     "data": {
      "text/plain": [
       "'success: content added from https://2017-2021.state.gov/at-a-press-availability-after-the-afghanistan-signing-ceremony/'"
      ]
     },
     "execution_count": 153,
     "metadata": {},
     "output_type": "execute_result"
    },
    {
     "data": {
      "text/plain": [
       "'success: content added from https://2017-2021.state.gov/secretary-michael-r-pompeo-at-afghanistan-signing-ceremony/'"
      ]
     },
     "execution_count": 153,
     "metadata": {},
     "output_type": "execute_result"
    },
    {
     "data": {
      "text/plain": [
       "'success: content added from https://2017-2021.state.gov/attack-on-turkish-soldiers-in-idlib/'"
      ]
     },
     "execution_count": 153,
     "metadata": {},
     "output_type": "execute_result"
    },
    {
     "data": {
      "text/plain": [
       "'success: content added from https://2017-2021.state.gov/the-state-department-is-winning-for-america/'"
      ]
     },
     "execution_count": 153,
     "metadata": {},
     "output_type": "execute_result"
    },
    {
     "data": {
      "text/plain": [
       "'success: content added from https://2017-2021.state.gov/united-states-offers-assistance-to-the-iranian-people/'"
      ]
     },
     "execution_count": 153,
     "metadata": {},
     "output_type": "execute_result"
    },
    {
     "data": {
      "text/plain": [
       "'success: content added from https://2017-2021.state.gov/public-designation-of-the-former-governor-of-the-mexican-state-of-nayarit-roberto-sandoval-castaneda-due-to-involvement-in-significant-corruption/'"
      ]
     },
     "execution_count": 153,
     "metadata": {},
     "output_type": "execute_result"
    },
    {
     "data": {
      "text/plain": [
       "'success: content added from https://2017-2021.state.gov/opening-remarks-by-secretary-of-state-michael-r-pompeo-before-the-house-committee-on-foreign-affairs/'"
      ]
     },
     "execution_count": 153,
     "metadata": {},
     "output_type": "execute_result"
    },
    {
     "data": {
      "text/plain": [
       "'success: content added from https://2017-2021.state.gov/crimea-is-ukraine-3/'"
      ]
     },
     "execution_count": 153,
     "metadata": {},
     "output_type": "execute_result"
    },
    {
     "data": {
      "text/plain": [
       "'success: content added from https://2017-2021.state.gov/united-states-designates-hizballah-affiliated-companies-and-officials-as-global-terrorists/'"
      ]
     },
     "execution_count": 153,
     "metadata": {},
     "output_type": "execute_result"
    },
    {
     "data": {
      "text/plain": [
       "'success: content added from https://2017-2021.state.gov/dominican-republic-independence-day-2/'"
      ]
     },
     "execution_count": 153,
     "metadata": {},
     "output_type": "execute_result"
    },
    {
     "data": {
      "text/plain": [
       "'success: content added from https://2017-2021.state.gov/on-the-occasion-of-kuwaits-national-day/'"
      ]
     },
     "execution_count": 153,
     "metadata": {},
     "output_type": "execute_result"
    },
    {
     "data": {
      "text/plain": [
       "'success: content added from https://2017-2021.state.gov/new-sanctions-under-the-iran-north-korea-and-syria-nonproliferation-act-inksna/'"
      ]
     },
     "execution_count": 153,
     "metadata": {},
     "output_type": "execute_result"
    },
    {
     "data": {
      "text/plain": [
       "'success: content added from https://2017-2021.state.gov/secretary-michael-r-pompeo-remarks-to-the-press-5/'"
      ]
     },
     "execution_count": 153,
     "metadata": {},
     "output_type": "execute_result"
    },
    {
     "data": {
      "text/plain": [
       "'success: content added from https://2017-2021.state.gov/himalayan-new-year-losar-2/'"
      ]
     },
     "execution_count": 153,
     "metadata": {},
     "output_type": "execute_result"
    },
    {
     "data": {
      "text/plain": [
       "'success: content added from https://2017-2021.state.gov/estonia-national-day-3/'"
      ]
     },
     "execution_count": 153,
     "metadata": {},
     "output_type": "execute_result"
    },
    {
     "data": {
      "text/plain": [
       "'success: content added from https://2017-2021.state.gov/united-states-commends-fatf-for-re-imposition-of-countermeasures-on-iran/'"
      ]
     },
     "execution_count": 153,
     "metadata": {},
     "output_type": "execute_result"
    },
    {
     "data": {
      "text/plain": [
       "'success: content added from https://2017-2021.state.gov/japans-national-day/'"
      ]
     },
     "execution_count": 153,
     "metadata": {},
     "output_type": "execute_result"
    },
    {
     "data": {
      "text/plain": [
       "'success: content added from https://2017-2021.state.gov/next-steps-toward-a-u-s-agreement-with-the-taliban/'"
      ]
     },
     "execution_count": 153,
     "metadata": {},
     "output_type": "execute_result"
    },
    {
     "data": {
      "text/plain": [
       "'success: content added from https://2017-2021.state.gov/the-iranian-people-deserve-free-and-fair-elections/'"
      ]
     },
     "execution_count": 153,
     "metadata": {},
     "output_type": "execute_result"
    },
    {
     "data": {
      "text/plain": [
       "'success: content added from https://2017-2021.state.gov/brunei-darussalam-national-day-4/'"
      ]
     },
     "execution_count": 153,
     "metadata": {},
     "output_type": "execute_result"
    },
    {
     "data": {
      "text/plain": [
       "'success: content added from https://2017-2021.state.gov/saint-lucia-independence-day-2/'"
      ]
     },
     "execution_count": 153,
     "metadata": {},
     "output_type": "execute_result"
    },
    {
     "data": {
      "text/plain": [
       "'success: content added from https://2017-2021.state.gov/secretary-michael-r-pompeo-and-ambassador-john-abizaid-remarks-to-the-traveling-press/'"
      ]
     },
     "execution_count": 153,
     "metadata": {},
     "output_type": "execute_result"
    },
    {
     "data": {
      "text/plain": [
       "'success: content added from https://2017-2021.state.gov/the-united-states-condemns-russian-cyber-attack-against-the-country-of-georgia/'"
      ]
     },
     "execution_count": 153,
     "metadata": {},
     "output_type": "execute_result"
    },
    {
     "data": {
      "text/plain": [
       "'success: content added from https://2017-2021.state.gov/chinese-action-against-journalists/'"
      ]
     },
     "execution_count": 153,
     "metadata": {},
     "output_type": "execute_result"
    },
    {
     "data": {
      "text/plain": [
       "'success: content added from https://2017-2021.state.gov/secretary-michael-r-pompeo-remarks-to-the-traveling-press/'"
      ]
     },
     "execution_count": 153,
     "metadata": {},
     "output_type": "execute_result"
    },
    {
     "data": {
      "text/plain": [
       "'success: content added from https://2017-2021.state.gov/liberating-africas-entrepreneurs/'"
      ]
     },
     "execution_count": 153,
     "metadata": {},
     "output_type": "execute_result"
    },
    {
     "data": {
      "text/plain": [
       "'success: content added from https://2017-2021.state.gov/secretary-michael-r-pompeo-and-ethiopian-foreign-minister-gedu-andargachew-at-a-press-availability/'"
      ]
     },
     "execution_count": 153,
     "metadata": {},
     "output_type": "execute_result"
    },
    {
     "data": {
      "text/plain": [
       "'success: content added from https://2017-2021.state.gov/the-united-states-sanctions-rosneft-trading-s-a-to-secure-venezuelas-natural-resources/'"
      ]
     },
     "execution_count": 153,
     "metadata": {},
     "output_type": "execute_result"
    },
    {
     "data": {
      "text/plain": [
       "'success: content added from https://2017-2021.state.gov/the-gambias-national-day-2/'"
      ]
     },
     "execution_count": 153,
     "metadata": {},
     "output_type": "execute_result"
    },
    {
     "data": {
      "text/plain": [
       "'success: content added from https://2017-2021.state.gov/secretary-michael-r-pompeo-and-angolan-minister-of-external-relations-manuel-augusto-at-a-joint-press-availability/'"
      ]
     },
     "execution_count": 153,
     "metadata": {},
     "output_type": "execute_result"
    },
    {
     "data": {
      "text/plain": [
       "'success: content added from https://2017-2021.state.gov/secretary-michael-r-pompeo-at-the-business-reception/'"
      ]
     },
     "execution_count": 153,
     "metadata": {},
     "output_type": "execute_result"
    },
    {
     "data": {
      "text/plain": [
       "'success: content added from https://2017-2021.state.gov/kosovo-national-day-3/'"
      ]
     },
     "execution_count": 153,
     "metadata": {},
     "output_type": "execute_result"
    },
    {
     "data": {
      "text/plain": [
       "'success: content added from https://2017-2021.state.gov/secretary-michael-r-pompeo-and-senegalese-foreign-minister-amadou-ba-at-a-joint-press-availability/'"
      ]
     },
     "execution_count": 153,
     "metadata": {},
     "output_type": "execute_result"
    },
    {
     "data": {
      "text/plain": [
       "'success: content added from https://2017-2021.state.gov/secretary-michael-r-pompeo-and-senegalese-minister-of-economy-amadou-hott-at-a-memoranda-of-understanding-signing-ceremony/'"
      ]
     },
     "execution_count": 153,
     "metadata": {},
     "output_type": "execute_result"
    },
    {
     "data": {
      "text/plain": [
       "'success: content added from https://2017-2021.state.gov/lithuania-national-day-3/'"
      ]
     },
     "execution_count": 153,
     "metadata": {},
     "output_type": "execute_result"
    },
    {
     "data": {
      "text/plain": [
       "'success: content added from https://2017-2021.state.gov/the-west-is-winning/'"
      ]
     },
     "execution_count": 153,
     "metadata": {},
     "output_type": "execute_result"
    },
    {
     "data": {
      "text/plain": [
       "'success: content added from https://2017-2021.state.gov/serbia-national-day-3/'"
      ]
     },
     "execution_count": 153,
     "metadata": {},
     "output_type": "execute_result"
    },
    {
     "data": {
      "text/plain": [
       "'success: content added from https://2017-2021.state.gov/public-designation-due-to-gross-violations-of-human-rights-of-shavendra-silva-of-sri-lanka-under-section-7031c-of-the-department-of-state-foreign-operations-and-related-programs-appropriations-a/'"
      ]
     },
     "execution_count": 153,
     "metadata": {},
     "output_type": "execute_result"
    },
    {
     "data": {
      "text/plain": [
       "'success: content added from https://2017-2021.state.gov/anniversary-of-lebanese-prime-minister-rafik-hariris-assassination/'"
      ]
     },
     "execution_count": 153,
     "metadata": {},
     "output_type": "execute_result"
    },
    {
     "data": {
      "text/plain": [
       "'success: content added from https://2017-2021.state.gov/secretary-michael-r-pompeo-remarks-to-traveling-press-3/'"
      ]
     },
     "execution_count": 153,
     "metadata": {},
     "output_type": "execute_result"
    },
    {
     "data": {
      "text/plain": [
       "'success: content added from https://2017-2021.state.gov/un-office-of-the-high-commissioner-for-human-rights-database-report-release/'"
      ]
     },
     "execution_count": 153,
     "metadata": {},
     "output_type": "execute_result"
    },
    {
     "data": {
      "text/plain": [
       "'success: content added from https://2017-2021.state.gov/secretary-michael-r-pompeo-with-tony-perkins-of-washington-watch-with-tony-perkins-2/'"
      ]
     },
     "execution_count": 153,
     "metadata": {},
     "output_type": "execute_result"
    },
    {
     "data": {
      "text/plain": [
       "'success: content added from https://2017-2021.state.gov/irans-commitments-to-the-financial-action-task-force/'"
      ]
     },
     "execution_count": 153,
     "metadata": {},
     "output_type": "execute_result"
    },
    {
     "data": {
      "text/plain": [
       "'success: content added from https://2017-2021.state.gov/secretary-michael-r-pompeo-on-the-one-year-anniversary-of-the-launch-of-the-womens-global-development-and-prosperity-w-gdp-initiative/'"
      ]
     },
     "execution_count": 153,
     "metadata": {},
     "output_type": "execute_result"
    },
    {
     "data": {
      "text/plain": [
       "'success: content added from https://2017-2021.state.gov/our-coronavirus-response-is-protecting-americans/'"
      ]
     },
     "execution_count": 153,
     "metadata": {},
     "output_type": "execute_result"
    },
    {
     "data": {
      "text/plain": [
       "'success: content added from https://2017-2021.state.gov/secretary-michael-r-pompeo-with-lou-dobbs-of-lou-dobbs-tonight/'"
      ]
     },
     "execution_count": 153,
     "metadata": {},
     "output_type": "execute_result"
    },
    {
     "data": {
      "text/plain": [
       "'success: content added from https://2017-2021.state.gov/irans-failed-space-launch/'"
      ]
     },
     "execution_count": 153,
     "metadata": {},
     "output_type": "execute_result"
    },
    {
     "data": {
      "text/plain": [
       "'success: content added from https://2017-2021.state.gov/department-of-state-and-usaid-fy-2021-budget-request/'"
      ]
     },
     "execution_count": 153,
     "metadata": {},
     "output_type": "execute_result"
    },
    {
     "data": {
      "text/plain": [
       "'success: content added from https://2017-2021.state.gov/u-s-states-and-the-china-competition/'"
      ]
     },
     "execution_count": 153,
     "metadata": {},
     "output_type": "execute_result"
    },
    {
     "data": {
      "text/plain": [
       "'success: content added from https://2017-2021.state.gov/u-s-concerns-over-electoral-process-in-guinea/'"
      ]
     },
     "execution_count": 153,
     "metadata": {},
     "output_type": "execute_result"
    },
    {
     "data": {
      "text/plain": [
       "'success: content added from https://2017-2021.state.gov/the-united-states-takes-action-against-maduros-improper-use-of-the-venezuelan-peoples-air-carrier/'"
      ]
     },
     "execution_count": 153,
     "metadata": {},
     "output_type": "execute_result"
    },
    {
     "data": {
      "text/plain": [
       "'success: content added from https://2017-2021.state.gov/the-united-states-announces-assistance-to-combat-the-novel-coronavirus/'"
      ]
     },
     "execution_count": 153,
     "metadata": {},
     "output_type": "execute_result"
    },
    {
     "data": {
      "text/plain": [
       "'success: content added from https://2017-2021.state.gov/on-attacks-against-protesters-in-iraq/'"
      ]
     },
     "execution_count": 153,
     "metadata": {},
     "output_type": "execute_result"
    },
    {
     "data": {
      "text/plain": [
       "'success: content added from https://2017-2021.state.gov/on-assistant-secretary-michelle-giuda/'"
      ]
     },
     "execution_count": 153,
     "metadata": {},
     "output_type": "execute_result"
    },
    {
     "data": {
      "text/plain": [
       "'success: content added from https://2017-2021.state.gov/grenada-independence-day-3/'"
      ]
     },
     "execution_count": 153,
     "metadata": {},
     "output_type": "execute_result"
    },
    {
     "data": {
      "text/plain": [
       "'success: content added from https://2017-2021.state.gov/answering-the-call-to-advance-religious-freedom/'"
      ]
     },
     "execution_count": 153,
     "metadata": {},
     "output_type": "execute_result"
    },
    {
     "data": {
      "text/plain": [
       "'success: content added from https://2017-2021.state.gov/secretary-michael-r-pompeo-at-the-international-religious-freedom-alliance-dinner/'"
      ]
     },
     "execution_count": 153,
     "metadata": {},
     "output_type": "execute_result"
    },
    {
     "data": {
      "text/plain": [
       "'success: content added from https://2017-2021.state.gov/new-zealand-national-day/'"
      ]
     },
     "execution_count": 153,
     "metadata": {},
     "output_type": "execute_result"
    },
    {
     "data": {
      "text/plain": [
       "'success: content added from https://2017-2021.state.gov/public-designation-due-to-involvement-in-significant-corruption-of-bulgarian-judge-andon-mitalov/'"
      ]
     },
     "execution_count": 153,
     "metadata": {},
     "output_type": "execute_result"
    },
    {
     "data": {
      "text/plain": [
       "'success: content added from https://2017-2021.state.gov/on-president-trumps-state-of-the-union-address-2/'"
      ]
     },
     "execution_count": 153,
     "metadata": {},
     "output_type": "execute_result"
    },
    {
     "data": {
      "text/plain": [
       "'success: content added from https://2017-2021.state.gov/secretary-michael-r-pompeo-statements-to-the-press-with-nigerian-foreign-minister-geoffrey-onyeama/'"
      ]
     },
     "execution_count": 153,
     "metadata": {},
     "output_type": "execute_result"
    },
    {
     "data": {
      "text/plain": [
       "'success: content added from https://2017-2021.state.gov/escalation-of-violence-in-idlib/'"
      ]
     },
     "execution_count": 153,
     "metadata": {},
     "output_type": "execute_result"
    },
    {
     "data": {
      "text/plain": [
       "'success: content added from https://2017-2021.state.gov/on-the-passing-of-former-new-zealand-prime-minister-mike-moore/'"
      ]
     },
     "execution_count": 153,
     "metadata": {},
     "output_type": "execute_result"
    },
    {
     "data": {
      "text/plain": [
       "'success: content added from https://2017-2021.state.gov/sri-lankas-independence-day-2/'"
      ]
     },
     "execution_count": 153,
     "metadata": {},
     "output_type": "execute_result"
    },
    {
     "data": {
      "text/plain": [
       "'success: content added from https://2017-2021.state.gov/secretary-michael-r-pompeo-and-uzbekistan-foreign-minister-abdulaziz-kamilov/'"
      ]
     },
     "execution_count": 153,
     "metadata": {},
     "output_type": "execute_result"
    },
    {
     "data": {
      "text/plain": [
       "'success: content added from https://2017-2021.state.gov/secretary-michael-r-pompeo-with-lyazzat-shatayeva-of-khabar/'"
      ]
     },
     "execution_count": 153,
     "metadata": {},
     "output_type": "execute_result"
    },
    {
     "data": {
      "text/plain": [
       "'success: content added from https://2017-2021.state.gov/secretary-michael-r-pompeo-with-aigerim-toleukhanova-of-radio-azattyq/'"
      ]
     },
     "execution_count": 153,
     "metadata": {},
     "output_type": "execute_result"
    },
    {
     "data": {
      "text/plain": [
       "'success: content added from https://2017-2021.state.gov/secretary-michael-r-pompeo-and-kazakhstani-foreign-minister-mukhtar-tileuberdi/'"
      ]
     },
     "execution_count": 153,
     "metadata": {},
     "output_type": "execute_result"
    },
    {
     "data": {
      "text/plain": [
       "'success: content added from https://2017-2021.state.gov/secretary-michael-r-pompeo-and-belarusian-foreign-minister-vladimir-makei/'"
      ]
     },
     "execution_count": 153,
     "metadata": {},
     "output_type": "execute_result"
    },
    {
     "data": {
      "text/plain": [
       "'success: content added from https://2017-2021.state.gov/secretary-michael-r-pompeo-with-kyra-phillips-of-abc/'"
      ]
     },
     "execution_count": 153,
     "metadata": {},
     "output_type": "execute_result"
    },
    {
     "data": {
      "text/plain": [
       "'success: content added from https://2017-2021.state.gov/public-designation-due-to-gross-violations-of-human-rights-of-paul-christian-makonda-of-tanzania/'"
      ]
     },
     "execution_count": 153,
     "metadata": {},
     "output_type": "execute_result"
    },
    {
     "data": {
      "text/plain": [
       "'success: content added from https://2017-2021.state.gov/designation-of-the-atomic-energy-organization-of-iran-its-head-ali-akbar-salehi-and-renewing-nuclear-restrictions/'"
      ]
     },
     "execution_count": 153,
     "metadata": {},
     "output_type": "execute_result"
    },
    {
     "data": {
      "text/plain": [
       "'success: content added from https://2017-2021.state.gov/sale-of-f-35-aircraft-to-poland/'"
      ]
     },
     "execution_count": 153,
     "metadata": {},
     "output_type": "execute_result"
    },
    {
     "data": {
      "text/plain": [
       "'success: content added from https://2017-2021.state.gov/secretary-michael-r-pompeo-and-ukrainian-president-volodymyr-zelenskyy-at-a-press-availability/'"
      ]
     },
     "execution_count": 153,
     "metadata": {},
     "output_type": "execute_result"
    },
    {
     "data": {
      "text/plain": [
       "'success: content added from https://2017-2021.state.gov/united-states-welcomes-the-eus-acknowledgement-of-the-unacceptable-risks-posed-by-untrusted-5g-suppliers/'"
      ]
     },
     "execution_count": 153,
     "metadata": {},
     "output_type": "execute_result"
    },
    {
     "data": {
      "text/plain": [
       "'success: content added from https://2017-2021.state.gov/secretary-michael-r-pompeo-with-iain-dale-of-lbc-radio/'"
      ]
     },
     "execution_count": 153,
     "metadata": {},
     "output_type": "execute_result"
    },
    {
     "data": {
      "text/plain": [
       "'success: content added from https://2017-2021.state.gov/secretary-michael-r-pompeo-with-jayyab-abusafia-of-sky-news-arabia/'"
      ]
     },
     "execution_count": 153,
     "metadata": {},
     "output_type": "execute_result"
    },
    {
     "data": {
      "text/plain": [
       "'success: content added from https://2017-2021.state.gov/secretary-michael-r-pompeo-and-british-foreign-secretary-dominic-raab-discussion-on-the-future-of-the-special-relationship/'"
      ]
     },
     "execution_count": 153,
     "metadata": {},
     "output_type": "execute_result"
    },
    {
     "data": {
      "text/plain": [
       "'success: content added from https://2017-2021.state.gov/president-trump-initiates-a-new-chapter-in-trade-policy-by-signing-into-law-the-united-states-mexico-canada-agreement/'"
      ]
     },
     "execution_count": 153,
     "metadata": {},
     "output_type": "execute_result"
    },
    {
     "data": {
      "text/plain": [
       "'success: content added from https://2017-2021.state.gov/public-designation-of-thirteen-former-salvadoran-military-officials-due-to-involvement-in-gross-violations-of-human-rights/'"
      ]
     },
     "execution_count": 153,
     "metadata": {},
     "output_type": "execute_result"
    },
    {
     "data": {
      "text/plain": [
       "'success: content added from https://2017-2021.state.gov/secretary-michael-r-pompeo-remarks-to-traveling-press-2/'"
      ]
     },
     "execution_count": 153,
     "metadata": {},
     "output_type": "execute_result"
    },
    {
     "data": {
      "text/plain": [
       "'success: content added from https://2017-2021.state.gov/naurus-independence-day-2/'"
      ]
     },
     "execution_count": 153,
     "metadata": {},
     "output_type": "execute_result"
    },
    {
     "data": {
      "text/plain": [
       "'success: content added from https://2017-2021.state.gov/secretary-michael-r-pompeo-with-raymond-arroyo-of-ewtn/'"
      ]
     },
     "execution_count": 153,
     "metadata": {},
     "output_type": "execute_result"
    },
    {
     "data": {
      "text/plain": [
       "'success: content added from https://2017-2021.state.gov/secretary-michael-r-pompeo-with-ben-shapiro-of-the-ben-shapiro-show-2/'"
      ]
     },
     "execution_count": 153,
     "metadata": {},
     "output_type": "execute_result"
    },
    {
     "data": {
      "text/plain": [
       "'success: content added from https://2017-2021.state.gov/secretary-michael-r-pompeo-with-yonit-levi-of-channel-12-news/'"
      ]
     },
     "execution_count": 153,
     "metadata": {},
     "output_type": "execute_result"
    },
    {
     "data": {
      "text/plain": [
       "'success: content added from https://2017-2021.state.gov/secretary-michael-r-pompeo-with-barak-ravid-of-channel-13-news/'"
      ]
     },
     "execution_count": 153,
     "metadata": {},
     "output_type": "execute_result"
    },
    {
     "data": {
      "text/plain": [
       "'success: content added from https://2017-2021.state.gov/escalation-of-violence-in-yemen/'"
      ]
     },
     "execution_count": 153,
     "metadata": {},
     "output_type": "execute_result"
    },
    {
     "data": {
      "text/plain": [
       "'success: content added from https://2017-2021.state.gov/attacks-on-the-people-of-idlib/'"
      ]
     },
     "execution_count": 153,
     "metadata": {},
     "output_type": "execute_result"
    },
    {
     "data": {
      "text/plain": [
       "'success: content added from https://2017-2021.state.gov/additional-u-s-contribution-to-auschwitz-birkenau-foundation/'"
      ]
     },
     "execution_count": 153,
     "metadata": {},
     "output_type": "execute_result"
    },
    {
     "data": {
      "text/plain": [
       "'success: content added from https://2017-2021.state.gov/statement-by-secretary-michael-r-pompeo/'"
      ]
     },
     "execution_count": 153,
     "metadata": {},
     "output_type": "execute_result"
    },
    {
     "data": {
      "text/plain": [
       "'success: content added from https://2017-2021.state.gov/secretary-michael-r-pompeo-with-mary-louise-kelly-of-nprs-all-things-considered/'"
      ]
     },
     "execution_count": 153,
     "metadata": {},
     "output_type": "execute_result"
    },
    {
     "data": {
      "text/plain": [
       "'success: content added from https://2017-2021.state.gov/secretary-michael-r-pompeo-with-tony-perkins-of-washington-watch-with-tony-perkins/'"
      ]
     },
     "execution_count": 153,
     "metadata": {},
     "output_type": "execute_result"
    },
    {
     "data": {
      "text/plain": [
       "'success: content added from https://2017-2021.state.gov/australia-national-day-2/'"
      ]
     },
     "execution_count": 153,
     "metadata": {},
     "output_type": "execute_result"
    },
    {
     "data": {
      "text/plain": [
       "'success: content added from https://2017-2021.state.gov/celebrating-the-lunar-new-year-3/'"
      ]
     },
     "execution_count": 153,
     "metadata": {},
     "output_type": "execute_result"
    },
    {
     "data": {
      "text/plain": [
       "'success: content added from https://2017-2021.state.gov/mustafa-al-imam-sentenced-for-terrorist-attacks-in-benghazi-libya/'"
      ]
     },
     "execution_count": 153,
     "metadata": {},
     "output_type": "execute_result"
    },
    {
     "data": {
      "text/plain": [
       "'success: content added from https://2017-2021.state.gov/what-america-stands-for/'"
      ]
     },
     "execution_count": 153,
     "metadata": {},
     "output_type": "execute_result"
    },
    {
     "data": {
      "text/plain": [
       "'success: content added from https://2017-2021.state.gov/the-united-states-imposes-further-sanctions-on-irans-petrochemical-industry/'"
      ]
     },
     "execution_count": 153,
     "metadata": {},
     "output_type": "execute_result"
    },
    {
     "data": {
      "text/plain": [
       "'success: content added from https://2017-2021.state.gov/secretary-michael-r-pompeo-with-nora-gamez-torres-of-el-nuevo-herald-and-miami-herald/'"
      ]
     },
     "execution_count": 153,
     "metadata": {},
     "output_type": "execute_result"
    },
    {
     "data": {
      "text/plain": [
       "'success: content added from https://2017-2021.state.gov/secretary-michael-r-pompeo-with-preston-scott-of-the-morning-show-with-preston-scott-wfla-fm-tallahassee/'"
      ]
     },
     "execution_count": 153,
     "metadata": {},
     "output_type": "execute_result"
    },
    {
     "data": {
      "text/plain": [
       "'success: content added from https://2017-2021.state.gov/secretary-michael-r-pompeo-with-jack-harris-and-aaron-jacobson-of-am-tampa-bay-wfla-am-tampa/'"
      ]
     },
     "execution_count": 153,
     "metadata": {},
     "output_type": "execute_result"
    },
    {
     "data": {
      "text/plain": [
       "'success: content added from https://2017-2021.state.gov/secretary-michael-r-pompeo-with-bud-hedinger-of-good-morning-orlando-wfla-orlando/'"
      ]
     },
     "execution_count": 153,
     "metadata": {},
     "output_type": "execute_result"
    },
    {
     "data": {
      "text/plain": [
       "'success: content added from https://2017-2021.state.gov/secretary-michael-r-pompeo-with-greg-cassidy-of-the-bob-rose-show-with-greg-cassidy-wsky-fm-gainesville/'"
      ]
     },
     "execution_count": 153,
     "metadata": {},
     "output_type": "execute_result"
    },
    {
     "data": {
      "text/plain": [
       "'success: content added from https://2017-2021.state.gov/secretary-michael-r-pompeo-with-jimmy-cefalo-of-south-floridas-first-news-wiod-am-miami/'"
      ]
     },
     "execution_count": 153,
     "metadata": {},
     "output_type": "execute_result"
    },
    {
     "data": {
      "text/plain": [
       "'success: content added from https://2017-2021.state.gov/government-formation-in-lebanon/'"
      ]
     },
     "execution_count": 153,
     "metadata": {},
     "output_type": "execute_result"
    },
    {
     "data": {
      "text/plain": [
       "'success: content added from https://2017-2021.state.gov/expanding-americas-commitment-to-the-caribbean/'"
      ]
     },
     "execution_count": 153,
     "metadata": {},
     "output_type": "execute_result"
    },
    {
     "data": {
      "text/plain": [
       "'success: content added from https://2017-2021.state.gov/secretary-michael-r-pompeo-with-kevin-cirilli-of-bloomberg/'"
      ]
     },
     "execution_count": 153,
     "metadata": {},
     "output_type": "execute_result"
    },
    {
     "data": {
      "text/plain": [
       "'success: content added from https://2017-2021.state.gov/secretary-michael-r-pompeo-and-jamaican-prime-minister-andrew-holness-at-a-press-availability/'"
      ]
     },
     "execution_count": 153,
     "metadata": {},
     "output_type": "execute_result"
    },
    {
     "data": {
      "text/plain": [
       "'success: content added from https://2017-2021.state.gov/secretary-michael-r-pompeo-and-costa-rican-president-carlos-alvarado-at-a-press-availability/'"
      ]
     },
     "execution_count": 153,
     "metadata": {},
     "output_type": "execute_result"
    },
    {
     "data": {
      "text/plain": [
       "'success: content added from https://2017-2021.state.gov/the-united-states-continues-to-support-a-peaceful-democratic-transition-in-venezuela/'"
      ]
     },
     "execution_count": 153,
     "metadata": {},
     "output_type": "execute_result"
    },
    {
     "data": {
      "text/plain": [
       "'success: content added from https://2017-2021.state.gov/secretary-michael-r-pompeo-and-colombian-minister-of-defense-carlos-holmes-trujillo-at-colombian-national-police-counternarcotics-directorate-diran/'"
      ]
     },
     "execution_count": 153,
     "metadata": {},
     "output_type": "execute_result"
    },
    {
     "data": {
      "text/plain": [
       "'success: content added from https://2017-2021.state.gov/secretary-michael-r-pompeo-with-margarita-rojas-of-caracol-tv/'"
      ]
     },
     "execution_count": 153,
     "metadata": {},
     "output_type": "execute_result"
    },
    {
     "data": {
      "text/plain": [
       "'success: content added from https://2017-2021.state.gov/secretary-michael-r-pompeo-with-venezuelan-interim-president-juan-guaido/'"
      ]
     },
     "execution_count": 153,
     "metadata": {},
     "output_type": "execute_result"
    },
    {
     "data": {
      "text/plain": [
       "'success: content added from https://2017-2021.state.gov/secretary-michael-r-pompeo-at-the-opening-plenary-of-the-third-western-hemisphere-counterterrorism-ministerial/'"
      ]
     },
     "execution_count": 153,
     "metadata": {},
     "output_type": "execute_result"
    },
    {
     "data": {
      "text/plain": [
       "'success: content added from https://2017-2021.state.gov/secretary-michael-r-pompeo-and-colombian-president-ivan-duque-at-a-press-availability/'"
      ]
     },
     "execution_count": 153,
     "metadata": {},
     "output_type": "execute_result"
    },
    {
     "data": {
      "text/plain": [
       "'success: content added from https://2017-2021.state.gov/secretary-michael-r-pompeo-with-julio-sanchez-cristo-of-la-w-radio/'"
      ]
     },
     "execution_count": 153,
     "metadata": {},
     "output_type": "execute_result"
    },
    {
     "data": {
      "text/plain": [
       "'success: content added from https://2017-2021.state.gov/secretary-michael-r-pompeo-remarks-to-traveling-press/'"
      ]
     },
     "execution_count": 153,
     "metadata": {},
     "output_type": "execute_result"
    },
    {
     "data": {
      "text/plain": [
       "'success: content added from https://2017-2021.state.gov/securing-greater-religious-freedom-around-the-world/'"
      ]
     },
     "execution_count": 153,
     "metadata": {},
     "output_type": "execute_result"
    },
    {
     "data": {
      "text/plain": [
       "'success: content added from https://2017-2021.state.gov/the-oas-multilateralism-that-works/'"
      ]
     },
     "execution_count": 153,
     "metadata": {},
     "output_type": "execute_result"
    },
    {
     "data": {
      "text/plain": [
       "'success: content added from https://2017-2021.state.gov/secretary-michael-r-pompeo-with-tony-katz-of-tony-katz-today/'"
      ]
     },
     "execution_count": 153,
     "metadata": {},
     "output_type": "execute_result"
    },
    {
     "data": {
      "text/plain": [
       "'success: content added from https://2017-2021.state.gov/secretary-michael-r-pompeo-with-hugh-hewitt-of-the-hugh-hewitt-radio-show/'"
      ]
     },
     "execution_count": 153,
     "metadata": {},
     "output_type": "execute_result"
    },
    {
     "data": {
      "text/plain": [
       "'success: content added from https://2017-2021.state.gov/south-korea-is-an-ally-not-a-dependent/'"
      ]
     },
     "execution_count": 153,
     "metadata": {},
     "output_type": "execute_result"
    },
    {
     "data": {
      "text/plain": [
       "'success: content added from https://2017-2021.state.gov/u-s-senate-passage-of-the-united-states-mexico-canada-agreement/'"
      ]
     },
     "execution_count": 153,
     "metadata": {},
     "output_type": "execute_result"
    },
    {
     "data": {
      "text/plain": [
       "'success: content added from https://2017-2021.state.gov/secretary-michael-r-pompeo-with-bret-baier-of-fox-news-special-report/'"
      ]
     },
     "execution_count": 153,
     "metadata": {},
     "output_type": "execute_result"
    },
    {
     "data": {
      "text/plain": [
       "'success: content added from https://2017-2021.state.gov/silicon-valley-and-national-security/'"
      ]
     },
     "execution_count": 153,
     "metadata": {},
     "output_type": "execute_result"
    },
    {
     "data": {
      "text/plain": [
       "'success: content added from https://2017-2021.state.gov/the-restoration-of-deterrence-the-iranian-example/'"
      ]
     },
     "execution_count": 153,
     "metadata": {},
     "output_type": "execute_result"
    },
    {
     "data": {
      "text/plain": [
       "'success: content added from https://2017-2021.state.gov/the-united-states-takes-action-against-officials-of-the-former-maduro-regime-involved-in-obstructing-the-venezuelan-national-assembly/'"
      ]
     },
     "execution_count": 153,
     "metadata": {},
     "output_type": "execute_result"
    },
    {
     "data": {
      "text/plain": [
       "'success: content added from https://2017-2021.state.gov/the-10th-anniversary-of-the-haiti-earthquake/'"
      ]
     },
     "execution_count": 153,
     "metadata": {},
     "output_type": "execute_result"
    },
    {
     "data": {
      "text/plain": [
       "'success: content added from https://2017-2021.state.gov/our-deepest-condolences-on-the-passing-of-omans-sultan-qaboos/'"
      ]
     },
     "execution_count": 153,
     "metadata": {},
     "output_type": "execute_result"
    },
    {
     "data": {
      "text/plain": [
       "'success: content added from https://2017-2021.state.gov/on-taiwans-election/'"
      ]
     },
     "execution_count": 153,
     "metadata": {},
     "output_type": "execute_result"
    },
    {
     "data": {
      "text/plain": [
       "'success: content added from https://2017-2021.state.gov/freedom-first-in-2020/'"
      ]
     },
     "execution_count": 153,
     "metadata": {},
     "output_type": "execute_result"
    },
    {
     "data": {
      "text/plain": [
       "'success: content added from https://2017-2021.state.gov/intensified-sanctions-on-iran/'"
      ]
     },
     "execution_count": 153,
     "metadata": {},
     "output_type": "execute_result"
    },
    {
     "data": {
      "text/plain": [
       "'success: content added from https://2017-2021.state.gov/united-states-further-restricts-air-travel-to-cuba/'"
      ]
     },
     "execution_count": 153,
     "metadata": {},
     "output_type": "execute_result"
    },
    {
     "data": {
      "text/plain": [
       "'success: content added from https://2017-2021.state.gov/secretary-michael-r-pompeo-with-laura-ingraham-of-the-ingraham-angle-on-fox-news/'"
      ]
     },
     "execution_count": 153,
     "metadata": {},
     "output_type": "execute_result"
    },
    {
     "data": {
      "text/plain": [
       "'success: content added from https://2017-2021.state.gov/secretary-michael-r-pompeo-with-ben-shapiro-of-the-ben-shapiro-radio-show/'"
      ]
     },
     "execution_count": 153,
     "metadata": {},
     "output_type": "execute_result"
    },
    {
     "data": {
      "text/plain": [
       "'success: content added from https://2017-2021.state.gov/supporting-the-venezuelan-people/'"
      ]
     },
     "execution_count": 153,
     "metadata": {},
     "output_type": "execute_result"
    },
    {
     "data": {
      "text/plain": [
       "'success: content added from https://2017-2021.state.gov/secretary-michael-r-pompeo-at-reception-in-honor-of-greek-prime-minister-kyriakos-mitsotakis-and-mrs-mitsotakis/'"
      ]
     },
     "execution_count": 153,
     "metadata": {},
     "output_type": "execute_result"
    },
    {
     "data": {
      "text/plain": [
       "'success: content added from https://2017-2021.state.gov/ukrainian-airlines-flight-ps-752/'"
      ]
     },
     "execution_count": 153,
     "metadata": {},
     "output_type": "execute_result"
    },
    {
     "data": {
      "text/plain": [
       "'success: content added from https://2017-2021.state.gov/treasury-sanctions-first-vice-president-of-south-sudan-taban-deng-gai/'"
      ]
     },
     "execution_count": 153,
     "metadata": {},
     "output_type": "execute_result"
    },
    {
     "data": {
      "text/plain": [
       "'success: content added from https://2017-2021.state.gov/secretary-michael-r-pompeo-remarks-to-the-press-4/'"
      ]
     },
     "execution_count": 153,
     "metadata": {},
     "output_type": "execute_result"
    },
    {
     "data": {
      "text/plain": [
       "'success: content added from https://2017-2021.state.gov/the-united-states-congratulates-interim-president-juan-guaido-on-his-re-election-as-president-of-the-national-assembly/'"
      ]
     },
     "execution_count": 153,
     "metadata": {},
     "output_type": "execute_result"
    },
    {
     "data": {
      "text/plain": [
       "'success: content added from https://2017-2021.state.gov/secretary-michael-r-pompeo-with-margaret-brennan-of-cbs-face-the-nation-2/'"
      ]
     },
     "execution_count": 153,
     "metadata": {},
     "output_type": "execute_result"
    },
    {
     "data": {
      "text/plain": [
       "'success: content added from https://2017-2021.state.gov/secretary-michael-r-pompeo-with-chuck-todd-of-nbc-meet-the-press/'"
      ]
     },
     "execution_count": 153,
     "metadata": {},
     "output_type": "execute_result"
    },
    {
     "data": {
      "text/plain": [
       "'success: content added from https://2017-2021.state.gov/secretary-michael-r-pompeo-with-maria-bartiromo-of-fox-sunday-morning-futures/'"
      ]
     },
     "execution_count": 153,
     "metadata": {},
     "output_type": "execute_result"
    },
    {
     "data": {
      "text/plain": [
       "'success: content added from https://2017-2021.state.gov/secretary-michael-r-pompeo-with-jake-tapper-of-cnn-state-of-the-union/'"
      ]
     },
     "execution_count": 153,
     "metadata": {},
     "output_type": "execute_result"
    },
    {
     "data": {
      "text/plain": [
       "'success: content added from https://2017-2021.state.gov/secretary-michael-r-pompeo-with-george-stephanopoulos-of-abc-this-week/'"
      ]
     },
     "execution_count": 153,
     "metadata": {},
     "output_type": "execute_result"
    },
    {
     "data": {
      "text/plain": [
       "'success: content added from https://2017-2021.state.gov/secretary-michael-r-pompeo-with-chris-wallace-of-fox-news-sunday-2/'"
      ]
     },
     "execution_count": 153,
     "metadata": {},
     "output_type": "execute_result"
    },
    {
     "data": {
      "text/plain": [
       "'success: content added from https://2017-2021.state.gov/secretary-michael-r-pompeo-with-sean-hannity-of-the-sean-hannity-show/'"
      ]
     },
     "execution_count": 153,
     "metadata": {},
     "output_type": "execute_result"
    },
    {
     "data": {
      "text/plain": [
       "'success: content added from https://2017-2021.state.gov/secretary-michael-r-pompeo-with-john-berman-of-cnn-new-day/'"
      ]
     },
     "execution_count": 153,
     "metadata": {},
     "output_type": "execute_result"
    },
    {
     "data": {
      "text/plain": [
       "'success: content added from https://2017-2021.state.gov/secretary-michael-r-pompeo-with-steve-doocy-ainsley-earhardt-and-brian-kilmeade-of-fox-and-friends/'"
      ]
     },
     "execution_count": 153,
     "metadata": {},
     "output_type": "execute_result"
    },
    {
     "data": {
      "text/plain": [
       "'success: content added from https://2017-2021.state.gov/public-designation-of-leopoldo-cintra-frias-due-to-involvement-in-gross-violations-of-human-rights/'"
      ]
     },
     "execution_count": 153,
     "metadata": {},
     "output_type": "execute_result"
    },
    {
     "data": {
      "text/plain": [
       "'success: content added from https://2017-2021.state.gov/myanmars-independence-day/'"
      ]
     },
     "execution_count": 153,
     "metadata": {},
     "output_type": "execute_result"
    },
    {
     "data": {
      "text/plain": [
       "'success: content added from https://2017-2021.state.gov/secretary-michael-r-pompeo-with-major-garrett-of-cbs-evening-news/'"
      ]
     },
     "execution_count": 153,
     "metadata": {},
     "output_type": "execute_result"
    },
    {
     "data": {
      "text/plain": [
       "'success: content added from https://2017-2021.state.gov/secretary-michael-r-pompeo-with-mike-emanuel-of-fox-news-special-report/'"
      ]
     },
     "execution_count": 153,
     "metadata": {},
     "output_type": "execute_result"
    },
    {
     "data": {
      "text/plain": [
       "'success: content added from https://2017-2021.state.gov/sudan-national-day-2/'"
      ]
     },
     "execution_count": 153,
     "metadata": {},
     "output_type": "execute_result"
    },
    {
     "data": {
      "text/plain": [
       "'success: content added from https://2017-2021.state.gov/haiti-independence-day/'"
      ]
     },
     "execution_count": 153,
     "metadata": {},
     "output_type": "execute_result"
    },
    {
     "data": {
      "text/plain": [
       "'success: content added from https://2017-2021.state.gov/secretary-michael-r-pompeo-with-pete-hegseth-rachel-campos-duffy-and-dean-cain-of-fox-and-friends/'"
      ]
     },
     "execution_count": 153,
     "metadata": {},
     "output_type": "execute_result"
    },
    {
     "data": {
      "text/plain": [
       "'success: content added from https://2017-2021.state.gov/secretary-michael-r-pompeo-with-dillon-burroughs-and-joe-kerr-of-a-view-from-the-wall-on-csn-radio/'"
      ]
     },
     "execution_count": 153,
     "metadata": {},
     "output_type": "execute_result"
    },
    {
     "data": {
      "text/plain": [
       "'success: content added from https://2017-2021.state.gov/russian-federations-and-chinas-veto-of-unscr-2449-aid-to-syrian-refugees/'"
      ]
     },
     "execution_count": 153,
     "metadata": {},
     "output_type": "execute_result"
    },
    {
     "data": {
      "text/plain": [
       "'success: content added from https://2017-2021.state.gov/passage-of-the-caesar-syria-civilian-protection-act-of-2019/'"
      ]
     },
     "execution_count": 153,
     "metadata": {},
     "output_type": "execute_result"
    },
    {
     "data": {
      "text/plain": [
       "'success: content added from https://2017-2021.state.gov/the-international-criminal-court-unfairly-targets-israel/'"
      ]
     },
     "execution_count": 153,
     "metadata": {},
     "output_type": "execute_result"
    },
    {
     "data": {
      "text/plain": [
       "'success: content added from https://2017-2021.state.gov/united-states-sanctions-five-malian-individuals/'"
      ]
     },
     "execution_count": 153,
     "metadata": {},
     "output_type": "execute_result"
    },
    {
     "data": {
      "text/plain": [
       "'success: content added from https://2017-2021.state.gov/public-designation-due-to-involvement-in-significant-corruption-of-honduran-congressman-oscar-ramon-najera/'"
      ]
     },
     "execution_count": 153,
     "metadata": {},
     "output_type": "execute_result"
    },
    {
     "data": {
      "text/plain": [
       "'success: content added from https://2017-2021.state.gov/united-states-takes-action-against-violators-of-religious-freedom/'"
      ]
     },
     "execution_count": 153,
     "metadata": {},
     "output_type": "execute_result"
    },
    {
     "data": {
      "text/plain": [
       "'success: content added from https://2017-2021.state.gov/milestone-marked-by-u-s-house-of-representatives-passage-of-the-united-states-mexico-canada-agreement/'"
      ]
     },
     "execution_count": 153,
     "metadata": {},
     "output_type": "execute_result"
    },
    {
     "data": {
      "text/plain": [
       "'success: content added from https://2017-2021.state.gov/human-rights-and-the-iranian-regime/'"
      ]
     },
     "execution_count": 153,
     "metadata": {},
     "output_type": "execute_result"
    },
    {
     "data": {
      "text/plain": [
       "'success: content added from https://2017-2021.state.gov/secretary-michael-r-pompeo-secretary-of-defense-mark-t-esper-minister-of-external-affairs-subrahmanyam-jaishankar-and-indian-minister-of-defense-shri-rajnath-singh-at-a-press-availability/'"
      ]
     },
     "execution_count": 153,
     "metadata": {},
     "output_type": "execute_result"
    },
    {
     "data": {
      "text/plain": [
       "'success: content added from https://2017-2021.state.gov/bhutan-national-day-3/'"
      ]
     },
     "execution_count": 153,
     "metadata": {},
     "output_type": "execute_result"
    },
    {
     "data": {
      "text/plain": [
       "'success: content added from https://2017-2021.state.gov/completion-of-the-bougainville-referendum/'"
      ]
     },
     "execution_count": 153,
     "metadata": {},
     "output_type": "execute_result"
    },
    {
     "data": {
      "text/plain": [
       "'success: content added from https://2017-2021.state.gov/sanctions-against-south-sudan-peace-process-spoilers/'"
      ]
     },
     "execution_count": 153,
     "metadata": {},
     "output_type": "execute_result"
    },
    {
     "data": {
      "text/plain": [
       "'success: content added from https://2017-2021.state.gov/kazakhstans-independence-day-3/'"
      ]
     },
     "execution_count": 153,
     "metadata": {},
     "output_type": "execute_result"
    },
    {
     "data": {
      "text/plain": [
       "'success: content added from https://2017-2021.state.gov/on-attacks-by-irans-proxies-in-iraq/'"
      ]
     },
     "execution_count": 153,
     "metadata": {},
     "output_type": "execute_result"
    },
    {
     "data": {
      "text/plain": [
       "'success: content added from https://2017-2021.state.gov/u-s-designates-lebanese-businessmen-who-have-supported-hizballah/'"
      ]
     },
     "execution_count": 153,
     "metadata": {},
     "output_type": "execute_result"
    },
    {
     "data": {
      "text/plain": [
       "'success: content added from https://2017-2021.state.gov/the-republic-of-kenyas-national-day-2/'"
      ]
     },
     "execution_count": 153,
     "metadata": {},
     "output_type": "execute_result"
    },
    {
     "data": {
      "text/plain": [
       "'success: content added from https://2017-2021.state.gov/the-united-states-takes-action-against-the-ortega-regime-in-nicaragua/'"
      ]
     },
     "execution_count": 153,
     "metadata": {},
     "output_type": "execute_result"
    },
    {
     "data": {
      "text/plain": [
       "'success: content added from https://2017-2021.state.gov/visa-restrictions-on-south-sudan-peace-process-spoilers/'"
      ]
     },
     "execution_count": 153,
     "metadata": {},
     "output_type": "execute_result"
    },
    {
     "data": {
      "text/plain": [
       "'success: content added from https://2017-2021.state.gov/on-the-united-states-mexico-canada-agreement/'"
      ]
     },
     "execution_count": 153,
     "metadata": {},
     "output_type": "execute_result"
    },
    {
     "data": {
      "text/plain": [
       "'success: content added from https://2017-2021.state.gov/united-states-designates-key-iranian-shipping-and-aviation-entities/'"
      ]
     },
     "execution_count": 153,
     "metadata": {},
     "output_type": "execute_result"
    },
    {
     "data": {
      "text/plain": [
       "'success: content added from https://2017-2021.state.gov/secretary-michael-r-pompeo-remarks-to-the-press-3/'"
      ]
     },
     "execution_count": 153,
     "metadata": {},
     "output_type": "execute_result"
    },
    {
     "data": {
      "text/plain": [
       "'success: content added from https://2017-2021.state.gov/secretary-michael-r-pompeo-and-russian-foreign-minister-sergey-lavrov-at-a-press-availability/'"
      ]
     },
     "execution_count": 153,
     "metadata": {},
     "output_type": "execute_result"
    },
    {
     "data": {
      "text/plain": [
       "'success: content added from https://2017-2021.state.gov/united-states-takes-action-against-corruption-and-serious-human-rights-abuse/'"
      ]
     },
     "execution_count": 153,
     "metadata": {},
     "output_type": "execute_result"
    },
    {
     "data": {
      "text/plain": [
       "'success: content added from https://2017-2021.state.gov/international-human-rights-day-2/'"
      ]
     },
     "execution_count": 153,
     "metadata": {},
     "output_type": "execute_result"
    },
    {
     "data": {
      "text/plain": [
       "'success: content added from https://2017-2021.state.gov/public-designation-due-to-involvement-in-significant-corruption-of-former-guatemalan-minister-alejandro-sinibaldi/'"
      ]
     },
     "execution_count": 153,
     "metadata": {},
     "output_type": "execute_result"
    },
    {
     "data": {
      "text/plain": [
       "'success: content added from https://2017-2021.state.gov/the-united-states-takes-action-against-the-movement-of-venezuelan-oil-to-cuba/'"
      ]
     },
     "execution_count": 153,
     "metadata": {},
     "output_type": "execute_result"
    },
    {
     "data": {
      "text/plain": [
       "'success: content added from https://2017-2021.state.gov/international-day-of-persons-with-disabilities-2/'"
      ]
     },
     "execution_count": 153,
     "metadata": {},
     "output_type": "execute_result"
    },
    {
     "data": {
      "text/plain": [
       "'success: content added from https://2017-2021.state.gov/diplomatic-realism-restraint-and-respect-in-latin-america/'"
      ]
     },
     "execution_count": 153,
     "metadata": {},
     "output_type": "execute_result"
    },
    {
     "data": {
      "text/plain": [
       "'success: content added from https://2017-2021.state.gov/central-african-republic-national-day-statement/'"
      ]
     },
     "execution_count": 153,
     "metadata": {},
     "output_type": "execute_result"
    },
    {
     "data": {
      "text/plain": [
       "'success: content added from https://2017-2021.state.gov/secretary-michael-r-pompeo-with-steve-doocy-brian-kilmeade-and-ainsley-earhardt-of-fox-friends-2/'"
      ]
     },
     "execution_count": 153,
     "metadata": {},
     "output_type": "execute_result"
    },
    {
     "data": {
      "text/plain": [
       "'success: content added from https://2017-2021.state.gov/europe-must-put-security-first-with-5g/'"
      ]
     },
     "execution_count": 153,
     "metadata": {},
     "output_type": "execute_result"
    },
    {
     "data": {
      "text/plain": [
       "'success: content added from https://2017-2021.state.gov/on-uruguays-presidential-elections/'"
      ]
     },
     "execution_count": 153,
     "metadata": {},
     "output_type": "execute_result"
    },
    {
     "data": {
      "text/plain": [
       "'success: content added from https://2017-2021.state.gov/on-the-new-eu-leadership-assumption-of-office/'"
      ]
     },
     "execution_count": 153,
     "metadata": {},
     "output_type": "execute_result"
    },
    {
     "data": {
      "text/plain": [
       "'success: content added from https://2017-2021.state.gov/romania-national-day/'"
      ]
     },
     "execution_count": 153,
     "metadata": {},
     "output_type": "execute_result"
    },
    {
     "data": {
      "text/plain": [
       "'success: content added from https://2017-2021.state.gov/lao-peoples-democratic-republics-national-day/'"
      ]
     },
     "execution_count": 153,
     "metadata": {},
     "output_type": "execute_result"
    },
    {
     "data": {
      "text/plain": [
       "'success: content added from https://2017-2021.state.gov/on-the-passing-of-former-prime-minister-yasuhiro-nakasone/'"
      ]
     },
     "execution_count": 153,
     "metadata": {},
     "output_type": "execute_result"
    },
    {
     "data": {
      "text/plain": [
       "'success: content added from https://2017-2021.state.gov/barbados-independence-day-3/'"
      ]
     },
     "execution_count": 153,
     "metadata": {},
     "output_type": "execute_result"
    },
    {
     "data": {
      "text/plain": [
       "'success: content added from https://2017-2021.state.gov/mauritania-independence-day-message/'"
      ]
     },
     "execution_count": 153,
     "metadata": {},
     "output_type": "execute_result"
    },
    {
     "data": {
      "text/plain": [
       "'success: content added from https://2017-2021.state.gov/albania-national-day-3/'"
      ]
     },
     "execution_count": 153,
     "metadata": {},
     "output_type": "execute_result"
    },
    {
     "data": {
      "text/plain": [
       "'success: content added from https://2017-2021.state.gov/secretary-michael-r-pompeo-with-ben-shapiro-of-the-ben-shapiro-show/'"
      ]
     },
     "execution_count": 153,
     "metadata": {},
     "output_type": "execute_result"
    },
    {
     "data": {
      "text/plain": [
       "'success: content added from https://2017-2021.state.gov/secretary-michael-r-pompeo-remarks-to-the-press-2/'"
      ]
     },
     "execution_count": 153,
     "metadata": {},
     "output_type": "execute_result"
    },
    {
     "data": {
      "text/plain": [
       "'success: content added from https://2017-2021.state.gov/suriname-independence-day-3/'"
      ]
     },
     "execution_count": 153,
     "metadata": {},
     "output_type": "execute_result"
    },
    {
     "data": {
      "text/plain": [
       "'success: content added from https://2017-2021.state.gov/on-international-day-for-the-elimination-of-violence-against-women/'"
      ]
     },
     "execution_count": 153,
     "metadata": {},
     "output_type": "execute_result"
    },
    {
     "data": {
      "text/plain": [
       "'success: content added from https://2017-2021.state.gov/bosnia-and-herzegovina-national-statehood-day/'"
      ]
     },
     "execution_count": 153,
     "metadata": {},
     "output_type": "execute_result"
    },
    {
     "data": {
      "text/plain": [
       "'success: content added from https://2017-2021.state.gov/secretary-michael-r-pompeo-with-arash-aalaei-of-iran-international/'"
      ]
     },
     "execution_count": 153,
     "metadata": {},
     "output_type": "execute_result"
    },
    {
     "data": {
      "text/plain": [
       "'success: content added from https://2017-2021.state.gov/cuban-government-allegations-of-political-interference-against-u-s-charge-daffaires/'"
      ]
     },
     "execution_count": 153,
     "metadata": {},
     "output_type": "execute_result"
    },
    {
     "data": {
      "text/plain": [
       "'success: content added from https://2017-2021.state.gov/the-united-states-holds-iranian-officials-accountable-for-crackdown-on-protestors/'"
      ]
     },
     "execution_count": 153,
     "metadata": {},
     "output_type": "execute_result"
    },
    {
     "data": {
      "text/plain": [
       "'success: content added from https://2017-2021.state.gov/lebanon-national-day-3/'"
      ]
     },
     "execution_count": 153,
     "metadata": {},
     "output_type": "execute_result"
    },
    {
     "data": {
      "text/plain": [
       "'success: content added from https://2017-2021.state.gov/congratulations-to-new-canadian-foreign-minister-and-cabinet/'"
      ]
     },
     "execution_count": 153,
     "metadata": {},
     "output_type": "execute_result"
    },
    {
     "data": {
      "text/plain": [
       "'success: content added from https://2017-2021.state.gov/the-united-states-supports-the-transitional-government-in-bolivia-to-achieve-free-fair-and-inclusive-elections/'"
      ]
     },
     "execution_count": 153,
     "metadata": {},
     "output_type": "execute_result"
    },
    {
     "data": {
      "text/plain": [
       "'success: content added from https://2017-2021.state.gov/honoring-the-heroes-in-the-1979-attack-on-the-u-s-embassy-islamabad/'"
      ]
     },
     "execution_count": 153,
     "metadata": {},
     "output_type": "execute_result"
    },
    {
     "data": {
      "text/plain": [
       "'success: content added from https://2017-2021.state.gov/secretary-michael-r-pompeo-at-a-press-availability-2/'"
      ]
     },
     "execution_count": 153,
     "metadata": {},
     "output_type": "execute_result"
    },
    {
     "data": {
      "text/plain": [
       "'success: content added from https://2017-2021.state.gov/secretary-michael-r-pompeo-and-nato-secretary-general-jens-stoltenberg-before-their-meeting/'"
      ]
     },
     "execution_count": 153,
     "metadata": {},
     "output_type": "execute_result"
    },
    {
     "data": {
      "text/plain": [
       "'success: content added from https://2017-2021.state.gov/belarus-parliamentary-elections/'"
      ]
     },
     "execution_count": 153,
     "metadata": {},
     "output_type": "execute_result"
    },
    {
     "data": {
      "text/plain": [
       "'success: content added from https://2017-2021.state.gov/celebrating-the-release-of-american-and-australian-hostages/'"
      ]
     },
     "execution_count": 153,
     "metadata": {},
     "output_type": "execute_result"
    },
    {
     "data": {
      "text/plain": [
       "'success: content added from https://2017-2021.state.gov/monaco-national-day-2/'"
      ]
     },
     "execution_count": 153,
     "metadata": {},
     "output_type": "execute_result"
    },
    {
     "data": {
      "text/plain": [
       "'success: content added from https://2017-2021.state.gov/secretary-michael-r-pompeo-remarks-to-the-press/'"
      ]
     },
     "execution_count": 153,
     "metadata": {},
     "output_type": "execute_result"
    },
    {
     "data": {
      "text/plain": [
       "'success: content added from https://2017-2021.state.gov/u-s-designates-isis-facilitators-in-advance-of-counter-isis-finance-group-meeting/'"
      ]
     },
     "execution_count": 153,
     "metadata": {},
     "output_type": "execute_result"
    },
    {
     "data": {
      "text/plain": [
       "'success: content added from https://2017-2021.state.gov/public-designation-due-to-involvement-in-significant-corruption-of-kenyas-former-attorney-general-amos-sitswila-wako/'"
      ]
     },
     "execution_count": 153,
     "metadata": {},
     "output_type": "execute_result"
    },
    {
     "data": {
      "text/plain": [
       "'success: content added from https://2017-2021.state.gov/on-sri-lankas-elections/'"
      ]
     },
     "execution_count": 153,
     "metadata": {},
     "output_type": "execute_result"
    },
    {
     "data": {
      "text/plain": [
       "'success: content added from https://2017-2021.state.gov/latvia-national-day'"
      ]
     },
     "execution_count": 153,
     "metadata": {},
     "output_type": "execute_result"
    },
    {
     "data": {
      "text/plain": [
       "'success: content added from https://2017-2021.state.gov/public-designation-of-julio-cesar-gandarilla-bermejo-under-section-7031c-of-the-fy-2019-department-of-state-foreign-operations-list/'"
      ]
     },
     "execution_count": 153,
     "metadata": {},
     "output_type": "execute_result"
    },
    {
     "data": {
      "text/plain": [
       "'success: content added from https://2017-2021.state.gov/state-department-updates-the-cuba-restricted-list-4/'"
      ]
     },
     "execution_count": 153,
     "metadata": {},
     "output_type": "execute_result"
    },
    {
     "data": {
      "text/plain": [
       "'success: content added from https://2017-2021.state.gov/in-tribute-to-human-freedom/'"
      ]
     },
     "execution_count": 153,
     "metadata": {},
     "output_type": "execute_result"
    },
    {
     "data": {
      "text/plain": [
       "'success: content added from https://2017-2021.state.gov/secretary-michael-r-pompeo-at-the-global-coalition-to-defeat-isis-small-group-ministerial/'"
      ]
     },
     "execution_count": 153,
     "metadata": {},
     "output_type": "execute_result"
    },
    {
     "data": {
      "text/plain": [
       "'success: content added from https://2017-2021.state.gov/congratulations-to-bolivian-senator-anez-for-assuming-the-role-of-interim-president/'"
      ]
     },
     "execution_count": 153,
     "metadata": {},
     "output_type": "execute_result"
    },
    {
     "data": {
      "text/plain": [
       "'success: content added from https://2017-2021.state.gov/congratulations-on-mauritius-elections/'"
      ]
     },
     "execution_count": 153,
     "metadata": {},
     "output_type": "execute_result"
    },
    {
     "data": {
      "text/plain": [
       "'success: content added from https://2017-2021.state.gov/secretary-michael-r-pompeo-with-hugh-hewitt-of-the-hugh-hewitt-show/'"
      ]
     },
     "execution_count": 153,
     "metadata": {},
     "output_type": "execute_result"
    },
    {
     "data": {
      "text/plain": [
       "'success: content added from https://2017-2021.state.gov/lessons-from-a-lifetime-of-service/'"
      ]
     },
     "execution_count": 153,
     "metadata": {},
     "output_type": "execute_result"
    },
    {
     "data": {
      "text/plain": [
       "'success: content added from https://2017-2021.state.gov/angola-national-day-3/'"
      ]
     },
     "execution_count": 153,
     "metadata": {},
     "output_type": "execute_result"
    },
    {
     "data": {
      "text/plain": [
       "'success: content added from https://2017-2021.state.gov/secretary-michael-r-pompeo-with-tessa-spencer-of-wtat-tv/'"
      ]
     },
     "execution_count": 153,
     "metadata": {},
     "output_type": "execute_result"
    },
    {
     "data": {
      "text/plain": [
       "'success: content added from https://2017-2021.state.gov/secretary-michael-r-pompeo-with-michal-higdon-of-wcsc-tv/'"
      ]
     },
     "execution_count": 153,
     "metadata": {},
     "output_type": "execute_result"
    },
    {
     "data": {
      "text/plain": [
       "'success: content added from https://2017-2021.state.gov/u-s-response-to-oas-report-on-new-elections-in-bolivia/'"
      ]
     },
     "execution_count": 153,
     "metadata": {},
     "output_type": "execute_result"
    },
    {
     "data": {
      "text/plain": [
       "'success: content added from https://2017-2021.state.gov/iaea-raises-deeply-troubling-issues-at-special-meeting-of-the-board-of-governors/'"
      ]
     },
     "execution_count": 153,
     "metadata": {},
     "output_type": "execute_result"
    },
    {
     "data": {
      "text/plain": [
       "'success: content added from https://2017-2021.state.gov/secretary-michael-r-pompeo-at-the-unveiling-of-the-ronald-reagan-statue-in-berlin-germany/'"
      ]
     },
     "execution_count": 153,
     "metadata": {},
     "output_type": "execute_result"
    },
    {
     "data": {
      "text/plain": [
       "'success: content added from https://2017-2021.state.gov/secretary-michael-r-pompeo-and-german-chancellor-angela-merkel-before-their-meeting/'"
      ]
     },
     "execution_count": 153,
     "metadata": {},
     "output_type": "execute_result"
    },
    {
     "data": {
      "text/plain": [
       "'success: content added from https://2017-2021.state.gov/the-lessons-of-1989-freedom-and-our-future/'"
      ]
     },
     "execution_count": 153,
     "metadata": {},
     "output_type": "execute_result"
    },
    {
     "data": {
      "text/plain": [
       "'success: content added from https://2017-2021.state.gov/further-financial-sanctions-to-address-human-rights-abuses-and-corruption-in-nicaragua/'"
      ]
     },
     "execution_count": 153,
     "metadata": {},
     "output_type": "execute_result"
    },
    {
     "data": {
      "text/plain": [
       "'success: content added from https://2017-2021.state.gov/secretary-michael-r-pompeo-and-german-foreign-minister-heiko-maas-at-a-press-availability/'"
      ]
     },
     "execution_count": 153,
     "metadata": {},
     "output_type": "execute_result"
    },
    {
     "data": {
      "text/plain": [
       "'success: content added from https://2017-2021.state.gov/cambodias-national-day/'"
      ]
     },
     "execution_count": 153,
     "metadata": {},
     "output_type": "execute_result"
    },
    {
     "data": {
      "text/plain": [
       "'success: content added from https://2017-2021.state.gov/the-world-must-address-irans-nuclear-escalation/'"
      ]
     },
     "execution_count": 153,
     "metadata": {},
     "output_type": "execute_result"
    },
    {
     "data": {
      "text/plain": [
       "'success: content added from https://2017-2021.state.gov/the-united-states-takes-action-against-former-maduro-regime-officials-and-strengthens-international-efforts/'"
      ]
     },
     "execution_count": 153,
     "metadata": {},
     "output_type": "execute_result"
    },
    {
     "data": {
      "text/plain": [
       "'success: content added from https://2017-2021.state.gov/harassment-of-the-family-members-of-uighur-activists-and-survivors-in-xinjiang-china/'"
      ]
     },
     "execution_count": 153,
     "metadata": {},
     "output_type": "execute_result"
    },
    {
     "data": {
      "text/plain": [
       "'success: content added from https://2017-2021.state.gov/secretary-of-state-michael-r-pompeo-with-lou-dobbs-of-fox-business/'"
      ]
     },
     "execution_count": 153,
     "metadata": {},
     "output_type": "execute_result"
    },
    {
     "data": {
      "text/plain": [
       "'success: content added from https://2017-2021.state.gov/at-the-40th-anniversary-of-the-u-s-embassy-takeover-in-tehran/'"
      ]
     },
     "execution_count": 153,
     "metadata": {},
     "output_type": "execute_result"
    },
    {
     "data": {
      "text/plain": [
       "'success: content added from https://2017-2021.state.gov/on-the-u-s-withdrawal-from-the-paris-agreement/'"
      ]
     },
     "execution_count": 153,
     "metadata": {},
     "output_type": "execute_result"
    },
    {
     "data": {
      "text/plain": [
       "'success: content added from https://2017-2021.state.gov/on-the-40th-anniversary-of-the-u-s-embassy-takeover-in-tehran/'"
      ]
     },
     "execution_count": 153,
     "metadata": {},
     "output_type": "execute_result"
    },
    {
     "data": {
      "text/plain": [
       "'success: content added from https://2017-2021.state.gov/secretary-michael-r-pompeo-with-pete-mundo-of-kcmo-talk-radio/'"
      ]
     },
     "execution_count": 153,
     "metadata": {},
     "output_type": "execute_result"
    },
    {
     "data": {
      "text/plain": [
       "'success: content added from https://2017-2021.state.gov/dominica-independence-day-2/'"
      ]
     },
     "execution_count": 153,
     "metadata": {},
     "output_type": "execute_result"
    },
    {
     "data": {
      "text/plain": [
       "'success: content added from https://2017-2021.state.gov/presidential-determination-on-refugee-admissions-for-fiscal-year-2020/'"
      ]
     },
     "execution_count": 153,
     "metadata": {},
     "output_type": "execute_result"
    },
    {
     "data": {
      "text/plain": [
       "'success: content added from https://2017-2021.state.gov/panamas-independence-day-3/'"
      ]
     },
     "execution_count": 153,
     "metadata": {},
     "output_type": "execute_result"
    },
    {
     "data": {
      "text/plain": [
       "'success: content added from https://2017-2021.state.gov/antigua-and-barbuda-national-day/'"
      ]
     },
     "execution_count": 153,
     "metadata": {},
     "output_type": "execute_result"
    },
    {
     "data": {
      "text/plain": [
       "'success: content added from https://2017-2021.state.gov/secretary-michael-r-pompeo-with-rick-everett-of-mid-america-network/'"
      ]
     },
     "execution_count": 153,
     "metadata": {},
     "output_type": "execute_result"
    },
    {
     "data": {
      "text/plain": [
       "'success: content added from https://2017-2021.state.gov/situation-in-iraq/'"
      ]
     },
     "execution_count": 153,
     "metadata": {},
     "output_type": "execute_result"
    },
    {
     "data": {
      "text/plain": [
       "'success: content added from https://2017-2021.state.gov/secretary-pompeos-travel-to-germany/'"
      ]
     },
     "execution_count": 153,
     "metadata": {},
     "output_type": "execute_result"
    },
    {
     "data": {
      "text/plain": [
       "'success: content added from https://2017-2021.state.gov/secretary-michael-r-pompeo-at-the-20th-anniversary-of-the-award-for-corporate-excellence-ace-ceremony/'"
      ]
     },
     "execution_count": 153,
     "metadata": {},
     "output_type": "execute_result"
    },
    {
     "data": {
      "text/plain": [
       "'success: content added from https://2017-2021.state.gov/on-the-cancellation-of-apec-leaders-week-meetings-and-cop25-in-chile/'"
      ]
     },
     "execution_count": 153,
     "metadata": {},
     "output_type": "execute_result"
    },
    {
     "data": {
      "text/plain": [
       "'success: content added from https://2017-2021.state.gov/tongas-national-day/'"
      ]
     },
     "execution_count": 153,
     "metadata": {},
     "output_type": "execute_result"
    },
    {
     "data": {
      "text/plain": [
       "'success: content added from https://2017-2021.state.gov/the-federated-states-of-micronesias-national-day/'"
      ]
     },
     "execution_count": 153,
     "metadata": {},
     "output_type": "execute_result"
    },
    {
     "data": {
      "text/plain": [
       "'success: content added from https://2017-2021.state.gov/award-for-corporate-excellence-ace-ceremony/'"
      ]
     },
     "execution_count": 153,
     "metadata": {},
     "output_type": "execute_result"
    },
    {
     "data": {
      "text/plain": [
       "'success: content added from https://2017-2021.state.gov/secretary-michael-r-pompeo-with-martha-maccallum-of-fox-news/'"
      ]
     },
     "execution_count": 153,
     "metadata": {},
     "output_type": "execute_result"
    },
    {
     "data": {
      "text/plain": [
       "'success: content added from https://2017-2021.state.gov/the-china-challenge/'"
      ]
     },
     "execution_count": 153,
     "metadata": {},
     "output_type": "execute_result"
    },
    {
     "data": {
      "text/plain": [
       "'success: content added from https://2017-2021.state.gov/u-s-welcomes-fatf-measures-to-protect-international-financial-system-from-iranian-threats/'"
      ]
     },
     "execution_count": 153,
     "metadata": {},
     "output_type": "execute_result"
    },
    {
     "data": {
      "text/plain": [
       "'success: content added from https://2017-2021.state.gov/election-of-rafael-grossi-as-the-next-iaea-director-general/'"
      ]
     },
     "execution_count": 153,
     "metadata": {},
     "output_type": "execute_result"
    },
    {
     "data": {
      "text/plain": [
       "'success: content added from https://2017-2021.state.gov/political-situation-in-lebanon/'"
      ]
     },
     "execution_count": 153,
     "metadata": {},
     "output_type": "execute_result"
    },
    {
     "data": {
      "text/plain": [
       "'success: content added from https://2017-2021.state.gov/turkey-national-day-2/'"
      ]
     },
     "execution_count": 153,
     "metadata": {},
     "output_type": "execute_result"
    },
    {
     "data": {
      "text/plain": [
       "'success: content added from https://2017-2021.state.gov/meeting-of-the-presidents-interagency-task-force-to-monitor-and-combat-trafficking-in-persons-2/'"
      ]
     },
     "execution_count": 153,
     "metadata": {},
     "output_type": "execute_result"
    },
    {
     "data": {
      "text/plain": [
       "'success: content added from https://2017-2021.state.gov/on-argentinas-presidential-elections/'"
      ]
     },
     "execution_count": 153,
     "metadata": {},
     "output_type": "execute_result"
    },
    {
     "data": {
      "text/plain": [
       "'success: content added from https://2017-2021.state.gov/secretary-michael-r-pompeo-with-steve-doocy-brian-kilmeade-and-ainsley-earhardt-of-fox-friends/'"
      ]
     },
     "execution_count": 153,
     "metadata": {},
     "output_type": "execute_result"
    },
    {
     "data": {
      "text/plain": [
       "'success: content added from https://2017-2021.state.gov/united-states-responds-to-irregularities-in-bolivias-presidential-election/'"
      ]
     },
     "execution_count": 153,
     "metadata": {},
     "output_type": "execute_result"
    },
    {
     "data": {
      "text/plain": [
       "'success: content added from https://2017-2021.state.gov/on-the-death-of-abu-bakr-al-baghdadi/'"
      ]
     },
     "execution_count": 153,
     "metadata": {},
     "output_type": "execute_result"
    },
    {
     "data": {
      "text/plain": [
       "'success: content added from https://2017-2021.state.gov/international-religious-freedom-day-3/'"
      ]
     },
     "execution_count": 153,
     "metadata": {},
     "output_type": "execute_result"
    },
    {
     "data": {
      "text/plain": [
       "'success: content added from https://2017-2021.state.gov/25th-anniversary-of-the-israel-jordan-peace-treaty/'"
      ]
     },
     "execution_count": 153,
     "metadata": {},
     "output_type": "execute_result"
    },
    {
     "data": {
      "text/plain": [
       "'success: content added from https://2017-2021.state.gov/public-designation-of-owen-ncube-due-to-involvement-in-gross-violations-of-human-rights-under-section-7031c-of-the-fy-2019-department-of-state-foreign-operations-and-related-programs-appropriati/'"
      ]
     },
     "execution_count": 153,
     "metadata": {},
     "output_type": "execute_result"
    },
    {
     "data": {
      "text/plain": [
       "'success: content added from https://2017-2021.state.gov/secretary-michael-r-pompeo-with-the-student-newspaper-the-sunflower/'"
      ]
     },
     "execution_count": 153,
     "metadata": {},
     "output_type": "execute_result"
    },
    {
     "data": {
      "text/plain": [
       "'success: content added from https://2017-2021.state.gov/on-the-occasion-of-the-national-day-of-the-czech-republic-2/'"
      ]
     },
     "execution_count": 153,
     "metadata": {},
     "output_type": "execute_result"
    },
    {
     "data": {
      "text/plain": [
       "'success: content added from https://2017-2021.state.gov/austria-national-day/'"
      ]
     },
     "execution_count": 153,
     "metadata": {},
     "output_type": "execute_result"
    },
    {
     "data": {
      "text/plain": [
       "'success: content added from https://2017-2021.state.gov/secretary-michael-r-pompeo-with-lily-wu-of-kake-tv-abc-4/'"
      ]
     },
     "execution_count": 153,
     "metadata": {},
     "output_type": "execute_result"
    },
    {
     "data": {
      "text/plain": [
       "'success: content added from https://2017-2021.state.gov/secretary-michael-r-pompeo-with-melissa-scheffler-of-kwch-tv-cbs/'"
      ]
     },
     "execution_count": 153,
     "metadata": {},
     "output_type": "execute_result"
    },
    {
     "data": {
      "text/plain": [
       "'success: content added from https://2017-2021.state.gov/secretary-michael-r-pompeo-with-stephen-bisaha-of-kmuw-radio/'"
      ]
     },
     "execution_count": 153,
     "metadata": {},
     "output_type": "execute_result"
    },
    {
     "data": {
      "text/plain": [
       "'success: content added from https://2017-2021.state.gov/secretary-michael-r-pompeo-at-the-workers-development-roundtable-and-pledge-to-americas-workers-signing-ceremony-wsu-tech-national-center-for-aviation-training/'"
      ]
     },
     "execution_count": 153,
     "metadata": {},
     "output_type": "execute_result"
    },
    {
     "data": {
      "text/plain": [
       "'success: content added from https://2017-2021.state.gov/secretary-michael-r-pompeo-with-jonathan-shorman-of-the-wichita-eagle/'"
      ]
     },
     "execution_count": 153,
     "metadata": {},
     "output_type": "execute_result"
    },
    {
     "data": {
      "text/plain": [
       "'success: content added from https://2017-2021.state.gov/zambia-national-day-4/'"
      ]
     },
     "execution_count": 153,
     "metadata": {},
     "output_type": "execute_result"
    },
    {
     "data": {
      "text/plain": [
       "'success: content added from https://2017-2021.state.gov/commission-on-unalienable-rights-public-meeting'"
      ]
     },
     "execution_count": 153,
     "metadata": {},
     "output_type": "execute_result"
    },
    {
     "data": {
      "text/plain": [
       "'success: content added from https://2017-2021.state.gov/secretary-michael-r-pompeo-with-tony-perkins-of-washington-watch/'"
      ]
     },
     "execution_count": 153,
     "metadata": {},
     "output_type": "execute_result"
    },
    {
     "data": {
      "text/plain": [
       "'success: content added from https://2017-2021.state.gov/welcoming-u-s-senate-approval-of-nato-accession-protocol-for-north-macedonia/'"
      ]
     },
     "execution_count": 153,
     "metadata": {},
     "output_type": "execute_result"
    },
    {
     "data": {
      "text/plain": [
       "'success: content added from https://2017-2021.state.gov/36th-anniversary-of-the-beirut-barracks-bombings/'"
      ]
     },
     "execution_count": 153,
     "metadata": {},
     "output_type": "execute_result"
    },
    {
     "data": {
      "text/plain": [
       "'success: content added from https://2017-2021.state.gov/congratulations-on-canadas-elections/'"
      ]
     },
     "execution_count": 153,
     "metadata": {},
     "output_type": "execute_result"
    },
    {
     "data": {
      "text/plain": [
       "'success: content added from https://2017-2021.state.gov/trump-administration-diplomacy-the-untold-story/'"
      ]
     },
     "execution_count": 153,
     "metadata": {},
     "output_type": "execute_result"
    },
    {
     "data": {
      "text/plain": [
       "'success: content added from https://2017-2021.state.gov/secretary-michael-r-pompeo-with-wilfred-frost-of-cnbc-closing-bell/'"
      ]
     },
     "execution_count": 153,
     "metadata": {},
     "output_type": "execute_result"
    },
    {
     "data": {
      "text/plain": [
       "'success: content added from https://2017-2021.state.gov/secretary-michael-r-pompeo-with-george-stephanopoulos-of-abcs-this-week/'"
      ]
     },
     "execution_count": 153,
     "metadata": {},
     "output_type": "execute_result"
    },
    {
     "data": {
      "text/plain": [
       "'success: content added from https://2017-2021.state.gov/condemning-afghanistan-mosque-attack/'"
      ]
     },
     "execution_count": 153,
     "metadata": {},
     "output_type": "execute_result"
    },
    {
     "data": {
      "text/plain": [
       "'success: content added from https://2017-2021.state.gov/detention-of-cuban-human-rights-defender-jose-daniel-ferrer/'"
      ]
     },
     "execution_count": 153,
     "metadata": {},
     "output_type": "execute_result"
    },
    {
     "data": {
      "text/plain": [
       "'success: content added from https://2017-2021.state.gov/secretary-michael-r-pompeo-with-nato-secretary-general-jens-stoltenberg/'"
      ]
     },
     "execution_count": 153,
     "metadata": {},
     "output_type": "execute_result"
    },
    {
     "data": {
      "text/plain": [
       "'success: content added from https://2017-2021.state.gov/secretary-michael-r-pompeo-and-israeli-prime-minister-benjamin-netanyahu-after-their-meeting/'"
      ]
     },
     "execution_count": 153,
     "metadata": {},
     "output_type": "execute_result"
    },
    {
     "data": {
      "text/plain": [
       "'success: content added from https://2017-2021.state.gov/illegitimate-maduro-regimes-election-to-the-un-human-rights-council/'"
      ]
     },
     "execution_count": 153,
     "metadata": {},
     "output_type": "execute_result"
    },
    {
     "data": {
      "text/plain": [
       "'success: content added from https://2017-2021.state.gov/aftermath-of-typhoon-hagibis/'"
      ]
     },
     "execution_count": 153,
     "metadata": {},
     "output_type": "execute_result"
    },
    {
     "data": {
      "text/plain": [
       "'success: content added from https://2017-2021.state.gov/united-states-resumes-targeted-u-s-foreign-assistance-for-el-salvador-guatemala-and-honduras/'"
      ]
     },
     "execution_count": 153,
     "metadata": {},
     "output_type": "execute_result"
    },
    {
     "data": {
      "text/plain": [
       "'success: content added from https://2017-2021.state.gov/secretary-michael-r-pompeo-with-maria-bartiromo-of-mornings-with-maria-on-fox-business-network/'"
      ]
     },
     "execution_count": 153,
     "metadata": {},
     "output_type": "execute_result"
    },
    {
     "data": {
      "text/plain": [
       "'success: content added from https://2017-2021.state.gov/on-tunisias-presidential-elections/'"
      ]
     },
     "execution_count": 153,
     "metadata": {},
     "output_type": "execute_result"
    },
    {
     "data": {
      "text/plain": [
       "'success: content added from https://2017-2021.state.gov/sint-maarten-constitution-day-2/'"
      ]
     },
     "execution_count": 153,
     "metadata": {},
     "output_type": "execute_result"
    },
    {
     "data": {
      "text/plain": [
       "'success: content added from https://2017-2021.state.gov/secretary-michael-r-pompeo-with-the-hudson-institutes-the-realignment-podcast/'"
      ]
     },
     "execution_count": 153,
     "metadata": {},
     "output_type": "execute_result"
    },
    {
     "data": {
      "text/plain": [
       "'success: content added from https://2017-2021.state.gov/sanctioning-the-government-of-turkey-in-response-to-the-ongoing-military-offensive-in-northeast-syria/'"
      ]
     },
     "execution_count": 153,
     "metadata": {},
     "output_type": "execute_result"
    },
    {
     "data": {
      "text/plain": [
       "'success: content added from https://2017-2021.state.gov/congratulations-on-the-awarding-of-the-nobel-peace-prize-to-prime-minister-abiy/'"
      ]
     },
     "execution_count": 153,
     "metadata": {},
     "output_type": "execute_result"
    },
    {
     "data": {
      "text/plain": [
       "'success: content added from https://2017-2021.state.gov/equatorial-guinea-national-day-3/'"
      ]
     },
     "execution_count": 153,
     "metadata": {},
     "output_type": "execute_result"
    },
    {
     "data": {
      "text/plain": [
       "'success: content added from https://2017-2021.state.gov/spain-national-day-3/'"
      ]
     },
     "execution_count": 153,
     "metadata": {},
     "output_type": "execute_result"
    },
    {
     "data": {
      "text/plain": [
       "'success: content added from https://2017-2021.state.gov/secretary-michael-r-pompeo-with-hogan-alex-apple-of-wztv/'"
      ]
     },
     "execution_count": 153,
     "metadata": {},
     "output_type": "execute_result"
    },
    {
     "data": {
      "text/plain": [
       "'success: content added from https://2017-2021.state.gov/secretary-michael-r-pompeo-with-nancy-amons-of-wsmv-tv/'"
      ]
     },
     "execution_count": 153,
     "metadata": {},
     "output_type": "execute_result"
    },
    {
     "data": {
      "text/plain": [
       "'success: content added from https://2017-2021.state.gov/secretary-michael-r-pompeo-with-jason-lamb-of-wtvf-tv/'"
      ]
     },
     "execution_count": 153,
     "metadata": {},
     "output_type": "execute_result"
    },
    {
     "data": {
      "text/plain": [
       "'success: content added from https://2017-2021.state.gov/secretary-michael-r-pompeo-with-chris-bundgaard-of-wkrn-tv/'"
      ]
     },
     "execution_count": 153,
     "metadata": {},
     "output_type": "execute_result"
    },
    {
     "data": {
      "text/plain": [
       "'success: content added from https://2017-2021.state.gov/secretary-michael-r-pompeo-with-joel-ebert-of-the-tennessean/'"
      ]
     },
     "execution_count": 153,
     "metadata": {},
     "output_type": "execute_result"
    },
    {
     "data": {
      "text/plain": [
       "'success: content added from https://2017-2021.state.gov/being-a-christian-leader/'"
      ]
     },
     "execution_count": 153,
     "metadata": {},
     "output_type": "execute_result"
    },
    {
     "data": {
      "text/plain": [
       "'success: content added from https://2017-2021.state.gov/united-states-response-to-protests-in-ecuador/'"
      ]
     },
     "execution_count": 153,
     "metadata": {},
     "output_type": "execute_result"
    },
    {
     "data": {
      "text/plain": [
       "'success: content added from https://2017-2021.state.gov/treasury-sanctions-individuals-for-corruption-in-south-sudan/'"
      ]
     },
     "execution_count": 153,
     "metadata": {},
     "output_type": "execute_result"
    },
    {
     "data": {
      "text/plain": [
       "'success: content added from https://2017-2021.state.gov/u-s-fully-supports-brazils-steps-towards-oecd-membership/'"
      ]
     },
     "execution_count": 153,
     "metadata": {},
     "output_type": "execute_result"
    },
    {
     "data": {
      "text/plain": [
       "'success: content added from https://2017-2021.state.gov/secretary-michael-r-pompeo-with-judy-woodruff-of-pbs-newshour/'"
      ]
     },
     "execution_count": 153,
     "metadata": {},
     "output_type": "execute_result"
    },
    {
     "data": {
      "text/plain": [
       "'success: content added from https://2017-2021.state.gov/curacao-day-3/'"
      ]
     },
     "execution_count": 153,
     "metadata": {},
     "output_type": "execute_result"
    },
    {
     "data": {
      "text/plain": [
       "'success: content added from https://2017-2021.state.gov/global-magnitsky-sanctions-against-corruption-network-in-south-africa/'"
      ]
     },
     "execution_count": 153,
     "metadata": {},
     "output_type": "execute_result"
    },
    {
     "data": {
      "text/plain": [
       "'success: content added from https://2017-2021.state.gov/secretary-michael-r-pompeo-with-eric-bolling-of-america-this-week-with-eric-bolling-sinclair-tv/'"
      ]
     },
     "execution_count": 153,
     "metadata": {},
     "output_type": "execute_result"
    },
    {
     "data": {
      "text/plain": [
       "'success: content added from https://2017-2021.state.gov/secretary-michael-r-pompeo-and-colombian-foreign-minister-carlos-holmes-trujillo/'"
      ]
     },
     "execution_count": 153,
     "metadata": {},
     "output_type": "execute_result"
    },
    {
     "data": {
      "text/plain": [
       "'success: content added from https://2017-2021.state.gov/u-s-policy-on-the-international-criminal-court-remains-unchanged/'"
      ]
     },
     "execution_count": 153,
     "metadata": {},
     "output_type": "execute_result"
    },
    {
     "data": {
      "text/plain": [
       "'success: content added from https://2017-2021.state.gov/ugandas-independence-day/'"
      ]
     },
     "execution_count": 153,
     "metadata": {},
     "output_type": "execute_result"
    },
    {
     "data": {
      "text/plain": [
       "'success: content added from https://2017-2021.state.gov/u-s-department-of-state-imposes-visa-restrictions-on-chinese-officials-for-repression-in-xinjiang/'"
      ]
     },
     "execution_count": 153,
     "metadata": {},
     "output_type": "execute_result"
    },
    {
     "data": {
      "text/plain": [
       "'success: content added from https://2017-2021.state.gov/secretary-michael-r-pompeo-with-alexis-papahelas-of-skai-tv/'"
      ]
     },
     "execution_count": 153,
     "metadata": {},
     "output_type": "execute_result"
    },
    {
     "data": {
      "text/plain": [
       "'success: content added from https://2017-2021.state.gov/secretary-michael-r-pompeo-with-fanis-papathanasiou-of-hellenic-radio-and-television/'"
      ]
     },
     "execution_count": 153,
     "metadata": {},
     "output_type": "execute_result"
    },
    {
     "data": {
      "text/plain": [
       "'success: content added from https://2017-2021.state.gov/the-united-states-and-greece-showing-the-way-forward/'"
      ]
     },
     "execution_count": 153,
     "metadata": {},
     "output_type": "execute_result"
    },
    {
     "data": {
      "text/plain": [
       "'success: content added from https://2017-2021.state.gov/secretary-michael-r-pompeo-and-greek-foreign-minister-nikolaos-dendias/'"
      ]
     },
     "execution_count": 153,
     "metadata": {},
     "output_type": "execute_result"
    },
    {
     "data": {
      "text/plain": [
       "'success: content added from https://2017-2021.state.gov/secretary-michael-r-pompeo-and-greek-prime-minister-kyriakos-mitsotakis/'"
      ]
     },
     "execution_count": 153,
     "metadata": {},
     "output_type": "execute_result"
    },
    {
     "data": {
      "text/plain": [
       "'success: content added from https://2017-2021.state.gov/secretary-michael-r-pompeo-and-north-macedonia-prime-minister-zoran-zaev-remarks-to-the-press/'"
      ]
     },
     "execution_count": 153,
     "metadata": {},
     "output_type": "execute_result"
    },
    {
     "data": {
      "text/plain": [
       "'success: content added from https://2017-2021.state.gov/secretary-michael-r-pompeo-and-montenegrin-prime-minister-dusko-markovic-remarks-to-the-press/'"
      ]
     },
     "execution_count": 153,
     "metadata": {},
     "output_type": "execute_result"
    },
    {
     "data": {
      "text/plain": [
       "'success: content added from https://2017-2021.state.gov/lesotho-national-day-2/'"
      ]
     },
     "execution_count": 153,
     "metadata": {},
     "output_type": "execute_result"
    },
    {
     "data": {
      "text/plain": [
       "'success: content added from https://2017-2021.state.gov/german-national-day/'"
      ]
     },
     "execution_count": 153,
     "metadata": {},
     "output_type": "execute_result"
    },
    {
     "data": {
      "text/plain": [
       "'success: content added from https://2017-2021.state.gov/secretary-michael-r-pompeo-with-giovanna-pancheri-of-sky-tg24/'"
      ]
     },
     "execution_count": 153,
     "metadata": {},
     "output_type": "execute_result"
    },
    {
     "data": {
      "text/plain": [
       "'success: content added from https://2017-2021.state.gov/secretary-michael-r-pompeo-with-maurizio-molinari-of-la-stampa/'"
      ]
     },
     "execution_count": 153,
     "metadata": {},
     "output_type": "execute_result"
    },
    {
     "data": {
      "text/plain": [
       "'success: content added from https://2017-2021.state.gov/secretary-michael-r-pompeo-and-italian-foreign-minister-luigi-di-maio-at-a-press-availability/'"
      ]
     },
     "execution_count": 153,
     "metadata": {},
     "output_type": "execute_result"
    },
    {
     "data": {
      "text/plain": [
       "'success: content added from https://2017-2021.state.gov/human-dignity-and-faith-in-free-societies/'"
      ]
     },
     "execution_count": 153,
     "metadata": {},
     "output_type": "execute_result"
    },
    {
     "data": {
      "text/plain": [
       "'success: content added from https://2017-2021.state.gov/the-republic-of-guineas-national-day-2/'"
      ]
     },
     "execution_count": 153,
     "metadata": {},
     "output_type": "execute_result"
    },
    {
     "data": {
      "text/plain": [
       "'success: content added from https://2017-2021.state.gov/the-federal-republic-of-nigerias-independence-day/'"
      ]
     },
     "execution_count": 153,
     "metadata": {},
     "output_type": "execute_result"
    },
    {
     "data": {
      "text/plain": [
       "'success: content added from https://2017-2021.state.gov/independence-day-in-the-republic-of-cyprus/'"
      ]
     },
     "execution_count": 153,
     "metadata": {},
     "output_type": "execute_result"
    },
    {
     "data": {
      "text/plain": [
       "'success: content added from https://2017-2021.state.gov/botswana-national-day-statement/'"
      ]
     },
     "execution_count": 153,
     "metadata": {},
     "output_type": "execute_result"
    },
    {
     "data": {
      "text/plain": [
       "'success: content added from https://2017-2021.state.gov/u-s-targets-russian-actors-involved-in-efforts-to-influence-u-s-elections/'"
      ]
     },
     "execution_count": 153,
     "metadata": {},
     "output_type": "execute_result"
    },
    {
     "data": {
      "text/plain": [
       "'success: content added from https://2017-2021.state.gov/passing-of-former-french-president-jacques-chirac/'"
      ]
     },
     "execution_count": 153,
     "metadata": {},
     "output_type": "execute_result"
    },
    {
     "data": {
      "text/plain": [
       "'success: content added from https://2017-2021.state.gov/palau-national-day/'"
      ]
     },
     "execution_count": 153,
     "metadata": {},
     "output_type": "execute_result"
    },
    {
     "data": {
      "text/plain": [
       "'success: content added from https://2017-2021.state.gov/tuvalus-independence-day/'"
      ]
     },
     "execution_count": 153,
     "metadata": {},
     "output_type": "execute_result"
    },
    {
     "data": {
      "text/plain": [
       "'success: content added from https://2017-2021.state.gov/the-peoples-republic-of-china-national-day-2/'"
      ]
     },
     "execution_count": 153,
     "metadata": {},
     "output_type": "execute_result"
    },
    {
     "data": {
      "text/plain": [
       "'success: content added from https://2017-2021.state.gov/turkmenistan-independence-day/'"
      ]
     },
     "execution_count": 153,
     "metadata": {},
     "output_type": "execute_result"
    },
    {
     "data": {
      "text/plain": [
       "'success: content added from https://2017-2021.state.gov/secretary-michael-r-pompeo-at-a-press-availability/'"
      ]
     },
     "execution_count": 153,
     "metadata": {},
     "output_type": "execute_result"
    },
    {
     "data": {
      "text/plain": [
       "'success: content added from https://2017-2021.state.gov/public-designation-of-raul-castro-due-to-involvement-in-gross-violations-of-human-rights/'"
      ]
     },
     "execution_count": 153,
     "metadata": {},
     "output_type": "execute_result"
    },
    {
     "data": {
      "text/plain": [
       "'success: content added from https://2017-2021.state.gov/iranian-regime-elite-and-families-can-no-longer-travel-to-the-united-states/'"
      ]
     },
     "execution_count": 153,
     "metadata": {},
     "output_type": "execute_result"
    },
    {
     "data": {
      "text/plain": [
       "'success: content added from https://2017-2021.state.gov/secretary-michael-r-pompeo-at-the-department-of-states-energy-resources-governance-initiative-event/'"
      ]
     },
     "execution_count": 153,
     "metadata": {},
     "output_type": "execute_result"
    },
    {
     "data": {
      "text/plain": [
       "'success: content added from https://2017-2021.state.gov/the-united-states-imposes-sanctions-on-chinese-companies-for-transporting-iranian-oil/'"
      ]
     },
     "execution_count": 153,
     "metadata": {},
     "output_type": "execute_result"
    },
    {
     "data": {
      "text/plain": [
       "'success: content added from https://2017-2021.state.gov/iranian-aggression-the-world-awakes/'"
      ]
     },
     "execution_count": 153,
     "metadata": {},
     "output_type": "execute_result"
    },
    {
     "data": {
      "text/plain": [
       "'success: content added from https://2017-2021.state.gov/guinea-bissau-national-day/'"
      ]
     },
     "execution_count": 153,
     "metadata": {},
     "output_type": "execute_result"
    },
    {
     "data": {
      "text/plain": [
       "'success: content added from https://2017-2021.state.gov/secretary-michael-r-pompeo-at-the-united-nations-event-on-religious-freedom/'"
      ]
     },
     "execution_count": 153,
     "metadata": {},
     "output_type": "execute_result"
    }
   ],
   "source": [
    "#run for rest \n",
    "for i in combined_df3.link:\n",
    "    get_link_content_pompeo(i, combined_df3, my_header_list)"
   ]
  },
  {
   "cell_type": "code",
   "execution_count": 154,
   "id": "fec24eb7",
   "metadata": {},
   "outputs": [],
   "source": [
    "combined_df3.to_csv('pompeo1170_content.csv', index=False)"
   ]
  },
  {
   "cell_type": "code",
   "execution_count": 302,
   "id": "1b20ea3f",
   "metadata": {},
   "outputs": [
    {
     "data": {
      "text/html": [
       "<div>\n",
       "<style scoped>\n",
       "    .dataframe tbody tr th:only-of-type {\n",
       "        vertical-align: middle;\n",
       "    }\n",
       "\n",
       "    .dataframe tbody tr th {\n",
       "        vertical-align: top;\n",
       "    }\n",
       "\n",
       "    .dataframe thead th {\n",
       "        text-align: right;\n",
       "    }\n",
       "</style>\n",
       "<table border=\"1\" class=\"dataframe\">\n",
       "  <thead>\n",
       "    <tr style=\"text-align: right;\">\n",
       "      <th></th>\n",
       "      <th>Unnamed: 0</th>\n",
       "      <th>title</th>\n",
       "      <th>source</th>\n",
       "      <th>date</th>\n",
       "      <th>type_of_release</th>\n",
       "      <th>link</th>\n",
       "      <th>content</th>\n",
       "      <th>page_scraped</th>\n",
       "    </tr>\n",
       "  </thead>\n",
       "  <tbody>\n",
       "    <tr>\n",
       "      <th>0</th>\n",
       "      <td>0</td>\n",
       "      <td>Secretary Michael R. Pompeo With John Roberts ...</td>\n",
       "      <td>Michael R. Pompeo</td>\n",
       "      <td>January 19, 2021</td>\n",
       "      <td>Interview</td>\n",
       "      <td>https://2017-2021.state.gov/secretary-michael-...</td>\n",
       "      <td>QUESTION:  A Fox News alert now, the United St...</td>\n",
       "      <td>NaN</td>\n",
       "    </tr>\n",
       "    <tr>\n",
       "      <th>1</th>\n",
       "      <td>1</td>\n",
       "      <td>Determination of the Secretary of State on Atr...</td>\n",
       "      <td>Michael R. Pompeo</td>\n",
       "      <td>January 19, 2021</td>\n",
       "      <td>Press Statement</td>\n",
       "      <td>https://2017-2021.state.gov/determination-of-t...</td>\n",
       "      <td>The United States of America has led the world...</td>\n",
       "      <td>NaN</td>\n",
       "    </tr>\n",
       "    <tr>\n",
       "      <th>2</th>\n",
       "      <td>2</td>\n",
       "      <td>The United States Takes Further Action Against...</td>\n",
       "      <td>Michael R. Pompeo</td>\n",
       "      <td>January 19, 2021</td>\n",
       "      <td>Press Statement</td>\n",
       "      <td>https://2017-2021.state.gov/the-united-states-...</td>\n",
       "      <td>The United States has sanctioned three individ...</td>\n",
       "      <td>NaN</td>\n",
       "    </tr>\n",
       "    <tr>\n",
       "      <th>3</th>\n",
       "      <td>3</td>\n",
       "      <td>Visa Restrictions on Tanzanians for Underminin...</td>\n",
       "      <td>Michael R. Pompeo</td>\n",
       "      <td>January 19, 2021</td>\n",
       "      <td>Press Statement</td>\n",
       "      <td>https://2017-2021.state.gov/visa-restrictions-...</td>\n",
       "      <td>Today, the United States is announcing visa re...</td>\n",
       "      <td>NaN</td>\n",
       "    </tr>\n",
       "    <tr>\n",
       "      <th>4</th>\n",
       "      <td>4</td>\n",
       "      <td>Arrest of Aleksey Navalny</td>\n",
       "      <td>Michael R. Pompeo</td>\n",
       "      <td>January 17, 2021</td>\n",
       "      <td>Press Statement</td>\n",
       "      <td>https://2017-2021.state.gov/arrest-of-aleksey-...</td>\n",
       "      <td>The United States strongly condemns Russia’s d...</td>\n",
       "      <td>NaN</td>\n",
       "    </tr>\n",
       "  </tbody>\n",
       "</table>\n",
       "</div>"
      ],
      "text/plain": [
       "   Unnamed: 0                                              title  \\\n",
       "0           0  Secretary Michael R. Pompeo With John Roberts ...   \n",
       "1           1  Determination of the Secretary of State on Atr...   \n",
       "2           2  The United States Takes Further Action Against...   \n",
       "3           3  Visa Restrictions on Tanzanians for Underminin...   \n",
       "4           4                          Arrest of Aleksey Navalny   \n",
       "\n",
       "              source              date  type_of_release  \\\n",
       "0  Michael R. Pompeo  January 19, 2021        Interview   \n",
       "1  Michael R. Pompeo  January 19, 2021  Press Statement   \n",
       "2  Michael R. Pompeo  January 19, 2021  Press Statement   \n",
       "3  Michael R. Pompeo  January 19, 2021  Press Statement   \n",
       "4  Michael R. Pompeo  January 17, 2021  Press Statement   \n",
       "\n",
       "                                                link  \\\n",
       "0  https://2017-2021.state.gov/secretary-michael-...   \n",
       "1  https://2017-2021.state.gov/determination-of-t...   \n",
       "2  https://2017-2021.state.gov/the-united-states-...   \n",
       "3  https://2017-2021.state.gov/visa-restrictions-...   \n",
       "4  https://2017-2021.state.gov/arrest-of-aleksey-...   \n",
       "\n",
       "                                             content  page_scraped  \n",
       "0  QUESTION:  A Fox News alert now, the United St...           NaN  \n",
       "1  The United States of America has led the world...           NaN  \n",
       "2  The United States has sanctioned three individ...           NaN  \n",
       "3  Today, the United States is announcing visa re...           NaN  \n",
       "4  The United States strongly condemns Russia’s d...           NaN  "
      ]
     },
     "execution_count": 302,
     "metadata": {},
     "output_type": "execute_result"
    },
    {
     "name": "stdout",
     "output_type": "stream",
     "text": [
      "<class 'pandas.core.frame.DataFrame'>\n",
      "RangeIndex: 1170 entries, 0 to 1169\n",
      "Data columns (total 7 columns):\n",
      " #   Column           Non-Null Count  Dtype  \n",
      "---  ------           --------------  -----  \n",
      " 0   title            1170 non-null   object \n",
      " 1   source           1170 non-null   object \n",
      " 2   date             1170 non-null   object \n",
      " 3   type_of_release  1170 non-null   object \n",
      " 4   link             1170 non-null   object \n",
      " 5   content          1170 non-null   object \n",
      " 6   page_scraped     1160 non-null   float64\n",
      "dtypes: float64(1), object(6)\n",
      "memory usage: 64.1+ KB\n"
     ]
    }
   ],
   "source": [
    "# Repull data \n",
    "test_reupload = pd.read_csv('pompeo1170_content.csv')\n",
    "test_reupload.head()\n",
    "test_reupload = test_reupload.drop(columns = 'Unnamed: 0')\n",
    "test_reupload.info()"
   ]
  },
  {
   "cell_type": "code",
   "execution_count": 155,
   "id": "6a32bd9c",
   "metadata": {},
   "outputs": [
    {
     "name": "stdout",
     "output_type": "stream",
     "text": [
      "<class 'pandas.core.frame.DataFrame'>\n",
      "RangeIndex: 1170 entries, 0 to 1169\n",
      "Data columns (total 7 columns):\n",
      " #   Column           Non-Null Count  Dtype  \n",
      "---  ------           --------------  -----  \n",
      " 0   title            1170 non-null   object \n",
      " 1   source           1170 non-null   object \n",
      " 2   date             1170 non-null   object \n",
      " 3   type_of_release  1170 non-null   object \n",
      " 4   link             1170 non-null   object \n",
      " 5   content          1170 non-null   object \n",
      " 6   page_scraped     1160 non-null   float64\n",
      "dtypes: float64(1), object(6)\n",
      "memory usage: 64.1+ KB\n"
     ]
    }
   ],
   "source": [
    "# looks like I got all the stuff I needed\n",
    "combined_df3.info()"
   ]
  },
  {
   "cell_type": "markdown",
   "id": "ceba55c4",
   "metadata": {},
   "source": [
    "## Get missing page links and content "
   ]
  },
  {
   "cell_type": "code",
   "execution_count": null,
   "id": "f5c5df00",
   "metadata": {},
   "outputs": [],
   "source": [
    "# retry what I've missed \n",
    "\n",
    "df_list=[]\n",
    "\n",
    "for i in [4, 22, 103]:\n",
    "    try: \n",
    "        df = scrape_dos_pompeo(f'https://2017-2021.state.gov/remarks-secretary-pompeo/page/{i}/', my_header_list)\n",
    "        df['page_scraped'] = i \n",
    "        df_list.append(df)\n",
    "    except Exception as e:\n",
    "        print(f'Error: {e} at page {i}')\n",
    "        \n",
    "# Error: list index out of range at page 4\n",
    "## looks like the last link does not have the source so need to grab the rest manually \n",
    "\n",
    "# Error: 'NoneType' object has no attribute 'text' at page 22\n",
    "# i don't know what's going on here - need to inspect more once I have more sleep\n",
    "\n",
    "# Error: list index out of range at page 103\n",
    "# one is missing date link so will need to update "
   ]
  },
  {
   "cell_type": "code",
   "execution_count": 293,
   "id": "3c5153da",
   "metadata": {},
   "outputs": [],
   "source": [
    "# I later decided I only want from 2020 so after manually reviewing page, I only need to get pages 4 and 22"
   ]
  },
  {
   "cell_type": "markdown",
   "id": "ad6a08c0",
   "metadata": {
    "heading_collapsed": true
   },
   "source": [
    "### Page 4"
   ]
  },
  {
   "cell_type": "code",
   "execution_count": null,
   "id": "15bb82a8",
   "metadata": {
    "hidden": true
   },
   "outputs": [],
   "source": [
    "website = 'https://2017-2021.state.gov/remarks-secretary-pompeo/page/4/'\n",
    "server_response = requests.get(website, my_header_list)\n",
    "server_response"
   ]
  },
  {
   "cell_type": "code",
   "execution_count": null,
   "id": "1a5a8021",
   "metadata": {
    "hidden": true
   },
   "outputs": [],
   "source": [
    "soup = bs4.BeautifulSoup(server_response.content, features=\"html.parser\")\n",
    "results = soup.find_all('li', class_ = 'collection-result') "
   ]
  },
  {
   "cell_type": "code",
   "execution_count": null,
   "id": "8a94f42a",
   "metadata": {
    "hidden": true
   },
   "outputs": [],
   "source": [
    "# there's only one span for last one - missing speaker\n",
    "result_list = []\n",
    "\n",
    "for i in results:\n",
    "    title = i.find('a', class_ = 'collection-result__link')\n",
    "    link = title['href']\n",
    "    type_of_release = i.find('p', class_ = 'collection-result__date').text\n",
    "    try: \n",
    "        speaker = i.find_all('span')[0].text\n",
    "        date = i.find_all('span')[1].text\n",
    "    except:\n",
    "        speaker = 'missing'\n",
    "        date = i.find('span').text\n",
    "    result_list.append({'title': title.text, # this didn't work as an .text attribute to the find() like the other\n",
    "                        'source': speaker,\n",
    "                        'date': date,\n",
    "                        'type_of_release': type_of_release,\n",
    "                        'link': link,})"
   ]
  },
  {
   "cell_type": "code",
   "execution_count": null,
   "id": "fe03dcf4",
   "metadata": {
    "hidden": true
   },
   "outputs": [],
   "source": [
    "page_4 = pd.DataFrame(result_list)\n",
    "page_4['title'] = [i.strip() for i in page_4.title] # because original output has weird \n",
    "page_4['content'] = np.nan"
   ]
  },
  {
   "cell_type": "code",
   "execution_count": 294,
   "id": "5f03cbfa",
   "metadata": {
    "hidden": true
   },
   "outputs": [
    {
     "data": {
      "text/html": [
       "<div>\n",
       "<style scoped>\n",
       "    .dataframe tbody tr th:only-of-type {\n",
       "        vertical-align: middle;\n",
       "    }\n",
       "\n",
       "    .dataframe tbody tr th {\n",
       "        vertical-align: top;\n",
       "    }\n",
       "\n",
       "    .dataframe thead th {\n",
       "        text-align: right;\n",
       "    }\n",
       "</style>\n",
       "<table border=\"1\" class=\"dataframe\">\n",
       "  <thead>\n",
       "    <tr style=\"text-align: right;\">\n",
       "      <th></th>\n",
       "      <th>title</th>\n",
       "      <th>source</th>\n",
       "      <th>date</th>\n",
       "      <th>type_of_release</th>\n",
       "      <th>link</th>\n",
       "      <th>content</th>\n",
       "    </tr>\n",
       "  </thead>\n",
       "  <tbody>\n",
       "    <tr>\n",
       "      <th>0</th>\n",
       "      <td>Sanctioning Companies Supporting Iran’s Metal ...</td>\n",
       "      <td>Michael R. Pompeo</td>\n",
       "      <td>January 5, 2021</td>\n",
       "      <td>Press Statement</td>\n",
       "      <td>https://2017-2021.state.gov/sanctioning-compan...</td>\n",
       "      <td>NaN</td>\n",
       "    </tr>\n",
       "    <tr>\n",
       "      <th>1</th>\n",
       "      <td>Secretary Michael R. Pompeo  With David Rubens...</td>\n",
       "      <td>Michael R. Pompeo</td>\n",
       "      <td>January 5, 2021</td>\n",
       "      <td>Interview</td>\n",
       "      <td>https://2017-2021.state.gov/secretary-michael-...</td>\n",
       "      <td>NaN</td>\n",
       "    </tr>\n",
       "    <tr>\n",
       "      <th>2</th>\n",
       "      <td>Secretary Michael R. Pompeo With Jan Jekielek ...</td>\n",
       "      <td>Michael R. Pompeo</td>\n",
       "      <td>January 5, 2021</td>\n",
       "      <td>Interview</td>\n",
       "      <td>https://2017-2021.state.gov/secretary-michael-...</td>\n",
       "      <td>NaN</td>\n",
       "    </tr>\n",
       "    <tr>\n",
       "      <th>3</th>\n",
       "      <td>Why China’s Nuclear Build-Up Should Worry the ...</td>\n",
       "      <td>Michael R. Pompeo</td>\n",
       "      <td>January 4, 2021</td>\n",
       "      <td>Op-Ed</td>\n",
       "      <td>https://2017-2021.state.gov/why-chinas-nuclear...</td>\n",
       "      <td>NaN</td>\n",
       "    </tr>\n",
       "    <tr>\n",
       "      <th>4</th>\n",
       "      <td>Myanmar Independence Day</td>\n",
       "      <td>Michael R. Pompeo</td>\n",
       "      <td>January 4, 2021</td>\n",
       "      <td>Press Statement</td>\n",
       "      <td>https://2017-2021.state.gov/myanmar-independen...</td>\n",
       "      <td>NaN</td>\n",
       "    </tr>\n",
       "    <tr>\n",
       "      <th>5</th>\n",
       "      <td>Removing the Cuban Military’s Grip from Cuba’s...</td>\n",
       "      <td>Michael R. Pompeo</td>\n",
       "      <td>January 1, 2021</td>\n",
       "      <td>Press Statement</td>\n",
       "      <td>https://2017-2021.state.gov/removing-the-cuban...</td>\n",
       "      <td>NaN</td>\n",
       "    </tr>\n",
       "    <tr>\n",
       "      <th>6</th>\n",
       "      <td>U.S. Vote Against the United Nations 2021 Prog...</td>\n",
       "      <td>Michael R. Pompeo</td>\n",
       "      <td>December 31, 2020</td>\n",
       "      <td>Press Statement</td>\n",
       "      <td>https://2017-2021.state.gov/u-s-vote-against-t...</td>\n",
       "      <td>NaN</td>\n",
       "    </tr>\n",
       "    <tr>\n",
       "      <th>7</th>\n",
       "      <td>Haiti’s Independence Day</td>\n",
       "      <td>Michael R. Pompeo</td>\n",
       "      <td>December 31, 2020</td>\n",
       "      <td>Press Statement</td>\n",
       "      <td>https://2017-2021.state.gov/haitis-independenc...</td>\n",
       "      <td>NaN</td>\n",
       "    </tr>\n",
       "    <tr>\n",
       "      <th>8</th>\n",
       "      <td>On the Fate of the “Hong Kong 12”</td>\n",
       "      <td>Michael R. Pompeo</td>\n",
       "      <td>December 31, 2020</td>\n",
       "      <td>Press Statement</td>\n",
       "      <td>https://2017-2021.state.gov/on-the-fate-of-the...</td>\n",
       "      <td>NaN</td>\n",
       "    </tr>\n",
       "    <tr>\n",
       "      <th>9</th>\n",
       "      <td>On the Passing of Former Papua New Guinean Pri...</td>\n",
       "      <td>missing</td>\n",
       "      <td>December 30, 2020</td>\n",
       "      <td>Press Statement</td>\n",
       "      <td>https://2017-2021.state.gov/on-the-passing-of-...</td>\n",
       "      <td>NaN</td>\n",
       "    </tr>\n",
       "  </tbody>\n",
       "</table>\n",
       "</div>"
      ],
      "text/plain": [
       "                                               title             source  \\\n",
       "0  Sanctioning Companies Supporting Iran’s Metal ...  Michael R. Pompeo   \n",
       "1  Secretary Michael R. Pompeo  With David Rubens...  Michael R. Pompeo   \n",
       "2  Secretary Michael R. Pompeo With Jan Jekielek ...  Michael R. Pompeo   \n",
       "3  Why China’s Nuclear Build-Up Should Worry the ...  Michael R. Pompeo   \n",
       "4                           Myanmar Independence Day  Michael R. Pompeo   \n",
       "5  Removing the Cuban Military’s Grip from Cuba’s...  Michael R. Pompeo   \n",
       "6  U.S. Vote Against the United Nations 2021 Prog...  Michael R. Pompeo   \n",
       "7                           Haiti’s Independence Day  Michael R. Pompeo   \n",
       "8                  On the Fate of the “Hong Kong 12”  Michael R. Pompeo   \n",
       "9  On the Passing of Former Papua New Guinean Pri...            missing   \n",
       "\n",
       "                date  type_of_release  \\\n",
       "0    January 5, 2021  Press Statement   \n",
       "1    January 5, 2021        Interview   \n",
       "2    January 5, 2021        Interview   \n",
       "3    January 4, 2021            Op-Ed   \n",
       "4    January 4, 2021  Press Statement   \n",
       "5    January 1, 2021  Press Statement   \n",
       "6  December 31, 2020  Press Statement   \n",
       "7  December 31, 2020  Press Statement   \n",
       "8  December 31, 2020  Press Statement   \n",
       "9  December 30, 2020  Press Statement   \n",
       "\n",
       "                                                link  content  \n",
       "0  https://2017-2021.state.gov/sanctioning-compan...      NaN  \n",
       "1  https://2017-2021.state.gov/secretary-michael-...      NaN  \n",
       "2  https://2017-2021.state.gov/secretary-michael-...      NaN  \n",
       "3  https://2017-2021.state.gov/why-chinas-nuclear...      NaN  \n",
       "4  https://2017-2021.state.gov/myanmar-independen...      NaN  \n",
       "5  https://2017-2021.state.gov/removing-the-cuban...      NaN  \n",
       "6  https://2017-2021.state.gov/u-s-vote-against-t...      NaN  \n",
       "7  https://2017-2021.state.gov/haitis-independenc...      NaN  \n",
       "8  https://2017-2021.state.gov/on-the-fate-of-the...      NaN  \n",
       "9  https://2017-2021.state.gov/on-the-passing-of-...      NaN  "
      ]
     },
     "execution_count": 294,
     "metadata": {},
     "output_type": "execute_result"
    }
   ],
   "source": [
    "page_4"
   ]
  },
  {
   "cell_type": "markdown",
   "id": "8f3920d4",
   "metadata": {
    "heading_collapsed": true
   },
   "source": [
    "### Page 22"
   ]
  },
  {
   "cell_type": "code",
   "execution_count": null,
   "id": "36e9a62f",
   "metadata": {
    "hidden": true
   },
   "outputs": [],
   "source": [
    "website = 'https://2017-2021.state.gov/remarks-secretary-pompeo/page/22/'\n",
    "server_response = requests.get(website, my_header_list)\n",
    "server_response"
   ]
  },
  {
   "cell_type": "code",
   "execution_count": null,
   "id": "329b1ae3",
   "metadata": {
    "hidden": true
   },
   "outputs": [],
   "source": [
    "soup = bs4.BeautifulSoup(server_response.content, features=\"html.parser\")\n",
    "results = soup.find_all('li', class_ = 'collection-result') "
   ]
  },
  {
   "cell_type": "code",
   "execution_count": null,
   "id": "4049d987",
   "metadata": {
    "hidden": true
   },
   "outputs": [],
   "source": [
    "# the issue with this page is one is missing the type of release \n",
    "result_list = []\n",
    "\n",
    "for i in results:\n",
    "    title = i.find('a', class_ = 'collection-result__link')\n",
    "    link = title['href']\n",
    "    speaker = i.find_all('span')[0].text\n",
    "    date = i.find_all('span')[1].text\n",
    "    try: \n",
    "        type_of_release = i.find('p', class_ = 'collection-result__date').text\n",
    "    except: \n",
    "        type_of_release = 'missing' \n",
    "\n",
    "    result_list.append({'title': title.text, # this didn't work as an .text attribute to the find() like the other\n",
    "                        'source': speaker,\n",
    "                        'date': date,\n",
    "                        'type_of_release': type_of_release,\n",
    "                        'link': link,})"
   ]
  },
  {
   "cell_type": "code",
   "execution_count": null,
   "id": "77171516",
   "metadata": {
    "hidden": true
   },
   "outputs": [],
   "source": [
    "page_22 = pd.DataFrame(result_list)\n",
    "page_22['title'] = [i.strip() for i in page_22.title] # because original output has weird \n",
    "page_22['content'] = np.nan"
   ]
  },
  {
   "cell_type": "code",
   "execution_count": 295,
   "id": "10130a7e",
   "metadata": {
    "hidden": true
   },
   "outputs": [
    {
     "data": {
      "text/html": [
       "<div>\n",
       "<style scoped>\n",
       "    .dataframe tbody tr th:only-of-type {\n",
       "        vertical-align: middle;\n",
       "    }\n",
       "\n",
       "    .dataframe tbody tr th {\n",
       "        vertical-align: top;\n",
       "    }\n",
       "\n",
       "    .dataframe thead th {\n",
       "        text-align: right;\n",
       "    }\n",
       "</style>\n",
       "<table border=\"1\" class=\"dataframe\">\n",
       "  <thead>\n",
       "    <tr style=\"text-align: right;\">\n",
       "      <th></th>\n",
       "      <th>title</th>\n",
       "      <th>source</th>\n",
       "      <th>date</th>\n",
       "      <th>type_of_release</th>\n",
       "      <th>link</th>\n",
       "      <th>content</th>\n",
       "    </tr>\n",
       "  </thead>\n",
       "  <tbody>\n",
       "    <tr>\n",
       "      <th>0</th>\n",
       "      <td>On the Anniversary of the Marine Barracks Terr...</td>\n",
       "      <td>Michael R. Pompeo</td>\n",
       "      <td>October 23, 2020</td>\n",
       "      <td>Press Statement</td>\n",
       "      <td>https://2017-2021.state.gov/on-the-anniversary...</td>\n",
       "      <td>NaN</td>\n",
       "    </tr>\n",
       "    <tr>\n",
       "      <th>1</th>\n",
       "      <td>United States Sanctions Two Hizballah Officials</td>\n",
       "      <td>Michael R. Pompeo</td>\n",
       "      <td>October 22, 2020</td>\n",
       "      <td>Press Statement</td>\n",
       "      <td>https://2017-2021.state.gov/united-states-sanc...</td>\n",
       "      <td>NaN</td>\n",
       "    </tr>\n",
       "    <tr>\n",
       "      <th>2</th>\n",
       "      <td>United States Designates Senior Iranian Offici...</td>\n",
       "      <td>Michael R. Pompeo</td>\n",
       "      <td>October 22, 2020</td>\n",
       "      <td>Press Statement</td>\n",
       "      <td>https://2017-2021.state.gov/united-states-desi...</td>\n",
       "      <td>NaN</td>\n",
       "    </tr>\n",
       "    <tr>\n",
       "      <th>3</th>\n",
       "      <td>On the Loss of Life Due to Significant Floodin...</td>\n",
       "      <td>Michael R. Pompeo</td>\n",
       "      <td>October 22, 2020</td>\n",
       "      <td>Press Statement</td>\n",
       "      <td>https://2017-2021.state.gov/on-the-loss-of-lif...</td>\n",
       "      <td>NaN</td>\n",
       "    </tr>\n",
       "    <tr>\n",
       "      <th>4</th>\n",
       "      <td>Secretary Michael R. Pompeo at a Naturalizatio...</td>\n",
       "      <td>Michael R. Pompeo</td>\n",
       "      <td>October 22, 2020</td>\n",
       "      <td>Remarks</td>\n",
       "      <td>https://2017-2021.state.gov/secretary-michael-...</td>\n",
       "      <td>NaN</td>\n",
       "    </tr>\n",
       "    <tr>\n",
       "      <th>5</th>\n",
       "      <td>U.S. Announces Humanitarian Assistance at the ...</td>\n",
       "      <td>Michael R. Pompeo</td>\n",
       "      <td>October 22, 2020</td>\n",
       "      <td>Press Statement</td>\n",
       "      <td>https://2017-2021.state.gov/u-s-announces-huma...</td>\n",
       "      <td>NaN</td>\n",
       "    </tr>\n",
       "    <tr>\n",
       "      <th>6</th>\n",
       "      <td>Ongoing Protests in Nigeria</td>\n",
       "      <td>Michael R. Pompeo</td>\n",
       "      <td>October 22, 2020</td>\n",
       "      <td>Press Statement</td>\n",
       "      <td>https://2017-2021.state.gov/ongoing-protests-i...</td>\n",
       "      <td>NaN</td>\n",
       "    </tr>\n",
       "    <tr>\n",
       "      <th>7</th>\n",
       "      <td>Ancient Hatred, Modern Medium: Opening Session</td>\n",
       "      <td>Michael R. Pompeo</td>\n",
       "      <td>October 21, 2020</td>\n",
       "      <td>missing</td>\n",
       "      <td>https://2017-2021.state.gov/anti-semitism-conf...</td>\n",
       "      <td>NaN</td>\n",
       "    </tr>\n",
       "    <tr>\n",
       "      <th>8</th>\n",
       "      <td>Secretary Michael R. Pompeo at a Press Availab...</td>\n",
       "      <td>Michael R. Pompeo</td>\n",
       "      <td>October 21, 2020</td>\n",
       "      <td>Remarks</td>\n",
       "      <td>https://2017-2021.state.gov/secretary-michael-...</td>\n",
       "      <td>NaN</td>\n",
       "    </tr>\n",
       "    <tr>\n",
       "      <th>9</th>\n",
       "      <td>Congratulations to Bolivia’s President-Elect L...</td>\n",
       "      <td>Michael R. Pompeo</td>\n",
       "      <td>October 21, 2020</td>\n",
       "      <td>Press Statement</td>\n",
       "      <td>https://2017-2021.state.gov/congratulations-to...</td>\n",
       "      <td>NaN</td>\n",
       "    </tr>\n",
       "  </tbody>\n",
       "</table>\n",
       "</div>"
      ],
      "text/plain": [
       "                                               title             source  \\\n",
       "0  On the Anniversary of the Marine Barracks Terr...  Michael R. Pompeo   \n",
       "1    United States Sanctions Two Hizballah Officials  Michael R. Pompeo   \n",
       "2  United States Designates Senior Iranian Offici...  Michael R. Pompeo   \n",
       "3  On the Loss of Life Due to Significant Floodin...  Michael R. Pompeo   \n",
       "4  Secretary Michael R. Pompeo at a Naturalizatio...  Michael R. Pompeo   \n",
       "5  U.S. Announces Humanitarian Assistance at the ...  Michael R. Pompeo   \n",
       "6                        Ongoing Protests in Nigeria  Michael R. Pompeo   \n",
       "7     Ancient Hatred, Modern Medium: Opening Session  Michael R. Pompeo   \n",
       "8  Secretary Michael R. Pompeo at a Press Availab...  Michael R. Pompeo   \n",
       "9  Congratulations to Bolivia’s President-Elect L...  Michael R. Pompeo   \n",
       "\n",
       "               date  type_of_release  \\\n",
       "0  October 23, 2020  Press Statement   \n",
       "1  October 22, 2020  Press Statement   \n",
       "2  October 22, 2020  Press Statement   \n",
       "3  October 22, 2020  Press Statement   \n",
       "4  October 22, 2020          Remarks   \n",
       "5  October 22, 2020  Press Statement   \n",
       "6  October 22, 2020  Press Statement   \n",
       "7  October 21, 2020          missing   \n",
       "8  October 21, 2020          Remarks   \n",
       "9  October 21, 2020  Press Statement   \n",
       "\n",
       "                                                link  content  \n",
       "0  https://2017-2021.state.gov/on-the-anniversary...      NaN  \n",
       "1  https://2017-2021.state.gov/united-states-sanc...      NaN  \n",
       "2  https://2017-2021.state.gov/united-states-desi...      NaN  \n",
       "3  https://2017-2021.state.gov/on-the-loss-of-lif...      NaN  \n",
       "4  https://2017-2021.state.gov/secretary-michael-...      NaN  \n",
       "5  https://2017-2021.state.gov/u-s-announces-huma...      NaN  \n",
       "6  https://2017-2021.state.gov/ongoing-protests-i...      NaN  \n",
       "7  https://2017-2021.state.gov/anti-semitism-conf...      NaN  \n",
       "8  https://2017-2021.state.gov/secretary-michael-...      NaN  \n",
       "9  https://2017-2021.state.gov/congratulations-to...      NaN  "
      ]
     },
     "execution_count": 295,
     "metadata": {},
     "output_type": "execute_result"
    }
   ],
   "source": [
    "page_22"
   ]
  },
  {
   "cell_type": "markdown",
   "id": "f4a3ef64",
   "metadata": {},
   "source": [
    "### Merge and pull content from links"
   ]
  },
  {
   "cell_type": "code",
   "execution_count": 296,
   "id": "4bb86c03",
   "metadata": {},
   "outputs": [],
   "source": [
    "missing_pages = pd.concat([page_4,page_22], ignore_index=True)\n",
    "# missing_pages"
   ]
  },
  {
   "cell_type": "code",
   "execution_count": 298,
   "id": "92b16b69",
   "metadata": {},
   "outputs": [
    {
     "data": {
      "text/plain": [
       "'success: content added from https://2017-2021.state.gov/sanctioning-companies-supporting-irans-metal-industry/'"
      ]
     },
     "execution_count": 298,
     "metadata": {},
     "output_type": "execute_result"
    },
    {
     "data": {
      "text/plain": [
       "'success: content added from https://2017-2021.state.gov/secretary-michael-r-pompeo-with-david-rubenstein-of-bloomberg-news/'"
      ]
     },
     "execution_count": 298,
     "metadata": {},
     "output_type": "execute_result"
    },
    {
     "data": {
      "text/plain": [
       "'success: content added from https://2017-2021.state.gov/secretary-michael-r-pompeo-with-jan-jekielek-of-the-epoch-times-american-thought-leaders-program/'"
      ]
     },
     "execution_count": 298,
     "metadata": {},
     "output_type": "execute_result"
    },
    {
     "data": {
      "text/plain": [
       "'success: content added from https://2017-2021.state.gov/why-chinas-nuclear-build-up-should-worry-the-west/'"
      ]
     },
     "execution_count": 298,
     "metadata": {},
     "output_type": "execute_result"
    },
    {
     "data": {
      "text/plain": [
       "'success: content added from https://2017-2021.state.gov/myanmar-independence-day/'"
      ]
     },
     "execution_count": 298,
     "metadata": {},
     "output_type": "execute_result"
    },
    {
     "data": {
      "text/plain": [
       "'success: content added from https://2017-2021.state.gov/removing-the-cuban-militarys-grip-from-cubas-banking-sector/'"
      ]
     },
     "execution_count": 298,
     "metadata": {},
     "output_type": "execute_result"
    },
    {
     "data": {
      "text/plain": [
       "'success: content added from https://2017-2021.state.gov/u-s-vote-against-the-united-nations-2021-program-budget/'"
      ]
     },
     "execution_count": 298,
     "metadata": {},
     "output_type": "execute_result"
    },
    {
     "data": {
      "text/plain": [
       "'success: content added from https://2017-2021.state.gov/haitis-independence-day/'"
      ]
     },
     "execution_count": 298,
     "metadata": {},
     "output_type": "execute_result"
    },
    {
     "data": {
      "text/plain": [
       "'success: content added from https://2017-2021.state.gov/on-the-fate-of-the-hong-kong-12/'"
      ]
     },
     "execution_count": 298,
     "metadata": {},
     "output_type": "execute_result"
    },
    {
     "data": {
      "text/plain": [
       "'success: content added from https://2017-2021.state.gov/on-the-passing-of-former-papua-new-guinean-prime-minister-morauta/'"
      ]
     },
     "execution_count": 298,
     "metadata": {},
     "output_type": "execute_result"
    },
    {
     "data": {
      "text/plain": [
       "'success: content added from https://2017-2021.state.gov/on-the-anniversary-of-the-marine-barracks-terrorist-attack/'"
      ]
     },
     "execution_count": 298,
     "metadata": {},
     "output_type": "execute_result"
    },
    {
     "data": {
      "text/plain": [
       "'success: content added from https://2017-2021.state.gov/united-states-sanctions-two-hizballah-officials/'"
      ]
     },
     "execution_count": 298,
     "metadata": {},
     "output_type": "execute_result"
    },
    {
     "data": {
      "text/plain": [
       "'success: content added from https://2017-2021.state.gov/united-states-designates-senior-iranian-official-in-iraq/'"
      ]
     },
     "execution_count": 298,
     "metadata": {},
     "output_type": "execute_result"
    },
    {
     "data": {
      "text/plain": [
       "'success: content added from https://2017-2021.state.gov/on-the-loss-of-life-due-to-significant-flooding-in-central-vietnam/'"
      ]
     },
     "execution_count": 298,
     "metadata": {},
     "output_type": "execute_result"
    },
    {
     "data": {
      "text/plain": [
       "'success: content added from https://2017-2021.state.gov/secretary-michael-r-pompeo-at-a-naturalization-ceremony-with-u-s-citizenship-and-immigration-services/'"
      ]
     },
     "execution_count": 298,
     "metadata": {},
     "output_type": "execute_result"
    },
    {
     "data": {
      "text/plain": [
       "'success: content added from https://2017-2021.state.gov/u-s-announces-humanitarian-assistance-at-the-international-conference-on-sustaining-support-for-the-rohingya-refugee-response/'"
      ]
     },
     "execution_count": 298,
     "metadata": {},
     "output_type": "execute_result"
    },
    {
     "data": {
      "text/plain": [
       "'success: content added from https://2017-2021.state.gov/ongoing-protests-in-nigeria/'"
      ]
     },
     "execution_count": 298,
     "metadata": {},
     "output_type": "execute_result"
    },
    {
     "data": {
      "text/plain": [
       "'success: content added from https://2017-2021.state.gov/anti-semitism-conference-2020/opening-session/'"
      ]
     },
     "execution_count": 298,
     "metadata": {},
     "output_type": "execute_result"
    },
    {
     "data": {
      "text/plain": [
       "'success: content added from https://2017-2021.state.gov/secretary-michael-r-pompeo-at-a-press-availability-15/'"
      ]
     },
     "execution_count": 298,
     "metadata": {},
     "output_type": "execute_result"
    },
    {
     "data": {
      "text/plain": [
       "'success: content added from https://2017-2021.state.gov/congratulations-to-bolivias-president-elect-luis-arce/'"
      ]
     },
     "execution_count": 298,
     "metadata": {},
     "output_type": "execute_result"
    }
   ],
   "source": [
    "# get content\n",
    "\n",
    "for i in missing_pages.link:\n",
    "     get_link_content_pompeo(i, missing_pages, my_header_list)"
   ]
  },
  {
   "cell_type": "code",
   "execution_count": 299,
   "id": "11b00cfb",
   "metadata": {},
   "outputs": [
    {
     "data": {
      "text/html": [
       "<div>\n",
       "<style scoped>\n",
       "    .dataframe tbody tr th:only-of-type {\n",
       "        vertical-align: middle;\n",
       "    }\n",
       "\n",
       "    .dataframe tbody tr th {\n",
       "        vertical-align: top;\n",
       "    }\n",
       "\n",
       "    .dataframe thead th {\n",
       "        text-align: right;\n",
       "    }\n",
       "</style>\n",
       "<table border=\"1\" class=\"dataframe\">\n",
       "  <thead>\n",
       "    <tr style=\"text-align: right;\">\n",
       "      <th></th>\n",
       "      <th>title</th>\n",
       "      <th>source</th>\n",
       "      <th>date</th>\n",
       "      <th>type_of_release</th>\n",
       "      <th>link</th>\n",
       "      <th>content</th>\n",
       "    </tr>\n",
       "  </thead>\n",
       "  <tbody>\n",
       "    <tr>\n",
       "      <th>0</th>\n",
       "      <td>Sanctioning Companies Supporting Iran’s Metal ...</td>\n",
       "      <td>Michael R. Pompeo</td>\n",
       "      <td>January 5, 2021</td>\n",
       "      <td>Press Statement</td>\n",
       "      <td>https://2017-2021.state.gov/sanctioning-compan...</td>\n",
       "      <td>Today, the United States is imposing sanctions...</td>\n",
       "    </tr>\n",
       "    <tr>\n",
       "      <th>1</th>\n",
       "      <td>Secretary Michael R. Pompeo  With David Rubens...</td>\n",
       "      <td>Michael R. Pompeo</td>\n",
       "      <td>January 5, 2021</td>\n",
       "      <td>Interview</td>\n",
       "      <td>https://2017-2021.state.gov/secretary-michael-...</td>\n",
       "      <td>QUESTION:  Hello.  We’re here today with Mike ...</td>\n",
       "    </tr>\n",
       "    <tr>\n",
       "      <th>2</th>\n",
       "      <td>Secretary Michael R. Pompeo With Jan Jekielek ...</td>\n",
       "      <td>Michael R. Pompeo</td>\n",
       "      <td>January 5, 2021</td>\n",
       "      <td>Interview</td>\n",
       "      <td>https://2017-2021.state.gov/secretary-michael-...</td>\n",
       "      <td>QUESTION:  Secretary Mike Pompeo, such a pleas...</td>\n",
       "    </tr>\n",
       "    <tr>\n",
       "      <th>3</th>\n",
       "      <td>Why China’s Nuclear Build-Up Should Worry the ...</td>\n",
       "      <td>Michael R. Pompeo</td>\n",
       "      <td>January 4, 2021</td>\n",
       "      <td>Op-Ed</td>\n",
       "      <td>https://2017-2021.state.gov/why-chinas-nuclear...</td>\n",
       "      <td>COVID-19 has taught the world that the Chinese...</td>\n",
       "    </tr>\n",
       "    <tr>\n",
       "      <th>4</th>\n",
       "      <td>Myanmar Independence Day</td>\n",
       "      <td>Michael R. Pompeo</td>\n",
       "      <td>January 4, 2021</td>\n",
       "      <td>Press Statement</td>\n",
       "      <td>https://2017-2021.state.gov/myanmar-independen...</td>\n",
       "      <td>On behalf of the Government of the United Stat...</td>\n",
       "    </tr>\n",
       "    <tr>\n",
       "      <th>5</th>\n",
       "      <td>Removing the Cuban Military’s Grip from Cuba’s...</td>\n",
       "      <td>Michael R. Pompeo</td>\n",
       "      <td>January 1, 2021</td>\n",
       "      <td>Press Statement</td>\n",
       "      <td>https://2017-2021.state.gov/removing-the-cuban...</td>\n",
       "      <td>Today, the Department of State is announcing t...</td>\n",
       "    </tr>\n",
       "    <tr>\n",
       "      <th>6</th>\n",
       "      <td>U.S. Vote Against the United Nations 2021 Prog...</td>\n",
       "      <td>Michael R. Pompeo</td>\n",
       "      <td>December 31, 2020</td>\n",
       "      <td>Press Statement</td>\n",
       "      <td>https://2017-2021.state.gov/u-s-vote-against-t...</td>\n",
       "      <td>Today, the United States called for a vote in ...</td>\n",
       "    </tr>\n",
       "    <tr>\n",
       "      <th>7</th>\n",
       "      <td>Haiti’s Independence Day</td>\n",
       "      <td>Michael R. Pompeo</td>\n",
       "      <td>December 31, 2020</td>\n",
       "      <td>Press Statement</td>\n",
       "      <td>https://2017-2021.state.gov/haitis-independenc...</td>\n",
       "      <td>On behalf of the Government of the United Stat...</td>\n",
       "    </tr>\n",
       "    <tr>\n",
       "      <th>8</th>\n",
       "      <td>On the Fate of the “Hong Kong 12”</td>\n",
       "      <td>Michael R. Pompeo</td>\n",
       "      <td>December 31, 2020</td>\n",
       "      <td>Press Statement</td>\n",
       "      <td>https://2017-2021.state.gov/on-the-fate-of-the...</td>\n",
       "      <td>Hong Kong was a thriving territory until the C...</td>\n",
       "    </tr>\n",
       "    <tr>\n",
       "      <th>9</th>\n",
       "      <td>On the Passing of Former Papua New Guinean Pri...</td>\n",
       "      <td>missing</td>\n",
       "      <td>December 30, 2020</td>\n",
       "      <td>Press Statement</td>\n",
       "      <td>https://2017-2021.state.gov/on-the-passing-of-...</td>\n",
       "      <td>On behalf of the Government of the United Stat...</td>\n",
       "    </tr>\n",
       "    <tr>\n",
       "      <th>10</th>\n",
       "      <td>On the Anniversary of the Marine Barracks Terr...</td>\n",
       "      <td>Michael R. Pompeo</td>\n",
       "      <td>October 23, 2020</td>\n",
       "      <td>Press Statement</td>\n",
       "      <td>https://2017-2021.state.gov/on-the-anniversary...</td>\n",
       "      <td>On October 23, 1983, Hizballah carried out a s...</td>\n",
       "    </tr>\n",
       "    <tr>\n",
       "      <th>11</th>\n",
       "      <td>United States Sanctions Two Hizballah Officials</td>\n",
       "      <td>Michael R. Pompeo</td>\n",
       "      <td>October 22, 2020</td>\n",
       "      <td>Press Statement</td>\n",
       "      <td>https://2017-2021.state.gov/united-states-sanc...</td>\n",
       "      <td>Today, the United States is designating two Hi...</td>\n",
       "    </tr>\n",
       "    <tr>\n",
       "      <th>12</th>\n",
       "      <td>United States Designates Senior Iranian Offici...</td>\n",
       "      <td>Michael R. Pompeo</td>\n",
       "      <td>October 22, 2020</td>\n",
       "      <td>Press Statement</td>\n",
       "      <td>https://2017-2021.state.gov/united-states-desi...</td>\n",
       "      <td>For many years, the Iranian regime and its pri...</td>\n",
       "    </tr>\n",
       "    <tr>\n",
       "      <th>13</th>\n",
       "      <td>On the Loss of Life Due to Significant Floodin...</td>\n",
       "      <td>Michael R. Pompeo</td>\n",
       "      <td>October 22, 2020</td>\n",
       "      <td>Press Statement</td>\n",
       "      <td>https://2017-2021.state.gov/on-the-loss-of-lif...</td>\n",
       "      <td>The Government of the United States expresses ...</td>\n",
       "    </tr>\n",
       "    <tr>\n",
       "      <th>14</th>\n",
       "      <td>Secretary Michael R. Pompeo at a Naturalizatio...</td>\n",
       "      <td>Michael R. Pompeo</td>\n",
       "      <td>October 22, 2020</td>\n",
       "      <td>Remarks</td>\n",
       "      <td>https://2017-2021.state.gov/secretary-michael-...</td>\n",
       "      <td>MR ROSENBERG:  Good morning.  My name is Ron R...</td>\n",
       "    </tr>\n",
       "    <tr>\n",
       "      <th>15</th>\n",
       "      <td>U.S. Announces Humanitarian Assistance at the ...</td>\n",
       "      <td>Michael R. Pompeo</td>\n",
       "      <td>October 22, 2020</td>\n",
       "      <td>Press Statement</td>\n",
       "      <td>https://2017-2021.state.gov/u-s-announces-huma...</td>\n",
       "      <td>Today, the United States, the United Kingdom, ...</td>\n",
       "    </tr>\n",
       "    <tr>\n",
       "      <th>16</th>\n",
       "      <td>Ongoing Protests in Nigeria</td>\n",
       "      <td>Michael R. Pompeo</td>\n",
       "      <td>October 22, 2020</td>\n",
       "      <td>Press Statement</td>\n",
       "      <td>https://2017-2021.state.gov/ongoing-protests-i...</td>\n",
       "      <td>The United States strongly condemns the use of...</td>\n",
       "    </tr>\n",
       "    <tr>\n",
       "      <th>17</th>\n",
       "      <td>Ancient Hatred, Modern Medium: Opening Session</td>\n",
       "      <td>Michael R. Pompeo</td>\n",
       "      <td>October 21, 2020</td>\n",
       "      <td>missing</td>\n",
       "      <td>https://2017-2021.state.gov/anti-semitism-conf...</td>\n",
       "      <td>[MUSIC PLAYING] NARRATOR: It’s 2020. We’re all...</td>\n",
       "    </tr>\n",
       "    <tr>\n",
       "      <th>18</th>\n",
       "      <td>Secretary Michael R. Pompeo at a Press Availab...</td>\n",
       "      <td>Michael R. Pompeo</td>\n",
       "      <td>October 21, 2020</td>\n",
       "      <td>Remarks</td>\n",
       "      <td>https://2017-2021.state.gov/secretary-michael-...</td>\n",
       "      <td>SECRETARY POMPEO:  Morning, everyone.  How are...</td>\n",
       "    </tr>\n",
       "    <tr>\n",
       "      <th>19</th>\n",
       "      <td>Congratulations to Bolivia’s President-Elect L...</td>\n",
       "      <td>Michael R. Pompeo</td>\n",
       "      <td>October 21, 2020</td>\n",
       "      <td>Press Statement</td>\n",
       "      <td>https://2017-2021.state.gov/congratulations-to...</td>\n",
       "      <td>The United States congratulates Bolivian Presi...</td>\n",
       "    </tr>\n",
       "  </tbody>\n",
       "</table>\n",
       "</div>"
      ],
      "text/plain": [
       "                                                title             source  \\\n",
       "0   Sanctioning Companies Supporting Iran’s Metal ...  Michael R. Pompeo   \n",
       "1   Secretary Michael R. Pompeo  With David Rubens...  Michael R. Pompeo   \n",
       "2   Secretary Michael R. Pompeo With Jan Jekielek ...  Michael R. Pompeo   \n",
       "3   Why China’s Nuclear Build-Up Should Worry the ...  Michael R. Pompeo   \n",
       "4                            Myanmar Independence Day  Michael R. Pompeo   \n",
       "5   Removing the Cuban Military’s Grip from Cuba’s...  Michael R. Pompeo   \n",
       "6   U.S. Vote Against the United Nations 2021 Prog...  Michael R. Pompeo   \n",
       "7                            Haiti’s Independence Day  Michael R. Pompeo   \n",
       "8                   On the Fate of the “Hong Kong 12”  Michael R. Pompeo   \n",
       "9   On the Passing of Former Papua New Guinean Pri...            missing   \n",
       "10  On the Anniversary of the Marine Barracks Terr...  Michael R. Pompeo   \n",
       "11    United States Sanctions Two Hizballah Officials  Michael R. Pompeo   \n",
       "12  United States Designates Senior Iranian Offici...  Michael R. Pompeo   \n",
       "13  On the Loss of Life Due to Significant Floodin...  Michael R. Pompeo   \n",
       "14  Secretary Michael R. Pompeo at a Naturalizatio...  Michael R. Pompeo   \n",
       "15  U.S. Announces Humanitarian Assistance at the ...  Michael R. Pompeo   \n",
       "16                        Ongoing Protests in Nigeria  Michael R. Pompeo   \n",
       "17     Ancient Hatred, Modern Medium: Opening Session  Michael R. Pompeo   \n",
       "18  Secretary Michael R. Pompeo at a Press Availab...  Michael R. Pompeo   \n",
       "19  Congratulations to Bolivia’s President-Elect L...  Michael R. Pompeo   \n",
       "\n",
       "                 date  type_of_release  \\\n",
       "0     January 5, 2021  Press Statement   \n",
       "1     January 5, 2021        Interview   \n",
       "2     January 5, 2021        Interview   \n",
       "3     January 4, 2021            Op-Ed   \n",
       "4     January 4, 2021  Press Statement   \n",
       "5     January 1, 2021  Press Statement   \n",
       "6   December 31, 2020  Press Statement   \n",
       "7   December 31, 2020  Press Statement   \n",
       "8   December 31, 2020  Press Statement   \n",
       "9   December 30, 2020  Press Statement   \n",
       "10   October 23, 2020  Press Statement   \n",
       "11   October 22, 2020  Press Statement   \n",
       "12   October 22, 2020  Press Statement   \n",
       "13   October 22, 2020  Press Statement   \n",
       "14   October 22, 2020          Remarks   \n",
       "15   October 22, 2020  Press Statement   \n",
       "16   October 22, 2020  Press Statement   \n",
       "17   October 21, 2020          missing   \n",
       "18   October 21, 2020          Remarks   \n",
       "19   October 21, 2020  Press Statement   \n",
       "\n",
       "                                                 link  \\\n",
       "0   https://2017-2021.state.gov/sanctioning-compan...   \n",
       "1   https://2017-2021.state.gov/secretary-michael-...   \n",
       "2   https://2017-2021.state.gov/secretary-michael-...   \n",
       "3   https://2017-2021.state.gov/why-chinas-nuclear...   \n",
       "4   https://2017-2021.state.gov/myanmar-independen...   \n",
       "5   https://2017-2021.state.gov/removing-the-cuban...   \n",
       "6   https://2017-2021.state.gov/u-s-vote-against-t...   \n",
       "7   https://2017-2021.state.gov/haitis-independenc...   \n",
       "8   https://2017-2021.state.gov/on-the-fate-of-the...   \n",
       "9   https://2017-2021.state.gov/on-the-passing-of-...   \n",
       "10  https://2017-2021.state.gov/on-the-anniversary...   \n",
       "11  https://2017-2021.state.gov/united-states-sanc...   \n",
       "12  https://2017-2021.state.gov/united-states-desi...   \n",
       "13  https://2017-2021.state.gov/on-the-loss-of-lif...   \n",
       "14  https://2017-2021.state.gov/secretary-michael-...   \n",
       "15  https://2017-2021.state.gov/u-s-announces-huma...   \n",
       "16  https://2017-2021.state.gov/ongoing-protests-i...   \n",
       "17  https://2017-2021.state.gov/anti-semitism-conf...   \n",
       "18  https://2017-2021.state.gov/secretary-michael-...   \n",
       "19  https://2017-2021.state.gov/congratulations-to...   \n",
       "\n",
       "                                              content  \n",
       "0   Today, the United States is imposing sanctions...  \n",
       "1   QUESTION:  Hello.  We’re here today with Mike ...  \n",
       "2   QUESTION:  Secretary Mike Pompeo, such a pleas...  \n",
       "3   COVID-19 has taught the world that the Chinese...  \n",
       "4   On behalf of the Government of the United Stat...  \n",
       "5   Today, the Department of State is announcing t...  \n",
       "6   Today, the United States called for a vote in ...  \n",
       "7   On behalf of the Government of the United Stat...  \n",
       "8   Hong Kong was a thriving territory until the C...  \n",
       "9   On behalf of the Government of the United Stat...  \n",
       "10  On October 23, 1983, Hizballah carried out a s...  \n",
       "11  Today, the United States is designating two Hi...  \n",
       "12  For many years, the Iranian regime and its pri...  \n",
       "13  The Government of the United States expresses ...  \n",
       "14  MR ROSENBERG:  Good morning.  My name is Ron R...  \n",
       "15  Today, the United States, the United Kingdom, ...  \n",
       "16  The United States strongly condemns the use of...  \n",
       "17  [MUSIC PLAYING] NARRATOR: It’s 2020. We’re all...  \n",
       "18  SECRETARY POMPEO:  Morning, everyone.  How are...  \n",
       "19  The United States congratulates Bolivian Presi...  "
      ]
     },
     "execution_count": 299,
     "metadata": {},
     "output_type": "execute_result"
    }
   ],
   "source": [
    "missing_pages"
   ]
  },
  {
   "cell_type": "markdown",
   "id": "c5eb1422",
   "metadata": {},
   "source": [
    "### Merge with main "
   ]
  },
  {
   "cell_type": "code",
   "execution_count": 328,
   "id": "b0cf1a09",
   "metadata": {},
   "outputs": [],
   "source": [
    "pompeo_pull = pd.concat([missing_pages, test_reupload], ignore_index=True)"
   ]
  },
  {
   "cell_type": "code",
   "execution_count": 329,
   "id": "9e46188b",
   "metadata": {},
   "outputs": [
    {
     "data": {
      "text/html": [
       "<div>\n",
       "<style scoped>\n",
       "    .dataframe tbody tr th:only-of-type {\n",
       "        vertical-align: middle;\n",
       "    }\n",
       "\n",
       "    .dataframe tbody tr th {\n",
       "        vertical-align: top;\n",
       "    }\n",
       "\n",
       "    .dataframe thead th {\n",
       "        text-align: right;\n",
       "    }\n",
       "</style>\n",
       "<table border=\"1\" class=\"dataframe\">\n",
       "  <thead>\n",
       "    <tr style=\"text-align: right;\">\n",
       "      <th></th>\n",
       "      <th>title</th>\n",
       "      <th>source</th>\n",
       "      <th>date</th>\n",
       "      <th>type_of_release</th>\n",
       "      <th>link</th>\n",
       "      <th>content</th>\n",
       "      <th>page_scraped</th>\n",
       "    </tr>\n",
       "  </thead>\n",
       "  <tbody>\n",
       "    <tr>\n",
       "      <th>0</th>\n",
       "      <td>Sanctioning Companies Supporting Iran’s Metal ...</td>\n",
       "      <td>Michael R. Pompeo</td>\n",
       "      <td>January 5, 2021</td>\n",
       "      <td>Press Statement</td>\n",
       "      <td>https://2017-2021.state.gov/sanctioning-compan...</td>\n",
       "      <td>Today, the United States is imposing sanctions...</td>\n",
       "      <td>NaN</td>\n",
       "    </tr>\n",
       "    <tr>\n",
       "      <th>1</th>\n",
       "      <td>Secretary Michael R. Pompeo  With David Rubens...</td>\n",
       "      <td>Michael R. Pompeo</td>\n",
       "      <td>January 5, 2021</td>\n",
       "      <td>Interview</td>\n",
       "      <td>https://2017-2021.state.gov/secretary-michael-...</td>\n",
       "      <td>QUESTION:  Hello.  We’re here today with Mike ...</td>\n",
       "      <td>NaN</td>\n",
       "    </tr>\n",
       "    <tr>\n",
       "      <th>2</th>\n",
       "      <td>Secretary Michael R. Pompeo With Jan Jekielek ...</td>\n",
       "      <td>Michael R. Pompeo</td>\n",
       "      <td>January 5, 2021</td>\n",
       "      <td>Interview</td>\n",
       "      <td>https://2017-2021.state.gov/secretary-michael-...</td>\n",
       "      <td>QUESTION:  Secretary Mike Pompeo, such a pleas...</td>\n",
       "      <td>NaN</td>\n",
       "    </tr>\n",
       "    <tr>\n",
       "      <th>3</th>\n",
       "      <td>Why China’s Nuclear Build-Up Should Worry the ...</td>\n",
       "      <td>Michael R. Pompeo</td>\n",
       "      <td>January 4, 2021</td>\n",
       "      <td>Op-Ed</td>\n",
       "      <td>https://2017-2021.state.gov/why-chinas-nuclear...</td>\n",
       "      <td>COVID-19 has taught the world that the Chinese...</td>\n",
       "      <td>NaN</td>\n",
       "    </tr>\n",
       "    <tr>\n",
       "      <th>4</th>\n",
       "      <td>Myanmar Independence Day</td>\n",
       "      <td>Michael R. Pompeo</td>\n",
       "      <td>January 4, 2021</td>\n",
       "      <td>Press Statement</td>\n",
       "      <td>https://2017-2021.state.gov/myanmar-independen...</td>\n",
       "      <td>On behalf of the Government of the United Stat...</td>\n",
       "      <td>NaN</td>\n",
       "    </tr>\n",
       "  </tbody>\n",
       "</table>\n",
       "</div>"
      ],
      "text/plain": [
       "                                               title             source  \\\n",
       "0  Sanctioning Companies Supporting Iran’s Metal ...  Michael R. Pompeo   \n",
       "1  Secretary Michael R. Pompeo  With David Rubens...  Michael R. Pompeo   \n",
       "2  Secretary Michael R. Pompeo With Jan Jekielek ...  Michael R. Pompeo   \n",
       "3  Why China’s Nuclear Build-Up Should Worry the ...  Michael R. Pompeo   \n",
       "4                           Myanmar Independence Day  Michael R. Pompeo   \n",
       "\n",
       "              date  type_of_release  \\\n",
       "0  January 5, 2021  Press Statement   \n",
       "1  January 5, 2021        Interview   \n",
       "2  January 5, 2021        Interview   \n",
       "3  January 4, 2021            Op-Ed   \n",
       "4  January 4, 2021  Press Statement   \n",
       "\n",
       "                                                link  \\\n",
       "0  https://2017-2021.state.gov/sanctioning-compan...   \n",
       "1  https://2017-2021.state.gov/secretary-michael-...   \n",
       "2  https://2017-2021.state.gov/secretary-michael-...   \n",
       "3  https://2017-2021.state.gov/why-chinas-nuclear...   \n",
       "4  https://2017-2021.state.gov/myanmar-independen...   \n",
       "\n",
       "                                             content  page_scraped  \n",
       "0  Today, the United States is imposing sanctions...           NaN  \n",
       "1  QUESTION:  Hello.  We’re here today with Mike ...           NaN  \n",
       "2  QUESTION:  Secretary Mike Pompeo, such a pleas...           NaN  \n",
       "3  COVID-19 has taught the world that the Chinese...           NaN  \n",
       "4  On behalf of the Government of the United Stat...           NaN  "
      ]
     },
     "execution_count": 329,
     "metadata": {},
     "output_type": "execute_result"
    }
   ],
   "source": [
    "pompeo_pull.head()"
   ]
  },
  {
   "cell_type": "code",
   "execution_count": 330,
   "id": "6a7de85b",
   "metadata": {},
   "outputs": [
    {
     "name": "stdout",
     "output_type": "stream",
     "text": [
      "<class 'pandas.core.frame.DataFrame'>\n",
      "RangeIndex: 1190 entries, 0 to 1189\n",
      "Data columns (total 7 columns):\n",
      " #   Column           Non-Null Count  Dtype  \n",
      "---  ------           --------------  -----  \n",
      " 0   title            1190 non-null   object \n",
      " 1   source           1190 non-null   object \n",
      " 2   date             1190 non-null   object \n",
      " 3   type_of_release  1190 non-null   object \n",
      " 4   link             1190 non-null   object \n",
      " 5   content          1190 non-null   object \n",
      " 6   page_scraped     1160 non-null   float64\n",
      "dtypes: float64(1), object(6)\n",
      "memory usage: 65.2+ KB\n"
     ]
    }
   ],
   "source": [
    "pompeo_pull.info()"
   ]
  },
  {
   "cell_type": "markdown",
   "id": "c5139441",
   "metadata": {},
   "source": [
    "### Clean final df - clean_pompeo_pull"
   ]
  },
  {
   "cell_type": "code",
   "execution_count": 331,
   "id": "905ccd60",
   "metadata": {},
   "outputs": [],
   "source": [
    "# length \n",
    "pompeo_pull['content_length'] = [len(i.split()) for i in pompeo_pull.content]"
   ]
  },
  {
   "cell_type": "code",
   "execution_count": 332,
   "id": "cfc28bdc",
   "metadata": {},
   "outputs": [
    {
     "name": "stdout",
     "output_type": "stream",
     "text": [
      "<class 'pandas.core.frame.DataFrame'>\n",
      "RangeIndex: 1190 entries, 0 to 1189\n",
      "Data columns (total 8 columns):\n",
      " #   Column           Non-Null Count  Dtype  \n",
      "---  ------           --------------  -----  \n",
      " 0   title            1190 non-null   object \n",
      " 1   source           1190 non-null   object \n",
      " 2   date             1190 non-null   object \n",
      " 3   type_of_release  1190 non-null   object \n",
      " 4   link             1190 non-null   object \n",
      " 5   content          1190 non-null   object \n",
      " 6   page_scraped     1160 non-null   float64\n",
      " 7   content_length   1190 non-null   int64  \n",
      "dtypes: float64(1), int64(1), object(6)\n",
      "memory usage: 74.5+ KB\n"
     ]
    }
   ],
   "source": [
    "pompeo_pull.info()"
   ]
  },
  {
   "cell_type": "code",
   "execution_count": 333,
   "id": "01f12de9",
   "metadata": {},
   "outputs": [
    {
     "data": {
      "text/plain": [
       "array(['Michael R. Pompeo', 'missing', 'June 22, 2020', 'January 9, 2020'],\n",
       "      dtype=object)"
      ]
     },
     "execution_count": 333,
     "metadata": {},
     "output_type": "execute_result"
    },
    {
     "data": {
      "text/html": [
       "<div>\n",
       "<style scoped>\n",
       "    .dataframe tbody tr th:only-of-type {\n",
       "        vertical-align: middle;\n",
       "    }\n",
       "\n",
       "    .dataframe tbody tr th {\n",
       "        vertical-align: top;\n",
       "    }\n",
       "\n",
       "    .dataframe thead th {\n",
       "        text-align: right;\n",
       "    }\n",
       "</style>\n",
       "<table border=\"1\" class=\"dataframe\">\n",
       "  <thead>\n",
       "    <tr style=\"text-align: right;\">\n",
       "      <th></th>\n",
       "      <th>title</th>\n",
       "      <th>source</th>\n",
       "      <th>date</th>\n",
       "      <th>type_of_release</th>\n",
       "      <th>link</th>\n",
       "      <th>content</th>\n",
       "      <th>page_scraped</th>\n",
       "      <th>content_length</th>\n",
       "    </tr>\n",
       "  </thead>\n",
       "  <tbody>\n",
       "    <tr>\n",
       "      <th>9</th>\n",
       "      <td>On the Passing of Former Papua New Guinean Pri...</td>\n",
       "      <td>missing</td>\n",
       "      <td>December 30, 2020</td>\n",
       "      <td>Press Statement</td>\n",
       "      <td>https://2017-2021.state.gov/on-the-passing-of-...</td>\n",
       "      <td>On behalf of the Government of the United Stat...</td>\n",
       "      <td>NaN</td>\n",
       "      <td>83</td>\n",
       "    </tr>\n",
       "    <tr>\n",
       "      <th>609</th>\n",
       "      <td>Secretary Michael R. Pompeo With Sean Hannity ...</td>\n",
       "      <td>June 22, 2020</td>\n",
       "      <td>WASHINGTON D.C.</td>\n",
       "      <td>Interview</td>\n",
       "      <td>https://2017-2021.state.gov/secretary-michael-...</td>\n",
       "      <td>QUESTION:  Joining us now is Secretary of Stat...</td>\n",
       "      <td>61.0</td>\n",
       "      <td>1122</td>\n",
       "    </tr>\n",
       "    <tr>\n",
       "      <th>972</th>\n",
       "      <td>Secretary Michael R. Pompeo With Ben Shapiro o...</td>\n",
       "      <td>January 9, 2020</td>\n",
       "      <td>Washington, D.C.</td>\n",
       "      <td>Interview</td>\n",
       "      <td>https://2017-2021.state.gov/secretary-michael-...</td>\n",
       "      <td>QUESTION:  Welcome to the Ben Shapiro Show.  J...</td>\n",
       "      <td>98.0</td>\n",
       "      <td>3047</td>\n",
       "    </tr>\n",
       "  </tbody>\n",
       "</table>\n",
       "</div>"
      ],
      "text/plain": [
       "                                                 title           source  \\\n",
       "9    On the Passing of Former Papua New Guinean Pri...          missing   \n",
       "609  Secretary Michael R. Pompeo With Sean Hannity ...    June 22, 2020   \n",
       "972  Secretary Michael R. Pompeo With Ben Shapiro o...  January 9, 2020   \n",
       "\n",
       "                  date  type_of_release  \\\n",
       "9    December 30, 2020  Press Statement   \n",
       "609    WASHINGTON D.C.        Interview   \n",
       "972   Washington, D.C.        Interview   \n",
       "\n",
       "                                                  link  \\\n",
       "9    https://2017-2021.state.gov/on-the-passing-of-...   \n",
       "609  https://2017-2021.state.gov/secretary-michael-...   \n",
       "972  https://2017-2021.state.gov/secretary-michael-...   \n",
       "\n",
       "                                               content  page_scraped  \\\n",
       "9    On behalf of the Government of the United Stat...           NaN   \n",
       "609  QUESTION:  Joining us now is Secretary of Stat...          61.0   \n",
       "972  QUESTION:  Welcome to the Ben Shapiro Show.  J...          98.0   \n",
       "\n",
       "     content_length  \n",
       "9                83  \n",
       "609            1122  \n",
       "972            3047  "
      ]
     },
     "execution_count": 333,
     "metadata": {},
     "output_type": "execute_result"
    }
   ],
   "source": [
    "pompeo_pull.source.unique() # looks like these don't need fixed at all\n",
    "pompeo_pull[(pompeo_pull.source == 'June 22, 2020') | (pompeo_pull.source == 'January 9, 2020') | (pompeo_pull.source == 'missing')]"
   ]
  },
  {
   "cell_type": "code",
   "execution_count": 334,
   "id": "b2cc77b6",
   "metadata": {},
   "outputs": [
    {
     "data": {
      "text/html": [
       "<div>\n",
       "<style scoped>\n",
       "    .dataframe tbody tr th:only-of-type {\n",
       "        vertical-align: middle;\n",
       "    }\n",
       "\n",
       "    .dataframe tbody tr th {\n",
       "        vertical-align: top;\n",
       "    }\n",
       "\n",
       "    .dataframe thead th {\n",
       "        text-align: right;\n",
       "    }\n",
       "</style>\n",
       "<table border=\"1\" class=\"dataframe\">\n",
       "  <thead>\n",
       "    <tr style=\"text-align: right;\">\n",
       "      <th></th>\n",
       "      <th>title</th>\n",
       "      <th>source</th>\n",
       "      <th>date</th>\n",
       "      <th>type_of_release</th>\n",
       "      <th>link</th>\n",
       "      <th>content</th>\n",
       "      <th>page_scraped</th>\n",
       "      <th>content_length</th>\n",
       "    </tr>\n",
       "  </thead>\n",
       "  <tbody>\n",
       "    <tr>\n",
       "      <th>609</th>\n",
       "      <td>Secretary Michael R. Pompeo With Sean Hannity ...</td>\n",
       "      <td>June 22, 2020</td>\n",
       "      <td>June 22, 2020</td>\n",
       "      <td>Interview</td>\n",
       "      <td>https://2017-2021.state.gov/secretary-michael-...</td>\n",
       "      <td>QUESTION:  Joining us now is Secretary of Stat...</td>\n",
       "      <td>61.0</td>\n",
       "      <td>1122</td>\n",
       "    </tr>\n",
       "    <tr>\n",
       "      <th>972</th>\n",
       "      <td>Secretary Michael R. Pompeo With Ben Shapiro o...</td>\n",
       "      <td>January 9, 2020</td>\n",
       "      <td>January 9, 2020</td>\n",
       "      <td>Interview</td>\n",
       "      <td>https://2017-2021.state.gov/secretary-michael-...</td>\n",
       "      <td>QUESTION:  Welcome to the Ben Shapiro Show.  J...</td>\n",
       "      <td>98.0</td>\n",
       "      <td>3047</td>\n",
       "    </tr>\n",
       "  </tbody>\n",
       "</table>\n",
       "</div>"
      ],
      "text/plain": [
       "                                                 title           source  \\\n",
       "609  Secretary Michael R. Pompeo With Sean Hannity ...    June 22, 2020   \n",
       "972  Secretary Michael R. Pompeo With Ben Shapiro o...  January 9, 2020   \n",
       "\n",
       "                date type_of_release  \\\n",
       "609    June 22, 2020       Interview   \n",
       "972  January 9, 2020       Interview   \n",
       "\n",
       "                                                  link  \\\n",
       "609  https://2017-2021.state.gov/secretary-michael-...   \n",
       "972  https://2017-2021.state.gov/secretary-michael-...   \n",
       "\n",
       "                                               content  page_scraped  \\\n",
       "609  QUESTION:  Joining us now is Secretary of Stat...          61.0   \n",
       "972  QUESTION:  Welcome to the Ben Shapiro Show.  J...          98.0   \n",
       "\n",
       "     content_length  \n",
       "609            1122  \n",
       "972            3047  "
      ]
     },
     "execution_count": 334,
     "metadata": {},
     "output_type": "execute_result"
    }
   ],
   "source": [
    "# looks like data and location are switched up - probably based on my indexing approach so let's manually fix these \n",
    "pompeo_pull['date'] = np.where(pompeo_pull.source.isin(['June 22, 2020','January 9, 2020']), \n",
    "                                pompeo_pull.source, pompeo_pull.date)\n",
    "pompeo_pull[(pompeo_pull.source == 'June 22, 2020') | (pompeo_pull.source == 'January 9, 2020')]"
   ]
  },
  {
   "cell_type": "code",
   "execution_count": 335,
   "id": "2e0878c6",
   "metadata": {},
   "outputs": [
    {
     "data": {
      "text/html": [
       "<div>\n",
       "<style scoped>\n",
       "    .dataframe tbody tr th:only-of-type {\n",
       "        vertical-align: middle;\n",
       "    }\n",
       "\n",
       "    .dataframe tbody tr th {\n",
       "        vertical-align: top;\n",
       "    }\n",
       "\n",
       "    .dataframe thead th {\n",
       "        text-align: right;\n",
       "    }\n",
       "</style>\n",
       "<table border=\"1\" class=\"dataframe\">\n",
       "  <thead>\n",
       "    <tr style=\"text-align: right;\">\n",
       "      <th></th>\n",
       "      <th>title</th>\n",
       "      <th>source</th>\n",
       "      <th>date</th>\n",
       "      <th>type_of_release</th>\n",
       "      <th>link</th>\n",
       "      <th>content</th>\n",
       "      <th>page_scraped</th>\n",
       "      <th>content_length</th>\n",
       "    </tr>\n",
       "  </thead>\n",
       "  <tbody>\n",
       "    <tr>\n",
       "      <th>0</th>\n",
       "      <td>Sanctioning Companies Supporting Iran’s Metal ...</td>\n",
       "      <td>Michael R. Pompeo</td>\n",
       "      <td>January 5, 2021</td>\n",
       "      <td>Press Statement</td>\n",
       "      <td>https://2017-2021.state.gov/sanctioning-compan...</td>\n",
       "      <td>Today, the United States is imposing sanctions...</td>\n",
       "      <td>NaN</td>\n",
       "      <td>387</td>\n",
       "    </tr>\n",
       "    <tr>\n",
       "      <th>1</th>\n",
       "      <td>Secretary Michael R. Pompeo  With David Rubens...</td>\n",
       "      <td>Michael R. Pompeo</td>\n",
       "      <td>January 5, 2021</td>\n",
       "      <td>Interview</td>\n",
       "      <td>https://2017-2021.state.gov/secretary-michael-...</td>\n",
       "      <td>QUESTION:  Hello.  We’re here today with Mike ...</td>\n",
       "      <td>NaN</td>\n",
       "      <td>9374</td>\n",
       "    </tr>\n",
       "    <tr>\n",
       "      <th>2</th>\n",
       "      <td>Secretary Michael R. Pompeo With Jan Jekielek ...</td>\n",
       "      <td>Michael R. Pompeo</td>\n",
       "      <td>January 5, 2021</td>\n",
       "      <td>Interview</td>\n",
       "      <td>https://2017-2021.state.gov/secretary-michael-...</td>\n",
       "      <td>QUESTION:  Secretary Mike Pompeo, such a pleas...</td>\n",
       "      <td>NaN</td>\n",
       "      <td>3618</td>\n",
       "    </tr>\n",
       "    <tr>\n",
       "      <th>3</th>\n",
       "      <td>Why China’s Nuclear Build-Up Should Worry the ...</td>\n",
       "      <td>Michael R. Pompeo</td>\n",
       "      <td>January 4, 2021</td>\n",
       "      <td>Op-Ed</td>\n",
       "      <td>https://2017-2021.state.gov/why-chinas-nuclear...</td>\n",
       "      <td>COVID-19 has taught the world that the Chinese...</td>\n",
       "      <td>NaN</td>\n",
       "      <td>918</td>\n",
       "    </tr>\n",
       "    <tr>\n",
       "      <th>4</th>\n",
       "      <td>Myanmar Independence Day</td>\n",
       "      <td>Michael R. Pompeo</td>\n",
       "      <td>January 4, 2021</td>\n",
       "      <td>Press Statement</td>\n",
       "      <td>https://2017-2021.state.gov/myanmar-independen...</td>\n",
       "      <td>On behalf of the Government of the United Stat...</td>\n",
       "      <td>NaN</td>\n",
       "      <td>88</td>\n",
       "    </tr>\n",
       "  </tbody>\n",
       "</table>\n",
       "</div>"
      ],
      "text/plain": [
       "                                               title             source  \\\n",
       "0  Sanctioning Companies Supporting Iran’s Metal ...  Michael R. Pompeo   \n",
       "1  Secretary Michael R. Pompeo  With David Rubens...  Michael R. Pompeo   \n",
       "2  Secretary Michael R. Pompeo With Jan Jekielek ...  Michael R. Pompeo   \n",
       "3  Why China’s Nuclear Build-Up Should Worry the ...  Michael R. Pompeo   \n",
       "4                           Myanmar Independence Day  Michael R. Pompeo   \n",
       "\n",
       "              date  type_of_release  \\\n",
       "0  January 5, 2021  Press Statement   \n",
       "1  January 5, 2021        Interview   \n",
       "2  January 5, 2021        Interview   \n",
       "3  January 4, 2021            Op-Ed   \n",
       "4  January 4, 2021  Press Statement   \n",
       "\n",
       "                                                link  \\\n",
       "0  https://2017-2021.state.gov/sanctioning-compan...   \n",
       "1  https://2017-2021.state.gov/secretary-michael-...   \n",
       "2  https://2017-2021.state.gov/secretary-michael-...   \n",
       "3  https://2017-2021.state.gov/why-chinas-nuclear...   \n",
       "4  https://2017-2021.state.gov/myanmar-independen...   \n",
       "\n",
       "                                             content  page_scraped  \\\n",
       "0  Today, the United States is imposing sanctions...           NaN   \n",
       "1  QUESTION:  Hello.  We’re here today with Mike ...           NaN   \n",
       "2  QUESTION:  Secretary Mike Pompeo, such a pleas...           NaN   \n",
       "3  COVID-19 has taught the world that the Chinese...           NaN   \n",
       "4  On behalf of the Government of the United Stat...           NaN   \n",
       "\n",
       "   content_length  \n",
       "0             387  \n",
       "1            9374  \n",
       "2            3618  \n",
       "3             918  \n",
       "4              88  "
      ]
     },
     "execution_count": 335,
     "metadata": {},
     "output_type": "execute_result"
    },
    {
     "data": {
      "text/html": [
       "<div>\n",
       "<style scoped>\n",
       "    .dataframe tbody tr th:only-of-type {\n",
       "        vertical-align: middle;\n",
       "    }\n",
       "\n",
       "    .dataframe tbody tr th {\n",
       "        vertical-align: top;\n",
       "    }\n",
       "\n",
       "    .dataframe thead th {\n",
       "        text-align: right;\n",
       "    }\n",
       "</style>\n",
       "<table border=\"1\" class=\"dataframe\">\n",
       "  <thead>\n",
       "    <tr style=\"text-align: right;\">\n",
       "      <th></th>\n",
       "      <th>title</th>\n",
       "      <th>source</th>\n",
       "      <th>date</th>\n",
       "      <th>type_of_release</th>\n",
       "      <th>link</th>\n",
       "      <th>content</th>\n",
       "      <th>page_scraped</th>\n",
       "      <th>content_length</th>\n",
       "    </tr>\n",
       "  </thead>\n",
       "  <tbody>\n",
       "    <tr>\n",
       "      <th>609</th>\n",
       "      <td>Secretary Michael R. Pompeo With Sean Hannity ...</td>\n",
       "      <td>Michael R. Pompeo</td>\n",
       "      <td>June 22, 2020</td>\n",
       "      <td>Interview</td>\n",
       "      <td>https://2017-2021.state.gov/secretary-michael-...</td>\n",
       "      <td>QUESTION:  Joining us now is Secretary of Stat...</td>\n",
       "      <td>61.0</td>\n",
       "      <td>1122</td>\n",
       "    </tr>\n",
       "    <tr>\n",
       "      <th>610</th>\n",
       "      <td>United States Stands with Canada Against China...</td>\n",
       "      <td>Michael R. Pompeo</td>\n",
       "      <td>June 22, 2020</td>\n",
       "      <td>Press Statement</td>\n",
       "      <td>https://2017-2021.state.gov/united-states-stan...</td>\n",
       "      <td>The United States is extremely concerned by th...</td>\n",
       "      <td>62.0</td>\n",
       "      <td>107</td>\n",
       "    </tr>\n",
       "    <tr>\n",
       "      <th>972</th>\n",
       "      <td>Secretary Michael R. Pompeo With Ben Shapiro o...</td>\n",
       "      <td>Michael R. Pompeo</td>\n",
       "      <td>January 9, 2020</td>\n",
       "      <td>Interview</td>\n",
       "      <td>https://2017-2021.state.gov/secretary-michael-...</td>\n",
       "      <td>QUESTION:  Welcome to the Ben Shapiro Show.  J...</td>\n",
       "      <td>98.0</td>\n",
       "      <td>3047</td>\n",
       "    </tr>\n",
       "    <tr>\n",
       "      <th>973</th>\n",
       "      <td>Supporting the Venezuelan People</td>\n",
       "      <td>Michael R. Pompeo</td>\n",
       "      <td>January 9, 2020</td>\n",
       "      <td>Press Statement</td>\n",
       "      <td>https://2017-2021.state.gov/supporting-the-ven...</td>\n",
       "      <td>Venezuela’s political crisis has led to the fl...</td>\n",
       "      <td>98.0</td>\n",
       "      <td>207</td>\n",
       "    </tr>\n",
       "  </tbody>\n",
       "</table>\n",
       "</div>"
      ],
      "text/plain": [
       "                                                 title             source  \\\n",
       "609  Secretary Michael R. Pompeo With Sean Hannity ...  Michael R. Pompeo   \n",
       "610  United States Stands with Canada Against China...  Michael R. Pompeo   \n",
       "972  Secretary Michael R. Pompeo With Ben Shapiro o...  Michael R. Pompeo   \n",
       "973                   Supporting the Venezuelan People  Michael R. Pompeo   \n",
       "\n",
       "                date  type_of_release  \\\n",
       "609    June 22, 2020        Interview   \n",
       "610    June 22, 2020  Press Statement   \n",
       "972  January 9, 2020        Interview   \n",
       "973  January 9, 2020  Press Statement   \n",
       "\n",
       "                                                  link  \\\n",
       "609  https://2017-2021.state.gov/secretary-michael-...   \n",
       "610  https://2017-2021.state.gov/united-states-stan...   \n",
       "972  https://2017-2021.state.gov/secretary-michael-...   \n",
       "973  https://2017-2021.state.gov/supporting-the-ven...   \n",
       "\n",
       "                                               content  page_scraped  \\\n",
       "609  QUESTION:  Joining us now is Secretary of Stat...          61.0   \n",
       "610  The United States is extremely concerned by th...          62.0   \n",
       "972  QUESTION:  Welcome to the Ben Shapiro Show.  J...          98.0   \n",
       "973  Venezuela’s political crisis has led to the fl...          98.0   \n",
       "\n",
       "     content_length  \n",
       "609            1122  \n",
       "610             107  \n",
       "972            3047  \n",
       "973             207  "
      ]
     },
     "execution_count": 335,
     "metadata": {},
     "output_type": "execute_result"
    }
   ],
   "source": [
    "pompeo_pull.source = 'Michael R. Pompeo'\n",
    "pompeo_pull.head()\n",
    "pompeo_pull[(pompeo_pull.date == 'June 22, 2020') | (pompeo_pull.date == 'January 9, 2020')]"
   ]
  },
  {
   "cell_type": "code",
   "execution_count": 336,
   "id": "b181d15e",
   "metadata": {},
   "outputs": [
    {
     "data": {
      "text/plain": [
       "type_of_release\n",
       "FPC Briefing              1\n",
       "Interview               208\n",
       "Op-Ed                     5\n",
       "Other Release             2\n",
       "Press Statement         800\n",
       "Readout                   1\n",
       "Remarks                  51\n",
       "Remarks to the Press     84\n",
       "Special Briefing          1\n",
       "Speech                   36\n",
       "missing                   1\n",
       "dtype: int64"
      ]
     },
     "execution_count": 336,
     "metadata": {},
     "output_type": "execute_result"
    }
   ],
   "source": [
    "pompeo_pull.groupby('type_of_release').size() # looks like there's some here that are not in blinken's "
   ]
  },
  {
   "cell_type": "code",
   "execution_count": 337,
   "id": "fa1f1f0d",
   "metadata": {},
   "outputs": [
    {
     "data": {
      "text/html": [
       "<div>\n",
       "<style scoped>\n",
       "    .dataframe tbody tr th:only-of-type {\n",
       "        vertical-align: middle;\n",
       "    }\n",
       "\n",
       "    .dataframe tbody tr th {\n",
       "        vertical-align: top;\n",
       "    }\n",
       "\n",
       "    .dataframe thead th {\n",
       "        text-align: right;\n",
       "    }\n",
       "</style>\n",
       "<table border=\"1\" class=\"dataframe\">\n",
       "  <thead>\n",
       "    <tr style=\"text-align: right;\">\n",
       "      <th></th>\n",
       "      <th>title</th>\n",
       "      <th>source</th>\n",
       "      <th>date</th>\n",
       "      <th>type_of_release</th>\n",
       "      <th>link</th>\n",
       "      <th>content</th>\n",
       "      <th>page_scraped</th>\n",
       "      <th>content_length</th>\n",
       "      <th>date_clean</th>\n",
       "    </tr>\n",
       "  </thead>\n",
       "  <tbody>\n",
       "    <tr>\n",
       "      <th>0</th>\n",
       "      <td>Sanctioning Companies Supporting Iran’s Metal ...</td>\n",
       "      <td>Michael R. Pompeo</td>\n",
       "      <td>January 5, 2021</td>\n",
       "      <td>Press Statement</td>\n",
       "      <td>https://2017-2021.state.gov/sanctioning-compan...</td>\n",
       "      <td>Today, the United States is imposing sanctions...</td>\n",
       "      <td>NaN</td>\n",
       "      <td>387</td>\n",
       "      <td>2021-01-05</td>\n",
       "    </tr>\n",
       "    <tr>\n",
       "      <th>1</th>\n",
       "      <td>Secretary Michael R. Pompeo  With David Rubens...</td>\n",
       "      <td>Michael R. Pompeo</td>\n",
       "      <td>January 5, 2021</td>\n",
       "      <td>Interview</td>\n",
       "      <td>https://2017-2021.state.gov/secretary-michael-...</td>\n",
       "      <td>QUESTION:  Hello.  We’re here today with Mike ...</td>\n",
       "      <td>NaN</td>\n",
       "      <td>9374</td>\n",
       "      <td>2021-01-05</td>\n",
       "    </tr>\n",
       "    <tr>\n",
       "      <th>2</th>\n",
       "      <td>Secretary Michael R. Pompeo With Jan Jekielek ...</td>\n",
       "      <td>Michael R. Pompeo</td>\n",
       "      <td>January 5, 2021</td>\n",
       "      <td>Interview</td>\n",
       "      <td>https://2017-2021.state.gov/secretary-michael-...</td>\n",
       "      <td>QUESTION:  Secretary Mike Pompeo, such a pleas...</td>\n",
       "      <td>NaN</td>\n",
       "      <td>3618</td>\n",
       "      <td>2021-01-05</td>\n",
       "    </tr>\n",
       "    <tr>\n",
       "      <th>3</th>\n",
       "      <td>Why China’s Nuclear Build-Up Should Worry the ...</td>\n",
       "      <td>Michael R. Pompeo</td>\n",
       "      <td>January 4, 2021</td>\n",
       "      <td>Op-Ed</td>\n",
       "      <td>https://2017-2021.state.gov/why-chinas-nuclear...</td>\n",
       "      <td>COVID-19 has taught the world that the Chinese...</td>\n",
       "      <td>NaN</td>\n",
       "      <td>918</td>\n",
       "      <td>2021-01-04</td>\n",
       "    </tr>\n",
       "    <tr>\n",
       "      <th>4</th>\n",
       "      <td>Myanmar Independence Day</td>\n",
       "      <td>Michael R. Pompeo</td>\n",
       "      <td>January 4, 2021</td>\n",
       "      <td>Press Statement</td>\n",
       "      <td>https://2017-2021.state.gov/myanmar-independen...</td>\n",
       "      <td>On behalf of the Government of the United Stat...</td>\n",
       "      <td>NaN</td>\n",
       "      <td>88</td>\n",
       "      <td>2021-01-04</td>\n",
       "    </tr>\n",
       "  </tbody>\n",
       "</table>\n",
       "</div>"
      ],
      "text/plain": [
       "                                               title             source  \\\n",
       "0  Sanctioning Companies Supporting Iran’s Metal ...  Michael R. Pompeo   \n",
       "1  Secretary Michael R. Pompeo  With David Rubens...  Michael R. Pompeo   \n",
       "2  Secretary Michael R. Pompeo With Jan Jekielek ...  Michael R. Pompeo   \n",
       "3  Why China’s Nuclear Build-Up Should Worry the ...  Michael R. Pompeo   \n",
       "4                           Myanmar Independence Day  Michael R. Pompeo   \n",
       "\n",
       "              date  type_of_release  \\\n",
       "0  January 5, 2021  Press Statement   \n",
       "1  January 5, 2021        Interview   \n",
       "2  January 5, 2021        Interview   \n",
       "3  January 4, 2021            Op-Ed   \n",
       "4  January 4, 2021  Press Statement   \n",
       "\n",
       "                                                link  \\\n",
       "0  https://2017-2021.state.gov/sanctioning-compan...   \n",
       "1  https://2017-2021.state.gov/secretary-michael-...   \n",
       "2  https://2017-2021.state.gov/secretary-michael-...   \n",
       "3  https://2017-2021.state.gov/why-chinas-nuclear...   \n",
       "4  https://2017-2021.state.gov/myanmar-independen...   \n",
       "\n",
       "                                             content  page_scraped  \\\n",
       "0  Today, the United States is imposing sanctions...           NaN   \n",
       "1  QUESTION:  Hello.  We’re here today with Mike ...           NaN   \n",
       "2  QUESTION:  Secretary Mike Pompeo, such a pleas...           NaN   \n",
       "3  COVID-19 has taught the world that the Chinese...           NaN   \n",
       "4  On behalf of the Government of the United Stat...           NaN   \n",
       "\n",
       "   content_length date_clean  \n",
       "0             387 2021-01-05  \n",
       "1            9374 2021-01-05  \n",
       "2            3618 2021-01-05  \n",
       "3             918 2021-01-04  \n",
       "4              88 2021-01-04  "
      ]
     },
     "execution_count": 337,
     "metadata": {},
     "output_type": "execute_result"
    }
   ],
   "source": [
    "# convert date to date object\n",
    "\n",
    "# Convert the 'date' to datetime\n",
    "pompeo_pull['date_clean'] = pd.to_datetime(pompeo_pull['date'], format='%B %d, %Y')\n",
    "\n",
    "# Now, 'date_clean' contains datetime objects\n",
    "pompeo_pull.head()"
   ]
  },
  {
   "cell_type": "code",
   "execution_count": 338,
   "id": "21a83816",
   "metadata": {},
   "outputs": [],
   "source": [
    "pompeo_pull_clean = pompeo_pull.drop(columns=['date'])"
   ]
  },
  {
   "cell_type": "code",
   "execution_count": 339,
   "id": "42e5c45d",
   "metadata": {},
   "outputs": [],
   "source": [
    "# save\n",
    "pompeo_pull_clean.to_csv('pompeo_pull_clean.csv', index = False)"
   ]
  },
  {
   "cell_type": "markdown",
   "id": "f5fe3e44",
   "metadata": {},
   "source": [
    "## Subset to one-year's worth "
   ]
  },
  {
   "cell_type": "code",
   "execution_count": 340,
   "id": "4a4250f5",
   "metadata": {},
   "outputs": [],
   "source": [
    "pompeo_2020 = pompeo_pull_clean[(pompeo_pull_clean['date_clean'] >= '2020-01-01')\n",
    "                     & (pompeo_pull_clean['date_clean'] <= '2020-12-31')]"
   ]
  },
  {
   "cell_type": "code",
   "execution_count": 341,
   "id": "39e14381",
   "metadata": {},
   "outputs": [
    {
     "name": "stdout",
     "output_type": "stream",
     "text": [
      "<class 'pandas.core.frame.DataFrame'>\n",
      "Int64Index: 954 entries, 6 to 989\n",
      "Data columns (total 8 columns):\n",
      " #   Column           Non-Null Count  Dtype         \n",
      "---  ------           --------------  -----         \n",
      " 0   title            954 non-null    object        \n",
      " 1   source           954 non-null    object        \n",
      " 2   type_of_release  954 non-null    object        \n",
      " 3   link             954 non-null    object        \n",
      " 4   content          954 non-null    object        \n",
      " 5   page_scraped     940 non-null    float64       \n",
      " 6   content_length   954 non-null    int64         \n",
      " 7   date_clean       954 non-null    datetime64[ns]\n",
      "dtypes: datetime64[ns](1), float64(1), int64(1), object(5)\n",
      "memory usage: 67.1+ KB\n"
     ]
    }
   ],
   "source": [
    "pompeo_2020.info()"
   ]
  },
  {
   "cell_type": "code",
   "execution_count": 342,
   "id": "5a669c7b",
   "metadata": {},
   "outputs": [],
   "source": [
    "pompeo_2020.to_csv('pompeo_2020.csv', index = False)"
   ]
  },
  {
   "cell_type": "markdown",
   "id": "d3b1f513",
   "metadata": {},
   "source": [
    "## Plot"
   ]
  },
  {
   "cell_type": "code",
   "execution_count": 6,
   "id": "87df9e71",
   "metadata": {},
   "outputs": [
    {
     "data": {
      "text/html": [
       "<div>\n",
       "<style scoped>\n",
       "    .dataframe tbody tr th:only-of-type {\n",
       "        vertical-align: middle;\n",
       "    }\n",
       "\n",
       "    .dataframe tbody tr th {\n",
       "        vertical-align: top;\n",
       "    }\n",
       "\n",
       "    .dataframe thead th {\n",
       "        text-align: right;\n",
       "    }\n",
       "</style>\n",
       "<table border=\"1\" class=\"dataframe\">\n",
       "  <thead>\n",
       "    <tr style=\"text-align: right;\">\n",
       "      <th></th>\n",
       "      <th>title</th>\n",
       "      <th>source</th>\n",
       "      <th>type_of_release</th>\n",
       "      <th>link</th>\n",
       "      <th>content</th>\n",
       "      <th>page_scraped</th>\n",
       "      <th>content_length</th>\n",
       "      <th>date_clean</th>\n",
       "    </tr>\n",
       "  </thead>\n",
       "  <tbody>\n",
       "    <tr>\n",
       "      <th>0</th>\n",
       "      <td>U.S. Vote Against the United Nations 2021 Prog...</td>\n",
       "      <td>Michael R. Pompeo</td>\n",
       "      <td>Press Statement</td>\n",
       "      <td>https://2017-2021.state.gov/u-s-vote-against-t...</td>\n",
       "      <td>Today, the United States called for a vote in ...</td>\n",
       "      <td>NaN</td>\n",
       "      <td>140</td>\n",
       "      <td>2020-12-31</td>\n",
       "    </tr>\n",
       "    <tr>\n",
       "      <th>1</th>\n",
       "      <td>Haiti’s Independence Day</td>\n",
       "      <td>Michael R. Pompeo</td>\n",
       "      <td>Press Statement</td>\n",
       "      <td>https://2017-2021.state.gov/haitis-independenc...</td>\n",
       "      <td>On behalf of the Government of the United Stat...</td>\n",
       "      <td>NaN</td>\n",
       "      <td>164</td>\n",
       "      <td>2020-12-31</td>\n",
       "    </tr>\n",
       "    <tr>\n",
       "      <th>2</th>\n",
       "      <td>On the Fate of the “Hong Kong 12”</td>\n",
       "      <td>Michael R. Pompeo</td>\n",
       "      <td>Press Statement</td>\n",
       "      <td>https://2017-2021.state.gov/on-the-fate-of-the...</td>\n",
       "      <td>Hong Kong was a thriving territory until the C...</td>\n",
       "      <td>NaN</td>\n",
       "      <td>155</td>\n",
       "      <td>2020-12-31</td>\n",
       "    </tr>\n",
       "    <tr>\n",
       "      <th>3</th>\n",
       "      <td>On the Passing of Former Papua New Guinean Pri...</td>\n",
       "      <td>Michael R. Pompeo</td>\n",
       "      <td>Press Statement</td>\n",
       "      <td>https://2017-2021.state.gov/on-the-passing-of-...</td>\n",
       "      <td>On behalf of the Government of the United Stat...</td>\n",
       "      <td>NaN</td>\n",
       "      <td>83</td>\n",
       "      <td>2020-12-30</td>\n",
       "    </tr>\n",
       "    <tr>\n",
       "      <th>4</th>\n",
       "      <td>On the Anniversary of the Marine Barracks Terr...</td>\n",
       "      <td>Michael R. Pompeo</td>\n",
       "      <td>Press Statement</td>\n",
       "      <td>https://2017-2021.state.gov/on-the-anniversary...</td>\n",
       "      <td>On October 23, 1983, Hizballah carried out a s...</td>\n",
       "      <td>NaN</td>\n",
       "      <td>260</td>\n",
       "      <td>2020-10-23</td>\n",
       "    </tr>\n",
       "  </tbody>\n",
       "</table>\n",
       "</div>"
      ],
      "text/plain": [
       "                                               title             source  \\\n",
       "0  U.S. Vote Against the United Nations 2021 Prog...  Michael R. Pompeo   \n",
       "1                           Haiti’s Independence Day  Michael R. Pompeo   \n",
       "2                  On the Fate of the “Hong Kong 12”  Michael R. Pompeo   \n",
       "3  On the Passing of Former Papua New Guinean Pri...  Michael R. Pompeo   \n",
       "4  On the Anniversary of the Marine Barracks Terr...  Michael R. Pompeo   \n",
       "\n",
       "   type_of_release                                               link  \\\n",
       "0  Press Statement  https://2017-2021.state.gov/u-s-vote-against-t...   \n",
       "1  Press Statement  https://2017-2021.state.gov/haitis-independenc...   \n",
       "2  Press Statement  https://2017-2021.state.gov/on-the-fate-of-the...   \n",
       "3  Press Statement  https://2017-2021.state.gov/on-the-passing-of-...   \n",
       "4  Press Statement  https://2017-2021.state.gov/on-the-anniversary...   \n",
       "\n",
       "                                             content  page_scraped  \\\n",
       "0  Today, the United States called for a vote in ...           NaN   \n",
       "1  On behalf of the Government of the United Stat...           NaN   \n",
       "2  Hong Kong was a thriving territory until the C...           NaN   \n",
       "3  On behalf of the Government of the United Stat...           NaN   \n",
       "4  On October 23, 1983, Hizballah carried out a s...           NaN   \n",
       "\n",
       "   content_length  date_clean  \n",
       "0             140  2020-12-31  \n",
       "1             164  2020-12-31  \n",
       "2             155  2020-12-31  \n",
       "3              83  2020-12-30  \n",
       "4             260  2020-10-23  "
      ]
     },
     "execution_count": 6,
     "metadata": {},
     "output_type": "execute_result"
    },
    {
     "data": {
      "text/plain": [
       "array(['Press Statement', 'Remarks', 'missing', 'Interview', 'Speech',\n",
       "       'Remarks to the Press', 'Other Release', 'Op-Ed', 'Readout',\n",
       "       'FPC Briefing', 'Special Briefing'], dtype=object)"
      ]
     },
     "execution_count": 6,
     "metadata": {},
     "output_type": "execute_result"
    }
   ],
   "source": [
    "# load data\n",
    "pompeo_2020 = pd.read_csv('pompeo_2020.csv')\n",
    "pompeo_2020.head()\n",
    "pompeo_2020.type_of_release.unique()"
   ]
  },
  {
   "cell_type": "code",
   "execution_count": 7,
   "id": "64f4ccf7",
   "metadata": {},
   "outputs": [
    {
     "data": {
      "text/plain": [
       "count     954.000000\n",
       "mean      899.511530\n",
       "std      1340.860183\n",
       "min        45.000000\n",
       "25%       145.250000\n",
       "50%       255.500000\n",
       "75%      1287.750000\n",
       "max      9240.000000\n",
       "Name: content_length, dtype: float64"
      ]
     },
     "execution_count": 7,
     "metadata": {},
     "output_type": "execute_result"
    }
   ],
   "source": [
    "pompeo_2020.content_length.describe()"
   ]
  },
  {
   "cell_type": "code",
   "execution_count": 10,
   "id": "86402687",
   "metadata": {},
   "outputs": [
    {
     "data": {
      "text/plain": [
       "(array([207., 217., 134.,  52.,  27.,  12.,   8.,   4.,   7.,   4.,  11.,\n",
       "         10.,  12.,  17.,  10.,  15.,  11.,  11.,  16.,  11.,   8.,  15.,\n",
       "         10.,  11.,  11.,   5.,   5.,   6.,   5.,   5.,   4.,   4.,   6.,\n",
       "          3.,   2.,   3.,   4.,   2.,   4.,   3.,   0.,   2.,   1.,   1.,\n",
       "          1.,   1.,   2.,   4.,   0.,   0.,   4.,   4.,   0.,   1.,   1.,\n",
       "          0.,   2.,   0.,   1.,   1.,   0.,   0.,   2.,   1.,   2.,   1.,\n",
       "          0.,   0.,   0.,   0.,   0.,   0.,   1.,   0.,   0.,   0.,   2.,\n",
       "          0.,   0.,   1.,   1.,   0.,   1.,   0.,   0.,   0.,   0.,   0.,\n",
       "          1.,   1.,   0.,   0.,   0.,   0.,   0.,   0.,   0.,   0.,   0.,\n",
       "          2.]),\n",
       " array([  45.  ,  136.95,  228.9 ,  320.85,  412.8 ,  504.75,  596.7 ,\n",
       "         688.65,  780.6 ,  872.55,  964.5 , 1056.45, 1148.4 , 1240.35,\n",
       "        1332.3 , 1424.25, 1516.2 , 1608.15, 1700.1 , 1792.05, 1884.  ,\n",
       "        1975.95, 2067.9 , 2159.85, 2251.8 , 2343.75, 2435.7 , 2527.65,\n",
       "        2619.6 , 2711.55, 2803.5 , 2895.45, 2987.4 , 3079.35, 3171.3 ,\n",
       "        3263.25, 3355.2 , 3447.15, 3539.1 , 3631.05, 3723.  , 3814.95,\n",
       "        3906.9 , 3998.85, 4090.8 , 4182.75, 4274.7 , 4366.65, 4458.6 ,\n",
       "        4550.55, 4642.5 , 4734.45, 4826.4 , 4918.35, 5010.3 , 5102.25,\n",
       "        5194.2 , 5286.15, 5378.1 , 5470.05, 5562.  , 5653.95, 5745.9 ,\n",
       "        5837.85, 5929.8 , 6021.75, 6113.7 , 6205.65, 6297.6 , 6389.55,\n",
       "        6481.5 , 6573.45, 6665.4 , 6757.35, 6849.3 , 6941.25, 7033.2 ,\n",
       "        7125.15, 7217.1 , 7309.05, 7401.  , 7492.95, 7584.9 , 7676.85,\n",
       "        7768.8 , 7860.75, 7952.7 , 8044.65, 8136.6 , 8228.55, 8320.5 ,\n",
       "        8412.45, 8504.4 , 8596.35, 8688.3 , 8780.25, 8872.2 , 8964.15,\n",
       "        9056.1 , 9148.05, 9240.  ]),\n",
       " <BarContainer object of 100 artists>)"
      ]
     },
     "execution_count": 10,
     "metadata": {},
     "output_type": "execute_result"
    },
    {
     "data": {
      "text/plain": [
       "Text(1000, 150, 'Mean length: 899 words')"
      ]
     },
     "execution_count": 10,
     "metadata": {},
     "output_type": "execute_result"
    },
    {
     "data": {
      "text/plain": [
       "<matplotlib.lines.Line2D at 0x7f95d80cb6a0>"
      ]
     },
     "execution_count": 10,
     "metadata": {},
     "output_type": "execute_result"
    },
    {
     "data": {
      "text/plain": [
       "Text(0.5, 1.0, 'From 954 public remarks from January 1, 2020 - December 31, 2020')"
      ]
     },
     "execution_count": 10,
     "metadata": {},
     "output_type": "execute_result"
    },
    {
     "data": {
      "text/plain": [
       "Text(0.5, 0.98, 'Distribution of Document Length - Pompeo')"
      ]
     },
     "execution_count": 10,
     "metadata": {},
     "output_type": "execute_result"
    },
    {
     "data": {
      "text/plain": [
       "Text(0.5, 0, 'Document Word Count')"
      ]
     },
     "execution_count": 10,
     "metadata": {},
     "output_type": "execute_result"
    },
    {
     "data": {
      "text/plain": [
       "Text(0, 0.5, 'Number of Documents')"
      ]
     },
     "execution_count": 10,
     "metadata": {},
     "output_type": "execute_result"
    },
    {
     "data": {
      "image/png": "[encoded data removed]",
      "text/plain": [
       "<Figure size 648x360 with 1 Axes>"
      ]
     },
     "metadata": {
      "needs_background": "light"
     },
     "output_type": "display_data"
    }
   ],
   "source": [
    "fig, ax = plt.subplots(figsize=(9,5))\n",
    "ax.hist(pompeo_2020.content_length, bins = 100, color = 'darkred')\n",
    "ax.text(1000, 150, 'Mean length: 899 words')\n",
    "plt.axvline(x = 899, color = 'dimgrey',ls = 'dashed')\n",
    "plt.title('From 954 public remarks from January 1, 2020 - December 31, 2020', size = 10)\n",
    "plt.suptitle('Distribution of Document Length - Pompeo', size = 20)\n",
    "plt.xlabel('Document Word Count')\n",
    "plt.ylabel('Number of Documents')\n",
    "# fig.savefig('pompeo2020_hist.png')"
   ]
  },
  {
   "cell_type": "code",
   "execution_count": 347,
   "id": "bd9b2b3b",
   "metadata": {},
   "outputs": [
    {
     "data": {
      "text/plain": [
       "285"
      ]
     },
     "execution_count": 347,
     "metadata": {},
     "output_type": "execute_result"
    },
    {
     "name": "stdout",
     "output_type": "stream",
     "text": [
      "29.87 percent of documents are > mean 899 words\n"
     ]
    }
   ],
   "source": [
    "# see how many documents are greater than mean \n",
    "greater_mean_pompeo = len(pompeo_2020[pompeo_2020.content_length > 899]) \n",
    "greater_mean_pompeo\n",
    "print(str(round((greater_mean_pompeo/len(pompeo_2020)*100),2)) + ' percent of documents are > mean 899 words')"
   ]
  }
 ],
 "metadata": {
  "kernelspec": {
   "display_name": "Python 3 (ipykernel)",
   "language": "python",
   "name": "python3"
  },
  "language_info": {
   "codemirror_mode": {
    "name": "ipython",
    "version": 3
   },
   "file_extension": ".py",
   "mimetype": "text/x-python",
   "name": "python",
   "nbconvert_exporter": "python",
   "pygments_lexer": "ipython3",
   "version": "3.9.12"
  }
 },
 "nbformat": 4,
 "nbformat_minor": 5
}
