{
 "cells": [
  {
   "cell_type": "markdown",
   "id": "8e6f21b6",
   "metadata": {},
   "source": [
    "# Scrape Blinken Public Affairs Materials"
   ]
  },
  {
   "cell_type": "code",
   "execution_count": 1,
   "id": "4c8a0242",
   "metadata": {},
   "outputs": [
    {
     "name": "stdout",
     "output_type": "stream",
     "text": [
      "Exception reporting mode: Minimal\n"
     ]
    }
   ],
   "source": [
    "# set up\n",
    "import requests \n",
    "import bs4\n",
    "import pandas as pd \n",
    "import numpy as np\n",
    "import time \n",
    "import matplotlib.pyplot as plt\n",
    "\n",
    "from IPython.core.interactiveshell import InteractiveShell \n",
    "InteractiveShell.ast_node_interactivity = \"all\"\n",
    "\n",
    "%xmode Minimal"
   ]
  },
  {
   "cell_type": "markdown",
   "id": "266ac37a",
   "metadata": {},
   "source": [
    "## Page Scraping of Links"
   ]
  },
  {
   "cell_type": "code",
   "execution_count": 2,
   "id": "05148e13",
   "metadata": {},
   "outputs": [],
   "source": [
    "# set headers \n",
    "my_header_list = {'User-Agent': 'Mozilla/5.0 (Macintosh; Intel Mac OS X 10_15_7) AppleWebKit/537.36 (KHTML, like Gecko) Chrome/118.0.0.0 Safari/537.36',\n",
    "              'Accept-Language': 'en-US,en;q=0.9'}"
   ]
  },
  {
   "cell_type": "markdown",
   "id": "1934e379",
   "metadata": {
    "heading_collapsed": true
   },
   "source": [
    "### Scrape one page"
   ]
  },
  {
   "cell_type": "markdown",
   "id": "4ed489a3",
   "metadata": {},
   "source": [
    "### Scrape many pages"
   ]
  },
  {
   "cell_type": "code",
   "execution_count": 3,
   "id": "af7a98d2",
   "metadata": {},
   "outputs": [],
   "source": [
    "# define webpage scraping \n",
    "def scrape_dos_blinken(website, headers):\n",
    "    server_response = requests.get(website, headers)\n",
    "    time.sleep(5)\n",
    "    soup = bs4.BeautifulSoup(server_response.content, features=\"html.parser\")\n",
    "    results = soup.find_all('li', class_ = 'collection-result') \n",
    "    results_list = [{'title': i.find('a', class_ = 'collection-result__link').text,\n",
    "                 'source': i.find('span').text,\n",
    "                 'date': i.find('span', dir= 'ltr').text, \n",
    "                 'type_of_release': i.find('p', class_ = 'collection-result__date').text,\n",
    "                'link': i.find('a', class_ = 'collection-result__link')['href']} for i in results]\n",
    "    df = pd.DataFrame.from_dict(results_list)\n",
    "    df['title'] = [i.strip() for i in df.title] # because original output has weird \n",
    "    df['content'] = np.nan\n",
    "    return df"
   ]
  },
  {
   "cell_type": "code",
   "execution_count": 5,
   "id": "e4b64294",
   "metadata": {},
   "outputs": [],
   "source": [
    "# try to scrape the first set of pages\n",
    "# manual review for 2022 - I want pages 77 - 179\n",
    "df_list=[]\n",
    "\n",
    "for i in range(77,91):\n",
    "    try: \n",
    "        df = scrape_dos_blinken(f'https://www.state.gov/remarks-secretary-blinken/page/{i}/', my_header_list)\n",
    "        df['page_scraped'] = i \n",
    "        df_list.append(df)\n",
    "    except Exception as e:\n",
    "        print(f'Error: {e} at page {i}')"
   ]
  },
  {
   "cell_type": "code",
   "execution_count": 6,
   "id": "c1338621",
   "metadata": {},
   "outputs": [
    {
     "data": {
      "text/html": [
       "<div>\n",
       "<style scoped>\n",
       "    .dataframe tbody tr th:only-of-type {\n",
       "        vertical-align: middle;\n",
       "    }\n",
       "\n",
       "    .dataframe tbody tr th {\n",
       "        vertical-align: top;\n",
       "    }\n",
       "\n",
       "    .dataframe thead th {\n",
       "        text-align: right;\n",
       "    }\n",
       "</style>\n",
       "<table border=\"1\" class=\"dataframe\">\n",
       "  <thead>\n",
       "    <tr style=\"text-align: right;\">\n",
       "      <th></th>\n",
       "      <th>title</th>\n",
       "      <th>source</th>\n",
       "      <th>date</th>\n",
       "      <th>type_of_release</th>\n",
       "      <th>link</th>\n",
       "      <th>content</th>\n",
       "      <th>page_scraped</th>\n",
       "    </tr>\n",
       "  </thead>\n",
       "  <tbody>\n",
       "    <tr>\n",
       "      <th>0</th>\n",
       "      <td>The Negev Forum Working Groups and Regional Co...</td>\n",
       "      <td>Antony J. Blinken</td>\n",
       "      <td>January 10, 2023</td>\n",
       "      <td>Press Statement</td>\n",
       "      <td>https://www.state.gov/the-negev-forum-working-...</td>\n",
       "      <td>NaN</td>\n",
       "      <td>77</td>\n",
       "    </tr>\n",
       "    <tr>\n",
       "      <th>1</th>\n",
       "      <td>Secretary Antony J. Blinken Mexican Foreign Se...</td>\n",
       "      <td>Antony J. Blinken</td>\n",
       "      <td>January 10, 2023</td>\n",
       "      <td>Remarks</td>\n",
       "      <td>https://www.state.gov/secretary-antony-j-blink...</td>\n",
       "      <td>NaN</td>\n",
       "      <td>77</td>\n",
       "    </tr>\n",
       "    <tr>\n",
       "      <th>2</th>\n",
       "      <td>Welcome Corps Launch Video</td>\n",
       "      <td>Antony J. Blinken</td>\n",
       "      <td>January 6, 2023</td>\n",
       "      <td>Video Remarks</td>\n",
       "      <td>https://www.state.gov/welcome-corps-launch-video/</td>\n",
       "      <td>NaN</td>\n",
       "      <td>77</td>\n",
       "    </tr>\n",
       "    <tr>\n",
       "      <th>3</th>\n",
       "      <td>More Than $3.75 Billion in U.S. Military Assis...</td>\n",
       "      <td>Antony J. Blinken</td>\n",
       "      <td>January 6, 2023</td>\n",
       "      <td>Press Statement</td>\n",
       "      <td>https://www.state.gov/more-than-3-75-billion-i...</td>\n",
       "      <td>NaN</td>\n",
       "      <td>77</td>\n",
       "    </tr>\n",
       "    <tr>\n",
       "      <th>4</th>\n",
       "      <td>New Sanctions Targeting Iran’s UAV and Ballist...</td>\n",
       "      <td>Antony J. Blinken</td>\n",
       "      <td>January 6, 2023</td>\n",
       "      <td>Press Statement</td>\n",
       "      <td>https://www.state.gov/new-sanctions-targeting-...</td>\n",
       "      <td>NaN</td>\n",
       "      <td>77</td>\n",
       "    </tr>\n",
       "  </tbody>\n",
       "</table>\n",
       "</div>"
      ],
      "text/plain": [
       "                                               title             source  \\\n",
       "0  The Negev Forum Working Groups and Regional Co...  Antony J. Blinken   \n",
       "1  Secretary Antony J. Blinken Mexican Foreign Se...  Antony J. Blinken   \n",
       "2                         Welcome Corps Launch Video  Antony J. Blinken   \n",
       "3  More Than $3.75 Billion in U.S. Military Assis...  Antony J. Blinken   \n",
       "4  New Sanctions Targeting Iran’s UAV and Ballist...  Antony J. Blinken   \n",
       "\n",
       "               date  type_of_release  \\\n",
       "0  January 10, 2023  Press Statement   \n",
       "1  January 10, 2023          Remarks   \n",
       "2   January 6, 2023    Video Remarks   \n",
       "3   January 6, 2023  Press Statement   \n",
       "4   January 6, 2023  Press Statement   \n",
       "\n",
       "                                                link  content  page_scraped  \n",
       "0  https://www.state.gov/the-negev-forum-working-...      NaN            77  \n",
       "1  https://www.state.gov/secretary-antony-j-blink...      NaN            77  \n",
       "2  https://www.state.gov/welcome-corps-launch-video/      NaN            77  \n",
       "3  https://www.state.gov/more-than-3-75-billion-i...      NaN            77  \n",
       "4  https://www.state.gov/new-sanctions-targeting-...      NaN            77  "
      ]
     },
     "execution_count": 6,
     "metadata": {},
     "output_type": "execute_result"
    }
   ],
   "source": [
    "# combined into one (1)\n",
    "combined = pd.concat(df_list, ignore_index=True)\n",
    "combined.head()"
   ]
  },
  {
   "cell_type": "code",
   "execution_count": 7,
   "id": "5f0bb297",
   "metadata": {},
   "outputs": [
    {
     "name": "stdout",
     "output_type": "stream",
     "text": [
      "Error: 'DataFrame' object has no attribute 'title' at page 110\n",
      "Error: 'DataFrame' object has no attribute 'title' at page 111\n",
      "Error: 'DataFrame' object has no attribute 'title' at page 130\n",
      "Error: 'DataFrame' object has no attribute 'title' at page 149\n",
      "Error: 'DataFrame' object has no attribute 'title' at page 168\n"
     ]
    }
   ],
   "source": [
    "# do the rest\n",
    "df_list=[]\n",
    "\n",
    "for i in range(91,180):\n",
    "    try: \n",
    "        df = scrape_dos_blinken(f'https://www.state.gov/remarks-secretary-blinken/page/{i}/', my_header_list)\n",
    "        df['page_scraped'] = i \n",
    "        df_list.append(df)\n",
    "    except Exception as e:\n",
    "        print(f'Error: {e} at page {i}')"
   ]
  },
  {
   "cell_type": "code",
   "execution_count": 8,
   "id": "7ed0b42a",
   "metadata": {},
   "outputs": [
    {
     "data": {
      "text/html": [
       "<div>\n",
       "<style scoped>\n",
       "    .dataframe tbody tr th:only-of-type {\n",
       "        vertical-align: middle;\n",
       "    }\n",
       "\n",
       "    .dataframe tbody tr th {\n",
       "        vertical-align: top;\n",
       "    }\n",
       "\n",
       "    .dataframe thead th {\n",
       "        text-align: right;\n",
       "    }\n",
       "</style>\n",
       "<table border=\"1\" class=\"dataframe\">\n",
       "  <thead>\n",
       "    <tr style=\"text-align: right;\">\n",
       "      <th></th>\n",
       "      <th>title</th>\n",
       "      <th>source</th>\n",
       "      <th>date</th>\n",
       "      <th>type_of_release</th>\n",
       "      <th>link</th>\n",
       "      <th>content</th>\n",
       "      <th>page_scraped</th>\n",
       "    </tr>\n",
       "  </thead>\n",
       "  <tbody>\n",
       "    <tr>\n",
       "      <th>0</th>\n",
       "      <td>The Negev Forum Working Groups and Regional Co...</td>\n",
       "      <td>Antony J. Blinken</td>\n",
       "      <td>January 10, 2023</td>\n",
       "      <td>Press Statement</td>\n",
       "      <td>https://www.state.gov/the-negev-forum-working-...</td>\n",
       "      <td>NaN</td>\n",
       "      <td>77</td>\n",
       "    </tr>\n",
       "    <tr>\n",
       "      <th>1</th>\n",
       "      <td>Secretary Antony J. Blinken Mexican Foreign Se...</td>\n",
       "      <td>Antony J. Blinken</td>\n",
       "      <td>January 10, 2023</td>\n",
       "      <td>Remarks</td>\n",
       "      <td>https://www.state.gov/secretary-antony-j-blink...</td>\n",
       "      <td>NaN</td>\n",
       "      <td>77</td>\n",
       "    </tr>\n",
       "    <tr>\n",
       "      <th>2</th>\n",
       "      <td>Welcome Corps Launch Video</td>\n",
       "      <td>Antony J. Blinken</td>\n",
       "      <td>January 6, 2023</td>\n",
       "      <td>Video Remarks</td>\n",
       "      <td>https://www.state.gov/welcome-corps-launch-video/</td>\n",
       "      <td>NaN</td>\n",
       "      <td>77</td>\n",
       "    </tr>\n",
       "    <tr>\n",
       "      <th>3</th>\n",
       "      <td>More Than $3.75 Billion in U.S. Military Assis...</td>\n",
       "      <td>Antony J. Blinken</td>\n",
       "      <td>January 6, 2023</td>\n",
       "      <td>Press Statement</td>\n",
       "      <td>https://www.state.gov/more-than-3-75-billion-i...</td>\n",
       "      <td>NaN</td>\n",
       "      <td>77</td>\n",
       "    </tr>\n",
       "    <tr>\n",
       "      <th>4</th>\n",
       "      <td>New Sanctions Targeting Iran’s UAV and Ballist...</td>\n",
       "      <td>Antony J. Blinken</td>\n",
       "      <td>January 6, 2023</td>\n",
       "      <td>Press Statement</td>\n",
       "      <td>https://www.state.gov/new-sanctions-targeting-...</td>\n",
       "      <td>NaN</td>\n",
       "      <td>77</td>\n",
       "    </tr>\n",
       "  </tbody>\n",
       "</table>\n",
       "</div>"
      ],
      "text/plain": [
       "                                               title             source  \\\n",
       "0  The Negev Forum Working Groups and Regional Co...  Antony J. Blinken   \n",
       "1  Secretary Antony J. Blinken Mexican Foreign Se...  Antony J. Blinken   \n",
       "2                         Welcome Corps Launch Video  Antony J. Blinken   \n",
       "3  More Than $3.75 Billion in U.S. Military Assis...  Antony J. Blinken   \n",
       "4  New Sanctions Targeting Iran’s UAV and Ballist...  Antony J. Blinken   \n",
       "\n",
       "               date  type_of_release  \\\n",
       "0  January 10, 2023  Press Statement   \n",
       "1  January 10, 2023          Remarks   \n",
       "2   January 6, 2023    Video Remarks   \n",
       "3   January 6, 2023  Press Statement   \n",
       "4   January 6, 2023  Press Statement   \n",
       "\n",
       "                                                link  content  page_scraped  \n",
       "0  https://www.state.gov/the-negev-forum-working-...      NaN            77  \n",
       "1  https://www.state.gov/secretary-antony-j-blink...      NaN            77  \n",
       "2  https://www.state.gov/welcome-corps-launch-video/      NaN            77  \n",
       "3  https://www.state.gov/more-than-3-75-billion-i...      NaN            77  \n",
       "4  https://www.state.gov/new-sanctions-targeting-...      NaN            77  "
      ]
     },
     "execution_count": 8,
     "metadata": {},
     "output_type": "execute_result"
    },
    {
     "name": "stdout",
     "output_type": "stream",
     "text": [
      "<class 'pandas.core.frame.DataFrame'>\n",
      "RangeIndex: 980 entries, 0 to 979\n",
      "Data columns (total 7 columns):\n",
      " #   Column           Non-Null Count  Dtype  \n",
      "---  ------           --------------  -----  \n",
      " 0   title            980 non-null    object \n",
      " 1   source           980 non-null    object \n",
      " 2   date             980 non-null    object \n",
      " 3   type_of_release  980 non-null    object \n",
      " 4   link             980 non-null    object \n",
      " 5   content          0 non-null      float64\n",
      " 6   page_scraped     980 non-null    int64  \n",
      "dtypes: float64(1), int64(1), object(5)\n",
      "memory usage: 53.7+ KB\n"
     ]
    }
   ],
   "source": [
    "# combined them into one (2)\n",
    "combined2 = pd.concat(df_list, ignore_index=True)\n",
    "combined_df=pd.concat([combined, combined2], ignore_index=True)\n",
    "\n",
    "# check this worked\n",
    "combined_df.head()\n",
    "combined_df.info()"
   ]
  },
  {
   "cell_type": "code",
   "execution_count": 9,
   "id": "46b37647",
   "metadata": {},
   "outputs": [],
   "source": [
    "## safety save in case kernel collapses again\n",
    "#combined_df.to_csv('blinken_2022_linksonly_backup.csv', index=False)"
   ]
  },
  {
   "cell_type": "markdown",
   "id": "92298cd0",
   "metadata": {},
   "source": [
    "### Troubleshoot Missed Links"
   ]
  },
  {
   "cell_type": "code",
   "execution_count": null,
   "id": "ef2fdbef",
   "metadata": {},
   "outputs": [],
   "source": [
    "# errors were raised for 110, 111, 130, 149, 168\n",
    "# Error: 'DataFrame' object has no attribute 'title' at page 110\n",
    "# Error: 'DataFrame' object has no attribute 'title' at page 111\n",
    "# Error: 'DataFrame' object has no attribute 'title' at page 130\n",
    "# Error: 'DataFrame' object has no attribute 'title' at page 149\n",
    "# Error: 'DataFrame' object has no attribute 'title' at page 168"
   ]
  },
  {
   "cell_type": "code",
   "execution_count": 10,
   "id": "fb8d6f6a",
   "metadata": {},
   "outputs": [],
   "source": [
    "df_list_rt=[]\n",
    "\n",
    "for i in [110,111,130,149,168]:\n",
    "    try: \n",
    "        df = scrape_dos_blinken(f'https://www.state.gov/remarks-secretary-blinken/page/{i}/', my_header_list)\n",
    "        df['page_scraped'] = i \n",
    "        df_list_rt.append(df)\n",
    "    except Exception as e:\n",
    "        print(f'Error: {e} at page {i}')"
   ]
  },
  {
   "cell_type": "code",
   "execution_count": 14,
   "id": "d62afd18",
   "metadata": {},
   "outputs": [
    {
     "data": {
      "text/html": [
       "<div>\n",
       "<style scoped>\n",
       "    .dataframe tbody tr th:only-of-type {\n",
       "        vertical-align: middle;\n",
       "    }\n",
       "\n",
       "    .dataframe tbody tr th {\n",
       "        vertical-align: top;\n",
       "    }\n",
       "\n",
       "    .dataframe thead th {\n",
       "        text-align: right;\n",
       "    }\n",
       "</style>\n",
       "<table border=\"1\" class=\"dataframe\">\n",
       "  <thead>\n",
       "    <tr style=\"text-align: right;\">\n",
       "      <th></th>\n",
       "      <th>title</th>\n",
       "      <th>source</th>\n",
       "      <th>date</th>\n",
       "      <th>type_of_release</th>\n",
       "      <th>link</th>\n",
       "      <th>content</th>\n",
       "      <th>page_scraped</th>\n",
       "    </tr>\n",
       "  </thead>\n",
       "  <tbody>\n",
       "    <tr>\n",
       "      <th>0</th>\n",
       "      <td>Secretary Antony J. Blinken And Surinamese Pre...</td>\n",
       "      <td>Antony J. Blinken</td>\n",
       "      <td>September 15, 2022</td>\n",
       "      <td>Remarks</td>\n",
       "      <td>https://www.state.gov/secretary-antony-j-blink...</td>\n",
       "      <td>NaN</td>\n",
       "      <td>110</td>\n",
       "    </tr>\n",
       "    <tr>\n",
       "      <th>1</th>\n",
       "      <td>Targeting Russia’s Senior Officials, Defense I...</td>\n",
       "      <td>Antony J. Blinken</td>\n",
       "      <td>September 15, 2022</td>\n",
       "      <td>Press Statement</td>\n",
       "      <td>https://www.state.gov/targeting-senior-russian...</td>\n",
       "      <td>NaN</td>\n",
       "      <td>110</td>\n",
       "    </tr>\n",
       "    <tr>\n",
       "      <th>2</th>\n",
       "      <td>Commemorating the International Day of Democracy</td>\n",
       "      <td>Antony J. Blinken</td>\n",
       "      <td>September 15, 2022</td>\n",
       "      <td>Press Statement</td>\n",
       "      <td>https://www.state.gov/commemorating-the-intern...</td>\n",
       "      <td>NaN</td>\n",
       "      <td>110</td>\n",
       "    </tr>\n",
       "    <tr>\n",
       "      <th>3</th>\n",
       "      <td>Papua New Guinea National Day</td>\n",
       "      <td>Antony J. Blinken</td>\n",
       "      <td>September 15, 2022</td>\n",
       "      <td>Press Statement</td>\n",
       "      <td>https://www.state.gov/papua-new-guinea-nationa...</td>\n",
       "      <td>NaN</td>\n",
       "      <td>110</td>\n",
       "    </tr>\n",
       "    <tr>\n",
       "      <th>4</th>\n",
       "      <td>El Salvador National Day</td>\n",
       "      <td>Antony J. Blinken</td>\n",
       "      <td>September 15, 2022</td>\n",
       "      <td>Press Statement</td>\n",
       "      <td>https://www.state.gov/el-salvador-national-day/</td>\n",
       "      <td>NaN</td>\n",
       "      <td>110</td>\n",
       "    </tr>\n",
       "  </tbody>\n",
       "</table>\n",
       "</div>"
      ],
      "text/plain": [
       "                                               title             source  \\\n",
       "0  Secretary Antony J. Blinken And Surinamese Pre...  Antony J. Blinken   \n",
       "1  Targeting Russia’s Senior Officials, Defense I...  Antony J. Blinken   \n",
       "2   Commemorating the International Day of Democracy  Antony J. Blinken   \n",
       "3                      Papua New Guinea National Day  Antony J. Blinken   \n",
       "4                           El Salvador National Day  Antony J. Blinken   \n",
       "\n",
       "                 date  type_of_release  \\\n",
       "0  September 15, 2022          Remarks   \n",
       "1  September 15, 2022  Press Statement   \n",
       "2  September 15, 2022  Press Statement   \n",
       "3  September 15, 2022  Press Statement   \n",
       "4  September 15, 2022  Press Statement   \n",
       "\n",
       "                                                link  content  page_scraped  \n",
       "0  https://www.state.gov/secretary-antony-j-blink...      NaN           110  \n",
       "1  https://www.state.gov/targeting-senior-russian...      NaN           110  \n",
       "2  https://www.state.gov/commemorating-the-intern...      NaN           110  \n",
       "3  https://www.state.gov/papua-new-guinea-nationa...      NaN           110  \n",
       "4    https://www.state.gov/el-salvador-national-day/      NaN           110  "
      ]
     },
     "execution_count": 14,
     "metadata": {},
     "output_type": "execute_result"
    },
    {
     "name": "stdout",
     "output_type": "stream",
     "text": [
      "<class 'pandas.core.frame.DataFrame'>\n",
      "RangeIndex: 1030 entries, 0 to 1029\n",
      "Data columns (total 7 columns):\n",
      " #   Column           Non-Null Count  Dtype  \n",
      "---  ------           --------------  -----  \n",
      " 0   title            1030 non-null   object \n",
      " 1   source           1030 non-null   object \n",
      " 2   date             1030 non-null   object \n",
      " 3   type_of_release  1030 non-null   object \n",
      " 4   link             1030 non-null   object \n",
      " 5   content          0 non-null      float64\n",
      " 6   page_scraped     1030 non-null   int64  \n",
      "dtypes: float64(1), int64(1), object(5)\n",
      "memory usage: 56.5+ KB\n"
     ]
    }
   ],
   "source": [
    "# looks like it all worked this time \n",
    "combined_rt = pd.concat(df_list_rt, ignore_index = True)\n",
    "combined_df2 = pd.concat([combined_rt, combined_df], ignore_index=True)\n",
    "combined_df2.head()\n",
    "combined_df2.info()"
   ]
  },
  {
   "cell_type": "code",
   "execution_count": 15,
   "id": "9c6f8689",
   "metadata": {},
   "outputs": [],
   "source": [
    "## safety save in case kernel collapses again\n",
    "#combined_df2.to_csv('blinken_2022_linksonly.csv', index=False)"
   ]
  },
  {
   "cell_type": "markdown",
   "id": "6c0fba8d",
   "metadata": {},
   "source": [
    "## Scrape Link Content"
   ]
  },
  {
   "cell_type": "markdown",
   "id": "17e86269",
   "metadata": {},
   "source": [
    "### Test One"
   ]
  },
  {
   "cell_type": "markdown",
   "id": "cecb2192",
   "metadata": {},
   "source": [
    "### Scrape all content"
   ]
  },
  {
   "cell_type": "code",
   "execution_count": 16,
   "id": "6dc37d07",
   "metadata": {},
   "outputs": [],
   "source": [
    "# define link scraping \n",
    "def get_link_content_blinken(link, df, header_list):\n",
    "    try: \n",
    "        # check if content has already been pulled\n",
    "        result = df.loc[df.link == link, 'content'].notnull().all()\n",
    "        if result:\n",
    "            return f'content already existing for {link}' \n",
    "        else: \n",
    "            try: \n",
    "                df['content']\n",
    "                server_response = requests.get(link, headers = header_list)\n",
    "                time.sleep(5) # to align with dos robots.txt\n",
    "                soup_link = bs4.BeautifulSoup(server_response.content, features=\"html.parser\")\n",
    "                result = soup_link.find('div', class_ = 'entry-content').find_all('p')\n",
    "                string_result = [str(i.text) for i in result]\n",
    "                string_result_clean = [i.replace(u'\\xa0', u' ') for i in string_result]\n",
    "                result_merged = \" \".join(string_result_clean)\n",
    "                df.loc[df.link == link, 'content'] = result_merged\n",
    "                return f\"success: content added from {link}\"\n",
    "            except: \n",
    "                pass\n",
    "    except Exception as e: \n",
    "        return f\"unable to gather content from {link} due to {e}\"\n",
    "    #return df_updated "
   ]
  },
  {
   "cell_type": "code",
   "execution_count": 17,
   "id": "7f22e03a",
   "metadata": {},
   "outputs": [
    {
     "data": {
      "text/plain": [
       "'success: content added from https://www.state.gov/secretary-antony-j-blinken-and-surinamese-president-chandrikapersad-santokhi-before-their-meeting/'"
      ]
     },
     "execution_count": 17,
     "metadata": {},
     "output_type": "execute_result"
    },
    {
     "data": {
      "text/plain": [
       "'success: content added from https://www.state.gov/targeting-senior-russian-officials-defense-industrial-base-financial-infrastructure-leaders-and-human-rights-abusers/'"
      ]
     },
     "execution_count": 17,
     "metadata": {},
     "output_type": "execute_result"
    },
    {
     "data": {
      "text/plain": [
       "'success: content added from https://www.state.gov/commemorating-the-international-day-of-democracy-2/'"
      ]
     },
     "execution_count": 17,
     "metadata": {},
     "output_type": "execute_result"
    },
    {
     "data": {
      "text/plain": [
       "'success: content added from https://www.state.gov/papua-new-guinea-national-day/'"
      ]
     },
     "execution_count": 17,
     "metadata": {},
     "output_type": "execute_result"
    },
    {
     "data": {
      "text/plain": [
       "'success: content added from https://www.state.gov/el-salvador-national-day/'"
      ]
     },
     "execution_count": 17,
     "metadata": {},
     "output_type": "execute_result"
    },
    {
     "data": {
      "text/plain": [
       "'success: content added from https://www.state.gov/honduras-national-day/'"
      ]
     },
     "execution_count": 17,
     "metadata": {},
     "output_type": "execute_result"
    },
    {
     "data": {
      "text/plain": [
       "'success: content added from https://www.state.gov/costa-rica-national-day/'"
      ]
     },
     "execution_count": 17,
     "metadata": {},
     "output_type": "execute_result"
    },
    {
     "data": {
      "text/plain": [
       "'success: content added from https://www.state.gov/nicaragua-national-day/'"
      ]
     },
     "execution_count": 17,
     "metadata": {},
     "output_type": "execute_result"
    },
    {
     "data": {
      "text/plain": [
       "'success: content added from https://www.state.gov/guatemala-national-day/'"
      ]
     },
     "execution_count": 17,
     "metadata": {},
     "output_type": "execute_result"
    },
    {
     "data": {
      "text/plain": [
       "'success: content added from https://www.state.gov/united-states-announces-additional-humanitarian-assistance-for-the-syrian-people/'"
      ]
     },
     "execution_count": 17,
     "metadata": {},
     "output_type": "execute_result"
    }
   ],
   "source": [
    "# test on 10 to see if it works\n",
    "for i in combined_df2.link[0:10]:\n",
    "     get_link_content_blinken(i, combined_df2, my_header_list)"
   ]
  },
  {
   "cell_type": "code",
   "execution_count": 18,
   "id": "fc101ce2",
   "metadata": {},
   "outputs": [
    {
     "data": {
      "text/html": [
       "<div>\n",
       "<style scoped>\n",
       "    .dataframe tbody tr th:only-of-type {\n",
       "        vertical-align: middle;\n",
       "    }\n",
       "\n",
       "    .dataframe tbody tr th {\n",
       "        vertical-align: top;\n",
       "    }\n",
       "\n",
       "    .dataframe thead th {\n",
       "        text-align: right;\n",
       "    }\n",
       "</style>\n",
       "<table border=\"1\" class=\"dataframe\">\n",
       "  <thead>\n",
       "    <tr style=\"text-align: right;\">\n",
       "      <th></th>\n",
       "      <th>title</th>\n",
       "      <th>source</th>\n",
       "      <th>date</th>\n",
       "      <th>type_of_release</th>\n",
       "      <th>link</th>\n",
       "      <th>content</th>\n",
       "      <th>page_scraped</th>\n",
       "    </tr>\n",
       "  </thead>\n",
       "  <tbody>\n",
       "    <tr>\n",
       "      <th>0</th>\n",
       "      <td>Secretary Antony J. Blinken And Surinamese Pre...</td>\n",
       "      <td>Antony J. Blinken</td>\n",
       "      <td>September 15, 2022</td>\n",
       "      <td>Remarks</td>\n",
       "      <td>https://www.state.gov/secretary-antony-j-blink...</td>\n",
       "      <td>SECRETARY BLINKEN: Well, good morning, everyon...</td>\n",
       "      <td>110</td>\n",
       "    </tr>\n",
       "    <tr>\n",
       "      <th>1</th>\n",
       "      <td>Targeting Russia’s Senior Officials, Defense I...</td>\n",
       "      <td>Antony J. Blinken</td>\n",
       "      <td>September 15, 2022</td>\n",
       "      <td>Press Statement</td>\n",
       "      <td>https://www.state.gov/targeting-senior-russian...</td>\n",
       "      <td>The United States continues to hold the Russia...</td>\n",
       "      <td>110</td>\n",
       "    </tr>\n",
       "    <tr>\n",
       "      <th>2</th>\n",
       "      <td>Commemorating the International Day of Democracy</td>\n",
       "      <td>Antony J. Blinken</td>\n",
       "      <td>September 15, 2022</td>\n",
       "      <td>Press Statement</td>\n",
       "      <td>https://www.state.gov/commemorating-the-intern...</td>\n",
       "      <td>This International Day of Democracy, we unders...</td>\n",
       "      <td>110</td>\n",
       "    </tr>\n",
       "    <tr>\n",
       "      <th>3</th>\n",
       "      <td>Papua New Guinea National Day</td>\n",
       "      <td>Antony J. Blinken</td>\n",
       "      <td>September 15, 2022</td>\n",
       "      <td>Press Statement</td>\n",
       "      <td>https://www.state.gov/papua-new-guinea-nationa...</td>\n",
       "      <td>On behalf of the United States of America, I e...</td>\n",
       "      <td>110</td>\n",
       "    </tr>\n",
       "    <tr>\n",
       "      <th>4</th>\n",
       "      <td>El Salvador National Day</td>\n",
       "      <td>Antony J. Blinken</td>\n",
       "      <td>September 15, 2022</td>\n",
       "      <td>Press Statement</td>\n",
       "      <td>https://www.state.gov/el-salvador-national-day/</td>\n",
       "      <td>On behalf of the Government of the United Stat...</td>\n",
       "      <td>110</td>\n",
       "    </tr>\n",
       "  </tbody>\n",
       "</table>\n",
       "</div>"
      ],
      "text/plain": [
       "                                               title             source  \\\n",
       "0  Secretary Antony J. Blinken And Surinamese Pre...  Antony J. Blinken   \n",
       "1  Targeting Russia’s Senior Officials, Defense I...  Antony J. Blinken   \n",
       "2   Commemorating the International Day of Democracy  Antony J. Blinken   \n",
       "3                      Papua New Guinea National Day  Antony J. Blinken   \n",
       "4                           El Salvador National Day  Antony J. Blinken   \n",
       "\n",
       "                 date  type_of_release  \\\n",
       "0  September 15, 2022          Remarks   \n",
       "1  September 15, 2022  Press Statement   \n",
       "2  September 15, 2022  Press Statement   \n",
       "3  September 15, 2022  Press Statement   \n",
       "4  September 15, 2022  Press Statement   \n",
       "\n",
       "                                                link  \\\n",
       "0  https://www.state.gov/secretary-antony-j-blink...   \n",
       "1  https://www.state.gov/targeting-senior-russian...   \n",
       "2  https://www.state.gov/commemorating-the-intern...   \n",
       "3  https://www.state.gov/papua-new-guinea-nationa...   \n",
       "4    https://www.state.gov/el-salvador-national-day/   \n",
       "\n",
       "                                             content  page_scraped  \n",
       "0  SECRETARY BLINKEN: Well, good morning, everyon...           110  \n",
       "1  The United States continues to hold the Russia...           110  \n",
       "2  This International Day of Democracy, we unders...           110  \n",
       "3  On behalf of the United States of America, I e...           110  \n",
       "4  On behalf of the Government of the United Stat...           110  "
      ]
     },
     "execution_count": 18,
     "metadata": {},
     "output_type": "execute_result"
    }
   ],
   "source": [
    "combined_df2.head()"
   ]
  },
  {
   "cell_type": "code",
   "execution_count": 19,
   "id": "455a2d64",
   "metadata": {},
   "outputs": [
    {
     "data": {
      "text/plain": [
       "'content already existing for https://www.state.gov/secretary-antony-j-blinken-and-surinamese-president-chandrikapersad-santokhi-before-their-meeting/'"
      ]
     },
     "execution_count": 19,
     "metadata": {},
     "output_type": "execute_result"
    },
    {
     "data": {
      "text/plain": [
       "'content already existing for https://www.state.gov/targeting-senior-russian-officials-defense-industrial-base-financial-infrastructure-leaders-and-human-rights-abusers/'"
      ]
     },
     "execution_count": 19,
     "metadata": {},
     "output_type": "execute_result"
    },
    {
     "data": {
      "text/plain": [
       "'content already existing for https://www.state.gov/commemorating-the-international-day-of-democracy-2/'"
      ]
     },
     "execution_count": 19,
     "metadata": {},
     "output_type": "execute_result"
    },
    {
     "data": {
      "text/plain": [
       "'content already existing for https://www.state.gov/papua-new-guinea-national-day/'"
      ]
     },
     "execution_count": 19,
     "metadata": {},
     "output_type": "execute_result"
    },
    {
     "data": {
      "text/plain": [
       "'content already existing for https://www.state.gov/el-salvador-national-day/'"
      ]
     },
     "execution_count": 19,
     "metadata": {},
     "output_type": "execute_result"
    },
    {
     "data": {
      "text/plain": [
       "'content already existing for https://www.state.gov/honduras-national-day/'"
      ]
     },
     "execution_count": 19,
     "metadata": {},
     "output_type": "execute_result"
    },
    {
     "data": {
      "text/plain": [
       "'content already existing for https://www.state.gov/costa-rica-national-day/'"
      ]
     },
     "execution_count": 19,
     "metadata": {},
     "output_type": "execute_result"
    },
    {
     "data": {
      "text/plain": [
       "'content already existing for https://www.state.gov/nicaragua-national-day/'"
      ]
     },
     "execution_count": 19,
     "metadata": {},
     "output_type": "execute_result"
    },
    {
     "data": {
      "text/plain": [
       "'content already existing for https://www.state.gov/guatemala-national-day/'"
      ]
     },
     "execution_count": 19,
     "metadata": {},
     "output_type": "execute_result"
    },
    {
     "data": {
      "text/plain": [
       "'content already existing for https://www.state.gov/united-states-announces-additional-humanitarian-assistance-for-the-syrian-people/'"
      ]
     },
     "execution_count": 19,
     "metadata": {},
     "output_type": "execute_result"
    },
    {
     "data": {
      "text/plain": [
       "'success: content added from https://www.state.gov/sanctioning-iranians-for-malicious-cyber-acts/'"
      ]
     },
     "execution_count": 19,
     "metadata": {},
     "output_type": "execute_result"
    },
    {
     "data": {
      "text/plain": [
       "'success: content added from https://www.state.gov/remarks-at-a-state-department-careers-event-at-purdue-university/'"
      ]
     },
     "execution_count": 19,
     "metadata": {},
     "output_type": "execute_result"
    },
    {
     "data": {
      "text/plain": [
       "'success: content added from https://www.state.gov/secretary-antony-j-blinken-with-secretary-of-commerce-gina-m-raimondo-indiana-governor-eric-holcomb-senator-todd-young-and-purdue-university-president-mitch-daniels-in-a-moderated-conversatio/'"
      ]
     },
     "execution_count": 19,
     "metadata": {},
     "output_type": "execute_result"
    },
    {
     "data": {
      "text/plain": [
       "'success: content added from https://www.state.gov/secretary-antony-j-blinken-remarks-to-the-press-with-secretary-of-commerce-gina-m-raimondo-indiana-governor-eric-holcomb-senator-todd-young-and-purdue-university-president-mitch-daniels/'"
      ]
     },
     "execution_count": 19,
     "metadata": {},
     "output_type": "execute_result"
    },
    {
     "data": {
      "text/plain": [
       "'success: content added from https://www.state.gov/announcement-of-the-u-s-department-of-states-diversity-equity-inclusion-and-accessibility-deia-strategic-plan/'"
      ]
     },
     "execution_count": 19,
     "metadata": {},
     "output_type": "execute_result"
    },
    {
     "data": {
      "text/plain": [
       "'success: content added from https://www.state.gov/secretary-of-state-antony-j-blinken-secretary-of-commerce-gina-raimondo-mexican-secretary-of-economy-tatiana-clouthier-and-mexican-secretary-of-foreign-affairs-marcelo-ebrard-at-a-joint-pre/'"
      ]
     },
     "execution_count": 19,
     "metadata": {},
     "output_type": "execute_result"
    },
    {
     "data": {
      "text/plain": [
       "'success: content added from https://www.state.gov/calling-for-the-immediate-cessation-of-hostilities-between-armenia-and-azerbaijan/'"
      ]
     },
     "execution_count": 19,
     "metadata": {},
     "output_type": "execute_result"
    },
    {
     "data": {
      "text/plain": [
       "'success: content added from https://www.state.gov/secretary-antony-j-blinken-before-the-second-annual-high-level-economic-dialogue/'"
      ]
     },
     "execution_count": 19,
     "metadata": {},
     "output_type": "execute_result"
    },
    {
     "data": {
      "text/plain": [
       "'success: content added from https://www.state.gov/on-the-occasion-of-the-ethiopian-new-year/'"
      ]
     },
     "execution_count": 19,
     "metadata": {},
     "output_type": "execute_result"
    },
    {
     "data": {
      "text/plain": [
       "'success: content added from https://www.state.gov/a-day-of-remembrance/'"
      ]
     },
     "execution_count": 19,
     "metadata": {},
     "output_type": "execute_result"
    },
    {
     "data": {
      "text/plain": [
       "'success: content added from https://www.state.gov/richard-nephew-named-as-coordinator-on-global-anti-corruption/'"
      ]
     },
     "execution_count": 19,
     "metadata": {},
     "output_type": "execute_result"
    },
    {
     "data": {
      "text/plain": [
       "'success: content added from https://www.state.gov/venezuela-national-day-2/'"
      ]
     },
     "execution_count": 19,
     "metadata": {},
     "output_type": "execute_result"
    },
    {
     "data": {
      "text/plain": [
       "'success: content added from https://www.state.gov/algeria-national-day-2/'"
      ]
     },
     "execution_count": 19,
     "metadata": {},
     "output_type": "execute_result"
    },
    {
     "data": {
      "text/plain": [
       "'success: content added from https://www.state.gov/cabo-verde-national-day-2/'"
      ]
     },
     "execution_count": 19,
     "metadata": {},
     "output_type": "execute_result"
    },
    {
     "data": {
      "text/plain": [
       "'success: content added from https://www.state.gov/belarus-national-day/'"
      ]
     },
     "execution_count": 19,
     "metadata": {},
     "output_type": "execute_result"
    },
    {
     "data": {
      "text/plain": [
       "'success: content added from https://www.state.gov/820-million-in-new-u-s-military-assistance-for-ukraine/'"
      ]
     },
     "execution_count": 19,
     "metadata": {},
     "output_type": "execute_result"
    },
    {
     "data": {
      "text/plain": [
       "'success: content added from https://www.state.gov/reaffirming-our-commitment-to-the-treaty-of-the-non-proliferation-of-nuclear-weapons/'"
      ]
     },
     "execution_count": 19,
     "metadata": {},
     "output_type": "execute_result"
    },
    {
     "data": {
      "text/plain": [
       "'success: content added from https://www.state.gov/canada-day-2/'"
      ]
     },
     "execution_count": 19,
     "metadata": {},
     "output_type": "execute_result"
    },
    {
     "data": {
      "text/plain": [
       "'success: content added from https://www.state.gov/rwanda-national-day-2/'"
      ]
     },
     "execution_count": 19,
     "metadata": {},
     "output_type": "execute_result"
    },
    {
     "data": {
      "text/plain": [
       "'success: content added from https://www.state.gov/the-federal-republic-of-somalias-national-day-2/'"
      ]
     },
     "execution_count": 19,
     "metadata": {},
     "output_type": "execute_result"
    },
    {
     "data": {
      "text/plain": [
       "'success: content added from https://www.state.gov/suspension-of-russias-permanent-observer-status-at-the-organization-of-american-states/'"
      ]
     },
     "execution_count": 19,
     "metadata": {},
     "output_type": "execute_result"
    },
    {
     "data": {
      "text/plain": [
       "'success: content added from https://www.state.gov/anzac-day-2/'"
      ]
     },
     "execution_count": 19,
     "metadata": {},
     "output_type": "execute_result"
    },
    {
     "data": {
      "text/plain": [
       "'success: content added from https://www.state.gov/800-million-in-additional-u-s-security-assistance-for-ukraine-2/'"
      ]
     },
     "execution_count": 19,
     "metadata": {},
     "output_type": "execute_result"
    },
    {
     "data": {
      "text/plain": [
       "'success: content added from https://www.state.gov/secretary-antony-j-blinken-and-homeland-security-secretary-alejandro-mayorkas-panamanian-foreign-minister-erika-mouynes-and-panamanian-public-security-minister-juan-manuel-pino-forero-at-a-joint-pr/'"
      ]
     },
     "execution_count": 19,
     "metadata": {},
     "output_type": "execute_result"
    },
    {
     "data": {
      "text/plain": [
       "'success: content added from https://www.state.gov/promoting-accountability-for-human-rights-abuses-in-russia-and-belarus-and-taking-action-against-sanctions-evaders/'"
      ]
     },
     "execution_count": 19,
     "metadata": {},
     "output_type": "execute_result"
    },
    {
     "data": {
      "text/plain": [
       "'success: content added from https://www.state.gov/secretary-antony-j-blinken-with-panamanian-president-laurentino-cortizo-cohen-and-panamanian-foreign-minister-erika-mouynes-at-the-ministerial-conference-on-migration-and-protection-session-on-stabil/'"
      ]
     },
     "execution_count": 19,
     "metadata": {},
     "output_type": "execute_result"
    },
    {
     "data": {
      "text/plain": [
       "'success: content added from https://www.state.gov/secretary-antony-j-blinken-and-secretary-of-homeland-security-alejandro-mayorkas-opening-remarks-at-the-ministerial-conference-on-migration-and-protection-reception/'"
      ]
     },
     "execution_count": 19,
     "metadata": {},
     "output_type": "execute_result"
    },
    {
     "data": {
      "text/plain": [
       "'success: content added from https://www.state.gov/secretary-antony-j-blinken-and-transparency-international-panama-chapter-executive-director-olga-de-obaldia-opening-remarks-at-meeting-with-anticorruption-and-transparency-advocates/'"
      ]
     },
     "execution_count": 19,
     "metadata": {},
     "output_type": "execute_result"
    },
    {
     "data": {
      "text/plain": [
       "'success: content added from https://www.state.gov/the-united-states-and-panama-advance-migration-cooperation/'"
      ]
     },
     "execution_count": 19,
     "metadata": {},
     "output_type": "execute_result"
    },
    {
     "data": {
      "text/plain": [
       "'success: content added from https://www.state.gov/secretary-antony-j-blinken-and-moldovan-foreign-minister-nicu-popescu-before-their-meeting/'"
      ]
     },
     "execution_count": 19,
     "metadata": {},
     "output_type": "execute_result"
    },
    {
     "data": {
      "text/plain": [
       "'success: content added from https://www.state.gov/secretary-antony-j-blinken-and-ukrainian-foreign-minister-dmytro-kuleba-at-a-joint-press-availability-2/'"
      ]
     },
     "execution_count": 19,
     "metadata": {},
     "output_type": "execute_result"
    },
    {
     "data": {
      "text/plain": [
       "'success: content added from https://www.state.gov/japan-national-day/'"
      ]
     },
     "execution_count": 19,
     "metadata": {},
     "output_type": "execute_result"
    },
    {
     "data": {
      "text/plain": [
       "'success: content added from https://www.state.gov/brunei-national-day-2/'"
      ]
     },
     "execution_count": 19,
     "metadata": {},
     "output_type": "execute_result"
    },
    {
     "data": {
      "text/plain": [
       "'success: content added from https://www.state.gov/saint-lucia-independence-day-2/'"
      ]
     },
     "execution_count": 19,
     "metadata": {},
     "output_type": "execute_result"
    },
    {
     "data": {
      "text/plain": [
       "'success: content added from https://www.state.gov/department-of-state-presence-in-ukraine/'"
      ]
     },
     "execution_count": 19,
     "metadata": {},
     "output_type": "execute_result"
    },
    {
     "data": {
      "text/plain": [
       "'success: content added from https://www.state.gov/kremlin-decision-on-eastern-ukraine/'"
      ]
     },
     "execution_count": 19,
     "metadata": {},
     "output_type": "execute_result"
    },
    {
     "data": {
      "text/plain": [
       "'success: content added from https://www.state.gov/secretary-antony-j-blinken-on-cbs-face-the-nation-with-margaret-brennan/'"
      ]
     },
     "execution_count": 19,
     "metadata": {},
     "output_type": "execute_result"
    },
    {
     "data": {
      "text/plain": [
       "'success: content added from https://www.state.gov/secretary-antony-j-blinken-on-nbc-meet-the-press-with-chuck-todd/'"
      ]
     },
     "execution_count": 19,
     "metadata": {},
     "output_type": "execute_result"
    },
    {
     "data": {
      "text/plain": [
       "'success: content added from https://www.state.gov/secretary-antony-j-blinken-with-state-of-the-union-on-cnn-with-dana-bash/'"
      ]
     },
     "execution_count": 19,
     "metadata": {},
     "output_type": "execute_result"
    },
    {
     "data": {
      "text/plain": [
       "'success: content added from https://www.state.gov/secretary-antony-j-blinken-with-ekaterina-kotrikadze-of-dozhd-tv/'"
      ]
     },
     "execution_count": 19,
     "metadata": {},
     "output_type": "execute_result"
    },
    {
     "data": {
      "text/plain": [
       "'success: content added from https://www.state.gov/the-negev-forum-working-groups-and-regional-cooperation-framework/'"
      ]
     },
     "execution_count": 19,
     "metadata": {},
     "output_type": "execute_result"
    },
    {
     "data": {
      "text/plain": [
       "'success: content added from https://www.state.gov/secretary-antony-j-blinken-mexican-foreign-secretary-marcelo-ebrard-and-canadian-foreign-minister-melanie-joly-at-the-signing-of-a-north-american-declaration-on-partnership-for-equity-and-racial-just/'"
      ]
     },
     "execution_count": 19,
     "metadata": {},
     "output_type": "execute_result"
    },
    {
     "data": {
      "text/plain": [
       "'success: content added from https://www.state.gov/welcome-corps-launch-video/'"
      ]
     },
     "execution_count": 19,
     "metadata": {},
     "output_type": "execute_result"
    },
    {
     "data": {
      "text/plain": [
       "'success: content added from https://www.state.gov/more-than-3-75-billion-in-u-s-military-assistance-to-ukraine-and-countries-impacted-by-russias-brutal-war/'"
      ]
     },
     "execution_count": 19,
     "metadata": {},
     "output_type": "execute_result"
    },
    {
     "data": {
      "text/plain": [
       "'success: content added from https://www.state.gov/new-sanctions-targeting-irans-uav-and-ballistic-missile-industries/'"
      ]
     },
     "execution_count": 19,
     "metadata": {},
     "output_type": "execute_result"
    },
    {
     "data": {
      "text/plain": [
       "'success: content added from https://www.state.gov/secretary-antony-j-blinken-at-launch-of-the-u-s-strategy-on-global-womens-economic-security/'"
      ]
     },
     "execution_count": 19,
     "metadata": {},
     "output_type": "execute_result"
    },
    {
     "data": {
      "text/plain": [
       "'success: content added from https://www.state.gov/independence-day-of-burma/'"
      ]
     },
     "execution_count": 19,
     "metadata": {},
     "output_type": "execute_result"
    },
    {
     "data": {
      "text/plain": [
       "'success: content added from https://www.state.gov/sudan-national-day/'"
      ]
     },
     "execution_count": 19,
     "metadata": {},
     "output_type": "execute_result"
    },
    {
     "data": {
      "text/plain": [
       "'success: content added from https://www.state.gov/launch-of-the-au-monitoring-verification-and-compliance-mission-in-ethiopia/'"
      ]
     },
     "execution_count": 19,
     "metadata": {},
     "output_type": "execute_result"
    },
    {
     "data": {
      "text/plain": [
       "'success: content added from https://www.state.gov/israels-new-government/'"
      ]
     },
     "execution_count": 19,
     "metadata": {},
     "output_type": "execute_result"
    },
    {
     "data": {
      "text/plain": [
       "'success: content added from https://www.state.gov/four-year-anniversary-of-paul-whelans-wrongful-detention-in-russia/'"
      ]
     },
     "execution_count": 19,
     "metadata": {},
     "output_type": "execute_result"
    },
    {
     "data": {
      "text/plain": [
       "'success: content added from https://www.state.gov/results-of-nepals-federal-elections/'"
      ]
     },
     "execution_count": 19,
     "metadata": {},
     "output_type": "execute_result"
    },
    {
     "data": {
      "text/plain": [
       "'success: content added from https://www.state.gov/address-to-ukrainian-diplomats/'"
      ]
     },
     "execution_count": 19,
     "metadata": {},
     "output_type": "execute_result"
    },
    {
     "data": {
      "text/plain": [
       "'success: content added from https://www.state.gov/secretary-antony-j-blinken-at-a-press-availability-27/'"
      ]
     },
     "execution_count": 19,
     "metadata": {},
     "output_type": "execute_result"
    },
    {
     "data": {
      "text/plain": [
       "'success: content added from https://www.state.gov/the-united-states-imposes-sanctions-on-russian-naval-entities-2/'"
      ]
     },
     "execution_count": 19,
     "metadata": {},
     "output_type": "execute_result"
    },
    {
     "data": {
      "text/plain": [
       "'success: content added from https://www.state.gov/un-security-council-adopts-resolution-on-burma/'"
      ]
     },
     "execution_count": 19,
     "metadata": {},
     "output_type": "execute_result"
    },
    {
     "data": {
      "text/plain": [
       "'success: content added from https://www.state.gov/loss-of-life-in-the-sinking-of-htms-sukhothai/'"
      ]
     },
     "execution_count": 19,
     "metadata": {},
     "output_type": "execute_result"
    },
    {
     "data": {
      "text/plain": [
       "'success: content added from https://www.state.gov/sanctioning-iranian-officials-connected-to-serious-human-rights-abuses/'"
      ]
     },
     "execution_count": 19,
     "metadata": {},
     "output_type": "execute_result"
    },
    {
     "data": {
      "text/plain": [
       "'success: content added from https://www.state.gov/secretary-antony-j-blinken-and-panamanian-foreign-minister-janaina-tewaney-before-their-meeting/'"
      ]
     },
     "execution_count": 19,
     "metadata": {},
     "output_type": "execute_result"
    },
    {
     "data": {
      "text/plain": [
       "'success: content added from https://www.state.gov/1-85-billion-in-additional-u-s-military-assistance-including-the-first-transfer-of-patriot-air-defense-system/'"
      ]
     },
     "execution_count": 19,
     "metadata": {},
     "output_type": "execute_result"
    },
    {
     "data": {
      "text/plain": [
       "'success: content added from https://www.state.gov/standing-with-afghanistans-women-and-girls/'"
      ]
     },
     "execution_count": 19,
     "metadata": {},
     "output_type": "execute_result"
    },
    {
     "data": {
      "text/plain": [
       "'success: content added from https://www.state.gov/improving-humanitarian-aid-delivery-by-expanding-authorizations-across-u-s-sanctions/'"
      ]
     },
     "execution_count": 19,
     "metadata": {},
     "output_type": "execute_result"
    },
    {
     "data": {
      "text/plain": [
       "'success: content added from https://www.state.gov/secretary-antony-j-blinken-and-maltese-foreign-minister-ian-borg-before-their-meeting/'"
      ]
     },
     "execution_count": 19,
     "metadata": {},
     "output_type": "execute_result"
    },
    {
     "data": {
      "text/plain": [
       "'success: content added from https://www.state.gov/announcement-of-joe-kennedy-iii-as-u-s-special-envoy-to-northern-ireland-for-economic-affairs/'"
      ]
     },
     "execution_count": 19,
     "metadata": {},
     "output_type": "execute_result"
    },
    {
     "data": {
      "text/plain": [
       "'success: content added from https://www.state.gov/qatar-national-day-2/'"
      ]
     },
     "execution_count": 19,
     "metadata": {},
     "output_type": "execute_result"
    },
    {
     "data": {
      "text/plain": [
       "'success: content added from https://www.state.gov/niger-national-day/'"
      ]
     },
     "execution_count": 19,
     "metadata": {},
     "output_type": "execute_result"
    },
    {
     "data": {
      "text/plain": [
       "'success: content added from https://www.state.gov/secretary-antony-j-blinken-and-mexican-foreign-secretary-marcelo-ebrard-before-their-meeting-3/'"
      ]
     },
     "execution_count": 19,
     "metadata": {},
     "output_type": "execute_result"
    },
    {
     "data": {
      "text/plain": [
       "'success: content added from https://www.state.gov/appointment-of-james-p-rubin-as-special-envoy-and-coordinator-of-the-global-engagement-center/'"
      ]
     },
     "execution_count": 19,
     "metadata": {},
     "output_type": "execute_result"
    },
    {
     "data": {
      "text/plain": [
       "'success: content added from https://www.state.gov/welcoming-japans-new-national-security-strategy-national-defense-strategy-and-defense-buildup-program/'"
      ]
     },
     "execution_count": 19,
     "metadata": {},
     "output_type": "execute_result"
    },
    {
     "data": {
      "text/plain": [
       "'success: content added from https://www.state.gov/bahrain-national-day-2/'"
      ]
     },
     "execution_count": 19,
     "metadata": {},
     "output_type": "execute_result"
    },
    {
     "data": {
      "text/plain": [
       "'success: content added from https://www.state.gov/secretary-antony-j-blinken-at-a-press-availability-26/'"
      ]
     },
     "execution_count": 19,
     "metadata": {},
     "output_type": "execute_result"
    },
    {
     "data": {
      "text/plain": [
       "'success: content added from https://www.state.gov/secretary-antony-j-blinken-and-kenyan-president-ruto-before-their-meeting/'"
      ]
     },
     "execution_count": 19,
     "metadata": {},
     "output_type": "execute_result"
    },
    {
     "data": {
      "text/plain": [
       "'success: content added from https://www.state.gov/continuing-to-hold-russia-to-account-for-its-war-against-ukraine/'"
      ]
     },
     "execution_count": 19,
     "metadata": {},
     "output_type": "execute_result"
    },
    {
     "data": {
      "text/plain": [
       "'success: content added from https://www.state.gov/secretary-antony-j-blinken-at-the-u-s-africa-leaders-summit-foreign-ministers-dinner/'"
      ]
     },
     "execution_count": 19,
     "metadata": {},
     "output_type": "execute_result"
    },
    {
     "data": {
      "text/plain": [
       "'success: content added from https://www.state.gov/secretary-blinken-and-mozambican-president-filipe-nyusi-before-their-meeting/'"
      ]
     },
     "execution_count": 19,
     "metadata": {},
     "output_type": "execute_result"
    },
    {
     "data": {
      "text/plain": [
       "'success: content added from https://www.state.gov/secretary-antony-j-blinken-at-the-u-s-africa-business-forum-lunch/'"
      ]
     },
     "execution_count": 19,
     "metadata": {},
     "output_type": "execute_result"
    },
    {
     "data": {
      "text/plain": [
       "'success: content added from https://www.state.gov/secretary-antony-j-blinken-and-ghanaian-president-nana-akufo-addo-before-their-meeting/'"
      ]
     },
     "execution_count": 19,
     "metadata": {},
     "output_type": "execute_result"
    },
    {
     "data": {
      "text/plain": [
       "'success: content added from https://www.state.gov/removal-of-iran-from-the-un-commission-on-the-status-of-women/'"
      ]
     },
     "execution_count": 19,
     "metadata": {},
     "output_type": "execute_result"
    },
    {
     "data": {
      "text/plain": [
       "'success: content added from https://www.state.gov/secretary-antony-j-blinken-and-tunisian-president-kais-saied-before-their-meeting/'"
      ]
     },
     "execution_count": 19,
     "metadata": {},
     "output_type": "execute_result"
    },
    {
     "data": {
      "text/plain": [
       "'success: content added from https://www.state.gov/secretary-antony-j-blinken-with-beninese-president-patrice-talon-and-nigerien-president-mohamed-bazoum-at-the-regional-compact-signing/'"
      ]
     },
     "execution_count": 19,
     "metadata": {},
     "output_type": "execute_result"
    },
    {
     "data": {
      "text/plain": [
       "'success: content added from https://www.state.gov/secretary-blinken-and-democratic-republic-of-the-congo-president-felix-tshisekedi-before-their-meeting/'"
      ]
     },
     "execution_count": 19,
     "metadata": {},
     "output_type": "execute_result"
    },
    {
     "data": {
      "text/plain": [
       "'success: content added from https://www.state.gov/secretary-blinken-and-senegalese-president-and-au-chairperson-macky-sall-before-their-meeting/'"
      ]
     },
     "execution_count": 19,
     "metadata": {},
     "output_type": "execute_result"
    },
    {
     "data": {
      "text/plain": [
       "'success: content added from https://www.state.gov/secretary-blinken-and-ethiopian-prime-minister-abiy-ahmed-before-their-meeting/'"
      ]
     },
     "execution_count": 19,
     "metadata": {},
     "output_type": "execute_result"
    },
    {
     "data": {
      "text/plain": [
       "'success: content added from https://www.state.gov/secretary-blinken-at-the-conservation-climate-adaptation-and-just-energy-transition-forum/'"
      ]
     },
     "execution_count": 19,
     "metadata": {},
     "output_type": "execute_result"
    },
    {
     "data": {
      "text/plain": [
       "'success: content added from https://www.state.gov/secretary-blinken-at-an-mou-signing-with-democratic-republic-of-the-congo-vice-prime-minister-and-foreign-minister-christophe-lutundula-and-zambian-foreign-minister-stanley-kakubo/'"
      ]
     },
     "execution_count": 19,
     "metadata": {},
     "output_type": "execute_result"
    },
    {
     "data": {
      "text/plain": [
       "'success: content added from https://www.state.gov/secretary-blinken-at-the-peace-security-and-governance-forum/'"
      ]
     },
     "execution_count": 19,
     "metadata": {},
     "output_type": "execute_result"
    },
    {
     "data": {
      "text/plain": [
       "'success: content added from https://www.state.gov/secretary-antony-j-blinken-and-secretary-of-defense-lloyd-austin-and-angolan-president-joao-lourenco-before-their-meeting/'"
      ]
     },
     "execution_count": 19,
     "metadata": {},
     "output_type": "execute_result"
    },
    {
     "data": {
      "text/plain": [
       "'success: content added from https://www.state.gov/secretary-antony-j-blinken-and-secretary-of-defense-lloyd-austin-before-meeting-with-djiboutian-president-ismail-omar-guelleh-nigerien-president-mohamed-bazoum-and-somali-president-hassan-sheikh-mo/'"
      ]
     },
     "execution_count": 19,
     "metadata": {},
     "output_type": "execute_result"
    },
    {
     "data": {
      "text/plain": [
       "'success: content added from https://www.state.gov/plans-for-a-bureau-of-global-health-security-and-diplomacy/'"
      ]
     },
     "execution_count": 19,
     "metadata": {},
     "output_type": "execute_result"
    },
    {
     "data": {
      "text/plain": [
       "'success: content added from https://www.state.gov/secretary-antony-j-blinken-at-a-reception-for-african-innovators-as-part-of-the-u-s-africa-leaders-summit/'"
      ]
     },
     "execution_count": 19,
     "metadata": {},
     "output_type": "execute_result"
    },
    {
     "data": {
      "text/plain": [
       "'success: content added from https://www.state.gov/secretary-antony-j-blinken-at-a-signing-ceremony-for-a-new-memorandum-of-understanding-mou-with-the-tent-partnership-for-refugees/'"
      ]
     },
     "execution_count": 19,
     "metadata": {},
     "output_type": "execute_result"
    },
    {
     "data": {
      "text/plain": [
       "'success: content added from https://www.state.gov/200th-anniversary-of-u-s-mexico-bilateral-relations/'"
      ]
     },
     "execution_count": 19,
     "metadata": {},
     "output_type": "execute_result"
    },
    {
     "data": {
      "text/plain": [
       "'success: content added from https://www.state.gov/alleged-pan-am-flight-103-bombmaker-in-u-s-custody/'"
      ]
     },
     "execution_count": 19,
     "metadata": {},
     "output_type": "execute_result"
    },
    {
     "data": {
      "text/plain": [
       "'success: content added from https://www.state.gov/secretary-blinken-and-uzbekistan-foreign-minister-vladimir-norov-before-their-meeting/'"
      ]
     },
     "execution_count": 19,
     "metadata": {},
     "output_type": "execute_result"
    },
    {
     "data": {
      "text/plain": [
       "'success: content added from https://www.state.gov/kenya-national-day-2/'"
      ]
     },
     "execution_count": 19,
     "metadata": {},
     "output_type": "execute_result"
    },
    {
     "data": {
      "text/plain": [
       "'success: content added from https://www.state.gov/burkina-faso-national-day/'"
      ]
     },
     "execution_count": 19,
     "metadata": {},
     "output_type": "execute_result"
    },
    {
     "data": {
      "text/plain": [
       "'success: content added from https://www.state.gov/secretary-antony-j-blinken-conversation-with-2022-department-of-state-anti-corruption-champion-award-honorees/'"
      ]
     },
     "execution_count": 19,
     "metadata": {},
     "output_type": "execute_result"
    },
    {
     "data": {
      "text/plain": [
       "'success: content added from https://www.state.gov/human-rights-day/'"
      ]
     },
     "execution_count": 19,
     "metadata": {},
     "output_type": "execute_result"
    },
    {
     "data": {
      "text/plain": [
       "'success: content added from https://www.state.gov/un-security-council-adopts-resolution-establishing-humanitarian-carveout-across-un-sanctions-regimes/'"
      ]
     },
     "execution_count": 19,
     "metadata": {},
     "output_type": "execute_result"
    },
    {
     "data": {
      "text/plain": [
       "'success: content added from https://www.state.gov/the-united-states-imposes-sanctions-on-russian-entities-involved-in-uav-deal-with-iran/'"
      ]
     },
     "execution_count": 19,
     "metadata": {},
     "output_type": "execute_result"
    },
    {
     "data": {
      "text/plain": [
       "'success: content added from https://www.state.gov/secretary-antony-j-blinken-and-polish-foreign-minister-zbigniew-rau-before-their-meeting-2/'"
      ]
     },
     "execution_count": 19,
     "metadata": {},
     "output_type": "execute_result"
    },
    {
     "data": {
      "text/plain": [
       "'success: content added from https://www.state.gov/275-million-in-additional-u-s-military-assistance-for-ukraine-2/'"
      ]
     },
     "execution_count": 19,
     "metadata": {},
     "output_type": "execute_result"
    },
    {
     "data": {
      "text/plain": [
       "'success: content added from https://www.state.gov/combatting-global-corruption-and-human-rights-abuses/'"
      ]
     },
     "execution_count": 19,
     "metadata": {},
     "output_type": "execute_result"
    },
    {
     "data": {
      "text/plain": [
       "'success: content added from https://www.state.gov/secretary-antony-j-blinken-at-the-anti-corruption-champions-award-ceremony/'"
      ]
     },
     "execution_count": 19,
     "metadata": {},
     "output_type": "execute_result"
    },
    {
     "data": {
      "text/plain": [
       "'success: content added from https://www.state.gov/a-day-of-remembrance-and-call-to-action/'"
      ]
     },
     "execution_count": 19,
     "metadata": {},
     "output_type": "execute_result"
    },
    {
     "data": {
      "text/plain": [
       "'success: content added from https://www.state.gov/departure-of-deputy-secretary-of-state-for-management-and-resources-brian-p-mckeon/'"
      ]
     },
     "execution_count": 19,
     "metadata": {},
     "output_type": "execute_result"
    },
    {
     "data": {
      "text/plain": [
       "'success: content added from https://www.state.gov/remarks-for-launch-of-the-2022-u-s-strategy-on-gender-based-violence-globally/'"
      ]
     },
     "execution_count": 19,
     "metadata": {},
     "output_type": "execute_result"
    },
    {
     "data": {
      "text/plain": [
       "'success: content added from https://www.state.gov/secretary-antony-j-blinken-on-cbs-news-livestream-with-margaret-brennan/'"
      ]
     },
     "execution_count": 19,
     "metadata": {},
     "output_type": "execute_result"
    },
    {
     "data": {
      "text/plain": [
       "'success: content added from https://www.state.gov/secretary-antony-j-blinken-with-swedish-foreign-minister-tobias-billstrom-and-finnish-foreign-minister-pekka-haavisto-at-a-joint-press-availability/'"
      ]
     },
     "execution_count": 19,
     "metadata": {},
     "output_type": "execute_result"
    },
    {
     "data": {
      "text/plain": [
       "'success: content added from https://www.state.gov/the-release-of-brittney-griner-from-russia/'"
      ]
     },
     "execution_count": 19,
     "metadata": {},
     "output_type": "execute_result"
    },
    {
     "data": {
      "text/plain": [
       "'success: content added from https://www.state.gov/expanded-visa-restriction-policy-for-individuals-undermining-the-democratic-transition-in-sudan/'"
      ]
     },
     "execution_count": 19,
     "metadata": {},
     "output_type": "execute_result"
    },
    {
     "data": {
      "text/plain": [
       "'success: content added from https://www.state.gov/secretary-antony-j-blinken-defense-secretary-lloyd-austin-australian-foreign-minister-penny-wong-and-australian-deputy-prime-minister-and-minister-for-defense-richard-marles-at-a-joint-press-avail/'"
      ]
     },
     "execution_count": 19,
     "metadata": {},
     "output_type": "execute_result"
    },
    {
     "data": {
      "text/plain": [
       "'success: content added from https://www.state.gov/finland-national-day-2/'"
      ]
     },
     "execution_count": 19,
     "metadata": {},
     "output_type": "execute_result"
    },
    {
     "data": {
      "text/plain": [
       "'success: content added from https://www.state.gov/secretary-antony-j-blinken-with-editor-in-chief-matt-murray-at-the-wall-street-journal-ceo-council-summit/'"
      ]
     },
     "execution_count": 19,
     "metadata": {},
     "output_type": "execute_result"
    },
    {
     "data": {
      "text/plain": [
       "'success: content added from https://www.state.gov/secretary-antony-j-blinken-u-s-eu-trade-and-technology-council-ministerial-co-chairs-joint-press-availability/'"
      ]
     },
     "execution_count": 19,
     "metadata": {},
     "output_type": "execute_result"
    },
    {
     "data": {
      "text/plain": [
       "'success: content added from https://www.state.gov/secretary-antony-j-blinken-at-a-stakeholders-roundtable/'"
      ]
     },
     "execution_count": 19,
     "metadata": {},
     "output_type": "execute_result"
    },
    {
     "data": {
      "text/plain": [
       "'success: content added from https://www.state.gov/secretary-antony-j-blinken-with-jake-tapper-of-cnn-state-of-the-union-2/'"
      ]
     },
     "execution_count": 19,
     "metadata": {},
     "output_type": "execute_result"
    },
    {
     "data": {
      "text/plain": [
       "'success: content added from https://www.state.gov/secretary-antony-j-blinken-at-the-j-street-national-conference/'"
      ]
     },
     "execution_count": 19,
     "metadata": {},
     "output_type": "execute_result"
    },
    {
     "data": {
      "text/plain": [
       "'success: content added from https://www.state.gov/secretary-antony-j-blinken-with-margaret-brennan-of-cbss-face-the-nation/'"
      ]
     },
     "execution_count": 19,
     "metadata": {},
     "output_type": "execute_result"
    },
    {
     "data": {
      "text/plain": [
       "'success: content added from https://www.state.gov/secretary-antony-j-blinken-at-the-kennedy-center-honors-dinner/'"
      ]
     },
     "execution_count": 19,
     "metadata": {},
     "output_type": "execute_result"
    },
    {
     "data": {
      "text/plain": [
       "'success: content added from https://www.state.gov/the-international-day-of-persons-with-disabilities'"
      ]
     },
     "execution_count": 19,
     "metadata": {},
     "output_type": "execute_result"
    },
    {
     "data": {
      "text/plain": [
       "'success: content added from https://www.state.gov/secretary-antony-j-blinken-and-sri-lankan-foreign-minister-ali-sabry-before-their-meeting-2/'"
      ]
     },
     "execution_count": 19,
     "metadata": {},
     "output_type": "execute_result"
    },
    {
     "data": {
      "text/plain": [
       "'success: content added from https://www.state.gov/secretary-antony-j-blinken-at-the-business-council-for-international-understanding-world-aids-day-commemoration/'"
      ]
     },
     "execution_count": 19,
     "metadata": {},
     "output_type": "execute_result"
    },
    {
     "data": {
      "text/plain": [
       "'success: content added from https://www.state.gov/religious-freedom-designations-2/'"
      ]
     },
     "execution_count": 19,
     "metadata": {},
     "output_type": "execute_result"
    },
    {
     "data": {
      "text/plain": [
       "'success: content added from https://www.state.gov/uae-national-day-2/'"
      ]
     },
     "execution_count": 19,
     "metadata": {},
     "output_type": "execute_result"
    },
    {
     "data": {
      "text/plain": [
       "'success: content added from https://www.state.gov/thailand-national-day-2/'"
      ]
     },
     "execution_count": 19,
     "metadata": {},
     "output_type": "execute_result"
    },
    {
     "data": {
      "text/plain": [
       "'success: content added from https://www.state.gov/secretary-antony-j-blinken-with-thomas-sotto-of-france-2/'"
      ]
     },
     "execution_count": 19,
     "metadata": {},
     "output_type": "execute_result"
    },
    {
     "data": {
      "text/plain": [
       "'success: content added from https://www.state.gov/34th-commemoration-of-world-aids-day/'"
      ]
     },
     "execution_count": 19,
     "metadata": {},
     "output_type": "execute_result"
    },
    {
     "data": {
      "text/plain": [
       "'success: content added from https://www.state.gov/secretary-antony-j-blinken-at-state-luncheon-in-honor-of-french-president-emmanuel-macron/'"
      ]
     },
     "execution_count": 19,
     "metadata": {},
     "output_type": "execute_result"
    },
    {
     "data": {
      "text/plain": [
       "'success: content added from https://www.state.gov/terrorist-designation-of-aqis-and-ttp-leaders/'"
      ]
     },
     "execution_count": 19,
     "metadata": {},
     "output_type": "execute_result"
    },
    {
     "data": {
      "text/plain": [
       "'success: content added from https://www.state.gov/designating-three-democratic-peoples-republic-of-korea-officials-in-response-to-pyongyangs-november-icbm-launches/'"
      ]
     },
     "execution_count": 19,
     "metadata": {},
     "output_type": "execute_result"
    },
    {
     "data": {
      "text/plain": [
       "'success: content added from https://www.state.gov/laos-national-day-2/'"
      ]
     },
     "execution_count": 19,
     "metadata": {},
     "output_type": "execute_result"
    },
    {
     "data": {
      "text/plain": [
       "'success: content added from https://www.state.gov/appointment-of-abby-finkenauer-as-special-envoy-for-global-youth-issues/'"
      ]
     },
     "execution_count": 19,
     "metadata": {},
     "output_type": "execute_result"
    },
    {
     "data": {
      "text/plain": [
       "'success: content added from https://www.state.gov/central-african-republic-national-day-2/'"
      ]
     },
     "execution_count": 19,
     "metadata": {},
     "output_type": "execute_result"
    },
    {
     "data": {
      "text/plain": [
       "'success: content added from https://www.state.gov/romanias-national-day/'"
      ]
     },
     "execution_count": 19,
     "metadata": {},
     "output_type": "execute_result"
    },
    {
     "data": {
      "text/plain": [
       "'success: content added from https://www.state.gov/secretary-antony-j-blinken-with-christiane-amanpour-of-cnn/'"
      ]
     },
     "execution_count": 19,
     "metadata": {},
     "output_type": "execute_result"
    },
    {
     "data": {
      "text/plain": [
       "'success: content added from https://www.state.gov/secretary-antony-j-blinken-with-andrea-mitchell-of-nbc-2/'"
      ]
     },
     "execution_count": 19,
     "metadata": {},
     "output_type": "execute_result"
    },
    {
     "data": {
      "text/plain": [
       "'success: content added from https://www.state.gov/secretary-antony-j-blinken-at-a-press-availability-romania/'"
      ]
     },
     "execution_count": 19,
     "metadata": {},
     "output_type": "execute_result"
    },
    {
     "data": {
      "text/plain": [
       "'success: content added from https://www.state.gov/secretary-antony-j-blinken-and-ukrainian-foreign-minister-dmytro-kuleba-before-their-meeting-5/'"
      ]
     },
     "execution_count": 19,
     "metadata": {},
     "output_type": "execute_result"
    },
    {
     "data": {
      "text/plain": [
       "'success: content added from https://www.state.gov/barbados-national-day/'"
      ]
     },
     "execution_count": 19,
     "metadata": {},
     "output_type": "execute_result"
    },
    {
     "data": {
      "text/plain": [
       "'content already existing for https://www.state.gov/barbados-national-day/'"
      ]
     },
     "execution_count": 19,
     "metadata": {},
     "output_type": "execute_result"
    },
    {
     "data": {
      "text/plain": [
       "'success: content added from https://www.state.gov/secretary-antony-j-blinken-and-belgian-foreign-minister-hadja-lahbib-before-their-meeting/'"
      ]
     },
     "execution_count": 19,
     "metadata": {},
     "output_type": "execute_result"
    },
    {
     "data": {
      "text/plain": [
       "'success: content added from https://www.state.gov/secretary-antony-j-blinken-and-romanian-foreign-minister-bogdan-aurescu-at-a-joint-press-availability/'"
      ]
     },
     "execution_count": 19,
     "metadata": {},
     "output_type": "execute_result"
    },
    {
     "data": {
      "text/plain": [
       "'success: content added from https://www.state.gov/secretary-antony-j-blinken-and-slovak-foreign-minister-rastislav-kacer-before-their-meeting/'"
      ]
     },
     "execution_count": 19,
     "metadata": {},
     "output_type": "execute_result"
    },
    {
     "data": {
      "text/plain": [
       "'success: content added from https://www.state.gov/secretary-antony-j-blinken-and-nato-secretary-general-jens-stoltenberg-before-their-meeting-6/'"
      ]
     },
     "execution_count": 19,
     "metadata": {},
     "output_type": "execute_result"
    },
    {
     "data": {
      "text/plain": [
       "'success: content added from https://www.state.gov/secretary-antony-j-blinken-and-romanian-president-klaus-iohannis-before-their-meeting/'"
      ]
     },
     "execution_count": 19,
     "metadata": {},
     "output_type": "execute_result"
    },
    {
     "data": {
      "text/plain": [
       "'success: content added from https://www.state.gov/secretary-antony-j-blinken-and-romanian-prime-minister-nicolae-ciuca-at-the-romanian-athenaeum/'"
      ]
     },
     "execution_count": 19,
     "metadata": {},
     "output_type": "execute_result"
    },
    {
     "data": {
      "text/plain": [
       "'success: content added from https://www.state.gov/secretary-antony-j-blinken-with-saranee-sanguanruang-of-lda-world-on-youtube/'"
      ]
     },
     "execution_count": 19,
     "metadata": {},
     "output_type": "execute_result"
    },
    {
     "data": {
      "text/plain": [
       "'success: content added from https://www.state.gov/secretary-antony-j-blinken-with-arieh-smith-of-xiaomanyc-on-youtube/'"
      ]
     },
     "execution_count": 19,
     "metadata": {},
     "output_type": "execute_result"
    },
    {
     "data": {
      "text/plain": [
       "'success: content added from https://www.state.gov/mauritania-national-day/'"
      ]
     },
     "execution_count": 19,
     "metadata": {},
     "output_type": "execute_result"
    },
    {
     "data": {
      "text/plain": [
       "'success: content added from https://www.state.gov/suriname-national-day/'"
      ]
     },
     "execution_count": 19,
     "metadata": {},
     "output_type": "execute_result"
    },
    {
     "data": {
      "text/plain": [
       "'success: content added from https://www.state.gov/the-international-day-for-the-elimination-of-violence-against-women-and-16-days-of-activism-against-gender-based-violence/'"
      ]
     },
     "execution_count": 19,
     "metadata": {},
     "output_type": "execute_result"
    },
    {
     "data": {
      "text/plain": [
       "'success: content added from https://www.state.gov/bosnia-and-herzegovina-statehood-day-2/'"
      ]
     },
     "execution_count": 19,
     "metadata": {},
     "output_type": "execute_result"
    },
    {
     "data": {
      "text/plain": [
       "'success: content added from https://www.state.gov/malaysias-national-elections/'"
      ]
     },
     "execution_count": 19,
     "metadata": {},
     "output_type": "execute_result"
    },
    {
     "data": {
      "text/plain": [
       "'success: content added from https://www.state.gov/the-united-nations-human-rights-council-holds-special-session-on-iran/'"
      ]
     },
     "execution_count": 19,
     "metadata": {},
     "output_type": "execute_result"
    },
    {
     "data": {
      "text/plain": [
       "'success: content added from https://www.state.gov/terrorist-attacks-in-jerusalem/'"
      ]
     },
     "execution_count": 19,
     "metadata": {},
     "output_type": "execute_result"
    },
    {
     "data": {
      "text/plain": [
       "'success: content added from https://www.state.gov/designating-iranian-officials-connected-to-serious-human-rights-abuses-in-irans-kurdistan-and-west-azerbaijan-provinces/'"
      ]
     },
     "execution_count": 19,
     "metadata": {},
     "output_type": "execute_result"
    },
    {
     "data": {
      "text/plain": [
       "'success: content added from https://www.state.gov/400-million-in-additional-u-s-military-assistance-for-ukraine-2/'"
      ]
     },
     "execution_count": 19,
     "metadata": {},
     "output_type": "execute_result"
    },
    {
     "data": {
      "text/plain": [
       "'success: content added from https://www.state.gov/secretary-antony-j-blinken-and-qatari-deputy-prime-minister-and-foreign-minister-mohammed-bin-abdulrahman-al-thani-at-a-joint-press-availability/'"
      ]
     },
     "execution_count": 19,
     "metadata": {},
     "output_type": "execute_result"
    },
    {
     "data": {
      "text/plain": [
       "'success: content added from https://www.state.gov/secretary-antony-j-blinken-remarks-to-the-press-4/'"
      ]
     },
     "execution_count": 19,
     "metadata": {},
     "output_type": "execute_result"
    },
    {
     "data": {
      "text/plain": [
       "'success: content added from https://www.state.gov/lebanon-national-day-2/'"
      ]
     },
     "execution_count": 19,
     "metadata": {},
     "output_type": "execute_result"
    },
    {
     "data": {
      "text/plain": [
       "'success: content added from https://www.state.gov/secretary-antony-j-blinken-at-a-sports-diplomacy-event/'"
      ]
     },
     "execution_count": 19,
     "metadata": {},
     "output_type": "execute_result"
    },
    {
     "data": {
      "text/plain": [
       "'success: content added from https://www.state.gov/transgender-day-of-remembrance/'"
      ]
     },
     "execution_count": 19,
     "metadata": {},
     "output_type": "execute_result"
    },
    {
     "data": {
      "text/plain": [
       "'success: content added from https://www.state.gov/monacos-national-day/'"
      ]
     },
     "execution_count": 19,
     "metadata": {},
     "output_type": "execute_result"
    },
    {
     "data": {
      "text/plain": [
       "'success: content added from https://www.state.gov/oman-national-day-2/'"
      ]
     },
     "execution_count": 19,
     "metadata": {},
     "output_type": "execute_result"
    },
    {
     "data": {
      "text/plain": [
       "'success: content added from https://www.state.gov/latvia-national-day-2/'"
      ]
     },
     "execution_count": 19,
     "metadata": {},
     "output_type": "execute_result"
    },
    {
     "data": {
      "text/plain": [
       "'success: content added from https://www.state.gov/secretary-antony-j-blinken-with-aticharn-cherngchavano-of-spin9-on-youtube/'"
      ]
     },
     "execution_count": 19,
     "metadata": {},
     "output_type": "execute_result"
    },
    {
     "data": {
      "text/plain": [
       "'success: content added from https://www.state.gov/secretary-antony-j-blinken-and-united-states-trade-representative-katherine-tai-at-a-joint-press-availability/'"
      ]
     },
     "execution_count": 19,
     "metadata": {},
     "output_type": "execute_result"
    },
    {
     "data": {
      "text/plain": [
       "'success: content added from https://www.state.gov/verdict-in-dutch-trial-against-mh17-suspects/'"
      ]
     },
     "execution_count": 19,
     "metadata": {},
     "output_type": "execute_result"
    },
    {
     "data": {
      "text/plain": [
       "'success: content added from https://www.state.gov/designating-sanctions-evaders-involved-in-iranian-petrochemical-and-petroleum-trade/'"
      ]
     },
     "execution_count": 19,
     "metadata": {},
     "output_type": "execute_result"
    },
    {
     "data": {
      "text/plain": [
       "'content already existing for https://www.state.gov/designating-sanctions-evaders-involved-in-iranian-petrochemical-and-petroleum-trade/'"
      ]
     },
     "execution_count": 19,
     "metadata": {},
     "output_type": "execute_result"
    },
    {
     "data": {
      "text/plain": [
       "'success: content added from https://www.state.gov/release-of-u-s-citizen-kyaw-htay-oo/'"
      ]
     },
     "execution_count": 19,
     "metadata": {},
     "output_type": "execute_result"
    },
    {
     "data": {
      "text/plain": [
       "'success: content added from https://www.state.gov/secretary-antony-j-blinken-and-thai-deputy-prime-minister-and-foreign-minister-don-pramudwinai-before-their-meeting-4/'"
      ]
     },
     "execution_count": 19,
     "metadata": {},
     "output_type": "execute_result"
    },
    {
     "data": {
      "text/plain": [
       "'success: content added from https://www.state.gov/secretary-antony-j-blinken-at-the-handover-of-the-apec-ministerial-meeting-to-the-united-states/'"
      ]
     },
     "execution_count": 19,
     "metadata": {},
     "output_type": "execute_result"
    },
    {
     "data": {
      "text/plain": [
       "'success: content added from https://www.state.gov/secretary-antony-j-blinken-and-vietnamese-foreign-minister-bui-thanh-son-before-their-meeting/'"
      ]
     },
     "execution_count": 19,
     "metadata": {},
     "output_type": "execute_result"
    },
    {
     "data": {
      "text/plain": [
       "'success: content added from https://www.state.gov/secretary-antony-j-blinken-and-papua-new-guinea-prime-minister-james-marape-before-their-meeting/'"
      ]
     },
     "execution_count": 19,
     "metadata": {},
     "output_type": "execute_result"
    },
    {
     "data": {
      "text/plain": [
       "'success: content added from https://www.state.gov/sanctioning-senior-officials-of-iranian-broadcaster/'"
      ]
     },
     "execution_count": 19,
     "metadata": {},
     "output_type": "execute_result"
    },
    {
     "data": {
      "text/plain": [
       "'success: content added from https://www.state.gov/artemis-i-advances-international-cooperation-inspires-next-generation/'"
      ]
     },
     "execution_count": 19,
     "metadata": {},
     "output_type": "execute_result"
    },
    {
     "data": {
      "text/plain": [
       "'success: content added from https://www.state.gov/imposing-sanctions-on-entities-and-individuals-in-response-to-irans-transfer-of-military-uavs-to-russia/'"
      ]
     },
     "execution_count": 19,
     "metadata": {},
     "output_type": "execute_result"
    },
    {
     "data": {
      "text/plain": [
       "'success: content added from https://www.state.gov/targeting-russias-global-military-procurement-network-and-kremlin-linked-networks/'"
      ]
     },
     "execution_count": 19,
     "metadata": {},
     "output_type": "execute_result"
    },
    {
     "data": {
      "text/plain": [
       "'success: content added from https://www.state.gov/secretary-antony-j-blinken-and-ukrainian-foreign-minister-dmytro-kuleba-before-their-meeting-4/'"
      ]
     },
     "execution_count": 19,
     "metadata": {},
     "output_type": "execute_result"
    },
    {
     "data": {
      "text/plain": [
       "'success: content added from https://www.state.gov/demonstrating-the-u-s-commitment-to-climate-action-at-cop27/'"
      ]
     },
     "execution_count": 19,
     "metadata": {},
     "output_type": "execute_result"
    },
    {
     "data": {
      "text/plain": [
       "'success: content added from https://www.state.gov/sint-maarten-national-day/'"
      ]
     },
     "execution_count": 19,
     "metadata": {},
     "output_type": "execute_result"
    },
    {
     "data": {
      "text/plain": [
       "'success: content added from https://www.state.gov/angolan-national-day/'"
      ]
     },
     "execution_count": 19,
     "metadata": {},
     "output_type": "execute_result"
    },
    {
     "data": {
      "text/plain": [
       "'success: content added from https://www.state.gov/400-million-in-additional-u-s-military-assistance-for-ukraine/'"
      ]
     },
     "execution_count": 19,
     "metadata": {},
     "output_type": "execute_result"
    },
    {
     "data": {
      "text/plain": [
       "'success: content added from https://www.state.gov/direct-flights-between-tel-aviv-and-doha-for-the-world-cup/'"
      ]
     },
     "execution_count": 19,
     "metadata": {},
     "output_type": "execute_result"
    },
    {
     "data": {
      "text/plain": [
       "'success: content added from https://www.state.gov/russias-continued-wrongful-detention-of-brittney-griner/'"
      ]
     },
     "execution_count": 19,
     "metadata": {},
     "output_type": "execute_result"
    },
    {
     "data": {
      "text/plain": [
       "'success: content added from https://www.state.gov/secretary-antony-j-blinken-and-omani-foreign-minister-sayyid-badr-al-busaidi-before-their-meeting/'"
      ]
     },
     "execution_count": 19,
     "metadata": {},
     "output_type": "execute_result"
    },
    {
     "data": {
      "text/plain": [
       "'success: content added from https://www.state.gov/secretary-antony-j-blinken-and-bahamian-foreign-minister-frederick-mitchell-before-their-meeting/'"
      ]
     },
     "execution_count": 19,
     "metadata": {},
     "output_type": "execute_result"
    },
    {
     "data": {
      "text/plain": [
       "'success: content added from https://www.state.gov/designation-of-the-burmese-regimes-military-aircraft-suppliers/'"
      ]
     },
     "execution_count": 19,
     "metadata": {},
     "output_type": "execute_result"
    },
    {
     "data": {
      "text/plain": [
       "'success: content added from https://www.state.gov/cambodia-national-day-2/'"
      ]
     },
     "execution_count": 19,
     "metadata": {},
     "output_type": "execute_result"
    },
    {
     "data": {
      "text/plain": [
       "'success: content added from https://www.state.gov/secretary-antony-j-blinken-armenian-foreign-minister-ararat-mirzoyan-and-azerbaijani-foreign-minister-jeyhun-bayramov-before-their-meeting/'"
      ]
     },
     "execution_count": 19,
     "metadata": {},
     "output_type": "execute_result"
    },
    {
     "data": {
      "text/plain": [
       "'success: content added from https://www.state.gov/the-second-anniversary-of-the-2020-elections-in-burma/'"
      ]
     },
     "execution_count": 19,
     "metadata": {},
     "output_type": "execute_result"
    },
    {
     "data": {
      "text/plain": [
       "'success: content added from https://www.state.gov/u-s-department-of-state-announces-reward-offers-for-information-leading-to-the-arrests-and-or-convictions-of-three-haitian-gang-leaders/'"
      ]
     },
     "execution_count": 19,
     "metadata": {},
     "output_type": "execute_result"
    },
    {
     "data": {
      "text/plain": [
       "'success: content added from https://www.state.gov/secretary-antony-j-blinken-at-a-press-availability-25/'"
      ]
     },
     "execution_count": 19,
     "metadata": {},
     "output_type": "execute_result"
    },
    {
     "data": {
      "text/plain": [
       "'success: content added from https://www.state.gov/secretary-antony-j-blinken-with-italian-foreign-minister-antonio-tajani-before-their-meeting/'"
      ]
     },
     "execution_count": 19,
     "metadata": {},
     "output_type": "execute_result"
    },
    {
     "data": {
      "text/plain": [
       "'success: content added from https://www.state.gov/secretary-antony-j-blinken-and-kenyan-foreign-minister-dr-alfred-nganga-mutua-before-their-meeting/'"
      ]
     },
     "execution_count": 19,
     "metadata": {},
     "output_type": "execute_result"
    },
    {
     "data": {
      "text/plain": [
       "'success: content added from https://www.state.gov/secretary-antony-j-blinken-and-japanese-foreign-minister-yoshimasa-hayashi-before-their-meeting-4/'"
      ]
     },
     "execution_count": 19,
     "metadata": {},
     "output_type": "execute_result"
    },
    {
     "data": {
      "text/plain": [
       "'success: content added from https://www.state.gov/designation-of-haitian-senate-president-joseph-lambert-for-involvement-in-significant-corruption-and-a-gross-violation-of-human-rights/'"
      ]
     },
     "execution_count": 19,
     "metadata": {},
     "output_type": "execute_result"
    },
    {
     "data": {
      "text/plain": [
       "'success: content added from https://www.state.gov/terezin-declaration-conference/'"
      ]
     },
     "execution_count": 19,
     "metadata": {},
     "output_type": "execute_result"
    },
    {
     "data": {
      "text/plain": [
       "'success: content added from https://www.state.gov/shooting-of-former-pakistani-prime-minister-imran-khan/'"
      ]
     },
     "execution_count": 19,
     "metadata": {},
     "output_type": "execute_result"
    },
    {
     "data": {
      "text/plain": [
       "'success: content added from https://www.state.gov/designation-of-sanctions-evasion-network/'"
      ]
     },
     "execution_count": 19,
     "metadata": {},
     "output_type": "execute_result"
    },
    {
     "data": {
      "text/plain": [
       "'success: content added from https://www.state.gov/remarks-at-a-u-s-german-futures-forum-moderated-discussion-with-german-foreign-minister-annalena-baerbock/'"
      ]
     },
     "execution_count": 19,
     "metadata": {},
     "output_type": "execute_result"
    },
    {
     "data": {
      "text/plain": [
       "'success: content added from https://www.state.gov/tonga-national-day-2/'"
      ]
     },
     "execution_count": 19,
     "metadata": {},
     "output_type": "execute_result"
    },
    {
     "data": {
      "text/plain": [
       "'success: content added from https://www.state.gov/panama-national-day/'"
      ]
     },
     "execution_count": 19,
     "metadata": {},
     "output_type": "execute_result"
    },
    {
     "data": {
      "text/plain": [
       "'success: content added from https://www.state.gov/dominica-national-day/'"
      ]
     },
     "execution_count": 19,
     "metadata": {},
     "output_type": "execute_result"
    },
    {
     "data": {
      "text/plain": [
       "'success: content added from https://www.state.gov/on-the-african-union-led-peace-talks/'"
      ]
     },
     "execution_count": 19,
     "metadata": {},
     "output_type": "execute_result"
    },
    {
     "data": {
      "text/plain": [
       "'success: content added from https://www.state.gov/polands-announcement-on-westinghouse-nuclear-technology-selection/'"
      ]
     },
     "execution_count": 19,
     "metadata": {},
     "output_type": "execute_result"
    },
    {
     "data": {
      "text/plain": [
       "'success: content added from https://www.state.gov/federated-states-of-micronesia-independence-day-2/'"
      ]
     },
     "execution_count": 19,
     "metadata": {},
     "output_type": "execute_result"
    },
    {
     "data": {
      "text/plain": [
       "'success: content added from https://www.state.gov/u-s-uae-signing-of-the-partnership-for-accelerating-clean-energy/'"
      ]
     },
     "execution_count": 19,
     "metadata": {},
     "output_type": "execute_result"
    },
    {
     "data": {
      "text/plain": [
       "'success: content added from https://www.state.gov/antigua-and-barbuda-national-day/'"
      ]
     },
     "execution_count": 19,
     "metadata": {},
     "output_type": "execute_result"
    },
    {
     "data": {
      "text/plain": [
       "'success: content added from https://www.state.gov/suspension-of-the-black-sea-grain-initiative/'"
      ]
     },
     "execution_count": 19,
     "metadata": {},
     "output_type": "execute_result"
    },
    {
     "data": {
      "text/plain": [
       "'success: content added from https://www.state.gov/turkish-national-day/'"
      ]
     },
     "execution_count": 19,
     "metadata": {},
     "output_type": "execute_result"
    },
    {
     "data": {
      "text/plain": [
       "'success: content added from https://www.state.gov/secretary-antony-j-blinken-and-canadian-foreign-minister-melanie-joly-at-a-conversation-with-rising-leaders/'"
      ]
     },
     "execution_count": 19,
     "metadata": {},
     "output_type": "execute_result"
    },
    {
     "data": {
      "text/plain": [
       "'success: content added from https://www.state.gov/secretary-antony-j-blinken-and-icao-president-salvatore-sciacchitano-after-their-meeting/'"
      ]
     },
     "execution_count": 19,
     "metadata": {},
     "output_type": "execute_result"
    },
    {
     "data": {
      "text/plain": [
       "'success: content added from https://www.state.gov/secretary-antony-j-blinken-and-canadian-foreign-minister-melanie-joly-at-a-tour-of-lithion-recycling/'"
      ]
     },
     "execution_count": 19,
     "metadata": {},
     "output_type": "execute_result"
    },
    {
     "data": {
      "text/plain": [
       "'success: content added from https://www.state.gov/275-million-in-additional-u-s-military-assistance-for-ukraine/'"
      ]
     },
     "execution_count": 19,
     "metadata": {},
     "output_type": "execute_result"
    },
    {
     "data": {
      "text/plain": [
       "'success: content added from https://www.state.gov/secretary-antony-j-blinken-with-gino-chouinard-and-georges-pothier-of-salut-bonjour/'"
      ]
     },
     "execution_count": 19,
     "metadata": {},
     "output_type": "execute_result"
    },
    {
     "data": {
      "text/plain": [
       "'success: content added from https://www.state.gov/czech-republics-national-day/'"
      ]
     },
     "execution_count": 19,
     "metadata": {},
     "output_type": "execute_result"
    },
    {
     "data": {
      "text/plain": [
       "'success: content added from https://www.state.gov/secretary-antony-j-blinken-and-canadian-prime-minister-justin-trudeau-before-their-meeting/'"
      ]
     },
     "execution_count": 19,
     "metadata": {},
     "output_type": "execute_result"
    },
    {
     "data": {
      "text/plain": [
       "'success: content added from https://www.state.gov/secretary-antony-j-blinken-with-vassy-kapelos-of-canadian-broadcasting-corporation-cbc-power-and-politics/'"
      ]
     },
     "execution_count": 19,
     "metadata": {},
     "output_type": "execute_result"
    },
    {
     "data": {
      "text/plain": [
       "'success: content added from https://www.state.gov/secretary-antony-j-blinken-and-canadian-foreign-minister-melanie-joly-at-a-joint-press-availability-2/'"
      ]
     },
     "execution_count": 19,
     "metadata": {},
     "output_type": "execute_result"
    },
    {
     "data": {
      "text/plain": [
       "'success: content added from https://www.state.gov/secretary-antony-j-blinken-and-african-union-commission-chairperson-moussa-faki-mahamat-before-their-meeting/'"
      ]
     },
     "execution_count": 19,
     "metadata": {},
     "output_type": "execute_result"
    },
    {
     "data": {
      "text/plain": [
       "'success: content added from https://www.state.gov/secretary-antony-j-blinken-and-canadian-foreign-minister-melanie-joly-before-their-meeting-2/'"
      ]
     },
     "execution_count": 19,
     "metadata": {},
     "output_type": "execute_result"
    },
    {
     "data": {
      "text/plain": [
       "'success: content added from https://www.state.gov/secretary-antony-j-blinken-with-canadian-deputy-prime-minister-chrystia-freeland-and-canadian-foreign-minister-melanie-joly/'"
      ]
     },
     "execution_count": 19,
     "metadata": {},
     "output_type": "execute_result"
    },
    {
     "data": {
      "text/plain": [
       "'success: content added from https://www.state.gov/international-religious-freedom-day-2/'"
      ]
     },
     "execution_count": 19,
     "metadata": {},
     "output_type": "execute_result"
    },
    {
     "data": {
      "text/plain": [
       "'success: content added from https://www.state.gov/historic-agreement-establishing-a-permanent-israel-lebanon-maritime-boundary/'"
      ]
     },
     "execution_count": 19,
     "metadata": {},
     "output_type": "execute_result"
    },
    {
     "data": {
      "text/plain": [
       "'success: content added from https://www.state.gov/saint-vincent-and-the-grenadines-national-day/'"
      ]
     },
     "execution_count": 19,
     "metadata": {},
     "output_type": "execute_result"
    },
    {
     "data": {
      "text/plain": [
       "'success: content added from https://www.state.gov/secretary-antony-j-blinken-remarks-at-a-diwali-reception/'"
      ]
     },
     "execution_count": 19,
     "metadata": {},
     "output_type": "execute_result"
    },
    {
     "data": {
      "text/plain": [
       "'success: content added from https://www.state.gov/secretary-antony-j-blinken-with-peggy-collins-of-bloomberg-news/'"
      ]
     },
     "execution_count": 19,
     "metadata": {},
     "output_type": "execute_result"
    },
    {
     "data": {
      "text/plain": [
       "'success: content added from https://www.state.gov/designation-of-iranian-officials-and-entities-connected-to-ongoing-protest-repression-censorship-and-prison-abuses/'"
      ]
     },
     "execution_count": 19,
     "metadata": {},
     "output_type": "execute_result"
    },
    {
     "data": {
      "text/plain": [
       "'success: content added from https://www.state.gov/response-to-corruption-and-election-interference-in-moldova/'"
      ]
     },
     "execution_count": 19,
     "metadata": {},
     "output_type": "execute_result"
    },
    {
     "data": {
      "text/plain": [
       "'success: content added from https://www.state.gov/austrias-national-day/'"
      ]
     },
     "execution_count": 19,
     "metadata": {},
     "output_type": "execute_result"
    },
    {
     "data": {
      "text/plain": [
       "'success: content added from https://www.state.gov/on-the-start-of-northern-ethiopia-peace-talks/'"
      ]
     },
     "execution_count": 19,
     "metadata": {},
     "output_type": "execute_result"
    },
    {
     "data": {
      "text/plain": [
       "'success: content added from https://www.state.gov/secretary-antony-j-blinken-and-israeli-president-isaac-herzog-before-their-meeting-2/'"
      ]
     },
     "execution_count": 19,
     "metadata": {},
     "output_type": "execute_result"
    },
    {
     "data": {
      "text/plain": [
       "'success: content added from https://www.state.gov/kazakhstans-republic-day/'"
      ]
     },
     "execution_count": 19,
     "metadata": {},
     "output_type": "execute_result"
    },
    {
     "data": {
      "text/plain": [
       "'success: content added from https://www.state.gov/secretary-antony-j-blinken-at-a-luncheon-commemorating-the-10th-anniversary-of-techwomen/'"
      ]
     },
     "execution_count": 19,
     "metadata": {},
     "output_type": "execute_result"
    },
    {
     "data": {
      "text/plain": [
       "'success: content added from https://www.state.gov/one-year-anniversary-of-military-takeover-in-sudan/'"
      ]
     },
     "execution_count": 19,
     "metadata": {},
     "output_type": "execute_result"
    },
    {
     "data": {
      "text/plain": [
       "'success: content added from https://www.state.gov/designation-of-three-syrian-military-officials-due-to-involvement-in-gross-violations-of-human-rights/'"
      ]
     },
     "execution_count": 19,
     "metadata": {},
     "output_type": "execute_result"
    },
    {
     "data": {
      "text/plain": [
       "'success: content added from https://www.state.gov/expanding-u-s-sanctions-authorities-and-announcement-of-visa-restrictions-for-nicaraguan-officials/'"
      ]
     },
     "execution_count": 19,
     "metadata": {},
     "output_type": "execute_result"
    },
    {
     "data": {
      "text/plain": [
       "'success: content added from https://www.state.gov/zambia-independence-day-2/'"
      ]
     },
     "execution_count": 19,
     "metadata": {},
     "output_type": "execute_result"
    },
    {
     "data": {
      "text/plain": [
       "'success: content added from https://www.state.gov/secretary-antony-j-blinken-and-french-foreign-minister-catherine-colonna-at-a-joint-press-availability/'"
      ]
     },
     "execution_count": 19,
     "metadata": {},
     "output_type": "execute_result"
    },
    {
     "data": {
      "text/plain": [
       "'success: content added from https://www.state.gov/welcoming-the-announcement-of-au-led-negotiations-to-resolve-conflict-in-ethiopia/'"
      ]
     },
     "execution_count": 19,
     "metadata": {},
     "output_type": "execute_result"
    },
    {
     "data": {
      "text/plain": [
       "'success: content added from https://www.state.gov/secretary-antony-j-blinken-with-brian-taff-of-wpvi-tv/'"
      ]
     },
     "execution_count": 19,
     "metadata": {},
     "output_type": "execute_result"
    },
    {
     "data": {
      "text/plain": [
       "'success: content added from https://www.state.gov/secretary-antony-j-blinken-on-good-morning-america-with-george-stephanopoulos/'"
      ]
     },
     "execution_count": 19,
     "metadata": {},
     "output_type": "execute_result"
    },
    {
     "data": {
      "text/plain": [
       "'success: content added from https://www.state.gov/secretary-antony-j-blinken-at-the-opening-of-a-new-philadelphia-passport-agency-and-at-a-u-s-citizenship-and-immigration-services-naturalization-ceremony/'"
      ]
     },
     "execution_count": 19,
     "metadata": {},
     "output_type": "execute_result"
    },
    {
     "data": {
      "text/plain": [
       "'success: content added from https://www.state.gov/secretary-antony-j-blinken-at-the-unveiling-of-a-mural-dedicated-to-former-congressman-robert-n-c-nix-sr/'"
      ]
     },
     "execution_count": 19,
     "metadata": {},
     "output_type": "execute_result"
    },
    {
     "data": {
      "text/plain": [
       "'success: content added from https://www.state.gov/imposing-sanctions-on-russias-technology-procurement/'"
      ]
     },
     "execution_count": 19,
     "metadata": {},
     "output_type": "execute_result"
    },
    {
     "data": {
      "text/plain": [
       "'success: content added from https://www.state.gov/release-of-the-presidents-national-biodefense-strategy/'"
      ]
     },
     "execution_count": 19,
     "metadata": {},
     "output_type": "execute_result"
    },
    {
     "data": {
      "text/plain": [
       "'success: content added from https://www.state.gov/one-year-of-detention-for-our-locally-employed-staff-in-sanaa/'"
      ]
     },
     "execution_count": 19,
     "metadata": {},
     "output_type": "execute_result"
    },
    {
     "data": {
      "text/plain": [
       "'success: content added from https://www.state.gov/secretary-antony-blinken-remarks-to-the-press-3/'"
      ]
     },
     "execution_count": 19,
     "metadata": {},
     "output_type": "execute_result"
    },
    {
     "data": {
      "text/plain": [
       "'success: content added from https://www.state.gov/secretary-antony-j-blinken-at-a-conversation-on-the-evolution-and-importance-of-technology-diplomacy-and-national-security-with-66th-secretary-of-state-condoleezza-rice/'"
      ]
     },
     "execution_count": 19,
     "metadata": {},
     "output_type": "execute_result"
    },
    {
     "data": {
      "text/plain": [
       "'success: content added from https://www.state.gov/secretary-antony-j-blinken-at-a-university-recruitment-event/'"
      ]
     },
     "execution_count": 19,
     "metadata": {},
     "output_type": "execute_result"
    },
    {
     "data": {
      "text/plain": [
       "'success: content added from https://www.state.gov/remarks-at-slac-national-accelerator-laboratory/'"
      ]
     },
     "execution_count": 19,
     "metadata": {},
     "output_type": "execute_result"
    },
    {
     "data": {
      "text/plain": [
       "'success: content added from https://www.state.gov/terrorist-designation-of-al-shabaab-leaders/'"
      ]
     },
     "execution_count": 19,
     "metadata": {},
     "output_type": "execute_result"
    },
    {
     "data": {
      "text/plain": [
       "'success: content added from https://www.state.gov/world-food-day/'"
      ]
     },
     "execution_count": 19,
     "metadata": {},
     "output_type": "execute_result"
    },
    {
     "data": {
      "text/plain": [
       "'success: content added from https://www.state.gov/725-million-in-additional-u-s-military-assistance-for-ukraine/'"
      ]
     },
     "execution_count": 19,
     "metadata": {},
     "output_type": "execute_result"
    },
    {
     "data": {
      "text/plain": [
       "'success: content added from https://www.state.gov/intensifying-military-operations-in-northern-ethiopia/'"
      ]
     },
     "execution_count": 19,
     "metadata": {},
     "output_type": "execute_result"
    },
    {
     "data": {
      "text/plain": [
       "'success: content added from https://www.state.gov/secretary-antony-j-blinken-before-meeting-with-civil-society-activists-on-womens-rights-and-human-rights-in-iran/'"
      ]
     },
     "execution_count": 19,
     "metadata": {},
     "output_type": "execute_result"
    },
    {
     "data": {
      "text/plain": [
       "'success: content added from https://www.state.gov/secretary-antony-j-blinken-at-a-signing-ceremony-for-a-new-memorandum-of-understanding-mou-with-the-hispanic-association-of-colleges-and-universities-hacu/'"
      ]
     },
     "execution_count": 19,
     "metadata": {},
     "output_type": "execute_result"
    },
    {
     "data": {
      "text/plain": [
       "'success: content added from https://www.state.gov/remarks-at-a-joint-press-availability/'"
      ]
     },
     "execution_count": 19,
     "metadata": {},
     "output_type": "execute_result"
    },
    {
     "data": {
      "text/plain": [
       "'success: content added from https://www.state.gov/remarks-at-the-u-s-mexico-high-level-security-dialogue/'"
      ]
     },
     "execution_count": 19,
     "metadata": {},
     "output_type": "execute_result"
    },
    {
     "data": {
      "text/plain": [
       "'success: content added from https://www.state.gov/the-united-states-announces-60-million-in-rapid-assistance-to-support-vulnerable-tunisian-families/'"
      ]
     },
     "execution_count": 19,
     "metadata": {},
     "output_type": "execute_result"
    },
    {
     "data": {
      "text/plain": [
       "'success: content added from https://www.state.gov/un-general-assembly-resolution-condemning-russias-attempted-annexation-of-ukraines-territory/'"
      ]
     },
     "execution_count": 19,
     "metadata": {},
     "output_type": "execute_result"
    },
    {
     "data": {
      "text/plain": [
       "'success: content added from https://www.state.gov/release-of-the-presidents-national-security-strategy/'"
      ]
     },
     "execution_count": 19,
     "metadata": {},
     "output_type": "execute_result"
    },
    {
     "data": {
      "text/plain": [
       "'success: content added from https://www.state.gov/steps-to-address-the-humanitarian-and-security-situation-in-haiti/'"
      ]
     },
     "execution_count": 19,
     "metadata": {},
     "output_type": "execute_result"
    },
    {
     "data": {
      "text/plain": [
       "'success: content added from https://www.state.gov/equatorial-guinea-national-day-2/'"
      ]
     },
     "execution_count": 19,
     "metadata": {},
     "output_type": "execute_result"
    },
    {
     "data": {
      "text/plain": [
       "'success: content added from https://www.state.gov/spain-national-day-2/'"
      ]
     },
     "execution_count": 19,
     "metadata": {},
     "output_type": "execute_result"
    },
    {
     "data": {
      "text/plain": [
       "'success: content added from https://www.state.gov/historic-breakthrough-on-the-israel-lebanon-maritime-boundary/'"
      ]
     },
     "execution_count": 19,
     "metadata": {},
     "output_type": "execute_result"
    },
    {
     "data": {
      "text/plain": [
       "'success: content added from https://www.state.gov/secretary-antony-j-blinken-and-norwegian-foreign-minister-anniken-huitfeldt-before-their-meeting-2/'"
      ]
     },
     "execution_count": 19,
     "metadata": {},
     "output_type": "execute_result"
    },
    {
     "data": {
      "text/plain": [
       "'success: content added from https://www.state.gov/announcement-of-visa-restrictions-in-response-to-the-repression-of-women-and-girls-in-afghanistan/'"
      ]
     },
     "execution_count": 19,
     "metadata": {},
     "output_type": "execute_result"
    },
    {
     "data": {
      "text/plain": [
       "'success: content added from https://www.state.gov/observance-of-the-international-day-of-the-girl-child-on-its-10th-anniversary/'"
      ]
     },
     "execution_count": 19,
     "metadata": {},
     "output_type": "execute_result"
    },
    {
     "data": {
      "text/plain": [
       "'success: content added from https://www.state.gov/u-s-support-for-ukraine-in-the-face-of-russian-strikes/'"
      ]
     },
     "execution_count": 19,
     "metadata": {},
     "output_type": "execute_result"
    },
    {
     "data": {
      "text/plain": [
       "'success: content added from https://www.state.gov/curacao-national-day/'"
      ]
     },
     "execution_count": 19,
     "metadata": {},
     "output_type": "execute_result"
    },
    {
     "data": {
      "text/plain": [
       "'success: content added from https://www.state.gov/ugandan-national-day/'"
      ]
     },
     "execution_count": 19,
     "metadata": {},
     "output_type": "execute_result"
    },
    {
     "data": {
      "text/plain": [
       "'success: content added from https://www.state.gov/secretary-antony-j-blinken-remarks-to-the-press-15/'"
      ]
     },
     "execution_count": 19,
     "metadata": {},
     "output_type": "execute_result"
    },
    {
     "data": {
      "text/plain": [
       "'success: content added from https://www.state.gov/fiji-national-day-2/'"
      ]
     },
     "execution_count": 19,
     "metadata": {},
     "output_type": "execute_result"
    },
    {
     "data": {
      "text/plain": [
       "'success: content added from https://www.state.gov/designating-dprk-related-sanctions-evaders/'"
      ]
     },
     "execution_count": 19,
     "metadata": {},
     "output_type": "execute_result"
    },
    {
     "data": {
      "text/plain": [
       "'success: content added from https://www.state.gov/secretary-antony-j-blinken-and-peruvian-foreign-minister-cesar-landa-at-a-joint-press-availability/'"
      ]
     },
     "execution_count": 19,
     "metadata": {},
     "output_type": "execute_result"
    },
    {
     "data": {
      "text/plain": [
       "'success: content added from https://www.state.gov/secretary-antony-j-blinken-before-the-meeting-with-cuban-venezuelan-and-nicaraguan-human-rights-defenders/'"
      ]
     },
     "execution_count": 19,
     "metadata": {},
     "output_type": "execute_result"
    },
    {
     "data": {
      "text/plain": [
       "'success: content added from https://www.state.gov/remarks-before-the-canada-hosted-meeting-on-haiti/'"
      ]
     },
     "execution_count": 19,
     "metadata": {},
     "output_type": "execute_result"
    },
    {
     "data": {
      "text/plain": [
       "'success: content added from https://www.state.gov/mass-shooting-in-thailand/'"
      ]
     },
     "execution_count": 19,
     "metadata": {},
     "output_type": "execute_result"
    },
    {
     "data": {
      "text/plain": [
       "'success: content added from https://www.state.gov/designations-of-burmese-targets-to-promote-justice-and-accountability/'"
      ]
     },
     "execution_count": 19,
     "metadata": {},
     "output_type": "execute_result"
    },
    {
     "data": {
      "text/plain": [
       "'success: content added from https://www.state.gov/secretary-antony-j-blinken-at-oas-general-assembly-first-plenary-session/'"
      ]
     },
     "execution_count": 19,
     "metadata": {},
     "output_type": "execute_result"
    },
    {
     "data": {
      "text/plain": [
       "'success: content added from https://www.state.gov/secretary-antony-j-blinken-and-peruvian-foreign-minister-cesar-landa-at-the-migration-ministerial-opening-session/'"
      ]
     },
     "execution_count": 19,
     "metadata": {},
     "output_type": "execute_result"
    },
    {
     "data": {
      "text/plain": [
       "'success: content added from https://www.state.gov/sanctioning-iranian-leaders-responsible-for-human-rights-abuses-or-censorship/'"
      ]
     },
     "execution_count": 19,
     "metadata": {},
     "output_type": "execute_result"
    },
    {
     "data": {
      "text/plain": [
       "'success: content added from https://www.state.gov/secretary-antony-j-blinken-and-organization-of-the-american-states-secretary-general-luis-almagro-at-the-ministerial-meeting-of-the-summit-implementation-review-group-sirg/'"
      ]
     },
     "execution_count": 19,
     "metadata": {},
     "output_type": "execute_result"
    },
    {
     "data": {
      "text/plain": [
       "'success: content added from https://www.state.gov/on-baquer-namazis-departure-from-iran/'"
      ]
     },
     "execution_count": 19,
     "metadata": {},
     "output_type": "execute_result"
    },
    {
     "data": {
      "text/plain": [
       "'success: content added from https://www.state.gov/secretary-antony-j-blinken-at-a-tour-of-the-coordinador-electrico-nacional/'"
      ]
     },
     "execution_count": 19,
     "metadata": {},
     "output_type": "execute_result"
    },
    {
     "data": {
      "text/plain": [
       "'success: content added from https://www.state.gov/secretary-antony-j-blinken-and-chilean-foreign-minister-antonia-urrejola-at-a-joint-press-availability'"
      ]
     },
     "execution_count": 19,
     "metadata": {},
     "output_type": "execute_result"
    },
    {
     "data": {
      "text/plain": [
       "'success: content added from https://www.state.gov/celebrating-hispanic-heritage-month/'"
      ]
     },
     "execution_count": 19,
     "metadata": {},
     "output_type": "execute_result"
    },
    {
     "data": {
      "text/plain": [
       "'success: content added from https://www.state.gov/secretary-antony-j-blinken-at-a-migrant-integration-center/'"
      ]
     },
     "execution_count": 19,
     "metadata": {},
     "output_type": "execute_result"
    },
    {
     "data": {
      "text/plain": [
       "'success: content added from https://www.state.gov/lesotho-national-day-2/'"
      ]
     },
     "execution_count": 19,
     "metadata": {},
     "output_type": "execute_result"
    },
    {
     "data": {
      "text/plain": [
       "'success: content added from https://www.state.gov/625-million-in-additional-u-s-military-assistance-for-ukraine/'"
      ]
     },
     "execution_count": 19,
     "metadata": {},
     "output_type": "execute_result"
    },
    {
     "data": {
      "text/plain": [
       "'success: content added from https://www.state.gov/secretary-antony-j-blinken-and-colombian-president-gustavo-petro-at-a-joint-press-availability/'"
      ]
     },
     "execution_count": 19,
     "metadata": {},
     "output_type": "execute_result"
    },
    {
     "data": {
      "text/plain": [
       "'success: content added from https://www.state.gov/secretary-antony-j-blinken-and-colombian-vice-president-francia-marquez-at-a-signing-ceremony-to-support-the-comprehensive-implementation-of-the-ethnic-chapter-of-the-2016-peace-accord/'"
      ]
     },
     "execution_count": 19,
     "metadata": {},
     "output_type": "execute_result"
    },
    {
     "data": {
      "text/plain": [
       "'success: content added from https://www.state.gov/iraq-national-day/'"
      ]
     },
     "execution_count": 19,
     "metadata": {},
     "output_type": "execute_result"
    },
    {
     "data": {
      "text/plain": [
       "'success: content added from https://www.state.gov/designation-of-two-individuals-and-one-entity-in-bosnia-and-herzegovina/'"
      ]
     },
     "execution_count": 19,
     "metadata": {},
     "output_type": "execute_result"
    },
    {
     "data": {
      "text/plain": [
       "'success: content added from https://www.state.gov/amy-popes-nomination-for-director-general-of-the-international-organization-for-migration/'"
      ]
     },
     "execution_count": 19,
     "metadata": {},
     "output_type": "execute_result"
    },
    {
     "data": {
      "text/plain": [
       "'success: content added from https://www.state.gov/naming-ambassador-nina-hachigian-as-special-representative-for-subnational-diplomacy/'"
      ]
     },
     "execution_count": 19,
     "metadata": {},
     "output_type": "execute_result"
    },
    {
     "data": {
      "text/plain": [
       "'success: content added from https://www.state.gov/day-of-german-unity-2/'"
      ]
     },
     "execution_count": 19,
     "metadata": {},
     "output_type": "execute_result"
    },
    {
     "data": {
      "text/plain": [
       "'success: content added from https://www.state.gov/guinea-national-day-2/'"
      ]
     },
     "execution_count": 19,
     "metadata": {},
     "output_type": "execute_result"
    },
    {
     "data": {
      "text/plain": [
       "'success: content added from https://www.state.gov/the-release-of-u-s-nationals-from-venezuela/'"
      ]
     },
     "execution_count": 19,
     "metadata": {},
     "output_type": "execute_result"
    },
    {
     "data": {
      "text/plain": [
       "'success: content added from https://www.state.gov/nigerias-national-day/'"
      ]
     },
     "execution_count": 19,
     "metadata": {},
     "output_type": "execute_result"
    },
    {
     "data": {
      "text/plain": [
       "'success: content added from https://www.state.gov/republic-of-cyprus-independence-day/'"
      ]
     },
     "execution_count": 19,
     "metadata": {},
     "output_type": "execute_result"
    },
    {
     "data": {
      "text/plain": [
       "'success: content added from https://www.state.gov/palau-national-day-2/'"
      ]
     },
     "execution_count": 19,
     "metadata": {},
     "output_type": "execute_result"
    },
    {
     "data": {
      "text/plain": [
       "'success: content added from https://www.state.gov/tuvalu-national-day-2/'"
      ]
     },
     "execution_count": 19,
     "metadata": {},
     "output_type": "execute_result"
    },
    {
     "data": {
      "text/plain": [
       "'success: content added from https://www.state.gov/the-peoples-republic-of-china-national-day-2/'"
      ]
     },
     "execution_count": 19,
     "metadata": {},
     "output_type": "execute_result"
    },
    {
     "data": {
      "text/plain": [
       "'success: content added from https://www.state.gov/secretary-antony-j-blinken-and-canadian-foreign-minister-melanie-joly-at-a-joint-press-availability/'"
      ]
     },
     "execution_count": 19,
     "metadata": {},
     "output_type": "execute_result"
    },
    {
     "data": {
      "text/plain": [
       "'success: content added from https://www.state.gov/on-national-disability-employment-awareness-month/'"
      ]
     },
     "execution_count": 19,
     "metadata": {},
     "output_type": "execute_result"
    },
    {
     "data": {
      "text/plain": [
       "'success: content added from https://www.state.gov/imposing-swift-and-severe-costs-in-response-to-russias-violations-of-ukraines-sovereignty/'"
      ]
     },
     "execution_count": 19,
     "metadata": {},
     "output_type": "execute_result"
    },
    {
     "data": {
      "text/plain": [
       "'success: content added from https://www.state.gov/botswana-national-day-2/'"
      ]
     },
     "execution_count": 19,
     "metadata": {},
     "output_type": "execute_result"
    },
    {
     "data": {
      "text/plain": [
       "'success: content added from https://www.state.gov/secretary-antony-j-blinken-and-president-of-the-republic-of-the-marshall-islands-david-kabua-president-of-the-federated-states-of-micronesia-david-panuelo-and-president-of-palau-surangel-whipps-jr/'"
      ]
     },
     "execution_count": 19,
     "metadata": {},
     "output_type": "execute_result"
    },
    {
     "data": {
      "text/plain": [
       "'success: content added from https://www.state.gov/russias-sham-referenda-in-ukraine/'"
      ]
     },
     "execution_count": 19,
     "metadata": {},
     "output_type": "execute_result"
    },
    {
     "data": {
      "text/plain": [
       "'success: content added from https://www.state.gov/designating-iran-petroleum-and-petrochemical-sanctions-evaders/'"
      ]
     },
     "execution_count": 19,
     "metadata": {},
     "output_type": "execute_result"
    },
    {
     "data": {
      "text/plain": [
       "'success: content added from https://www.state.gov/the-election-of-doreen-bogdan-martin-as-secretary-general-of-the-international-telecommunication-union/'"
      ]
     },
     "execution_count": 19,
     "metadata": {},
     "output_type": "execute_result"
    },
    {
     "data": {
      "text/plain": [
       "'success: content added from https://www.state.gov/secretary-antony-j-blinken-at-the-u-s-pacific-island-country-leaders-working-lunch-on-people-centered-development-in-the-pacific/'"
      ]
     },
     "execution_count": 19,
     "metadata": {},
     "output_type": "execute_result"
    },
    {
     "data": {
      "text/plain": [
       "'success: content added from https://www.state.gov/secretary-antony-j-blinken-at-the-millennium-challenge-corporation-mou-signing-with-malawian-president-lazarus-chakwera-malawian-finance-and-economic-affairs-minister-sosten-gwengwe-and-mcc-ceo-ali/'"
      ]
     },
     "execution_count": 19,
     "metadata": {},
     "output_type": "execute_result"
    },
    {
     "data": {
      "text/plain": [
       "'success: content added from https://www.state.gov/the-presidential-determination-on-refugee-admissions-for-fiscal-year-2023/'"
      ]
     },
     "execution_count": 19,
     "metadata": {},
     "output_type": "execute_result"
    },
    {
     "data": {
      "text/plain": [
       "'success: content added from https://www.state.gov/secretary-antony-j-blinken-and-tajikistan-foreign-minister-sirojiddin-muhriddin-before-their-meeting-2/'"
      ]
     },
     "execution_count": 19,
     "metadata": {},
     "output_type": "execute_result"
    },
    {
     "data": {
      "text/plain": [
       "'success: content added from https://www.state.gov/secretary-antony-j-blinken-and-indian-external-affairs-minister-dr-subrahmanyam-jaishankar-at-a-joint-press-availability-2/'"
      ]
     },
     "execution_count": 19,
     "metadata": {},
     "output_type": "execute_result"
    },
    {
     "data": {
      "text/plain": [
       "'success: content added from https://www.state.gov/opening-of-the-trial-of-former-seleka-commander-for-atrocity-crimes-in-the-central-african-republic/'"
      ]
     },
     "execution_count": 19,
     "metadata": {},
     "output_type": "execute_result"
    },
    {
     "data": {
      "text/plain": [
       "'success: content added from https://www.state.gov/secretary-antony-j-blinken-with-pakistani-foreign-minister-bilawal-bhutto-zardari-to-commemorate-the-75th-anniversary-of-u-s-pakistan-relations/'"
      ]
     },
     "execution_count": 19,
     "metadata": {},
     "output_type": "execute_result"
    },
    {
     "data": {
      "text/plain": [
       "'success: content added from https://www.state.gov/secretary-antony-j-blinken-and-pakistani-foreign-minister-bilawal-bhutto-zardari-before-their-meeting/'"
      ]
     },
     "execution_count": 19,
     "metadata": {},
     "output_type": "execute_result"
    },
    {
     "data": {
      "text/plain": [
       "'success: content added from https://www.state.gov/turkmenistan-national-day-2/'"
      ]
     },
     "execution_count": 19,
     "metadata": {},
     "output_type": "execute_result"
    },
    {
     "data": {
      "text/plain": [
       "'success: content added from https://www.state.gov/secretary-antony-j-blinken-and-belizean-prime-minister-john-briceno-before-their-meeting/'"
      ]
     },
     "execution_count": 19,
     "metadata": {},
     "output_type": "execute_result"
    },
    {
     "data": {
      "text/plain": [
       "'success: content added from https://www.state.gov/457-5-million-in-new-u-s-civilian-security-assistance-for-ukraine/'"
      ]
     },
     "execution_count": 19,
     "metadata": {},
     "output_type": "execute_result"
    },
    {
     "data": {
      "text/plain": [
       "'success: content added from https://www.state.gov/secretary-antony-j-blinken-interview-with-60-minutes-on-cbs-with-scott-pelley/'"
      ]
     },
     "execution_count": 19,
     "metadata": {},
     "output_type": "execute_result"
    },
    {
     "data": {
      "text/plain": [
       "'success: content added from https://www.state.gov/guinea-bissau-national-day-2/'"
      ]
     },
     "execution_count": 19,
     "metadata": {},
     "output_type": "execute_result"
    },
    {
     "data": {
      "text/plain": [
       "'success: content added from https://www.state.gov/secretary-antony-j-blinken-with-australian-foreign-minister-penny-wong-indian-external-affairs-minister-dr-subrahmanyam-jaishankar-and-japanese-foreign-minister-hayashi-yoshimasa-before-their-meet/'"
      ]
     },
     "execution_count": 19,
     "metadata": {},
     "output_type": "execute_result"
    },
    {
     "data": {
      "text/plain": [
       "'success: content added from https://www.state.gov/united-states-announces-humanitarian-assistance-for-afghanistan/'"
      ]
     },
     "execution_count": 19,
     "metadata": {},
     "output_type": "execute_result"
    },
    {
     "data": {
      "text/plain": [
       "'success: content added from https://www.state.gov/secretary-blinken-with-foreign-ministers-of-the-gulf-cooperation-council-nations-egypt-iraq-jordan-and-yemen/'"
      ]
     },
     "execution_count": 19,
     "metadata": {},
     "output_type": "execute_result"
    },
    {
     "data": {
      "text/plain": [
       "'success: content added from https://www.state.gov/advancing-the-free-flow-of-information-for-the-iranian-people/'"
      ]
     },
     "execution_count": 19,
     "metadata": {},
     "output_type": "execute_result"
    },
    {
     "data": {
      "text/plain": [
       "'success: content added from https://www.state.gov/saudi-arabias-national-day/'"
      ]
     },
     "execution_count": 19,
     "metadata": {},
     "output_type": "execute_result"
    },
    {
     "data": {
      "text/plain": [
       "'success: content added from https://www.state.gov/secretary-antony-j-blinken-at-the-ministerial-meeting-of-the-partners-in-the-blue-pacific/'"
      ]
     },
     "execution_count": 19,
     "metadata": {},
     "output_type": "execute_result"
    },
    {
     "data": {
      "text/plain": [
       "'success: content added from https://www.state.gov/secretary-antony-j-blinken-at-the-ministerial-meeting-of-the-minerals-security-partnership/'"
      ]
     },
     "execution_count": 19,
     "metadata": {},
     "output_type": "execute_result"
    },
    {
     "data": {
      "text/plain": [
       "'success: content added from https://www.state.gov/secretary-antony-j-blinken-and-japanese-foreign-minister-yoshimasa-hayashi-and-republic-of-korea-foreign-minister-park-jin-before-their-meeting/'"
      ]
     },
     "execution_count": 19,
     "metadata": {},
     "output_type": "execute_result"
    },
    {
     "data": {
      "text/plain": [
       "'success: content added from https://www.state.gov/united-states-announces-more-than-170-million-in-humanitarian-assistance-for-the-rakhine-state-rohingya-refugee-crisis/'"
      ]
     },
     "execution_count": 19,
     "metadata": {},
     "output_type": "execute_result"
    },
    {
     "data": {
      "text/plain": [
       "'success: content added from https://www.state.gov/secretary-antony-j-blinken-at-the-united-nations-security-council-ministerial-meeting-on-ukrainian-sovereignty-and-russian-accountability/'"
      ]
     },
     "execution_count": 19,
     "metadata": {},
     "output_type": "execute_result"
    },
    {
     "data": {
      "text/plain": [
       "'success: content added from https://www.state.gov/humanitarian-assistance-to-respond-to-the-venezuela-regional-crisis/'"
      ]
     },
     "execution_count": 19,
     "metadata": {},
     "output_type": "execute_result"
    },
    {
     "data": {
      "text/plain": [
       "'success: content added from https://www.state.gov/designating-irans-morality-police-and-seven-officials-for-human-rights-abuses-in-iran/'"
      ]
     },
     "execution_count": 19,
     "metadata": {},
     "output_type": "execute_result"
    },
    {
     "data": {
      "text/plain": [
       "'success: content added from https://www.state.gov/mali-national-day-2/'"
      ]
     },
     "execution_count": 19,
     "metadata": {},
     "output_type": "execute_result"
    },
    {
     "data": {
      "text/plain": [
       "'success: content added from https://www.state.gov/the-kremlins-troop-mobilization/'"
      ]
     },
     "execution_count": 19,
     "metadata": {},
     "output_type": "execute_result"
    },
    {
     "data": {
      "text/plain": [
       "'success: content added from https://www.state.gov/welcoming-prisoner-exchanges-in-ukraine/'"
      ]
     },
     "execution_count": 19,
     "metadata": {},
     "output_type": "execute_result"
    },
    {
     "data": {
      "text/plain": [
       "'success: content added from https://www.state.gov/humanitarian-assistance-for-mexico-and-central-america/'"
      ]
     },
     "execution_count": 19,
     "metadata": {},
     "output_type": "execute_result"
    },
    {
     "data": {
      "text/plain": [
       "'success: content added from https://www.state.gov/belize-independence-day-2/'"
      ]
     },
     "execution_count": 19,
     "metadata": {},
     "output_type": "execute_result"
    },
    {
     "data": {
      "text/plain": [
       "'success: content added from https://www.state.gov/malta-national-day-2/'"
      ]
     },
     "execution_count": 19,
     "metadata": {},
     "output_type": "execute_result"
    },
    {
     "data": {
      "text/plain": [
       "'success: content added from https://www.state.gov/armenian-independence-day-2/'"
      ]
     },
     "execution_count": 19,
     "metadata": {},
     "output_type": "execute_result"
    },
    {
     "data": {
      "text/plain": [
       "'success: content added from https://www.state.gov/secretary-antony-j-blinken-and-lebanese-caretaker-prime-minister-najib-mikati-before-their-meeting/'"
      ]
     },
     "execution_count": 19,
     "metadata": {},
     "output_type": "execute_result"
    },
    {
     "data": {
      "text/plain": [
       "'success: content added from https://www.state.gov/secretary-antony-j-blinken-at-the-global-food-security-summit/'"
      ]
     },
     "execution_count": 19,
     "metadata": {},
     "output_type": "execute_result"
    },
    {
     "data": {
      "text/plain": [
       "'success: content added from https://www.state.gov/secretary-antony-j-blinken-at-the-usaid-democracy-delivers-event/'"
      ]
     },
     "execution_count": 19,
     "metadata": {},
     "output_type": "execute_result"
    },
    {
     "data": {
      "text/plain": [
       "'success: content added from https://www.state.gov/secretary-antony-j-blinken-at-the-ministerial-meeting-of-the-alliance-for-development-in-democracy/'"
      ]
     },
     "execution_count": 19,
     "metadata": {},
     "output_type": "execute_result"
    },
    {
     "data": {
      "text/plain": [
       "'success: content added from https://www.state.gov/secretary-blinken-at-the-launch-of-the-alliance-for-afghan-womens-economic-resilience/'"
      ]
     },
     "execution_count": 19,
     "metadata": {},
     "output_type": "execute_result"
    },
    {
     "data": {
      "text/plain": [
       "'success: content added from https://www.state.gov/secretary-antony-j-blinken-and-turkish-foreign-minister-mevlut-cavusoglu-before-their-meeting-4/'"
      ]
     },
     "execution_count": 19,
     "metadata": {},
     "output_type": "execute_result"
    },
    {
     "data": {
      "text/plain": [
       "'success: content added from https://www.state.gov/secretary-blinken-and-egyptian-foreign-minister-sameh-shoukry-before-their-meeting/'"
      ]
     },
     "execution_count": 19,
     "metadata": {},
     "output_type": "execute_result"
    },
    {
     "data": {
      "text/plain": [
       "'success: content added from https://www.state.gov/secretary-blinken-with-armenian-foreign-minister-ararat-mirzoyan-and-azerbaijani-foreign-minister-jeyhun-bayramov-before-their-meeting/'"
      ]
     },
     "execution_count": 19,
     "metadata": {},
     "output_type": "execute_result"
    },
    {
     "data": {
      "text/plain": [
       "'success: content added from https://www.state.gov/secretary-antony-j-blinken-and-nigerien-president-mohamed-bazoum-before-their-meeting/'"
      ]
     },
     "execution_count": 19,
     "metadata": {},
     "output_type": "execute_result"
    },
    {
     "data": {
      "text/plain": [
       "'success: content added from https://www.state.gov/secretary-antony-j-blinken-at-the-united-nations-lgbti-core-group-event/'"
      ]
     },
     "execution_count": 19,
     "metadata": {},
     "output_type": "execute_result"
    },
    {
     "data": {
      "text/plain": [
       "'success: content added from https://www.state.gov/secretary-antony-j-blinken-at-a-freedom-of-expression-roundtable/'"
      ]
     },
     "execution_count": 19,
     "metadata": {},
     "output_type": "execute_result"
    },
    {
     "data": {
      "text/plain": [
       "'success: content added from https://www.state.gov/secretary-antony-j-blinken-and-yemeni-chairman-of-the-presidential-leadership-council-rashad-al-alimi-before-their-meeting/'"
      ]
     },
     "execution_count": 19,
     "metadata": {},
     "output_type": "execute_result"
    },
    {
     "data": {
      "text/plain": [
       "'success: content added from https://www.state.gov/saint-kitts-and-nevis-national-day/'"
      ]
     },
     "execution_count": 19,
     "metadata": {},
     "output_type": "execute_result"
    },
    {
     "data": {
      "text/plain": [
       "'success: content added from https://www.state.gov/welcoming-the-release-of-mark-frerichs/'"
      ]
     },
     "execution_count": 19,
     "metadata": {},
     "output_type": "execute_result"
    },
    {
     "data": {
      "text/plain": [
       "'success: content added from https://www.state.gov/nepali-constitution-day-2/'"
      ]
     },
     "execution_count": 19,
     "metadata": {},
     "output_type": "execute_result"
    },
    {
     "data": {
      "text/plain": [
       "'success: content added from https://www.state.gov/chile-national-day/'"
      ]
     },
     "execution_count": 19,
     "metadata": {},
     "output_type": "execute_result"
    },
    {
     "data": {
      "text/plain": [
       "'success: content added from https://www.state.gov/secretary-antony-j-blinken-and-jordanian-foreign-minister-ayman-safadi-at-a-joint-press-availability/'"
      ]
     },
     "execution_count": 19,
     "metadata": {},
     "output_type": "execute_result"
    },
    {
     "data": {
      "text/plain": [
       "'success: content added from https://www.state.gov/mexican-national-day-2/'"
      ]
     },
     "execution_count": 19,
     "metadata": {},
     "output_type": "execute_result"
    },
    {
     "data": {
      "text/plain": [
       "'success: content added from https://www.state.gov/600-million-in-additional-u-s-military-assistance-for-ukraine/'"
      ]
     },
     "execution_count": 19,
     "metadata": {},
     "output_type": "execute_result"
    },
    {
     "data": {
      "text/plain": [
       "'success: content added from https://www.state.gov/secretary-antony-j-blinken-and-portuguese-foreign-minister-joao-gomes-cravinho-before-their-meeting/'"
      ]
     },
     "execution_count": 19,
     "metadata": {},
     "output_type": "execute_result"
    },
    {
     "data": {
      "text/plain": [
       "'success: content added from https://www.state.gov/secretary-antony-j-blinken-and-south-african-foreign-minister-naledi-pandor-before-their-meeting/'"
      ]
     },
     "execution_count": 19,
     "metadata": {},
     "output_type": "execute_result"
    },
    {
     "data": {
      "text/plain": [
       "'success: content added from https://www.state.gov/second-anniversary-of-the-signing-of-the-abraham-accords/'"
      ]
     },
     "execution_count": 19,
     "metadata": {},
     "output_type": "execute_result"
    },
    {
     "data": {
      "text/plain": [
       "'success: content added from https://www.state.gov/secretary-antony-j-blinken-and-nato-secretary-general-jens-stoltenberg-at-a-joint-press-availability/'"
      ]
     },
     "execution_count": 19,
     "metadata": {},
     "output_type": "execute_result"
    },
    {
     "data": {
      "text/plain": [
       "'success: content added from https://www.state.gov/angola-presidential-elections/'"
      ]
     },
     "execution_count": 19,
     "metadata": {},
     "output_type": "execute_result"
    },
    {
     "data": {
      "text/plain": [
       "'success: content added from https://www.state.gov/sanctioning-irans-ministry-of-intelligence-and-security-for-malign-cyber-activities/'"
      ]
     },
     "execution_count": 19,
     "metadata": {},
     "output_type": "execute_result"
    },
    {
     "data": {
      "text/plain": [
       "'success: content added from https://www.state.gov/remarks-to-traveling-press-before-departing-poland/'"
      ]
     },
     "execution_count": 19,
     "metadata": {},
     "output_type": "execute_result"
    },
    {
     "data": {
      "text/plain": [
       "'success: content added from https://www.state.gov/designating-iranian-proliferators-of-shipping-unmanned-aerial-vehicle-technology-to-russia-for-use-in-ukraine/'"
      ]
     },
     "execution_count": 19,
     "metadata": {},
     "output_type": "execute_result"
    },
    {
     "data": {
      "text/plain": [
       "'success: content added from https://www.state.gov/message-to-the-people-of-the-united-kingdom-and-to-the-peoples-of-the-commonwealth/'"
      ]
     },
     "execution_count": 19,
     "metadata": {},
     "output_type": "execute_result"
    },
    {
     "data": {
      "text/plain": [
       "'success: content added from https://www.state.gov/tajikistan-independence-day-2/'"
      ]
     },
     "execution_count": 19,
     "metadata": {},
     "output_type": "execute_result"
    },
    {
     "data": {
      "text/plain": [
       "'success: content added from https://www.state.gov/secretary-antony-j-blinken-before-meeting-with-ukrainian-president-volodymyr-zelenskyy/'"
      ]
     },
     "execution_count": 19,
     "metadata": {},
     "output_type": "execute_result"
    },
    {
     "data": {
      "text/plain": [
       "'success: content added from https://www.state.gov/secretary-antony-j-blinken-remarks-to-the-traveling-press/'"
      ]
     },
     "execution_count": 19,
     "metadata": {},
     "output_type": "execute_result"
    },
    {
     "data": {
      "text/plain": [
       "'success: content added from https://www.state.gov/republic-of-korea-chuseok-holiday/'"
      ]
     },
     "execution_count": 19,
     "metadata": {},
     "output_type": "execute_result"
    },
    {
     "data": {
      "text/plain": [
       "'success: content added from https://www.state.gov/2-8-billion-in-additional-u-s-military-assistance-for-ukraine-and-its-neighbors/'"
      ]
     },
     "execution_count": 19,
     "metadata": {},
     "output_type": "execute_result"
    },
    {
     "data": {
      "text/plain": [
       "'success: content added from https://www.state.gov/north-macedonia-national-day-2/'"
      ]
     },
     "execution_count": 19,
     "metadata": {},
     "output_type": "execute_result"
    },
    {
     "data": {
      "text/plain": [
       "'success: content added from https://www.state.gov/andorras-national-day-2/'"
      ]
     },
     "execution_count": 19,
     "metadata": {},
     "output_type": "execute_result"
    },
    {
     "data": {
      "text/plain": [
       "'success: content added from https://www.state.gov/brazil-national-day/'"
      ]
     },
     "execution_count": 19,
     "metadata": {},
     "output_type": "execute_result"
    },
    {
     "data": {
      "text/plain": [
       "'success: content added from https://www.state.gov/eswatini-national-day/'"
      ]
     },
     "execution_count": 19,
     "metadata": {},
     "output_type": "execute_result"
    },
    {
     "data": {
      "text/plain": [
       "'success: content added from https://www.state.gov/supreme-court-ruling-on-elections-in-kenya/'"
      ]
     },
     "execution_count": 19,
     "metadata": {},
     "output_type": "execute_result"
    },
    {
     "data": {
      "text/plain": [
       "'success: content added from https://www.state.gov/the-appointment-of-mr-abdoulaye-bathily-as-special-representative-of-the-un-secretary-general-for-libya/'"
      ]
     },
     "execution_count": 19,
     "metadata": {},
     "output_type": "execute_result"
    },
    {
     "data": {
      "text/plain": [
       "'success: content added from https://www.state.gov/san-marino-national-day-2/'"
      ]
     },
     "execution_count": 19,
     "metadata": {},
     "output_type": "execute_result"
    },
    {
     "data": {
      "text/plain": [
       "'success: content added from https://www.state.gov/un-office-of-the-high-commissioner-for-human-rights-report-on-the-human-rights-situation-in-xinjiang/'"
      ]
     },
     "execution_count": 19,
     "metadata": {},
     "output_type": "execute_result"
    },
    {
     "data": {
      "text/plain": [
       "'success: content added from https://www.state.gov/vietnam-national-day-2/'"
      ]
     },
     "execution_count": 19,
     "metadata": {},
     "output_type": "execute_result"
    },
    {
     "data": {
      "text/plain": [
       "'success: content added from https://www.state.gov/slovakias-national-day/'"
      ]
     },
     "execution_count": 19,
     "metadata": {},
     "output_type": "execute_result"
    },
    {
     "data": {
      "text/plain": [
       "'success: content added from https://www.state.gov/uzbekistan-independence-day-2/'"
      ]
     },
     "execution_count": 19,
     "metadata": {},
     "output_type": "execute_result"
    },
    {
     "data": {
      "text/plain": [
       "'success: content added from https://www.state.gov/statement-on-the-passing-of-president-mikhail-gorbachev/'"
      ]
     },
     "execution_count": 19,
     "metadata": {},
     "output_type": "execute_result"
    },
    {
     "data": {
      "text/plain": [
       "'success: content added from https://www.state.gov/trinidad-and-tobago-national-day/'"
      ]
     },
     "execution_count": 19,
     "metadata": {},
     "output_type": "execute_result"
    },
    {
     "data": {
      "text/plain": [
       "'success: content added from https://www.state.gov/kyrgyz-republic-independence-day/'"
      ]
     },
     "execution_count": 19,
     "metadata": {},
     "output_type": "execute_result"
    },
    {
     "data": {
      "text/plain": [
       "'success: content added from https://www.state.gov/arrival-of-wheat-carrying-brave-commander-to-east-africa-from-ukraine/'"
      ]
     },
     "execution_count": 19,
     "metadata": {},
     "output_type": "execute_result"
    },
    {
     "data": {
      "text/plain": [
       "'success: content added from https://www.state.gov/malaysia-national-day-2/'"
      ]
     },
     "execution_count": 19,
     "metadata": {},
     "output_type": "execute_result"
    },
    {
     "data": {
      "text/plain": [
       "'success: content added from https://www.state.gov/international-day-of-the-victims-of-enforced-disappearances-2/'"
      ]
     },
     "execution_count": 19,
     "metadata": {},
     "output_type": "execute_result"
    },
    {
     "data": {
      "text/plain": [
       "'success: content added from https://www.state.gov/moldovas-independence-day/'"
      ]
     },
     "execution_count": 19,
     "metadata": {},
     "output_type": "execute_result"
    },
    {
     "data": {
      "text/plain": [
       "'success: content added from https://www.state.gov/remembering-the-loss-of-13-american-heroes/'"
      ]
     },
     "execution_count": 19,
     "metadata": {},
     "output_type": "execute_result"
    },
    {
     "data": {
      "text/plain": [
       "'success: content added from https://www.state.gov/uruguay-national-day/'"
      ]
     },
     "execution_count": 19,
     "metadata": {},
     "output_type": "execute_result"
    },
    {
     "data": {
      "text/plain": [
       "'success: content added from https://www.state.gov/marking-five-years-since-the-genocide-in-burma/'"
      ]
     },
     "execution_count": 19,
     "metadata": {},
     "output_type": "execute_result"
    },
    {
     "data": {
      "text/plain": [
       "'success: content added from https://www.state.gov/new-senior-advisor-for-caucasus-negotiations/'"
      ]
     },
     "execution_count": 19,
     "metadata": {},
     "output_type": "execute_result"
    },
    {
     "data": {
      "text/plain": [
       "'success: content added from https://www.state.gov/five-months-of-a-humanitarian-truce-in-ethiopia/'"
      ]
     },
     "execution_count": 19,
     "metadata": {},
     "output_type": "execute_result"
    },
    {
     "data": {
      "text/plain": [
       "'success: content added from https://www.state.gov/ukraines-independence-day/'"
      ]
     },
     "execution_count": 19,
     "metadata": {},
     "output_type": "execute_result"
    },
    {
     "data": {
      "text/plain": [
       "'success: content added from https://www.state.gov/the-nomination-of-professor-sarah-cleveland-for-the-international-court-of-justice/'"
      ]
     },
     "execution_count": 19,
     "metadata": {},
     "output_type": "execute_result"
    },
    {
     "data": {
      "text/plain": [
       "'success: content added from https://www.state.gov/standing-against-religious-persecution/'"
      ]
     },
     "execution_count": 19,
     "metadata": {},
     "output_type": "execute_result"
    },
    {
     "data": {
      "text/plain": [
       "'success: content added from https://www.state.gov/775-million-in-additional-u-s-military-assistance-for-ukraine/'"
      ]
     },
     "execution_count": 19,
     "metadata": {},
     "output_type": "execute_result"
    },
    {
     "data": {
      "text/plain": [
       "'success: content added from https://www.state.gov/on-the-occasion-of-world-humanitarian-day-2/'"
      ]
     },
     "execution_count": 19,
     "metadata": {},
     "output_type": "execute_result"
    },
    {
     "data": {
      "text/plain": [
       "'success: content added from https://www.state.gov/hungarys-national-day/'"
      ]
     },
     "execution_count": 19,
     "metadata": {},
     "output_type": "execute_result"
    },
    {
     "data": {
      "text/plain": [
       "'success: content added from https://www.state.gov/the-gabonese-republic-national-day-2/'"
      ]
     },
     "execution_count": 19,
     "metadata": {},
     "output_type": "execute_result"
    },
    {
     "data": {
      "text/plain": [
       "'success: content added from https://www.state.gov/secretary-antony-j-blinken-at-an-event-in-honor-of-the-anniversaries-of-the-thomas-r-pickering-foreign-affairs-fellowship-charles-b-rangel-international-affairs-program-donald-m-payne-internatio/'"
      ]
     },
     "execution_count": 19,
     "metadata": {},
     "output_type": "execute_result"
    },
    {
     "data": {
      "text/plain": [
       "'success: content added from https://www.state.gov/additional-u-s-contribution-to-the-world-food-programme/'"
      ]
     },
     "execution_count": 19,
     "metadata": {},
     "output_type": "execute_result"
    },
    {
     "data": {
      "text/plain": [
       "'success: content added from https://www.state.gov/indonesia-independence-day/'"
      ]
     },
     "execution_count": 19,
     "metadata": {},
     "output_type": "execute_result"
    },
    {
     "data": {
      "text/plain": [
       "'success: content added from https://www.state.gov/to-african-diaspora-youth-and-exchange-alumni/'"
      ]
     },
     "execution_count": 19,
     "metadata": {},
     "output_type": "execute_result"
    },
    {
     "data": {
      "text/plain": [
       "'success: content added from https://www.state.gov/republic-of-korea-national-day/'"
      ]
     },
     "execution_count": 19,
     "metadata": {},
     "output_type": "execute_result"
    },
    {
     "data": {
      "text/plain": [
       "'success: content added from https://www.state.gov/republic-of-the-congo-national-day-2/'"
      ]
     },
     "execution_count": 19,
     "metadata": {},
     "output_type": "execute_result"
    },
    {
     "data": {
      "text/plain": [
       "'success: content added from https://www.state.gov/liechtensteins-national-day/'"
      ]
     },
     "execution_count": 19,
     "metadata": {},
     "output_type": "execute_result"
    },
    {
     "data": {
      "text/plain": [
       "'success: content added from https://www.state.gov/the-attack-against-salman-rushdie/'"
      ]
     },
     "execution_count": 19,
     "metadata": {},
     "output_type": "execute_result"
    },
    {
     "data": {
      "text/plain": [
       "'success: content added from https://www.state.gov/indian-independence-day-2/'"
      ]
     },
     "execution_count": 19,
     "metadata": {},
     "output_type": "execute_result"
    },
    {
     "data": {
      "text/plain": [
       "'success: content added from https://www.state.gov/pakistan-independence-day-2/'"
      ]
     },
     "execution_count": 19,
     "metadata": {},
     "output_type": "execute_result"
    },
    {
     "data": {
      "text/plain": [
       "'success: content added from https://www.state.gov/designation-of-paraguayan-vice-president-hugo-velazquez-and-yacyreta-bi-national-entity-legal-counsel-juan-carlos-duarte-for-involvement-in-significant-corruption/'"
      ]
     },
     "execution_count": 19,
     "metadata": {},
     "output_type": "execute_result"
    },
    {
     "data": {
      "text/plain": [
       "'success: content added from https://www.state.gov/secretary-antony-j-blinken-and-rwandan-foreign-minister-vincent-biruta-at-a-joint-press-availability/'"
      ]
     },
     "execution_count": 19,
     "metadata": {},
     "output_type": "execute_result"
    },
    {
     "data": {
      "text/plain": [
       "'success: content added from https://www.state.gov/secretary-antony-j-blinken-following-his-meeting-with-civil-society-representatives-from-rwanda/'"
      ]
     },
     "execution_count": 19,
     "metadata": {},
     "output_type": "execute_result"
    },
    {
     "data": {
      "text/plain": [
       "'success: content added from https://www.state.gov/secretary-antony-j-blinken-at-the-kigali-genocide-memorial/'"
      ]
     },
     "execution_count": 19,
     "metadata": {},
     "output_type": "execute_result"
    },
    {
     "data": {
      "text/plain": [
       "'success: content added from https://www.state.gov/chad-national-day-2/'"
      ]
     },
     "execution_count": 19,
     "metadata": {},
     "output_type": "execute_result"
    },
    {
     "data": {
      "text/plain": [
       "'success: content added from https://www.state.gov/secretary-antony-j-blinken-remarks-to-press-at-an-election-transparency-hackathon-event/'"
      ]
     },
     "execution_count": 19,
     "metadata": {},
     "output_type": "execute_result"
    },
    {
     "data": {
      "text/plain": [
       "'success: content added from https://www.state.gov/tenth-anniversary-of-the-captivity-of-austin-tice/'"
      ]
     },
     "execution_count": 19,
     "metadata": {},
     "output_type": "execute_result"
    },
    {
     "data": {
      "text/plain": [
       "'success: content added from https://www.state.gov/secretary-antony-j-blinken-and-democratic-republic-of-congo-prime-minister-jean-michel-sama-lukonde-before-their-meeting/'"
      ]
     },
     "execution_count": 19,
     "metadata": {},
     "output_type": "execute_result"
    },
    {
     "data": {
      "text/plain": [
       "'success: content added from https://www.state.gov/ecuadors-independence-day/'"
      ]
     },
     "execution_count": 19,
     "metadata": {},
     "output_type": "execute_result"
    },
    {
     "data": {
      "text/plain": [
       "'success: content added from https://www.state.gov/secretary-antony-j-blinken-before-meeting-with-civil-society-representatives-from-eastern-democratic-republic-of-congo/'"
      ]
     },
     "execution_count": 19,
     "metadata": {},
     "output_type": "execute_result"
    },
    {
     "data": {
      "text/plain": [
       "'success: content added from https://www.state.gov/secretary-antony-j-blinken-and-democratic-republic-of-congo-vice-prime-minister-and-foreign-minister-christophe-lutundula-at-a-joint-press-availability/'"
      ]
     },
     "execution_count": 19,
     "metadata": {},
     "output_type": "execute_result"
    },
    {
     "data": {
      "text/plain": [
       "'success: content added from https://www.state.gov/remarks-at-a-jazz-cultural-event/'"
      ]
     },
     "execution_count": 19,
     "metadata": {},
     "output_type": "execute_result"
    },
    {
     "data": {
      "text/plain": [
       "'success: content added from https://www.state.gov/the-passage-of-the-chips-and-science-act-of-2022/'"
      ]
     },
     "execution_count": 19,
     "metadata": {},
     "output_type": "execute_result"
    },
    {
     "data": {
      "text/plain": [
       "'success: content added from https://www.state.gov/signing-of-u-s-instruments-of-ratification-of-finland-and-swedens-nato-accession-protocols/'"
      ]
     },
     "execution_count": 19,
     "metadata": {},
     "output_type": "execute_result"
    },
    {
     "data": {
      "text/plain": [
       "'success: content added from https://www.state.gov/promoting-accountability-on-the-second-anniversary-of-the-fraudulent-election-in-belarus/'"
      ]
     },
     "execution_count": 19,
     "metadata": {},
     "output_type": "execute_result"
    },
    {
     "data": {
      "text/plain": [
       "'success: content added from https://www.state.gov/remarks-at-a-south-african-womens-day-event/'"
      ]
     },
     "execution_count": 19,
     "metadata": {},
     "output_type": "execute_result"
    },
    {
     "data": {
      "text/plain": [
       "'success: content added from https://www.state.gov/secretary-antony-j-blinken-with-romain-chanson-of-radio-france-internationale-rfi/'"
      ]
     },
     "execution_count": 19,
     "metadata": {},
     "output_type": "execute_result"
    },
    {
     "data": {
      "text/plain": [
       "'success: content added from https://www.state.gov/secretary-antony-j-blinken-and-south-african-minister-of-international-relations-and-cooperation-naledi-pandor-at-a-joint-press-availability/'"
      ]
     },
     "execution_count": 19,
     "metadata": {},
     "output_type": "execute_result"
    },
    {
     "data": {
      "text/plain": [
       "'success: content added from https://www.state.gov/vital-partners-shared-priorities-the-biden-administrations-sub-saharan-africa-strategy/'"
      ]
     },
     "execution_count": 19,
     "metadata": {},
     "output_type": "execute_result"
    },
    {
     "data": {
      "text/plain": [
       "'success: content added from https://www.state.gov/remarks-at-the-opening-of-the-u-s-south-african-strategic-dialogue/'"
      ]
     },
     "execution_count": 19,
     "metadata": {},
     "output_type": "execute_result"
    },
    {
     "data": {
      "text/plain": [
       "'success: content added from https://www.state.gov/1-billion-in-new-u-s-military-assistance-for-ukraine/'"
      ]
     },
     "execution_count": 19,
     "metadata": {},
     "output_type": "execute_result"
    },
    {
     "data": {
      "text/plain": [
       "'success: content added from https://www.state.gov/imposing-sanctions-on-virtual-currency-mixer-tornado-cash/'"
      ]
     },
     "execution_count": 19,
     "metadata": {},
     "output_type": "execute_result"
    },
    {
     "data": {
      "text/plain": [
       "'success: content added from https://www.state.gov/singapore-national-day/'"
      ]
     },
     "execution_count": 19,
     "metadata": {},
     "output_type": "execute_result"
    },
    {
     "data": {
      "text/plain": [
       "'success: content added from https://www.state.gov/welcoming-the-ceasefire-agreement-in-gaza-and-israel/'"
      ]
     },
     "execution_count": 19,
     "metadata": {},
     "output_type": "execute_result"
    },
    {
     "data": {
      "text/plain": [
       "'success: content added from https://www.state.gov/secretary-antony-j-blinken-with-thulasizwe-simelane-of-enca/'"
      ]
     },
     "execution_count": 19,
     "metadata": {},
     "output_type": "execute_result"
    },
    {
     "data": {
      "text/plain": [
       "'success: content added from https://www.state.gov/anniversary-of-the-russian-invasion-of-georgia/'"
      ]
     },
     "execution_count": 19,
     "metadata": {},
     "output_type": "execute_result"
    },
    {
     "data": {
      "text/plain": [
       "'success: content added from https://www.state.gov/secretary-antony-j-blinken-remarks-to-the-press-3/'"
      ]
     },
     "execution_count": 19,
     "metadata": {},
     "output_type": "execute_result"
    },
    {
     "data": {
      "text/plain": [
       "'success: content added from https://www.state.gov/24th-anniversary-of-the-1998-embassy-bombings/'"
      ]
     },
     "execution_count": 19,
     "metadata": {},
     "output_type": "execute_result"
    },
    {
     "data": {
      "text/plain": [
       "'success: content added from https://www.state.gov/cote-divoires-national-day/'"
      ]
     },
     "execution_count": 19,
     "metadata": {},
     "output_type": "execute_result"
    },
    {
     "data": {
      "text/plain": [
       "'success: content added from https://www.state.gov/secretary-antony-j-blinken-with-karen-davila-of-abs-cbn/'"
      ]
     },
     "execution_count": 19,
     "metadata": {},
     "output_type": "execute_result"
    },
    {
     "data": {
      "text/plain": [
       "'success: content added from https://www.state.gov/secretary-antony-j-blinken-at-a-u-s-trade-and-development-agency-offshore-wind-grant-signing/'"
      ]
     },
     "execution_count": 19,
     "metadata": {},
     "output_type": "execute_result"
    },
    {
     "data": {
      "text/plain": [
       "'success: content added from https://www.state.gov/jamaicas-independence-day-2/'"
      ]
     },
     "execution_count": 19,
     "metadata": {},
     "output_type": "execute_result"
    },
    {
     "data": {
      "text/plain": [
       "'success: content added from https://www.state.gov/secretary-antony-j-blinken-at-a-covid-19-assistance-event/'"
      ]
     },
     "execution_count": 19,
     "metadata": {},
     "output_type": "execute_result"
    },
    {
     "data": {
      "text/plain": [
       "'success: content added from https://www.state.gov/secretary-antony-j-blinken-and-philippine-secretary-of-foreign-affairs-enrique-manalo-at-a-virtual-press-availability/'"
      ]
     },
     "execution_count": 19,
     "metadata": {},
     "output_type": "execute_result"
    },
    {
     "data": {
      "text/plain": [
       "'success: content added from https://www.state.gov/secretary-antony-j-blinken-and-philippine-president-ferdinand-romualdez-marcos-jr-before-their-meeting/'"
      ]
     },
     "execution_count": 19,
     "metadata": {},
     "output_type": "execute_result"
    },
    {
     "data": {
      "text/plain": [
       "'success: content added from https://www.state.gov/secretary-antony-j-blinken-and-philippine-secretary-of-foreign-affairs-enrique-manalo-before-their-virtual-meeting/'"
      ]
     },
     "execution_count": 19,
     "metadata": {},
     "output_type": "execute_result"
    },
    {
     "data": {
      "text/plain": [
       "'success: content added from https://www.state.gov/secretary-antony-j-blinken-with-narin-sun-of-voice-of-america-khmer/'"
      ]
     },
     "execution_count": 19,
     "metadata": {},
     "output_type": "execute_result"
    },
    {
     "data": {
      "text/plain": [
       "'success: content added from https://www.state.gov/bolivias-independence-day-2/'"
      ]
     },
     "execution_count": 19,
     "metadata": {},
     "output_type": "execute_result"
    },
    {
     "data": {
      "text/plain": [
       "'success: content added from https://www.state.gov/secretary-antony-j-blinken-at-a-press-availability-24/'"
      ]
     },
     "execution_count": 19,
     "metadata": {},
     "output_type": "execute_result"
    },
    {
     "data": {
      "text/plain": [
       "'success: content added from https://www.state.gov/secretary-antony-j-blinken-and-republic-of-korea-foreign-minister-park-jin-after-their-meeting/'"
      ]
     },
     "execution_count": 19,
     "metadata": {},
     "output_type": "execute_result"
    },
    {
     "data": {
      "text/plain": [
       "'success: content added from https://www.state.gov/secretary-antony-j-blinken-and-cambodian-prime-minister-hun-sen-before-their-meeting/'"
      ]
     },
     "execution_count": 19,
     "metadata": {},
     "output_type": "execute_result"
    },
    {
     "data": {
      "text/plain": [
       "'success: content added from https://www.state.gov/secretary-antony-j-blinken-and-indonesian-foreign-minister-retno-marsudi-before-the-asean-u-s-ministerial-meeting/'"
      ]
     },
     "execution_count": 19,
     "metadata": {},
     "output_type": "execute_result"
    },
    {
     "data": {
      "text/plain": [
       "'success: content added from https://www.state.gov/conviction-and-sentencing-of-u-s-citizen-brittney-griner-in-russia/'"
      ]
     },
     "execution_count": 19,
     "metadata": {},
     "output_type": "execute_result"
    },
    {
     "data": {
      "text/plain": [
       "'success: content added from https://www.state.gov/secretary-antony-j-blinken-and-sri-lankan-foreign-minister-ali-sabry-before-their-meeting/'"
      ]
     },
     "execution_count": 19,
     "metadata": {},
     "output_type": "execute_result"
    },
    {
     "data": {
      "text/plain": [
       "'success: content added from https://www.state.gov/secretary-antony-j-blinken-and-qatari-foreign-minister-mohammed-bin-abdulrahaman-al-thani-after-their-meeting/'"
      ]
     },
     "execution_count": 19,
     "metadata": {},
     "output_type": "execute_result"
    },
    {
     "data": {
      "text/plain": [
       "'success: content added from https://www.state.gov/secretary-antony-j-blinken-and-european-union-high-representative-for-foreign-affairs-and-security-policy-and-vice-president-of-the-european-commission-josep-borrell-before-their-meeting/'"
      ]
     },
     "execution_count": 19,
     "metadata": {},
     "output_type": "execute_result"
    },
    {
     "data": {
      "text/plain": [
       "'success: content added from https://www.state.gov/at-the-yseali-environmental-responsibility-town-hall/'"
      ]
     },
     "execution_count": 19,
     "metadata": {},
     "output_type": "execute_result"
    },
    {
     "data": {
      "text/plain": [
       "'success: content added from https://www.state.gov/at-the-agribusiness-showcase-and-announcement-of-food-security-funding/'"
      ]
     },
     "execution_count": 19,
     "metadata": {},
     "output_type": "execute_result"
    },
    {
     "data": {
      "text/plain": [
       "'success: content added from https://www.state.gov/secretary-antony-j-blinken-and-indian-external-affairs-minister-subrahmanyam-jaishankar-before-their-meeting/'"
      ]
     },
     "execution_count": 19,
     "metadata": {},
     "output_type": "execute_result"
    },
    {
     "data": {
      "text/plain": [
       "'success: content added from https://www.state.gov/kenyan-general-elections/'"
      ]
     },
     "execution_count": 19,
     "metadata": {},
     "output_type": "execute_result"
    },
    {
     "data": {
      "text/plain": [
       "'success: content added from https://www.state.gov/first-grain-ship-departs-the-black-sea/'"
      ]
     },
     "execution_count": 19,
     "metadata": {},
     "output_type": "execute_result"
    },
    {
     "data": {
      "text/plain": [
       "'success: content added from https://www.state.gov/the-united-states-welcomes-the-extension-of-the-un-brokered-truce-in-yemen/'"
      ]
     },
     "execution_count": 19,
     "metadata": {},
     "output_type": "execute_result"
    },
    {
     "data": {
      "text/plain": [
       "'success: content added from https://www.state.gov/imposing-additional-costs-on-russia-for-its-continued-war-against-ukraine-3/'"
      ]
     },
     "execution_count": 19,
     "metadata": {},
     "output_type": "execute_result"
    },
    {
     "data": {
      "text/plain": [
       "'success: content added from https://www.state.gov/morocco-throne-day/'"
      ]
     },
     "execution_count": 19,
     "metadata": {},
     "output_type": "execute_result"
    },
    {
     "data": {
      "text/plain": [
       "'success: content added from https://www.state.gov/the-death-of-ayman-al-zawahiri/'"
      ]
     },
     "execution_count": 19,
     "metadata": {},
     "output_type": "execute_result"
    },
    {
     "data": {
      "text/plain": [
       "'success: content added from https://www.state.gov/secretary-antony-j-blinken-at-a-press-availability-23/'"
      ]
     },
     "execution_count": 19,
     "metadata": {},
     "output_type": "execute_result"
    },
    {
     "data": {
      "text/plain": [
       "'success: content added from https://www.state.gov/biden-harris-administration-announces-550-million-in-new-u-s-military-assistance-for-ukraine/'"
      ]
     },
     "execution_count": 19,
     "metadata": {},
     "output_type": "execute_result"
    },
    {
     "data": {
      "text/plain": [
       "'success: content added from https://www.state.gov/secretary-antony-j-blinkens-remarks-to-the-nuclear-non-proliferation-treaty-review-conference/'"
      ]
     },
     "execution_count": 19,
     "metadata": {},
     "output_type": "execute_result"
    },
    {
     "data": {
      "text/plain": [
       "'success: content added from https://www.state.gov/secretary-antony-j-blinken-before-his-meeting-with-nuclear-non-proliferation-treaty-npt-non-nuclear-states-parties-on-the-margins-of-the-npt-review-conference/'"
      ]
     },
     "execution_count": 19,
     "metadata": {},
     "output_type": "execute_result"
    },
    {
     "data": {
      "text/plain": [
       "'success: content added from https://www.state.gov/designation-of-entities-supporting-trade-of-iranian-petroleum-and-petrochemical-products/'"
      ]
     },
     "execution_count": 19,
     "metadata": {},
     "output_type": "execute_result"
    },
    {
     "data": {
      "text/plain": [
       "'success: content added from https://www.state.gov/benin-national-day-2/'"
      ]
     },
     "execution_count": 19,
     "metadata": {},
     "output_type": "execute_result"
    },
    {
     "data": {
      "text/plain": [
       "'success: content added from https://www.state.gov/switzerlands-national-day/'"
      ]
     },
     "execution_count": 19,
     "metadata": {},
     "output_type": "execute_result"
    },
    {
     "data": {
      "text/plain": [
       "'success: content added from https://www.state.gov/secretary-blinken-secretary-raimondo-foreign-minister-hayashi-and-minister-hagiuda-at-a-press-availability/'"
      ]
     },
     "execution_count": 19,
     "metadata": {},
     "output_type": "execute_result"
    },
    {
     "data": {
      "text/plain": [
       "'success: content added from https://www.state.gov/targeting-russias-global-malign-influence-operations-and-election-interference-activities/'"
      ]
     },
     "execution_count": 19,
     "metadata": {},
     "output_type": "execute_result"
    },
    {
     "data": {
      "text/plain": [
       "'success: content added from https://www.state.gov/opening-remarks-with-secretary-of-commerce-gina-m-raimondo-and-japanese-foreign-minister-hayashi-yoshimasa-and-minister-of-economy-trade-and-industry-hagiuda-koichi/'"
      ]
     },
     "execution_count": 19,
     "metadata": {},
     "output_type": "execute_result"
    },
    {
     "data": {
      "text/plain": [
       "'success: content added from https://www.state.gov/vanuatu-national-day/'"
      ]
     },
     "execution_count": 19,
     "metadata": {},
     "output_type": "execute_result"
    },
    {
     "data": {
      "text/plain": [
       "'success: content added from https://www.state.gov/secretary-antony-j-blinken-at-the-launch-of-the-u-s-afghan-consultative-mechanism/'"
      ]
     },
     "execution_count": 19,
     "metadata": {},
     "output_type": "execute_result"
    },
    {
     "data": {
      "text/plain": [
       "'success: content added from https://www.state.gov/tunisias-july-25-referendum/'"
      ]
     },
     "execution_count": 19,
     "metadata": {},
     "output_type": "execute_result"
    },
    {
     "data": {
      "text/plain": [
       "'success: content added from https://www.state.gov/perus-independence-day-2/'"
      ]
     },
     "execution_count": 19,
     "metadata": {},
     "output_type": "execute_result"
    },
    {
     "data": {
      "text/plain": [
       "'success: content added from https://www.state.gov/secretary-antony-j-blinken-at-a-press-availability-22/'"
      ]
     },
     "execution_count": 19,
     "metadata": {},
     "output_type": "execute_result"
    },
    {
     "data": {
      "text/plain": [
       "'success: content added from https://www.state.gov/secretary-antony-j-blinken-kosovo-president-vjosa-osmani-and-kosovo-prime-minister-albin-kurti-before-their-meeting/'"
      ]
     },
     "execution_count": 19,
     "metadata": {},
     "output_type": "execute_result"
    },
    {
     "data": {
      "text/plain": [
       "'success: content added from https://www.state.gov/liberia-national-day-2/'"
      ]
     },
     "execution_count": 19,
     "metadata": {},
     "output_type": "execute_result"
    },
    {
     "data": {
      "text/plain": [
       "'success: content added from https://www.state.gov/secretary-antony-j-blinken-at-the-department-of-state-office-of-accessibility-and-accommodations-access-center-to-commemorate-the-32nd-anniversary-of-the-signing-of-the-americans-with-disabi/'"
      ]
     },
     "execution_count": 19,
     "metadata": {},
     "output_type": "execute_result"
    },
    {
     "data": {
      "text/plain": [
       "'success: content added from https://www.state.gov/secretary-antony-j-blinken-and-guyanese-president-irfaan-ali-before-their-meeting/'"
      ]
     },
     "execution_count": 19,
     "metadata": {},
     "output_type": "execute_result"
    },
    {
     "data": {
      "text/plain": [
       "'success: content added from https://www.state.gov/maldives-independence-day/'"
      ]
     },
     "execution_count": 19,
     "metadata": {},
     "output_type": "execute_result"
    },
    {
     "data": {
      "text/plain": [
       "'success: content added from https://www.state.gov/execution-of-burmas-pro-democracy-leaders/'"
      ]
     },
     "execution_count": 19,
     "metadata": {},
     "output_type": "execute_result"
    },
    {
     "data": {
      "text/plain": [
       "'success: content added from https://www.state.gov/the-united-states-strongly-condemns-the-russian-missile-attack-against-odesa/'"
      ]
     },
     "execution_count": 19,
     "metadata": {},
     "output_type": "execute_result"
    },
    {
     "data": {
      "text/plain": [
       "'success: content added from https://www.state.gov/egypt-national-day/'"
      ]
     },
     "execution_count": 19,
     "metadata": {},
     "output_type": "execute_result"
    },
    {
     "data": {
      "text/plain": [
       "'success: content added from https://www.state.gov/quadrilateral-deal-for-safe-passage-of-agricultural-goods-on-the-black-sea/'"
      ]
     },
     "execution_count": 19,
     "metadata": {},
     "output_type": "execute_result"
    },
    {
     "data": {
      "text/plain": [
       "'success: content added from https://www.state.gov/biden-harris-administration-announces-new-u-s-military-assistance-for-ukraine/'"
      ]
     },
     "execution_count": 19,
     "metadata": {},
     "output_type": "execute_result"
    },
    {
     "data": {
      "text/plain": [
       "'success: content added from https://www.state.gov/designation-of-former-paraguayan-president-horacio-manuel-cartes-jara-for-involvement-in-significant-corruption/'"
      ]
     },
     "execution_count": 19,
     "metadata": {},
     "output_type": "execute_result"
    },
    {
     "data": {
      "text/plain": [
       "'success: content added from https://www.state.gov/belgium-national-day-2/'"
      ]
     },
     "execution_count": 19,
     "metadata": {},
     "output_type": "execute_result"
    },
    {
     "data": {
      "text/plain": [
       "'success: content added from https://www.state.gov/release-of-the-section-353-list-of-corrupt-and-undemocratic-actors-for-guatemala-honduras-el-salvador-and-nicaragua/'"
      ]
     },
     "execution_count": 19,
     "metadata": {},
     "output_type": "execute_result"
    },
    {
     "data": {
      "text/plain": [
       "'success: content added from https://www.state.gov/secretary-antony-j-blinken-and-secretary-of-commerce-gina-raimondo-at-a-virtual-supply-chain-ministerial-forum/'"
      ]
     },
     "execution_count": 19,
     "metadata": {},
     "output_type": "execute_result"
    },
    {
     "data": {
      "text/plain": [
       "'success: content added from https://www.state.gov/secretary-antony-j-blinken-and-moldovan-prime-minister-natalia-gavrilita-before-their-meeting-2/'"
      ]
     },
     "execution_count": 19,
     "metadata": {},
     "output_type": "execute_result"
    },
    {
     "data": {
      "text/plain": [
       "'success: content added from https://www.state.gov/secretary-antony-j-blinken-at-the-2022-trafficking-in-persons-tip-report-launch-ceremony/'"
      ]
     },
     "execution_count": 19,
     "metadata": {},
     "output_type": "execute_result"
    },
    {
     "data": {
      "text/plain": [
       "'success: content added from https://www.state.gov/secretary-antony-j-blinken-at-a-virtual-covid-19-global-action-plan-foreign-ministerial-meeting/'"
      ]
     },
     "execution_count": 19,
     "metadata": {},
     "output_type": "execute_result"
    },
    {
     "data": {
      "text/plain": [
       "'success: content added from https://www.state.gov/issuance-of-executive-order-on-bolstering-ongoing-efforts-to-bring-hostages-and-wrongfully-detained-u-s-nationals-home/'"
      ]
     },
     "execution_count": 19,
     "metadata": {},
     "output_type": "execute_result"
    },
    {
     "data": {
      "text/plain": [
       "'success: content added from https://www.state.gov/colombias-independence-day-2/'"
      ]
     },
     "execution_count": 19,
     "metadata": {},
     "output_type": "execute_result"
    },
    {
     "data": {
      "text/plain": [
       "'success: content added from https://www.state.gov/secretary-antony-j-blinken-remarks-to-employees-at-the-office-of-the-director-of-national-intelligence/'"
      ]
     },
     "execution_count": 19,
     "metadata": {},
     "output_type": "execute_result"
    },
    {
     "data": {
      "text/plain": [
       "'success: content added from https://www.state.gov/release-of-the-2022-women-peace-and-security-report/'"
      ]
     },
     "execution_count": 19,
     "metadata": {},
     "output_type": "execute_result"
    },
    {
     "data": {
      "text/plain": [
       "'success: content added from https://www.state.gov/north-macedonias-decision-to-advance-its-eu-accession-negotiations/'"
      ]
     },
     "execution_count": 19,
     "metadata": {},
     "output_type": "execute_result"
    },
    {
     "data": {
      "text/plain": [
       "'success: content added from https://www.state.gov/covid-19-global-action-plan-ministerial/'"
      ]
     },
     "execution_count": 19,
     "metadata": {},
     "output_type": "execute_result"
    },
    {
     "data": {
      "text/plain": [
       "'success: content added from https://www.state.gov/statement-to-ukraine-accountability-conference-the-hague/'"
      ]
     },
     "execution_count": 19,
     "metadata": {},
     "output_type": "execute_result"
    },
    {
     "data": {
      "text/plain": [
       "'success: content added from https://www.state.gov/bastille-day-2/'"
      ]
     },
     "execution_count": 19,
     "metadata": {},
     "output_type": "execute_result"
    },
    {
     "data": {
      "text/plain": [
       "'success: content added from https://www.state.gov/russias-filtration-operations-forced-disappearances-and-mass-deportations-of-ukrainian-citizens/'"
      ]
     },
     "execution_count": 19,
     "metadata": {},
     "output_type": "execute_result"
    },
    {
     "data": {
      "text/plain": [
       "'success: content added from https://www.state.gov/montenegro-statehood-day-2/'"
      ]
     },
     "execution_count": 19,
     "metadata": {},
     "output_type": "execute_result"
    },
    {
     "data": {
      "text/plain": [
       "'success: content added from https://www.state.gov/sao-tome-and-principe-national-day-2/'"
      ]
     },
     "execution_count": 19,
     "metadata": {},
     "output_type": "execute_result"
    },
    {
     "data": {
      "text/plain": [
       "'success: content added from https://www.state.gov/sixth-anniversary-of-the-philippines-china-south-china-sea-arbitral-tribunal-ruling/'"
      ]
     },
     "execution_count": 19,
     "metadata": {},
     "output_type": "execute_result"
    },
    {
     "data": {
      "text/plain": [
       "'success: content added from https://www.state.gov/secretary-antony-j-blinken-with-kiratikorn-naksompop-blauw-of-thai-pbs/'"
      ]
     },
     "execution_count": 19,
     "metadata": {},
     "output_type": "execute_result"
    },
    {
     "data": {
      "text/plain": [
       "'success: content added from https://www.state.gov/the-first-anniversary-of-july-11-2021-protests/'"
      ]
     },
     "execution_count": 19,
     "metadata": {},
     "output_type": "execute_result"
    },
    {
     "data": {
      "text/plain": [
       "'success: content added from https://www.state.gov/kiribatis-national-day-2/'"
      ]
     },
     "execution_count": 19,
     "metadata": {},
     "output_type": "execute_result"
    },
    {
     "data": {
      "text/plain": [
       "'success: content added from https://www.state.gov/secretary-antony-j-blinken-remarks-to-traveling-press-yokota-air-base-tokyo-japan/'"
      ]
     },
     "execution_count": 19,
     "metadata": {},
     "output_type": "execute_result"
    },
    {
     "data": {
      "text/plain": [
       "'success: content added from https://www.state.gov/secretary-antony-j-blinken-at-a-press-availability-20/'"
      ]
     },
     "execution_count": 19,
     "metadata": {},
     "output_type": "execute_result"
    },
    {
     "data": {
      "text/plain": [
       "'success: content added from https://www.state.gov/the-bahamas-independence-day-2/'"
      ]
     },
     "execution_count": 19,
     "metadata": {},
     "output_type": "execute_result"
    },
    {
     "data": {
      "text/plain": [
       "'success: content added from https://www.state.gov/secretary-antony-j-blinken-and-thai-prime-minister-prayut-chan-o-cha-before-their-meeting/'"
      ]
     },
     "execution_count": 19,
     "metadata": {},
     "output_type": "execute_result"
    },
    {
     "data": {
      "text/plain": [
       "'success: content added from https://www.state.gov/secretary-antony-j-blinken-before-meeting-with-u-s-exchange-alumni/'"
      ]
     },
     "execution_count": 19,
     "metadata": {},
     "output_type": "execute_result"
    },
    {
     "data": {
      "text/plain": [
       "'success: content added from https://www.state.gov/secretary-antony-j-blinken-and-thai-deputy-prime-minister-and-foreign-minister-don-pramudwinai-remarks-to-the-press/'"
      ]
     },
     "execution_count": 19,
     "metadata": {},
     "output_type": "execute_result"
    },
    {
     "data": {
      "text/plain": [
       "'success: content added from https://www.state.gov/secretary-antony-j-blinken-and-thai-deputy-prime-minister-and-foreign-minister-don-pramudwinai-before-their-meeting-3/'"
      ]
     },
     "execution_count": 19,
     "metadata": {},
     "output_type": "execute_result"
    },
    {
     "data": {
      "text/plain": [
       "'success: content added from https://www.state.gov/400-million-in-new-u-s-military-assistance-for-ukraine/'"
      ]
     },
     "execution_count": 19,
     "metadata": {},
     "output_type": "execute_result"
    },
    {
     "data": {
      "text/plain": [
       "'success: content added from https://www.state.gov/secretary-antony-j-blinken-at-a-press-availability-21/'"
      ]
     },
     "execution_count": 19,
     "metadata": {},
     "output_type": "execute_result"
    },
    {
     "data": {
      "text/plain": [
       "'success: content added from https://www.state.gov/announcement-of-visa-restrictions-against-cuban-officials-2/'"
      ]
     },
     "execution_count": 19,
     "metadata": {},
     "output_type": "execute_result"
    },
    {
     "data": {
      "text/plain": [
       "'success: content added from https://www.state.gov/additional-humanitarian-assistance-for-the-people-of-ukraine-2/'"
      ]
     },
     "execution_count": 19,
     "metadata": {},
     "output_type": "execute_result"
    },
    {
     "data": {
      "text/plain": [
       "'success: content added from https://www.state.gov/south-sudan-national-day-2/'"
      ]
     },
     "execution_count": 19,
     "metadata": {},
     "output_type": "execute_result"
    },
    {
     "data": {
      "text/plain": [
       "'success: content added from https://www.state.gov/argentinas-independence-day-2/'"
      ]
     },
     "execution_count": 19,
     "metadata": {},
     "output_type": "execute_result"
    },
    {
     "data": {
      "text/plain": [
       "'success: content added from https://www.state.gov/secretary-antony-j-blinken-and-chinese-state-councilor-and-foreign-minister-wang-yi-before-their-meeting/'"
      ]
     },
     "execution_count": 19,
     "metadata": {},
     "output_type": "execute_result"
    },
    {
     "data": {
      "text/plain": [
       "'success: content added from https://www.state.gov/on-the-occasion-of-eid-al-adha-2/'"
      ]
     },
     "execution_count": 19,
     "metadata": {},
     "output_type": "execute_result"
    },
    {
     "data": {
      "text/plain": [
       "'success: content added from https://www.state.gov/the-passing-of-former-prime-minister-of-japan-abe-shinzo/'"
      ]
     },
     "execution_count": 19,
     "metadata": {},
     "output_type": "execute_result"
    },
    {
     "data": {
      "text/plain": [
       "'success: content added from https://www.state.gov/mongolia-national-day/'"
      ]
     },
     "execution_count": 19,
     "metadata": {},
     "output_type": "execute_result"
    },
    {
     "data": {
      "text/plain": [
       "'success: content added from https://www.state.gov/secretary-antony-j-blinken-and-argentine-foreign-minister-santiago-cafiero-before-their-meeting/2'"
      ]
     },
     "execution_count": 19,
     "metadata": {},
     "output_type": "execute_result"
    },
    {
     "data": {
      "text/plain": [
       "'success: content added from https://www.state.gov/secretary-antony-j-blinken-and-republic-of-korea-foreign-minister-park-jin-before-their-meeting-with-japanese-foreign-minister-hayashi-yoshimasa/'"
      ]
     },
     "execution_count": 19,
     "metadata": {},
     "output_type": "execute_result"
    },
    {
     "data": {
      "text/plain": [
       "'success: content added from https://www.state.gov/secretary-antony-j-blinken-and-indian-external-affairs-minister-dr-subrahmanyam-jaishankar-before-their-meeting-3/'"
      ]
     },
     "execution_count": 19,
     "metadata": {},
     "output_type": "execute_result"
    },
    {
     "data": {
      "text/plain": [
       "'success: content added from https://www.state.gov/secretary-antony-j-blinken-and-indonesian-foreign-minister-retno-marsudi-before-their-meeting-4/'"
      ]
     },
     "execution_count": 19,
     "metadata": {},
     "output_type": "execute_result"
    },
    {
     "data": {
      "text/plain": [
       "'success: content added from https://www.state.gov/statement-on-the-anniversary-of-haitian-president-jovenel-moises-assassination/'"
      ]
     },
     "execution_count": 19,
     "metadata": {},
     "output_type": "execute_result"
    },
    {
     "data": {
      "text/plain": [
       "'success: content added from https://www.state.gov/targeting-irans-international-petroleum-trade/'"
      ]
     },
     "execution_count": 19,
     "metadata": {},
     "output_type": "execute_result"
    },
    {
     "data": {
      "text/plain": [
       "'success: content added from https://www.state.gov/on-the-occasion-of-his-holiness-the-dalai-lamas-87th-birthday/'"
      ]
     },
     "execution_count": 19,
     "metadata": {},
     "output_type": "execute_result"
    },
    {
     "data": {
      "text/plain": [
       "'success: content added from https://www.state.gov/solomon-islands-national-day-2/'"
      ]
     },
     "execution_count": 19,
     "metadata": {},
     "output_type": "execute_result"
    },
    {
     "data": {
      "text/plain": [
       "'success: content added from https://www.state.gov/malawi-independence-day/'"
      ]
     },
     "execution_count": 19,
     "metadata": {},
     "output_type": "execute_result"
    },
    {
     "data": {
      "text/plain": [
       "'success: content added from https://www.state.gov/comoros-national-day-2/'"
      ]
     },
     "execution_count": 19,
     "metadata": {},
     "output_type": "execute_result"
    },
    {
     "data": {
      "text/plain": [
       "'success: content added from https://www.state.gov/burundi-national-day-2/'"
      ]
     },
     "execution_count": 19,
     "metadata": {},
     "output_type": "execute_result"
    },
    {
     "data": {
      "text/plain": [
       "'success: content added from https://www.state.gov/welcoming-israels-prime-minister-yair-lapid/'"
      ]
     },
     "execution_count": 19,
     "metadata": {},
     "output_type": "execute_result"
    },
    {
     "data": {
      "text/plain": [
       "'success: content added from https://www.state.gov/hong-kong-25-years-after-handover/'"
      ]
     },
     "execution_count": 19,
     "metadata": {},
     "output_type": "execute_result"
    },
    {
     "data": {
      "text/plain": [
       "'success: content added from https://www.state.gov/global-health-security-conference-2022/'"
      ]
     },
     "execution_count": 19,
     "metadata": {},
     "output_type": "execute_result"
    },
    {
     "data": {
      "text/plain": [
       "'success: content added from https://www.state.gov/democratic-republic-of-the-congo-national-day/'"
      ]
     },
     "execution_count": 19,
     "metadata": {},
     "output_type": "execute_result"
    },
    {
     "data": {
      "text/plain": [
       "'success: content added from https://www.state.gov/remarks-for-the-2nd-annual-international-religious-freedom-summit/'"
      ]
     },
     "execution_count": 19,
     "metadata": {},
     "output_type": "execute_result"
    },
    {
     "data": {
      "text/plain": [
       "'success: content added from https://www.state.gov/secretary-antony-j-blinken-and-spanish-foreign-minister-jose-manuel-albares-at-the-nato-public-forum/'"
      ]
     },
     "execution_count": 19,
     "metadata": {},
     "output_type": "execute_result"
    },
    {
     "data": {
      "text/plain": [
       "'success: content added from https://www.state.gov/seychelles-national-day-2/'"
      ]
     },
     "execution_count": 19,
     "metadata": {},
     "output_type": "execute_result"
    },
    {
     "data": {
      "text/plain": [
       "'success: content added from https://www.state.gov/targeting-russias-war-machine-sanctions-evaders-military-units-implicated-in-human-rights-abuses-and-officials-involved-in-suppression-of-dissent/'"
      ]
     },
     "execution_count": 19,
     "metadata": {},
     "output_type": "execute_result"
    },
    {
     "data": {
      "text/plain": [
       "'success: content added from https://www.state.gov/assistance-for-afghanistan-to-respond-to-june-22-earthquake/'"
      ]
     },
     "execution_count": 19,
     "metadata": {},
     "output_type": "execute_result"
    },
    {
     "data": {
      "text/plain": [
       "'success: content added from https://www.state.gov/on-the-occasion-of-the-republic-of-djiboutis-national-day/'"
      ]
     },
     "execution_count": 19,
     "metadata": {},
     "output_type": "execute_result"
    },
    {
     "data": {
      "text/plain": [
       "'success: content added from https://www.state.gov/secretary-antony-j-blinken-with-jake-tapper-of-state-of-the-union-with-jake-tapper-on-cnn/'"
      ]
     },
     "execution_count": 19,
     "metadata": {},
     "output_type": "execute_result"
    },
    {
     "data": {
      "text/plain": [
       "'success: content added from https://www.state.gov/international-day-in-support-of-victims-of-torture-2/'"
      ]
     },
     "execution_count": 19,
     "metadata": {},
     "output_type": "execute_result"
    },
    {
     "data": {
      "text/plain": [
       "'success: content added from https://www.state.gov/madagascar-national-day/'"
      ]
     },
     "execution_count": 19,
     "metadata": {},
     "output_type": "execute_result"
    },
    {
     "data": {
      "text/plain": [
       "'success: content added from https://www.state.gov/slovenias-national-day/'"
      ]
     },
     "execution_count": 19,
     "metadata": {},
     "output_type": "execute_result"
    },
    {
     "data": {
      "text/plain": [
       "'success: content added from https://www.state.gov/mozambique-national-day/'"
      ]
     },
     "execution_count": 19,
     "metadata": {},
     "output_type": "execute_result"
    },
    {
     "data": {
      "text/plain": [
       "'success: content added from https://www.state.gov/todays-supreme-court-decision/'"
      ]
     },
     "execution_count": 19,
     "metadata": {},
     "output_type": "execute_result"
    },
    {
     "data": {
      "text/plain": [
       "'success: content added from https://www.state.gov/secretary-antony-j-blinken-at-a-press-availability-19/'"
      ]
     },
     "execution_count": 19,
     "metadata": {},
     "output_type": "execute_result"
    },
    {
     "data": {
      "text/plain": [
       "'success: content added from https://www.state.gov/secretary-antony-j-blinken-during-the-uniting-for-global-food-security-conference/'"
      ]
     },
     "execution_count": 19,
     "metadata": {},
     "output_type": "execute_result"
    },
    {
     "data": {
      "text/plain": [
       "'success: content added from https://www.state.gov/secretary-antony-j-blinken-and-french-foreign-minister-catherine-colonna-before-their-meeting/'"
      ]
     },
     "execution_count": 19,
     "metadata": {},
     "output_type": "execute_result"
    },
    {
     "data": {
      "text/plain": [
       "'success: content added from https://www.state.gov/secretary-antony-j-blinken-and-german-foreign-minister-annalena-baerbock-before-their-meeting-2/'"
      ]
     },
     "execution_count": 19,
     "metadata": {},
     "output_type": "execute_result"
    },
    {
     "data": {
      "text/plain": [
       "'success: content added from https://www.state.gov/secretary-antony-j-blinken-and-german-vice-chancellor-and-minister-for-economic-affairs-and-climate-action-robert-habeck-before-their-meeting/'"
      ]
     },
     "execution_count": 19,
     "metadata": {},
     "output_type": "execute_result"
    },
    {
     "data": {
      "text/plain": [
       "'success: content added from https://www.state.gov/luxembourg-national-day/'"
      ]
     },
     "execution_count": 19,
     "metadata": {},
     "output_type": "execute_result"
    },
    {
     "data": {
      "text/plain": [
       "'success: content added from https://www.state.gov/devastating-earthquake-in-afghanistan/'"
      ]
     },
     "execution_count": 19,
     "metadata": {},
     "output_type": "execute_result"
    },
    {
     "data": {
      "text/plain": [
       "'success: content added from https://www.state.gov/secretary-antony-j-blinken-at-the-congress-bundestag-youth-exchange-welcome-home-event/'"
      ]
     },
     "execution_count": 19,
     "metadata": {},
     "output_type": "execute_result"
    },
    {
     "data": {
      "text/plain": [
       "'success: content added from https://www.state.gov/implementation-of-the-uyghur-forced-labor-prevention-act/'"
      ]
     },
     "execution_count": 19,
     "metadata": {},
     "output_type": "execute_result"
    },
    {
     "data": {
      "text/plain": [
       "'success: content added from https://www.state.gov/three-seas-initiative-summit/'"
      ]
     },
     "execution_count": 19,
     "metadata": {},
     "output_type": "execute_result"
    },
    {
     "data": {
      "text/plain": [
       "'success: content added from https://www.state.gov/remarks-at-the-annual-tripartite-consultations-on-resettlement/'"
      ]
     },
     "execution_count": 19,
     "metadata": {},
     "output_type": "execute_result"
    },
    {
     "data": {
      "text/plain": [
       "'success: content added from https://www.state.gov/commemorating-world-refugee-day-2022/'"
      ]
     },
     "execution_count": 19,
     "metadata": {},
     "output_type": "execute_result"
    },
    {
     "data": {
      "text/plain": [
       "'success: content added from https://www.state.gov/the-colombian-election/'"
      ]
     },
     "execution_count": 19,
     "metadata": {},
     "output_type": "execute_result"
    },
    {
     "data": {
      "text/plain": [
       "'success: content added from https://www.state.gov/advancing-peace-and-eliminating-sexual-violence-in-conflict/'"
      ]
     },
     "execution_count": 19,
     "metadata": {},
     "output_type": "execute_result"
    },
    {
     "data": {
      "text/plain": [
       "'success: content added from https://www.state.gov/secretary-antony-j-blinken-at-a-pride-reception/'"
      ]
     },
     "execution_count": 19,
     "metadata": {},
     "output_type": "execute_result"
    },
    {
     "data": {
      "text/plain": [
       "'success: content added from https://www.state.gov/secretary-antony-j-blinken-and-senegalese-foreign-minister-aissata-tall-sall-before-their-meeting-2/'"
      ]
     },
     "execution_count": 19,
     "metadata": {},
     "output_type": "execute_result"
    },
    {
     "data": {
      "text/plain": [
       "'success: content added from https://www.state.gov/icelands-national-day-2/'"
      ]
     },
     "execution_count": 19,
     "metadata": {},
     "output_type": "execute_result"
    },
    {
     "data": {
      "text/plain": [
       "'success: content added from https://www.state.gov/remarks-at-a-diplomatic-corps-reception/'"
      ]
     },
     "execution_count": 19,
     "metadata": {},
     "output_type": "execute_result"
    },
    {
     "data": {
      "text/plain": [
       "'success: content added from https://www.state.gov/state-department-takes-steps-to-impose-visa-restrictions-against-cuban-officials/'"
      ]
     },
     "execution_count": 19,
     "metadata": {},
     "output_type": "execute_result"
    },
    {
     "data": {
      "text/plain": [
       "'success: content added from https://www.state.gov/targeting-a-sanctions-evasion-network-supporting-iranian-petrochemical-sales/'"
      ]
     },
     "execution_count": 19,
     "metadata": {},
     "output_type": "execute_result"
    },
    {
     "data": {
      "text/plain": [
       "'success: content added from https://www.state.gov/secretary-antony-j-blinken-and-colombian-president-ivan-duque-marquez-at-the-200th-anniversary-of-u-s-colombian-relations-celebration/'"
      ]
     },
     "execution_count": 19,
     "metadata": {},
     "output_type": "execute_result"
    },
    {
     "data": {
      "text/plain": [
       "'success: content added from https://www.state.gov/1-billion-of-new-u-s-military-assistance-for-ukraine/'"
      ]
     },
     "execution_count": 19,
     "metadata": {},
     "output_type": "execute_result"
    },
    {
     "data": {
      "text/plain": [
       "'success: content added from https://www.state.gov/secretary-antony-j-blinken-at-the-covid-19-global-action-plan-meeting/'"
      ]
     },
     "execution_count": 19,
     "metadata": {},
     "output_type": "execute_result"
    },
    {
     "data": {
      "text/plain": [
       "'success: content added from https://www.state.gov/secretary-antony-j-blinken-with-judy-woodruff-of-pbs-newshour-2/'"
      ]
     },
     "execution_count": 19,
     "metadata": {},
     "output_type": "execute_result"
    },
    {
     "data": {
      "text/plain": [
       "'success: content added from https://www.state.gov/welcoming-dr-john-nkengasong-as-u-s-global-aids-coordinator/'"
      ]
     },
     "execution_count": 19,
     "metadata": {},
     "output_type": "execute_result"
    },
    {
     "data": {
      "text/plain": [
       "'success: content added from https://www.state.gov/visa-restrictions-on-ortega-murillo-regime-officials-for-undermining-democracy/'"
      ]
     },
     "execution_count": 19,
     "metadata": {},
     "output_type": "execute_result"
    },
    {
     "data": {
      "text/plain": [
       "'success: content added from https://www.state.gov/russias-national-day/'"
      ]
     },
     "execution_count": 19,
     "metadata": {},
     "output_type": "execute_result"
    },
    {
     "data": {
      "text/plain": [
       "'success: content added from https://www.state.gov/secretary-antony-j-blinken-press-availability-at-the-summit-of-americas/'"
      ]
     },
     "execution_count": 19,
     "metadata": {},
     "output_type": "execute_result"
    },
    {
     "data": {
      "text/plain": [
       "'success: content added from https://www.state.gov/secretary-antony-j-blinken-at-a-working-lunch-with-the-joint-summit-working-group/'"
      ]
     },
     "execution_count": 19,
     "metadata": {},
     "output_type": "execute_result"
    },
    {
     "data": {
      "text/plain": [
       "'success: content added from https://www.state.gov/secretary-antony-j-blinken-with-mexican-foreign-secretary-marcelo-ebrard-and-canadian-foreign-minister-melanie-joly/'"
      ]
     },
     "execution_count": 19,
     "metadata": {},
     "output_type": "execute_result"
    },
    {
     "data": {
      "text/plain": [
       "'success: content added from https://www.state.gov/philippines-national-day-2/'"
      ]
     },
     "execution_count": 19,
     "metadata": {},
     "output_type": "execute_result"
    },
    {
     "data": {
      "text/plain": [
       "'success: content added from https://www.state.gov/the-anniversary-of-the-day-of-portugal-camoes-and-portuguese-communities/'"
      ]
     },
     "execution_count": 19,
     "metadata": {},
     "output_type": "execute_result"
    },
    {
     "data": {
      "text/plain": [
       "'success: content added from https://www.state.gov/secretary-antony-j-blinken-second-gentleman-douglas-emhoff-speaker-of-the-house-nancy-pelosi-and-los-angeles-museum-of-art-director-michael-govan-at-a-summit-of-the-americas-reception-for-foreig/'"
      ]
     },
     "execution_count": 19,
     "metadata": {},
     "output_type": "execute_result"
    },
    {
     "data": {
      "text/plain": [
       "'success: content added from https://www.state.gov/secretary-antony-j-blinken-with-jorge-ramos-of-televisaunivision/'"
      ]
     },
     "execution_count": 19,
     "metadata": {},
     "output_type": "execute_result"
    },
    {
     "data": {
      "text/plain": [
       "'success: content added from https://www.state.gov/the-iaea-board-of-governors-resolution-on-iran/'"
      ]
     },
     "execution_count": 19,
     "metadata": {},
     "output_type": "execute_result"
    },
    {
     "data": {
      "text/plain": [
       "'success: content added from https://www.state.gov/secretary-antony-j-blinken-panel-discussion-with-canadian-foreign-minister-melanie-joly-panamanian-foreign-minister-erika-mouynes-and-civil-society-representatives-at-the-civil-society-forum/'"
      ]
     },
     "execution_count": 19,
     "metadata": {},
     "output_type": "execute_result"
    },
    {
     "data": {
      "text/plain": [
       "'success: content added from https://www.state.gov/secretary-antony-j-blinken-with-daniela-barragan-and-alejandro-paez-of-sinembargo-al-aire-on-youtube/'"
      ]
     },
     "execution_count": 19,
     "metadata": {},
     "output_type": "execute_result"
    },
    {
     "data": {
      "text/plain": [
       "'success: content added from https://www.state.gov/u-s-support-for-the-un-plan-to-address-the-imminent-threat-to-the-red-sea-ecosystem-from-the-fso-safer-in-yemen/'"
      ]
     },
     "execution_count": 19,
     "metadata": {},
     "output_type": "execute_result"
    },
    {
     "data": {
      "text/plain": [
       "'success: content added from https://www.state.gov/secretary-antony-j-blinken-and-secretary-general-of-the-organization-of-american-states-luis-almagro-at-a-meeting-of-the-summit-implementation-review-group/'"
      ]
     },
     "execution_count": 19,
     "metadata": {},
     "output_type": "execute_result"
    },
    {
     "data": {
      "text/plain": [
       "'success: content added from https://www.state.gov/world-ocean-day/'"
      ]
     },
     "execution_count": 19,
     "metadata": {},
     "output_type": "execute_result"
    },
    {
     "data": {
      "text/plain": [
       "'success: content added from https://www.state.gov/secretary-antony-j-blinken-with-executive-vice-president-and-head-of-international-affairs-at-the-u-s-chamber-of-commerce-myron-brillant-at-the-ceo-summit-of-the-americas/'"
      ]
     },
     "execution_count": 19,
     "metadata": {},
     "output_type": "execute_result"
    },
    {
     "data": {
      "text/plain": [
       "'success: content added from https://www.state.gov/secretary-antony-j-blinken-with-juan-carlos-lopez-of-cnn-en-espanol-2/'"
      ]
     },
     "execution_count": 19,
     "metadata": {},
     "output_type": "execute_result"
    },
    {
     "data": {
      "text/plain": [
       "'success: content added from https://www.state.gov/secretary-antony-j-blinken-panel-discussion-at-the-media-summit-of-americas-session-a-commitment-to-journalistic-freedom/'"
      ]
     },
     "execution_count": 19,
     "metadata": {},
     "output_type": "execute_result"
    },
    {
     "data": {
      "text/plain": [
       "'success: content added from https://www.state.gov/secretary-antony-j-blinken-remarks-at-the-inter-american-dialogue-mayors-workshop/'"
      ]
     },
     "execution_count": 19,
     "metadata": {},
     "output_type": "execute_result"
    },
    {
     "data": {
      "text/plain": [
       "'success: content added from https://www.state.gov/humanitarian-assistance-to-communities-in-northern-ethiopia/'"
      ]
     },
     "execution_count": 19,
     "metadata": {},
     "output_type": "execute_result"
    },
    {
     "data": {
      "text/plain": [
       "'success: content added from https://www.state.gov/secretary-antony-j-blinken-remarks-at-the-economic-and-health-dialogue-of-the-americas/'"
      ]
     },
     "execution_count": 19,
     "metadata": {},
     "output_type": "execute_result"
    },
    {
     "data": {
      "text/plain": [
       "'success: content added from https://www.state.gov/secretary-antony-j-blinken-with-maria-ressa-on-digital-diplomacy-and-human-rights-online/'"
      ]
     },
     "execution_count": 19,
     "metadata": {},
     "output_type": "execute_result"
    },
    {
     "data": {
      "text/plain": [
       "'success: content added from https://www.state.gov/secretary-antony-j-blinken-and-secretary-thomas-j-vilsack-opening-remarks-at-a-virtual-roundtable-discussion-on-food-security-issues-arising-from-russias-invasion-of-ukraine/'"
      ]
     },
     "execution_count": 19,
     "metadata": {},
     "output_type": "execute_result"
    },
    {
     "data": {
      "text/plain": [
       "'success: content added from https://www.state.gov/secretary-antony-j-blinken-and-qatari-deputy-prime-minister-and-foreign-minister-mohammed-bin-abdulrahman-al-thani-before-their-meeting/'"
      ]
     },
     "execution_count": 19,
     "metadata": {},
     "output_type": "execute_result"
    },
    {
     "data": {
      "text/plain": [
       "'success: content added from https://www.state.gov/designation-of-officials-in-bosnia-and-herzegovina-for-anti-dayton-behavior/'"
      ]
     },
     "execution_count": 19,
     "metadata": {},
     "output_type": "execute_result"
    },
    {
     "data": {
      "text/plain": [
       "'success: content added from https://www.state.gov/sweden-national-day/'"
      ]
     },
     "execution_count": 19,
     "metadata": {},
     "output_type": "execute_result"
    },
    {
     "data": {
      "text/plain": [
       "'success: content added from https://www.state.gov/denmarks-constitution-day-2/'"
      ]
     },
     "execution_count": 19,
     "metadata": {},
     "output_type": "execute_result"
    },
    {
     "data": {
      "text/plain": [
       "'success: content added from https://www.state.gov/the-33rd-anniversary-of-tiananmen-square/'"
      ]
     },
     "execution_count": 19,
     "metadata": {},
     "output_type": "execute_result"
    },
    {
     "data": {
      "text/plain": [
       "'success: content added from https://www.state.gov/u-s-leadership-in-bridging-the-digital-divides/'"
      ]
     },
     "execution_count": 19,
     "metadata": {},
     "output_type": "execute_result"
    },
    {
     "data": {
      "text/plain": [
       "'success: content added from https://www.state.gov/secretary-antony-j-blinken-and-danish-foreign-minister-jeppe-kofod-before-their-meeting/'"
      ]
     },
     "execution_count": 19,
     "metadata": {},
     "output_type": "execute_result"
    },
    {
     "data": {
      "text/plain": [
       "'success: content added from https://www.state.gov/one-hundred-days-of-the-kremlins-war-against-ukraine/'"
      ]
     },
     "execution_count": 19,
     "metadata": {},
     "output_type": "execute_result"
    },
    {
     "data": {
      "text/plain": [
       "'success: content added from https://www.state.gov/secretary-antony-j-blinken-and-north-macedonian-foreign-minister-bujar-osmani-before-their-meeting/'"
      ]
     },
     "execution_count": 19,
     "metadata": {},
     "output_type": "execute_result"
    },
    {
     "data": {
      "text/plain": [
       "'success: content added from https://www.state.gov/secretary-antony-j-blinken-and-ambassador-at-large-for-international-religious-freedom-rashad-hussain-on-the-2021-report-on-international-religious-freedom/'"
      ]
     },
     "execution_count": 19,
     "metadata": {},
     "output_type": "execute_result"
    },
    {
     "data": {
      "text/plain": [
       "'success: content added from https://www.state.gov/the-united-states-welcomes-the-truce-extension-in-yemen/'"
      ]
     },
     "execution_count": 19,
     "metadata": {},
     "output_type": "execute_result"
    },
    {
     "data": {
      "text/plain": [
       "'success: content added from https://www.state.gov/targeting-russias-oligarchs-and-vessels/'"
      ]
     },
     "execution_count": 19,
     "metadata": {},
     "output_type": "execute_result"
    },
    {
     "data": {
      "text/plain": [
       "'success: content added from https://www.state.gov/u-s-action-plan-on-global-water-security/'"
      ]
     },
     "execution_count": 19,
     "metadata": {},
     "output_type": "execute_result"
    },
    {
     "data": {
      "text/plain": [
       "'success: content added from https://www.state.gov/on-the-occasion-of-her-majesty-queen-elizabeth-iis-platinum-jubilee-and-official-birthday/'"
      ]
     },
     "execution_count": 19,
     "metadata": {},
     "output_type": "execute_result"
    },
    {
     "data": {
      "text/plain": [
       "'success: content added from https://www.state.gov/the-anniversary-of-the-founding-of-the-italian-republic/'"
      ]
     },
     "execution_count": 19,
     "metadata": {},
     "output_type": "execute_result"
    },
    {
     "data": {
      "text/plain": [
       "'success: content added from https://www.state.gov/secretary-antony-j-blinken-and-democratic-republic-of-congo-foreign-minister-christophe-lutundula-before-their-meeting/'"
      ]
     },
     "execution_count": 19,
     "metadata": {},
     "output_type": "execute_result"
    },
    {
     "data": {
      "text/plain": [
       "'success: content added from https://www.state.gov/secretary-antony-j-blinken-at-the-foreign-affairs-magazine-centennial-celebration/'"
      ]
     },
     "execution_count": 19,
     "metadata": {},
     "output_type": "execute_result"
    },
    {
     "data": {
      "text/plain": [
       "'success: content added from https://www.state.gov/secretary-antony-j-blinken-and-nato-secretary-general-stoltenberg-at-a-joint-press-availability/'"
      ]
     },
     "execution_count": 19,
     "metadata": {},
     "output_type": "execute_result"
    },
    {
     "data": {
      "text/plain": [
       "'success: content added from https://www.state.gov/700-million-drawdown-of-new-u-s-military-assistance-for-ukraine/'"
      ]
     },
     "execution_count": 19,
     "metadata": {},
     "output_type": "execute_result"
    },
    {
     "data": {
      "text/plain": [
       "'success: content added from https://www.state.gov/commemorating-pride-month/'"
      ]
     },
     "execution_count": 19,
     "metadata": {},
     "output_type": "execute_result"
    },
    {
     "data": {
      "text/plain": [
       "'success: content added from https://www.state.gov/special-envoy-for-the-horn-of-africa-2/'"
      ]
     },
     "execution_count": 19,
     "metadata": {},
     "output_type": "execute_result"
    },
    {
     "data": {
      "text/plain": [
       "'success: content added from https://www.state.gov/samoa-independence-day-2/'"
      ]
     },
     "execution_count": 19,
     "metadata": {},
     "output_type": "execute_result"
    },
    {
     "data": {
      "text/plain": [
       "'success: content added from https://www.state.gov/croatia-statehood-day-2/'"
      ]
     },
     "execution_count": 19,
     "metadata": {},
     "output_type": "execute_result"
    },
    {
     "data": {
      "text/plain": [
       "'success: content added from https://www.state.gov/concerns-with-un-high-commissioner-for-human-rights-visit-to-the-peoples-republic-of-china/'"
      ]
     },
     "execution_count": 19,
     "metadata": {},
     "output_type": "execute_result"
    },
    {
     "data": {
      "text/plain": [
       "'success: content added from https://www.state.gov/azerbaijans-national-day/'"
      ]
     },
     "execution_count": 19,
     "metadata": {},
     "output_type": "execute_result"
    },
    {
     "data": {
      "text/plain": [
       "'success: content added from https://www.state.gov/united-states-targets-the-dprks-ballistic-missile-and-weapons-of-mass-destruction-programs/'"
      ]
     },
     "execution_count": 19,
     "metadata": {},
     "output_type": "execute_result"
    },
    {
     "data": {
      "text/plain": [
       "'success: content added from https://www.state.gov/secretary-antony-j-blinken-and-finnish-foreign-minister-pekka-haavisto-at-a-joint-press-availability/'"
      ]
     },
     "execution_count": 19,
     "metadata": {},
     "output_type": "execute_result"
    },
    {
     "data": {
      "text/plain": [
       "'success: content added from https://www.state.gov/international-day-of-un-peacekeepers/'"
      ]
     },
     "execution_count": 19,
     "metadata": {},
     "output_type": "execute_result"
    },
    {
     "data": {
      "text/plain": [
       "'success: content added from https://www.state.gov/secretary-antony-j-blinken-remarks-at-a-reception-in-recognition-of-eid/'"
      ]
     },
     "execution_count": 19,
     "metadata": {},
     "output_type": "execute_result"
    },
    {
     "data": {
      "text/plain": [
       "'success: content added from https://www.state.gov/secretary-antony-j-blinken-and-angolan-foreign-minister-tete-antonio-before-their-meeting/'"
      ]
     },
     "execution_count": 19,
     "metadata": {},
     "output_type": "execute_result"
    },
    {
     "data": {
      "text/plain": [
       "'success: content added from https://www.state.gov/the-administrations-approach-to-the-peoples-republic-of-china/'"
      ]
     },
     "execution_count": 19,
     "metadata": {},
     "output_type": "execute_result"
    },
    {
     "data": {
      "text/plain": [
       "'success: content added from https://www.state.gov/guyana-national-day-2/'"
      ]
     },
     "execution_count": 19,
     "metadata": {},
     "output_type": "execute_result"
    },
    {
     "data": {
      "text/plain": [
       "'success: content added from https://www.state.gov/georgias-national-day-2/'"
      ]
     },
     "execution_count": 19,
     "metadata": {},
     "output_type": "execute_result"
    },
    {
     "data": {
      "text/plain": [
       "'success: content added from https://www.state.gov/secretary-antony-j-blinken-with-liz-landers-of-vice-news/'"
      ]
     },
     "execution_count": 19,
     "metadata": {},
     "output_type": "execute_result"
    },
    {
     "data": {
      "text/plain": [
       "'success: content added from https://www.state.gov/secretary-antony-j-blinken-and-organization-of-islamic-cooperation-secretary-general-hissein-brahim-taha-before-their-meeting/'"
      ]
     },
     "execution_count": 19,
     "metadata": {},
     "output_type": "execute_result"
    },
    {
     "data": {
      "text/plain": [
       "'success: content added from https://www.state.gov/launch-of-the-atrocity-crimes-advisory-group-aca-for-ukraine/'"
      ]
     },
     "execution_count": 19,
     "metadata": {},
     "output_type": "execute_result"
    },
    {
     "data": {
      "text/plain": [
       "'success: content added from https://www.state.gov/targeting-an-oil-smuggling-network-supporting-the-irgc-qf-and-hizballah/'"
      ]
     },
     "execution_count": 19,
     "metadata": {},
     "output_type": "execute_result"
    },
    {
     "data": {
      "text/plain": [
       "'success: content added from https://www.state.gov/on-the-occasion-of-the-state-of-eritreas-national-day/'"
      ]
     },
     "execution_count": 19,
     "metadata": {},
     "output_type": "execute_result"
    },
    {
     "data": {
      "text/plain": [
       "'success: content added from https://www.state.gov/secretary-antony-j-blinken-and-japanese-foreign-minister-hayashi-yoshimasa-before-their-meeting/'"
      ]
     },
     "execution_count": 19,
     "metadata": {},
     "output_type": "execute_result"
    },
    {
     "data": {
      "text/plain": [
       "'success: content added from https://www.state.gov/yemen-national-day-2/'"
      ]
     },
     "execution_count": 19,
     "metadata": {},
     "output_type": "execute_result"
    },
    {
     "data": {
      "text/plain": [
       "'success: content added from https://www.state.gov/australian-federal-election/'"
      ]
     },
     "execution_count": 19,
     "metadata": {},
     "output_type": "execute_result"
    },
    {
     "data": {
      "text/plain": [
       "'success: content added from https://www.state.gov/secretary-antony-j-blinken-at-the-graduation-commencement-ceremonies-for-the-georgetown-class-of-2022/'"
      ]
     },
     "execution_count": 19,
     "metadata": {},
     "output_type": "execute_result"
    },
    {
     "data": {
      "text/plain": [
       "'success: content added from https://www.state.gov/secretary-antony-j-blinken-and-kazakhstani-foreign-minister-mukhtar-tileuberdi-before-their-meeting/'"
      ]
     },
     "execution_count": 19,
     "metadata": {},
     "output_type": "execute_result"
    },
    {
     "data": {
      "text/plain": [
       "'success: content added from https://www.state.gov/cameroon-national-day-2/'"
      ]
     },
     "execution_count": 19,
     "metadata": {},
     "output_type": "execute_result"
    },
    {
     "data": {
      "text/plain": [
       "'success: content added from https://www.state.gov/secretary-antony-j-blinken-at-a-roundtable-on-humanitarian-assistance-in-ukraine/'"
      ]
     },
     "execution_count": 19,
     "metadata": {},
     "output_type": "execute_result"
    },
    {
     "data": {
      "text/plain": [
       "'success: content added from https://www.state.gov/secretary-antony-j-blinken-at-the-international-migration-review-forum/'"
      ]
     },
     "execution_count": 19,
     "metadata": {},
     "output_type": "execute_result"
    },
    {
     "data": {
      "text/plain": [
       "'success: content added from https://www.state.gov/100-million-in-additional-u-s-military-assistance-for-ukraine/'"
      ]
     },
     "execution_count": 19,
     "metadata": {},
     "output_type": "execute_result"
    },
    {
     "data": {
      "text/plain": [
       "'success: content added from https://www.state.gov/secretary-antony-j-blinken-at-the-unsc-meeting-on-food-insecurity-and-conflict/'"
      ]
     },
     "execution_count": 19,
     "metadata": {},
     "output_type": "execute_result"
    },
    {
     "data": {
      "text/plain": [
       "'success: content added from https://www.state.gov/secretary-antony-j-blinken-at-a-meeting-with-u-s-mission-to-the-united-nations-personnel/'"
      ]
     },
     "execution_count": 19,
     "metadata": {},
     "output_type": "execute_result"
    },
    {
     "data": {
      "text/plain": [
       "'success: content added from https://www.state.gov/secretary-antony-j-blinken-with-stephen-colbert/'"
      ]
     },
     "execution_count": 19,
     "metadata": {},
     "output_type": "execute_result"
    },
    {
     "data": {
      "text/plain": [
       "'success: content added from https://www.state.gov/20th-anniversary-of-timor-lestes-restoration-of-independence/'"
      ]
     },
     "execution_count": 19,
     "metadata": {},
     "output_type": "execute_result"
    },
    {
     "data": {
      "text/plain": [
       "'success: content added from https://www.state.gov/secretary-antony-j-blinken-at-the-food-security-ministerial/'"
      ]
     },
     "execution_count": 19,
     "metadata": {},
     "output_type": "execute_result"
    },
    {
     "data": {
      "text/plain": [
       "'success: content added from https://www.state.gov/secretary-antony-j-blinken-and-turkish-foreign-minister-mevlut-cavusoglu-before-their-meeting-3/'"
      ]
     },
     "execution_count": 19,
     "metadata": {},
     "output_type": "execute_result"
    },
    {
     "data": {
      "text/plain": [
       "'success: content added from https://www.state.gov/raising-the-flag-at-u-s-embassy-kyiv/'"
      ]
     },
     "execution_count": 19,
     "metadata": {},
     "output_type": "execute_result"
    },
    {
     "data": {
      "text/plain": [
       "'success: content added from https://www.state.gov/secretary-antony-j-blinken-and-pakistani-foreign-minister-bhutto-zardari-before-their-meeting/'"
      ]
     },
     "execution_count": 19,
     "metadata": {},
     "output_type": "execute_result"
    },
    {
     "data": {
      "text/plain": [
       "'success: content added from https://www.state.gov/possible-death-penalty-against-pro-democracy-activists-and-anti-war-protesters-in-belarus/'"
      ]
     },
     "execution_count": 19,
     "metadata": {},
     "output_type": "execute_result"
    },
    {
     "data": {
      "text/plain": [
       "'success: content added from https://www.state.gov/taiwan-as-an-observer-in-the-world-health-assembly/'"
      ]
     },
     "execution_count": 19,
     "metadata": {},
     "output_type": "execute_result"
    },
    {
     "data": {
      "text/plain": [
       "'success: content added from https://www.state.gov/secretary-antony-j-blinken-and-yemeni-foreign-minister-dr-ahmed-awad-bin-mubarak-before-their-meeting/'"
      ]
     },
     "execution_count": 19,
     "metadata": {},
     "output_type": "execute_result"
    },
    {
     "data": {
      "text/plain": [
       "'success: content added from https://www.state.gov/secretary-antony-j-blinken-and-greek-foreign-minister-nikos-dendias-before-their-meeting/'"
      ]
     },
     "execution_count": 19,
     "metadata": {},
     "output_type": "execute_result"
    },
    {
     "data": {
      "text/plain": [
       "'success: content added from https://www.state.gov/on-the-international-day-against-homophobia-biphopbia-interphobia-and-transphobia/'"
      ]
     },
     "execution_count": 19,
     "metadata": {},
     "output_type": "execute_result"
    },
    {
     "data": {
      "text/plain": [
       "'success: content added from https://www.state.gov/norway-national-day/'"
      ]
     },
     "execution_count": 19,
     "metadata": {},
     "output_type": "execute_result"
    },
    {
     "data": {
      "text/plain": [
       "'success: content added from https://www.state.gov/designation-of-attorney-general-maria-consuelo-porras-argueta-de-porres-for-involvement-in-significant-corruption-and-consideration-of-additional-designations/'"
      ]
     },
     "execution_count": 19,
     "metadata": {},
     "output_type": "execute_result"
    },
    {
     "data": {
      "text/plain": [
       "'success: content added from https://www.state.gov/somalias-presidential-elections/'"
      ]
     },
     "execution_count": 19,
     "metadata": {},
     "output_type": "execute_result"
    },
    {
     "data": {
      "text/plain": [
       "'success: content added from https://www.state.gov/welcoming-the-resumption-of-flights-between-sanaa-and-amman/'"
      ]
     },
     "execution_count": 19,
     "metadata": {},
     "output_type": "execute_result"
    },
    {
     "data": {
      "text/plain": [
       "'success: content added from https://www.state.gov/secretary-antony-j-blinken-at-a-press-availability-18/'"
      ]
     },
     "execution_count": 19,
     "metadata": {},
     "output_type": "execute_result"
    },
    {
     "data": {
      "text/plain": [
       "'success: content added from https://www.state.gov/the-succession-of-his-highness-sheikh-mohamed-bin-zayed-al-nahyan-to-president-of-the-uae/'"
      ]
     },
     "execution_count": 19,
     "metadata": {},
     "output_type": "execute_result"
    },
    {
     "data": {
      "text/plain": [
       "'success: content added from https://www.state.gov/paraguay-independence-day-2/'"
      ]
     },
     "execution_count": 19,
     "metadata": {},
     "output_type": "execute_result"
    },
    {
     "data": {
      "text/plain": [
       "'success: content added from https://www.state.gov/escalations-in-jerusalem-at-the-funeral-of-shireen-abu-akleh/'"
      ]
     },
     "execution_count": 19,
     "metadata": {},
     "output_type": "execute_result"
    },
    {
     "data": {
      "text/plain": [
       "'success: content added from https://www.state.gov/secretary-antony-j-blinken-and-cambodian-deputy-prime-minister-and-foreign-minister-prak-sokhonn/'"
      ]
     },
     "execution_count": 19,
     "metadata": {},
     "output_type": "execute_result"
    },
    {
     "data": {
      "text/plain": [
       "'success: content added from https://www.state.gov/secretary-antony-j-blinken-and-vietnamese-prime-minister-pham-minh-chinh-before-their-meeting/'"
      ]
     },
     "execution_count": 19,
     "metadata": {},
     "output_type": "execute_result"
    },
    {
     "data": {
      "text/plain": [
       "'success: content added from https://www.state.gov/secretary-antony-j-blinken-and-indonesian-foreign-minister-retno-marsudi-before-their-meeting-3/'"
      ]
     },
     "execution_count": 19,
     "metadata": {},
     "output_type": "execute_result"
    },
    {
     "data": {
      "text/plain": [
       "'success: content added from https://www.state.gov/condolences-on-the-passing-of-his-highness-sheikh-khalifa-bin-zayed-al-nahyan/'"
      ]
     },
     "execution_count": 19,
     "metadata": {},
     "output_type": "execute_result"
    },
    {
     "data": {
      "text/plain": [
       "'success: content added from https://www.state.gov/secretary-antony-j-blinken-virtual-opening-remarks-for-2nd-covid-summit-session-on-preventing-future-health-crises/'"
      ]
     },
     "execution_count": 19,
     "metadata": {},
     "output_type": "execute_result"
    },
    {
     "data": {
      "text/plain": [
       "'success: content added from https://www.state.gov/secretary-antony-j-blinken-and-thai-deputy-prime-minister-and-foreign-minister-don-pramudwinai-before-their-meeting-2/'"
      ]
     },
     "execution_count": 19,
     "metadata": {},
     "output_type": "execute_result"
    },
    {
     "data": {
      "text/plain": [
       "'success: content added from https://www.state.gov/the-philippine-presidential-election/'"
      ]
     },
     "execution_count": 19,
     "metadata": {},
     "output_type": "execute_result"
    },
    {
     "data": {
      "text/plain": [
       "'success: content added from https://www.state.gov/u-s-announces-additional-humanitarian-assistance-for-the-syria-crisis-response-2/'"
      ]
     },
     "execution_count": 19,
     "metadata": {},
     "output_type": "execute_result"
    },
    {
     "data": {
      "text/plain": [
       "'success: content added from https://www.state.gov/attribution-of-russias-malicious-cyber-activity-against-ukraine/'"
      ]
     },
     "execution_count": 19,
     "metadata": {},
     "output_type": "execute_result"
    },
    {
     "data": {
      "text/plain": [
       "'success: content added from https://www.state.gov/designating-an-international-isis-network-of-financial-facilitators/'"
      ]
     },
     "execution_count": 19,
     "metadata": {},
     "output_type": "execute_result"
    },
    {
     "data": {
      "text/plain": [
       "'success: content added from https://www.state.gov/europe-day/'"
      ]
     },
     "execution_count": 19,
     "metadata": {},
     "output_type": "execute_result"
    },
    {
     "data": {
      "text/plain": [
       "'success: content added from https://www.state.gov/commemorating-the-80th-anniversary-of-the-battle-of-coral-sea/'"
      ]
     },
     "execution_count": 19,
     "metadata": {},
     "output_type": "execute_result"
    },
    {
     "data": {
      "text/plain": [
       "'success: content added from https://www.state.gov/targeting-russias-financial-defense-and-marine-sectors-and-promoting-accountability-for-russian-and-belarusian-military-officials/'"
      ]
     },
     "execution_count": 19,
     "metadata": {},
     "output_type": "execute_result"
    },
    {
     "data": {
      "text/plain": [
       "'success: content added from https://www.state.gov/on-the-77th-anniversary-of-victory-in-europe-day/'"
      ]
     },
     "execution_count": 19,
     "metadata": {},
     "output_type": "execute_result"
    },
    {
     "data": {
      "text/plain": [
       "'success: content added from https://www.state.gov/150-million-in-additional-u-s-military-assistance-for-ukraine/'"
      ]
     },
     "execution_count": 19,
     "metadata": {},
     "output_type": "execute_result"
    },
    {
     "data": {
      "text/plain": [
       "'success: content added from https://www.state.gov/the-democratic-peoples-republic-of-koreas-illicit-activities-and-sanctions-evasion/'"
      ]
     },
     "execution_count": 19,
     "metadata": {},
     "output_type": "execute_result"
    },
    {
     "data": {
      "text/plain": [
       "'success: content added from https://www.state.gov/terrorist-attack-in-elad-israel/'"
      ]
     },
     "execution_count": 19,
     "metadata": {},
     "output_type": "execute_result"
    },
    {
     "data": {
      "text/plain": [
       "'success: content added from https://www.state.gov/welcoming-dr-cary-fowler-as-special-envoy-for-global-food-security/'"
      ]
     },
     "execution_count": 19,
     "metadata": {},
     "output_type": "execute_result"
    },
    {
     "data": {
      "text/plain": [
       "'success: content added from https://www.state.gov/israel-national-day/'"
      ]
     },
     "execution_count": 19,
     "metadata": {},
     "output_type": "execute_result"
    },
    {
     "data": {
      "text/plain": [
       "'success: content added from https://www.state.gov/secretary-antony-j-blinken-and-swedish-foreign-minister-ann-linde-before-their-meeting-2/'"
      ]
     },
     "execution_count": 19,
     "metadata": {},
     "output_type": "execute_result"
    },
    {
     "data": {
      "text/plain": [
       "'success: content added from https://www.state.gov/secretary-antony-j-blinken-keynote-remarks-at-the-52nd-annual-conference-on-the-americas-luncheon/'"
      ]
     },
     "execution_count": 19,
     "metadata": {},
     "output_type": "execute_result"
    },
    {
     "data": {
      "text/plain": [
       "'success: content added from https://www.state.gov/secretary-antony-j-blinken-and-mexican-foreign-secretary-marcelo-ebrard-before-their-meeting-2/'"
      ]
     },
     "execution_count": 19,
     "metadata": {},
     "output_type": "execute_result"
    },
    {
     "data": {
      "text/plain": [
       "'success: content added from https://www.state.gov/briefings-foreign-press-centers/world-press-freedom-day-2022-state-of-world-press-freedom'"
      ]
     },
     "execution_count": 19,
     "metadata": {},
     "output_type": "execute_result"
    },
    {
     "data": {
      "text/plain": [
       "'success: content added from https://www.state.gov/polands-national-day/'"
      ]
     },
     "execution_count": 19,
     "metadata": {},
     "output_type": "execute_result"
    },
    {
     "data": {
      "text/plain": [
       "'success: content added from https://www.state.gov/secretary-antony-j-blinken-and-armenian-foreign-minister-ararat-mirzoyan-at-a-signing-ceremony-for-a-memorandum-of-understanding-concerning-strategic-civil-nuclear-cooperation/'"
      ]
     },
     "execution_count": 19,
     "metadata": {},
     "output_type": "execute_result"
    },
    {
     "data": {
      "text/plain": [
       "'success: content added from https://www.state.gov/in-celebration-of-asian-american-native-hawaiian-and-pacific-islander-heritage-month/'"
      ]
     },
     "execution_count": 19,
     "metadata": {},
     "output_type": "execute_result"
    },
    {
     "data": {
      "text/plain": [
       "'success: content added from https://www.state.gov/on-the-occasion-of-eid-al-fitr-2/'"
      ]
     },
     "execution_count": 19,
     "metadata": {},
     "output_type": "execute_result"
    },
    {
     "data": {
      "text/plain": [
       "'success: content added from https://www.state.gov/building-on-steps-to-end-the-conflict-in-ethiopia/'"
      ]
     },
     "execution_count": 19,
     "metadata": {},
     "output_type": "execute_result"
    },
    {
     "data": {
      "text/plain": [
       "'success: content added from https://www.state.gov/twenty-fifth-anniversary-of-the-chemical-weapons-conventions-entry-into-force/'"
      ]
     },
     "execution_count": 19,
     "metadata": {},
     "output_type": "execute_result"
    },
    {
     "data": {
      "text/plain": [
       "'success: content added from https://www.state.gov/republic-of-the-marshall-islands-national-day/'"
      ]
     },
     "execution_count": 19,
     "metadata": {},
     "output_type": "execute_result"
    },
    {
     "data": {
      "text/plain": [
       "'success: content added from https://www.state.gov/opening-remarks-by-secretary-antony-j-blinken-before-the-house-committee-on-foreign-affairs-2/'"
      ]
     },
     "execution_count": 19,
     "metadata": {},
     "output_type": "execute_result"
    },
    {
     "data": {
      "text/plain": [
       "'success: content added from https://www.state.gov/opening-remarks-by-secretary-antony-j-blinken-before-the-house-subcommittee-on-state-foreign-operations-and-related-programs/'"
      ]
     },
     "execution_count": 19,
     "metadata": {},
     "output_type": "execute_result"
    },
    {
     "data": {
      "text/plain": [
       "'success: content added from https://www.state.gov/commemorating-the-day-of-holocaust-remembrance/'"
      ]
     },
     "execution_count": 19,
     "metadata": {},
     "output_type": "execute_result"
    },
    {
     "data": {
      "text/plain": [
       "'success: content added from https://www.state.gov/release-of-the-first-annual-interagency-report-on-the-implementation-of-the-presidential-memorandum-on-advancing-the-human-rights-of-lgbtqi-persons-around-the-world/'"
      ]
     },
     "execution_count": 19,
     "metadata": {},
     "output_type": "execute_result"
    },
    {
     "data": {
      "text/plain": [
       "'success: content added from https://www.state.gov/secretary-antony-j-blinken-opening-remarks-before-the-senate-committee-on-appropriations-subcommittee-on-state-foreign-operations-and-related-programs/'"
      ]
     },
     "execution_count": 19,
     "metadata": {},
     "output_type": "execute_result"
    },
    {
     "data": {
      "text/plain": [
       "'success: content added from https://www.state.gov/release-of-u-s-citizen-trevor-reed-from-russia/'"
      ]
     },
     "execution_count": 19,
     "metadata": {},
     "output_type": "execute_result"
    },
    {
     "data": {
      "text/plain": [
       "'success: content added from https://www.state.gov/netherlands-national-day/'"
      ]
     },
     "execution_count": 19,
     "metadata": {},
     "output_type": "execute_result"
    },
    {
     "data": {
      "text/plain": [
       "'success: content added from https://www.state.gov/togos-national-day-2/'"
      ]
     },
     "execution_count": 19,
     "metadata": {},
     "output_type": "execute_result"
    },
    {
     "data": {
      "text/plain": [
       "'success: content added from https://www.state.gov/sierra-leone-national-day-2/'"
      ]
     },
     "execution_count": 19,
     "metadata": {},
     "output_type": "execute_result"
    },
    {
     "data": {
      "text/plain": [
       "'success: content added from https://www.state.gov/south-african-freedom-day-2/'"
      ]
     },
     "execution_count": 19,
     "metadata": {},
     "output_type": "execute_result"
    },
    {
     "data": {
      "text/plain": [
       "'success: content added from https://www.state.gov/secretary-antony-j-blinken-and-czech-republic-foreign-minister-jan-lipavsky-before-their-meeting/'"
      ]
     },
     "execution_count": 19,
     "metadata": {},
     "output_type": "execute_result"
    },
    {
     "data": {
      "text/plain": [
       "'success: content added from https://www.state.gov/opening-remarks-by-secretary-antony-j-blinken-before-the-senate-foreign-relations-committee-2/'"
      ]
     },
     "execution_count": 19,
     "metadata": {},
     "output_type": "execute_result"
    },
    {
     "data": {
      "text/plain": [
       "'success: content added from https://www.state.gov/tanzania-union-day-2/'"
      ]
     },
     "execution_count": 19,
     "metadata": {},
     "output_type": "execute_result"
    },
    {
     "data": {
      "text/plain": [
       "'success: content added from https://www.state.gov/secretary-antony-j-blinken-and-secretary-lloyd-austin-remarks-to-traveling-press/'"
      ]
     },
     "execution_count": 19,
     "metadata": {},
     "output_type": "execute_result"
    },
    {
     "data": {
      "text/plain": [
       "'success: content added from https://www.state.gov/signstate-symposium/'"
      ]
     },
     "execution_count": 19,
     "metadata": {},
     "output_type": "execute_result"
    },
    {
     "data": {
      "text/plain": [
       "'success: content added from https://www.state.gov/secretary-antony-j-blinken-and-ukrainian-prime-minister-denys-shmyhal-before-their-meeting-2/'"
      ]
     },
     "execution_count": 19,
     "metadata": {},
     "output_type": "execute_result"
    },
    {
     "data": {
      "text/plain": [
       "'success: content added from https://www.state.gov/earth-day-2022/'"
      ]
     },
     "execution_count": 19,
     "metadata": {},
     "output_type": "execute_result"
    },
    {
     "data": {
      "text/plain": [
       "'success: content added from https://www.state.gov/delivery-of-humanitarian-assistance-in-tigray/'"
      ]
     },
     "execution_count": 19,
     "metadata": {},
     "output_type": "execute_result"
    },
    {
     "data": {
      "text/plain": [
       "'success: content added from https://www.state.gov/secretary-antony-j-blinken-virtual-remarks-on-21st-century-diplomacy-and-global-challenges-the-gerald-r-ford-school-of-public-policy-at-the-university-of-michigan/'"
      ]
     },
     "execution_count": 19,
     "metadata": {},
     "output_type": "execute_result"
    },
    {
     "data": {
      "text/plain": [
       "'success: content added from https://www.state.gov/secretary-antony-j-blinken-and-dutch-foreign-minister-wopke-hoekstra-before-their-meeting/'"
      ]
     },
     "execution_count": 19,
     "metadata": {},
     "output_type": "execute_result"
    },
    {
     "data": {
      "text/plain": [
       "'success: content added from https://www.state.gov/the-department-of-states-plan-to-advance-racial-equity-and-support-for-underserved-communities-in-foreign-affairs/'"
      ]
     },
     "execution_count": 19,
     "metadata": {},
     "output_type": "execute_result"
    },
    {
     "data": {
      "text/plain": [
       "'success: content added from https://www.state.gov/head-of-the-office-of-sanctions-coordination/'"
      ]
     },
     "execution_count": 19,
     "metadata": {},
     "output_type": "execute_result"
    },
    {
     "data": {
      "text/plain": [
       "'success: content added from https://www.state.gov/800-million-in-additional-u-s-security-assistance-for-ukraine/'"
      ]
     },
     "execution_count": 19,
     "metadata": {},
     "output_type": "execute_result"
    },
    {
     "data": {
      "text/plain": [
       "'success: content added from https://www.state.gov/election-of-pakistan-prime-minister-shehbaz-sharif/'"
      ]
     },
     "execution_count": 19,
     "metadata": {},
     "output_type": "execute_result"
    },
    {
     "data": {
      "text/plain": [
       "'success: content added from https://www.state.gov/secretary-antony-j-blinken-and-egyptian-foreign-minister-sameh-shoukry-before-their-meeting-2/'"
      ]
     },
     "execution_count": 19,
     "metadata": {},
     "output_type": "execute_result"
    },
    {
     "data": {
      "text/plain": [
       "'success: content added from https://www.state.gov/secretary-antony-j-blinken-remarks-with-indian-external-affairs-minister-dr-s-jaishankar-as-part-of-the-u-s-india-higher-education-discussion/'"
      ]
     },
     "execution_count": 19,
     "metadata": {},
     "output_type": "execute_result"
    },
    {
     "data": {
      "text/plain": [
       "'success: content added from https://www.state.gov/secretary-antony-j-blinken-and-uruguayan-foreign-minister-francisco-bustillo-before-their-meeting/'"
      ]
     },
     "execution_count": 19,
     "metadata": {},
     "output_type": "execute_result"
    },
    {
     "data": {
      "text/plain": [
       "'success: content added from https://www.state.gov/secretary-antony-j-blinken-on-the-release-of-the-2021-country-reports-on-human-rights-practices/'"
      ]
     },
     "execution_count": 19,
     "metadata": {},
     "output_type": "execute_result"
    },
    {
     "data": {
      "text/plain": [
       "'success: content added from https://www.state.gov/secretary-antony-j-blinken-and-un-high-commissioner-for-refugees-filippo-grandi-before-their-meeting/'"
      ]
     },
     "execution_count": 19,
     "metadata": {},
     "output_type": "execute_result"
    },
    {
     "data": {
      "text/plain": [
       "'success: content added from https://www.state.gov/thailand-new-year-songkran/'"
      ]
     },
     "execution_count": 19,
     "metadata": {},
     "output_type": "execute_result"
    },
    {
     "data": {
      "text/plain": [
       "'success: content added from https://www.state.gov/lao-new-year-2022/'"
      ]
     },
     "execution_count": 19,
     "metadata": {},
     "output_type": "execute_result"
    },
    {
     "data": {
      "text/plain": [
       "'success: content added from https://www.state.gov/khmer-new-year-2022/'"
      ]
     },
     "execution_count": 19,
     "metadata": {},
     "output_type": "execute_result"
    },
    {
     "data": {
      "text/plain": [
       "'success: content added from https://www.state.gov/secretary-antony-j-blinken-secretary-of-defense-lloyd-austin-indian-minister-of-external-affairs-dr-s-jaishankar-and-indian-minister-of-defense-rajnath-singh-at-a-joint-press-availability/'"
      ]
     },
     "execution_count": 19,
     "metadata": {},
     "output_type": "execute_result"
    },
    {
     "data": {
      "text/plain": [
       "'success: content added from https://www.state.gov/secretary-antony-j-blinken-secretary-of-defense-lloyd-austin-indian-minister-of-external-affairs-dr-s-jaishankar-and-indian-minister-of-defense-rajnath-singh-opening-remarks-at-the-u-s-india-22/'"
      ]
     },
     "execution_count": 19,
     "metadata": {},
     "output_type": "execute_result"
    },
    {
     "data": {
      "text/plain": [
       "'success: content added from https://www.state.gov/burma-new-year-2022-thingyan-festival/'"
      ]
     },
     "execution_count": 19,
     "metadata": {},
     "output_type": "execute_result"
    },
    {
     "data": {
      "text/plain": [
       "'success: content added from https://www.state.gov/violence-and-threats-to-free-speech-in-el-salvador/'"
      ]
     },
     "execution_count": 19,
     "metadata": {},
     "output_type": "execute_result"
    },
    {
     "data": {
      "text/plain": [
       "'success: content added from https://www.state.gov/international-roma-day-2/'"
      ]
     },
     "execution_count": 19,
     "metadata": {},
     "output_type": "execute_result"
    },
    {
     "data": {
      "text/plain": [
       "'success: content added from https://www.state.gov/further-targeting-russian-state-owned-enterprises/'"
      ]
     },
     "execution_count": 19,
     "metadata": {},
     "output_type": "execute_result"
    },
    {
     "data": {
      "text/plain": [
       "'success: content added from https://www.state.gov/terrorist-attack-in-tel-aviv-israel/'"
      ]
     },
     "execution_count": 19,
     "metadata": {},
     "output_type": "execute_result"
    },
    {
     "data": {
      "text/plain": [
       "'success: content added from https://www.state.gov/russias-suspension-from-the-un-human-rights-council/'"
      ]
     },
     "execution_count": 19,
     "metadata": {},
     "output_type": "execute_result"
    },
    {
     "data": {
      "text/plain": [
       "'success: content added from https://www.state.gov/the-united-states-welcomes-government-reform-in-yemen/'"
      ]
     },
     "execution_count": 19,
     "metadata": {},
     "output_type": "execute_result"
    },
    {
     "data": {
      "text/plain": [
       "'success: content added from https://www.state.gov/secretary-antony-j-blinken-press-availability-at-the-meeting-of-nato-foreign-ministers/'"
      ]
     },
     "execution_count": 19,
     "metadata": {},
     "output_type": "execute_result"
    },
    {
     "data": {
      "text/plain": [
       "'success: content added from https://www.state.gov/secretary-antony-j-blinken-and-japanese-foreign-minister-yoshimasa-hayashi-before-their-meeting-3/'"
      ]
     },
     "execution_count": 19,
     "metadata": {},
     "output_type": "execute_result"
    },
    {
     "data": {
      "text/plain": [
       "'success: content added from https://www.state.gov/secretary-antony-j-blinken-and-ukrainian-foreign-minister-dmytro-kuleba-before-their-meeting-3/'"
      ]
     },
     "execution_count": 19,
     "metadata": {},
     "output_type": "execute_result"
    },
    {
     "data": {
      "text/plain": [
       "'success: content added from https://www.state.gov/targeting-additional-russian-financial-institutions-officials-and-other-individuals/'"
      ]
     },
     "execution_count": 19,
     "metadata": {},
     "output_type": "execute_result"
    },
    {
     "data": {
      "text/plain": [
       "'success: content added from https://www.state.gov/secretary-antony-j-blinken-with-andrea-kalan-of-the-state-departments-russian-language-telegram-channel/'"
      ]
     },
     "execution_count": 19,
     "metadata": {},
     "output_type": "execute_result"
    },
    {
     "data": {
      "text/plain": [
       "'success: content added from https://www.state.gov/secretary-antony-j-blinken-and-nato-secretary-general-jens-stoltenberg-before-their-meeting-5/'"
      ]
     },
     "execution_count": 19,
     "metadata": {},
     "output_type": "execute_result"
    },
    {
     "data": {
      "text/plain": [
       "'success: content added from https://www.state.gov/50th-anniversary-of-the-biological-and-toxin-weapons-convention/'"
      ]
     },
     "execution_count": 19,
     "metadata": {},
     "output_type": "execute_result"
    },
    {
     "data": {
      "text/plain": [
       "'success: content added from https://www.state.gov/secretary-antony-j-blinken-with-andrea-mitchell-of-nbc/'"
      ]
     },
     "execution_count": 19,
     "metadata": {},
     "output_type": "execute_result"
    },
    {
     "data": {
      "text/plain": [
       "'success: content added from https://www.state.gov/secretary-antony-j-blinken-and-australian-foreign-minister-marise-payne-before-their-meeting-4/'"
      ]
     },
     "execution_count": 19,
     "metadata": {},
     "output_type": "execute_result"
    },
    {
     "data": {
      "text/plain": [
       "'success: content added from https://www.state.gov/100-million-in-additional-u-s-security-assistance-for-ukraine/'"
      ]
     },
     "execution_count": 19,
     "metadata": {},
     "output_type": "execute_result"
    },
    {
     "data": {
      "text/plain": [
       "'success: content added from https://www.state.gov/sanctions-on-darknet-market-and-ransomware-enabling-virtual-currency-exchange/'"
      ]
     },
     "execution_count": 19,
     "metadata": {},
     "output_type": "execute_result"
    },
    {
     "data": {
      "text/plain": [
       "'success: content added from https://www.state.gov/secretary-antony-j-blinken-before-departing-at-joint-base-andrews/'"
      ]
     },
     "execution_count": 19,
     "metadata": {},
     "output_type": "execute_result"
    },
    {
     "data": {
      "text/plain": [
       "'success: content added from https://www.state.gov/congratulations-to-costa-rican-president-elect-rodrigo-chaves/'"
      ]
     },
     "execution_count": 19,
     "metadata": {},
     "output_type": "execute_result"
    },
    {
     "data": {
      "text/plain": [
       "'success: content added from https://www.state.gov/secretary-antony-j-blinken-and-bangladeshi-foreign-minister-abdul-momen-before-their-meeting/'"
      ]
     },
     "execution_count": 19,
     "metadata": {},
     "output_type": "execute_result"
    },
    {
     "data": {
      "text/plain": [
       "'success: content added from https://www.state.gov/secretary-antony-j-blinken-at-the-unveiling-of-a-bronze-bust-in-honor-of-former-secretary-of-state-james-baker/'"
      ]
     },
     "execution_count": 19,
     "metadata": {},
     "output_type": "execute_result"
    },
    {
     "data": {
      "text/plain": [
       "'success: content added from https://www.state.gov/intergovernmental-panel-on-climate-change-report-on-mitigation/'"
      ]
     },
     "execution_count": 19,
     "metadata": {},
     "output_type": "execute_result"
    },
    {
     "data": {
      "text/plain": [
       "'success: content added from https://www.state.gov/senegal-national-day-2/'"
      ]
     },
     "execution_count": 19,
     "metadata": {},
     "output_type": "execute_result"
    },
    {
     "data": {
      "text/plain": [
       "'success: content added from https://www.state.gov/secretary-antony-j-blinken-with-chuck-todd-of-nbcs-meet-the-press-3/'"
      ]
     },
     "execution_count": 19,
     "metadata": {},
     "output_type": "execute_result"
    },
    {
     "data": {
      "text/plain": [
       "'success: content added from https://www.state.gov/secretary-antony-j-blinken-with-dana-bash-of-cnns-state-of-the-union-2/'"
      ]
     },
     "execution_count": 19,
     "metadata": {},
     "output_type": "execute_result"
    },
    {
     "data": {
      "text/plain": [
       "'success: content added from https://www.state.gov/the-united-state-welcomes-the-un-truce-in-yemen/'"
      ]
     },
     "execution_count": 19,
     "metadata": {},
     "output_type": "execute_result"
    },
    {
     "data": {
      "text/plain": [
       "'success: content added from https://www.state.gov/the-49th-session-of-the-un-human-rights-council/'"
      ]
     },
     "execution_count": 19,
     "metadata": {},
     "output_type": "execute_result"
    },
    {
     "data": {
      "text/plain": [
       "'success: content added from https://www.state.gov/united-states-imposes-sanctions-on-dprk-ballistic-missile-entities/'"
      ]
     },
     "execution_count": 19,
     "metadata": {},
     "output_type": "execute_result"
    },
    {
     "data": {
      "text/plain": [
       "'success: content added from https://www.state.gov/delivery-of-humanitarian-assistance-to-tigray-and-afar-regions/'"
      ]
     },
     "execution_count": 19,
     "metadata": {},
     "output_type": "execute_result"
    },
    {
     "data": {
      "text/plain": [
       "'success: content added from https://www.state.gov/secretary-antony-j-blinken-and-jamaican-prime-minister-andrew-holness-before-their-meeting/'"
      ]
     },
     "execution_count": 19,
     "metadata": {},
     "output_type": "execute_result"
    },
    {
     "data": {
      "text/plain": [
       "'success: content added from https://www.state.gov/recognizing-national-arab-american-heritage-month/'"
      ]
     },
     "execution_count": 19,
     "metadata": {},
     "output_type": "execute_result"
    },
    {
     "data": {
      "text/plain": [
       "'success: content added from https://www.state.gov/the-spirit-of-partnership-implementing-the-u-s-strategy-to-prevent-conflict-and-promote-stability/'"
      ]
     },
     "execution_count": 19,
     "metadata": {},
     "output_type": "execute_result"
    },
    {
     "data": {
      "text/plain": [
       "'success: content added from https://www.state.gov/hong-kongs-diminishing-freedoms/'"
      ]
     },
     "execution_count": 19,
     "metadata": {},
     "output_type": "execute_result"
    },
    {
     "data": {
      "text/plain": [
       "'success: content added from https://www.state.gov/additional-sanctions-on-russias-technology-companies-and-cyber-actors/'"
      ]
     },
     "execution_count": 19,
     "metadata": {},
     "output_type": "execute_result"
    },
    {
     "data": {
      "text/plain": [
       "'success: content added from https://www.state.gov/on-transgender-day-of-visibility-2/'"
      ]
     },
     "execution_count": 19,
     "metadata": {},
     "output_type": "execute_result"
    },
    {
     "data": {
      "text/plain": [
       "'success: content added from https://www.state.gov/x-gender-marker-available-on-u-s-passports-starting-april-11/'"
      ]
     },
     "execution_count": 19,
     "metadata": {},
     "output_type": "execute_result"
    },
    {
     "data": {
      "text/plain": [
       "'success: content added from https://www.state.gov/secretary-antony-j-blinken-and-algerian-president-abdelmadjid-tebboune-before-their-meeting/'"
      ]
     },
     "execution_count": 19,
     "metadata": {},
     "output_type": "execute_result"
    },
    {
     "data": {
      "text/plain": [
       "'success: content added from https://www.state.gov/secretary-antony-j-blinken-at-a-press-availability-17/'"
      ]
     },
     "execution_count": 19,
     "metadata": {},
     "output_type": "execute_result"
    },
    {
     "data": {
      "text/plain": [
       "'success: content added from https://www.state.gov/secretary-antony-j-blinken-remarks-to-mission-algeria/'"
      ]
     },
     "execution_count": 19,
     "metadata": {},
     "output_type": "execute_result"
    },
    {
     "data": {
      "text/plain": [
       "'success: content added from https://www.state.gov/united-states-imposes-sanctions-on-irans-ballistic-missile-related-activities/'"
      ]
     },
     "execution_count": 19,
     "metadata": {},
     "output_type": "execute_result"
    },
    {
     "data": {
      "text/plain": [
       "'success: content added from https://www.state.gov/secretary-antony-j-blinken-at-algiers-international-trade-fair-launch-event-with-u-s-companies/'"
      ]
     },
     "execution_count": 19,
     "metadata": {},
     "output_type": "execute_result"
    },
    {
     "data": {
      "text/plain": [
       "'success: content added from https://www.state.gov/secretary-antony-j-blinken-with-khadija-ihsane-of-medi-1-tv/'"
      ]
     },
     "execution_count": 19,
     "metadata": {},
     "output_type": "execute_result"
    },
    {
     "data": {
      "text/plain": [
       "'success: content added from https://www.state.gov/terrorist-attack-in-bnei-brak/'"
      ]
     },
     "execution_count": 19,
     "metadata": {},
     "output_type": "execute_result"
    },
    {
     "data": {
      "text/plain": [
       "'success: content added from https://www.state.gov/secretary-antony-j-blinken-and-crown-prince-of-abu-dhabi-sheikh-mohammed-bin-zayed-al-nahyan-before-their-meeting/'"
      ]
     },
     "execution_count": 19,
     "metadata": {},
     "output_type": "execute_result"
    },
    {
     "data": {
      "text/plain": [
       "'success: content added from https://www.state.gov/secretary-antony-j-blinken-and-moroccan-foreign-minister-nasser-bourita-at-a-joint-press-availability/'"
      ]
     },
     "execution_count": 19,
     "metadata": {},
     "output_type": "execute_result"
    },
    {
     "data": {
      "text/plain": [
       "'success: content added from https://www.state.gov/secretary-antony-j-blinken-at-meeting-with-moroccan-women-in-stem/'"
      ]
     },
     "execution_count": 19,
     "metadata": {},
     "output_type": "execute_result"
    },
    {
     "data": {
      "text/plain": [
       "'success: content added from https://www.state.gov/secretary-antony-j-blinken-remarks-to-mission-morocco/'"
      ]
     },
     "execution_count": 19,
     "metadata": {},
     "output_type": "execute_result"
    },
    {
     "data": {
      "text/plain": [
       "'success: content added from https://www.state.gov/secretary-antony-j-blinken-joint-press-statements-at-the-conclusion-of-the-negev-summit/'"
      ]
     },
     "execution_count": 19,
     "metadata": {},
     "output_type": "execute_result"
    },
    {
     "data": {
      "text/plain": [
       "'success: content added from https://www.state.gov/on-the-presidents-fiscal-year-2023-budget/'"
      ]
     },
     "execution_count": 19,
     "metadata": {},
     "output_type": "execute_result"
    },
    {
     "data": {
      "text/plain": [
       "'success: content added from https://www.state.gov/secretary-antony-j-blinken-and-palestinian-authority-president-mahmoud-abbas-after-their-meeting/'"
      ]
     },
     "execution_count": 19,
     "metadata": {},
     "output_type": "execute_result"
    },
    {
     "data": {
      "text/plain": [
       "'success: content added from https://www.state.gov/secretary-antony-j-blinken-at-a-roundtable-with-palestinian-civil-society/'"
      ]
     },
     "execution_count": 19,
     "metadata": {},
     "output_type": "execute_result"
    },
    {
     "data": {
      "text/plain": [
       "'success: content added from https://www.state.gov/secretary-antony-j-blinken-at-a-middle-east-partnership-for-peace-act-event/'"
      ]
     },
     "execution_count": 19,
     "metadata": {},
     "output_type": "execute_result"
    },
    {
     "data": {
      "text/plain": [
       "'success: content added from https://www.state.gov/secretary-antony-j-blinken-and-israeli-prime-minister-naftali-bennett-after-their-meeting/'"
      ]
     },
     "execution_count": 19,
     "metadata": {},
     "output_type": "execute_result"
    },
    {
     "data": {
      "text/plain": [
       "'success: content added from https://www.state.gov/secretary-antony-j-blinken-and-israeli-foreign-minister-and-alternate-prime-minister-yair-lapid-at-a-joint-press-availability/'"
      ]
     },
     "execution_count": 19,
     "metadata": {},
     "output_type": "execute_result"
    },
    {
     "data": {
      "text/plain": [
       "'success: content added from https://www.state.gov/100-million-in-new-u-s-civilian-security-assistance-for-ukraine/'"
      ]
     },
     "execution_count": 19,
     "metadata": {},
     "output_type": "execute_result"
    },
    {
     "data": {
      "text/plain": [
       "'success: content added from https://www.state.gov/bangladesh-national-day-2/'"
      ]
     },
     "execution_count": 19,
     "metadata": {},
     "output_type": "execute_result"
    },
    {
     "data": {
      "text/plain": [
       "'success: content added from https://www.state.gov/condemnation-of-houthi-terrorist-attacks-on-saudi-arabia/'"
      ]
     },
     "execution_count": 19,
     "metadata": {},
     "output_type": "execute_result"
    },
    {
     "data": {
      "text/plain": [
       "'success: content added from https://www.state.gov/united-states-and-allies-impose-additional-sanctions-on-the-burmese-military-regime/'"
      ]
     },
     "execution_count": 19,
     "metadata": {},
     "output_type": "execute_result"
    },
    {
     "data": {
      "text/plain": [
       "'success: content added from https://www.state.gov/greece-independence-day/'"
      ]
     },
     "execution_count": 19,
     "metadata": {},
     "output_type": "execute_result"
    },
    {
     "data": {
      "text/plain": [
       "'success: content added from https://www.state.gov/declaration-of-a-humanitarian-truce-by-the-government-of-ethiopia/'"
      ]
     },
     "execution_count": 19,
     "metadata": {},
     "output_type": "execute_result"
    },
    {
     "data": {
      "text/plain": [
       "'success: content added from https://www.state.gov/sanctioning-additional-members-of-russias-duma-russian-elites-bank-board-members-and-defense-entities/'"
      ]
     },
     "execution_count": 19,
     "metadata": {},
     "output_type": "execute_result"
    },
    {
     "data": {
      "text/plain": [
       "'success: content added from https://www.state.gov/women-and-girls-education-in-afghanistan/'"
      ]
     },
     "execution_count": 19,
     "metadata": {},
     "output_type": "execute_result"
    },
    {
     "data": {
      "text/plain": [
       "'success: content added from https://www.state.gov/statement-on-the-passing-of-madeleine-k-albright/'"
      ]
     },
     "execution_count": 19,
     "metadata": {},
     "output_type": "execute_result"
    },
    {
     "data": {
      "text/plain": [
       "'success: content added from https://www.state.gov/war-crimes-by-russias-forces-in-ukraine/'"
      ]
     },
     "execution_count": 19,
     "metadata": {},
     "output_type": "execute_result"
    },
    {
     "data": {
      "text/plain": [
       "'success: content added from https://www.state.gov/announcing-the-special-presidential-envoy-for-compact-negotiations/'"
      ]
     },
     "execution_count": 19,
     "metadata": {},
     "output_type": "execute_result"
    },
    {
     "data": {
      "text/plain": [
       "'success: content added from https://www.state.gov/world-water-day-2/'"
      ]
     },
     "execution_count": 19,
     "metadata": {},
     "output_type": "execute_result"
    },
    {
     "data": {
      "text/plain": [
       "'success: content added from https://www.state.gov/namibian-independence-day-2/'"
      ]
     },
     "execution_count": 19,
     "metadata": {},
     "output_type": "execute_result"
    },
    {
     "data": {
      "text/plain": [
       "'success: content added from https://www.state.gov/promoting-accountability-for-transnational-repression-committed-by-peoples-republic-of-china-prc-officials/'"
      ]
     },
     "execution_count": 19,
     "metadata": {},
     "output_type": "execute_result"
    },
    {
     "data": {
      "text/plain": [
       "'success: content added from https://www.state.gov/secretary-antony-j-blinken-at-the-united-states-holocaust-memorial-museum/'"
      ]
     },
     "execution_count": 19,
     "metadata": {},
     "output_type": "execute_result"
    },
    {
     "data": {
      "text/plain": [
       "'success: content added from https://www.state.gov/the-united-states-sanctions-security-forces-in-sudan-for-serious-human-rights-abuses/'"
      ]
     },
     "execution_count": 19,
     "metadata": {},
     "output_type": "execute_result"
    },
    {
     "data": {
      "text/plain": [
       "'success: content added from https://www.state.gov/nowruz-greeting/'"
      ]
     },
     "execution_count": 19,
     "metadata": {},
     "output_type": "execute_result"
    },
    {
     "data": {
      "text/plain": [
       "'success: content added from https://www.state.gov/tunisia-national-day/'"
      ]
     },
     "execution_count": 19,
     "metadata": {},
     "output_type": "execute_result"
    },
    {
     "data": {
      "text/plain": [
       "'success: content added from https://www.state.gov/secretary-antony-j-blinken-and-malawian-president-lazarus-chakwera-before-their-meeting/'"
      ]
     },
     "execution_count": 19,
     "metadata": {},
     "output_type": "execute_result"
    },
    {
     "data": {
      "text/plain": [
       "'success: content added from https://www.state.gov/secretary-antony-j-blinken-roundtable-with-journalists/'"
      ]
     },
     "execution_count": 19,
     "metadata": {},
     "output_type": "execute_result"
    },
    {
     "data": {
      "text/plain": [
       "'success: content added from https://www.state.gov/aruba-national-day-2/'"
      ]
     },
     "execution_count": 19,
     "metadata": {},
     "output_type": "execute_result"
    },
    {
     "data": {
      "text/plain": [
       "'success: content added from https://www.state.gov/secretary-antony-j-blinken-at-a-press-availability-16/'"
      ]
     },
     "execution_count": 19,
     "metadata": {},
     "output_type": "execute_result"
    },
    {
     "data": {
      "text/plain": [
       "'success: content added from https://www.state.gov/the-united-states-shares-500-million-covid-19-vaccine-doses-worldwide/'"
      ]
     },
     "execution_count": 19,
     "metadata": {},
     "output_type": "execute_result"
    },
    {
     "data": {
      "text/plain": [
       "'success: content added from https://www.state.gov/on-the-occasion-of-st-patricks-day-2/'"
      ]
     },
     "execution_count": 19,
     "metadata": {},
     "output_type": "execute_result"
    },
    {
     "data": {
      "text/plain": [
       "'success: content added from https://www.state.gov/additional-visa-restrictions-for-undermining-the-democratic-process-in-somalia/'"
      ]
     },
     "execution_count": 19,
     "metadata": {},
     "output_type": "execute_result"
    },
    {
     "data": {
      "text/plain": [
       "'success: content added from https://www.state.gov/1-billion-in-new-u-s-security-assistance-for-ukraine-this-week/'"
      ]
     },
     "execution_count": 19,
     "metadata": {},
     "output_type": "execute_result"
    },
    {
     "data": {
      "text/plain": [
       "'success: content added from https://www.state.gov/the-united-states-and-costa-rica-announce-collaboration-on-migration-and-protection/'"
      ]
     },
     "execution_count": 19,
     "metadata": {},
     "output_type": "execute_result"
    },
    {
     "data": {
      "text/plain": [
       "'success: content added from https://www.state.gov/secretary-antony-j-blinken-with-steve-inskeep-of-nprs-morning-edition/'"
      ]
     },
     "execution_count": 19,
     "metadata": {},
     "output_type": "execute_result"
    },
    {
     "data": {
      "text/plain": [
       "'success: content added from https://www.state.gov/united-states-announces-additional-humanitarian-assistance-for-the-people-of-yemen-3/'"
      ]
     },
     "execution_count": 19,
     "metadata": {},
     "output_type": "execute_result"
    },
    {
     "data": {
      "text/plain": [
       "'success: content added from https://www.state.gov/secretary-antony-j-blinken-virtual-remarks-at-the-un-hosted-high-level-yemen-pledging-event/'"
      ]
     },
     "execution_count": 19,
     "metadata": {},
     "output_type": "execute_result"
    },
    {
     "data": {
      "text/plain": [
       "'success: content added from https://www.state.gov/secretary-antony-j-blinken-with-wolf-blitzer-of-the-situation-room-on-cnn/'"
      ]
     },
     "execution_count": 19,
     "metadata": {},
     "output_type": "execute_result"
    },
    {
     "data": {
      "text/plain": [
       "'success: content added from https://www.state.gov/additional-humanitarian-assistance-for-the-people-of-ukraine/'"
      ]
     },
     "execution_count": 19,
     "metadata": {},
     "output_type": "execute_result"
    },
    {
     "data": {
      "text/plain": [
       "'success: content added from https://www.state.gov/promoting-accountability-for-human-rights-abuses-perpetrated-by-the-governments-of-russia-and-belarus/'"
      ]
     },
     "execution_count": 19,
     "metadata": {},
     "output_type": "execute_result"
    },
    {
     "data": {
      "text/plain": [
       "'success: content added from https://www.state.gov/commending-new-zealands-new-sanctions-regime/'"
      ]
     },
     "execution_count": 19,
     "metadata": {},
     "output_type": "execute_result"
    },
    {
     "data": {
      "text/plain": [
       "'success: content added from https://www.state.gov/secretary-antony-j-blinken-at-the-16th-annual-international-women-of-courage-iwoc-awards-ceremony/'"
      ]
     },
     "execution_count": 19,
     "metadata": {},
     "output_type": "execute_result"
    },
    {
     "data": {
      "text/plain": [
       "'success: content added from https://www.state.gov/on-the-anniversary-of-the-election-of-his-holiness-pope-francis-2/'"
      ]
     },
     "execution_count": 19,
     "metadata": {},
     "output_type": "execute_result"
    },
    {
     "data": {
      "text/plain": [
       "'success: content added from https://www.state.gov/200-million-in-new-security-assistance-for-ukraine/'"
      ]
     },
     "execution_count": 19,
     "metadata": {},
     "output_type": "execute_result"
    },
    {
     "data": {
      "text/plain": [
       "'success: content added from https://www.state.gov/mauritius-national-day-2/'"
      ]
     },
     "execution_count": 19,
     "metadata": {},
     "output_type": "execute_result"
    },
    {
     "data": {
      "text/plain": [
       "'success: content added from https://www.state.gov/continuing-to-hold-the-kremlin-to-account/'"
      ]
     },
     "execution_count": 19,
     "metadata": {},
     "output_type": "execute_result"
    },
    {
     "data": {
      "text/plain": [
       "'success: content added from https://www.state.gov/sanctioning-network-supporting-the-democratic-peoples-republic-of-koreas-dprk-weapons-program/'"
      ]
     },
     "execution_count": 19,
     "metadata": {},
     "output_type": "execute_result"
    },
    {
     "data": {
      "text/plain": [
       "'success: content added from https://www.state.gov/secretary-antony-j-blinken-with-au-commission-chairperson-moussa-faki-mahamat-at-the-signing-of-a-memorandum-of-cooperation-between-the-united-states-and-the-african-union/'"
      ]
     },
     "execution_count": 19,
     "metadata": {},
     "output_type": "execute_result"
    },
    {
     "data": {
      "text/plain": [
       "'success: content added from https://www.state.gov/secretary-antony-j-blinken-and-uzbekistan-foreign-minister-abdulaziz-kamilov-before-their-meeting/'"
      ]
     },
     "execution_count": 19,
     "metadata": {},
     "output_type": "execute_result"
    },
    {
     "data": {
      "text/plain": [
       "'success: content added from https://www.state.gov/secretary-antony-j-blinken-and-uk-foreign-secretary-elizabeth-truss-at-a-joint-press-availability/'"
      ]
     },
     "execution_count": 19,
     "metadata": {},
     "output_type": "execute_result"
    },
    {
     "data": {
      "text/plain": [
       "'success: content added from https://www.state.gov/ensuring-the-responsible-development-of-digital-assets/'"
      ]
     },
     "execution_count": 19,
     "metadata": {},
     "output_type": "execute_result"
    },
    {
     "data": {
      "text/plain": [
       "'success: content added from https://www.state.gov/release-of-u-s-citizens-gustavo-cardenas-and-jorge-alberto-fernandez-from-venezuela/'"
      ]
     },
     "execution_count": 19,
     "metadata": {},
     "output_type": "execute_result"
    },
    {
     "data": {
      "text/plain": [
       "'success: content added from https://www.state.gov/secretary-antony-j-blinken-meet-and-greet-with-embassy-tallinn-personnel-and-families/'"
      ]
     },
     "execution_count": 19,
     "metadata": {},
     "output_type": "execute_result"
    },
    {
     "data": {
      "text/plain": [
       "'success: content added from https://www.state.gov/celebrating-women-around-the-world-on-international-womens-day/'"
      ]
     },
     "execution_count": 19,
     "metadata": {},
     "output_type": "execute_result"
    },
    {
     "data": {
      "text/plain": [
       "'success: content added from https://www.state.gov/secretary-antony-j-blinken-and-estonian-prime-minister-kaja-kallas-at-a-joint-press-availability/'"
      ]
     },
     "execution_count": 19,
     "metadata": {},
     "output_type": "execute_result"
    },
    {
     "data": {
      "text/plain": [
       "'success: content added from https://www.state.gov/welcoming-the-launch-of-un-consultations-on-yemen/'"
      ]
     },
     "execution_count": 19,
     "metadata": {},
     "output_type": "execute_result"
    },
    {
     "data": {
      "text/plain": [
       "'success: content added from https://www.state.gov/secretary-antony-j-blinken-and-estonian-foreign-minister-eva-maria-liimets-after-their-meeting/'"
      ]
     },
     "execution_count": 19,
     "metadata": {},
     "output_type": "execute_result"
    },
    {
     "data": {
      "text/plain": [
       "'success: content added from https://www.state.gov/secretary-antony-j-blinken-and-estonian-prime-minister-kaja-kallas-before-their-meeting/'"
      ]
     },
     "execution_count": 19,
     "metadata": {},
     "output_type": "execute_result"
    },
    {
     "data": {
      "text/plain": [
       "'success: content added from https://www.state.gov/secretary-antony-j-blinken-and-israeli-foreign-minister-yair-lapid-before-their-meeting-2/'"
      ]
     },
     "execution_count": 19,
     "metadata": {},
     "output_type": "execute_result"
    },
    {
     "data": {
      "text/plain": [
       "'success: content added from https://www.state.gov/secretary-of-state-antony-j-blinken-and-latvian-foreign-minister-edgars-rinkevics-at-a-joint-press-availability/'"
      ]
     },
     "execution_count": 19,
     "metadata": {},
     "output_type": "execute_result"
    },
    {
     "data": {
      "text/plain": [
       "'success: content added from https://www.state.gov/secretary-antony-j-blinken-and-lithuanian-foreign-minister-gabrielius-landsbergis-at-a-joint-press-availability/'"
      ]
     },
     "execution_count": 19,
     "metadata": {},
     "output_type": "execute_result"
    },
    {
     "data": {
      "text/plain": [
       "'success: content added from https://www.state.gov/secretary-antony-j-blinken-with-lithuanian-prime-minister-ingrida-simonyte-and-foreign-minister-gabrielius-landsbergis-before-their-meeting/'"
      ]
     },
     "execution_count": 19,
     "metadata": {},
     "output_type": "execute_result"
    },
    {
     "data": {
      "text/plain": [
       "'success: content added from https://www.state.gov/secretary-antony-j-blinken-and-lithuanian-president-gitanas-nauseda-before-their-meeting/'"
      ]
     },
     "execution_count": 19,
     "metadata": {},
     "output_type": "execute_result"
    },
    {
     "data": {
      "text/plain": [
       "'success: content added from https://www.state.gov/secretary-antony-j-blinken-at-a-meet-and-greet-with-embassies-vilnius-and-minsk-personnel/'"
      ]
     },
     "execution_count": 19,
     "metadata": {},
     "output_type": "execute_result"
    },
    {
     "data": {
      "text/plain": [
       "'success: content added from https://www.state.gov/secretary-antony-j-blinken-to-mission-moldova-staff'"
      ]
     },
     "execution_count": 19,
     "metadata": {},
     "output_type": "execute_result"
    },
    {
     "data": {
      "text/plain": [
       "'success: content added from https://www.state.gov/secretary-antony-j-blinken-on-cbs-face-the-nation-with-margaret-brennan'"
      ]
     },
     "execution_count": 19,
     "metadata": {},
     "output_type": "execute_result"
    },
    {
     "data": {
      "text/plain": [
       "'content already existing for https://www.state.gov/secretary-antony-j-blinken-on-nbc-meet-the-press-with-chuck-todd/'"
      ]
     },
     "execution_count": 19,
     "metadata": {},
     "output_type": "execute_result"
    },
    {
     "data": {
      "text/plain": [
       "'success: content added from https://www.state.gov/secretary-antony-j-blinken-on-cnn-state-of-the-union-with-jake-tapper/'"
      ]
     },
     "execution_count": 19,
     "metadata": {},
     "output_type": "execute_result"
    },
    {
     "data": {
      "text/plain": [
       "'success: content added from https://www.state.gov/secretary-antony-j-blinken-at-a-meeting-with-moldovan-civil-society/'"
      ]
     },
     "execution_count": 19,
     "metadata": {},
     "output_type": "execute_result"
    },
    {
     "data": {
      "text/plain": [
       "'success: content added from https://www.state.gov/secretary-antony-j-blinken-and-moldovan-president-maia-sandu-at-a-joint-press-availability/'"
      ]
     },
     "execution_count": 19,
     "metadata": {},
     "output_type": "execute_result"
    },
    {
     "data": {
      "text/plain": [
       "'success: content added from https://www.state.gov/secretary-antony-j-blinken-and-moldovan-prime-minister-natalia-gavrilita-before-their-meeting/'"
      ]
     },
     "execution_count": 19,
     "metadata": {},
     "output_type": "execute_result"
    },
    {
     "data": {
      "text/plain": [
       "'success: content added from https://www.state.gov/secretary-antony-j-blinken-and-moldovan-foreign-minister-natalia-gavrilita-before-their-meeting/'"
      ]
     },
     "execution_count": 19,
     "metadata": {},
     "output_type": "execute_result"
    },
    {
     "data": {
      "text/plain": [
       "'success: content added from https://www.state.gov/ghana-national-day/'"
      ]
     },
     "execution_count": 19,
     "metadata": {},
     "output_type": "execute_result"
    },
    {
     "data": {
      "text/plain": [
       "'success: content added from https://www.state.gov/harvard-women-in-foreign-policy-conference/'"
      ]
     },
     "execution_count": 19,
     "metadata": {},
     "output_type": "execute_result"
    },
    {
     "data": {
      "text/plain": [
       "'success: content added from https://www.state.gov/secretary-antony-j-blinken-with-piotr-krasko-of-tvn/'"
      ]
     },
     "execution_count": 19,
     "metadata": {},
     "output_type": "execute_result"
    },
    {
     "data": {
      "text/plain": [
       "'success: content added from https://www.state.gov/secretary-antony-j-blinken-at-a-town-hall-with-kyiv-embassy-personnel/'"
      ]
     },
     "execution_count": 19,
     "metadata": {},
     "output_type": "execute_result"
    },
    {
     "data": {
      "text/plain": [
       "'success: content added from https://www.state.gov/secretary-antony-j-blinken-at-a-meeting-with-congressional-delegation/'"
      ]
     },
     "execution_count": 19,
     "metadata": {},
     "output_type": "execute_result"
    },
    {
     "data": {
      "text/plain": [
       "'success: content added from https://www.state.gov/secretary-antony-j-blinken-at-a-meeting-with-ukrainian-civil-society/'"
      ]
     },
     "execution_count": 19,
     "metadata": {},
     "output_type": "execute_result"
    },
    {
     "data": {
      "text/plain": [
       "'success: content added from https://www.state.gov/secretary-antony-j-blinken-and-ukrainian-foreign-minister-dmytro-kuleba-at-a-joint-press-availability-3/'"
      ]
     },
     "execution_count": 19,
     "metadata": {},
     "output_type": "execute_result"
    },
    {
     "data": {
      "text/plain": [
       "'success: content added from https://www.state.gov/secretary-antony-j-blinken-and-polish-foreign-minister-zbigniew-rau-statements-to-the-press/'"
      ]
     },
     "execution_count": 19,
     "metadata": {},
     "output_type": "execute_result"
    },
    {
     "data": {
      "text/plain": [
       "'success: content added from https://www.state.gov/secretary-antony-j-blinken-with-james-landale-of-the-bbc/'"
      ]
     },
     "execution_count": 19,
     "metadata": {},
     "output_type": "execute_result"
    },
    {
     "data": {
      "text/plain": [
       "'success: content added from https://www.state.gov/secretary-antony-j-blinken-at-a-press-availability-15/'"
      ]
     },
     "execution_count": 19,
     "metadata": {},
     "output_type": "execute_result"
    },
    {
     "data": {
      "text/plain": [
       "'success: content added from https://www.state.gov/secretary-antony-j-blinken-and-european-commission-president-ursula-von-der-leyen-before-their-meeting-2/'"
      ]
     },
     "execution_count": 19,
     "metadata": {},
     "output_type": "execute_result"
    },
    {
     "data": {
      "text/plain": [
       "'success: content added from https://www.state.gov/secretary-antony-j-blinken-with-eu-high-representative-josep-borrell/'"
      ]
     },
     "execution_count": 19,
     "metadata": {},
     "output_type": "execute_result"
    },
    {
     "data": {
      "text/plain": [
       "'success: content added from https://www.state.gov/secretary-antony-j-blinken-and-nato-secretary-general-jens-stoltenberg-before-their-meeting-4/'"
      ]
     },
     "execution_count": 19,
     "metadata": {},
     "output_type": "execute_result"
    },
    {
     "data": {
      "text/plain": [
       "'success: content added from https://www.state.gov/world-wildlife-day-2/'"
      ]
     },
     "execution_count": 19,
     "metadata": {},
     "output_type": "execute_result"
    },
    {
     "data": {
      "text/plain": [
       "'success: content added from https://www.state.gov/targeting-russian-elites-disinformation-outlets-and-defense-enterprises/'"
      ]
     },
     "execution_count": 19,
     "metadata": {},
     "output_type": "execute_result"
    },
    {
     "data": {
      "text/plain": [
       "'success: content added from https://www.state.gov/marking-losar-the-tibetan-new-year/'"
      ]
     },
     "execution_count": 19,
     "metadata": {},
     "output_type": "execute_result"
    },
    {
     "data": {
      "text/plain": [
       "'success: content added from https://www.state.gov/bulgarias-national-day/'"
      ]
     },
     "execution_count": 19,
     "metadata": {},
     "output_type": "execute_result"
    },
    {
     "data": {
      "text/plain": [
       "'success: content added from https://www.state.gov/secretary-antony-j-blinken-at-a-press-availability-14/'"
      ]
     },
     "execution_count": 19,
     "metadata": {},
     "output_type": "execute_result"
    },
    {
     "data": {
      "text/plain": [
       "'success: content added from https://www.state.gov/secretary-antony-j-blinken-with-costa-rican-foreign-minister-rodolfo-solano-quiros-dominican-republic-foreign-minister-roberto-alvarez-and-panamanian-foreign-minister-erika-mouynes-before-their-mee/'"
      ]
     },
     "execution_count": 19,
     "metadata": {},
     "output_type": "execute_result"
    },
    {
     "data": {
      "text/plain": [
       "'success: content added from https://www.state.gov/the-republic-of-koreas-economic-actions-to-support-ukraine/'"
      ]
     },
     "execution_count": 19,
     "metadata": {},
     "output_type": "execute_result"
    },
    {
     "data": {
      "text/plain": [
       "'success: content added from https://www.state.gov/remarks-at-the-un-human-rights-council-49th-session/'"
      ]
     },
     "execution_count": 19,
     "metadata": {},
     "output_type": "execute_result"
    },
    {
     "data": {
      "text/plain": [
       "'success: content added from https://www.state.gov/49th-session-of-the-un-human-rights-council/'"
      ]
     },
     "execution_count": 19,
     "metadata": {},
     "output_type": "execute_result"
    },
    {
     "data": {
      "text/plain": [
       "'success: content added from https://www.state.gov/additional-measures-against-the-russian-financial-system/'"
      ]
     },
     "execution_count": 19,
     "metadata": {},
     "output_type": "execute_result"
    },
    {
     "data": {
      "text/plain": [
       "'success: content added from https://www.state.gov/suspending-operations-at-u-s-embassy-minsk-and-change-in-status-for-u-s-embassy-moscow/'"
      ]
     },
     "execution_count": 19,
     "metadata": {},
     "output_type": "execute_result"
    },
    {
     "data": {
      "text/plain": [
       "'success: content added from https://www.state.gov/intergovernmental-panel-on-climate-change-report/'"
      ]
     },
     "execution_count": 19,
     "metadata": {},
     "output_type": "execute_result"
    },
    {
     "data": {
      "text/plain": [
       "'success: content added from https://www.state.gov/japans-financial-sanctions-against-russia/'"
      ]
     },
     "execution_count": 19,
     "metadata": {},
     "output_type": "execute_result"
    },
    {
     "data": {
      "text/plain": [
       "'success: content added from https://www.state.gov/dominican-republic-independence-day-2/'"
      ]
     },
     "execution_count": 19,
     "metadata": {},
     "output_type": "execute_result"
    },
    {
     "data": {
      "text/plain": [
       "'success: content added from https://www.state.gov/the-united-states-announces-additional-humanitarian-assistance-for-the-people-of-ukraine/'"
      ]
     },
     "execution_count": 19,
     "metadata": {},
     "output_type": "execute_result"
    },
    {
     "data": {
      "text/plain": [
       "'success: content added from https://www.state.gov/additional-military-assistance-for-ukraine/'"
      ]
     },
     "execution_count": 19,
     "metadata": {},
     "output_type": "execute_result"
    },
    {
     "data": {
      "text/plain": [
       "'success: content added from https://www.state.gov/visa-restrictions-on-individuals-responsible-for-undermining-the-democratic-process-in-somalia/'"
      ]
     },
     "execution_count": 19,
     "metadata": {},
     "output_type": "execute_result"
    },
    {
     "data": {
      "text/plain": [
       "'success: content added from https://www.state.gov/imposing-sanctions-on-president-putin-and-three-other-senior-russian-officials/'"
      ]
     },
     "execution_count": 19,
     "metadata": {},
     "output_type": "execute_result"
    },
    {
     "data": {
      "text/plain": [
       "'success: content added from https://www.state.gov/additional-general-license-involving-afghanistan-or-governing-institutions-in-afghanistan/'"
      ]
     },
     "execution_count": 19,
     "metadata": {},
     "output_type": "execute_result"
    },
    {
     "data": {
      "text/plain": [
       "'success: content added from https://www.state.gov/kuwait-national-day/'"
      ]
     },
     "execution_count": 19,
     "metadata": {},
     "output_type": "execute_result"
    },
    {
     "data": {
      "text/plain": [
       "'success: content added from https://www.state.gov/secretary-antony-j-blinken-on-cbs-evening-news-with-norah-odonnell/'"
      ]
     },
     "execution_count": 19,
     "metadata": {},
     "output_type": "execute_result"
    },
    {
     "data": {
      "text/plain": [
       "'success: content added from https://www.state.gov/secretary-antony-j-blinken-on-nbc-nightly-news-with-lester-holt/'"
      ]
     },
     "execution_count": 19,
     "metadata": {},
     "output_type": "execute_result"
    },
    {
     "data": {
      "text/plain": [
       "'success: content added from https://www.state.gov/secretary-antony-j-blinken-on-abc-world-news-tonight-with-david-muir/'"
      ]
     },
     "execution_count": 19,
     "metadata": {},
     "output_type": "execute_result"
    },
    {
     "data": {
      "text/plain": [
       "'success: content added from https://www.state.gov/estonia-national-day/'"
      ]
     },
     "execution_count": 19,
     "metadata": {},
     "output_type": "execute_result"
    },
    {
     "data": {
      "text/plain": [
       "'success: content added from https://www.state.gov/sanctioning-ns2ag-matthias-warnig-and-ns2ags-corporate-officers/'"
      ]
     },
     "execution_count": 19,
     "metadata": {},
     "output_type": "execute_result"
    },
    {
     "data": {
      "text/plain": [
       "'success: content added from https://www.state.gov/secretary-antony-j-blinken-with-lester-holt-of-nbc-nightly-news/'"
      ]
     },
     "execution_count": 19,
     "metadata": {},
     "output_type": "execute_result"
    },
    {
     "data": {
      "text/plain": [
       "'success: content added from https://www.state.gov/secretary-antony-j-blinken-with-david-muir-of-abc-world-news-tonight/'"
      ]
     },
     "execution_count": 19,
     "metadata": {},
     "output_type": "execute_result"
    },
    {
     "data": {
      "text/plain": [
       "'success: content added from https://www.state.gov/secretary-antony-j-blinken-with-norah-odonnell-of-cbs-evening-news/'"
      ]
     },
     "execution_count": 19,
     "metadata": {},
     "output_type": "execute_result"
    },
    {
     "data": {
      "text/plain": [
       "'success: content added from https://www.state.gov/united-states-designates-houthi-finance-network-in-coordination-with-gulf-partners/'"
      ]
     },
     "execution_count": 19,
     "metadata": {},
     "output_type": "execute_result"
    },
    {
     "data": {
      "text/plain": [
       "'success: content added from https://www.state.gov/secretary-antony-j-blinken-with-stefan-kornelius-of-suddeutsche-zeitung/'"
      ]
     },
     "execution_count": 19,
     "metadata": {},
     "output_type": "execute_result"
    },
    {
     "data": {
      "text/plain": [
       "'success: content added from https://www.state.gov/secretary-antony-j-blinken-and-french-foreign-minister-jean-yves-le-drian-before-their-meeting-2/'"
      ]
     },
     "execution_count": 19,
     "metadata": {},
     "output_type": "execute_result"
    },
    {
     "data": {
      "text/plain": [
       "'success: content added from https://www.state.gov/secretary-antony-j-blinken-and-german-foreign-minister-annalena-baerbock-at-the-munich-security-conference/'"
      ]
     },
     "execution_count": 19,
     "metadata": {},
     "output_type": "execute_result"
    },
    {
     "data": {
      "text/plain": [
       "'success: content added from https://www.state.gov/secretary-antony-j-blinken-and-qatari-deputy-prime-minister-and-minister-of-foreign-affairs-mohammed-bin-abdulrahman-al-thani-before-their-meeting/'"
      ]
     },
     "execution_count": 19,
     "metadata": {},
     "output_type": "execute_result"
    },
    {
     "data": {
      "text/plain": [
       "'success: content added from https://www.state.gov/the-gambias-national-day-2/'"
      ]
     },
     "execution_count": 19,
     "metadata": {},
     "output_type": "execute_result"
    },
    {
     "data": {
      "text/plain": [
       "'success: content added from https://www.state.gov/secretary-antony-j-blinken-on-russias-threat-to-peace-and-security-at-the-un-security-council/'"
      ]
     },
     "execution_count": 19,
     "metadata": {},
     "output_type": "execute_result"
    },
    {
     "data": {
      "text/plain": [
       "'success: content added from https://www.state.gov/kosovo-national-day-2/'"
      ]
     },
     "execution_count": 19,
     "metadata": {},
     "output_type": "execute_result"
    },
    {
     "data": {
      "text/plain": [
       "'success: content added from https://www.state.gov/secretary-antony-j-blinken-and-estonian-foreign-minister-eva-maria-liimets-before-their-meeting/'"
      ]
     },
     "execution_count": 19,
     "metadata": {},
     "output_type": "execute_result"
    },
    {
     "data": {
      "text/plain": [
       "'success: content added from https://www.state.gov/secretary-antony-j-blinken-at-virtual-summit-for-democracy-civil-society-roundtable/'"
      ]
     },
     "execution_count": 19,
     "metadata": {},
     "output_type": "execute_result"
    },
    {
     "data": {
      "text/plain": [
       "'success: content added from https://www.state.gov/secretary-antony-j-blinken-with-joe-scarborough-mika-brzezinski-and-willie-geist-of-morning-joe-msnbc/'"
      ]
     },
     "execution_count": 19,
     "metadata": {},
     "output_type": "execute_result"
    },
    {
     "data": {
      "text/plain": [
       "'success: content added from https://www.state.gov/secretary-antony-j-blinken-with-george-stephanopoulos-of-abcs-good-morning-america-2/'"
      ]
     },
     "execution_count": 19,
     "metadata": {},
     "output_type": "execute_result"
    },
    {
     "data": {
      "text/plain": [
       "'success: content added from https://www.state.gov/russian-duma-resolution-on-eastern-ukraine/'"
      ]
     },
     "execution_count": 19,
     "metadata": {},
     "output_type": "execute_result"
    },
    {
     "data": {
      "text/plain": [
       "'success: content added from https://www.state.gov/lithuania-national-day/'"
      ]
     },
     "execution_count": 19,
     "metadata": {},
     "output_type": "execute_result"
    },
    {
     "data": {
      "text/plain": [
       "'success: content added from https://www.state.gov/secretary-antony-j-blinken-with-natalya-lutsenko-of-ictv/'"
      ]
     },
     "execution_count": 19,
     "metadata": {},
     "output_type": "execute_result"
    },
    {
     "data": {
      "text/plain": [
       "'success: content added from https://www.state.gov/secretary-antony-j-blinken-and-albanian-prime-minister-edi-rama-before-their-meeting/'"
      ]
     },
     "execution_count": 19,
     "metadata": {},
     "output_type": "execute_result"
    },
    {
     "data": {
      "text/plain": [
       "'success: content added from https://www.state.gov/first-anniversary-of-the-declaration-against-arbitrary-detention-in-state-to-state-relations/'"
      ]
     },
     "execution_count": 19,
     "metadata": {},
     "output_type": "execute_result"
    },
    {
     "data": {
      "text/plain": [
       "'success: content added from https://www.state.gov/serbia-national-day-2/'"
      ]
     },
     "execution_count": 19,
     "metadata": {},
     "output_type": "execute_result"
    },
    {
     "data": {
      "text/plain": [
       "'success: content added from https://www.state.gov/secretary-antony-j-blinken-with-sonia-dridi-of-france-24/'"
      ]
     },
     "execution_count": 19,
     "metadata": {},
     "output_type": "execute_result"
    },
    {
     "data": {
      "text/plain": [
       "'success: content added from https://www.state.gov/u-s-action-to-strengthen-ukraines-economy/'"
      ]
     },
     "execution_count": 19,
     "metadata": {},
     "output_type": "execute_result"
    },
    {
     "data": {
      "text/plain": [
       "'success: content added from https://www.state.gov/the-covid-19-global-action-meeting/'"
      ]
     },
     "execution_count": 19,
     "metadata": {},
     "output_type": "execute_result"
    },
    {
     "data": {
      "text/plain": [
       "'success: content added from https://www.state.gov/operations-at-u-s-embassy-kyiv/'"
      ]
     },
     "execution_count": 19,
     "metadata": {},
     "output_type": "execute_result"
    },
    {
     "data": {
      "text/plain": [
       "'success: content added from https://www.state.gov/secretary-antony-j-blinken-at-a-virtual-covid-19-global-action-meeting/'"
      ]
     },
     "execution_count": 19,
     "metadata": {},
     "output_type": "execute_result"
    },
    {
     "data": {
      "text/plain": [
       "'success: content added from https://www.state.gov/secretary-antony-j-blinken-and-republic-of-korea-foreign-minister-chung-eui-yong-before-their-meeting-3/'"
      ]
     },
     "execution_count": 19,
     "metadata": {},
     "output_type": "execute_result"
    },
    {
     "data": {
      "text/plain": [
       "'success: content added from https://www.state.gov/secretary-antony-j-blinken-at-a-meet-and-greet-with-mission-fiji-personnel-and-families/'"
      ]
     },
     "execution_count": 19,
     "metadata": {},
     "output_type": "execute_result"
    },
    {
     "data": {
      "text/plain": [
       "'success: content added from https://www.state.gov/secretary-antony-j-blinken-and-acting-fijian-prime-minister-aiyaz-sayed-khaiyum-at-a-joint-press-availability/'"
      ]
     },
     "execution_count": 19,
     "metadata": {},
     "output_type": "execute_result"
    },
    {
     "data": {
      "text/plain": [
       "'success: content added from https://www.state.gov/executive-order-to-preserve-certain-afghanistan-central-bank-assets-for-the-benefit-of-the-people-of-afghanistan/'"
      ]
     },
     "execution_count": 19,
     "metadata": {},
     "output_type": "execute_result"
    },
    {
     "data": {
      "text/plain": [
       "'success: content added from https://www.state.gov/covid-19-global-action-meeting/'"
      ]
     },
     "execution_count": 19,
     "metadata": {},
     "output_type": "execute_result"
    },
    {
     "data": {
      "text/plain": [
       "'success: content added from https://www.state.gov/secretary-antony-j-blinken-and-australian-foreign-minister-marise-payne-indian-external-affairs-minister-dr-subrahmanyam-jaishankar-and-japanese-foreign-minister-yoshim/'"
      ]
     },
     "execution_count": 19,
     "metadata": {},
     "output_type": "execute_result"
    },
    {
     "data": {
      "text/plain": [
       "'success: content added from https://www.state.gov/secretary-antony-j-blinken-and-indian-external-affairs-minister-dr-subrahmanyam-jaishankar-before-their-meeting-2/'"
      ]
     },
     "execution_count": 19,
     "metadata": {},
     "output_type": "execute_result"
    },
    {
     "data": {
      "text/plain": [
       "'success: content added from https://www.state.gov/secretary-antony-j-blinken-and-australian-prime-minister-scott-morrison-australian-foreign-minister-marise-payne-indian-foreign-minister-subrahmanyam-jaishankar-and-japanese-foreign-minister-yoshi/'"
      ]
     },
     "execution_count": 19,
     "metadata": {},
     "output_type": "execute_result"
    },
    {
     "data": {
      "text/plain": [
       "'success: content added from https://www.state.gov/remarks-february-11-2022-secretary-antony-j-blinken-opening-remarks-at-the-quadrilateral-security-dialogue-meeting-february-11-2022-commonwealth-parliamentary-offices-melbourne-australia-forei/'"
      ]
     },
     "execution_count": 19,
     "metadata": {},
     "output_type": "execute_result"
    },
    {
     "data": {
      "text/plain": [
       "'success: content added from https://www.state.gov/secretary-antony-j-blinken-and-japanese-foreign-minister-yoshimasa-hayashi-before-their-meeting-2/'"
      ]
     },
     "execution_count": 19,
     "metadata": {},
     "output_type": "execute_result"
    },
    {
     "data": {
      "text/plain": [
       "'success: content added from https://www.state.gov/secretary-antony-j-blinken-and-australian-foreign-minister-marise-payne-before-their-meeting-3/'"
      ]
     },
     "execution_count": 19,
     "metadata": {},
     "output_type": "execute_result"
    },
    {
     "data": {
      "text/plain": [
       "'success: content added from https://www.state.gov/secretary-antony-j-blinken-with-leigh-sales-of-abcs-730-report/'"
      ]
     },
     "execution_count": 19,
     "metadata": {},
     "output_type": "execute_result"
    },
    {
     "data": {
      "text/plain": [
       "'success: content added from https://www.state.gov/secretary-antony-j-blinken-to-mission-australia-staff/'"
      ]
     },
     "execution_count": 19,
     "metadata": {},
     "output_type": "execute_result"
    },
    {
     "data": {
      "text/plain": [
       "'success: content added from https://www.state.gov/secretary-antony-j-blinken-remarks-at-a-health-security-partnerships-roundtable/'"
      ]
     },
     "execution_count": 19,
     "metadata": {},
     "output_type": "execute_result"
    },
    {
     "data": {
      "text/plain": [
       "'success: content added from https://www.state.gov/secretary-antony-j-blinken-opening-remarks-at-a-conversation-at-university-of-melbourne-with-students-and-u-s-government-and-exchange-alumni/'"
      ]
     },
     "execution_count": 19,
     "metadata": {},
     "output_type": "execute_result"
    },
    {
     "data": {
      "text/plain": [
       "'success: content added from https://www.state.gov/designation-of-under-secretary-for-management-john-r-bass-as-chief-sustainability-officer/'"
      ]
     },
     "execution_count": 19,
     "metadata": {},
     "output_type": "execute_result"
    },
    {
     "data": {
      "text/plain": [
       "'success: content added from https://www.state.gov/secretary-antony-j-blinken-remarks-to-the-press-en-route-melbourne-australia/'"
      ]
     },
     "execution_count": 19,
     "metadata": {},
     "output_type": "execute_result"
    },
    {
     "data": {
      "text/plain": [
       "'success: content added from https://www.state.gov/promoting-sustainable-peace-and-responsive-governance-in-somalia/'"
      ]
     },
     "execution_count": 19,
     "metadata": {},
     "output_type": "execute_result"
    },
    {
     "data": {
      "text/plain": [
       "'success: content added from https://www.state.gov/u-s-actions-against-former-honduran-president-juan-orlando-hernandez-for-corruption/'"
      ]
     },
     "execution_count": 19,
     "metadata": {},
     "output_type": "execute_result"
    },
    {
     "data": {
      "text/plain": [
       "'success: content added from https://www.state.gov/secretary-antony-j-blinken-and-european-union-high-representative-for-foreign-affairs-and-security-policy-and-vice-president-of-the-european-commission-josep-borrell-at-a-joint-press-availabilit/'"
      ]
     },
     "execution_count": 19,
     "metadata": {},
     "output_type": "execute_result"
    },
    {
     "data": {
      "text/plain": [
       "'success: content added from https://www.state.gov/secretary-antony-j-blinken-with-u-s-secretary-of-energy-jennifer-granholm-eu-high-representative-for-foreign-affairs-and-security-policy-and-vice-president-of-the-european-commission-josep-borrell/'"
      ]
     },
     "execution_count": 19,
     "metadata": {},
     "output_type": "execute_result"
    },
    {
     "data": {
      "text/plain": [
       "'success: content added from https://www.state.gov/grenada-independence-day/'"
      ]
     },
     "execution_count": 19,
     "metadata": {},
     "output_type": "execute_result"
    },
    {
     "data": {
      "text/plain": [
       "'success: content added from https://www.state.gov/observance-of-the-international-day-of-zero-tolerance-for-female-genital-mutilation/'"
      ]
     },
     "execution_count": 19,
     "metadata": {},
     "output_type": "execute_result"
    },
    {
     "data": {
      "text/plain": [
       "'success: content added from https://www.state.gov/secretary-antony-j-blinken-and-polish-foreign-minister-zbigniew-rau-before-their-meeting/'"
      ]
     },
     "execution_count": 19,
     "metadata": {},
     "output_type": "execute_result"
    },
    {
     "data": {
      "text/plain": [
       "'success: content added from https://www.state.gov/new-zealand-waitangi-day-2/'"
      ]
     },
     "execution_count": 19,
     "metadata": {},
     "output_type": "execute_result"
    },
    {
     "data": {
      "text/plain": [
       "'success: content added from https://www.state.gov/sri-lanka-national-day-2/'"
      ]
     },
     "execution_count": 19,
     "metadata": {},
     "output_type": "execute_result"
    },
    {
     "data": {
      "text/plain": [
       "'success: content added from https://www.state.gov/secretary-antony-j-blinken-at-a-signing-ceremony-with-slovak-foreign-minister-ivan-korcok-and-slovak-defense-minister-jaroslav-nad/'"
      ]
     },
     "execution_count": 19,
     "metadata": {},
     "output_type": "execute_result"
    },
    {
     "data": {
      "text/plain": [
       "'success: content added from https://www.state.gov/promoting-accountability-for-transnational-repression-of-belarusian-athletes-abroad/'"
      ]
     },
     "execution_count": 19,
     "metadata": {},
     "output_type": "execute_result"
    },
    {
     "data": {
      "text/plain": [
       "'success: content added from https://www.state.gov/an-important-milestone-in-the-campaign-against-isis/'"
      ]
     },
     "execution_count": 19,
     "metadata": {},
     "output_type": "execute_result"
    },
    {
     "data": {
      "text/plain": [
       "'success: content added from https://www.state.gov/secretary-antony-j-blinken-at-a-ceremony-renaming-the-harry-s-truman-cafeteria-after-ambassador-terence-a-todman/'"
      ]
     },
     "execution_count": 19,
     "metadata": {},
     "output_type": "execute_result"
    },
    {
     "data": {
      "text/plain": [
       "'success: content added from https://www.state.gov/secretary-antony-j-blinken-and-republic-of-cyprus-foreign-minister-ioannis-kasoulides-before-their-meeting/'"
      ]
     },
     "execution_count": 19,
     "metadata": {},
     "output_type": "execute_result"
    },
    {
     "data": {
      "text/plain": [
       "'success: content added from https://www.state.gov/increasing-pressure-on-the-burmese-military-regime-and-its-supporters/'"
      ]
     },
     "execution_count": 19,
     "metadata": {},
     "output_type": "execute_result"
    },
    {
     "data": {
      "text/plain": [
       "'success: content added from https://www.state.gov/on-lunar-new-year-2/'"
      ]
     },
     "execution_count": 19,
     "metadata": {},
     "output_type": "execute_result"
    },
    {
     "data": {
      "text/plain": [
       "'success: content added from https://www.state.gov/global-moment-in-time-initiative/'"
      ]
     },
     "execution_count": 19,
     "metadata": {},
     "output_type": "execute_result"
    },
    {
     "data": {
      "text/plain": [
       "'success: content added from https://www.state.gov/nauru-national-day-2/'"
      ]
     },
     "execution_count": 19,
     "metadata": {},
     "output_type": "execute_result"
    },
    {
     "data": {
      "text/plain": [
       "'success: content added from https://www.state.gov/celebrating-pepfars-19th-anniversary/'"
      ]
     },
     "execution_count": 19,
     "metadata": {},
     "output_type": "execute_result"
    },
    {
     "data": {
      "text/plain": [
       "'success: content added from https://www.state.gov/political-prisoners-in-belarus/'"
      ]
     },
     "execution_count": 19,
     "metadata": {},
     "output_type": "execute_result"
    },
    {
     "data": {
      "text/plain": [
       "'success: content added from https://www.state.gov/secretary-antony-j-blinken-with-mike-eckel-of-radio-free-europe-radio-liberty/'"
      ]
     },
     "execution_count": 19,
     "metadata": {},
     "output_type": "execute_result"
    },
    {
     "data": {
      "text/plain": [
       "'success: content added from https://www.state.gov/international-holocaust-remembrance-day/'"
      ]
     },
     "execution_count": 19,
     "metadata": {},
     "output_type": "execute_result"
    },
    {
     "data": {
      "text/plain": [
       "'success: content added from https://www.state.gov/secretary-antony-j-blinken-at-a-press-availability-13/'"
      ]
     },
     "execution_count": 19,
     "metadata": {},
     "output_type": "execute_result"
    },
    {
     "data": {
      "text/plain": [
       "'success: content added from https://www.state.gov/secretary-antony-j-blinken-and-kuwaiti-foreign-minister-sheikh-ahmed-nasser-al-mohammed-al-sabah-statements-to-the-press/'"
      ]
     },
     "execution_count": 19,
     "metadata": {},
     "output_type": "execute_result"
    },
    {
     "data": {
      "text/plain": [
       "'success: content added from https://www.state.gov/secretary-antony-j-blinken-opening-remarks-at-the-annual-meeting-of-the-presidents-interagency-task-force-to-monitor-and-combat-trafficking-in-persons-pitf/'"
      ]
     },
     "execution_count": 19,
     "metadata": {},
     "output_type": "execute_result"
    },
    {
     "data": {
      "text/plain": [
       "'success: content added from https://www.state.gov/working-together-to-address-human-trafficking/'"
      ]
     },
     "execution_count": 19,
     "metadata": {},
     "output_type": "execute_result"
    },
    {
     "data": {
      "text/plain": [
       "'success: content added from https://www.state.gov/secretary-antony-j-blinken-at-the-fran-eizenstat-and-eizenstat-family-memorial-lecture-series/'"
      ]
     },
     "execution_count": 19,
     "metadata": {},
     "output_type": "execute_result"
    },
    {
     "data": {
      "text/plain": [
       "'success: content added from https://www.state.gov/australia-national-day-2/'"
      ]
     },
     "execution_count": 19,
     "metadata": {},
     "output_type": "execute_result"
    },
    {
     "data": {
      "text/plain": [
       "'success: content added from https://www.state.gov/secretary-antony-j-blinken-with-chuck-todd-of-nbc-meet-the-press-2/'"
      ]
     },
     "execution_count": 19,
     "metadata": {},
     "output_type": "execute_result"
    },
    {
     "data": {
      "text/plain": [
       "'success: content added from https://www.state.gov/secretary-antony-j-blinken-with-margaret-brennan-of-cbs-face-the-nation-2/'"
      ]
     },
     "execution_count": 19,
     "metadata": {},
     "output_type": "execute_result"
    },
    {
     "data": {
      "text/plain": [
       "'success: content added from https://www.state.gov/secretary-antony-j-blinken-with-dana-bash-of-cnn-state-of-the-union-2/'"
      ]
     },
     "execution_count": 19,
     "metadata": {},
     "output_type": "execute_result"
    },
    {
     "data": {
      "text/plain": [
       "'success: content added from https://www.state.gov/urging-de-escalation-and-mitigation-of-civilian-harm-in-yemen/'"
      ]
     },
     "execution_count": 19,
     "metadata": {},
     "output_type": "execute_result"
    },
    {
     "data": {
      "text/plain": [
       "'success: content added from https://www.state.gov/sanctioning-international-hizballah-network/'"
      ]
     },
     "execution_count": 19,
     "metadata": {},
     "output_type": "execute_result"
    },
    {
     "data": {
      "text/plain": [
       "'success: content added from https://www.state.gov/secretary-antony-j-blinken-with-george-stephanopoulos-of-abcs-good-morning-america/'"
      ]
     },
     "execution_count": 19,
     "metadata": {},
     "output_type": "execute_result"
    },
    {
     "data": {
      "text/plain": [
       "'success: content added from https://www.state.gov/secretary-antony-j-blinken-at-a-press-availability-12/'"
      ]
     },
     "execution_count": 19,
     "metadata": {},
     "output_type": "execute_result"
    },
    {
     "data": {
      "text/plain": [
       "'success: content added from https://www.state.gov/secretary-antony-j-blinken-and-russian-foreign-minister-sergey-lavrov-before-their-meeting-2/'"
      ]
     },
     "execution_count": 19,
     "metadata": {},
     "output_type": "execute_result"
    },
    {
     "data": {
      "text/plain": [
       "'success: content added from https://www.state.gov/secretary-antony-j-blinken-with-bettina-schausten-of-zdf-heute-journal/'"
      ]
     },
     "execution_count": 19,
     "metadata": {},
     "output_type": "execute_result"
    },
    {
     "data": {
      "text/plain": [
       "'success: content added from https://www.state.gov/the-stakes-of-russian-aggression-for-ukraine-and-beyond/'"
      ]
     },
     "execution_count": 19,
     "metadata": {},
     "output_type": "execute_result"
    },
    {
     "data": {
      "text/plain": [
       "'success: content added from https://www.state.gov/secretary-antony-j-blinken-and-german-foreign-minister-annalena-baerbock-at-a-joint-press-availability-2/'"
      ]
     },
     "execution_count": 19,
     "metadata": {},
     "output_type": "execute_result"
    },
    {
     "data": {
      "text/plain": [
       "'success: content added from https://www.state.gov/taking-action-to-expose-and-disrupt-russias-destabilization-campaign-in-ukraine/'"
      ]
     },
     "execution_count": 19,
     "metadata": {},
     "output_type": "execute_result"
    },
    {
     "data": {
      "text/plain": [
       "'success: content added from https://www.state.gov/secretary-antony-j-blinken-with-myroslava-gongadze-of-voice-of-americas-ukrainian-service/'"
      ]
     },
     "execution_count": 19,
     "metadata": {},
     "output_type": "execute_result"
    },
    {
     "data": {
      "text/plain": [
       "'success: content added from https://www.state.gov/secretary-antony-j-blinken-and-ukrainian-foreign-minister-dmytro-kuleba-at-a-joint-press-availability/'"
      ]
     },
     "execution_count": 19,
     "metadata": {},
     "output_type": "execute_result"
    },
    {
     "data": {
      "text/plain": [
       "'success: content added from https://www.state.gov/secretary-antony-j-blinken-and-ukrainian-president-volodymyr-zelenskyy-before-their-meeting/'"
      ]
     },
     "execution_count": 19,
     "metadata": {},
     "output_type": "execute_result"
    },
    {
     "data": {
      "text/plain": [
       "'success: content added from https://www.state.gov/secretary-antony-j-blinken-to-mission-ukraine-staff/'"
      ]
     },
     "execution_count": 19,
     "metadata": {},
     "output_type": "execute_result"
    },
    {
     "data": {
      "text/plain": [
       "'success: content added from https://www.state.gov/secretary-antony-j-blinken-with-tommy-vietor-and-ben-rhodes-of-pod-save-the-world/'"
      ]
     },
     "execution_count": 19,
     "metadata": {},
     "output_type": "execute_result"
    },
    {
     "data": {
      "text/plain": [
       "'success: content added from https://www.state.gov/secretary-antony-j-blinken-and-argentine-foreign-minister-santiago-cafiero-before-their-meeting/'"
      ]
     },
     "execution_count": 19,
     "metadata": {},
     "output_type": "execute_result"
    },
    {
     "data": {
      "text/plain": [
       "'success: content added from https://www.state.gov/sanctioning-hizballah-financiers-in-lebanon/'"
      ]
     },
     "execution_count": 19,
     "metadata": {},
     "output_type": "execute_result"
    },
    {
     "data": {
      "text/plain": [
       "'success: content added from https://www.state.gov/secretary-antony-j-blinken-and-spanish-foreign-minister-jose-manuel-albares-before-their-meeting-2/'"
      ]
     },
     "execution_count": 19,
     "metadata": {},
     "output_type": "execute_result"
    },
    {
     "data": {
      "text/plain": [
       "'success: content added from https://www.state.gov/secretary-blinkens-remarks-on-martin-luther-king-jr-day/'"
      ]
     },
     "execution_count": 19,
     "metadata": {},
     "output_type": "execute_result"
    },
    {
     "data": {
      "text/plain": [
       "'success: content added from https://www.state.gov/appointment-of-ambassador-lucy-tamlyn-as-charge-daffaires-at-embassy-khartoum/'"
      ]
     },
     "execution_count": 19,
     "metadata": {},
     "output_type": "execute_result"
    },
    {
     "data": {
      "text/plain": [
       "'success: content added from https://www.state.gov/secretary-antony-j-blinken-with-mary-louise-kelley-of-nprs-all-things-considered/'"
      ]
     },
     "execution_count": 19,
     "metadata": {},
     "output_type": "execute_result"
    },
    {
     "data": {
      "text/plain": [
       "'success: content added from https://www.state.gov/secretary-antony-j-blinken-and-jordanian-foreign-minister-ayman-safadi-before-their-meeting-2/'"
      ]
     },
     "execution_count": 19,
     "metadata": {},
     "output_type": "execute_result"
    },
    {
     "data": {
      "text/plain": [
       "'success: content added from https://www.state.gov/secretary-antony-j-blinken-with-joe-scarborough-mika-brzezinksi-and-willie-geist-of-morning-joe-on-msnbc/'"
      ]
     },
     "execution_count": 19,
     "metadata": {},
     "output_type": "execute_result"
    },
    {
     "data": {
      "text/plain": [
       "'success: content added from https://www.state.gov/united-states-designates-entities-and-individuals-linked-to-the-democratic-peoples-republic-of-koreas-dprk-weapons-programs/'"
      ]
     },
     "execution_count": 19,
     "metadata": {},
     "output_type": "execute_result"
    },
    {
     "data": {
      "text/plain": [
       "'success: content added from https://www.state.gov/prc-sanctions-on-u-s-officials-2/'"
      ]
     },
     "execution_count": 19,
     "metadata": {},
     "output_type": "execute_result"
    },
    {
     "data": {
      "text/plain": [
       "'success: content added from https://www.state.gov/holding-accountable-nicaraguan-agents-of-repression/'"
      ]
     },
     "execution_count": 19,
     "metadata": {},
     "output_type": "execute_result"
    },
    {
     "data": {
      "text/plain": [
       "'success: content added from https://www.state.gov/secretary-antony-j-blinken-with-george-stephanopoulos-of-abc-this-week/'"
      ]
     },
     "execution_count": 19,
     "metadata": {},
     "output_type": "execute_result"
    },
    {
     "data": {
      "text/plain": [
       "'success: content added from https://www.state.gov/secretary-antony-j-blinken-with-jake-tapper-of-cnn-state-of-the-union/'"
      ]
     },
     "execution_count": 19,
     "metadata": {},
     "output_type": "execute_result"
    },
    {
     "data": {
      "text/plain": [
       "'success: content added from https://www.state.gov/secretary-antony-j-blinken-at-a-press-availability-11/'"
      ]
     },
     "execution_count": 19,
     "metadata": {},
     "output_type": "execute_result"
    },
    {
     "data": {
      "text/plain": [
       "'success: content added from https://www.state.gov/secretary-antony-j-blinken-remarks-at-the-virtual-2022-u-s-japan-security-consultative-committee-meeting-with-defense-secretary-lloyd-austin-japanese-foreign-minister-hayashi-yoshimasa-and-japanes/'"
      ]
     },
     "execution_count": 19,
     "metadata": {},
     "output_type": "execute_result"
    },
    {
     "data": {
      "text/plain": [
       "'success: content added from https://www.state.gov/welcoming-dr-emily-j-blanchard-as-chief-economist/'"
      ]
     },
     "execution_count": 19,
     "metadata": {},
     "output_type": "execute_result"
    },
    {
     "data": {
      "text/plain": [
       "'success: content added from https://www.state.gov/visa-restrictions-against-cuban-officials/'"
      ]
     },
     "execution_count": 19,
     "metadata": {},
     "output_type": "execute_result"
    },
    {
     "data": {
      "text/plain": [
       "'success: content added from https://www.state.gov/u-s-special-envoy-for-the-horn-of-africa/'"
      ]
     },
     "execution_count": 19,
     "metadata": {},
     "output_type": "execute_result"
    },
    {
     "data": {
      "text/plain": [
       "'success: content added from https://www.state.gov/secretary-antony-j-blinken-and-german-foreign-minister-annalena-baerbock-at-a-joint-press-availability/'"
      ]
     },
     "execution_count": 19,
     "metadata": {},
     "output_type": "execute_result"
    },
    {
     "data": {
      "text/plain": [
       "'success: content added from https://www.state.gov/u-s-government-takes-action-against-current-and-former-bosnia-and-herzegovina-officials-due-to-involvement-in-significant-corruption-and-destabilizing-activities/'"
      ]
     },
     "execution_count": 19,
     "metadata": {},
     "output_type": "execute_result"
    },
    {
     "data": {
      "text/plain": [
       "'success: content added from https://www.state.gov/burma-independence-day/'"
      ]
     },
     "execution_count": 19,
     "metadata": {},
     "output_type": "execute_result"
    },
    {
     "data": {
      "text/plain": [
       "'success: content added from https://www.state.gov/haiti-independence-day/'"
      ]
     },
     "execution_count": 19,
     "metadata": {},
     "output_type": "execute_result"
    },
    {
     "data": {
      "text/plain": [
       "'success: content added from https://www.state.gov/sudan-national-day-statement/'"
      ]
     },
     "execution_count": 19,
     "metadata": {},
     "output_type": "execute_result"
    },
    {
     "data": {
      "text/plain": [
       "'success: content added from https://www.state.gov/stand-news-arrests-and-closure/'"
      ]
     },
     "execution_count": 19,
     "metadata": {},
     "output_type": "execute_result"
    },
    {
     "data": {
      "text/plain": [
       "'success: content added from https://www.state.gov/leadership-on-afghan-women-girls-and-human-rights-rina-amiri-and-stephenie-foster/'"
      ]
     },
     "execution_count": 19,
     "metadata": {},
     "output_type": "execute_result"
    },
    {
     "data": {
      "text/plain": [
       "'success: content added from https://www.state.gov/dissolution-of-international-memorial/'"
      ]
     },
     "execution_count": 19,
     "metadata": {},
     "output_type": "execute_result"
    }
   ],
   "source": [
    "# do this for all!\n",
    "for i in combined_df2.link:\n",
    "     get_link_content_blinken(i, combined_df2, my_header_list)"
   ]
  },
  {
   "cell_type": "code",
   "execution_count": 20,
   "id": "112db5eb",
   "metadata": {},
   "outputs": [
    {
     "name": "stdout",
     "output_type": "stream",
     "text": [
      "<class 'pandas.core.frame.DataFrame'>\n",
      "RangeIndex: 1030 entries, 0 to 1029\n",
      "Data columns (total 7 columns):\n",
      " #   Column           Non-Null Count  Dtype \n",
      "---  ------           --------------  ----- \n",
      " 0   title            1030 non-null   object\n",
      " 1   source           1030 non-null   object\n",
      " 2   date             1030 non-null   object\n",
      " 3   type_of_release  1030 non-null   object\n",
      " 4   link             1030 non-null   object\n",
      " 5   content          1029 non-null   object\n",
      " 6   page_scraped     1030 non-null   int64 \n",
      "dtypes: int64(1), object(6)\n",
      "memory usage: 56.5+ KB\n"
     ]
    }
   ],
   "source": [
    "combined_df2.info()"
   ]
  },
  {
   "cell_type": "code",
   "execution_count": 23,
   "id": "9371e7eb",
   "metadata": {},
   "outputs": [],
   "source": [
    "# save to csv to preserve data\n",
    "combined_df2.to_csv('blinken_2022_linkscontent_backup2.csv')"
   ]
  },
  {
   "cell_type": "markdown",
   "id": "42e645f4",
   "metadata": {},
   "source": [
    "### Troubleshoot Missed Content"
   ]
  },
  {
   "cell_type": "code",
   "execution_count": 21,
   "id": "73d7e519",
   "metadata": {},
   "outputs": [
    {
     "data": {
      "text/html": [
       "<div>\n",
       "<style scoped>\n",
       "    .dataframe tbody tr th:only-of-type {\n",
       "        vertical-align: middle;\n",
       "    }\n",
       "\n",
       "    .dataframe tbody tr th {\n",
       "        vertical-align: top;\n",
       "    }\n",
       "\n",
       "    .dataframe thead th {\n",
       "        text-align: right;\n",
       "    }\n",
       "</style>\n",
       "<table border=\"1\" class=\"dataframe\">\n",
       "  <thead>\n",
       "    <tr style=\"text-align: right;\">\n",
       "      <th></th>\n",
       "      <th>title</th>\n",
       "      <th>source</th>\n",
       "      <th>date</th>\n",
       "      <th>type_of_release</th>\n",
       "      <th>link</th>\n",
       "      <th>content</th>\n",
       "      <th>page_scraped</th>\n",
       "    </tr>\n",
       "  </thead>\n",
       "  <tbody>\n",
       "    <tr>\n",
       "      <th>811</th>\n",
       "      <td>Secretary Antony J. Blinken and Israeli Presid...</td>\n",
       "      <td>Antony J. Blinken</td>\n",
       "      <td>March 27, 2022</td>\n",
       "      <td>Remarks</td>\n",
       "      <td>https://www.state.gov/secretary-antony-j-blink...</td>\n",
       "      <td>NaN</td>\n",
       "      <td>157</td>\n",
       "    </tr>\n",
       "  </tbody>\n",
       "</table>\n",
       "</div>"
      ],
      "text/plain": [
       "                                                 title             source  \\\n",
       "811  Secretary Antony J. Blinken and Israeli Presid...  Antony J. Blinken   \n",
       "\n",
       "               date type_of_release  \\\n",
       "811  March 27, 2022         Remarks   \n",
       "\n",
       "                                                  link content  page_scraped  \n",
       "811  https://www.state.gov/secretary-antony-j-blink...     NaN           157  "
      ]
     },
     "execution_count": 21,
     "metadata": {},
     "output_type": "execute_result"
    }
   ],
   "source": [
    "retry = combined_df2[combined_df2.content.isnull()].copy()\n",
    "retry"
   ]
  },
  {
   "cell_type": "code",
   "execution_count": 24,
   "id": "aa0994e7",
   "metadata": {},
   "outputs": [
    {
     "data": {
      "text/plain": [
       "'success: content added from https://www.state.gov/secretary-antony-j-blinken-and-israeli-president-isaac-herzog-before-their-meeting/'"
      ]
     },
     "execution_count": 24,
     "metadata": {},
     "output_type": "execute_result"
    }
   ],
   "source": [
    "# worked this time\n",
    "for i in retry.link: \n",
    "    get_link_content_blinken(i, combined_df2, my_header_list)"
   ]
  },
  {
   "cell_type": "code",
   "execution_count": 25,
   "id": "d48408bc",
   "metadata": {},
   "outputs": [
    {
     "name": "stdout",
     "output_type": "stream",
     "text": [
      "<class 'pandas.core.frame.DataFrame'>\n",
      "RangeIndex: 1030 entries, 0 to 1029\n",
      "Data columns (total 7 columns):\n",
      " #   Column           Non-Null Count  Dtype \n",
      "---  ------           --------------  ----- \n",
      " 0   title            1030 non-null   object\n",
      " 1   source           1030 non-null   object\n",
      " 2   date             1030 non-null   object\n",
      " 3   type_of_release  1030 non-null   object\n",
      " 4   link             1030 non-null   object\n",
      " 5   content          1030 non-null   object\n",
      " 6   page_scraped     1030 non-null   int64 \n",
      "dtypes: int64(1), object(6)\n",
      "memory usage: 56.5+ KB\n"
     ]
    }
   ],
   "source": [
    "combined_df2.info()"
   ]
  },
  {
   "cell_type": "code",
   "execution_count": 26,
   "id": "c5698f07",
   "metadata": {},
   "outputs": [],
   "source": [
    "# save to csv to preserve data\n",
    "combined_df2.to_csv('blinken_2022_linkscontent_backup.csv')"
   ]
  },
  {
   "cell_type": "markdown",
   "id": "43fe91bd",
   "metadata": {},
   "source": [
    "## Clean and Subset"
   ]
  },
  {
   "cell_type": "markdown",
   "id": "c59a0434",
   "metadata": {},
   "source": [
    "#### Clean"
   ]
  },
  {
   "cell_type": "code",
   "execution_count": 30,
   "id": "a79a0c3e",
   "metadata": {},
   "outputs": [
    {
     "name": "stdout",
     "output_type": "stream",
     "text": [
      "<class 'pandas.core.frame.DataFrame'>\n",
      "RangeIndex: 1030 entries, 0 to 1029\n",
      "Data columns (total 7 columns):\n",
      " #   Column           Non-Null Count  Dtype \n",
      "---  ------           --------------  ----- \n",
      " 0   title            1030 non-null   object\n",
      " 1   source           1030 non-null   object\n",
      " 2   date             1030 non-null   object\n",
      " 3   type_of_release  1030 non-null   object\n",
      " 4   link             1030 non-null   object\n",
      " 5   content          1030 non-null   object\n",
      " 6   page_scraped     1030 non-null   int64 \n",
      "dtypes: int64(1), object(6)\n",
      "memory usage: 56.5+ KB\n"
     ]
    }
   ],
   "source": [
    "blinken_pull = combined_df2.copy()\n",
    "blinken_pull.info()"
   ]
  },
  {
   "cell_type": "code",
   "execution_count": 28,
   "id": "2722b8c9",
   "metadata": {},
   "outputs": [
    {
     "data": {
      "text/plain": [
       "array(['Remarks', 'Press Statement', 'Interview', 'Video Remarks',\n",
       "       'Remarks to the Press', 'Speech', 'FPC Briefing'], dtype=object)"
      ]
     },
     "execution_count": 28,
     "metadata": {},
     "output_type": "execute_result"
    }
   ],
   "source": [
    "# see if type of release is consistent \n",
    "blinken_pull.type_of_release.unique()"
   ]
  },
  {
   "cell_type": "code",
   "execution_count": 29,
   "id": "c1d1df30",
   "metadata": {},
   "outputs": [
    {
     "data": {
      "text/plain": [
       "array(['Antony J. Blinken', 'March 18, 2022',\n",
       "       'Secretary Antony J. Blinken with AU Commission Chairperson Moussa Faki Mahamat at the Signing of a Memorandum of Cooperation Between the United States and the African Union'],\n",
       "      dtype=object)"
      ]
     },
     "execution_count": 29,
     "metadata": {},
     "output_type": "execute_result"
    }
   ],
   "source": [
    "# see if source is consistent\n",
    "blinken_pull.source.unique() # looks like there's some mess mixed in o let's manually fix this "
   ]
  },
  {
   "cell_type": "code",
   "execution_count": 32,
   "id": "41600eae",
   "metadata": {},
   "outputs": [
    {
     "data": {
      "text/html": [
       "<div>\n",
       "<style scoped>\n",
       "    .dataframe tbody tr th:only-of-type {\n",
       "        vertical-align: middle;\n",
       "    }\n",
       "\n",
       "    .dataframe tbody tr th {\n",
       "        vertical-align: top;\n",
       "    }\n",
       "\n",
       "    .dataframe thead th {\n",
       "        text-align: right;\n",
       "    }\n",
       "</style>\n",
       "<table border=\"1\" class=\"dataframe\">\n",
       "  <thead>\n",
       "    <tr style=\"text-align: right;\">\n",
       "      <th></th>\n",
       "      <th>title</th>\n",
       "      <th>source</th>\n",
       "      <th>date</th>\n",
       "      <th>type_of_release</th>\n",
       "      <th>link</th>\n",
       "      <th>content</th>\n",
       "      <th>page_scraped</th>\n",
       "    </tr>\n",
       "  </thead>\n",
       "  <tbody>\n",
       "    <tr>\n",
       "      <th>853</th>\n",
       "      <td>Secretary Antony J. Blinken with AU Commission...</td>\n",
       "      <td>Secretary Antony J. Blinken with AU Commission...</td>\n",
       "      <td>March 11, 2022</td>\n",
       "      <td>Remarks</td>\n",
       "      <td>https://www.state.gov/secretary-antony-j-blink...</td>\n",
       "      <td>SECRETARY BLINKEN:  Good morning, everyone. ...</td>\n",
       "      <td>161</td>\n",
       "    </tr>\n",
       "  </tbody>\n",
       "</table>\n",
       "</div>"
      ],
      "text/plain": [
       "                                                 title  \\\n",
       "853  Secretary Antony J. Blinken with AU Commission...   \n",
       "\n",
       "                                                source            date  \\\n",
       "853  Secretary Antony J. Blinken with AU Commission...  March 11, 2022   \n",
       "\n",
       "    type_of_release                                               link  \\\n",
       "853         Remarks  https://www.state.gov/secretary-antony-j-blink...   \n",
       "\n",
       "                                               content  page_scraped  \n",
       "853    SECRETARY BLINKEN:  Good morning, everyone. ...           161  "
      ]
     },
     "execution_count": 32,
     "metadata": {},
     "output_type": "execute_result"
    }
   ],
   "source": [
    "# this can be fixed by manually setting source \n",
    "blinken_pull[blinken_pull.source == 'Secretary Antony J. Blinken with AU Commission Chairperson Moussa Faki Mahamat at the Signing of a Memorandum of Cooperation Between the United States and the African Union' ]"
   ]
  },
  {
   "cell_type": "code",
   "execution_count": 33,
   "id": "3354fa84",
   "metadata": {},
   "outputs": [
    {
     "data": {
      "text/html": [
       "<div>\n",
       "<style scoped>\n",
       "    .dataframe tbody tr th:only-of-type {\n",
       "        vertical-align: middle;\n",
       "    }\n",
       "\n",
       "    .dataframe tbody tr th {\n",
       "        vertical-align: top;\n",
       "    }\n",
       "\n",
       "    .dataframe thead th {\n",
       "        text-align: right;\n",
       "    }\n",
       "</style>\n",
       "<table border=\"1\" class=\"dataframe\">\n",
       "  <thead>\n",
       "    <tr style=\"text-align: right;\">\n",
       "      <th></th>\n",
       "      <th>title</th>\n",
       "      <th>source</th>\n",
       "      <th>date</th>\n",
       "      <th>type_of_release</th>\n",
       "      <th>link</th>\n",
       "      <th>content</th>\n",
       "      <th>page_scraped</th>\n",
       "    </tr>\n",
       "  </thead>\n",
       "  <tbody>\n",
       "    <tr>\n",
       "      <th>831</th>\n",
       "      <td>Secretary Antony J. Blinken And Malawian Presi...</td>\n",
       "      <td>March 18, 2022</td>\n",
       "      <td>March 18, 2022</td>\n",
       "      <td>Remarks</td>\n",
       "      <td>https://www.state.gov/secretary-antony-j-blink...</td>\n",
       "      <td>SECRETARY BLINKEN:  Well, good afternoon, ever...</td>\n",
       "      <td>159</td>\n",
       "    </tr>\n",
       "  </tbody>\n",
       "</table>\n",
       "</div>"
      ],
      "text/plain": [
       "                                                 title          source  \\\n",
       "831  Secretary Antony J. Blinken And Malawian Presi...  March 18, 2022   \n",
       "\n",
       "               date type_of_release  \\\n",
       "831  March 18, 2022         Remarks   \n",
       "\n",
       "                                                  link  \\\n",
       "831  https://www.state.gov/secretary-antony-j-blink...   \n",
       "\n",
       "                                               content  page_scraped  \n",
       "831  SECRETARY BLINKEN:  Well, good afternoon, ever...           159  "
      ]
     },
     "execution_count": 33,
     "metadata": {},
     "output_type": "execute_result"
    }
   ],
   "source": [
    "# same with this one \n",
    "blinken_pull[blinken_pull.source == 'March 18, 2022']"
   ]
  },
  {
   "cell_type": "code",
   "execution_count": 34,
   "id": "06330e65",
   "metadata": {},
   "outputs": [],
   "source": [
    "blinken_pull['source'] = 'Antony J. Blinken'"
   ]
  },
  {
   "cell_type": "code",
   "execution_count": 35,
   "id": "cd2bf408",
   "metadata": {},
   "outputs": [
    {
     "data": {
      "text/plain": [
       "array(['Antony J. Blinken'], dtype=object)"
      ]
     },
     "execution_count": 35,
     "metadata": {},
     "output_type": "execute_result"
    }
   ],
   "source": [
    "blinken_pull.source.unique()"
   ]
  },
  {
   "cell_type": "code",
   "execution_count": 37,
   "id": "e27f0d84",
   "metadata": {},
   "outputs": [
    {
     "data": {
      "text/html": [
       "<div>\n",
       "<style scoped>\n",
       "    .dataframe tbody tr th:only-of-type {\n",
       "        vertical-align: middle;\n",
       "    }\n",
       "\n",
       "    .dataframe tbody tr th {\n",
       "        vertical-align: top;\n",
       "    }\n",
       "\n",
       "    .dataframe thead th {\n",
       "        text-align: right;\n",
       "    }\n",
       "</style>\n",
       "<table border=\"1\" class=\"dataframe\">\n",
       "  <thead>\n",
       "    <tr style=\"text-align: right;\">\n",
       "      <th></th>\n",
       "      <th>title</th>\n",
       "      <th>source</th>\n",
       "      <th>date</th>\n",
       "      <th>type_of_release</th>\n",
       "      <th>link</th>\n",
       "      <th>content</th>\n",
       "      <th>page_scraped</th>\n",
       "      <th>content_length</th>\n",
       "    </tr>\n",
       "  </thead>\n",
       "  <tbody>\n",
       "    <tr>\n",
       "      <th>0</th>\n",
       "      <td>Secretary Antony J. Blinken And Surinamese Pre...</td>\n",
       "      <td>Antony J. Blinken</td>\n",
       "      <td>September 15, 2022</td>\n",
       "      <td>Remarks</td>\n",
       "      <td>https://www.state.gov/secretary-antony-j-blink...</td>\n",
       "      <td>SECRETARY BLINKEN: Well, good morning, everyon...</td>\n",
       "      <td>110</td>\n",
       "      <td>602</td>\n",
       "    </tr>\n",
       "    <tr>\n",
       "      <th>1</th>\n",
       "      <td>Targeting Russia’s Senior Officials, Defense I...</td>\n",
       "      <td>Antony J. Blinken</td>\n",
       "      <td>September 15, 2022</td>\n",
       "      <td>Press Statement</td>\n",
       "      <td>https://www.state.gov/targeting-senior-russian...</td>\n",
       "      <td>The United States continues to hold the Russia...</td>\n",
       "      <td>110</td>\n",
       "      <td>440</td>\n",
       "    </tr>\n",
       "    <tr>\n",
       "      <th>2</th>\n",
       "      <td>Commemorating the International Day of Democracy</td>\n",
       "      <td>Antony J. Blinken</td>\n",
       "      <td>September 15, 2022</td>\n",
       "      <td>Press Statement</td>\n",
       "      <td>https://www.state.gov/commemorating-the-intern...</td>\n",
       "      <td>This International Day of Democracy, we unders...</td>\n",
       "      <td>110</td>\n",
       "      <td>318</td>\n",
       "    </tr>\n",
       "    <tr>\n",
       "      <th>3</th>\n",
       "      <td>Papua New Guinea National Day</td>\n",
       "      <td>Antony J. Blinken</td>\n",
       "      <td>September 15, 2022</td>\n",
       "      <td>Press Statement</td>\n",
       "      <td>https://www.state.gov/papua-new-guinea-nationa...</td>\n",
       "      <td>On behalf of the United States of America, I e...</td>\n",
       "      <td>110</td>\n",
       "      <td>113</td>\n",
       "    </tr>\n",
       "    <tr>\n",
       "      <th>4</th>\n",
       "      <td>El Salvador National Day</td>\n",
       "      <td>Antony J. Blinken</td>\n",
       "      <td>September 15, 2022</td>\n",
       "      <td>Press Statement</td>\n",
       "      <td>https://www.state.gov/el-salvador-national-day/</td>\n",
       "      <td>On behalf of the Government of the United Stat...</td>\n",
       "      <td>110</td>\n",
       "      <td>181</td>\n",
       "    </tr>\n",
       "  </tbody>\n",
       "</table>\n",
       "</div>"
      ],
      "text/plain": [
       "                                               title             source  \\\n",
       "0  Secretary Antony J. Blinken And Surinamese Pre...  Antony J. Blinken   \n",
       "1  Targeting Russia’s Senior Officials, Defense I...  Antony J. Blinken   \n",
       "2   Commemorating the International Day of Democracy  Antony J. Blinken   \n",
       "3                      Papua New Guinea National Day  Antony J. Blinken   \n",
       "4                           El Salvador National Day  Antony J. Blinken   \n",
       "\n",
       "                 date  type_of_release  \\\n",
       "0  September 15, 2022          Remarks   \n",
       "1  September 15, 2022  Press Statement   \n",
       "2  September 15, 2022  Press Statement   \n",
       "3  September 15, 2022  Press Statement   \n",
       "4  September 15, 2022  Press Statement   \n",
       "\n",
       "                                                link  \\\n",
       "0  https://www.state.gov/secretary-antony-j-blink...   \n",
       "1  https://www.state.gov/targeting-senior-russian...   \n",
       "2  https://www.state.gov/commemorating-the-intern...   \n",
       "3  https://www.state.gov/papua-new-guinea-nationa...   \n",
       "4    https://www.state.gov/el-salvador-national-day/   \n",
       "\n",
       "                                             content  page_scraped  \\\n",
       "0  SECRETARY BLINKEN: Well, good morning, everyon...           110   \n",
       "1  The United States continues to hold the Russia...           110   \n",
       "2  This International Day of Democracy, we unders...           110   \n",
       "3  On behalf of the United States of America, I e...           110   \n",
       "4  On behalf of the Government of the United Stat...           110   \n",
       "\n",
       "   content_length  \n",
       "0             602  \n",
       "1             440  \n",
       "2             318  \n",
       "3             113  \n",
       "4             181  "
      ]
     },
     "execution_count": 37,
     "metadata": {},
     "output_type": "execute_result"
    }
   ],
   "source": [
    "# calculate word length\n",
    "blinken_pull['content_length'] = [len(i.split()) for i in blinken_pull.content]\n",
    "blinken_pull.head()"
   ]
  },
  {
   "cell_type": "code",
   "execution_count": 38,
   "id": "d502457b",
   "metadata": {},
   "outputs": [
    {
     "data": {
      "text/html": [
       "<div>\n",
       "<style scoped>\n",
       "    .dataframe tbody tr th:only-of-type {\n",
       "        vertical-align: middle;\n",
       "    }\n",
       "\n",
       "    .dataframe tbody tr th {\n",
       "        vertical-align: top;\n",
       "    }\n",
       "\n",
       "    .dataframe thead th {\n",
       "        text-align: right;\n",
       "    }\n",
       "</style>\n",
       "<table border=\"1\" class=\"dataframe\">\n",
       "  <thead>\n",
       "    <tr style=\"text-align: right;\">\n",
       "      <th></th>\n",
       "      <th>title</th>\n",
       "      <th>source</th>\n",
       "      <th>date</th>\n",
       "      <th>type_of_release</th>\n",
       "      <th>link</th>\n",
       "      <th>content</th>\n",
       "      <th>page_scraped</th>\n",
       "      <th>content_length</th>\n",
       "      <th>date_clean</th>\n",
       "    </tr>\n",
       "  </thead>\n",
       "  <tbody>\n",
       "    <tr>\n",
       "      <th>0</th>\n",
       "      <td>Secretary Antony J. Blinken And Surinamese Pre...</td>\n",
       "      <td>Antony J. Blinken</td>\n",
       "      <td>September 15, 2022</td>\n",
       "      <td>Remarks</td>\n",
       "      <td>https://www.state.gov/secretary-antony-j-blink...</td>\n",
       "      <td>SECRETARY BLINKEN: Well, good morning, everyon...</td>\n",
       "      <td>110</td>\n",
       "      <td>602</td>\n",
       "      <td>2022-09-15</td>\n",
       "    </tr>\n",
       "    <tr>\n",
       "      <th>1</th>\n",
       "      <td>Targeting Russia’s Senior Officials, Defense I...</td>\n",
       "      <td>Antony J. Blinken</td>\n",
       "      <td>September 15, 2022</td>\n",
       "      <td>Press Statement</td>\n",
       "      <td>https://www.state.gov/targeting-senior-russian...</td>\n",
       "      <td>The United States continues to hold the Russia...</td>\n",
       "      <td>110</td>\n",
       "      <td>440</td>\n",
       "      <td>2022-09-15</td>\n",
       "    </tr>\n",
       "    <tr>\n",
       "      <th>2</th>\n",
       "      <td>Commemorating the International Day of Democracy</td>\n",
       "      <td>Antony J. Blinken</td>\n",
       "      <td>September 15, 2022</td>\n",
       "      <td>Press Statement</td>\n",
       "      <td>https://www.state.gov/commemorating-the-intern...</td>\n",
       "      <td>This International Day of Democracy, we unders...</td>\n",
       "      <td>110</td>\n",
       "      <td>318</td>\n",
       "      <td>2022-09-15</td>\n",
       "    </tr>\n",
       "    <tr>\n",
       "      <th>3</th>\n",
       "      <td>Papua New Guinea National Day</td>\n",
       "      <td>Antony J. Blinken</td>\n",
       "      <td>September 15, 2022</td>\n",
       "      <td>Press Statement</td>\n",
       "      <td>https://www.state.gov/papua-new-guinea-nationa...</td>\n",
       "      <td>On behalf of the United States of America, I e...</td>\n",
       "      <td>110</td>\n",
       "      <td>113</td>\n",
       "      <td>2022-09-15</td>\n",
       "    </tr>\n",
       "    <tr>\n",
       "      <th>4</th>\n",
       "      <td>El Salvador National Day</td>\n",
       "      <td>Antony J. Blinken</td>\n",
       "      <td>September 15, 2022</td>\n",
       "      <td>Press Statement</td>\n",
       "      <td>https://www.state.gov/el-salvador-national-day/</td>\n",
       "      <td>On behalf of the Government of the United Stat...</td>\n",
       "      <td>110</td>\n",
       "      <td>181</td>\n",
       "      <td>2022-09-15</td>\n",
       "    </tr>\n",
       "  </tbody>\n",
       "</table>\n",
       "</div>"
      ],
      "text/plain": [
       "                                               title             source  \\\n",
       "0  Secretary Antony J. Blinken And Surinamese Pre...  Antony J. Blinken   \n",
       "1  Targeting Russia’s Senior Officials, Defense I...  Antony J. Blinken   \n",
       "2   Commemorating the International Day of Democracy  Antony J. Blinken   \n",
       "3                      Papua New Guinea National Day  Antony J. Blinken   \n",
       "4                           El Salvador National Day  Antony J. Blinken   \n",
       "\n",
       "                 date  type_of_release  \\\n",
       "0  September 15, 2022          Remarks   \n",
       "1  September 15, 2022  Press Statement   \n",
       "2  September 15, 2022  Press Statement   \n",
       "3  September 15, 2022  Press Statement   \n",
       "4  September 15, 2022  Press Statement   \n",
       "\n",
       "                                                link  \\\n",
       "0  https://www.state.gov/secretary-antony-j-blink...   \n",
       "1  https://www.state.gov/targeting-senior-russian...   \n",
       "2  https://www.state.gov/commemorating-the-intern...   \n",
       "3  https://www.state.gov/papua-new-guinea-nationa...   \n",
       "4    https://www.state.gov/el-salvador-national-day/   \n",
       "\n",
       "                                             content  page_scraped  \\\n",
       "0  SECRETARY BLINKEN: Well, good morning, everyon...           110   \n",
       "1  The United States continues to hold the Russia...           110   \n",
       "2  This International Day of Democracy, we unders...           110   \n",
       "3  On behalf of the United States of America, I e...           110   \n",
       "4  On behalf of the Government of the United Stat...           110   \n",
       "\n",
       "   content_length date_clean  \n",
       "0             602 2022-09-15  \n",
       "1             440 2022-09-15  \n",
       "2             318 2022-09-15  \n",
       "3             113 2022-09-15  \n",
       "4             181 2022-09-15  "
      ]
     },
     "execution_count": 38,
     "metadata": {},
     "output_type": "execute_result"
    }
   ],
   "source": [
    "# convert date to date object\n",
    "\n",
    "# Convert the 'date' to datetime\n",
    "blinken_pull['date_clean'] = pd.to_datetime(blinken_pull['date'], format='%B %d, %Y')\n",
    "\n",
    "# Now, 'date_clean' contains datetime objects\n",
    "blinken_pull.head()"
   ]
  },
  {
   "cell_type": "code",
   "execution_count": 39,
   "id": "604a31b8",
   "metadata": {},
   "outputs": [],
   "source": [
    "# drop original date column \n",
    "blinken_pull_clean = blinken_pull.drop(columns=['date']).copy()"
   ]
  },
  {
   "cell_type": "code",
   "execution_count": 50,
   "id": "f20e4dac",
   "metadata": {},
   "outputs": [],
   "source": [
    "# save as backup \n",
    "blinken_pull_clean.to_csv('blinken_pull_2022_clean.csv', index=False)"
   ]
  },
  {
   "cell_type": "markdown",
   "id": "c6a56e1b",
   "metadata": {},
   "source": [
    "#### Subset to 2022 "
   ]
  },
  {
   "cell_type": "code",
   "execution_count": 41,
   "id": "2c67cc1e",
   "metadata": {},
   "outputs": [],
   "source": [
    "blinken_2022 = blinken_pull_clean[(blinken_pull_clean['date_clean'] >= '2022-01-01')\n",
    "                     & (blinken_pull_clean['date_clean'] <= '2022-12-31')].copy()"
   ]
  },
  {
   "cell_type": "code",
   "execution_count": 42,
   "id": "1a02bf7c",
   "metadata": {},
   "outputs": [
    {
     "name": "stdout",
     "output_type": "stream",
     "text": [
      "<class 'pandas.core.frame.DataFrame'>\n",
      "Int64Index: 1019 entries, 0 to 1026\n",
      "Data columns (total 8 columns):\n",
      " #   Column           Non-Null Count  Dtype         \n",
      "---  ------           --------------  -----         \n",
      " 0   title            1019 non-null   object        \n",
      " 1   source           1019 non-null   object        \n",
      " 2   type_of_release  1019 non-null   object        \n",
      " 3   link             1019 non-null   object        \n",
      " 4   content          1019 non-null   object        \n",
      " 5   page_scraped     1019 non-null   int64         \n",
      " 6   content_length   1019 non-null   int64         \n",
      " 7   date_clean       1019 non-null   datetime64[ns]\n",
      "dtypes: datetime64[ns](1), int64(2), object(5)\n",
      "memory usage: 71.6+ KB\n"
     ]
    }
   ],
   "source": [
    "blinken_2022.info()"
   ]
  },
  {
   "cell_type": "code",
   "execution_count": 51,
   "id": "0bf18cce",
   "metadata": {},
   "outputs": [],
   "source": [
    "# save as csv\n",
    "blinken_2022.to_csv('blinken_2022.csv', index=False )"
   ]
  },
  {
   "cell_type": "markdown",
   "id": "c8328f66",
   "metadata": {},
   "source": [
    "## Plot"
   ]
  },
  {
   "cell_type": "code",
   "execution_count": 2,
   "id": "91f1a5ac",
   "metadata": {},
   "outputs": [],
   "source": [
    "# load data\n",
    "blinken_2022 = pd.read_csv('blinken_2022.csv')"
   ]
  },
  {
   "cell_type": "code",
   "execution_count": 3,
   "id": "54641625",
   "metadata": {},
   "outputs": [
    {
     "data": {
      "text/plain": [
       "count     1019.000000\n",
       "mean       956.553484\n",
       "std       1529.448012\n",
       "min         44.000000\n",
       "25%        172.500000\n",
       "50%        310.000000\n",
       "75%        992.000000\n",
       "max      13086.000000\n",
       "Name: content_length, dtype: float64"
      ]
     },
     "execution_count": 3,
     "metadata": {},
     "output_type": "execute_result"
    }
   ],
   "source": [
    "blinken_2022.content_length.describe()"
   ]
  },
  {
   "cell_type": "code",
   "execution_count": 4,
   "id": "5f167d60",
   "metadata": {},
   "outputs": [
    {
     "data": {
      "text/plain": [
       "262"
      ]
     },
     "execution_count": 4,
     "metadata": {},
     "output_type": "execute_result"
    },
    {
     "name": "stdout",
     "output_type": "stream",
     "text": [
      "25.71 percent of documents are > mean 956 words\n"
     ]
    }
   ],
   "source": [
    "# see how many documents are greater than mean\n",
    "greater_mean_blinken = len(blinken_2022[blinken_2022.content_length > blinken_2022.content_length.mean()]) \n",
    "greater_mean_blinken\n",
    "print(str(round((greater_mean_blinken/len(blinken_2022)*100),2)) + ' percent of documents are > mean 956 words')"
   ]
  },
  {
   "cell_type": "code",
   "execution_count": 7,
   "id": "d6724651",
   "metadata": {},
   "outputs": [
    {
     "data": {
      "text/plain": [
       "(array([259., 245., 111.,  64.,  37.,  27.,  14.,  20.,  17.,  14.,  21.,\n",
       "         15.,  17.,  14.,   9.,   8.,   8.,   4.,   4.,   4.,   6.,   6.,\n",
       "          2.,   1.,   4.,   7.,   6.,   3.,   5.,   2.,   2.,   4.,   7.,\n",
       "          1.,   6.,   2.,   5.,   2.,   1.,   1.,   2.,   2.,   4.,   1.,\n",
       "          0.,   1.,   2.,   3.,   1.,   3.,   1.,   2.,   0.,   2.,   1.,\n",
       "          0.,   1.,   0.,   0.,   1.,   0.,   0.,   1.,   3.,   0.,   0.,\n",
       "          0.,   1.,   0.,   0.,   0.,   0.,   0.,   0.,   0.,   0.,   0.,\n",
       "          0.,   0.,   0.,   0.,   0.,   0.,   0.,   1.,   0.,   0.,   0.,\n",
       "          0.,   0.,   0.,   0.,   0.,   0.,   0.,   0.,   0.,   0.,   0.,\n",
       "          1.]),\n",
       " array([   44.  ,   174.42,   304.84,   435.26,   565.68,   696.1 ,\n",
       "          826.52,   956.94,  1087.36,  1217.78,  1348.2 ,  1478.62,\n",
       "         1609.04,  1739.46,  1869.88,  2000.3 ,  2130.72,  2261.14,\n",
       "         2391.56,  2521.98,  2652.4 ,  2782.82,  2913.24,  3043.66,\n",
       "         3174.08,  3304.5 ,  3434.92,  3565.34,  3695.76,  3826.18,\n",
       "         3956.6 ,  4087.02,  4217.44,  4347.86,  4478.28,  4608.7 ,\n",
       "         4739.12,  4869.54,  4999.96,  5130.38,  5260.8 ,  5391.22,\n",
       "         5521.64,  5652.06,  5782.48,  5912.9 ,  6043.32,  6173.74,\n",
       "         6304.16,  6434.58,  6565.  ,  6695.42,  6825.84,  6956.26,\n",
       "         7086.68,  7217.1 ,  7347.52,  7477.94,  7608.36,  7738.78,\n",
       "         7869.2 ,  7999.62,  8130.04,  8260.46,  8390.88,  8521.3 ,\n",
       "         8651.72,  8782.14,  8912.56,  9042.98,  9173.4 ,  9303.82,\n",
       "         9434.24,  9564.66,  9695.08,  9825.5 ,  9955.92, 10086.34,\n",
       "        10216.76, 10347.18, 10477.6 , 10608.02, 10738.44, 10868.86,\n",
       "        10999.28, 11129.7 , 11260.12, 11390.54, 11520.96, 11651.38,\n",
       "        11781.8 , 11912.22, 12042.64, 12173.06, 12303.48, 12433.9 ,\n",
       "        12564.32, 12694.74, 12825.16, 12955.58, 13086.  ]),\n",
       " <BarContainer object of 100 artists>)"
      ]
     },
     "execution_count": 7,
     "metadata": {},
     "output_type": "execute_result"
    },
    {
     "data": {
      "text/plain": [
       "Text(1100, 150, 'Mean length: 956 words')"
      ]
     },
     "execution_count": 7,
     "metadata": {},
     "output_type": "execute_result"
    },
    {
     "data": {
      "text/plain": [
       "<matplotlib.lines.Line2D at 0x7f91c0560b50>"
      ]
     },
     "execution_count": 7,
     "metadata": {},
     "output_type": "execute_result"
    },
    {
     "data": {
      "text/plain": [
       "Text(0.5, 1.0, 'From 1019 public remarks from January 1, 2022 - December 31, 2022')"
      ]
     },
     "execution_count": 7,
     "metadata": {},
     "output_type": "execute_result"
    },
    {
     "data": {
      "text/plain": [
       "Text(0.5, 0.98, 'Distribution of Document Length - Blinken')"
      ]
     },
     "execution_count": 7,
     "metadata": {},
     "output_type": "execute_result"
    },
    {
     "data": {
      "text/plain": [
       "Text(0.5, 0, 'Document Word Count')"
      ]
     },
     "execution_count": 7,
     "metadata": {},
     "output_type": "execute_result"
    },
    {
     "data": {
      "text/plain": [
       "Text(0, 0.5, 'Number of Documents')"
      ]
     },
     "execution_count": 7,
     "metadata": {},
     "output_type": "execute_result"
    },
    {
     "data": {
      "image/png": "[encoded data removed]",
      "text/plain": [
       "<Figure size 648x360 with 1 Axes>"
      ]
     },
     "metadata": {
      "needs_background": "light"
     },
     "output_type": "display_data"
    }
   ],
   "source": [
    "# see what the range of document length is \n",
    "fig, ax = plt.subplots(figsize=(9,5))\n",
    "plt.hist(blinken_2022.content_length, bins = 100)\n",
    "ax.text(1100, 150, 'Mean length: 956 words')\n",
    "plt.axvline(x = 956, color = 'dimgrey',ls = 'dashed')\n",
    "plt.title('From 1019 public remarks from January 1, 2022 - December 31, 2022', size = 10)\n",
    "plt.suptitle('Distribution of Document Length - Blinken', size = 20)\n",
    "plt.xlabel('Document Word Count')\n",
    "plt.ylabel('Number of Documents')\n",
    "#fig.savefig('blinken2022_hist.png')"
   ]
  }
 ],
 "metadata": {
  "kernelspec": {
   "display_name": "Python 3 (ipykernel)",
   "language": "python",
   "name": "python3"
  },
  "language_info": {
   "codemirror_mode": {
    "name": "ipython",
    "version": 3
   },
   "file_extension": ".py",
   "mimetype": "text/x-python",
   "name": "python",
   "nbconvert_exporter": "python",
   "pygments_lexer": "ipython3",
   "version": "3.9.12"
  }
 },
 "nbformat": 4,
 "nbformat_minor": 5
}
