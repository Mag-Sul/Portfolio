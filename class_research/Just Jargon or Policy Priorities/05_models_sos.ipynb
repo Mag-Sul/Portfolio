{
 "cells": [
  {
   "cell_type": "markdown",
   "id": "856777df",
   "metadata": {},
   "source": [
    "# SOS Models"
   ]
  },
  {
   "cell_type": "code",
   "execution_count": 1,
   "id": "a8556a78",
   "metadata": {},
   "outputs": [
    {
     "name": "stdout",
     "output_type": "stream",
     "text": [
      "Exception reporting mode: Minimal\n"
     ]
    }
   ],
   "source": [
    "import pandas as pd\n",
    "import numpy as np\n",
    "import matplotlib.pyplot as plt\n",
    "plt.rcParams[\"figure.figsize\"] = (12,10)\n",
    "from sklearn.model_selection import train_test_split, cross_val_score, validation_curve\n",
    "from sklearn.metrics import confusion_matrix, classification_report, ConfusionMatrixDisplay\n",
    "from sklearn.feature_extraction.text import TfidfVectorizer\n",
    "from sklearn.preprocessing import LabelEncoder\n",
    "from sklearn.neighbors import KNeighborsClassifier\n",
    "from sklearn.linear_model import LogisticRegressionCV, LogisticRegression\n",
    "from sklearn.naive_bayes import MultinomialNB, CategoricalNB, ComplementNB, GaussianNB\n",
    "from sklearn.metrics import roc_curve, auc\n",
    "import seaborn as sns\n",
    "from sklearn.tree import DecisionTreeClassifier, plot_tree\n",
    "from sklearn.ensemble import RandomForestClassifier\n",
    "from sklearn.decomposition import PCA\n",
    "\n",
    "from IPython.core.interactiveshell import InteractiveShell \n",
    "InteractiveShell.ast_node_interactivity = \"all\"\n",
    "\n",
    "%xmode Minimal"
   ]
  },
  {
   "cell_type": "markdown",
   "id": "e10f5a13",
   "metadata": {},
   "source": [
    "###  Load Data"
   ]
  },
  {
   "cell_type": "code",
   "execution_count": 2,
   "id": "6d8a1b5c",
   "metadata": {},
   "outputs": [],
   "source": [
    "# load data \n",
    "sos = pd.read_csv('data/sos.csv')\n",
    "sos_terms = pd.read_csv('data/df_custom_lemm.csv')"
   ]
  },
  {
   "cell_type": "code",
   "execution_count": 3,
   "id": "3bdf8c18",
   "metadata": {},
   "outputs": [
    {
     "data": {
      "text/html": [
       "<div>\n",
       "<style scoped>\n",
       "    .dataframe tbody tr th:only-of-type {\n",
       "        vertical-align: middle;\n",
       "    }\n",
       "\n",
       "    .dataframe tbody tr th {\n",
       "        vertical-align: top;\n",
       "    }\n",
       "\n",
       "    .dataframe thead th {\n",
       "        text-align: right;\n",
       "    }\n",
       "</style>\n",
       "<table border=\"1\" class=\"dataframe\">\n",
       "  <thead>\n",
       "    <tr style=\"text-align: right;\">\n",
       "      <th></th>\n",
       "      <th>title</th>\n",
       "      <th>source</th>\n",
       "      <th>type_of_release</th>\n",
       "      <th>link</th>\n",
       "      <th>content</th>\n",
       "      <th>page_scraped</th>\n",
       "      <th>content_length</th>\n",
       "      <th>date_clean</th>\n",
       "    </tr>\n",
       "  </thead>\n",
       "  <tbody>\n",
       "    <tr>\n",
       "      <th>0</th>\n",
       "      <td>Secretary Antony J. Blinken And Surinamese Pre...</td>\n",
       "      <td>Antony J. Blinken</td>\n",
       "      <td>Remarks</td>\n",
       "      <td>https://www.state.gov/secretary-antony-j-blink...</td>\n",
       "      <td>SECRETARY BLINKEN: Well, good morning, everyon...</td>\n",
       "      <td>110.0</td>\n",
       "      <td>602</td>\n",
       "      <td>2022-09-15</td>\n",
       "    </tr>\n",
       "    <tr>\n",
       "      <th>1</th>\n",
       "      <td>Targeting Russia’s Senior Officials, Defense I...</td>\n",
       "      <td>Antony J. Blinken</td>\n",
       "      <td>Press Statement</td>\n",
       "      <td>https://www.state.gov/targeting-senior-russian...</td>\n",
       "      <td>The United States continues to hold the Russia...</td>\n",
       "      <td>110.0</td>\n",
       "      <td>440</td>\n",
       "      <td>2022-09-15</td>\n",
       "    </tr>\n",
       "    <tr>\n",
       "      <th>2</th>\n",
       "      <td>Commemorating the International Day of Democracy</td>\n",
       "      <td>Antony J. Blinken</td>\n",
       "      <td>Press Statement</td>\n",
       "      <td>https://www.state.gov/commemorating-the-intern...</td>\n",
       "      <td>This International Day of Democracy, we unders...</td>\n",
       "      <td>110.0</td>\n",
       "      <td>318</td>\n",
       "      <td>2022-09-15</td>\n",
       "    </tr>\n",
       "    <tr>\n",
       "      <th>3</th>\n",
       "      <td>Papua New Guinea National Day</td>\n",
       "      <td>Antony J. Blinken</td>\n",
       "      <td>Press Statement</td>\n",
       "      <td>https://www.state.gov/papua-new-guinea-nationa...</td>\n",
       "      <td>On behalf of the United States of America, I e...</td>\n",
       "      <td>110.0</td>\n",
       "      <td>113</td>\n",
       "      <td>2022-09-15</td>\n",
       "    </tr>\n",
       "    <tr>\n",
       "      <th>4</th>\n",
       "      <td>El Salvador National Day</td>\n",
       "      <td>Antony J. Blinken</td>\n",
       "      <td>Press Statement</td>\n",
       "      <td>https://www.state.gov/el-salvador-national-day/</td>\n",
       "      <td>On behalf of the Government of the United Stat...</td>\n",
       "      <td>110.0</td>\n",
       "      <td>181</td>\n",
       "      <td>2022-09-15</td>\n",
       "    </tr>\n",
       "  </tbody>\n",
       "</table>\n",
       "</div>"
      ],
      "text/plain": [
       "                                               title             source  \\\n",
       "0  Secretary Antony J. Blinken And Surinamese Pre...  Antony J. Blinken   \n",
       "1  Targeting Russia’s Senior Officials, Defense I...  Antony J. Blinken   \n",
       "2   Commemorating the International Day of Democracy  Antony J. Blinken   \n",
       "3                      Papua New Guinea National Day  Antony J. Blinken   \n",
       "4                           El Salvador National Day  Antony J. Blinken   \n",
       "\n",
       "   type_of_release                                               link  \\\n",
       "0          Remarks  https://www.state.gov/secretary-antony-j-blink...   \n",
       "1  Press Statement  https://www.state.gov/targeting-senior-russian...   \n",
       "2  Press Statement  https://www.state.gov/commemorating-the-intern...   \n",
       "3  Press Statement  https://www.state.gov/papua-new-guinea-nationa...   \n",
       "4  Press Statement    https://www.state.gov/el-salvador-national-day/   \n",
       "\n",
       "                                             content  page_scraped  \\\n",
       "0  SECRETARY BLINKEN: Well, good morning, everyon...         110.0   \n",
       "1  The United States continues to hold the Russia...         110.0   \n",
       "2  This International Day of Democracy, we unders...         110.0   \n",
       "3  On behalf of the United States of America, I e...         110.0   \n",
       "4  On behalf of the Government of the United Stat...         110.0   \n",
       "\n",
       "   content_length  date_clean  \n",
       "0             602  2022-09-15  \n",
       "1             440  2022-09-15  \n",
       "2             318  2022-09-15  \n",
       "3             113  2022-09-15  \n",
       "4             181  2022-09-15  "
      ]
     },
     "execution_count": 3,
     "metadata": {},
     "output_type": "execute_result"
    },
    {
     "data": {
      "text/plain": [
       "(1973, 8)"
      ]
     },
     "execution_count": 3,
     "metadata": {},
     "output_type": "execute_result"
    },
    {
     "data": {
      "text/html": [
       "<div>\n",
       "<style scoped>\n",
       "    .dataframe tbody tr th:only-of-type {\n",
       "        vertical-align: middle;\n",
       "    }\n",
       "\n",
       "    .dataframe tbody tr th {\n",
       "        vertical-align: top;\n",
       "    }\n",
       "\n",
       "    .dataframe thead th {\n",
       "        text-align: right;\n",
       "    }\n",
       "</style>\n",
       "<table border=\"1\" class=\"dataframe\">\n",
       "  <thead>\n",
       "    <tr style=\"text-align: right;\">\n",
       "      <th></th>\n",
       "      <th>abandon</th>\n",
       "      <th>abandoned</th>\n",
       "      <th>abbas</th>\n",
       "      <th>abc</th>\n",
       "      <th>abducted</th>\n",
       "      <th>abdullah</th>\n",
       "      <th>abe</th>\n",
       "      <th>abhorrent</th>\n",
       "      <th>abide</th>\n",
       "      <th>abiding</th>\n",
       "      <th>...</th>\n",
       "      <th>zayed</th>\n",
       "      <th>zealand</th>\n",
       "      <th>zelenskyy</th>\n",
       "      <th>zelenskyy said</th>\n",
       "      <th>zero</th>\n",
       "      <th>zeya</th>\n",
       "      <th>zimbabwe</th>\n",
       "      <th>zone</th>\n",
       "      <th>zoom</th>\n",
       "      <th>zte</th>\n",
       "    </tr>\n",
       "  </thead>\n",
       "  <tbody>\n",
       "    <tr>\n",
       "      <th>0</th>\n",
       "      <td>0.0</td>\n",
       "      <td>0.0</td>\n",
       "      <td>0.0</td>\n",
       "      <td>0.0</td>\n",
       "      <td>0.0</td>\n",
       "      <td>0.0</td>\n",
       "      <td>0.0</td>\n",
       "      <td>0.0</td>\n",
       "      <td>0.0</td>\n",
       "      <td>0.0</td>\n",
       "      <td>...</td>\n",
       "      <td>0.0</td>\n",
       "      <td>0.0</td>\n",
       "      <td>0.0</td>\n",
       "      <td>0.0</td>\n",
       "      <td>0.0</td>\n",
       "      <td>0.0</td>\n",
       "      <td>0.0</td>\n",
       "      <td>0.0</td>\n",
       "      <td>0.0</td>\n",
       "      <td>0.0</td>\n",
       "    </tr>\n",
       "    <tr>\n",
       "      <th>1</th>\n",
       "      <td>0.0</td>\n",
       "      <td>0.0</td>\n",
       "      <td>0.0</td>\n",
       "      <td>0.0</td>\n",
       "      <td>0.0</td>\n",
       "      <td>0.0</td>\n",
       "      <td>0.0</td>\n",
       "      <td>0.0</td>\n",
       "      <td>0.0</td>\n",
       "      <td>0.0</td>\n",
       "      <td>...</td>\n",
       "      <td>0.0</td>\n",
       "      <td>0.0</td>\n",
       "      <td>0.0</td>\n",
       "      <td>0.0</td>\n",
       "      <td>0.0</td>\n",
       "      <td>0.0</td>\n",
       "      <td>0.0</td>\n",
       "      <td>0.0</td>\n",
       "      <td>0.0</td>\n",
       "      <td>0.0</td>\n",
       "    </tr>\n",
       "    <tr>\n",
       "      <th>2</th>\n",
       "      <td>0.0</td>\n",
       "      <td>0.0</td>\n",
       "      <td>0.0</td>\n",
       "      <td>0.0</td>\n",
       "      <td>0.0</td>\n",
       "      <td>0.0</td>\n",
       "      <td>0.0</td>\n",
       "      <td>0.0</td>\n",
       "      <td>0.0</td>\n",
       "      <td>0.0</td>\n",
       "      <td>...</td>\n",
       "      <td>0.0</td>\n",
       "      <td>0.0</td>\n",
       "      <td>0.0</td>\n",
       "      <td>0.0</td>\n",
       "      <td>0.0</td>\n",
       "      <td>0.0</td>\n",
       "      <td>0.0</td>\n",
       "      <td>0.0</td>\n",
       "      <td>0.0</td>\n",
       "      <td>0.0</td>\n",
       "    </tr>\n",
       "    <tr>\n",
       "      <th>3</th>\n",
       "      <td>0.0</td>\n",
       "      <td>0.0</td>\n",
       "      <td>0.0</td>\n",
       "      <td>0.0</td>\n",
       "      <td>0.0</td>\n",
       "      <td>0.0</td>\n",
       "      <td>0.0</td>\n",
       "      <td>0.0</td>\n",
       "      <td>0.0</td>\n",
       "      <td>0.0</td>\n",
       "      <td>...</td>\n",
       "      <td>0.0</td>\n",
       "      <td>0.0</td>\n",
       "      <td>0.0</td>\n",
       "      <td>0.0</td>\n",
       "      <td>0.0</td>\n",
       "      <td>0.0</td>\n",
       "      <td>0.0</td>\n",
       "      <td>0.0</td>\n",
       "      <td>0.0</td>\n",
       "      <td>0.0</td>\n",
       "    </tr>\n",
       "    <tr>\n",
       "      <th>4</th>\n",
       "      <td>0.0</td>\n",
       "      <td>0.0</td>\n",
       "      <td>0.0</td>\n",
       "      <td>0.0</td>\n",
       "      <td>0.0</td>\n",
       "      <td>0.0</td>\n",
       "      <td>0.0</td>\n",
       "      <td>0.0</td>\n",
       "      <td>0.0</td>\n",
       "      <td>0.0</td>\n",
       "      <td>...</td>\n",
       "      <td>0.0</td>\n",
       "      <td>0.0</td>\n",
       "      <td>0.0</td>\n",
       "      <td>0.0</td>\n",
       "      <td>0.0</td>\n",
       "      <td>0.0</td>\n",
       "      <td>0.0</td>\n",
       "      <td>0.0</td>\n",
       "      <td>0.0</td>\n",
       "      <td>0.0</td>\n",
       "    </tr>\n",
       "  </tbody>\n",
       "</table>\n",
       "<p>5 rows × 15976 columns</p>\n",
       "</div>"
      ],
      "text/plain": [
       "   abandon  abandoned  abbas  abc  abducted  abdullah  abe  abhorrent  abide  \\\n",
       "0      0.0        0.0    0.0  0.0       0.0       0.0  0.0        0.0    0.0   \n",
       "1      0.0        0.0    0.0  0.0       0.0       0.0  0.0        0.0    0.0   \n",
       "2      0.0        0.0    0.0  0.0       0.0       0.0  0.0        0.0    0.0   \n",
       "3      0.0        0.0    0.0  0.0       0.0       0.0  0.0        0.0    0.0   \n",
       "4      0.0        0.0    0.0  0.0       0.0       0.0  0.0        0.0    0.0   \n",
       "\n",
       "   abiding  ...  zayed  zealand  zelenskyy  zelenskyy said  zero  zeya  \\\n",
       "0      0.0  ...    0.0      0.0        0.0             0.0   0.0   0.0   \n",
       "1      0.0  ...    0.0      0.0        0.0             0.0   0.0   0.0   \n",
       "2      0.0  ...    0.0      0.0        0.0             0.0   0.0   0.0   \n",
       "3      0.0  ...    0.0      0.0        0.0             0.0   0.0   0.0   \n",
       "4      0.0  ...    0.0      0.0        0.0             0.0   0.0   0.0   \n",
       "\n",
       "   zimbabwe  zone  zoom  zte  \n",
       "0       0.0   0.0   0.0  0.0  \n",
       "1       0.0   0.0   0.0  0.0  \n",
       "2       0.0   0.0   0.0  0.0  \n",
       "3       0.0   0.0   0.0  0.0  \n",
       "4       0.0   0.0   0.0  0.0  \n",
       "\n",
       "[5 rows x 15976 columns]"
      ]
     },
     "execution_count": 3,
     "metadata": {},
     "output_type": "execute_result"
    }
   ],
   "source": [
    "sos.head()\n",
    "sos.shape\n",
    "sos_terms.head()"
   ]
  },
  {
   "cell_type": "code",
   "execution_count": 4,
   "id": "72b17901",
   "metadata": {},
   "outputs": [],
   "source": [
    "#simplify class for readability later on\n",
    "sos['source_cl'] = np.where(sos.source == 'Antony J. Blinken', 'Blinken', 'Pompeo').copy()"
   ]
  },
  {
   "cell_type": "code",
   "execution_count": 5,
   "id": "90d8a031",
   "metadata": {},
   "outputs": [
    {
     "data": {
      "text/plain": [
       "source\n",
       "Antony J. Blinken    1019\n",
       "Michael R. Pompeo     954\n",
       "dtype: int64"
      ]
     },
     "execution_count": 5,
     "metadata": {},
     "output_type": "execute_result"
    },
    {
     "data": {
      "text/plain": [
       "source_cl\n",
       "Blinken    1019\n",
       "Pompeo      954\n",
       "dtype: int64"
      ]
     },
     "execution_count": 5,
     "metadata": {},
     "output_type": "execute_result"
    }
   ],
   "source": [
    "#check this worked\n",
    "sos.groupby('source').size()\n",
    "sos.groupby('source_cl').size()"
   ]
  },
  {
   "cell_type": "markdown",
   "id": "b7cb493f",
   "metadata": {},
   "source": [
    "### Set Up Definitions"
   ]
  },
  {
   "cell_type": "code",
   "execution_count": 6,
   "id": "d16ee0ee",
   "metadata": {},
   "outputs": [],
   "source": [
    "# Fit model function \n",
    "def get_fit(model, xtrain, ytrain):\n",
    "    '''input a model type and x and y training data\n",
    "    fits the model'''\n",
    "    new_model = model.fit(xtrain, ytrain)\n",
    "    return new_model"
   ]
  },
  {
   "cell_type": "code",
   "execution_count": 7,
   "id": "68e05292",
   "metadata": {},
   "outputs": [],
   "source": [
    "# create definition to get fit and features \n",
    "def score_and_features(tree, xtrain, ytrain, xtest, ytest):\n",
    "    new_tree = tree.fit(xtrain, ytrain)\n",
    "    feature_df = pd.DataFrame({'Feature': xtest.columns, 'Importance': new_tree.feature_importances_})\n",
    "    top_10 = feature_df.sort_values(by = 'Importance', ascending = False).head(10)\n",
    "    return (round(new_tree.score(xtest, ytest),3), top_10)"
   ]
  },
  {
   "cell_type": "code",
   "execution_count": 8,
   "id": "8139e610",
   "metadata": {},
   "outputs": [],
   "source": [
    "# Scoring models function\n",
    "def get_score(model, model_name, xtest, ytest):\n",
    "    '''input a model type, model string name, data_name and x and y testing data\n",
    "    prints the score '''\n",
    "    result = model.score(xtest, ytest)\n",
    "    return (f'{model_name}'+\" score : \" + str(round(result,3)))"
   ]
  },
  {
   "cell_type": "markdown",
   "id": "5abe6783",
   "metadata": {},
   "source": [
    "### Train Test Split"
   ]
  },
  {
   "cell_type": "code",
   "execution_count": 9,
   "id": "94eca3f7",
   "metadata": {},
   "outputs": [
    {
     "data": {
      "text/plain": [
       "{'Blinken', 'Pompeo'}"
      ]
     },
     "execution_count": 9,
     "metadata": {},
     "output_type": "execute_result"
    }
   ],
   "source": [
    "x = sos_terms.copy()\n",
    "y = sos.source_cl\n",
    "set(y)"
   ]
  },
  {
   "cell_type": "code",
   "execution_count": 10,
   "id": "764c63d3",
   "metadata": {},
   "outputs": [],
   "source": [
    "# y = sos.source\n",
    "# lb = LabelEncoder()\n",
    "# lb.fit(y)\n",
    "# lb.classes_\n",
    "# y = lb.transform(y)"
   ]
  },
  {
   "cell_type": "code",
   "execution_count": 11,
   "id": "906e814a",
   "metadata": {},
   "outputs": [],
   "source": [
    "# train test, split\n",
    "x_train, x_test, y_train, y_test = train_test_split(x, y, test_size=0.2, random_state = 42)"
   ]
  },
  {
   "cell_type": "markdown",
   "id": "ab557e1f",
   "metadata": {},
   "source": [
    "### Run Models"
   ]
  },
  {
   "cell_type": "markdown",
   "id": "69d64d1c",
   "metadata": {},
   "source": [
    "#### KNN "
   ]
  },
  {
   "cell_type": "code",
   "execution_count": 12,
   "id": "85515ff6",
   "metadata": {},
   "outputs": [
    {
     "data": {
      "text/plain": [
       "'KNN score : 0.818'"
      ]
     },
     "execution_count": 12,
     "metadata": {},
     "output_type": "execute_result"
    }
   ],
   "source": [
    "# now let's train a model with the arbitrary k = 3\n",
    "knn = KNeighborsClassifier(n_neighbors=3)\n",
    "\n",
    "# fit\n",
    "model_knn = get_fit(knn, x_train, y_train)\n",
    "\n",
    "# score \n",
    "get_score(model_knn,'KNN', x_test, y_test)"
   ]
  },
  {
   "cell_type": "code",
   "execution_count": 13,
   "id": "0addd0a3",
   "metadata": {},
   "outputs": [],
   "source": [
    "# create a validation curve with default 5-fold cross-valduation \n",
    "neighbor_range = np.arange(1,11)\n",
    "\n",
    "train_scores, test_scores = validation_curve(model_knn, x, y, param_name='n_neighbors',\n",
    "                                            param_range=neighbor_range)"
   ]
  },
  {
   "cell_type": "code",
   "execution_count": 14,
   "id": "d12e29ad",
   "metadata": {},
   "outputs": [],
   "source": [
    "# find the mean of these scores\n",
    "test_mean = np.mean(test_scores, axis=1)"
   ]
  },
  {
   "cell_type": "code",
   "execution_count": 15,
   "id": "49dc34fa",
   "metadata": {},
   "outputs": [
    {
     "data": {
      "text/plain": [
       "[<matplotlib.lines.Line2D at 0x7f8ed8938bb0>]"
      ]
     },
     "execution_count": 15,
     "metadata": {},
     "output_type": "execute_result"
    },
    {
     "data": {
      "text/plain": [
       "Text(0.5, 0, 'Number of Neighbors')"
      ]
     },
     "execution_count": 15,
     "metadata": {},
     "output_type": "execute_result"
    },
    {
     "data": {
      "text/plain": [
       "Text(0, 0.5, 'Score')"
      ]
     },
     "execution_count": 15,
     "metadata": {},
     "output_type": "execute_result"
    },
    {
     "data": {
      "text/plain": [
       "Text(0.5, 1.0, 'KNN Validation Curve')"
      ]
     },
     "execution_count": 15,
     "metadata": {},
     "output_type": "execute_result"
    },
    {
     "data": {
      "text/plain": [
       "([<matplotlib.axis.XTick at 0x7f8f2c12afd0>,\n",
       "  <matplotlib.axis.XTick at 0x7f8f2c12afa0>,\n",
       "  <matplotlib.axis.XTick at 0x7f8f2c12aa90>,\n",
       "  <matplotlib.axis.XTick at 0x7f8f2d4577c0>,\n",
       "  <matplotlib.axis.XTick at 0x7f8f2d44d2b0>,\n",
       "  <matplotlib.axis.XTick at 0x7f8f2d44dd60>,\n",
       "  <matplotlib.axis.XTick at 0x7f8f2d449850>,\n",
       "  <matplotlib.axis.XTick at 0x7f8f2d4490d0>,\n",
       "  <matplotlib.axis.XTick at 0x7f8f2d441460>,\n",
       "  <matplotlib.axis.XTick at 0x7f8f2d441f10>],\n",
       " [Text(1, 0, '1'),\n",
       "  Text(2, 0, '2'),\n",
       "  Text(3, 0, '3'),\n",
       "  Text(4, 0, '4'),\n",
       "  Text(5, 0, '5'),\n",
       "  Text(6, 0, '6'),\n",
       "  Text(7, 0, '7'),\n",
       "  Text(8, 0, '8'),\n",
       "  Text(9, 0, '9'),\n",
       "  Text(10, 0, '10')])"
      ]
     },
     "execution_count": 15,
     "metadata": {},
     "output_type": "execute_result"
    },
    {
     "data": {
      "text/plain": [
       "<matplotlib.legend.Legend at 0x7f8ed8938e80>"
      ]
     },
     "execution_count": 15,
     "metadata": {},
     "output_type": "execute_result"
    },
    {
     "data": {
      "text/plain": [
       "<matplotlib.lines.Line2D at 0x7f8ed8938f70>"
      ]
     },
     "execution_count": 15,
     "metadata": {},
     "output_type": "execute_result"
    },
    {
     "data": {
      "image/png": "[encoded data removed]",
      "text/plain": [
       "<Figure size 720x360 with 1 Axes>"
      ]
     },
     "metadata": {
      "needs_background": "light"
     },
     "output_type": "display_data"
    }
   ],
   "source": [
    "# plot this\n",
    "fig, ax = plt.subplots(figsize=(10,5))\n",
    "plt.plot(neighbor_range, test_mean, label='Test')\n",
    "plt.xlabel('Number of Neighbors')\n",
    "plt.ylabel('Score')\n",
    "plt.title('KNN Validation Curve', fontsize = 20)\n",
    "plt.xticks(np.arange(1,11, step = 1))\n",
    "plt.grid(True)\n",
    "plt.legend()\n",
    "plt.axvline(x=3, linestyle='dashed', color = 'firebrick')\n",
    "plt.show()\n",
    "# fig.savefig('knn_validation.png')"
   ]
  },
  {
   "cell_type": "code",
   "execution_count": 16,
   "id": "b5ebd1dd",
   "metadata": {},
   "outputs": [],
   "source": [
    "# 3 is arguably the best; 9 is better but increases complexity into the model so we'll keep 3"
   ]
  },
  {
   "cell_type": "markdown",
   "id": "007f2427",
   "metadata": {},
   "source": [
    "#### Decision Trees"
   ]
  },
  {
   "cell_type": "code",
   "execution_count": 17,
   "id": "120cac54",
   "metadata": {},
   "outputs": [],
   "source": [
    "tree = DecisionTreeClassifier(random_state=42)"
   ]
  },
  {
   "cell_type": "code",
   "execution_count": 18,
   "id": "3d78e325",
   "metadata": {},
   "outputs": [
    {
     "data": {
      "text/plain": [
       "(0.785,\n",
       "               Feature  Importance\n",
       " 14595         ukraine    0.186785\n",
       " 2162          climate    0.109249\n",
       " 724          american    0.091907\n",
       " 11115          regime    0.028021\n",
       " 2229        colleague    0.027997\n",
       " 4612         everyone    0.022619\n",
       " 1335   behalf america    0.021110\n",
       " 1703            burma    0.013699\n",
       " 2373        committed    0.013680\n",
       " 5902         grateful    0.012464)"
      ]
     },
     "execution_count": 18,
     "metadata": {},
     "output_type": "execute_result"
    }
   ],
   "source": [
    "score_and_features(tree, x_train, y_train, x_test, y_test)"
   ]
  },
  {
   "cell_type": "code",
   "execution_count": 19,
   "id": "a3ca90ed",
   "metadata": {},
   "outputs": [],
   "source": [
    "# create parameters\n",
    "depth_range = np.arange(1,11)\n",
    "\n",
    "train_scores_tree, test_scores_tree = validation_curve(tree, x, y, param_name ='max_depth', \n",
    "                                             param_range = depth_range, cv = 10)\n",
    "\n",
    "# find means\n",
    "train_mean_tree = np.mean(train_scores_tree, axis=1)\n",
    "test_mean_tree = np.mean(test_scores_tree, axis=1)"
   ]
  },
  {
   "cell_type": "code",
   "execution_count": 20,
   "id": "8a3bd08a",
   "metadata": {},
   "outputs": [
    {
     "data": {
      "text/plain": [
       "[<matplotlib.lines.Line2D at 0x7f8ee887be20>]"
      ]
     },
     "execution_count": 20,
     "metadata": {},
     "output_type": "execute_result"
    },
    {
     "data": {
      "text/plain": [
       "[<matplotlib.lines.Line2D at 0x7f8ee886c1f0>]"
      ]
     },
     "execution_count": 20,
     "metadata": {},
     "output_type": "execute_result"
    },
    {
     "data": {
      "text/plain": [
       "([<matplotlib.axis.XTick at 0x7f8ee885a1c0>,\n",
       "  <matplotlib.axis.XTick at 0x7f8ee885a190>,\n",
       "  <matplotlib.axis.XTick at 0x7f8f1d18eca0>,\n",
       "  <matplotlib.axis.XTick at 0x7f8ee886cc70>,\n",
       "  <matplotlib.axis.XTick at 0x7f8f1bc6b760>,\n",
       "  <matplotlib.axis.XTick at 0x7f8f1bca5250>,\n",
       "  <matplotlib.axis.XTick at 0x7f8f1bc6b0d0>,\n",
       "  <matplotlib.axis.XTick at 0x7f8f1bca5e20>,\n",
       "  <matplotlib.axis.XTick at 0x7f8f1bca0910>,\n",
       "  <matplotlib.axis.XTick at 0x7f8f1bc9c400>],\n",
       " [Text(1, 0, '1'),\n",
       "  Text(2, 0, '2'),\n",
       "  Text(3, 0, '3'),\n",
       "  Text(4, 0, '4'),\n",
       "  Text(5, 0, '5'),\n",
       "  Text(6, 0, '6'),\n",
       "  Text(7, 0, '7'),\n",
       "  Text(8, 0, '8'),\n",
       "  Text(9, 0, '9'),\n",
       "  Text(10, 0, '10')])"
      ]
     },
     "execution_count": 20,
     "metadata": {},
     "output_type": "execute_result"
    },
    {
     "data": {
      "text/plain": [
       "Text(0.5, 0, 'Maximum Depth')"
      ]
     },
     "execution_count": 20,
     "metadata": {},
     "output_type": "execute_result"
    },
    {
     "data": {
      "text/plain": [
       "Text(0, 0.5, 'Score (R2)')"
      ]
     },
     "execution_count": 20,
     "metadata": {},
     "output_type": "execute_result"
    },
    {
     "data": {
      "text/plain": [
       "Text(0.5, 0.98, '  Decision Tree Validation Curve')"
      ]
     },
     "execution_count": 20,
     "metadata": {},
     "output_type": "execute_result"
    },
    {
     "data": {
      "text/plain": [
       "Text(0.5, 1.0, 'Maximum Depth')"
      ]
     },
     "execution_count": 20,
     "metadata": {},
     "output_type": "execute_result"
    },
    {
     "data": {
      "text/plain": [
       "<matplotlib.lines.Line2D at 0x7f8ed860c460>"
      ]
     },
     "execution_count": 20,
     "metadata": {},
     "output_type": "execute_result"
    },
    {
     "data": {
      "text/plain": [
       "<matplotlib.legend.Legend at 0x7f8f1bca5880>"
      ]
     },
     "execution_count": 20,
     "metadata": {},
     "output_type": "execute_result"
    },
    {
     "data": {
      "image/png": "[encoded data removed]",
      "text/plain": [
       "<Figure size 720x360 with 1 Axes>"
      ]
     },
     "metadata": {
      "needs_background": "light"
     },
     "output_type": "display_data"
    }
   ],
   "source": [
    "# plot\n",
    "max_depth = np.arange(1,11)\n",
    "fig1 = plt.figure(figsize = (10,5))\n",
    "plt.plot(max_depth, train_mean_tree, label='Train Data')\n",
    "plt.plot(max_depth, test_mean_tree, label='Test Data')\n",
    "plt.grid(True)\n",
    "plt.xticks(np.arange(1,11, step = 1))\n",
    "plt.xlabel('Maximum Depth')\n",
    "plt.ylabel('Score (R2)')\n",
    "plt.suptitle('  Decision Tree Validation Curve', fontsize = 20)\n",
    "plt.title('Maximum Depth')\n",
    "plt.axvline(5, linestyle = 'dashed', color = 'firebrick')\n",
    "plt.legend()\n",
    "plt.show()\n",
    "\n",
    "# fig1.savefig('dt_validation_curve_depth.png')"
   ]
  },
  {
   "cell_type": "code",
   "execution_count": 21,
   "id": "f05501bd",
   "metadata": {},
   "outputs": [],
   "source": [
    "# create parameters\n",
    "min_sample_range = np.arange(10,110,10)\n",
    "\n",
    "train_scores_tree2, test_scores_tree2 = validation_curve(tree, x, y, param_name ='min_samples_split', \n",
    "                                             param_range = min_sample_range, cv = 10)\n",
    "\n",
    "# find means\n",
    "train_mean_tree2 = np.mean(train_scores_tree2, axis=1)\n",
    "test_mean_tree2 = np.mean(test_scores_tree2, axis=1)"
   ]
  },
  {
   "cell_type": "code",
   "execution_count": 22,
   "id": "93c31e9a",
   "metadata": {},
   "outputs": [
    {
     "data": {
      "text/plain": [
       "[<matplotlib.lines.Line2D at 0x7f8f2e02ac70>]"
      ]
     },
     "execution_count": 22,
     "metadata": {},
     "output_type": "execute_result"
    },
    {
     "data": {
      "text/plain": [
       "[<matplotlib.lines.Line2D at 0x7f8f2e02af10>]"
      ]
     },
     "execution_count": 22,
     "metadata": {},
     "output_type": "execute_result"
    },
    {
     "data": {
      "text/plain": [
       "([<matplotlib.axis.XTick at 0x7f8f2aa48220>,\n",
       "  <matplotlib.axis.XTick at 0x7f8f2aa481f0>,\n",
       "  <matplotlib.axis.XTick at 0x7f8f2a8eebb0>,\n",
       "  <matplotlib.axis.XTick at 0x7f8f2e01d9d0>,\n",
       "  <matplotlib.axis.XTick at 0x7f8f2e0134c0>,\n",
       "  <matplotlib.axis.XTick at 0x7f8f2e0139d0>,\n",
       "  <matplotlib.axis.XTick at 0x7f8f2e0084c0>,\n",
       "  <matplotlib.axis.XTick at 0x7f8f2e008fd0>,\n",
       "  <matplotlib.axis.XTick at 0x7f8f2e002ac0>,\n",
       "  <matplotlib.axis.XTick at 0x7f8f2e002df0>],\n",
       " [Text(10, 0, '10'),\n",
       "  Text(20, 0, '20'),\n",
       "  Text(30, 0, '30'),\n",
       "  Text(40, 0, '40'),\n",
       "  Text(50, 0, '50'),\n",
       "  Text(60, 0, '60'),\n",
       "  Text(70, 0, '70'),\n",
       "  Text(80, 0, '80'),\n",
       "  Text(90, 0, '90'),\n",
       "  Text(100, 0, '100')])"
      ]
     },
     "execution_count": 22,
     "metadata": {},
     "output_type": "execute_result"
    },
    {
     "data": {
      "text/plain": [
       "Text(0.5, 0, 'Minimum Sample for Splitting')"
      ]
     },
     "execution_count": 22,
     "metadata": {},
     "output_type": "execute_result"
    },
    {
     "data": {
      "text/plain": [
       "Text(0, 0.5, 'Score (R2)')"
      ]
     },
     "execution_count": 22,
     "metadata": {},
     "output_type": "execute_result"
    },
    {
     "data": {
      "text/plain": [
       "Text(0.5, 0.98, ' Decision Tree Validation Curve')"
      ]
     },
     "execution_count": 22,
     "metadata": {},
     "output_type": "execute_result"
    },
    {
     "data": {
      "text/plain": [
       "Text(0.5, 1.0, 'Minimum Sample Size for Splitting')"
      ]
     },
     "execution_count": 22,
     "metadata": {},
     "output_type": "execute_result"
    },
    {
     "data": {
      "text/plain": [
       "<matplotlib.lines.Line2D at 0x7f8f2e0089d0>"
      ]
     },
     "execution_count": 22,
     "metadata": {},
     "output_type": "execute_result"
    },
    {
     "data": {
      "text/plain": [
       "<matplotlib.legend.Legend at 0x7f8f2aa48f10>"
      ]
     },
     "execution_count": 22,
     "metadata": {},
     "output_type": "execute_result"
    },
    {
     "data": {
      "image/png": "[encoded data removed]",
      "text/plain": [
       "<Figure size 720x360 with 1 Axes>"
      ]
     },
     "metadata": {
      "needs_background": "light"
     },
     "output_type": "display_data"
    }
   ],
   "source": [
    "# plot\n",
    "fig1 = plt.figure(figsize = (10,5))\n",
    "plt.plot(min_sample_range, train_mean_tree2, label='Train Data')\n",
    "plt.plot(min_sample_range, test_mean_tree2, label='Test Data')\n",
    "plt.grid(True)\n",
    "plt.xticks(np.arange(10,110, step = 10))\n",
    "plt.xlabel('Minimum Sample for Splitting')\n",
    "plt.ylabel('Score (R2)')\n",
    "plt.suptitle(' Decision Tree Validation Curve', fontsize = 20)\n",
    "plt.title('Minimum Sample Size for Splitting')\n",
    "plt.axvline(50, linestyle = 'dashed', color = 'firebrick')\n",
    "plt.legend()\n",
    "plt.show()\n",
    "\n",
    "# fig1.savefig('dt_validation_curve_minsamp.png')"
   ]
  },
  {
   "cell_type": "code",
   "execution_count": 23,
   "id": "3dc66ca6",
   "metadata": {},
   "outputs": [
    {
     "data": {
      "text/plain": [
       "(0.744,\n",
       "          Feature  Importance\n",
       " 14595    ukraine    0.363060\n",
       " 2162     climate    0.212351\n",
       " 724     american    0.175356\n",
       " 11115     regime    0.054465\n",
       " 4612    everyone    0.043966\n",
       " 2229   colleague    0.035878\n",
       " 1703       burma    0.026628\n",
       " 5902    grateful    0.024227\n",
       " 6290   hizballah    0.018655\n",
       " 1741        call    0.018207)"
      ]
     },
     "execution_count": 23,
     "metadata": {},
     "output_type": "execute_result"
    }
   ],
   "source": [
    "# Let's do a maxdepth of 5 with min_Sample_range of 50 to maximize test score and keep relatively simple \n",
    "# (avoid overfitting)\n",
    "\n",
    "tree_final = DecisionTreeClassifier(random_state=42, max_depth = 5, min_samples_split=50)\n",
    "\n",
    "score_and_features(tree_final, x_train, y_train, x_test, y_test)"
   ]
  },
  {
   "cell_type": "code",
   "execution_count": 24,
   "id": "1469ac3b",
   "metadata": {},
   "outputs": [
    {
     "data": {
      "text/plain": [
       "[Text(0.7083333333333334, 0.9166666666666666, 'ukraine <= 0.014\\ngini = 0.5\\nsamples = 1578\\nvalue = [812, 766]\\nclass = Pompeo'),\n",
       " Text(0.5119047619047619, 0.75, 'climate <= 0.02\\ngini = 0.479\\nsamples = 1223\\nvalue = [487, 736]\\nclass = Blinken'),\n",
       " Text(0.35714285714285715, 0.5833333333333334, 'american <= 0.013\\ngini = 0.446\\nsamples = 1100\\nvalue = [369, 731]\\nclass = Blinken'),\n",
       " Text(0.19047619047619047, 0.4166666666666667, 'regime <= 0.01\\ngini = 0.498\\nsamples = 640\\nvalue = [300, 340]\\nclass = Blinken'),\n",
       " Text(0.09523809523809523, 0.25, 'everyone <= 0.018\\ngini = 0.498\\nsamples = 513\\nvalue = [274, 239]\\nclass = Pompeo'),\n",
       " Text(0.047619047619047616, 0.08333333333333333, 'gini = 0.5\\nsamples = 457\\nvalue = [223, 234]\\nclass = Blinken'),\n",
       " Text(0.14285714285714285, 0.08333333333333333, 'gini = 0.163\\nsamples = 56\\nvalue = [51, 5]\\nclass = Pompeo'),\n",
       " Text(0.2857142857142857, 0.25, 'burma <= 0.075\\ngini = 0.326\\nsamples = 127\\nvalue = [26, 101]\\nclass = Blinken'),\n",
       " Text(0.23809523809523808, 0.08333333333333333, 'gini = 0.257\\nsamples = 119\\nvalue = [18, 101]\\nclass = Blinken'),\n",
       " Text(0.3333333333333333, 0.08333333333333333, 'gini = 0.0\\nsamples = 8\\nvalue = [8, 0]\\nclass = Pompeo'),\n",
       " Text(0.5238095238095238, 0.4166666666666667, 'colleague <= 0.04\\ngini = 0.255\\nsamples = 460\\nvalue = [69, 391]\\nclass = Blinken'),\n",
       " Text(0.47619047619047616, 0.25, 'grateful <= 0.02\\ngini = 0.22\\nsamples = 444\\nvalue = [56, 388]\\nclass = Blinken'),\n",
       " Text(0.42857142857142855, 0.08333333333333333, 'gini = 0.173\\nsamples = 409\\nvalue = [39, 370]\\nclass = Blinken'),\n",
       " Text(0.5238095238095238, 0.08333333333333333, 'gini = 0.5\\nsamples = 35\\nvalue = [17, 18]\\nclass = Blinken'),\n",
       " Text(0.5714285714285714, 0.25, 'gini = 0.305\\nsamples = 16\\nvalue = [13, 3]\\nclass = Pompeo'),\n",
       " Text(0.6666666666666666, 0.5833333333333334, 'taken <= 0.019\\ngini = 0.078\\nsamples = 123\\nvalue = [118, 5]\\nclass = Pompeo'),\n",
       " Text(0.6190476190476191, 0.4166666666666667, 'gini = 0.0\\nsamples = 116\\nvalue = [116, 0]\\nclass = Pompeo'),\n",
       " Text(0.7142857142857143, 0.4166666666666667, 'gini = 0.408\\nsamples = 7\\nvalue = [2, 5]\\nclass = Blinken'),\n",
       " Text(0.9047619047619048, 0.75, 'american <= 0.039\\ngini = 0.155\\nsamples = 355\\nvalue = [325, 30]\\nclass = Pompeo'),\n",
       " Text(0.8571428571428571, 0.5833333333333334, 'call <= 0.066\\ngini = 0.086\\nsamples = 333\\nvalue = [318, 15]\\nclass = Pompeo'),\n",
       " Text(0.8095238095238095, 0.4166666666666667, 'hizballah <= 0.027\\ngini = 0.065\\nsamples = 329\\nvalue = [318, 11]\\nclass = Pompeo'),\n",
       " Text(0.7619047619047619, 0.25, 'venezuelan people <= 0.025\\ngini = 0.042\\nsamples = 325\\nvalue = [318, 7]\\nclass = Pompeo'),\n",
       " Text(0.7142857142857143, 0.08333333333333333, 'gini = 0.025\\nsamples = 321\\nvalue = [317, 4]\\nclass = Pompeo'),\n",
       " Text(0.8095238095238095, 0.08333333333333333, 'gini = 0.375\\nsamples = 4\\nvalue = [1, 3]\\nclass = Blinken'),\n",
       " Text(0.8571428571428571, 0.25, 'gini = 0.0\\nsamples = 4\\nvalue = [0, 4]\\nclass = Blinken'),\n",
       " Text(0.9047619047619048, 0.4166666666666667, 'gini = 0.0\\nsamples = 4\\nvalue = [0, 4]\\nclass = Blinken'),\n",
       " Text(0.9523809523809523, 0.5833333333333334, 'gini = 0.434\\nsamples = 22\\nvalue = [7, 15]\\nclass = Blinken')]"
      ]
     },
     "execution_count": 24,
     "metadata": {},
     "output_type": "execute_result"
    },
    {
     "data": {
      "image/png": "[encoded data removed]",
      "text/plain": [
       "<Figure size 2520x1080 with 1 Axes>"
      ]
     },
     "metadata": {
      "needs_background": "light"
     },
     "output_type": "display_data"
    }
   ],
   "source": [
    "fig1 = plt.figure(figsize = (35, 15))\n",
    "plot_tree(tree_final, feature_names = x_train.columns, class_names=list(set(y_test)), fontsize=16)\n",
    "plt.show()\n",
    "# fig1.savefig('dt.png')"
   ]
  },
  {
   "cell_type": "code",
   "execution_count": 25,
   "id": "96f948d3",
   "metadata": {},
   "outputs": [
    {
     "data": {
      "text/html": [
       "<div>\n",
       "<style scoped>\n",
       "    .dataframe tbody tr th:only-of-type {\n",
       "        vertical-align: middle;\n",
       "    }\n",
       "\n",
       "    .dataframe tbody tr th {\n",
       "        vertical-align: top;\n",
       "    }\n",
       "\n",
       "    .dataframe thead th {\n",
       "        text-align: right;\n",
       "    }\n",
       "</style>\n",
       "<table border=\"1\" class=\"dataframe\">\n",
       "  <thead>\n",
       "    <tr style=\"text-align: right;\">\n",
       "      <th></th>\n",
       "      <th>index</th>\n",
       "      <th>Variable</th>\n",
       "      <th>Importance</th>\n",
       "    </tr>\n",
       "  </thead>\n",
       "  <tbody>\n",
       "    <tr>\n",
       "      <th>0</th>\n",
       "      <td>14958</td>\n",
       "      <td>venezuelan people</td>\n",
       "      <td>0.010598</td>\n",
       "    </tr>\n",
       "    <tr>\n",
       "      <th>1</th>\n",
       "      <td>13504</td>\n",
       "      <td>taken</td>\n",
       "      <td>0.016609</td>\n",
       "    </tr>\n",
       "    <tr>\n",
       "      <th>2</th>\n",
       "      <td>1741</td>\n",
       "      <td>call</td>\n",
       "      <td>0.018207</td>\n",
       "    </tr>\n",
       "    <tr>\n",
       "      <th>3</th>\n",
       "      <td>6290</td>\n",
       "      <td>hizballah</td>\n",
       "      <td>0.018655</td>\n",
       "    </tr>\n",
       "    <tr>\n",
       "      <th>4</th>\n",
       "      <td>5902</td>\n",
       "      <td>grateful</td>\n",
       "      <td>0.024227</td>\n",
       "    </tr>\n",
       "    <tr>\n",
       "      <th>5</th>\n",
       "      <td>1703</td>\n",
       "      <td>burma</td>\n",
       "      <td>0.026628</td>\n",
       "    </tr>\n",
       "    <tr>\n",
       "      <th>6</th>\n",
       "      <td>2229</td>\n",
       "      <td>colleague</td>\n",
       "      <td>0.035878</td>\n",
       "    </tr>\n",
       "    <tr>\n",
       "      <th>7</th>\n",
       "      <td>4612</td>\n",
       "      <td>everyone</td>\n",
       "      <td>0.043966</td>\n",
       "    </tr>\n",
       "    <tr>\n",
       "      <th>8</th>\n",
       "      <td>11115</td>\n",
       "      <td>regime</td>\n",
       "      <td>0.054465</td>\n",
       "    </tr>\n",
       "    <tr>\n",
       "      <th>9</th>\n",
       "      <td>724</td>\n",
       "      <td>american</td>\n",
       "      <td>0.175356</td>\n",
       "    </tr>\n",
       "    <tr>\n",
       "      <th>10</th>\n",
       "      <td>2162</td>\n",
       "      <td>climate</td>\n",
       "      <td>0.212351</td>\n",
       "    </tr>\n",
       "    <tr>\n",
       "      <th>11</th>\n",
       "      <td>14595</td>\n",
       "      <td>ukraine</td>\n",
       "      <td>0.363060</td>\n",
       "    </tr>\n",
       "  </tbody>\n",
       "</table>\n",
       "</div>"
      ],
      "text/plain": [
       "    index           Variable  Importance\n",
       "0   14958  venezuelan people    0.010598\n",
       "1   13504              taken    0.016609\n",
       "2    1741               call    0.018207\n",
       "3    6290          hizballah    0.018655\n",
       "4    5902           grateful    0.024227\n",
       "5    1703              burma    0.026628\n",
       "6    2229          colleague    0.035878\n",
       "7    4612           everyone    0.043966\n",
       "8   11115             regime    0.054465\n",
       "9     724           american    0.175356\n",
       "10   2162            climate    0.212351\n",
       "11  14595            ukraine    0.363060"
      ]
     },
     "execution_count": 25,
     "metadata": {},
     "output_type": "execute_result"
    }
   ],
   "source": [
    "dt_var_imp = pd.DataFrame({'Variable': x.columns, \n",
    "                        'Importance': tree_final.feature_importances_})\n",
    "dt_var_imp_top = dt_var_imp[dt_var_imp.Importance > 0].copy()\n",
    "dt_var_imp_sorted = dt_var_imp_top.sort_values(by='Importance', ascending = True).reset_index()\n",
    "dt_var_imp_sorted"
   ]
  },
  {
   "cell_type": "code",
   "execution_count": 26,
   "id": "def41048",
   "metadata": {},
   "outputs": [
    {
     "data": {
      "text/plain": [
       "<BarContainer object of 12 artists>"
      ]
     },
     "execution_count": 26,
     "metadata": {},
     "output_type": "execute_result"
    },
    {
     "data": {
      "text/plain": [
       "Text(0.5, 0, 'Proportion')"
      ]
     },
     "execution_count": 26,
     "metadata": {},
     "output_type": "execute_result"
    },
    {
     "data": {
      "text/plain": [
       "Text(0, 0.5, '')"
      ]
     },
     "execution_count": 26,
     "metadata": {},
     "output_type": "execute_result"
    },
    {
     "data": {
      "text/plain": [
       "Text(0.5, 1.0, 'Decision Tree')"
      ]
     },
     "execution_count": 26,
     "metadata": {},
     "output_type": "execute_result"
    },
    {
     "data": {
      "text/plain": [
       "Text(0.5, 0.98, 'Top Variables by Importance')"
      ]
     },
     "execution_count": 26,
     "metadata": {},
     "output_type": "execute_result"
    },
    {
     "data": {
      "text/plain": [
       "Text(0.27, 0, 'Mean R2 = 0.744')"
      ]
     },
     "execution_count": 26,
     "metadata": {},
     "output_type": "execute_result"
    },
    {
     "data": {
      "text/plain": [
       "Text(0.9, 0.01, 'From 1973* Secretary of State public remarks\\n *1019 from Blinken in 2022\\n *954 from Pompeo in 2020')"
      ]
     },
     "execution_count": 26,
     "metadata": {},
     "output_type": "execute_result"
    },
    {
     "data": {
      "image/png": "[encoded data removed]",
      "text/plain": [
       "<Figure size 720x504 with 1 Axes>"
      ]
     },
     "metadata": {
      "needs_background": "light"
     },
     "output_type": "display_data"
    }
   ],
   "source": [
    "# plot \n",
    "fig1, ax = plt.subplots(figsize = (10,7))\n",
    "plt.barh(dt_var_imp_sorted['Variable'], dt_var_imp_sorted['Importance'], color = 'slateblue')\n",
    "plt.xlabel('Proportion')\n",
    "plt.ylabel('')\n",
    "plt.title('Decision Tree', fontsize = 15)\n",
    "plt.suptitle('Top Variables by Importance',fontsize=20)\n",
    "plt.text(0.27, 0, 'Mean R2 = 0.744', fontsize=13, bbox=dict(facecolor='bisque', alpha=0.5))\n",
    "txt=\"From 1973* Secretary of State public remarks\\n *1019 from Blinken in 2022\\n *954 from Pompeo in 2020\"\n",
    "plt.figtext(0.9, 0.01, txt, wrap=True, horizontalalignment='right', fontsize=8)\n",
    "plt.show()\n",
    "\n",
    "# fig1.savefig('variable_imp_dt.png')"
   ]
  },
  {
   "cell_type": "markdown",
   "id": "fcb2abbd",
   "metadata": {},
   "source": [
    "#### Random Forest "
   ]
  },
  {
   "cell_type": "code",
   "execution_count": 27,
   "id": "aebd5c79",
   "metadata": {},
   "outputs": [
    {
     "data": {
      "text/plain": [
       "RandomForestClassifier(max_depth=5, n_estimators=750, random_state=42)"
      ]
     },
     "execution_count": 27,
     "metadata": {},
     "output_type": "execute_result"
    }
   ],
   "source": [
    "rfmodel = RandomForestClassifier(n_estimators=750, random_state=42, max_depth = 5)\n",
    "rfmodel.fit(x, y)"
   ]
  },
  {
   "cell_type": "code",
   "execution_count": 28,
   "id": "6e2523ea",
   "metadata": {},
   "outputs": [
    {
     "data": {
      "text/plain": [
       "0.837"
      ]
     },
     "execution_count": 28,
     "metadata": {},
     "output_type": "execute_result"
    }
   ],
   "source": [
    "mean_score_rf = round(cross_val_score(rfmodel, x, y, cv=5).mean(),3)\n",
    "mean_score_rf"
   ]
  },
  {
   "cell_type": "code",
   "execution_count": 29,
   "id": "051551a5",
   "metadata": {},
   "outputs": [
    {
     "data": {
      "text/html": [
       "<div>\n",
       "<style scoped>\n",
       "    .dataframe tbody tr th:only-of-type {\n",
       "        vertical-align: middle;\n",
       "    }\n",
       "\n",
       "    .dataframe tbody tr th {\n",
       "        vertical-align: top;\n",
       "    }\n",
       "\n",
       "    .dataframe thead th {\n",
       "        text-align: right;\n",
       "    }\n",
       "</style>\n",
       "<table border=\"1\" class=\"dataframe\">\n",
       "  <thead>\n",
       "    <tr style=\"text-align: right;\">\n",
       "      <th></th>\n",
       "      <th>Variable</th>\n",
       "      <th>Importance</th>\n",
       "    </tr>\n",
       "  </thead>\n",
       "  <tbody>\n",
       "    <tr>\n",
       "      <th>0</th>\n",
       "      <td>communist party</td>\n",
       "      <td>0.018196</td>\n",
       "    </tr>\n",
       "    <tr>\n",
       "      <th>1</th>\n",
       "      <td>chinese</td>\n",
       "      <td>0.017223</td>\n",
       "    </tr>\n",
       "    <tr>\n",
       "      <th>2</th>\n",
       "      <td>climate</td>\n",
       "      <td>0.015852</td>\n",
       "    </tr>\n",
       "    <tr>\n",
       "      <th>3</th>\n",
       "      <td>ukraine</td>\n",
       "      <td>0.015691</td>\n",
       "    </tr>\n",
       "    <tr>\n",
       "      <th>4</th>\n",
       "      <td>communist</td>\n",
       "      <td>0.015271</td>\n",
       "    </tr>\n",
       "    <tr>\n",
       "      <th>5</th>\n",
       "      <td>american</td>\n",
       "      <td>0.014396</td>\n",
       "    </tr>\n",
       "    <tr>\n",
       "      <th>6</th>\n",
       "      <td>russia</td>\n",
       "      <td>0.013469</td>\n",
       "    </tr>\n",
       "    <tr>\n",
       "      <th>7</th>\n",
       "      <td>putin</td>\n",
       "      <td>0.012651</td>\n",
       "    </tr>\n",
       "    <tr>\n",
       "      <th>8</th>\n",
       "      <td>american people</td>\n",
       "      <td>0.010191</td>\n",
       "    </tr>\n",
       "    <tr>\n",
       "      <th>9</th>\n",
       "      <td>mike</td>\n",
       "      <td>0.010162</td>\n",
       "    </tr>\n",
       "    <tr>\n",
       "      <th>10</th>\n",
       "      <td>aggression</td>\n",
       "      <td>0.009969</td>\n",
       "    </tr>\n",
       "    <tr>\n",
       "      <th>11</th>\n",
       "      <td>president putin</td>\n",
       "      <td>0.009913</td>\n",
       "    </tr>\n",
       "    <tr>\n",
       "      <th>12</th>\n",
       "      <td>chinese communist</td>\n",
       "      <td>0.009784</td>\n",
       "    </tr>\n",
       "    <tr>\n",
       "      <th>13</th>\n",
       "      <td>invasion</td>\n",
       "      <td>0.009758</td>\n",
       "    </tr>\n",
       "    <tr>\n",
       "      <th>14</th>\n",
       "      <td>china</td>\n",
       "      <td>0.009722</td>\n",
       "    </tr>\n",
       "  </tbody>\n",
       "</table>\n",
       "</div>"
      ],
      "text/plain": [
       "             Variable  Importance\n",
       "0     communist party    0.018196\n",
       "1             chinese    0.017223\n",
       "2             climate    0.015852\n",
       "3             ukraine    0.015691\n",
       "4           communist    0.015271\n",
       "5            american    0.014396\n",
       "6              russia    0.013469\n",
       "7               putin    0.012651\n",
       "8     american people    0.010191\n",
       "9                mike    0.010162\n",
       "10         aggression    0.009969\n",
       "11    president putin    0.009913\n",
       "12  chinese communist    0.009784\n",
       "13           invasion    0.009758\n",
       "14              china    0.009722"
      ]
     },
     "execution_count": 29,
     "metadata": {},
     "output_type": "execute_result"
    }
   ],
   "source": [
    "rf_var_imp = pd.DataFrame({'Variable': x.columns, \n",
    "                        'Importance': rfmodel.feature_importances_})\n",
    "rf_var_imp_sorted = rf_var_imp.sort_values(by='Importance', ascending = False).head(15)\n",
    "rf_var_imp_sorted.reset_index(drop=True)\n",
    "rf_var_imp_sorted = rf_var_imp_sorted.sort_values(by='Importance', ascending = True)"
   ]
  },
  {
   "cell_type": "code",
   "execution_count": 30,
   "id": "0097ad0c",
   "metadata": {},
   "outputs": [
    {
     "data": {
      "text/plain": [
       "<BarContainer object of 15 artists>"
      ]
     },
     "execution_count": 30,
     "metadata": {},
     "output_type": "execute_result"
    },
    {
     "data": {
      "text/plain": [
       "Text(0.5, 0, 'Proportion')"
      ]
     },
     "execution_count": 30,
     "metadata": {},
     "output_type": "execute_result"
    },
    {
     "data": {
      "text/plain": [
       "Text(0, 0.5, '')"
      ]
     },
     "execution_count": 30,
     "metadata": {},
     "output_type": "execute_result"
    },
    {
     "data": {
      "text/plain": [
       "Text(0.5, 1.0, 'Random Forest')"
      ]
     },
     "execution_count": 30,
     "metadata": {},
     "output_type": "execute_result"
    },
    {
     "data": {
      "text/plain": [
       "Text(0.5, 0.98, '  Top 15 Variables by Importance')"
      ]
     },
     "execution_count": 30,
     "metadata": {},
     "output_type": "execute_result"
    },
    {
     "data": {
      "text/plain": [
       "Text(0.014, 0, 'Mean R2 = 0.837')"
      ]
     },
     "execution_count": 30,
     "metadata": {},
     "output_type": "execute_result"
    },
    {
     "data": {
      "text/plain": [
       "Text(0.9, 0.01, 'From 1973* Secretary of State public remarks\\n *1019 from Blinken in 2022\\n *954 from Pompeo in 2020')"
      ]
     },
     "execution_count": 30,
     "metadata": {},
     "output_type": "execute_result"
    },
    {
     "data": {
      "image/png": "[encoded data removed]",
      "text/plain": [
       "<Figure size 720x504 with 1 Axes>"
      ]
     },
     "metadata": {
      "needs_background": "light"
     },
     "output_type": "display_data"
    }
   ],
   "source": [
    "# plot \n",
    "fig1, ax = plt.subplots(figsize = (10,7))\n",
    "plt.barh(rf_var_imp_sorted['Variable'], rf_var_imp_sorted['Importance'], color = 'skyblue')\n",
    "plt.xlabel('Proportion')\n",
    "plt.ylabel('')\n",
    "plt.title('Random Forest', fontsize = 15)\n",
    "plt.suptitle('  Top 15 Variables by Importance',fontsize=20)\n",
    "plt.text(0.014, 0, 'Mean R2 = 0.837', fontsize=13, bbox=dict(facecolor='bisque', alpha=0.5))\n",
    "txt=\"From 1973* Secretary of State public remarks\\n *1019 from Blinken in 2022\\n *954 from Pompeo in 2020\"\n",
    "plt.figtext(0.9, 0.01, txt, wrap=True, horizontalalignment='right', fontsize=8)\n",
    "plt.show()\n",
    "\n",
    "# fig1.savefig('variable_imp_rf.png')"
   ]
  },
  {
   "cell_type": "markdown",
   "id": "f209f1ef",
   "metadata": {},
   "source": [
    "#### Naive Bayes"
   ]
  },
  {
   "cell_type": "code",
   "execution_count": 31,
   "id": "c821f564",
   "metadata": {},
   "outputs": [
    {
     "name": "stdout",
     "output_type": "stream",
     "text": [
      "Mean multinomial naive bayes accuracy score with 5-fold cross-validation: 0.8152\n"
     ]
    }
   ],
   "source": [
    "mnb = MultinomialNB()\n",
    "\n",
    "# fit model\n",
    "modelMNB = mnb.fit(x_train, y_train)\n",
    "\n",
    "# cross-validation \n",
    "MNB_cv = cross_val_score(modelMNB, x_test, y_test, cv=5)\n",
    "\n",
    "# compute mean test accuracy\n",
    "MNB_mean = np.mean(MNB_cv)\n",
    "print(\"Mean multinomial naive bayes accuracy score with 5-fold cross-validation: \" + str(round(MNB_mean, 4)))"
   ]
  },
  {
   "cell_type": "markdown",
   "id": "e490047b",
   "metadata": {},
   "source": [
    "#### PCA "
   ]
  },
  {
   "cell_type": "code",
   "execution_count": 32,
   "id": "c22a9e01",
   "metadata": {},
   "outputs": [
    {
     "data": {
      "text/plain": [
       "PCA()"
      ]
     },
     "execution_count": 32,
     "metadata": {},
     "output_type": "execute_result"
    },
    {
     "data": {
      "text/plain": [
       "array([2.32478300e-02, 1.39659918e-02, 9.31643607e-03, ...,\n",
       "       1.54591491e-34, 2.06149391e-35, 1.61220744e-35])"
      ]
     },
     "execution_count": 32,
     "metadata": {},
     "output_type": "execute_result"
    }
   ],
   "source": [
    "# generate principle components\n",
    "pca = PCA()\n",
    "pca.fit(x)\n",
    "pca.explained_variance_ratio_"
   ]
  },
  {
   "cell_type": "code",
   "execution_count": 33,
   "id": "af92cc5c",
   "metadata": {},
   "outputs": [
    {
     "data": {
      "text/plain": [
       "1973"
      ]
     },
     "execution_count": 33,
     "metadata": {},
     "output_type": "execute_result"
    }
   ],
   "source": [
    "len(pca.explained_variance_ratio_)"
   ]
  },
  {
   "cell_type": "code",
   "execution_count": 34,
   "id": "6f1eeaac",
   "metadata": {},
   "outputs": [
    {
     "name": "stdout",
     "output_type": "stream",
     "text": [
      "First 5 PC explain 0.06 of variance in full dataset\n"
     ]
    }
   ],
   "source": [
    "pc_variance = list(pca.explained_variance_ratio_)\n",
    "pc_variance_top5 = sum(pc_variance[:5])\n",
    "print('First 5 PC explain '+ str(round(pc_variance_top5, 4)) + \n",
    "      ' of variance in full dataset')"
   ]
  },
  {
   "cell_type": "code",
   "execution_count": 35,
   "id": "16d14085",
   "metadata": {},
   "outputs": [
    {
     "data": {
      "text/html": [
       "<div>\n",
       "<style scoped>\n",
       "    .dataframe tbody tr th:only-of-type {\n",
       "        vertical-align: middle;\n",
       "    }\n",
       "\n",
       "    .dataframe tbody tr th {\n",
       "        vertical-align: top;\n",
       "    }\n",
       "\n",
       "    .dataframe thead th {\n",
       "        text-align: right;\n",
       "    }\n",
       "</style>\n",
       "<table border=\"1\" class=\"dataframe\">\n",
       "  <thead>\n",
       "    <tr style=\"text-align: right;\">\n",
       "      <th></th>\n",
       "      <th>PC1</th>\n",
       "      <th>PC2</th>\n",
       "      <th>PC3</th>\n",
       "      <th>PC4</th>\n",
       "      <th>PC5</th>\n",
       "    </tr>\n",
       "  </thead>\n",
       "  <tbody>\n",
       "    <tr>\n",
       "      <th>abandon</th>\n",
       "      <td>0.000776</td>\n",
       "      <td>0.001482</td>\n",
       "      <td>0.000505</td>\n",
       "      <td>0.002350</td>\n",
       "      <td>-0.001162</td>\n",
       "    </tr>\n",
       "    <tr>\n",
       "      <th>abandoned</th>\n",
       "      <td>0.001184</td>\n",
       "      <td>0.001393</td>\n",
       "      <td>-0.001943</td>\n",
       "      <td>0.001211</td>\n",
       "      <td>-0.002089</td>\n",
       "    </tr>\n",
       "    <tr>\n",
       "      <th>abbas</th>\n",
       "      <td>0.001300</td>\n",
       "      <td>0.001918</td>\n",
       "      <td>-0.000782</td>\n",
       "      <td>0.000675</td>\n",
       "      <td>0.002421</td>\n",
       "    </tr>\n",
       "    <tr>\n",
       "      <th>abc</th>\n",
       "      <td>0.001818</td>\n",
       "      <td>-0.000835</td>\n",
       "      <td>0.001114</td>\n",
       "      <td>-0.000594</td>\n",
       "      <td>0.000470</td>\n",
       "    </tr>\n",
       "    <tr>\n",
       "      <th>abducted</th>\n",
       "      <td>-0.000689</td>\n",
       "      <td>0.003055</td>\n",
       "      <td>-0.002373</td>\n",
       "      <td>-0.002782</td>\n",
       "      <td>-0.004142</td>\n",
       "    </tr>\n",
       "  </tbody>\n",
       "</table>\n",
       "</div>"
      ],
      "text/plain": [
       "                PC1       PC2       PC3       PC4       PC5\n",
       "abandon    0.000776  0.001482  0.000505  0.002350 -0.001162\n",
       "abandoned  0.001184  0.001393 -0.001943  0.001211 -0.002089\n",
       "abbas      0.001300  0.001918 -0.000782  0.000675  0.002421\n",
       "abc        0.001818 -0.000835  0.001114 -0.000594  0.000470\n",
       "abducted  -0.000689  0.003055 -0.002373 -0.002782 -0.004142"
      ]
     },
     "execution_count": 35,
     "metadata": {},
     "output_type": "execute_result"
    }
   ],
   "source": [
    "factor_loadings = pca.components_  #extract the component loadings\n",
    "matrix = np.transpose(factor_loadings) #flip the rows and cols \n",
    "fl = pd.DataFrame(data = matrix, index = x.columns)\n",
    "top_5 = fl.iloc[:,0:5]\n",
    "top_5.columns = ['PC1', 'PC2', 'PC3', 'PC4', 'PC5']\n",
    "top_5.head()"
   ]
  },
  {
   "cell_type": "code",
   "execution_count": 36,
   "id": "536f9e36",
   "metadata": {},
   "outputs": [],
   "source": [
    "PC1_20 = top_5.sort_values(by = 'PC1', ascending = False).head(20)\n",
    "PC2_20 = top_5.sort_values(by = 'PC2', ascending = False).head(20)\n",
    "PC3_20 = top_5.sort_values(by = 'PC3', ascending = False).head(20)\n",
    "PC4_20 = top_5.sort_values(by = 'PC4', ascending = False).head(20)\n",
    "PC5_20 = top_5.sort_values(by = 'PC5', ascending = False).head(20)"
   ]
  },
  {
   "cell_type": "code",
   "execution_count": 37,
   "id": "7808b876",
   "metadata": {},
   "outputs": [],
   "source": [
    "PC1_20_terms = list(PC1_20.index)\n",
    "# PC1_20_terms\n",
    "# talking terms\n",
    "\n",
    "PC2_20_terms = list(PC2_20.index)\n",
    "# PC2_20_terms\n",
    "# sanctions and iran\n",
    "\n",
    "PC3_20_terms = list(PC3_20.index)\n",
    "# PC3_20_terms\n",
    "# ukraine and russia\n",
    "\n",
    "PC4_20_terms = list(PC4_20.index)\n",
    "# PC4_20_terms\n",
    "# ukrain and russia again \n",
    "\n",
    "PC5_20_terms = list(PC5_20.index)\n",
    "# PC5_20_terms\n",
    "# designations?"
   ]
  },
  {
   "cell_type": "code",
   "execution_count": 38,
   "id": "39c6af80",
   "metadata": {},
   "outputs": [
    {
     "data": {
      "text/plain": [
       "<Figure size 720x360 with 0 Axes>"
      ]
     },
     "execution_count": 38,
     "metadata": {},
     "output_type": "execute_result"
    },
    {
     "data": {
      "text/plain": [
       "[<matplotlib.lines.Line2D at 0x7f8f2eb6d250>]"
      ]
     },
     "execution_count": 38,
     "metadata": {},
     "output_type": "execute_result"
    },
    {
     "data": {
      "text/plain": [
       "Text(0.5, 0, 'Components')"
      ]
     },
     "execution_count": 38,
     "metadata": {},
     "output_type": "execute_result"
    },
    {
     "data": {
      "text/plain": [
       "Text(0, 0.5, 'PVE')"
      ]
     },
     "execution_count": 38,
     "metadata": {},
     "output_type": "execute_result"
    },
    {
     "data": {
      "text/plain": [
       "(0.0, 0.1)"
      ]
     },
     "execution_count": 38,
     "metadata": {},
     "output_type": "execute_result"
    },
    {
     "data": {
      "text/plain": [
       "Text(0.5, 1.0, 'Proportion of Variance Explained')"
      ]
     },
     "execution_count": 38,
     "metadata": {},
     "output_type": "execute_result"
    },
    {
     "data": {
      "image/png": "[encoded data removed]",
      "text/plain": [
       "<Figure size 720x360 with 1 Axes>"
      ]
     },
     "metadata": {
      "needs_background": "light"
     },
     "output_type": "display_data"
    }
   ],
   "source": [
    "plt.figure(figsize=(10,5))\n",
    "plt.plot(pca.explained_variance_ratio_[0:5],marker = 'o')\n",
    "plt.xlabel(\"Components\")\n",
    "plt.ylabel(\"PVE\")\n",
    "plt.ylim(0,0.1)\n",
    "#plt.xticks(np.arange(5),('PC1','PC2','PC3', 'PC4','PC5'))\n",
    "plt.title(\"Proportion of Variance Explained\")\n",
    "plt.show()"
   ]
  },
  {
   "cell_type": "markdown",
   "id": "453d9880",
   "metadata": {},
   "source": [
    "#### Blinken PCA"
   ]
  },
  {
   "cell_type": "code",
   "execution_count": 41,
   "id": "f00de523",
   "metadata": {},
   "outputs": [],
   "source": [
    "blinken = pd.read_csv('data/df_blinken_lemm.csv')"
   ]
  },
  {
   "cell_type": "code",
   "execution_count": 42,
   "id": "31be2d2b",
   "metadata": {},
   "outputs": [],
   "source": [
    "# blinken.head()"
   ]
  },
  {
   "cell_type": "code",
   "execution_count": 43,
   "id": "adbe6b8a",
   "metadata": {},
   "outputs": [
    {
     "data": {
      "text/plain": [
       "PCA()"
      ]
     },
     "execution_count": 43,
     "metadata": {},
     "output_type": "execute_result"
    },
    {
     "data": {
      "text/plain": [
       "array([2.81623202e-02, 1.83660355e-02, 1.23144089e-02, ...,\n",
       "       1.15124370e-34, 4.29121691e-35, 2.19487168e-35])"
      ]
     },
     "execution_count": 43,
     "metadata": {},
     "output_type": "execute_result"
    },
    {
     "data": {
      "text/plain": [
       "1019"
      ]
     },
     "execution_count": 43,
     "metadata": {},
     "output_type": "execute_result"
    }
   ],
   "source": [
    "pca.fit(blinken)\n",
    "pca.explained_variance_ratio_\n",
    "len(pca.explained_variance_ratio_)"
   ]
  },
  {
   "cell_type": "code",
   "execution_count": 44,
   "id": "368de4f0",
   "metadata": {},
   "outputs": [
    {
     "name": "stdout",
     "output_type": "stream",
     "text": [
      "First 5 PC explain 0.079 of variance in Blinken dataset\n"
     ]
    }
   ],
   "source": [
    "pc_variance_blinken = list(pca.explained_variance_ratio_)\n",
    "pc_variance_blinken_top5 = sum(pc_variance_blinken[:5])\n",
    "print('First 5 PC explain '+ str(round(pc_variance_blinken_top5, 4)) + \n",
    "      ' of variance in Blinken dataset')"
   ]
  },
  {
   "cell_type": "code",
   "execution_count": 45,
   "id": "877cb8e0",
   "metadata": {},
   "outputs": [
    {
     "data": {
      "text/html": [
       "<div>\n",
       "<style scoped>\n",
       "    .dataframe tbody tr th:only-of-type {\n",
       "        vertical-align: middle;\n",
       "    }\n",
       "\n",
       "    .dataframe tbody tr th {\n",
       "        vertical-align: top;\n",
       "    }\n",
       "\n",
       "    .dataframe thead th {\n",
       "        text-align: right;\n",
       "    }\n",
       "</style>\n",
       "<table border=\"1\" class=\"dataframe\">\n",
       "  <thead>\n",
       "    <tr style=\"text-align: right;\">\n",
       "      <th></th>\n",
       "      <th>PC1</th>\n",
       "      <th>PC2</th>\n",
       "      <th>PC3</th>\n",
       "      <th>PC4</th>\n",
       "      <th>PC5</th>\n",
       "    </tr>\n",
       "  </thead>\n",
       "  <tbody>\n",
       "    <tr>\n",
       "      <th>abc</th>\n",
       "      <td>0.002349</td>\n",
       "      <td>-0.000683</td>\n",
       "      <td>0.000148</td>\n",
       "      <td>-0.002036</td>\n",
       "      <td>-0.000737</td>\n",
       "    </tr>\n",
       "    <tr>\n",
       "      <th>abe</th>\n",
       "      <td>0.002215</td>\n",
       "      <td>-0.003933</td>\n",
       "      <td>-0.002370</td>\n",
       "      <td>0.019173</td>\n",
       "      <td>0.001324</td>\n",
       "    </tr>\n",
       "    <tr>\n",
       "      <th>abide</th>\n",
       "      <td>-0.000472</td>\n",
       "      <td>0.002516</td>\n",
       "      <td>-0.003077</td>\n",
       "      <td>-0.002780</td>\n",
       "      <td>0.006208</td>\n",
       "    </tr>\n",
       "    <tr>\n",
       "      <th>abiding</th>\n",
       "      <td>0.000169</td>\n",
       "      <td>-0.000418</td>\n",
       "      <td>-0.002030</td>\n",
       "      <td>-0.003316</td>\n",
       "      <td>0.002758</td>\n",
       "    </tr>\n",
       "    <tr>\n",
       "      <th>ability</th>\n",
       "      <td>0.020181</td>\n",
       "      <td>0.012903</td>\n",
       "      <td>-0.007278</td>\n",
       "      <td>-0.018563</td>\n",
       "      <td>-0.021841</td>\n",
       "    </tr>\n",
       "  </tbody>\n",
       "</table>\n",
       "</div>"
      ],
      "text/plain": [
       "              PC1       PC2       PC3       PC4       PC5\n",
       "abc      0.002349 -0.000683  0.000148 -0.002036 -0.000737\n",
       "abe      0.002215 -0.003933 -0.002370  0.019173  0.001324\n",
       "abide   -0.000472  0.002516 -0.003077 -0.002780  0.006208\n",
       "abiding  0.000169 -0.000418 -0.002030 -0.003316  0.002758\n",
       "ability  0.020181  0.012903 -0.007278 -0.018563 -0.021841"
      ]
     },
     "execution_count": 45,
     "metadata": {},
     "output_type": "execute_result"
    }
   ],
   "source": [
    "factor_loadings_blinken = pca.components_  #extract the component loadings\n",
    "matrix_blinken = np.transpose(factor_loadings_blinken) #flip the rows and cols \n",
    "fl_blinken = pd.DataFrame(data = matrix_blinken, index = blinken.columns)\n",
    "top_5_blinken = fl_blinken.iloc[:,0:5]\n",
    "top_5_blinken.columns = ['PC1', 'PC2', 'PC3', 'PC4', 'PC5']\n",
    "top_5_blinken.head()"
   ]
  },
  {
   "cell_type": "code",
   "execution_count": 46,
   "id": "1d02f693",
   "metadata": {},
   "outputs": [],
   "source": [
    "PC1_20_blinken = top_5_blinken.sort_values(by = 'PC1', ascending = False).head(20)\n",
    "PC2_20_blinken = top_5_blinken.sort_values(by = 'PC2', ascending = False).head(20)\n",
    "PC3_20_blinken = top_5_blinken.sort_values(by = 'PC3', ascending = False).head(20)\n",
    "PC4_20_blinken = top_5_blinken.sort_values(by = 'PC4', ascending = False).head(20)\n",
    "PC5_20_blinken = top_5_blinken.sort_values(by = 'PC5', ascending = False).head(20)"
   ]
  },
  {
   "cell_type": "code",
   "execution_count": 47,
   "id": "350a274b",
   "metadata": {},
   "outputs": [
    {
     "data": {
      "text/plain": [
       "['assistance',\n",
       " 'drawdown',\n",
       " 'million',\n",
       " 'humanitarian',\n",
       " 'community',\n",
       " 'billion',\n",
       " 'arm equipment',\n",
       " 'pursuant delegation',\n",
       " 'billion since',\n",
       " 'military assistance',\n",
       " 'department defense',\n",
       " 'total',\n",
       " 'since',\n",
       " 'humanitarian assistance',\n",
       " 'authorizing',\n",
       " 'arm',\n",
       " 'bring total',\n",
       " 'violence',\n",
       " 'world',\n",
       " 'equipment department']"
      ]
     },
     "execution_count": 47,
     "metadata": {},
     "output_type": "execute_result"
    }
   ],
   "source": [
    "PC1_20_blinken_terms = list(PC1_20_blinken.index)\n",
    "# PC1_20_blinken_terms\n",
    "# interview terms, could be cut out more in the future \n",
    "\n",
    "PC2_20_blinken_terms = list(PC2_20_blinken.index)\n",
    "# PC2_20_blinken_terms\n",
    "# sanctions, russia, ukraine \n",
    "\n",
    "PC3_20_blinken_terms = list(PC3_20_blinken.index)\n",
    "# PC3_20_blinken_terms\n",
    "# military assistance for ukraine and russia\n",
    "\n",
    "PC4_20_blinken_terms = list(PC4_20_blinken.index)\n",
    "# PC4_20_blinken_terms\n",
    "# diplomatic niceties \n",
    "\n",
    "PC5_20_blinken_terms = list(PC5_20_blinken.index)\n",
    "PC5_20_blinken_terms\n",
    "# military assistance"
   ]
  },
  {
   "cell_type": "code",
   "execution_count": 48,
   "id": "e9509571",
   "metadata": {},
   "outputs": [
    {
     "data": {
      "text/plain": [
       "<Figure size 720x360 with 0 Axes>"
      ]
     },
     "execution_count": 48,
     "metadata": {},
     "output_type": "execute_result"
    },
    {
     "data": {
      "text/plain": [
       "[<matplotlib.lines.Line2D at 0x7f8f088705e0>]"
      ]
     },
     "execution_count": 48,
     "metadata": {},
     "output_type": "execute_result"
    },
    {
     "data": {
      "text/plain": [
       "Text(0.5, 0, 'Components')"
      ]
     },
     "execution_count": 48,
     "metadata": {},
     "output_type": "execute_result"
    },
    {
     "data": {
      "text/plain": [
       "Text(0, 0.5, 'PVE')"
      ]
     },
     "execution_count": 48,
     "metadata": {},
     "output_type": "execute_result"
    },
    {
     "data": {
      "text/plain": [
       "(0.0, 0.1)"
      ]
     },
     "execution_count": 48,
     "metadata": {},
     "output_type": "execute_result"
    },
    {
     "data": {
      "text/plain": [
       "([<matplotlib.axis.XTick at 0x7f8f2ffcea90>,\n",
       "  <matplotlib.axis.XTick at 0x7f8f2ffcea60>,\n",
       "  <matplotlib.axis.XTick at 0x7f8f2ffce550>,\n",
       "  <matplotlib.axis.XTick at 0x7f8f08870d60>,\n",
       "  <matplotlib.axis.XTick at 0x7f8f2cfecbb0>],\n",
       " [Text(0, 0, 'PC1'),\n",
       "  Text(1, 0, 'PC2'),\n",
       "  Text(2, 0, 'PC3'),\n",
       "  Text(3, 0, 'PC4'),\n",
       "  Text(4, 0, 'PC5')])"
      ]
     },
     "execution_count": 48,
     "metadata": {},
     "output_type": "execute_result"
    },
    {
     "data": {
      "text/plain": [
       "Text(0.5, 1.0, 'Proportion of Variance Explained - Blinken')"
      ]
     },
     "execution_count": 48,
     "metadata": {},
     "output_type": "execute_result"
    },
    {
     "data": {
      "image/png": "[encoded data removed]",
      "text/plain": [
       "<Figure size 720x360 with 1 Axes>"
      ]
     },
     "metadata": {
      "needs_background": "light"
     },
     "output_type": "display_data"
    }
   ],
   "source": [
    "plt.figure(figsize=(10,5))\n",
    "plt.plot(pca.explained_variance_ratio_[0:5],marker = 'o')\n",
    "plt.xlabel(\"Components\")\n",
    "plt.ylabel(\"PVE\")\n",
    "plt.ylim(0,0.1)\n",
    "plt.xticks(np.arange(5),('PC1','PC2','PC3', 'PC4','PC5'))\n",
    "plt.title(\"Proportion of Variance Explained - Blinken\")\n",
    "plt.show()"
   ]
  },
  {
   "cell_type": "markdown",
   "id": "aaca6a68",
   "metadata": {},
   "source": [
    "#### Pompeo PCA"
   ]
  },
  {
   "cell_type": "code",
   "execution_count": 51,
   "id": "34c691d9",
   "metadata": {},
   "outputs": [],
   "source": [
    "pompeo = pd.read_csv('data/df_pompeo_lemm.csv')"
   ]
  },
  {
   "cell_type": "code",
   "execution_count": 52,
   "id": "3d450a2c",
   "metadata": {},
   "outputs": [],
   "source": [
    "# pompeo.head()"
   ]
  },
  {
   "cell_type": "code",
   "execution_count": 53,
   "id": "3f81989a",
   "metadata": {},
   "outputs": [
    {
     "data": {
      "text/plain": [
       "PCA()"
      ]
     },
     "execution_count": 53,
     "metadata": {},
     "output_type": "execute_result"
    },
    {
     "data": {
      "text/plain": [
       "array([3.52847833e-02, 2.01901063e-02, 9.72620822e-03, 9.52592043e-03,\n",
       "       8.70146737e-03, 8.17466297e-03, 8.02279476e-03, 7.49792624e-03,\n",
       "       7.00130176e-03, 6.19579908e-03, 5.64333637e-03, 5.12418234e-03,\n",
       "       4.89583748e-03, 4.70616600e-03, 4.52246453e-03, 4.46083251e-03,\n",
       "       4.29955522e-03, 4.11621948e-03, 3.97897659e-03, 3.96871015e-03,\n",
       "       3.76713080e-03, 3.71774027e-03, 3.61537748e-03, 3.53917983e-03,\n",
       "       3.52699842e-03, 3.43125338e-03, 3.36277145e-03, 3.25041595e-03,\n",
       "       3.18800267e-03, 3.17401382e-03, 3.08963871e-03, 3.05338986e-03,\n",
       "       3.04184478e-03, 3.01463037e-03, 2.94188173e-03, 2.86508557e-03,\n",
       "       2.84339883e-03, 2.78760299e-03, 2.75359403e-03, 2.71415281e-03,\n",
       "       2.68301683e-03, 2.66670545e-03, 2.65655263e-03, 2.60320103e-03,\n",
       "       2.57888063e-03, 2.56919481e-03, 2.54468690e-03, 2.52520696e-03,\n",
       "       2.51134863e-03, 2.48481929e-03, 2.43418609e-03, 2.41386772e-03,\n",
       "       2.39169734e-03, 2.38375756e-03, 2.35811410e-03, 2.34649882e-03,\n",
       "       2.33461963e-03, 2.31764145e-03, 2.28859704e-03, 2.28104169e-03,\n",
       "       2.27259024e-03, 2.24992140e-03, 2.22343541e-03, 2.20686997e-03,\n",
       "       2.19703744e-03, 2.18520298e-03, 2.17473334e-03, 2.16597652e-03,\n",
       "       2.14537424e-03, 2.14131901e-03, 2.11148988e-03, 2.11012680e-03,\n",
       "       2.09251098e-03, 2.08390586e-03, 2.08026646e-03, 2.05901416e-03,\n",
       "       2.05845366e-03, 2.04139717e-03, 2.01580449e-03, 2.01306399e-03,\n",
       "       1.99798830e-03, 1.98778332e-03, 1.98282778e-03, 1.96909694e-03,\n",
       "       1.95661519e-03, 1.94931233e-03, 1.93955446e-03, 1.93152816e-03,\n",
       "       1.92514741e-03, 1.90868778e-03, 1.90364911e-03, 1.89090823e-03,\n",
       "       1.88467973e-03, 1.87109396e-03, 1.86811022e-03, 1.84839303e-03,\n",
       "       1.83694853e-03, 1.83277067e-03, 1.82022166e-03, 1.81986901e-03,\n",
       "       1.80470352e-03, 1.80140240e-03, 1.79819250e-03, 1.79060532e-03,\n",
       "       1.77917383e-03, 1.77680006e-03, 1.76915290e-03, 1.76760154e-03,\n",
       "       1.75565324e-03, 1.73933345e-03, 1.72894684e-03, 1.71995228e-03,\n",
       "       1.71470419e-03, 1.70910775e-03, 1.70038531e-03, 1.69496502e-03,\n",
       "       1.69024600e-03, 1.68870669e-03, 1.67645750e-03, 1.66966535e-03,\n",
       "       1.66406662e-03, 1.65306450e-03, 1.64574439e-03, 1.63928812e-03,\n",
       "       1.62800335e-03, 1.62197858e-03, 1.61682341e-03, 1.61269872e-03,\n",
       "       1.60906197e-03, 1.60567571e-03, 1.60065494e-03, 1.59798763e-03,\n",
       "       1.58815666e-03, 1.58337082e-03, 1.58169355e-03, 1.57039096e-03,\n",
       "       1.56640771e-03, 1.56107244e-03, 1.55784793e-03, 1.55563561e-03,\n",
       "       1.54381367e-03, 1.54118522e-03, 1.53647337e-03, 1.53115545e-03,\n",
       "       1.52381700e-03, 1.51844433e-03, 1.51586240e-03, 1.51200161e-03,\n",
       "       1.50670091e-03, 1.50004334e-03, 1.49754270e-03, 1.49058714e-03,\n",
       "       1.48618087e-03, 1.48113536e-03, 1.48005214e-03, 1.47303859e-03,\n",
       "       1.46765549e-03, 1.46617492e-03, 1.46038796e-03, 1.45726230e-03,\n",
       "       1.44777319e-03, 1.44672453e-03, 1.44200729e-03, 1.44131894e-03,\n",
       "       1.43491426e-03, 1.42952336e-03, 1.42893015e-03, 1.42127370e-03,\n",
       "       1.41636890e-03, 1.41458599e-03, 1.41201824e-03, 1.40747707e-03,\n",
       "       1.40385569e-03, 1.39577763e-03, 1.39367908e-03, 1.38853880e-03,\n",
       "       1.38353201e-03, 1.38028803e-03, 1.37818600e-03, 1.36760377e-03,\n",
       "       1.36644056e-03, 1.36352490e-03, 1.36245911e-03, 1.35793842e-03,\n",
       "       1.35349195e-03, 1.34824616e-03, 1.34296147e-03, 1.34204199e-03,\n",
       "       1.34093529e-03, 1.33772990e-03, 1.33105769e-03, 1.33056172e-03,\n",
       "       1.32654386e-03, 1.32210678e-03, 1.31880301e-03, 1.31179576e-03,\n",
       "       1.30935363e-03, 1.30386713e-03, 1.30200552e-03, 1.30041820e-03,\n",
       "       1.29633904e-03, 1.29275428e-03, 1.29078370e-03, 1.28585924e-03,\n",
       "       1.28328582e-03, 1.28071138e-03, 1.27826076e-03, 1.27593804e-03,\n",
       "       1.27178859e-03, 1.26975980e-03, 1.26566989e-03, 1.26176125e-03,\n",
       "       1.26096233e-03, 1.25680829e-03, 1.25459715e-03, 1.24858419e-03,\n",
       "       1.24536805e-03, 1.23891612e-03, 1.23613871e-03, 1.23325750e-03,\n",
       "       1.22940957e-03, 1.22833067e-03, 1.22457151e-03, 1.22339010e-03,\n",
       "       1.22149850e-03, 1.21937450e-03, 1.21253898e-03, 1.20925613e-03,\n",
       "       1.20815347e-03, 1.20612418e-03, 1.20328264e-03, 1.19827909e-03,\n",
       "       1.19795079e-03, 1.19378193e-03, 1.19147937e-03, 1.18902911e-03,\n",
       "       1.18488437e-03, 1.18231225e-03, 1.17992179e-03, 1.17550230e-03,\n",
       "       1.17338159e-03, 1.17198855e-03, 1.17122551e-03, 1.16900519e-03,\n",
       "       1.16522159e-03, 1.16203732e-03, 1.15947999e-03, 1.15562066e-03,\n",
       "       1.15000056e-03, 1.14981433e-03, 1.14831102e-03, 1.14557739e-03,\n",
       "       1.14073492e-03, 1.13860733e-03, 1.13566268e-03, 1.13394956e-03,\n",
       "       1.12893690e-03, 1.12513069e-03, 1.11996714e-03, 1.11929771e-03,\n",
       "       1.11746679e-03, 1.11640859e-03, 1.11042003e-03, 1.10875602e-03,\n",
       "       1.10471232e-03, 1.10374202e-03, 1.10102212e-03, 1.09984910e-03,\n",
       "       1.09631273e-03, 1.09451620e-03, 1.09375562e-03, 1.09074422e-03,\n",
       "       1.08788308e-03, 1.08712317e-03, 1.08488566e-03, 1.08188031e-03,\n",
       "       1.07467000e-03, 1.07291907e-03, 1.07275942e-03, 1.07046505e-03,\n",
       "       1.06962819e-03, 1.06717681e-03, 1.06474702e-03, 1.06161505e-03,\n",
       "       1.05855721e-03, 1.05624096e-03, 1.05456167e-03, 1.05170895e-03,\n",
       "       1.04936635e-03, 1.04908379e-03, 1.04694706e-03, 1.04378152e-03,\n",
       "       1.04177297e-03, 1.04001427e-03, 1.03731853e-03, 1.03621604e-03,\n",
       "       1.03178171e-03, 1.03034305e-03, 1.02869104e-03, 1.02532534e-03,\n",
       "       1.02394001e-03, 1.02313388e-03, 1.02075527e-03, 1.02027104e-03,\n",
       "       1.01790102e-03, 1.01592364e-03, 1.01357928e-03, 1.00962813e-03,\n",
       "       1.00956045e-03, 1.00569214e-03, 1.00456889e-03, 1.00419777e-03,\n",
       "       1.00057437e-03, 9.99055415e-04, 9.97617890e-04, 9.93496717e-04,\n",
       "       9.92645937e-04, 9.90311926e-04, 9.89621321e-04, 9.85717886e-04,\n",
       "       9.84188017e-04, 9.81700703e-04, 9.80469985e-04, 9.78921150e-04,\n",
       "       9.75738901e-04, 9.74278013e-04, 9.73633335e-04, 9.70928912e-04,\n",
       "       9.69058346e-04, 9.68000720e-04, 9.64978171e-04, 9.62723693e-04,\n",
       "       9.60395040e-04, 9.58841037e-04, 9.56199915e-04, 9.54902084e-04,\n",
       "       9.54351765e-04, 9.51893148e-04, 9.49898898e-04, 9.48191702e-04,\n",
       "       9.45640136e-04, 9.43530571e-04, 9.41016635e-04, 9.39457181e-04,\n",
       "       9.36889432e-04, 9.34943783e-04, 9.33599036e-04, 9.31744383e-04,\n",
       "       9.30656920e-04, 9.27730842e-04, 9.26422347e-04, 9.24755630e-04,\n",
       "       9.23048408e-04, 9.19986816e-04, 9.18397667e-04, 9.17689758e-04,\n",
       "       9.15024075e-04, 9.12985152e-04, 9.11627482e-04, 9.08668281e-04,\n",
       "       9.07812000e-04, 9.06366400e-04, 9.05899152e-04, 9.03424665e-04,\n",
       "       9.00748040e-04, 8.99218322e-04, 8.97470101e-04, 8.95757710e-04,\n",
       "       8.94472006e-04, 8.94362249e-04, 8.91705579e-04, 8.90199161e-04,\n",
       "       8.89462403e-04, 8.88322557e-04, 8.84919115e-04, 8.83938173e-04,\n",
       "       8.83684875e-04, 8.80263677e-04, 8.79206682e-04, 8.76212352e-04,\n",
       "       8.73608666e-04, 8.72181512e-04, 8.70729273e-04, 8.68574121e-04,\n",
       "       8.67560141e-04, 8.65496672e-04, 8.63560909e-04, 8.60720954e-04,\n",
       "       8.59731926e-04, 8.57725894e-04, 8.56541591e-04, 8.55784431e-04,\n",
       "       8.53826891e-04, 8.53254135e-04, 8.51057382e-04, 8.49802526e-04,\n",
       "       8.49359268e-04, 8.44639645e-04, 8.43663292e-04, 8.42075205e-04,\n",
       "       8.40758358e-04, 8.38679989e-04, 8.37955311e-04, 8.36058726e-04,\n",
       "       8.35114693e-04, 8.33216954e-04, 8.32265548e-04, 8.30135315e-04,\n",
       "       8.28450267e-04, 8.27317185e-04, 8.26009128e-04, 8.23878685e-04,\n",
       "       8.23085363e-04, 8.20544880e-04, 8.19262650e-04, 8.16874032e-04,\n",
       "       8.15679256e-04, 8.13698654e-04, 8.12933160e-04, 8.11525921e-04,\n",
       "       8.09356190e-04, 8.08236562e-04, 8.06788892e-04, 8.06318598e-04,\n",
       "       8.05638882e-04, 8.03547544e-04, 8.00692447e-04, 8.00015010e-04,\n",
       "       7.97875561e-04, 7.97235716e-04, 7.94202946e-04, 7.92783249e-04,\n",
       "       7.90899333e-04, 7.90220383e-04, 7.89330075e-04, 7.87045588e-04,\n",
       "       7.86211869e-04, 7.85311050e-04, 7.83268235e-04, 7.82557474e-04,\n",
       "       7.81752256e-04, 7.80805153e-04, 7.79134816e-04, 7.78057492e-04,\n",
       "       7.75273423e-04, 7.74390358e-04, 7.73101829e-04, 7.72317568e-04,\n",
       "       7.70239054e-04, 7.68084528e-04, 7.67147571e-04, 7.65153233e-04,\n",
       "       7.63762552e-04, 7.62645135e-04, 7.62078293e-04, 7.59717791e-04,\n",
       "       7.58063466e-04, 7.57557356e-04, 7.56100350e-04, 7.55567245e-04,\n",
       "       7.54189461e-04, 7.51155147e-04, 7.49783285e-04, 7.49126127e-04,\n",
       "       7.47870550e-04, 7.46656213e-04, 7.44619806e-04, 7.43164308e-04,\n",
       "       7.41808915e-04, 7.41361849e-04, 7.38929816e-04, 7.38141718e-04,\n",
       "       7.36549046e-04, 7.34452270e-04, 7.32948700e-04, 7.32504905e-04,\n",
       "       7.30635312e-04, 7.30184160e-04, 7.28725932e-04, 7.28067334e-04,\n",
       "       7.25887656e-04, 7.25252045e-04, 7.24139672e-04, 7.22181443e-04,\n",
       "       7.20903625e-04, 7.17956689e-04, 7.17433392e-04, 7.16184002e-04,\n",
       "       7.15578732e-04, 7.13503046e-04, 7.11325065e-04, 7.10578327e-04,\n",
       "       7.08835481e-04, 7.08339137e-04, 7.07069616e-04, 7.05977113e-04,\n",
       "       7.04118390e-04, 7.02795157e-04, 7.02066354e-04, 7.01318078e-04,\n",
       "       7.00139216e-04, 6.97179831e-04, 6.96473472e-04, 6.94715355e-04,\n",
       "       6.94190603e-04, 6.93336580e-04, 6.92670236e-04, 6.91472908e-04,\n",
       "       6.89941001e-04, 6.88172153e-04, 6.87408602e-04, 6.85743279e-04,\n",
       "       6.85144563e-04, 6.83332541e-04, 6.80678228e-04, 6.80077642e-04,\n",
       "       6.79065890e-04, 6.78955134e-04, 6.77616226e-04, 6.76052169e-04,\n",
       "       6.75364481e-04, 6.74217577e-04, 6.73428328e-04, 6.70812797e-04,\n",
       "       6.68981926e-04, 6.67851611e-04, 6.67275270e-04, 6.65522623e-04,\n",
       "       6.64158361e-04, 6.63725311e-04, 6.62959747e-04, 6.61361716e-04,\n",
       "       6.59487345e-04, 6.57948733e-04, 6.56767406e-04, 6.55633371e-04,\n",
       "       6.54997779e-04, 6.54157927e-04, 6.52825520e-04, 6.51392512e-04,\n",
       "       6.49979050e-04, 6.47875250e-04, 6.47672183e-04, 6.45240066e-04,\n",
       "       6.44894341e-04, 6.44512769e-04, 6.42159387e-04, 6.41232826e-04,\n",
       "       6.39442159e-04, 6.37443801e-04, 6.37052932e-04, 6.35326508e-04,\n",
       "       6.34454407e-04, 6.32761314e-04, 6.31035271e-04, 6.30755632e-04,\n",
       "       6.30261084e-04, 6.28684767e-04, 6.27348314e-04, 6.25676689e-04,\n",
       "       6.24352655e-04, 6.23901406e-04, 6.22374813e-04, 6.20797338e-04,\n",
       "       6.19883854e-04, 6.18471998e-04, 6.17296491e-04, 6.17029566e-04,\n",
       "       6.16230290e-04, 6.15560657e-04, 6.13573613e-04, 6.12095043e-04,\n",
       "       6.10790439e-04, 6.08505398e-04, 6.07991267e-04, 6.07866177e-04,\n",
       "       6.05866634e-04, 6.05472695e-04, 6.03169871e-04, 6.02960090e-04,\n",
       "       6.01713539e-04, 5.99937509e-04, 5.99714481e-04, 5.99029587e-04,\n",
       "       5.98239768e-04, 5.96470039e-04, 5.95625463e-04, 5.93471169e-04,\n",
       "       5.92659914e-04, 5.91518521e-04, 5.90900050e-04, 5.89362089e-04,\n",
       "       5.88901736e-04, 5.87822024e-04, 5.86827936e-04, 5.85286895e-04,\n",
       "       5.84661441e-04, 5.81983787e-04, 5.81656365e-04, 5.80292290e-04,\n",
       "       5.79448917e-04, 5.77688605e-04, 5.76999536e-04, 5.76075766e-04,\n",
       "       5.75432519e-04, 5.74420134e-04, 5.73207730e-04, 5.72814248e-04,\n",
       "       5.72315062e-04, 5.70654144e-04, 5.68955820e-04, 5.68740564e-04,\n",
       "       5.67927215e-04, 5.66571669e-04, 5.66366956e-04, 5.65046172e-04,\n",
       "       5.63596212e-04, 5.61911189e-04, 5.61051768e-04, 5.59211250e-04,\n",
       "       5.59085040e-04, 5.57571194e-04, 5.56574199e-04, 5.55220981e-04,\n",
       "       5.54262381e-04, 5.53069401e-04, 5.51965740e-04, 5.50868337e-04,\n",
       "       5.50367458e-04, 5.49841719e-04, 5.47688182e-04, 5.46531461e-04,\n",
       "       5.46015843e-04, 5.44569788e-04, 5.44053191e-04, 5.42981601e-04,\n",
       "       5.41709167e-04, 5.40704540e-04, 5.39652802e-04, 5.37535771e-04,\n",
       "       5.37362081e-04, 5.36369939e-04, 5.35294260e-04, 5.34496489e-04,\n",
       "       5.33570241e-04, 5.32661178e-04, 5.31471895e-04, 5.30363468e-04,\n",
       "       5.29681855e-04, 5.28876451e-04, 5.27021620e-04, 5.26597269e-04,\n",
       "       5.25263860e-04, 5.23806391e-04, 5.23328443e-04, 5.21818943e-04,\n",
       "       5.21295711e-04, 5.20805182e-04, 5.19697714e-04, 5.18996558e-04,\n",
       "       5.17624223e-04, 5.15749647e-04, 5.15158887e-04, 5.13916946e-04,\n",
       "       5.13088101e-04, 5.12164110e-04, 5.10570342e-04, 5.09367029e-04,\n",
       "       5.08712172e-04, 5.08064461e-04, 5.07829045e-04, 5.05971485e-04,\n",
       "       5.04846290e-04, 5.03584015e-04, 5.02462376e-04, 5.01243109e-04,\n",
       "       5.00373054e-04, 4.99843735e-04, 4.98942469e-04, 4.98075415e-04,\n",
       "       4.96499572e-04, 4.96217883e-04, 4.93962233e-04, 4.92564591e-04,\n",
       "       4.91835450e-04, 4.91709795e-04, 4.91054625e-04, 4.89052875e-04,\n",
       "       4.87952584e-04, 4.87635577e-04, 4.86355900e-04, 4.85282161e-04,\n",
       "       4.84367272e-04, 4.83466556e-04, 4.82908926e-04, 4.82031508e-04,\n",
       "       4.81136046e-04, 4.79957656e-04, 4.78824127e-04, 4.78446632e-04,\n",
       "       4.78024630e-04, 4.75582896e-04, 4.75163217e-04, 4.74092957e-04,\n",
       "       4.73533527e-04, 4.71546559e-04, 4.70527951e-04, 4.69216348e-04,\n",
       "       4.68288958e-04, 4.67366110e-04, 4.66119130e-04, 4.65821831e-04,\n",
       "       4.64319103e-04, 4.63595463e-04, 4.62593227e-04, 4.61808775e-04,\n",
       "       4.60268656e-04, 4.59551624e-04, 4.58687792e-04, 4.57600077e-04,\n",
       "       4.56790139e-04, 4.55943191e-04, 4.54885263e-04, 4.54729143e-04,\n",
       "       4.53256528e-04, 4.52252138e-04, 4.51195925e-04, 4.49258138e-04,\n",
       "       4.48684188e-04, 4.48034042e-04, 4.47892798e-04, 4.46545260e-04,\n",
       "       4.46001838e-04, 4.44837577e-04, 4.43569821e-04, 4.42173084e-04,\n",
       "       4.41595087e-04, 4.40943857e-04, 4.39559075e-04, 4.38758788e-04,\n",
       "       4.37782238e-04, 4.37337816e-04, 4.35791530e-04, 4.35494183e-04,\n",
       "       4.33619085e-04, 4.32955466e-04, 4.31976981e-04, 4.30849718e-04,\n",
       "       4.29998662e-04, 4.29789209e-04, 4.27654187e-04, 4.26976060e-04,\n",
       "       4.26468009e-04, 4.25267069e-04, 4.24110229e-04, 4.22927905e-04,\n",
       "       4.22248253e-04, 4.21215027e-04, 4.20379445e-04, 4.19320960e-04,\n",
       "       4.18622619e-04, 4.17780009e-04, 4.17348101e-04, 4.16327640e-04,\n",
       "       4.14960027e-04, 4.13826443e-04, 4.13131808e-04, 4.12031286e-04,\n",
       "       4.10847309e-04, 4.08945688e-04, 4.07982407e-04, 4.07740119e-04,\n",
       "       4.07019150e-04, 4.04681013e-04, 4.04065717e-04, 4.02585386e-04,\n",
       "       4.02203120e-04, 4.01222428e-04, 3.99960748e-04, 3.98616141e-04,\n",
       "       3.97448335e-04, 3.96247200e-04, 3.96029431e-04, 3.95160562e-04,\n",
       "       3.94450527e-04, 3.93165185e-04, 3.91967856e-04, 3.91605511e-04,\n",
       "       3.90965846e-04, 3.89492214e-04, 3.88884271e-04, 3.88573469e-04,\n",
       "       3.85995024e-04, 3.85767435e-04, 3.83966422e-04, 3.83495861e-04,\n",
       "       3.81797150e-04, 3.81465333e-04, 3.80161743e-04, 3.79544638e-04,\n",
       "       3.78641612e-04, 3.77634263e-04, 3.76097591e-04, 3.75842321e-04,\n",
       "       3.74270363e-04, 3.74020543e-04, 3.72880264e-04, 3.71413057e-04,\n",
       "       3.70486919e-04, 3.69189764e-04, 3.68928823e-04, 3.66969131e-04,\n",
       "       3.66591851e-04, 3.65374457e-04, 3.64556031e-04, 3.62822243e-04,\n",
       "       3.61917826e-04, 3.61489990e-04, 3.61185547e-04, 3.59914811e-04,\n",
       "       3.59378442e-04, 3.57463986e-04, 3.56588768e-04, 3.55323607e-04,\n",
       "       3.54696800e-04, 3.53393509e-04, 3.52606644e-04, 3.51438094e-04,\n",
       "       3.50494348e-04, 3.49264849e-04, 3.48032973e-04, 3.46531005e-04,\n",
       "       3.45397452e-04, 3.44285385e-04, 3.43788673e-04, 3.43068334e-04,\n",
       "       3.41442578e-04, 3.41141582e-04, 3.39147371e-04, 3.38381857e-04,\n",
       "       3.37524293e-04, 3.37495862e-04, 3.35469215e-04, 3.34310113e-04,\n",
       "       3.32886680e-04, 3.31575789e-04, 3.31090304e-04, 3.30613740e-04,\n",
       "       3.28232784e-04, 3.27001260e-04, 3.25553414e-04, 3.24811397e-04,\n",
       "       3.23442825e-04, 3.22819576e-04, 3.21342085e-04, 3.20791248e-04,\n",
       "       3.20197386e-04, 3.19042281e-04, 3.18203928e-04, 3.16096533e-04,\n",
       "       3.14668558e-04, 3.13981824e-04, 3.12814075e-04, 3.12115545e-04,\n",
       "       3.10677407e-04, 3.09261174e-04, 3.07241361e-04, 3.06372734e-04,\n",
       "       3.05352381e-04, 3.03384895e-04, 3.02772903e-04, 3.01365067e-04,\n",
       "       3.00217472e-04, 2.99019476e-04, 2.98135743e-04, 2.96966620e-04,\n",
       "       2.96551054e-04, 2.95039443e-04, 2.93215394e-04, 2.92041517e-04,\n",
       "       2.91123561e-04, 2.90327902e-04, 2.89735379e-04, 2.86981372e-04,\n",
       "       2.85359644e-04, 2.83942693e-04, 2.82753549e-04, 2.82557328e-04,\n",
       "       2.82010840e-04, 2.80691128e-04, 2.78601857e-04, 2.78145606e-04,\n",
       "       2.76137829e-04, 2.75055910e-04, 2.73333108e-04, 2.72609854e-04,\n",
       "       2.70922698e-04, 2.70164445e-04, 2.67321145e-04, 2.66751799e-04,\n",
       "       2.65466232e-04, 2.63575836e-04, 2.62271318e-04, 2.59547239e-04,\n",
       "       2.58418803e-04, 2.57275534e-04, 2.56171931e-04, 2.55029688e-04,\n",
       "       2.53558813e-04, 2.53531642e-04, 2.51566275e-04, 2.51005041e-04,\n",
       "       2.49202182e-04, 2.47882085e-04, 2.45467152e-04, 2.43792898e-04,\n",
       "       2.43102271e-04, 2.42045161e-04, 2.41150019e-04, 2.39345815e-04,\n",
       "       2.38393548e-04, 2.35493689e-04, 2.33575955e-04, 2.32639551e-04,\n",
       "       2.31428536e-04, 2.29668030e-04, 2.26910854e-04, 2.25533456e-04,\n",
       "       2.24688206e-04, 2.21864351e-04, 2.18990104e-04, 2.18458664e-04,\n",
       "       2.15570604e-04, 2.13077070e-04, 2.12081746e-04, 2.06903146e-04,\n",
       "       2.03641122e-04, 2.02893008e-04, 1.98411757e-04, 1.95978898e-04,\n",
       "       1.93721756e-04, 1.87897851e-04, 1.82840534e-04, 1.77937122e-04,\n",
       "       1.57331981e-04, 1.56665118e-04, 1.42751774e-04, 1.36785854e-04,\n",
       "       1.31732021e-04, 1.15743231e-04, 1.10259099e-04, 1.07155889e-04,\n",
       "       9.79068838e-05, 6.95868905e-33])"
      ]
     },
     "execution_count": 53,
     "metadata": {},
     "output_type": "execute_result"
    },
    {
     "data": {
      "text/plain": [
       "954"
      ]
     },
     "execution_count": 53,
     "metadata": {},
     "output_type": "execute_result"
    }
   ],
   "source": [
    "pca.fit(pompeo)\n",
    "pca.explained_variance_ratio_\n",
    "len(pca.explained_variance_ratio_)"
   ]
  },
  {
   "cell_type": "code",
   "execution_count": 54,
   "id": "93687185",
   "metadata": {},
   "outputs": [
    {
     "name": "stdout",
     "output_type": "stream",
     "text": [
      "First 5 PC explain 0.0834 of variance in Pompeo dataset\n"
     ]
    }
   ],
   "source": [
    "pc_variance_pompeo = list(pca.explained_variance_ratio_)\n",
    "pc_variance_pompeo_top5 = sum(pc_variance_pompeo[:5])\n",
    "print('First 5 PC explain '+ str(round(pc_variance_pompeo_top5, 4)) + \n",
    "      ' of variance in Pompeo dataset')"
   ]
  },
  {
   "cell_type": "code",
   "execution_count": 55,
   "id": "13f335c3",
   "metadata": {},
   "outputs": [
    {
     "data": {
      "text/html": [
       "<div>\n",
       "<style scoped>\n",
       "    .dataframe tbody tr th:only-of-type {\n",
       "        vertical-align: middle;\n",
       "    }\n",
       "\n",
       "    .dataframe tbody tr th {\n",
       "        vertical-align: top;\n",
       "    }\n",
       "\n",
       "    .dataframe thead th {\n",
       "        text-align: right;\n",
       "    }\n",
       "</style>\n",
       "<table border=\"1\" class=\"dataframe\">\n",
       "  <thead>\n",
       "    <tr style=\"text-align: right;\">\n",
       "      <th></th>\n",
       "      <th>PC1</th>\n",
       "      <th>PC2</th>\n",
       "      <th>PC3</th>\n",
       "      <th>PC4</th>\n",
       "      <th>PC5</th>\n",
       "    </tr>\n",
       "  </thead>\n",
       "  <tbody>\n",
       "    <tr>\n",
       "      <th>abandoned</th>\n",
       "      <td>0.001721</td>\n",
       "      <td>0.001271</td>\n",
       "      <td>-0.001735</td>\n",
       "      <td>-0.002046</td>\n",
       "      <td>-0.003405</td>\n",
       "    </tr>\n",
       "    <tr>\n",
       "      <th>abdullah</th>\n",
       "      <td>0.001712</td>\n",
       "      <td>0.000560</td>\n",
       "      <td>-0.012453</td>\n",
       "      <td>-0.008764</td>\n",
       "      <td>-0.004013</td>\n",
       "    </tr>\n",
       "    <tr>\n",
       "      <th>abide</th>\n",
       "      <td>0.001322</td>\n",
       "      <td>0.004253</td>\n",
       "      <td>0.009583</td>\n",
       "      <td>-0.009368</td>\n",
       "      <td>0.002025</td>\n",
       "    </tr>\n",
       "    <tr>\n",
       "      <th>ability</th>\n",
       "      <td>0.011790</td>\n",
       "      <td>0.014316</td>\n",
       "      <td>-0.009829</td>\n",
       "      <td>-0.009367</td>\n",
       "      <td>-0.009362</td>\n",
       "    </tr>\n",
       "    <tr>\n",
       "      <th>able</th>\n",
       "      <td>0.033205</td>\n",
       "      <td>-0.007626</td>\n",
       "      <td>-0.008533</td>\n",
       "      <td>-0.000729</td>\n",
       "      <td>0.007143</td>\n",
       "    </tr>\n",
       "  </tbody>\n",
       "</table>\n",
       "</div>"
      ],
      "text/plain": [
       "                PC1       PC2       PC3       PC4       PC5\n",
       "abandoned  0.001721  0.001271 -0.001735 -0.002046 -0.003405\n",
       "abdullah   0.001712  0.000560 -0.012453 -0.008764 -0.004013\n",
       "abide      0.001322  0.004253  0.009583 -0.009368  0.002025\n",
       "ability    0.011790  0.014316 -0.009829 -0.009367 -0.009362\n",
       "able       0.033205 -0.007626 -0.008533 -0.000729  0.007143"
      ]
     },
     "execution_count": 55,
     "metadata": {},
     "output_type": "execute_result"
    }
   ],
   "source": [
    "# create factor loading matrix\n",
    "factor_loadings_pompeo = pca.components_  #extract the component loadings\n",
    "matrix_pompeo = np.transpose(factor_loadings_pompeo) #flip the rows and cols \n",
    "fl_pompeo = pd.DataFrame(data = matrix_pompeo, index = pompeo.columns)\n",
    "top_5_pompeo = fl_pompeo.iloc[:,0:5]\n",
    "top_5_pompeo.columns = ['PC1', 'PC2', 'PC3', 'PC4', 'PC5']\n",
    "top_5_pompeo.head()"
   ]
  },
  {
   "cell_type": "code",
   "execution_count": 56,
   "id": "67b879a8",
   "metadata": {},
   "outputs": [],
   "source": [
    "PC1_20_pompeo = top_5_pompeo.sort_values(by = 'PC1', ascending = False).head(20)\n",
    "PC2_20_pompeo = top_5_pompeo.sort_values(by = 'PC2', ascending = False).head(20)\n",
    "PC3_20_pompeo = top_5_pompeo.sort_values(by = 'PC3', ascending = False).head(20)\n",
    "PC4_20_pompeo = top_5_pompeo.sort_values(by = 'PC4', ascending = False).head(20)\n",
    "PC5_20_pompeo = top_5_pompeo.sort_values(by = 'PC5', ascending = False).head(20)"
   ]
  },
  {
   "cell_type": "code",
   "execution_count": 57,
   "id": "0db89712",
   "metadata": {},
   "outputs": [
    {
     "data": {
      "text/plain": [
       "['million',\n",
       " 'reward',\n",
       " 'narcotic',\n",
       " 'assistance',\n",
       " 'transnational',\n",
       " 'humanitarian',\n",
       " 'bureau',\n",
       " 'reward program',\n",
       " 'transnational organized',\n",
       " 'organized crime',\n",
       " 'venezuelan',\n",
       " 'humanitarian assistance',\n",
       " 'drug',\n",
       " 'organized',\n",
       " 'information leading',\n",
       " 'enforcement',\n",
       " 'refugee',\n",
       " 'law enforcement',\n",
       " 'health',\n",
       " 'donor']"
      ]
     },
     "execution_count": 57,
     "metadata": {},
     "output_type": "execute_result"
    }
   ],
   "source": [
    "PC1_20_pompeo_terms = list(PC1_20_pompeo.index)\n",
    "# PC1_20_pompeo_terms\n",
    "# not very descriptive; seems to be interview terms?\n",
    "\n",
    "PC2_20_pompeo_terms = list(PC2_20_pompeo.index)\n",
    "# PC2_20_pompeo_terms\n",
    "# sanctions related \n",
    "\n",
    "PC3_20_pompeo_terms = list(PC3_20_pompeo.index)\n",
    "# PC3_20_pompeo_terms\n",
    "# China \n",
    "\n",
    "PC4_20_pompeo_terms = list(PC4_20_pompeo.index)\n",
    "# PC4_20_pompeo_terms\n",
    "# corruption, narcotics, organized crime, etc. \n",
    "\n",
    "PC5_20_pompeo_terms = list(PC5_20_pompeo.index)\n",
    "PC5_20_pompeo_terms\n",
    "# very similar to pc4, but includes humanitarian and venezuala"
   ]
  },
  {
   "cell_type": "code",
   "execution_count": 58,
   "id": "d9cdf415",
   "metadata": {},
   "outputs": [
    {
     "data": {
      "text/plain": [
       "<Figure size 720x360 with 0 Axes>"
      ]
     },
     "execution_count": 58,
     "metadata": {},
     "output_type": "execute_result"
    },
    {
     "data": {
      "text/plain": [
       "[<matplotlib.lines.Line2D at 0x7f8f2ebd5280>]"
      ]
     },
     "execution_count": 58,
     "metadata": {},
     "output_type": "execute_result"
    },
    {
     "data": {
      "text/plain": [
       "Text(0.5, 0, 'Components')"
      ]
     },
     "execution_count": 58,
     "metadata": {},
     "output_type": "execute_result"
    },
    {
     "data": {
      "text/plain": [
       "Text(0, 0.5, 'PVE')"
      ]
     },
     "execution_count": 58,
     "metadata": {},
     "output_type": "execute_result"
    },
    {
     "data": {
      "text/plain": [
       "(0.0, 0.1)"
      ]
     },
     "execution_count": 58,
     "metadata": {},
     "output_type": "execute_result"
    },
    {
     "data": {
      "text/plain": [
       "([<matplotlib.axis.XTick at 0x7f8f2ebdf670>,\n",
       "  <matplotlib.axis.XTick at 0x7f8f2ebdf640>,\n",
       "  <matplotlib.axis.XTick at 0x7f8f2ebdf130>,\n",
       "  <matplotlib.axis.XTick at 0x7f8f2ebd5cd0>,\n",
       "  <matplotlib.axis.XTick at 0x7f8f2c5413d0>],\n",
       " [Text(0, 0, 'PC1'),\n",
       "  Text(1, 0, 'PC2'),\n",
       "  Text(2, 0, 'PC3'),\n",
       "  Text(3, 0, 'PC4'),\n",
       "  Text(4, 0, 'PC5')])"
      ]
     },
     "execution_count": 58,
     "metadata": {},
     "output_type": "execute_result"
    },
    {
     "data": {
      "text/plain": [
       "Text(0.5, 1.0, 'Proportion of Variance Explained - Pompeo')"
      ]
     },
     "execution_count": 58,
     "metadata": {},
     "output_type": "execute_result"
    },
    {
     "data": {
      "image/png": "[encoded data removed]",
      "text/plain": [
       "<Figure size 720x360 with 1 Axes>"
      ]
     },
     "metadata": {
      "needs_background": "light"
     },
     "output_type": "display_data"
    }
   ],
   "source": [
    "plt.figure(figsize=(10,5))\n",
    "plt.plot(pca.explained_variance_ratio_[0:5],marker = 'o')\n",
    "plt.xlabel(\"Components\")\n",
    "plt.ylabel(\"PVE\")\n",
    "plt.ylim(0,0.1)\n",
    "plt.xticks(np.arange(5),('PC1','PC2','PC3', 'PC4','PC5'))\n",
    "plt.title(\"Proportion of Variance Explained - Pompeo\")\n",
    "plt.show()"
   ]
  }
 ],
 "metadata": {
  "kernelspec": {
   "display_name": "Python 3 (ipykernel)",
   "language": "python",
   "name": "python3"
  },
  "language_info": {
   "codemirror_mode": {
    "name": "ipython",
    "version": 3
   },
   "file_extension": ".py",
   "mimetype": "text/x-python",
   "name": "python",
   "nbconvert_exporter": "python",
   "pygments_lexer": "ipython3",
   "version": "3.9.12"
  }
 },
 "nbformat": 4,
 "nbformat_minor": 5
}
