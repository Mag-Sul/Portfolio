{
 "cells": [
  {
   "cell_type": "markdown",
   "id": "fbdf7aae",
   "metadata": {},
   "source": [
    "# Analysis "
   ]
  },
  {
   "cell_type": "markdown",
   "id": "8a34002e",
   "metadata": {},
   "source": [
    "**Overview of Notebook:** \n",
    "- Initial data viz/data explorations\n",
    "- Train-test-split data\n",
    "- Parametric modeling (linear regressiona and logistic)\n",
    "- Nonparametric modeling (decision tree and random forest)\n",
    "- Resulting Graphs "
   ]
  },
  {
   "cell_type": "code",
   "execution_count": 1,
   "id": "dc1a03bc",
   "metadata": {},
   "outputs": [
    {
     "name": "stdout",
     "output_type": "stream",
     "text": [
      "Exception reporting mode: Minimal\n"
     ]
    }
   ],
   "source": [
    "# set up \n",
    "import pandas as pd\n",
    "import numpy as np\n",
    "from sklearn.model_selection import train_test_split, cross_val_score, validation_curve\n",
    "from sklearn.linear_model import Lasso, LinearRegression, LogisticRegression, Ridge \n",
    "from sklearn.discriminant_analysis import LinearDiscriminantAnalysis\n",
    "from sklearn.metrics import mean_squared_error, confusion_matrix\n",
    "from sklearn.tree import DecisionTreeRegressor, plot_tree\n",
    "from sklearn.preprocessing import StandardScaler\n",
    "from sklearn.ensemble import RandomForestRegressor\n",
    "import matplotlib.pyplot as plt\n",
    "\n",
    "from IPython.core.interactiveshell import InteractiveShell \n",
    "InteractiveShell.ast_node_interactivity = \"all\"\n",
    "\n",
    "%xmode Minimal"
   ]
  },
  {
   "cell_type": "markdown",
   "id": "94fbaaa2",
   "metadata": {},
   "source": [
    "### Load Data"
   ]
  },
  {
   "cell_type": "code",
   "execution_count": 2,
   "id": "462fcefa",
   "metadata": {},
   "outputs": [],
   "source": [
    "%store -r local_cl\n",
    "%store -r local_dummied"
   ]
  },
  {
   "cell_type": "code",
   "execution_count": 3,
   "id": "33d805e2",
   "metadata": {},
   "outputs": [
    {
     "data": {
      "text/html": [
       "<div>\n",
       "<style scoped>\n",
       "    .dataframe tbody tr th:only-of-type {\n",
       "        vertical-align: middle;\n",
       "    }\n",
       "\n",
       "    .dataframe tbody tr th {\n",
       "        vertical-align: top;\n",
       "    }\n",
       "\n",
       "    .dataframe thead th {\n",
       "        text-align: right;\n",
       "    }\n",
       "</style>\n",
       "<table border=\"1\" class=\"dataframe\">\n",
       "  <thead>\n",
       "    <tr style=\"text-align: right;\">\n",
       "      <th></th>\n",
       "      <th>county_fips</th>\n",
       "      <th>county_name</th>\n",
       "      <th>state_fips</th>\n",
       "      <th>total</th>\n",
       "      <th>prop_wom</th>\n",
       "      <th>prop_men</th>\n",
       "      <th>prop_unknown</th>\n",
       "      <th>total_population</th>\n",
       "      <th>cvap</th>\n",
       "      <th>white_pct</th>\n",
       "      <th>...</th>\n",
       "      <th>DIVISIONS_west_south_central</th>\n",
       "      <th>ruralurban_cc_1.0</th>\n",
       "      <th>ruralurban_cc_2.0</th>\n",
       "      <th>ruralurban_cc_3.0</th>\n",
       "      <th>ruralurban_cc_4.0</th>\n",
       "      <th>ruralurban_cc_5.0</th>\n",
       "      <th>ruralurban_cc_6.0</th>\n",
       "      <th>ruralurban_cc_7.0</th>\n",
       "      <th>ruralurban_cc_8.0</th>\n",
       "      <th>ruralurban_cc_9.0</th>\n",
       "    </tr>\n",
       "  </thead>\n",
       "  <tbody>\n",
       "    <tr>\n",
       "      <th>0</th>\n",
       "      <td>01001</td>\n",
       "      <td>AUTAUGA</td>\n",
       "      <td>01</td>\n",
       "      <td>6.0</td>\n",
       "      <td>0.667</td>\n",
       "      <td>0.333</td>\n",
       "      <td>0.000</td>\n",
       "      <td>55049.0</td>\n",
       "      <td>40690.0</td>\n",
       "      <td>0.757</td>\n",
       "      <td>...</td>\n",
       "      <td>0</td>\n",
       "      <td>0</td>\n",
       "      <td>1</td>\n",
       "      <td>0</td>\n",
       "      <td>0</td>\n",
       "      <td>0</td>\n",
       "      <td>0</td>\n",
       "      <td>0</td>\n",
       "      <td>0</td>\n",
       "      <td>0</td>\n",
       "    </tr>\n",
       "    <tr>\n",
       "      <th>1</th>\n",
       "      <td>01003</td>\n",
       "      <td>BALDWIN</td>\n",
       "      <td>01</td>\n",
       "      <td>16.0</td>\n",
       "      <td>0.375</td>\n",
       "      <td>0.562</td>\n",
       "      <td>0.062</td>\n",
       "      <td>199510.0</td>\n",
       "      <td>151770.0</td>\n",
       "      <td>0.832</td>\n",
       "      <td>...</td>\n",
       "      <td>0</td>\n",
       "      <td>0</td>\n",
       "      <td>0</td>\n",
       "      <td>1</td>\n",
       "      <td>0</td>\n",
       "      <td>0</td>\n",
       "      <td>0</td>\n",
       "      <td>0</td>\n",
       "      <td>0</td>\n",
       "      <td>0</td>\n",
       "    </tr>\n",
       "    <tr>\n",
       "      <th>2</th>\n",
       "      <td>01005</td>\n",
       "      <td>BARBOUR</td>\n",
       "      <td>01</td>\n",
       "      <td>15.0</td>\n",
       "      <td>0.267</td>\n",
       "      <td>0.600</td>\n",
       "      <td>0.133</td>\n",
       "      <td>26614.0</td>\n",
       "      <td>20375.0</td>\n",
       "      <td>0.459</td>\n",
       "      <td>...</td>\n",
       "      <td>0</td>\n",
       "      <td>0</td>\n",
       "      <td>0</td>\n",
       "      <td>0</td>\n",
       "      <td>0</td>\n",
       "      <td>0</td>\n",
       "      <td>1</td>\n",
       "      <td>0</td>\n",
       "      <td>0</td>\n",
       "      <td>0</td>\n",
       "    </tr>\n",
       "    <tr>\n",
       "      <th>3</th>\n",
       "      <td>01007</td>\n",
       "      <td>BIBB</td>\n",
       "      <td>01</td>\n",
       "      <td>10.0</td>\n",
       "      <td>0.400</td>\n",
       "      <td>0.600</td>\n",
       "      <td>0.000</td>\n",
       "      <td>22572.0</td>\n",
       "      <td>17590.0</td>\n",
       "      <td>0.748</td>\n",
       "      <td>...</td>\n",
       "      <td>0</td>\n",
       "      <td>1</td>\n",
       "      <td>0</td>\n",
       "      <td>0</td>\n",
       "      <td>0</td>\n",
       "      <td>0</td>\n",
       "      <td>0</td>\n",
       "      <td>0</td>\n",
       "      <td>0</td>\n",
       "      <td>0</td>\n",
       "    </tr>\n",
       "    <tr>\n",
       "      <th>4</th>\n",
       "      <td>01009</td>\n",
       "      <td>BLOUNT</td>\n",
       "      <td>01</td>\n",
       "      <td>9.0</td>\n",
       "      <td>0.333</td>\n",
       "      <td>0.556</td>\n",
       "      <td>0.111</td>\n",
       "      <td>57704.0</td>\n",
       "      <td>42430.0</td>\n",
       "      <td>0.877</td>\n",
       "      <td>...</td>\n",
       "      <td>0</td>\n",
       "      <td>1</td>\n",
       "      <td>0</td>\n",
       "      <td>0</td>\n",
       "      <td>0</td>\n",
       "      <td>0</td>\n",
       "      <td>0</td>\n",
       "      <td>0</td>\n",
       "      <td>0</td>\n",
       "      <td>0</td>\n",
       "    </tr>\n",
       "  </tbody>\n",
       "</table>\n",
       "<p>5 rows × 94 columns</p>\n",
       "</div>"
      ],
      "text/plain": [
       "  county_fips county_name state_fips  total  prop_wom  prop_men  prop_unknown  \\\n",
       "0       01001     AUTAUGA         01    6.0     0.667     0.333         0.000   \n",
       "1       01003     BALDWIN         01   16.0     0.375     0.562         0.062   \n",
       "2       01005     BARBOUR         01   15.0     0.267     0.600         0.133   \n",
       "3       01007        BIBB         01   10.0     0.400     0.600         0.000   \n",
       "4       01009      BLOUNT         01    9.0     0.333     0.556         0.111   \n",
       "\n",
       "   total_population      cvap  white_pct  ...  DIVISIONS_west_south_central  \\\n",
       "0           55049.0   40690.0      0.757  ...                             0   \n",
       "1          199510.0  151770.0      0.832  ...                             0   \n",
       "2           26614.0   20375.0      0.459  ...                             0   \n",
       "3           22572.0   17590.0      0.748  ...                             0   \n",
       "4           57704.0   42430.0      0.877  ...                             0   \n",
       "\n",
       "   ruralurban_cc_1.0  ruralurban_cc_2.0  ruralurban_cc_3.0  ruralurban_cc_4.0  \\\n",
       "0                  0                  1                  0                  0   \n",
       "1                  0                  0                  1                  0   \n",
       "2                  0                  0                  0                  0   \n",
       "3                  1                  0                  0                  0   \n",
       "4                  1                  0                  0                  0   \n",
       "\n",
       "   ruralurban_cc_5.0  ruralurban_cc_6.0  ruralurban_cc_7.0  ruralurban_cc_8.0  \\\n",
       "0                  0                  0                  0                  0   \n",
       "1                  0                  0                  0                  0   \n",
       "2                  0                  1                  0                  0   \n",
       "3                  0                  0                  0                  0   \n",
       "4                  0                  0                  0                  0   \n",
       "\n",
       "   ruralurban_cc_9.0  \n",
       "0                  0  \n",
       "1                  0  \n",
       "2                  0  \n",
       "3                  0  \n",
       "4                  0  \n",
       "\n",
       "[5 rows x 94 columns]"
      ]
     },
     "execution_count": 3,
     "metadata": {},
     "output_type": "execute_result"
    },
    {
     "name": "stdout",
     "output_type": "stream",
     "text": [
      "<class 'pandas.core.frame.DataFrame'>\n",
      "Int64Index: 1083 entries, 0 to 1251\n",
      "Data columns (total 94 columns):\n",
      " #   Column                        Non-Null Count  Dtype  \n",
      "---  ------                        --------------  -----  \n",
      " 0   county_fips                   1083 non-null   object \n",
      " 1   county_name                   1083 non-null   object \n",
      " 2   state_fips                    1083 non-null   object \n",
      " 3   total                         1083 non-null   float64\n",
      " 4   prop_wom                      1083 non-null   float64\n",
      " 5   prop_men                      1083 non-null   float64\n",
      " 6   prop_unknown                  1083 non-null   float64\n",
      " 7   total_population              1083 non-null   float64\n",
      " 8   cvap                          1083 non-null   float64\n",
      " 9   white_pct                     1083 non-null   float64\n",
      " 10  black_pct                     1083 non-null   float64\n",
      " 11  hispanic_pct                  1083 non-null   float64\n",
      " 12  nonwhite_pct                  1083 non-null   float64\n",
      " 13  foreignborn_pct               1083 non-null   float64\n",
      " 14  female_pct                    1083 non-null   float64\n",
      " 15  age29andunder_pct             1083 non-null   float64\n",
      " 16  age65andolder_pct             1083 non-null   float64\n",
      " 17  clf_unemploy_pct              1083 non-null   float64\n",
      " 18  lesshs_pct                    1083 non-null   float64\n",
      " 19  lesscollege_pct               1083 non-null   float64\n",
      " 20  lesshs_whites_pct             1083 non-null   float64\n",
      " 21  lesscollege_whites_pct        1083 non-null   float64\n",
      " 22  rural_pct                     1083 non-null   float64\n",
      " 23  median_hh_inc                 1083 non-null   float64\n",
      " 24  pres_16_CLINTON               1083 non-null   uint8  \n",
      " 25  pres_16_THIRD                 1083 non-null   uint8  \n",
      " 26  pres_16_TRUMP                 1083 non-null   uint8  \n",
      " 27  pres_12_OBAMA                 1083 non-null   uint8  \n",
      " 28  pres_12_ROMNEY                1083 non-null   uint8  \n",
      " 29  no_wom_demand_contracep_pub   1083 non-null   int64  \n",
      " 30  total_titlex_clinics          1083 non-null   int64  \n",
      " 31  no_wom_dem_contracep_13       1083 non-null   int64  \n",
      " 32  no_wom_dem_contracep_20       1083 non-null   int64  \n",
      " 33  total_pub_clinics             1083 non-null   int64  \n",
      " 34  DUM_no_PP_clinics             1083 non-null   int64  \n",
      " 35  DUM_no_PP_clinics_titlex      1083 non-null   int64  \n",
      " 36  DUM_no_fed_centers            1083 non-null   int64  \n",
      " 37  DUM_no_fed_centers_titlex     1083 non-null   int64  \n",
      " 38  DUM_no_HD_clinics             1083 non-null   int64  \n",
      " 39  DUM_no_HD_clinics_titlex      1083 non-null   int64  \n",
      " 40  DUM_no_hosp_clinics           1083 non-null   int64  \n",
      " 41  DUM_no_hosp_clinics_titlex    1083 non-null   int64  \n",
      " 42  DUM_no_other_clinics          1083 non-null   int64  \n",
      " 43  DUM_no_other_clinics_titlex   1083 non-null   int64  \n",
      " 44  state_clean_ALABAMA           1083 non-null   uint8  \n",
      " 45  state_clean_ARIZONA           1083 non-null   uint8  \n",
      " 46  state_clean_COLORADO          1083 non-null   uint8  \n",
      " 47  state_clean_CONNECTICUT       1083 non-null   uint8  \n",
      " 48  state_clean_DELAWARE          1083 non-null   uint8  \n",
      " 49  state_clean_FLORIDA           1083 non-null   uint8  \n",
      " 50  state_clean_HAWAII            1083 non-null   uint8  \n",
      " 51  state_clean_ILLINOIS          1083 non-null   uint8  \n",
      " 52  state_clean_IOWA              1083 non-null   uint8  \n",
      " 53  state_clean_KENTUCKY          1083 non-null   uint8  \n",
      " 54  state_clean_LOUISIANA         1083 non-null   uint8  \n",
      " 55  state_clean_MAINE             1083 non-null   uint8  \n",
      " 56  state_clean_MARYLAND          1083 non-null   uint8  \n",
      " 57  state_clean_MINNESOTA         1083 non-null   uint8  \n",
      " 58  state_clean_MISSISSIPPI       1083 non-null   uint8  \n",
      " 59  state_clean_MONTANA           1083 non-null   uint8  \n",
      " 60  state_clean_NEVADA            1083 non-null   uint8  \n",
      " 61  state_clean_NEW HAMPSHIRE     1083 non-null   uint8  \n",
      " 62  state_clean_NEW JERSEY        1083 non-null   uint8  \n",
      " 63  state_clean_NORTH CAROLINA    1083 non-null   uint8  \n",
      " 64  state_clean_OHIO              1083 non-null   uint8  \n",
      " 65  state_clean_OKLAHOMA          1083 non-null   uint8  \n",
      " 66  state_clean_RHODE ISLAND      1083 non-null   uint8  \n",
      " 67  state_clean_VERMONT           1083 non-null   uint8  \n",
      " 68  state_clean_VIRGINIA          1083 non-null   uint8  \n",
      " 69  state_clean_WASHINGTON        1083 non-null   uint8  \n",
      " 70  state_clean_WEST VIRGINIA     1083 non-null   uint8  \n",
      " 71  state_clean_WYOMING           1083 non-null   uint8  \n",
      " 72  REGION_midwest                1083 non-null   uint8  \n",
      " 73  REGION_northeast              1083 non-null   uint8  \n",
      " 74  REGION_south                  1083 non-null   uint8  \n",
      " 75  REGION_west                   1083 non-null   uint8  \n",
      " 76  DIVISIONS_east_north_central  1083 non-null   uint8  \n",
      " 77  DIVISIONS_east_south_central  1083 non-null   uint8  \n",
      " 78  DIVISIONS_middle_atlantic     1083 non-null   uint8  \n",
      " 79  DIVISIONS_mountain            1083 non-null   uint8  \n",
      " 80  DIVISIONS_new_england         1083 non-null   uint8  \n",
      " 81  DIVISIONS_pacific             1083 non-null   uint8  \n",
      " 82  DIVISIONS_south_atlantic      1083 non-null   uint8  \n",
      " 83  DIVISIONS_west_north_central  1083 non-null   uint8  \n",
      " 84  DIVISIONS_west_south_central  1083 non-null   uint8  \n",
      " 85  ruralurban_cc_1.0             1083 non-null   uint8  \n",
      " 86  ruralurban_cc_2.0             1083 non-null   uint8  \n",
      " 87  ruralurban_cc_3.0             1083 non-null   uint8  \n",
      " 88  ruralurban_cc_4.0             1083 non-null   uint8  \n",
      " 89  ruralurban_cc_5.0             1083 non-null   uint8  \n",
      " 90  ruralurban_cc_6.0             1083 non-null   uint8  \n",
      " 91  ruralurban_cc_7.0             1083 non-null   uint8  \n",
      " 92  ruralurban_cc_8.0             1083 non-null   uint8  \n",
      " 93  ruralurban_cc_9.0             1083 non-null   uint8  \n",
      "dtypes: float64(21), int64(15), object(3), uint8(55)\n",
      "memory usage: 396.6+ KB\n"
     ]
    },
    {
     "data": {
      "text/plain": [
       "Index(['county_fips', 'county_name', 'state_fips', 'total', 'prop_wom',\n",
       "       'prop_men', 'prop_unknown', 'total_population', 'cvap', 'white_pct',\n",
       "       'black_pct', 'hispanic_pct', 'nonwhite_pct', 'foreignborn_pct',\n",
       "       'female_pct', 'age29andunder_pct', 'age65andolder_pct',\n",
       "       'clf_unemploy_pct', 'lesshs_pct', 'lesscollege_pct',\n",
       "       'lesshs_whites_pct', 'lesscollege_whites_pct', 'rural_pct',\n",
       "       'median_hh_inc', 'pres_16_CLINTON', 'pres_16_THIRD', 'pres_16_TRUMP',\n",
       "       'pres_12_OBAMA', 'pres_12_ROMNEY', 'no_wom_demand_contracep_pub',\n",
       "       'total_titlex_clinics', 'no_wom_dem_contracep_13',\n",
       "       'no_wom_dem_contracep_20', 'total_pub_clinics', 'DUM_no_PP_clinics',\n",
       "       'DUM_no_PP_clinics_titlex', 'DUM_no_fed_centers',\n",
       "       'DUM_no_fed_centers_titlex', 'DUM_no_HD_clinics',\n",
       "       'DUM_no_HD_clinics_titlex', 'DUM_no_hosp_clinics',\n",
       "       'DUM_no_hosp_clinics_titlex', 'DUM_no_other_clinics',\n",
       "       'DUM_no_other_clinics_titlex', 'state_clean_ALABAMA',\n",
       "       'state_clean_ARIZONA', 'state_clean_COLORADO',\n",
       "       'state_clean_CONNECTICUT', 'state_clean_DELAWARE',\n",
       "       'state_clean_FLORIDA', 'state_clean_HAWAII', 'state_clean_ILLINOIS',\n",
       "       'state_clean_IOWA', 'state_clean_KENTUCKY', 'state_clean_LOUISIANA',\n",
       "       'state_clean_MAINE', 'state_clean_MARYLAND', 'state_clean_MINNESOTA',\n",
       "       'state_clean_MISSISSIPPI', 'state_clean_MONTANA', 'state_clean_NEVADA',\n",
       "       'state_clean_NEW HAMPSHIRE', 'state_clean_NEW JERSEY',\n",
       "       'state_clean_NORTH CAROLINA', 'state_clean_OHIO',\n",
       "       'state_clean_OKLAHOMA', 'state_clean_RHODE ISLAND',\n",
       "       'state_clean_VERMONT', 'state_clean_VIRGINIA', 'state_clean_WASHINGTON',\n",
       "       'state_clean_WEST VIRGINIA', 'state_clean_WYOMING', 'REGION_midwest',\n",
       "       'REGION_northeast', 'REGION_south', 'REGION_west',\n",
       "       'DIVISIONS_east_north_central', 'DIVISIONS_east_south_central',\n",
       "       'DIVISIONS_middle_atlantic', 'DIVISIONS_mountain',\n",
       "       'DIVISIONS_new_england', 'DIVISIONS_pacific',\n",
       "       'DIVISIONS_south_atlantic', 'DIVISIONS_west_north_central',\n",
       "       'DIVISIONS_west_south_central', 'ruralurban_cc_1.0',\n",
       "       'ruralurban_cc_2.0', 'ruralurban_cc_3.0', 'ruralurban_cc_4.0',\n",
       "       'ruralurban_cc_5.0', 'ruralurban_cc_6.0', 'ruralurban_cc_7.0',\n",
       "       'ruralurban_cc_8.0', 'ruralurban_cc_9.0'],\n",
       "      dtype='object')"
      ]
     },
     "execution_count": 3,
     "metadata": {},
     "output_type": "execute_result"
    },
    {
     "data": {
      "text/plain": [
       "(1083, 94)"
      ]
     },
     "execution_count": 3,
     "metadata": {},
     "output_type": "execute_result"
    },
    {
     "data": {
      "text/html": [
       "<div>\n",
       "<style scoped>\n",
       "    .dataframe tbody tr th:only-of-type {\n",
       "        vertical-align: middle;\n",
       "    }\n",
       "\n",
       "    .dataframe tbody tr th {\n",
       "        vertical-align: top;\n",
       "    }\n",
       "\n",
       "    .dataframe thead th {\n",
       "        text-align: right;\n",
       "    }\n",
       "</style>\n",
       "<table border=\"1\" class=\"dataframe\">\n",
       "  <thead>\n",
       "    <tr style=\"text-align: right;\">\n",
       "      <th></th>\n",
       "      <th>total</th>\n",
       "      <th>prop_wom</th>\n",
       "      <th>prop_men</th>\n",
       "      <th>prop_unknown</th>\n",
       "      <th>total_population</th>\n",
       "      <th>cvap</th>\n",
       "      <th>white_pct</th>\n",
       "      <th>black_pct</th>\n",
       "      <th>hispanic_pct</th>\n",
       "      <th>nonwhite_pct</th>\n",
       "      <th>...</th>\n",
       "      <th>DIVISIONS_west_south_central</th>\n",
       "      <th>ruralurban_cc_1.0</th>\n",
       "      <th>ruralurban_cc_2.0</th>\n",
       "      <th>ruralurban_cc_3.0</th>\n",
       "      <th>ruralurban_cc_4.0</th>\n",
       "      <th>ruralurban_cc_5.0</th>\n",
       "      <th>ruralurban_cc_6.0</th>\n",
       "      <th>ruralurban_cc_7.0</th>\n",
       "      <th>ruralurban_cc_8.0</th>\n",
       "      <th>ruralurban_cc_9.0</th>\n",
       "    </tr>\n",
       "  </thead>\n",
       "  <tbody>\n",
       "    <tr>\n",
       "      <th>count</th>\n",
       "      <td>1083.000000</td>\n",
       "      <td>1083.000000</td>\n",
       "      <td>1083.000000</td>\n",
       "      <td>1083.000000</td>\n",
       "      <td>1.083000e+03</td>\n",
       "      <td>1.083000e+03</td>\n",
       "      <td>1083.000000</td>\n",
       "      <td>1083.000000</td>\n",
       "      <td>1083.000000</td>\n",
       "      <td>1083.000000</td>\n",
       "      <td>...</td>\n",
       "      <td>1083.000000</td>\n",
       "      <td>1083.000000</td>\n",
       "      <td>1083.000000</td>\n",
       "      <td>1083.000000</td>\n",
       "      <td>1083.000000</td>\n",
       "      <td>1083.000000</td>\n",
       "      <td>1083.000000</td>\n",
       "      <td>1083.000000</td>\n",
       "      <td>1083.000000</td>\n",
       "      <td>1083.000000</td>\n",
       "    </tr>\n",
       "    <tr>\n",
       "      <th>mean</th>\n",
       "      <td>22.956602</td>\n",
       "      <td>0.300572</td>\n",
       "      <td>0.650877</td>\n",
       "      <td>0.048546</td>\n",
       "      <td>1.150055e+05</td>\n",
       "      <td>8.287594e+04</td>\n",
       "      <td>0.767733</td>\n",
       "      <td>0.117197</td>\n",
       "      <td>0.063471</td>\n",
       "      <td>0.232267</td>\n",
       "      <td>...</td>\n",
       "      <td>0.059095</td>\n",
       "      <td>0.154201</td>\n",
       "      <td>0.140351</td>\n",
       "      <td>0.119114</td>\n",
       "      <td>0.086796</td>\n",
       "      <td>0.035088</td>\n",
       "      <td>0.177285</td>\n",
       "      <td>0.143121</td>\n",
       "      <td>0.067405</td>\n",
       "      <td>0.076639</td>\n",
       "    </tr>\n",
       "    <tr>\n",
       "      <th>std</th>\n",
       "      <td>42.572315</td>\n",
       "      <td>0.227931</td>\n",
       "      <td>0.230763</td>\n",
       "      <td>0.068865</td>\n",
       "      <td>2.943156e+05</td>\n",
       "      <td>1.993996e+05</td>\n",
       "      <td>0.190265</td>\n",
       "      <td>0.166876</td>\n",
       "      <td>0.086555</td>\n",
       "      <td>0.190265</td>\n",
       "      <td>...</td>\n",
       "      <td>0.235912</td>\n",
       "      <td>0.361308</td>\n",
       "      <td>0.347511</td>\n",
       "      <td>0.324072</td>\n",
       "      <td>0.281666</td>\n",
       "      <td>0.184087</td>\n",
       "      <td>0.382086</td>\n",
       "      <td>0.350358</td>\n",
       "      <td>0.250839</td>\n",
       "      <td>0.266141</td>\n",
       "    </tr>\n",
       "    <tr>\n",
       "      <th>min</th>\n",
       "      <td>1.000000</td>\n",
       "      <td>0.000000</td>\n",
       "      <td>0.000000</td>\n",
       "      <td>0.000000</td>\n",
       "      <td>8.460000e+02</td>\n",
       "      <td>6.800000e+02</td>\n",
       "      <td>0.132000</td>\n",
       "      <td>0.000000</td>\n",
       "      <td>0.000000</td>\n",
       "      <td>0.004000</td>\n",
       "      <td>...</td>\n",
       "      <td>0.000000</td>\n",
       "      <td>0.000000</td>\n",
       "      <td>0.000000</td>\n",
       "      <td>0.000000</td>\n",
       "      <td>0.000000</td>\n",
       "      <td>0.000000</td>\n",
       "      <td>0.000000</td>\n",
       "      <td>0.000000</td>\n",
       "      <td>0.000000</td>\n",
       "      <td>0.000000</td>\n",
       "    </tr>\n",
       "    <tr>\n",
       "      <th>25%</th>\n",
       "      <td>4.000000</td>\n",
       "      <td>0.167000</td>\n",
       "      <td>0.533000</td>\n",
       "      <td>0.000000</td>\n",
       "      <td>1.627800e+04</td>\n",
       "      <td>1.259000e+04</td>\n",
       "      <td>0.650500</td>\n",
       "      <td>0.009000</td>\n",
       "      <td>0.016000</td>\n",
       "      <td>0.075500</td>\n",
       "      <td>...</td>\n",
       "      <td>0.000000</td>\n",
       "      <td>0.000000</td>\n",
       "      <td>0.000000</td>\n",
       "      <td>0.000000</td>\n",
       "      <td>0.000000</td>\n",
       "      <td>0.000000</td>\n",
       "      <td>0.000000</td>\n",
       "      <td>0.000000</td>\n",
       "      <td>0.000000</td>\n",
       "      <td>0.000000</td>\n",
       "    </tr>\n",
       "    <tr>\n",
       "      <th>50%</th>\n",
       "      <td>10.000000</td>\n",
       "      <td>0.273000</td>\n",
       "      <td>0.667000</td>\n",
       "      <td>0.000000</td>\n",
       "      <td>3.602900e+04</td>\n",
       "      <td>2.736000e+04</td>\n",
       "      <td>0.827000</td>\n",
       "      <td>0.038000</td>\n",
       "      <td>0.034000</td>\n",
       "      <td>0.173000</td>\n",
       "      <td>...</td>\n",
       "      <td>0.000000</td>\n",
       "      <td>0.000000</td>\n",
       "      <td>0.000000</td>\n",
       "      <td>0.000000</td>\n",
       "      <td>0.000000</td>\n",
       "      <td>0.000000</td>\n",
       "      <td>0.000000</td>\n",
       "      <td>0.000000</td>\n",
       "      <td>0.000000</td>\n",
       "      <td>0.000000</td>\n",
       "    </tr>\n",
       "    <tr>\n",
       "      <th>75%</th>\n",
       "      <td>23.500000</td>\n",
       "      <td>0.400000</td>\n",
       "      <td>0.778000</td>\n",
       "      <td>0.082500</td>\n",
       "      <td>9.285550e+04</td>\n",
       "      <td>7.047750e+04</td>\n",
       "      <td>0.924500</td>\n",
       "      <td>0.156000</td>\n",
       "      <td>0.071000</td>\n",
       "      <td>0.349500</td>\n",
       "      <td>...</td>\n",
       "      <td>0.000000</td>\n",
       "      <td>0.000000</td>\n",
       "      <td>0.000000</td>\n",
       "      <td>0.000000</td>\n",
       "      <td>0.000000</td>\n",
       "      <td>0.000000</td>\n",
       "      <td>0.000000</td>\n",
       "      <td>0.000000</td>\n",
       "      <td>0.000000</td>\n",
       "      <td>0.000000</td>\n",
       "    </tr>\n",
       "    <tr>\n",
       "      <th>max</th>\n",
       "      <td>720.000000</td>\n",
       "      <td>1.000000</td>\n",
       "      <td>1.000000</td>\n",
       "      <td>0.400000</td>\n",
       "      <td>5.227575e+06</td>\n",
       "      <td>3.511325e+06</td>\n",
       "      <td>0.996000</td>\n",
       "      <td>0.862000</td>\n",
       "      <td>0.832000</td>\n",
       "      <td>0.868000</td>\n",
       "      <td>...</td>\n",
       "      <td>1.000000</td>\n",
       "      <td>1.000000</td>\n",
       "      <td>1.000000</td>\n",
       "      <td>1.000000</td>\n",
       "      <td>1.000000</td>\n",
       "      <td>1.000000</td>\n",
       "      <td>1.000000</td>\n",
       "      <td>1.000000</td>\n",
       "      <td>1.000000</td>\n",
       "      <td>1.000000</td>\n",
       "    </tr>\n",
       "  </tbody>\n",
       "</table>\n",
       "<p>8 rows × 91 columns</p>\n",
       "</div>"
      ],
      "text/plain": [
       "             total     prop_wom     prop_men  prop_unknown  total_population  \\\n",
       "count  1083.000000  1083.000000  1083.000000   1083.000000      1.083000e+03   \n",
       "mean     22.956602     0.300572     0.650877      0.048546      1.150055e+05   \n",
       "std      42.572315     0.227931     0.230763      0.068865      2.943156e+05   \n",
       "min       1.000000     0.000000     0.000000      0.000000      8.460000e+02   \n",
       "25%       4.000000     0.167000     0.533000      0.000000      1.627800e+04   \n",
       "50%      10.000000     0.273000     0.667000      0.000000      3.602900e+04   \n",
       "75%      23.500000     0.400000     0.778000      0.082500      9.285550e+04   \n",
       "max     720.000000     1.000000     1.000000      0.400000      5.227575e+06   \n",
       "\n",
       "               cvap    white_pct    black_pct  hispanic_pct  nonwhite_pct  \\\n",
       "count  1.083000e+03  1083.000000  1083.000000   1083.000000   1083.000000   \n",
       "mean   8.287594e+04     0.767733     0.117197      0.063471      0.232267   \n",
       "std    1.993996e+05     0.190265     0.166876      0.086555      0.190265   \n",
       "min    6.800000e+02     0.132000     0.000000      0.000000      0.004000   \n",
       "25%    1.259000e+04     0.650500     0.009000      0.016000      0.075500   \n",
       "50%    2.736000e+04     0.827000     0.038000      0.034000      0.173000   \n",
       "75%    7.047750e+04     0.924500     0.156000      0.071000      0.349500   \n",
       "max    3.511325e+06     0.996000     0.862000      0.832000      0.868000   \n",
       "\n",
       "       ...  DIVISIONS_west_south_central  ruralurban_cc_1.0  \\\n",
       "count  ...                   1083.000000        1083.000000   \n",
       "mean   ...                      0.059095           0.154201   \n",
       "std    ...                      0.235912           0.361308   \n",
       "min    ...                      0.000000           0.000000   \n",
       "25%    ...                      0.000000           0.000000   \n",
       "50%    ...                      0.000000           0.000000   \n",
       "75%    ...                      0.000000           0.000000   \n",
       "max    ...                      1.000000           1.000000   \n",
       "\n",
       "       ruralurban_cc_2.0  ruralurban_cc_3.0  ruralurban_cc_4.0  \\\n",
       "count        1083.000000        1083.000000        1083.000000   \n",
       "mean            0.140351           0.119114           0.086796   \n",
       "std             0.347511           0.324072           0.281666   \n",
       "min             0.000000           0.000000           0.000000   \n",
       "25%             0.000000           0.000000           0.000000   \n",
       "50%             0.000000           0.000000           0.000000   \n",
       "75%             0.000000           0.000000           0.000000   \n",
       "max             1.000000           1.000000           1.000000   \n",
       "\n",
       "       ruralurban_cc_5.0  ruralurban_cc_6.0  ruralurban_cc_7.0  \\\n",
       "count        1083.000000        1083.000000        1083.000000   \n",
       "mean            0.035088           0.177285           0.143121   \n",
       "std             0.184087           0.382086           0.350358   \n",
       "min             0.000000           0.000000           0.000000   \n",
       "25%             0.000000           0.000000           0.000000   \n",
       "50%             0.000000           0.000000           0.000000   \n",
       "75%             0.000000           0.000000           0.000000   \n",
       "max             1.000000           1.000000           1.000000   \n",
       "\n",
       "       ruralurban_cc_8.0  ruralurban_cc_9.0  \n",
       "count        1083.000000        1083.000000  \n",
       "mean            0.067405           0.076639  \n",
       "std             0.250839           0.266141  \n",
       "min             0.000000           0.000000  \n",
       "25%             0.000000           0.000000  \n",
       "50%             0.000000           0.000000  \n",
       "75%             0.000000           0.000000  \n",
       "max             1.000000           1.000000  \n",
       "\n",
       "[8 rows x 91 columns]"
      ]
     },
     "execution_count": 3,
     "metadata": {},
     "output_type": "execute_result"
    }
   ],
   "source": [
    "local_dummied.head()\n",
    "local_dummied.info()\n",
    "local_dummied.columns\n",
    "local_dummied.shape\n",
    "local_dummied.describe()"
   ]
  },
  {
   "cell_type": "markdown",
   "id": "2fa375c1",
   "metadata": {},
   "source": [
    "### Initial Data Viz"
   ]
  },
  {
   "cell_type": "code",
   "execution_count": 4,
   "id": "ea35c15a",
   "metadata": {},
   "outputs": [
    {
     "data": {
      "text/plain": [
       "count    1083.000000\n",
       "mean        0.300572\n",
       "std         0.227931\n",
       "min         0.000000\n",
       "25%         0.167000\n",
       "50%         0.273000\n",
       "75%         0.400000\n",
       "max         1.000000\n",
       "Name: prop_wom, dtype: float64"
      ]
     },
     "execution_count": 4,
     "metadata": {},
     "output_type": "execute_result"
    }
   ],
   "source": [
    "# Explore distribution of the proportion of women candidates\n",
    "local_dummied.prop_wom.describe()"
   ]
  },
  {
   "cell_type": "code",
   "execution_count": 5,
   "id": "dc48b40d",
   "metadata": {},
   "outputs": [
    {
     "data": {
      "text/plain": [
       "(array([159.,  21.,  76.,  74., 124., 155., 117.,  83.,  68.,  15.,  85.,\n",
       "         21.,   7.,  19.,   3.,   5.,   3.,   0.,   0.,  48.]),\n",
       " array([0.  , 0.05, 0.1 , 0.15, 0.2 , 0.25, 0.3 , 0.35, 0.4 , 0.45, 0.5 ,\n",
       "        0.55, 0.6 , 0.65, 0.7 , 0.75, 0.8 , 0.85, 0.9 , 0.95, 1.  ]),\n",
       " <BarContainer object of 20 artists>)"
      ]
     },
     "execution_count": 5,
     "metadata": {},
     "output_type": "execute_result"
    },
    {
     "data": {
      "text/plain": [
       "Text(0.5, 0, 'Percentage of Local Candidates that are Women')"
      ]
     },
     "execution_count": 5,
     "metadata": {},
     "output_type": "execute_result"
    },
    {
     "data": {
      "text/plain": [
       "Text(0, 0.5, 'Frequency Count')"
      ]
     },
     "execution_count": 5,
     "metadata": {},
     "output_type": "execute_result"
    },
    {
     "data": {
      "text/plain": [
       "Text(0.5, 1.0, 'Data from 1083 Counties in 28 States from the 2018 General Elections')"
      ]
     },
     "execution_count": 5,
     "metadata": {},
     "output_type": "execute_result"
    },
    {
     "data": {
      "text/plain": [
       "Text(0.5, 1, 'Distribution of the Proportion of Local Candidates that are Women')"
      ]
     },
     "execution_count": 5,
     "metadata": {},
     "output_type": "execute_result"
    },
    {
     "data": {
      "text/plain": [
       "<matplotlib.lines.Line2D at 0x7fbb601f7580>"
      ]
     },
     "execution_count": 5,
     "metadata": {},
     "output_type": "execute_result"
    },
    {
     "data": {
      "text/plain": [
       "Text(0.32, 140, 'Mean: 0.30')"
      ]
     },
     "execution_count": 5,
     "metadata": {},
     "output_type": "execute_result"
    },
    {
     "data": {
      "image/png": "[encoded data removed]",
      "text/plain": [
       "<Figure size 720x360 with 1 Axes>"
      ]
     },
     "metadata": {
      "needs_background": "light"
     },
     "output_type": "display_data"
    }
   ],
   "source": [
    "# Histogram of prop_women distribution\n",
    "fig1 = plt.figure(figsize=(10,5))\n",
    "plt.hist(local_dummied.prop_wom, bins = 20, color = 'slateblue')\n",
    "plt.xlabel('Percentage of Local Candidates that are Women')\n",
    "plt.ylabel('Frequency Count')\n",
    "plt.title('Data from 1083 Counties in 28 States from the 2018 General Elections')\n",
    "plt.suptitle('Distribution of the Proportion of Local Candidates that are Women',fontsize=16, y = 1)\n",
    "plt.axvline(x=0.30, color = 'red', linestyle = 'dashed')\n",
    "plt.text(0.32, 140, \"Mean: 0.30\", fontsize=12, color = 'red')\n",
    "plt.show()\n",
    "#fig1.savefig('prop_wom_hist.png')"
   ]
  },
  {
   "cell_type": "code",
   "execution_count": 6,
   "id": "1dc25d1e",
   "metadata": {},
   "outputs": [
    {
     "data": {
      "text/html": [
       "<div>\n",
       "<style scoped>\n",
       "    .dataframe tbody tr th:only-of-type {\n",
       "        vertical-align: middle;\n",
       "    }\n",
       "\n",
       "    .dataframe tbody tr th {\n",
       "        vertical-align: top;\n",
       "    }\n",
       "\n",
       "    .dataframe thead th {\n",
       "        text-align: right;\n",
       "    }\n",
       "</style>\n",
       "<table border=\"1\" class=\"dataframe\">\n",
       "  <thead>\n",
       "    <tr style=\"text-align: right;\">\n",
       "      <th></th>\n",
       "      <th>state</th>\n",
       "      <th>median_prop_wom</th>\n",
       "    </tr>\n",
       "  </thead>\n",
       "  <tbody>\n",
       "    <tr>\n",
       "      <th>0</th>\n",
       "      <td>CONNECTICUT</td>\n",
       "      <td>0.6570</td>\n",
       "    </tr>\n",
       "    <tr>\n",
       "      <th>1</th>\n",
       "      <td>ILLINOIS</td>\n",
       "      <td>0.5000</td>\n",
       "    </tr>\n",
       "    <tr>\n",
       "      <th>2</th>\n",
       "      <td>NEW JERSEY</td>\n",
       "      <td>0.4060</td>\n",
       "    </tr>\n",
       "    <tr>\n",
       "      <th>3</th>\n",
       "      <td>MONTANA</td>\n",
       "      <td>0.3875</td>\n",
       "    </tr>\n",
       "    <tr>\n",
       "      <th>4</th>\n",
       "      <td>RHODE ISLAND</td>\n",
       "      <td>0.3835</td>\n",
       "    </tr>\n",
       "    <tr>\n",
       "      <th>5</th>\n",
       "      <td>MISSISSIPPI</td>\n",
       "      <td>0.3750</td>\n",
       "    </tr>\n",
       "    <tr>\n",
       "      <th>6</th>\n",
       "      <td>MAINE</td>\n",
       "      <td>0.3540</td>\n",
       "    </tr>\n",
       "    <tr>\n",
       "      <th>7</th>\n",
       "      <td>HAWAII</td>\n",
       "      <td>0.3500</td>\n",
       "    </tr>\n",
       "    <tr>\n",
       "      <th>8</th>\n",
       "      <td>NEVADA</td>\n",
       "      <td>0.3455</td>\n",
       "    </tr>\n",
       "    <tr>\n",
       "      <th>9</th>\n",
       "      <td>ARIZONA</td>\n",
       "      <td>0.3270</td>\n",
       "    </tr>\n",
       "    <tr>\n",
       "      <th>10</th>\n",
       "      <td>MARYLAND</td>\n",
       "      <td>0.3225</td>\n",
       "    </tr>\n",
       "    <tr>\n",
       "      <th>11</th>\n",
       "      <td>WASHINGTON</td>\n",
       "      <td>0.3100</td>\n",
       "    </tr>\n",
       "    <tr>\n",
       "      <th>12</th>\n",
       "      <td>LOUISIANA</td>\n",
       "      <td>0.3080</td>\n",
       "    </tr>\n",
       "    <tr>\n",
       "      <th>13</th>\n",
       "      <td>VIRGINIA</td>\n",
       "      <td>0.3080</td>\n",
       "    </tr>\n",
       "    <tr>\n",
       "      <th>14</th>\n",
       "      <td>COLORADO</td>\n",
       "      <td>0.3070</td>\n",
       "    </tr>\n",
       "    <tr>\n",
       "      <th>15</th>\n",
       "      <td>DELAWARE</td>\n",
       "      <td>0.2860</td>\n",
       "    </tr>\n",
       "    <tr>\n",
       "      <th>16</th>\n",
       "      <td>NEW HAMPSHIRE</td>\n",
       "      <td>0.2790</td>\n",
       "    </tr>\n",
       "    <tr>\n",
       "      <th>17</th>\n",
       "      <td>IOWA</td>\n",
       "      <td>0.2745</td>\n",
       "    </tr>\n",
       "    <tr>\n",
       "      <th>18</th>\n",
       "      <td>FLORIDA</td>\n",
       "      <td>0.2560</td>\n",
       "    </tr>\n",
       "    <tr>\n",
       "      <th>19</th>\n",
       "      <td>NORTH CAROLINA</td>\n",
       "      <td>0.2500</td>\n",
       "    </tr>\n",
       "    <tr>\n",
       "      <th>20</th>\n",
       "      <td>OHIO</td>\n",
       "      <td>0.2500</td>\n",
       "    </tr>\n",
       "    <tr>\n",
       "      <th>21</th>\n",
       "      <td>WEST VIRGINIA</td>\n",
       "      <td>0.2500</td>\n",
       "    </tr>\n",
       "    <tr>\n",
       "      <th>22</th>\n",
       "      <td>MINNESOTA</td>\n",
       "      <td>0.2220</td>\n",
       "    </tr>\n",
       "    <tr>\n",
       "      <th>23</th>\n",
       "      <td>KENTUCKY</td>\n",
       "      <td>0.2185</td>\n",
       "    </tr>\n",
       "    <tr>\n",
       "      <th>24</th>\n",
       "      <td>ALABAMA</td>\n",
       "      <td>0.2000</td>\n",
       "    </tr>\n",
       "    <tr>\n",
       "      <th>25</th>\n",
       "      <td>VERMONT</td>\n",
       "      <td>0.1750</td>\n",
       "    </tr>\n",
       "    <tr>\n",
       "      <th>26</th>\n",
       "      <td>OKLAHOMA</td>\n",
       "      <td>0.0000</td>\n",
       "    </tr>\n",
       "    <tr>\n",
       "      <th>27</th>\n",
       "      <td>WYOMING</td>\n",
       "      <td>0.0000</td>\n",
       "    </tr>\n",
       "  </tbody>\n",
       "</table>\n",
       "</div>"
      ],
      "text/plain": [
       "             state  median_prop_wom\n",
       "0      CONNECTICUT           0.6570\n",
       "1         ILLINOIS           0.5000\n",
       "2       NEW JERSEY           0.4060\n",
       "3          MONTANA           0.3875\n",
       "4     RHODE ISLAND           0.3835\n",
       "5      MISSISSIPPI           0.3750\n",
       "6            MAINE           0.3540\n",
       "7           HAWAII           0.3500\n",
       "8           NEVADA           0.3455\n",
       "9          ARIZONA           0.3270\n",
       "10        MARYLAND           0.3225\n",
       "11      WASHINGTON           0.3100\n",
       "12       LOUISIANA           0.3080\n",
       "13        VIRGINIA           0.3080\n",
       "14        COLORADO           0.3070\n",
       "15        DELAWARE           0.2860\n",
       "16   NEW HAMPSHIRE           0.2790\n",
       "17            IOWA           0.2745\n",
       "18         FLORIDA           0.2560\n",
       "19  NORTH CAROLINA           0.2500\n",
       "20            OHIO           0.2500\n",
       "21   WEST VIRGINIA           0.2500\n",
       "22       MINNESOTA           0.2220\n",
       "23        KENTUCKY           0.2185\n",
       "24         ALABAMA           0.2000\n",
       "25         VERMONT           0.1750\n",
       "26        OKLAHOMA           0.0000\n",
       "27         WYOMING           0.0000"
      ]
     },
     "execution_count": 6,
     "metadata": {},
     "output_type": "execute_result"
    }
   ],
   "source": [
    "# Explore proportion by state\n",
    "state_median = local_cl.groupby('state_clean')[\"prop_wom\"].median().reset_index()\n",
    "state_median = state_median.sort_values(by = 'prop_wom', ascending = False).reset_index()\n",
    "state_median = state_median.drop('index', axis=1)\n",
    "state_median.columns = ['state', 'median_prop_wom']\n",
    "state_median\n",
    "#round(state_median.median_prop_wom.mean(),3)"
   ]
  },
  {
   "cell_type": "code",
   "execution_count": 7,
   "id": "6a0d5ff7",
   "metadata": {},
   "outputs": [
    {
     "data": {
      "text/plain": [
       "<BarContainer object of 28 artists>"
      ]
     },
     "execution_count": 7,
     "metadata": {},
     "output_type": "execute_result"
    },
    {
     "data": {
      "text/plain": [
       "Text(0.5, 0, 'Median Proportion of Women Candidates')"
      ]
     },
     "execution_count": 7,
     "metadata": {},
     "output_type": "execute_result"
    },
    {
     "data": {
      "text/plain": [
       "Text(0.5, 1.0, 'Data from 1083 Counties in 28 States from the 2018 General Elections')"
      ]
     },
     "execution_count": 7,
     "metadata": {},
     "output_type": "execute_result"
    },
    {
     "data": {
      "text/plain": [
       "Text(0.5, 0.98, 'Median Proportion of Women Candidates for Local Election')"
      ]
     },
     "execution_count": 7,
     "metadata": {},
     "output_type": "execute_result"
    },
    {
     "data": {
      "image/png": "[encoded data removed]",
      "text/plain": [
       "<Figure size 720x504 with 1 Axes>"
      ]
     },
     "metadata": {
      "needs_background": "light"
     },
     "output_type": "display_data"
    }
   ],
   "source": [
    "# Plot\n",
    "fig2, ax = plt.subplots(figsize = (10,7))\n",
    "ax.barh(state_median.state, state_median.median_prop_wom, align='center', color = 'lightcoral')\n",
    "ax.invert_yaxis()  # labels read top-to-bottom\n",
    "ax.set_xlabel('Median Proportion of Women Candidates')\n",
    "plt.title('Data from 1083 Counties in 28 States from the 2018 General Elections')\n",
    "plt.suptitle('Median Proportion of Women Candidates for Local Election',fontsize=16)\n",
    "#fig2.savefig('prop_wom_bystate.png')"
   ]
  },
  {
   "cell_type": "code",
   "execution_count": 8,
   "id": "b70c485d",
   "metadata": {},
   "outputs": [
    {
     "data": {
      "text/plain": [
       "count    1083.000000\n",
       "mean        0.300572\n",
       "std         0.227931\n",
       "min         0.000000\n",
       "25%         0.167000\n",
       "50%         0.273000\n",
       "75%         0.400000\n",
       "max         1.000000\n",
       "Name: prop_wom, dtype: float64"
      ]
     },
     "execution_count": 8,
     "metadata": {},
     "output_type": "execute_result"
    },
    {
     "data": {
      "text/plain": [
       "count    1083.000000\n",
       "mean        0.767733\n",
       "std         0.190265\n",
       "min         0.132000\n",
       "25%         0.650500\n",
       "50%         0.827000\n",
       "75%         0.924500\n",
       "max         0.996000\n",
       "Name: white_pct, dtype: float64"
      ]
     },
     "execution_count": 8,
     "metadata": {},
     "output_type": "execute_result"
    },
    {
     "data": {
      "text/plain": [
       "count    1083.000000\n",
       "mean        0.117197\n",
       "std         0.166876\n",
       "min         0.000000\n",
       "25%         0.009000\n",
       "50%         0.038000\n",
       "75%         0.156000\n",
       "max         0.862000\n",
       "Name: black_pct, dtype: float64"
      ]
     },
     "execution_count": 8,
     "metadata": {},
     "output_type": "execute_result"
    },
    {
     "data": {
      "text/plain": [
       "count    1083.000000\n",
       "mean        0.063471\n",
       "std         0.086555\n",
       "min         0.000000\n",
       "25%         0.016000\n",
       "50%         0.034000\n",
       "75%         0.071000\n",
       "max         0.832000\n",
       "Name: hispanic_pct, dtype: float64"
      ]
     },
     "execution_count": 8,
     "metadata": {},
     "output_type": "execute_result"
    },
    {
     "data": {
      "text/plain": [
       "count    1083.000000\n",
       "mean        0.043286\n",
       "std         0.051814\n",
       "min         0.000000\n",
       "25%         0.012500\n",
       "50%         0.027000\n",
       "75%         0.054000\n",
       "max         0.522000\n",
       "Name: foreignborn_pct, dtype: float64"
      ]
     },
     "execution_count": 8,
     "metadata": {},
     "output_type": "execute_result"
    },
    {
     "data": {
      "text/plain": [
       "count    1083.000000\n",
       "mean        0.373023\n",
       "std         0.050056\n",
       "min         0.136000\n",
       "25%         0.344000\n",
       "50%         0.370000\n",
       "75%         0.398000\n",
       "max         0.674000\n",
       "Name: age29andunder_pct, dtype: float64"
      ]
     },
     "execution_count": 8,
     "metadata": {},
     "output_type": "execute_result"
    },
    {
     "data": {
      "text/plain": [
       "count    1083.000000\n",
       "mean        0.171920\n",
       "std         0.041579\n",
       "min         0.070000\n",
       "25%         0.146000\n",
       "50%         0.170000\n",
       "75%         0.192000\n",
       "max         0.531000\n",
       "Name: age65andolder_pct, dtype: float64"
      ]
     },
     "execution_count": 8,
     "metadata": {},
     "output_type": "execute_result"
    },
    {
     "data": {
      "text/plain": [
       "count    1083.00000\n",
       "mean        0.54813\n",
       "std         0.30975\n",
       "min         0.00000\n",
       "25%         0.29550\n",
       "50%         0.55200\n",
       "75%         0.80000\n",
       "max         1.00000\n",
       "Name: rural_pct, dtype: float64"
      ]
     },
     "execution_count": 8,
     "metadata": {},
     "output_type": "execute_result"
    },
    {
     "data": {
      "text/plain": [
       "count    1083.000000\n",
       "mean        0.502453\n",
       "std         0.020760\n",
       "min         0.348000\n",
       "25%         0.498500\n",
       "50%         0.506000\n",
       "75%         0.513000\n",
       "max         0.559000\n",
       "Name: female_pct, dtype: float64"
      ]
     },
     "execution_count": 8,
     "metadata": {},
     "output_type": "execute_result"
    },
    {
     "data": {
      "text/plain": [
       "count    1083.000000\n",
       "mean        0.079281\n",
       "std         0.031290\n",
       "min         0.000000\n",
       "25%         0.058500\n",
       "50%         0.076000\n",
       "75%         0.095000\n",
       "max         0.261000\n",
       "Name: clf_unemploy_pct, dtype: float64"
      ]
     },
     "execution_count": 8,
     "metadata": {},
     "output_type": "execute_result"
    },
    {
     "data": {
      "text/plain": [
       "count      1083.000000\n",
       "mean      47023.056325\n",
       "std       13410.690008\n",
       "min       18972.000000\n",
       "25%       38089.500000\n",
       "50%       44845.000000\n",
       "75%       53179.500000\n",
       "max      125672.000000\n",
       "Name: median_hh_inc, dtype: float64"
      ]
     },
     "execution_count": 8,
     "metadata": {},
     "output_type": "execute_result"
    },
    {
     "data": {
      "text/plain": [
       "count    1083.000000\n",
       "mean        3.843952\n",
       "std         7.565159\n",
       "min         1.000000\n",
       "25%         1.000000\n",
       "50%         2.000000\n",
       "75%         4.000000\n",
       "max       175.000000\n",
       "Name: total_pub_clinics, dtype: float64"
      ]
     },
     "execution_count": 8,
     "metadata": {},
     "output_type": "execute_result"
    },
    {
     "data": {
      "text/plain": [
       "count    1083.000000\n",
       "mean        1.499538\n",
       "std         2.116468\n",
       "min         0.000000\n",
       "25%         1.000000\n",
       "50%         1.000000\n",
       "75%         1.000000\n",
       "max        36.000000\n",
       "Name: total_titlex_clinics, dtype: float64"
      ]
     },
     "execution_count": 8,
     "metadata": {},
     "output_type": "execute_result"
    },
    {
     "data": {
      "text/plain": [
       "count      1083.00000\n",
       "mean       7415.31856\n",
       "std       19621.24934\n",
       "min          30.00000\n",
       "25%         950.00000\n",
       "50%        2240.00000\n",
       "75%        6270.00000\n",
       "max      345310.00000\n",
       "Name: no_wom_demand_contracep_pub, dtype: float64"
      ]
     },
     "execution_count": 8,
     "metadata": {},
     "output_type": "execute_result"
    },
    {
     "data": {
      "text/plain": [
       "count      1083.000000\n",
       "mean      14303.370268\n",
       "std       39441.908353\n",
       "min          50.000000\n",
       "25%        1545.000000\n",
       "50%        3750.000000\n",
       "75%       10735.000000\n",
       "max      715650.000000\n",
       "Name: no_wom_dem_contracep_13, dtype: float64"
      ]
     },
     "execution_count": 8,
     "metadata": {},
     "output_type": "execute_result"
    },
    {
     "data": {
      "text/plain": [
       "count      1083.000000\n",
       "mean      12657.673130\n",
       "std       35410.119348\n",
       "min          40.000000\n",
       "25%        1335.000000\n",
       "50%        3230.000000\n",
       "75%        9325.000000\n",
       "max      645830.000000\n",
       "Name: no_wom_dem_contracep_20, dtype: float64"
      ]
     },
     "execution_count": 8,
     "metadata": {},
     "output_type": "execute_result"
    }
   ],
   "source": [
    "# Explore a key continuous features\n",
    "example_variables = ['prop_wom','white_pct','black_pct', 'hispanic_pct','foreignborn_pct', \n",
    "                    'age29andunder_pct','age65andolder_pct', 'rural_pct', 'female_pct','clf_unemploy_pct',\n",
    "                    'median_hh_inc', 'total_pub_clinics','total_titlex_clinics',\n",
    "                     'no_wom_demand_contracep_pub','no_wom_dem_contracep_13','no_wom_dem_contracep_20']\n",
    "\n",
    "for i in example_variables:\n",
    "    local_dummied[i].describe()"
   ]
  },
  {
   "cell_type": "code",
   "execution_count": 9,
   "id": "36b3ec65",
   "metadata": {},
   "outputs": [
    {
     "name": "stdout",
     "output_type": "stream",
     "text": [
      "pres_16_CLINTON      1.0\n",
      "count              217.0\n",
      "percentage           0.2\n",
      "Name: 1, dtype: float64\n",
      "pres_16_THIRD    1.000\n",
      "count            3.000\n",
      "percentage       0.003\n",
      "Name: 1, dtype: float64\n",
      "pres_16_TRUMP      1.000\n",
      "count            863.000\n",
      "percentage         0.797\n",
      "Name: 1, dtype: float64\n",
      "pres_12_OBAMA      1.000\n",
      "count            306.000\n",
      "percentage         0.283\n",
      "Name: 1, dtype: float64\n",
      "pres_12_ROMNEY      1.000\n",
      "count             777.000\n",
      "percentage          0.717\n",
      "Name: 1, dtype: float64\n"
     ]
    }
   ],
   "source": [
    "# Explore key dummy variables\n",
    "dummies = ['pres_16_CLINTON','pres_16_THIRD','pres_16_TRUMP', 'pres_12_OBAMA','pres_12_ROMNEY']\n",
    "\n",
    "for i in dummies:\n",
    "    result = local_dummied.groupby(i).size().reset_index()\n",
    "    result.columns = [i, 'count']\n",
    "    result['percentage'] = round((result['count']/len(local_dummied)),3)\n",
    "    final = result.iloc[1]\n",
    "    print(final)\n",
    "    "
   ]
  },
  {
   "cell_type": "markdown",
   "id": "47e29128",
   "metadata": {},
   "source": [
    "### Train_Test_Split"
   ]
  },
  {
   "cell_type": "code",
   "execution_count": 10,
   "id": "58a41d31",
   "metadata": {},
   "outputs": [
    {
     "data": {
      "text/plain": [
       "88"
      ]
     },
     "execution_count": 10,
     "metadata": {},
     "output_type": "execute_result"
    }
   ],
   "source": [
    "# create feature matrix\n",
    "x = local_dummied[['total','total_population', 'cvap', 'white_pct', 'black_pct', 'hispanic_pct', 'nonwhite_pct', \n",
    "                   'foreignborn_pct', 'female_pct', 'age29andunder_pct', 'age65andolder_pct',\n",
    "                   'clf_unemploy_pct', 'lesshs_pct', 'lesscollege_pct', 'lesshs_whites_pct', \n",
    "                   'lesscollege_whites_pct', 'rural_pct', 'median_hh_inc', 'pres_16_CLINTON', 'pres_16_THIRD', \n",
    "                   'pres_16_TRUMP', 'pres_12_OBAMA', 'pres_12_ROMNEY', 'no_wom_demand_contracep_pub',\n",
    "                   'total_titlex_clinics', 'no_wom_dem_contracep_13','no_wom_dem_contracep_20', \n",
    "                   'total_pub_clinics', 'DUM_no_PP_clinics','DUM_no_PP_clinics_titlex', 'DUM_no_fed_centers',\n",
    "                   'DUM_no_fed_centers_titlex', 'DUM_no_HD_clinics','DUM_no_HD_clinics_titlex', 'DUM_no_hosp_clinics',\n",
    "                   'DUM_no_hosp_clinics_titlex', 'DUM_no_other_clinics','DUM_no_other_clinics_titlex', \n",
    "                   'state_clean_ALABAMA', 'state_clean_ARIZONA','state_clean_COLORADO', 'state_clean_CONNECTICUT',\n",
    "                   'state_clean_DELAWARE', 'state_clean_FLORIDA', 'state_clean_HAWAII','state_clean_ILLINOIS', \n",
    "                   'state_clean_IOWA', 'state_clean_KENTUCKY','state_clean_LOUISIANA', 'state_clean_MAINE', \n",
    "                   'state_clean_MARYLAND','state_clean_MINNESOTA', 'state_clean_MISSISSIPPI','state_clean_MONTANA', \n",
    "                   'state_clean_NEVADA','state_clean_NEW HAMPSHIRE', 'state_clean_NEW JERSEY',\n",
    "                   'state_clean_NORTH CAROLINA', 'state_clean_OHIO','state_clean_OKLAHOMA', \n",
    "                   'state_clean_RHODE ISLAND','state_clean_VERMONT', 'state_clean_VIRGINIA', 'state_clean_WASHINGTON',\n",
    "                   'state_clean_WEST VIRGINIA', 'state_clean_WYOMING', 'REGION_midwest', 'REGION_northeast', \n",
    "                   'REGION_south','REGION_west', 'DIVISIONS_east_north_central', 'DIVISIONS_east_south_central',\n",
    "                   'DIVISIONS_middle_atlantic', 'DIVISIONS_mountain', 'DIVISIONS_new_england', 'DIVISIONS_pacific', \n",
    "                   'DIVISIONS_south_atlantic', 'DIVISIONS_west_north_central', 'DIVISIONS_west_south_central', \n",
    "                   'ruralurban_cc_1.0','ruralurban_cc_2.0','ruralurban_cc_3.0', 'ruralurban_cc_4.0', \n",
    "                   'ruralurban_cc_5.0','ruralurban_cc_6.0', 'ruralurban_cc_7.0', 'ruralurban_cc_8.0',\n",
    "                   'ruralurban_cc_9.0']]\n",
    "\n",
    "len(x.columns)\n",
    "\n",
    "# new target array\n",
    "y = local_dummied['prop_wom']\n",
    "\n",
    "# new train_test_split \n",
    "x_train, x_test, y_train, y_test = train_test_split(x, y, test_size=0.3, random_state = 42)"
   ]
  },
  {
   "cell_type": "markdown",
   "id": "4366fc5d",
   "metadata": {},
   "source": [
    "### Parametric Models"
   ]
  },
  {
   "cell_type": "markdown",
   "id": "37e7e740",
   "metadata": {},
   "source": [
    "#### Set up"
   ]
  },
  {
   "cell_type": "code",
   "execution_count": 11,
   "id": "7543ba66",
   "metadata": {},
   "outputs": [],
   "source": [
    "# Fit model function \n",
    "def get_fit(model, xtrain, ytrain):\n",
    "    '''input a model type and x and y training data\n",
    "    fits the model'''\n",
    "    new_model = model.fit(xtrain, ytrain)\n",
    "    return new_model"
   ]
  },
  {
   "cell_type": "code",
   "execution_count": 12,
   "id": "1fe95e62",
   "metadata": {},
   "outputs": [],
   "source": [
    "# Scoring models function\n",
    "def get_score(model, model_name, xtest, ytest):\n",
    "    '''input a model type, model string name, data_name and x and y testing data\n",
    "    prints the score '''\n",
    "    result = model.score(xtest, ytest)\n",
    "    return (f'{model_name}'+\" score : \" + str(round(result,3)))"
   ]
  },
  {
   "cell_type": "markdown",
   "id": "0d2f0492",
   "metadata": {},
   "source": [
    "#### Running Models"
   ]
  },
  {
   "cell_type": "code",
   "execution_count": 13,
   "id": "a547888d",
   "metadata": {},
   "outputs": [
    {
     "data": {
      "text/plain": [
       "LinearRegression()"
      ]
     },
     "execution_count": 13,
     "metadata": {},
     "output_type": "execute_result"
    },
    {
     "data": {
      "text/plain": [
       "'linear score : 0.101'"
      ]
     },
     "execution_count": 13,
     "metadata": {},
     "output_type": "execute_result"
    }
   ],
   "source": [
    "# Linear Regression\n",
    "\n",
    "# load model\n",
    "lm = LinearRegression()\n",
    "\n",
    "# fit\n",
    "get_fit(lm, x_train, y_train)\n",
    "\n",
    "# score\n",
    "get_score(model = lm, model_name = 'linear', xtest = x_test , ytest = y_test)"
   ]
  },
  {
   "cell_type": "code",
   "execution_count": 14,
   "id": "ff5f6deb",
   "metadata": {},
   "outputs": [],
   "source": [
    "# Define LASSOs with different alphas\n",
    "lasso1 = Lasso(alpha = 1, fit_intercept = False)\n",
    "lasso2 = Lasso(alpha = 5, fit_intercept = False)\n",
    "lasso3 = Lasso(alpha = 10, fit_intercept = False)"
   ]
  },
  {
   "cell_type": "code",
   "execution_count": 15,
   "id": "69b89871",
   "metadata": {},
   "outputs": [
    {
     "name": "stderr",
     "output_type": "stream",
     "text": [
      "/Users/maggiesullivan/opt/anaconda3/lib/python3.9/site-packages/sklearn/linear_model/_coordinate_descent.py:647: ConvergenceWarning: Objective did not converge. You might want to increase the number of iterations, check the scale of the features or consider increasing regularisation. Duality gap: 1.795e+01, tolerance: 1.040e-02\n",
      "  model = cd_fast.enet_coordinate_descent(\n"
     ]
    },
    {
     "data": {
      "text/plain": [
       "'LASSO 1 score : -0.17'"
      ]
     },
     "execution_count": 15,
     "metadata": {},
     "output_type": "execute_result"
    },
    {
     "name": "stderr",
     "output_type": "stream",
     "text": [
      "/Users/maggiesullivan/opt/anaconda3/lib/python3.9/site-packages/sklearn/linear_model/_coordinate_descent.py:647: ConvergenceWarning: Objective did not converge. You might want to increase the number of iterations, check the scale of the features or consider increasing regularisation. Duality gap: 1.252e+01, tolerance: 1.040e-02\n",
      "  model = cd_fast.enet_coordinate_descent(\n"
     ]
    },
    {
     "data": {
      "text/plain": [
       "'LASSO 2 score : -0.172'"
      ]
     },
     "execution_count": 15,
     "metadata": {},
     "output_type": "execute_result"
    },
    {
     "name": "stderr",
     "output_type": "stream",
     "text": [
      "/Users/maggiesullivan/opt/anaconda3/lib/python3.9/site-packages/sklearn/linear_model/_coordinate_descent.py:647: ConvergenceWarning: Objective did not converge. You might want to increase the number of iterations, check the scale of the features or consider increasing regularisation. Duality gap: 7.166e+00, tolerance: 1.040e-02\n",
      "  model = cd_fast.enet_coordinate_descent(\n"
     ]
    },
    {
     "data": {
      "text/plain": [
       "'LASSO 3 score : -0.174'"
      ]
     },
     "execution_count": 15,
     "metadata": {},
     "output_type": "execute_result"
    }
   ],
   "source": [
    "# get fit and scores for each type of alpha\n",
    "lasso_1 = get_fit(lasso1, x_train, y_train)\n",
    "get_score(model = lasso1, model_name = 'LASSO 1', xtest = x_test , ytest = y_test)\n",
    "\n",
    "lasso_2 = get_fit(lasso2, x_train, y_train)\n",
    "get_score(model = lasso2, model_name = 'LASSO 2', xtest = x_test , ytest = y_test)\n",
    "\n",
    "lasso_3 = get_fit(lasso3, x_train, y_train)\n",
    "get_score(model = lasso3, model_name = 'LASSO 3', xtest = x_test , ytest = y_test)"
   ]
  },
  {
   "cell_type": "code",
   "execution_count": 16,
   "id": "a3e75a96",
   "metadata": {},
   "outputs": [],
   "source": [
    "# Although our scores were not successful, let's see if any coefficients were shrunk\n",
    "lasso_test_comp = pd.DataFrame({'variable': x.columns, 'lasso_1_coef': lasso_1.coef_, \n",
    "                               'lasso_2_coef': lasso_2.coef_, 'lasso_3_coef': lasso_3.coef_})\n",
    "#lasso_test_comp"
   ]
  },
  {
   "cell_type": "code",
   "execution_count": 17,
   "id": "a8a072ce",
   "metadata": {},
   "outputs": [
    {
     "name": "stdout",
     "output_type": "stream",
     "text": [
      "lasso_1_coef shrunk predictors: 82\n",
      "lasso_1_coef top predictors: 6\n",
      "                       variable  lasso_1_coef  lasso_2_coef  lasso_3_coef\n",
      "1              total_population -5.152995e-07 -4.471473e-07 -4.308097e-07\n",
      "2                          cvap  4.535302e-07  3.870787e-07  3.309884e-07\n",
      "17                median_hh_inc  5.865145e-06  5.851659e-06  5.859078e-06\n",
      "23  no_wom_demand_contracep_pub  6.582644e-06  5.948848e-06  5.047430e-06\n",
      "25      no_wom_dem_contracep_13 -4.996416e-06 -1.530343e-06 -9.212373e-07\n",
      "26      no_wom_dem_contracep_20  3.703820e-06  0.000000e+00 -0.000000e+00\n",
      "lasso_2_coef shrunk predictors: 83\n",
      "lasso_2_coef top predictors: 5\n",
      "                       variable  lasso_1_coef  lasso_2_coef  lasso_3_coef\n",
      "1              total_population -5.152995e-07 -4.471473e-07 -4.308097e-07\n",
      "2                          cvap  4.535302e-07  3.870787e-07  3.309884e-07\n",
      "17                median_hh_inc  5.865145e-06  5.851659e-06  5.859078e-06\n",
      "23  no_wom_demand_contracep_pub  6.582644e-06  5.948848e-06  5.047430e-06\n",
      "25      no_wom_dem_contracep_13 -4.996416e-06 -1.530343e-06 -9.212373e-07\n",
      "lasso_3_coef shrunk predictors: 83\n",
      "lasso_3_coef top predictors: 5\n",
      "                       variable  lasso_1_coef  lasso_2_coef  lasso_3_coef\n",
      "1              total_population -5.152995e-07 -4.471473e-07 -4.308097e-07\n",
      "2                          cvap  4.535302e-07  3.870787e-07  3.309884e-07\n",
      "17                median_hh_inc  5.865145e-06  5.851659e-06  5.859078e-06\n",
      "23  no_wom_demand_contracep_pub  6.582644e-06  5.948848e-06  5.047430e-06\n",
      "25      no_wom_dem_contracep_13 -4.996416e-06 -1.530343e-06 -9.212373e-07\n"
     ]
    }
   ],
   "source": [
    "# Identify shrunk predictors\n",
    "for i in ['lasso_1_coef', 'lasso_2_coef', 'lasso_3_coef']: \n",
    "    shrunk_predictors = lasso_test_comp[lasso_test_comp[i]==0]\n",
    "    print(f'{i} shrunk predictors: ' + str(len(shrunk_predictors)))\n",
    "    lasso_top = lasso_test_comp[lasso_test_comp[i]!=0]\n",
    "    print(f'{i} top predictors: ' + str(len(lasso_top)))\n",
    "    print(lasso_top)"
   ]
  },
  {
   "cell_type": "code",
   "execution_count": 18,
   "id": "c42a9771",
   "metadata": {},
   "outputs": [
    {
     "data": {
      "text/html": [
       "<div>\n",
       "<style scoped>\n",
       "    .dataframe tbody tr th:only-of-type {\n",
       "        vertical-align: middle;\n",
       "    }\n",
       "\n",
       "    .dataframe tbody tr th {\n",
       "        vertical-align: top;\n",
       "    }\n",
       "\n",
       "    .dataframe thead th {\n",
       "        text-align: right;\n",
       "    }\n",
       "</style>\n",
       "<table border=\"1\" class=\"dataframe\">\n",
       "  <thead>\n",
       "    <tr style=\"text-align: right;\">\n",
       "      <th></th>\n",
       "      <th>lasso_1_coef</th>\n",
       "      <th>lasso_2_coef</th>\n",
       "      <th>lasso_3_coef</th>\n",
       "    </tr>\n",
       "    <tr>\n",
       "      <th>variable</th>\n",
       "      <th></th>\n",
       "      <th></th>\n",
       "      <th></th>\n",
       "    </tr>\n",
       "  </thead>\n",
       "  <tbody>\n",
       "    <tr>\n",
       "      <th>total_population</th>\n",
       "      <td>-5.152995e-07</td>\n",
       "      <td>-4.471473e-07</td>\n",
       "      <td>-4.308097e-07</td>\n",
       "    </tr>\n",
       "    <tr>\n",
       "      <th>cvap</th>\n",
       "      <td>4.535302e-07</td>\n",
       "      <td>3.870787e-07</td>\n",
       "      <td>3.309884e-07</td>\n",
       "    </tr>\n",
       "    <tr>\n",
       "      <th>median_hh_inc</th>\n",
       "      <td>5.865145e-06</td>\n",
       "      <td>5.851659e-06</td>\n",
       "      <td>5.859078e-06</td>\n",
       "    </tr>\n",
       "    <tr>\n",
       "      <th>no_wom_demand_contracep_pub</th>\n",
       "      <td>6.582644e-06</td>\n",
       "      <td>5.948848e-06</td>\n",
       "      <td>5.047430e-06</td>\n",
       "    </tr>\n",
       "    <tr>\n",
       "      <th>no_wom_dem_contracep_13</th>\n",
       "      <td>-4.996416e-06</td>\n",
       "      <td>-1.530343e-06</td>\n",
       "      <td>-9.212373e-07</td>\n",
       "    </tr>\n",
       "    <tr>\n",
       "      <th>no_wom_dem_contracep_20</th>\n",
       "      <td>3.703820e-06</td>\n",
       "      <td>0.000000e+00</td>\n",
       "      <td>-0.000000e+00</td>\n",
       "    </tr>\n",
       "  </tbody>\n",
       "</table>\n",
       "</div>"
      ],
      "text/plain": [
       "                             lasso_1_coef  lasso_2_coef  lasso_3_coef\n",
       "variable                                                             \n",
       "total_population            -5.152995e-07 -4.471473e-07 -4.308097e-07\n",
       "cvap                         4.535302e-07  3.870787e-07  3.309884e-07\n",
       "median_hh_inc                5.865145e-06  5.851659e-06  5.859078e-06\n",
       "no_wom_demand_contracep_pub  6.582644e-06  5.948848e-06  5.047430e-06\n",
       "no_wom_dem_contracep_13     -4.996416e-06 -1.530343e-06 -9.212373e-07\n",
       "no_wom_dem_contracep_20      3.703820e-06  0.000000e+00 -0.000000e+00"
      ]
     },
     "execution_count": 18,
     "metadata": {},
     "output_type": "execute_result"
    }
   ],
   "source": [
    "# Create remaining predictors into a df\n",
    "df = lasso_test_comp[lasso_test_comp['variable'].isin(['total_population', 'cvap','median_hh_inc', \n",
    "                                                       'no_wom_demand_contracep_pub', 'no_wom_dem_contracep_13', \n",
    "                                                       'no_wom_dem_contracep_20'])]\n",
    "\n",
    "df.set_index('variable', inplace=True)\n",
    "\n",
    "df"
   ]
  },
  {
   "cell_type": "code",
   "execution_count": 19,
   "id": "a53c5d68",
   "metadata": {},
   "outputs": [
    {
     "data": {
      "text/plain": [
       "Text(0.5, 0, 'Coefficient')"
      ]
     },
     "execution_count": 19,
     "metadata": {},
     "output_type": "execute_result"
    },
    {
     "data": {
      "text/plain": [
       "Text(0, 0.5, '')"
      ]
     },
     "execution_count": 19,
     "metadata": {},
     "output_type": "execute_result"
    },
    {
     "data": {
      "text/plain": [
       "[Text(0, 0, 'Total Population'),\n",
       " Text(0, 1, 'Citizen Voting Age Population'),\n",
       " Text(0, 2, 'Median Household Income'),\n",
       " Text(0, 3, '# of Women Needing Publicly-Funded Contraceptives'),\n",
       " Text(0, 4, '# of Women 13+ Needing Contraceptives'),\n",
       " Text(0, 5, '# of Women 20+ Needing Contraceptives')]"
      ]
     },
     "execution_count": 19,
     "metadata": {},
     "output_type": "execute_result"
    },
    {
     "data": {
      "text/plain": [
       "Text(0.5, 1.0, 'Top Features Based on LASSO Regression')"
      ]
     },
     "execution_count": 19,
     "metadata": {},
     "output_type": "execute_result"
    },
    {
     "data": {
      "text/plain": [
       "<matplotlib.legend.Legend at 0x7fbb5138eaf0>"
      ]
     },
     "execution_count": 19,
     "metadata": {},
     "output_type": "execute_result"
    },
    {
     "data": {
      "text/plain": [
       "(-7.5e-06, 1e-05)"
      ]
     },
     "execution_count": 19,
     "metadata": {},
     "output_type": "execute_result"
    },
    {
     "data": {
      "image/png": "[encoded data removed]",
      "text/plain": [
       "<Figure size 936x504 with 1 Axes>"
      ]
     },
     "metadata": {
      "needs_background": "light"
     },
     "output_type": "display_data"
    }
   ],
   "source": [
    "# plot the coefficients of the remaining variables\n",
    "ax = df.plot(kind='barh', width=0.70, figsize =(13, 7), color = ['lightcoral', 'lightblue','gold'])\n",
    "\n",
    "# Set the x-axis label, y-axis label, and chart title\n",
    "ax.set_xlabel('Coefficient')\n",
    "ax.set_ylabel('')\n",
    "ax.set_yticklabels(['Total Population', 'Citizen Voting Age Population', 'Median Household Income',\n",
    "                    '# of Women Needing Publicly-Funded Contraceptives',\n",
    "                    '# of Women 13+ Needing Contraceptives','# of Women 20+ Needing Contraceptives'])\n",
    "ax.set_title('Top Features Based on LASSO Regression',fontsize=16)\n",
    "#ax.axvline(x=0, color = 'black', linestyle = 'solid')\n",
    "\n",
    "# Set the position of each group of bars\n",
    "ax.set_position([0.1, 0.1, 0.8, 0.8])\n",
    "ax.legend(['alpha = 1', 'alpha = 5', 'alpha = 10'], loc='lower right')\n",
    "\n",
    "ax.set_xlim(-0.0000075, 0.00001)\n",
    "#ax.ticklabel_format(style='plain')\n",
    "\n",
    "plt.show()"
   ]
  },
  {
   "cell_type": "markdown",
   "id": "38689dd7",
   "metadata": {},
   "source": [
    "### Step 4: Non-Parametric Models"
   ]
  },
  {
   "cell_type": "code",
   "execution_count": 20,
   "id": "9e9996e3",
   "metadata": {},
   "outputs": [],
   "source": [
    "tree = DecisionTreeRegressor(random_state=1)"
   ]
  },
  {
   "cell_type": "code",
   "execution_count": 21,
   "id": "3e678c2a",
   "metadata": {},
   "outputs": [],
   "source": [
    "# create definition to get fit and features \n",
    "def score_and_features(tree, xtrain, ytrain, xtest, ytest):\n",
    "    new_tree = tree.fit(xtrain, ytrain)\n",
    "    feature_df = pd.DataFrame({'Feature': xtest.columns, 'Importance': new_tree.feature_importances_})\n",
    "    top_10 = feature_df.sort_values(by = 'Importance', ascending = False).head(10)\n",
    "    return (round(new_tree.score(xtest, ytest),3), top_10)"
   ]
  },
  {
   "cell_type": "code",
   "execution_count": 22,
   "id": "ee4ad993",
   "metadata": {},
   "outputs": [
    {
     "data": {
      "text/plain": [
       "(-0.571,\n",
       "                  Feature  Importance\n",
       " 0                  total    0.096013\n",
       " 14     lesshs_whites_pct    0.086446\n",
       " 17         median_hh_inc    0.085972\n",
       " 11      clf_unemploy_pct    0.063329\n",
       " 9      age29andunder_pct    0.060365\n",
       " 4              black_pct    0.058940\n",
       " 45  state_clean_ILLINOIS    0.044834\n",
       " 10     age65andolder_pct    0.042682\n",
       " 13       lesscollege_pct    0.042323\n",
       " 7        foreignborn_pct    0.042192)"
      ]
     },
     "execution_count": 22,
     "metadata": {},
     "output_type": "execute_result"
    }
   ],
   "source": [
    "# Initial tree\n",
    "score_and_features(tree, x_train, y_train, x_test, y_test)"
   ]
  },
  {
   "cell_type": "markdown",
   "id": "4e20b53b",
   "metadata": {},
   "source": [
    "#### Hyper Parameter Tuning"
   ]
  },
  {
   "cell_type": "code",
   "execution_count": 23,
   "id": "6b7386f9",
   "metadata": {},
   "outputs": [
    {
     "data": {
      "text/plain": [
       "[<matplotlib.lines.Line2D at 0x7fbb513b3460>]"
      ]
     },
     "execution_count": 23,
     "metadata": {},
     "output_type": "execute_result"
    },
    {
     "data": {
      "text/plain": [
       "[<matplotlib.lines.Line2D at 0x7fbb513b37c0>]"
      ]
     },
     "execution_count": 23,
     "metadata": {},
     "output_type": "execute_result"
    },
    {
     "data": {
      "text/plain": [
       "([<matplotlib.axis.XTick at 0x7fbb401d92b0>,\n",
       "  <matplotlib.axis.XTick at 0x7fbb401d9970>,\n",
       "  <matplotlib.axis.XTick at 0x7fbb401e7220>,\n",
       "  <matplotlib.axis.XTick at 0x7fbb513bd070>,\n",
       "  <matplotlib.axis.XTick at 0x7fbb513bd6a0>,\n",
       "  <matplotlib.axis.XTick at 0x7fbb513bde50>,\n",
       "  <matplotlib.axis.XTick at 0x7fbb513c95e0>,\n",
       "  <matplotlib.axis.XTick at 0x7fbb513bda90>,\n",
       "  <matplotlib.axis.XTick at 0x7fbb513c96d0>,\n",
       "  <matplotlib.axis.XTick at 0x7fbb513cc040>],\n",
       " [Text(0, 0, ''),\n",
       "  Text(0, 0, ''),\n",
       "  Text(0, 0, ''),\n",
       "  Text(0, 0, ''),\n",
       "  Text(0, 0, ''),\n",
       "  Text(0, 0, ''),\n",
       "  Text(0, 0, ''),\n",
       "  Text(0, 0, ''),\n",
       "  Text(0, 0, ''),\n",
       "  Text(0, 0, '')])"
      ]
     },
     "execution_count": 23,
     "metadata": {},
     "output_type": "execute_result"
    },
    {
     "data": {
      "text/plain": [
       "Text(0.5, 0, 'Maximum Depth')"
      ]
     },
     "execution_count": 23,
     "metadata": {},
     "output_type": "execute_result"
    },
    {
     "data": {
      "text/plain": [
       "Text(0, 0.5, 'Score (R2)')"
      ]
     },
     "execution_count": 23,
     "metadata": {},
     "output_type": "execute_result"
    },
    {
     "data": {
      "text/plain": [
       "Text(0.5, 1.0, 'Decision Tree Validation Curve')"
      ]
     },
     "execution_count": 23,
     "metadata": {},
     "output_type": "execute_result"
    },
    {
     "data": {
      "text/plain": [
       "<matplotlib.legend.Legend at 0x7fbb513cc970>"
      ]
     },
     "execution_count": 23,
     "metadata": {},
     "output_type": "execute_result"
    },
    {
     "data": {
      "image/png": "[encoded data removed]",
      "text/plain": [
       "<Figure size 720x504 with 1 Axes>"
      ]
     },
     "metadata": {
      "needs_background": "light"
     },
     "output_type": "display_data"
    }
   ],
   "source": [
    "# create parameters\n",
    "depth_range = np.arange(1,11)\n",
    "train_scores, test_scores = validation_curve(tree, x, y, param_name ='max_depth', \n",
    "                                             param_range = depth_range, cv = 10)\n",
    "\n",
    "# find means\n",
    "train_mean = np.mean(train_scores, axis=1)\n",
    "test_mean = np.mean(test_scores, axis=1)\n",
    "\n",
    "# plot\n",
    "max_depth = np.arange(1,11)\n",
    "fig1 = plt.figure(figsize = (10,7))\n",
    "plt.plot(max_depth, train_mean, label='Train Data')\n",
    "plt.plot(max_depth, test_mean, label='Test Data')\n",
    "plt.grid(True)\n",
    "plt.xticks(np.arange(1,11, step = 1))\n",
    "plt.xlabel('Maximum Depth')\n",
    "plt.ylabel('Score (R2)')\n",
    "plt.title('Decision Tree Validation Curve')\n",
    "plt.legend()\n",
    "plt.show()\n",
    "\n",
    "#fig1.savefig('dt_validation_curve')"
   ]
  },
  {
   "cell_type": "code",
   "execution_count": 24,
   "id": "6e0cfa96",
   "metadata": {},
   "outputs": [
    {
     "data": {
      "text/plain": [
       "(0.071,\n",
       "                       Feature  Importance\n",
       " 4                   black_pct    0.228703\n",
       " 45       state_clean_ILLINOIS    0.220467\n",
       " 17              median_hh_inc    0.209460\n",
       " 15     lesscollege_whites_pct    0.131503\n",
       " 25    no_wom_dem_contracep_13    0.114130\n",
       " 14          lesshs_whites_pct    0.083717\n",
       " 10          age65andolder_pct    0.012022\n",
       " 66             REGION_midwest    0.000000\n",
       " 65        state_clean_WYOMING    0.000000\n",
       " 64  state_clean_WEST VIRGINIA    0.000000)"
      ]
     },
     "execution_count": 24,
     "metadata": {},
     "output_type": "execute_result"
    },
    {
     "data": {
      "text/plain": [
       "<Figure size 2160x720 with 0 Axes>"
      ]
     },
     "execution_count": 24,
     "metadata": {},
     "output_type": "execute_result"
    },
    {
     "data": {
      "text/plain": [
       "[Text(0.5, 0.875, 'state_clean_ILLINOIS <= 0.5\\nsquared_error = 0.051\\nsamples = 758\\nvalue = 0.293'),\n",
       " Text(0.25, 0.625, 'lesscollege_whites_pct <= 0.701\\nsquared_error = 0.042\\nsamples = 714\\nvalue = 0.281'),\n",
       " Text(0.125, 0.375, 'lesshs_whites_pct <= 0.021\\nsquared_error = 0.048\\nsamples = 160\\nvalue = 0.352'),\n",
       " Text(0.0625, 0.125, 'squared_error = 0.064\\nsamples = 5\\nvalue = 0.71'),\n",
       " Text(0.1875, 0.125, 'squared_error = 0.043\\nsamples = 155\\nvalue = 0.341'),\n",
       " Text(0.375, 0.375, 'no_wom_dem_contracep_13 <= 595.0\\nsquared_error = 0.039\\nsamples = 554\\nvalue = 0.261'),\n",
       " Text(0.3125, 0.125, 'squared_error = 0.089\\nsamples = 23\\nvalue = 0.455'),\n",
       " Text(0.4375, 0.125, 'squared_error = 0.035\\nsamples = 531\\nvalue = 0.252'),\n",
       " Text(0.75, 0.625, 'black_pct <= 0.005\\nsquared_error = 0.16\\nsamples = 44\\nvalue = 0.486'),\n",
       " Text(0.625, 0.375, 'age65andolder_pct <= 0.171\\nsquared_error = 0.014\\nsamples = 7\\nvalue = 0.952'),\n",
       " Text(0.5625, 0.125, 'squared_error = 0.0\\nsamples = 1\\nvalue = 0.667'),\n",
       " Text(0.6875, 0.125, 'squared_error = 0.0\\nsamples = 6\\nvalue = 1.0'),\n",
       " Text(0.875, 0.375, 'median_hh_inc <= 41865.0\\nsquared_error = 0.139\\nsamples = 37\\nvalue = 0.398'),\n",
       " Text(0.8125, 0.125, 'squared_error = 0.018\\nsamples = 5\\nvalue = 0.933'),\n",
       " Text(0.9375, 0.125, 'squared_error = 0.106\\nsamples = 32\\nvalue = 0.315')]"
      ]
     },
     "execution_count": 24,
     "metadata": {},
     "output_type": "execute_result"
    },
    {
     "data": {
      "image/png": "[encoded data removed]",
      "text/plain": [
       "<Figure size 2160x720 with 1 Axes>"
      ]
     },
     "metadata": {
      "needs_background": "light"
     },
     "output_type": "display_data"
    }
   ],
   "source": [
    "# Let's do a maxdepth of 3 to avoid overfitting and underfitting, even though it's not performing well in general\n",
    "tree2 = DecisionTreeRegressor(random_state=1, max_depth = 3)\n",
    "\n",
    "score_and_features(tree2, x_train, y_train, x_test, y_test)\n",
    "\n",
    "plt.figure(figsize=(30, 10))\n",
    "plot_tree(tree2, feature_names = x_train.columns, fontsize=16)\n",
    "plt.show()"
   ]
  },
  {
   "cell_type": "markdown",
   "id": "fffde32e",
   "metadata": {},
   "source": [
    "#### Random Forest"
   ]
  },
  {
   "cell_type": "code",
   "execution_count": 25,
   "id": "4f6970c2",
   "metadata": {},
   "outputs": [
    {
     "data": {
      "text/plain": [
       "RandomForestRegressor(max_depth=3, n_estimators=750, random_state=42)"
      ]
     },
     "execution_count": 25,
     "metadata": {},
     "output_type": "execute_result"
    }
   ],
   "source": [
    "# Regular \n",
    "rfmodel1 = RandomForestRegressor(n_estimators=750, random_state=42, max_depth = 3)\n",
    "rfmodel1.fit(x, y)"
   ]
  },
  {
   "cell_type": "code",
   "execution_count": 26,
   "id": "c111d393",
   "metadata": {},
   "outputs": [
    {
     "data": {
      "text/plain": [
       "0.006"
      ]
     },
     "execution_count": 26,
     "metadata": {},
     "output_type": "execute_result"
    }
   ],
   "source": [
    "# find mean score with a cross validation of 5\n",
    "mean_score = round(cross_val_score(rfmodel1, x, y, cv=5).mean(),3)\n",
    "mean_score"
   ]
  },
  {
   "cell_type": "code",
   "execution_count": 27,
   "id": "c6909761",
   "metadata": {},
   "outputs": [
    {
     "data": {
      "text/html": [
       "<div>\n",
       "<style scoped>\n",
       "    .dataframe tbody tr th:only-of-type {\n",
       "        vertical-align: middle;\n",
       "    }\n",
       "\n",
       "    .dataframe tbody tr th {\n",
       "        vertical-align: top;\n",
       "    }\n",
       "\n",
       "    .dataframe thead th {\n",
       "        text-align: right;\n",
       "    }\n",
       "</style>\n",
       "<table border=\"1\" class=\"dataframe\">\n",
       "  <thead>\n",
       "    <tr style=\"text-align: right;\">\n",
       "      <th></th>\n",
       "      <th>Variable</th>\n",
       "      <th>Importance</th>\n",
       "    </tr>\n",
       "  </thead>\n",
       "  <tbody>\n",
       "    <tr>\n",
       "      <th>45</th>\n",
       "      <td>state_clean_ILLINOIS</td>\n",
       "      <td>0.227635</td>\n",
       "    </tr>\n",
       "    <tr>\n",
       "      <th>17</th>\n",
       "      <td>median_hh_inc</td>\n",
       "      <td>0.116906</td>\n",
       "    </tr>\n",
       "    <tr>\n",
       "      <th>0</th>\n",
       "      <td>total</td>\n",
       "      <td>0.076484</td>\n",
       "    </tr>\n",
       "    <tr>\n",
       "      <th>5</th>\n",
       "      <td>hispanic_pct</td>\n",
       "      <td>0.058704</td>\n",
       "    </tr>\n",
       "    <tr>\n",
       "      <th>2</th>\n",
       "      <td>cvap</td>\n",
       "      <td>0.052059</td>\n",
       "    </tr>\n",
       "    <tr>\n",
       "      <th>14</th>\n",
       "      <td>lesshs_whites_pct</td>\n",
       "      <td>0.050683</td>\n",
       "    </tr>\n",
       "    <tr>\n",
       "      <th>13</th>\n",
       "      <td>lesscollege_pct</td>\n",
       "      <td>0.033187</td>\n",
       "    </tr>\n",
       "    <tr>\n",
       "      <th>3</th>\n",
       "      <td>white_pct</td>\n",
       "      <td>0.029708</td>\n",
       "    </tr>\n",
       "    <tr>\n",
       "      <th>25</th>\n",
       "      <td>no_wom_dem_contracep_13</td>\n",
       "      <td>0.029346</td>\n",
       "    </tr>\n",
       "    <tr>\n",
       "      <th>1</th>\n",
       "      <td>total_population</td>\n",
       "      <td>0.026270</td>\n",
       "    </tr>\n",
       "    <tr>\n",
       "      <th>41</th>\n",
       "      <td>state_clean_CONNECTICUT</td>\n",
       "      <td>0.024027</td>\n",
       "    </tr>\n",
       "    <tr>\n",
       "      <th>26</th>\n",
       "      <td>no_wom_dem_contracep_20</td>\n",
       "      <td>0.023997</td>\n",
       "    </tr>\n",
       "    <tr>\n",
       "      <th>16</th>\n",
       "      <td>rural_pct</td>\n",
       "      <td>0.022071</td>\n",
       "    </tr>\n",
       "    <tr>\n",
       "      <th>23</th>\n",
       "      <td>no_wom_demand_contracep_pub</td>\n",
       "      <td>0.019369</td>\n",
       "    </tr>\n",
       "    <tr>\n",
       "      <th>10</th>\n",
       "      <td>age65andolder_pct</td>\n",
       "      <td>0.017628</td>\n",
       "    </tr>\n",
       "  </tbody>\n",
       "</table>\n",
       "</div>"
      ],
      "text/plain": [
       "                       Variable  Importance\n",
       "45         state_clean_ILLINOIS    0.227635\n",
       "17                median_hh_inc    0.116906\n",
       "0                         total    0.076484\n",
       "5                  hispanic_pct    0.058704\n",
       "2                          cvap    0.052059\n",
       "14            lesshs_whites_pct    0.050683\n",
       "13              lesscollege_pct    0.033187\n",
       "3                     white_pct    0.029708\n",
       "25      no_wom_dem_contracep_13    0.029346\n",
       "1              total_population    0.026270\n",
       "41      state_clean_CONNECTICUT    0.024027\n",
       "26      no_wom_dem_contracep_20    0.023997\n",
       "16                    rural_pct    0.022071\n",
       "23  no_wom_demand_contracep_pub    0.019369\n",
       "10            age65andolder_pct    0.017628"
      ]
     },
     "execution_count": 27,
     "metadata": {},
     "output_type": "execute_result"
    }
   ],
   "source": [
    "# find top 15 variables of importance\n",
    "var_imp = pd.DataFrame({'Variable': x.columns, \n",
    "                        'Importance': rfmodel1.feature_importances_})\n",
    "var_imp = var_imp.sort_values(by='Importance', ascending = False).head(15)\n",
    "var_imp"
   ]
  },
  {
   "cell_type": "code",
   "execution_count": 28,
   "id": "2a525a8b",
   "metadata": {},
   "outputs": [
    {
     "data": {
      "text/html": [
       "<div>\n",
       "<style scoped>\n",
       "    .dataframe tbody tr th:only-of-type {\n",
       "        vertical-align: middle;\n",
       "    }\n",
       "\n",
       "    .dataframe tbody tr th {\n",
       "        vertical-align: top;\n",
       "    }\n",
       "\n",
       "    .dataframe thead th {\n",
       "        text-align: right;\n",
       "    }\n",
       "</style>\n",
       "<table border=\"1\" class=\"dataframe\">\n",
       "  <thead>\n",
       "    <tr style=\"text-align: right;\">\n",
       "      <th></th>\n",
       "      <th>Importance</th>\n",
       "      <th>variable_clean</th>\n",
       "    </tr>\n",
       "  </thead>\n",
       "  <tbody>\n",
       "    <tr>\n",
       "      <th>10</th>\n",
       "      <td>0.017628</td>\n",
       "      <td>% Pop &gt;= 65</td>\n",
       "    </tr>\n",
       "    <tr>\n",
       "      <th>23</th>\n",
       "      <td>0.019369</td>\n",
       "      <td>Num. of Wom. Needing Publicly Funded Contracep...</td>\n",
       "    </tr>\n",
       "    <tr>\n",
       "      <th>16</th>\n",
       "      <td>0.022071</td>\n",
       "      <td>% Pop is Rural</td>\n",
       "    </tr>\n",
       "    <tr>\n",
       "      <th>26</th>\n",
       "      <td>0.023997</td>\n",
       "      <td>Num. of Wom. 20+ Needing Contraception</td>\n",
       "    </tr>\n",
       "    <tr>\n",
       "      <th>41</th>\n",
       "      <td>0.024027</td>\n",
       "      <td>Connecticut</td>\n",
       "    </tr>\n",
       "    <tr>\n",
       "      <th>1</th>\n",
       "      <td>0.026270</td>\n",
       "      <td>Total Population</td>\n",
       "    </tr>\n",
       "    <tr>\n",
       "      <th>25</th>\n",
       "      <td>0.029346</td>\n",
       "      <td>Num. of Wom. 13+ Needing Contraception</td>\n",
       "    </tr>\n",
       "    <tr>\n",
       "      <th>3</th>\n",
       "      <td>0.029708</td>\n",
       "      <td>% Pop White</td>\n",
       "    </tr>\n",
       "    <tr>\n",
       "      <th>13</th>\n",
       "      <td>0.033187</td>\n",
       "      <td>% Pop with Less than College Edu</td>\n",
       "    </tr>\n",
       "    <tr>\n",
       "      <th>14</th>\n",
       "      <td>0.050683</td>\n",
       "      <td>% White Pop with Less than High School Edu</td>\n",
       "    </tr>\n",
       "    <tr>\n",
       "      <th>2</th>\n",
       "      <td>0.052059</td>\n",
       "      <td>Citizen Voting Age Pop</td>\n",
       "    </tr>\n",
       "    <tr>\n",
       "      <th>5</th>\n",
       "      <td>0.058704</td>\n",
       "      <td>% Pop Hispanic</td>\n",
       "    </tr>\n",
       "    <tr>\n",
       "      <th>0</th>\n",
       "      <td>0.076484</td>\n",
       "      <td>Total Number of Candidates</td>\n",
       "    </tr>\n",
       "    <tr>\n",
       "      <th>17</th>\n",
       "      <td>0.116906</td>\n",
       "      <td>Median Household Income</td>\n",
       "    </tr>\n",
       "    <tr>\n",
       "      <th>45</th>\n",
       "      <td>0.227635</td>\n",
       "      <td>Illinois</td>\n",
       "    </tr>\n",
       "  </tbody>\n",
       "</table>\n",
       "</div>"
      ],
      "text/plain": [
       "    Importance                                     variable_clean\n",
       "10    0.017628                                        % Pop >= 65\n",
       "23    0.019369  Num. of Wom. Needing Publicly Funded Contracep...\n",
       "16    0.022071                                     % Pop is Rural\n",
       "26    0.023997             Num. of Wom. 20+ Needing Contraception\n",
       "41    0.024027                                        Connecticut\n",
       "1     0.026270                                   Total Population\n",
       "25    0.029346             Num. of Wom. 13+ Needing Contraception\n",
       "3     0.029708                                        % Pop White\n",
       "13    0.033187                   % Pop with Less than College Edu\n",
       "14    0.050683         % White Pop with Less than High School Edu\n",
       "2     0.052059                             Citizen Voting Age Pop\n",
       "5     0.058704                                     % Pop Hispanic\n",
       "0     0.076484                         Total Number of Candidates\n",
       "17    0.116906                            Median Household Income\n",
       "45    0.227635                                           Illinois"
      ]
     },
     "execution_count": 28,
     "metadata": {},
     "output_type": "execute_result"
    }
   ],
   "source": [
    "# update the variable names for plotting\n",
    "variable_clean = ['Illinois', 'Median Household Income', 'Total Number of Candidates', '% Pop Hispanic',\n",
    "                 'Citizen Voting Age Pop', '% White Pop with Less than High School Edu', \n",
    "                 '% Pop with Less than College Edu', '% Pop White','Num. of Wom. 13+ Needing Contraception', \n",
    "                  'Total Population', 'Connecticut','Num. of Wom. 20+ Needing Contraception',\n",
    "                  '% Pop is Rural', 'Num. of Wom. Needing Publicly Funded Contraception','% Pop >= 65']\n",
    "\n",
    "var_imp['variable_clean'] = variable_clean\n",
    "\n",
    "var_imp_cl = var_imp.drop(\"Variable\", axis = 1)\n",
    "var_imp_sorted = var_imp_cl.sort_values(by = 'Importance')\n",
    "var_imp_sorted"
   ]
  },
  {
   "cell_type": "code",
   "execution_count": 29,
   "id": "e4e54a48",
   "metadata": {},
   "outputs": [
    {
     "data": {
      "text/plain": [
       "<BarContainer object of 15 artists>"
      ]
     },
     "execution_count": 29,
     "metadata": {},
     "output_type": "execute_result"
    },
    {
     "data": {
      "text/plain": [
       "Text(0.5, 0, 'Proportion')"
      ]
     },
     "execution_count": 29,
     "metadata": {},
     "output_type": "execute_result"
    },
    {
     "data": {
      "text/plain": [
       "Text(0, 0.5, '')"
      ]
     },
     "execution_count": 29,
     "metadata": {},
     "output_type": "execute_result"
    },
    {
     "data": {
      "text/plain": [
       "Text(0.5, 1.0, 'Data from 1083 Counties in 28 States from the 2018 General Elections')"
      ]
     },
     "execution_count": 29,
     "metadata": {},
     "output_type": "execute_result"
    },
    {
     "data": {
      "text/plain": [
       "Text(0.5, 0.98, 'Top 15 Variables by Importance (Random Forest)')"
      ]
     },
     "execution_count": 29,
     "metadata": {},
     "output_type": "execute_result"
    },
    {
     "data": {
      "text/plain": [
       "Text(0.175, 0, 'Mean R2 = 0.006')"
      ]
     },
     "execution_count": 29,
     "metadata": {},
     "output_type": "execute_result"
    },
    {
     "data": {
      "image/png": "[encoded data removed]",
      "text/plain": [
       "<Figure size 720x504 with 1 Axes>"
      ]
     },
     "metadata": {
      "needs_background": "light"
     },
     "output_type": "display_data"
    }
   ],
   "source": [
    "# plot \n",
    "fig1, ax = plt.subplots(figsize = (10,7))\n",
    "plt.barh(var_imp_sorted['variable_clean'], var_imp_sorted['Importance'], color = 'skyblue')\n",
    "plt.xlabel('Proportion')\n",
    "plt.ylabel('')\n",
    "plt.title('Data from 1083 Counties in 28 States from the 2018 General Elections')\n",
    "plt.suptitle('Top 15 Variables by Importance (Random Forest)',fontsize=16)\n",
    "plt.text(0.175, 0, 'Mean R2 = 0.006', fontsize=13, bbox=dict(facecolor='tan', alpha=0.5))\n",
    "plt.show()\n",
    "\n",
    "#fig1.savefig('variable_imp.png')"
   ]
  }
 ],
 "metadata": {
  "kernelspec": {
   "display_name": "Python 3 (ipykernel)",
   "language": "python",
   "name": "python3"
  },
  "language_info": {
   "codemirror_mode": {
    "name": "ipython",
    "version": 3
   },
   "file_extension": ".py",
   "mimetype": "text/x-python",
   "name": "python",
   "nbconvert_exporter": "python",
   "pygments_lexer": "ipython3",
   "version": "3.9.12"
  }
 },
 "nbformat": 4,
 "nbformat_minor": 5
}
