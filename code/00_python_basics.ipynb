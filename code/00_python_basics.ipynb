{
 "cells": [
  {
   "cell_type": "markdown",
   "metadata": {
    "id": "IDhCupNkUihO"
   },
   "source": [
    "# 0. Problem set 1 (24 points)\n",
    "\n",
    "This short problem set will:\n",
    "    \n",
    "- Make sure your jupyter notebook installation is working\n",
    "- Give you practice with the following concepts covered in lecture and on DataCamp:\n",
    "    - Python lists\n",
    "    - numpy arrays\n",
    "    - Basic list comprehension"
   ]
  },
  {
   "cell_type": "code",
   "execution_count": 1,
   "metadata": {
    "id": "9YKs4OqBUihW"
   },
   "outputs": [],
   "source": [
    "# imports\n",
    "import numpy as np"
   ]
  },
  {
   "cell_type": "markdown",
   "metadata": {
    "id": "hSZLJT6KUihZ"
   },
   "source": [
    "# 1. Practice with lists"
   ]
  },
  {
   "cell_type": "markdown",
   "metadata": {
    "id": "pSMbNA6PUihh"
   },
   "source": [
    "## 1.1 List addition (2 points)\n",
    "\n",
    "We provide you with a list of our names below.\n",
    "\n",
    "- Use list addition to add your name to the list\n",
    "- Store this as a new list called `instructor_my_name` \n",
    "- Print that list"
   ]
  },
  {
   "cell_type": "code",
   "execution_count": 2,
   "metadata": {
    "id": "19tX9Li9Uihi"
   },
   "outputs": [],
   "source": [
    "## we provide\n",
    "instructor_names = ['Sonali', 'Rebecca', 'Yifan']"
   ]
  },
  {
   "cell_type": "code",
   "execution_count": 3,
   "metadata": {
    "colab": {
     "base_uri": "https://localhost:8080/"
    },
    "id": "AH18ALU0Uihj",
    "outputId": "56dca416-a54c-448d-c877-1ca459d82a8d"
   },
   "outputs": [
    {
     "name": "stdout",
     "output_type": "stream",
     "text": [
      "['Sonali', 'Rebecca', 'Yifan', 'Maggie']\n"
     ]
    }
   ],
   "source": [
    "## your code here \n",
    "instructor_my_name = instructor_names + ['Maggie']\n",
    "print(instructor_my_name)"
   ]
  },
  {
   "cell_type": "markdown",
   "metadata": {
    "id": "Ac5XNc9OUihl"
   },
   "source": [
    "## 1.2 List indexing (2 points)\n",
    "\n",
    "- Use the `.index()` method to get the index of the professor's name (Rebecca) \n",
    "- Use that index to extract that name\n",
    "- Store it in a list called prof and print"
   ]
  },
  {
   "cell_type": "code",
   "execution_count": 4,
   "metadata": {
    "colab": {
     "base_uri": "https://localhost:8080/"
    },
    "id": "EOakEG-FUihm",
    "outputId": "1f48a55c-9d28-489f-857e-70407dde7bc3"
   },
   "outputs": [
    {
     "data": {
      "text/plain": [
       "1"
      ]
     },
     "execution_count": 4,
     "metadata": {},
     "output_type": "execute_result"
    }
   ],
   "source": [
    "## your code here to get index of prof's name\n",
    "instructor_names.index('Rebecca')"
   ]
  },
  {
   "cell_type": "code",
   "execution_count": 5,
   "metadata": {
    "colab": {
     "base_uri": "https://localhost:8080/"
    },
    "id": "rnIkKZc6Uiho",
    "outputId": "68b74681-a578-4863-dd98-bfd838a8f258"
   },
   "outputs": [
    {
     "name": "stdout",
     "output_type": "stream",
     "text": [
      "['Rebecca']\n"
     ]
    }
   ],
   "source": [
    "## your code here to extract the name and print\n",
    "prof_and_print = [instructor_names[1]]\n",
    "print(prof_and_print)"
   ]
  },
  {
   "cell_type": "markdown",
   "metadata": {
    "id": "vWASK4zAUihq"
   },
   "source": [
    "## 1.3 Indexing lists of lists (2 points)\n",
    "\n",
    "- We provide you with the below list of lists (`roles_listoflists`)\n",
    "- A. Use subsetting to pull out the role of Rebecca (can just hard code the relevant indices)\n",
    "- B. Pull out and print the type of the element at index 1 (Yifan's name and role)"
   ]
  },
  {
   "cell_type": "code",
   "execution_count": 6,
   "metadata": {
    "id": "UKSzwQOTUihr"
   },
   "outputs": [],
   "source": [
    "## we provide\n",
    "roles_listoflists = [['Rebecca', 'Prof'], ['Yifan', 'TA'], ['Sonali', 'TA']]\n"
   ]
  },
  {
   "cell_type": "code",
   "execution_count": 7,
   "metadata": {
    "colab": {
     "base_uri": "https://localhost:8080/",
     "height": 35
    },
    "id": "AqRVDeYQUiht",
    "outputId": "64a280fc-fd9a-4ece-94fc-532bb0e8d4d9"
   },
   "outputs": [
    {
     "data": {
      "text/plain": [
       "'Prof'"
      ]
     },
     "execution_count": 7,
     "metadata": {},
     "output_type": "execute_result"
    }
   ],
   "source": [
    "## your code here pull out role of rebecca \n",
    "roles_listoflists[0][1]"
   ]
  },
  {
   "cell_type": "code",
   "execution_count": 8,
   "metadata": {
    "colab": {
     "base_uri": "https://localhost:8080/"
    },
    "id": "yOtcD0_bUihu",
    "outputId": "006a4ff7-5032-4b00-e7cf-7032349b6067"
   },
   "outputs": [
    {
     "data": {
      "text/plain": [
       "['Yifan', 'TA']"
      ]
     },
     "execution_count": 8,
     "metadata": {},
     "output_type": "execute_result"
    }
   ],
   "source": [
    "## your code here for part b\n",
    "roles_listoflists[1]"
   ]
  },
  {
   "cell_type": "code",
   "execution_count": 9,
   "metadata": {
    "colab": {
     "base_uri": "https://localhost:8080/"
    },
    "id": "5DDGnAbRecuE",
    "outputId": "dd67dcab-7119-47e5-9037-e81859ba1230"
   },
   "outputs": [
    {
     "data": {
      "text/plain": [
       "list"
      ]
     },
     "execution_count": 9,
     "metadata": {},
     "output_type": "execute_result"
    }
   ],
   "source": [
    "type(roles_listoflists[1])"
   ]
  },
  {
   "cell_type": "markdown",
   "metadata": {
    "id": "o7b06mMqUihv"
   },
   "source": [
    "## 1.4 Edit list elements (3 points)\n",
    "\n",
    "\n",
    "- In `roles_listoflists`, replace the role 'TA' with the role 'Teaching Assistant' (fine to do in two lines of code)\n",
    "- Print the updated list"
   ]
  },
  {
   "cell_type": "code",
   "execution_count": 10,
   "metadata": {
    "colab": {
     "base_uri": "https://localhost:8080/"
    },
    "id": "IOLBI9qFUihw",
    "outputId": "aeab83ca-0f99-47b4-8fff-105736e1e1c8"
   },
   "outputs": [
    {
     "name": "stdout",
     "output_type": "stream",
     "text": [
      "[['Rebecca', 'Prof'], ['Yifan', 'Teaching Assistant'], ['Sonali', 'Teaching Assistant']]\n"
     ]
    }
   ],
   "source": [
    "## your code here \n",
    "roles_listoflists[1][1] = 'Teaching Assistant' \n",
    "roles_listoflists[2][1] = 'Teaching Assistant'\n",
    "print(roles_listoflists)"
   ]
  },
  {
   "cell_type": "markdown",
   "metadata": {
    "id": "dHqX1ercUihy"
   },
   "source": [
    "# 2. Practice with numpy arrays "
   ]
  },
  {
   "cell_type": "markdown",
   "metadata": {
    "id": "q_uxCJx2Uihz"
   },
   "source": [
    "## 2.1 Converting a list to an array (2 points)\n",
    "\n",
    "- A. Transform the roles_listoflists from the previous part (so with TA replaced with teaching assistant)into a 2D numpy array; call it roles_array\n",
    "- B. Print the shape/dimensions of `roles_array`"
   ]
  },
  {
   "cell_type": "code",
   "execution_count": 11,
   "metadata": {
    "colab": {
     "base_uri": "https://localhost:8080/"
    },
    "id": "uD_ZuIqkUihz",
    "outputId": "e65ae527-90f4-4403-a7ae-a2c4f07b4564"
   },
   "outputs": [
    {
     "name": "stdout",
     "output_type": "stream",
     "text": [
      "(3, 2)\n"
     ]
    }
   ],
   "source": [
    "## your code here\n",
    "roles_array = np.array(roles_listoflists)\n",
    "print(roles_array.shape)"
   ]
  },
  {
   "cell_type": "markdown",
   "metadata": {
    "id": "bDKtfHXYUih1"
   },
   "source": [
    "## 2.2 Subsetting arrays using True/False (boolean) indicators (2 points)\n",
    "\n",
    "- A. Create a boolean indicator for rows where the role (second column) == 'Teaching Assistant' and print that indicator\n",
    "- B. Use that boolean indicator to subset roles_array store the array as roles_TA \n",
    "- C. Print the `roles_TA` array and its dimensions (should be 2x2)"
   ]
  },
  {
   "cell_type": "code",
   "execution_count": 12,
   "metadata": {
    "colab": {
     "base_uri": "https://localhost:8080/"
    },
    "id": "1TQTtAzkUih2",
    "outputId": "70b06395-01d8-43f5-a9f9-ce62262faeb0"
   },
   "outputs": [
    {
     "name": "stdout",
     "output_type": "stream",
     "text": [
      "[False  True  True]\n"
     ]
    }
   ],
   "source": [
    "## your code here\n",
    "a = (roles_array[:, 1] == 'Teaching Assistant')\n",
    "print(a)"
   ]
  },
  {
   "cell_type": "code",
   "execution_count": 13,
   "metadata": {
    "id": "O-avBOijUih3"
   },
   "outputs": [],
   "source": [
    "## your code here\n",
    "roles_TA = roles_array[a]"
   ]
  },
  {
   "cell_type": "code",
   "execution_count": 14,
   "metadata": {
    "colab": {
     "base_uri": "https://localhost:8080/"
    },
    "id": "vBQpqFmkUih4",
    "outputId": "f315a1dc-c879-4b50-f8c6-1ae267277073"
   },
   "outputs": [
    {
     "name": "stdout",
     "output_type": "stream",
     "text": [
      "[['Yifan' 'Teaching Assistant']\n",
      " ['Sonali' 'Teaching Assistant']]\n"
     ]
    },
    {
     "data": {
      "text/plain": [
       "(2, 2)"
      ]
     },
     "execution_count": 14,
     "metadata": {},
     "output_type": "execute_result"
    }
   ],
   "source": [
    "## your code here \n",
    "print(roles_TA)\n",
    "roles_TA.shape"
   ]
  },
  {
   "cell_type": "markdown",
   "metadata": {
    "id": "zqVNfg2lUih5"
   },
   "source": [
    "## 2.3 Adding to an array (2 points)\n",
    "\n",
    "- A. Use np.append (google the documentation) to  add the following column with the netids of the two TA to the roles_TA array as the last column \n",
    "- B. Store as role_TA_net\n",
    "- C. Print the dimensions (should be 2x3)"
   ]
  },
  {
   "cell_type": "code",
   "execution_count": 15,
   "metadata": {
    "colab": {
     "base_uri": "https://localhost:8080/"
    },
    "id": "aZ0CGfoeUih6",
    "outputId": "10204892-7818-4df9-df1c-69661668be48"
   },
   "outputs": [
    {
     "name": "stdout",
     "output_type": "stream",
     "text": [
      "[['yl1374']\n",
      " ['ss4608']]\n"
     ]
    }
   ],
   "source": [
    "## column to add \n",
    "netids = np.array([['yl1374'], ['ss4608']])\n",
    "print(netids)"
   ]
  },
  {
   "cell_type": "code",
   "execution_count": 16,
   "metadata": {
    "colab": {
     "base_uri": "https://localhost:8080/"
    },
    "id": "L5U9k5YEUih7",
    "outputId": "910180e4-36bd-4f7d-e1e3-d8a38d2f8547"
   },
   "outputs": [
    {
     "name": "stdout",
     "output_type": "stream",
     "text": [
      "[['Yifan' 'Teaching Assistant' 'yl1374']\n",
      " ['Sonali' 'Teaching Assistant' 'ss4608']]\n"
     ]
    }
   ],
   "source": [
    "## your code here\n",
    "role_TA_net = np.append(roles_TA, netids, axis = 1)\n",
    "print(role_TA_net)"
   ]
  },
  {
   "cell_type": "code",
   "execution_count": 17,
   "metadata": {
    "colab": {
     "base_uri": "https://localhost:8080/"
    },
    "id": "yuucI1j_Uih8",
    "outputId": "8f9417aa-2e94-45a2-d6a7-d05f96d4820c"
   },
   "outputs": [
    {
     "name": "stdout",
     "output_type": "stream",
     "text": [
      "(2, 3)\n"
     ]
    }
   ],
   "source": [
    "## your code here\n",
    "print(role_TA_net.shape)"
   ]
  },
  {
   "cell_type": "markdown",
   "metadata": {
    "id": "X3lFIWp5Uih9"
   },
   "source": [
    "# 3. Practice with iteration/list comprehension\n",
    "\n",
    "Here, we provide you with a list containing the course codes for different McCourt/Georgetown Fall 2022 courses."
   ]
  },
  {
   "cell_type": "code",
   "execution_count": 18,
   "metadata": {
    "id": "QAvWgJQVUih-"
   },
   "outputs": [],
   "source": [
    "## course code list \n",
    "course_codes = [\"PPOL 506\", \"PPOL 560\", \"PPOL 564\", \"SOCI 4961\"]"
   ]
  },
  {
   "cell_type": "markdown",
   "metadata": {
    "id": "CiV9nTQDUih_"
   },
   "source": [
    "## 3.1 Using list comprehension to keep all elements / transform them (3 points)\n",
    "\n",
    "- A. Create a new list---course_codes_ns-- that removes the spaces in each course code--- eg PPOL 506 should become PPOL506\n",
    "- B. Print `course_codes_ns`"
   ]
  },
  {
   "cell_type": "code",
   "execution_count": 19,
   "metadata": {
    "colab": {
     "base_uri": "https://localhost:8080/"
    },
    "id": "_oKUtfX6UiiA",
    "outputId": "07ee3d32-8f8d-4646-c43b-348a2ca9f191"
   },
   "outputs": [
    {
     "name": "stdout",
     "output_type": "stream",
     "text": [
      "['PPOL506', 'PPOL560', 'PPOL564', 'SOCI4961']\n"
     ]
    }
   ],
   "source": [
    "## your code here\n",
    "course_codes_ns = [course.replace(' ', '') for course in course_codes]\n",
    "print(course_codes_ns)"
   ]
  },
  {
   "cell_type": "markdown",
   "metadata": {
    "id": "cZKEyEdxUiiB"
   },
   "source": [
    "## 3.2 Using list comprehension to subset a list (3 points)\n",
    "\n",
    "- A. using course_codes_ns, create a new list just with courses with ppol in the name; store it as `course_codes_ppol`"
   ]
  },
  {
   "cell_type": "code",
   "execution_count": 20,
   "metadata": {
    "colab": {
     "base_uri": "https://localhost:8080/"
    },
    "id": "YP5tRzd4UiiC",
    "outputId": "b468a89d-5092-4e22-cdad-43b4c9ca98ed"
   },
   "outputs": [
    {
     "name": "stdout",
     "output_type": "stream",
     "text": [
      "['PPOL506', 'PPOL560', 'PPOL564']\n"
     ]
    }
   ],
   "source": [
    "## your code here\n",
    "course_codes_ppol = [course for course in course_codes_ns if 'PPOL' in course]\n",
    "print(course_codes_ppol)"
   ]
  },
  {
   "cell_type": "markdown",
   "metadata": {
    "id": "TQaOJD5bUiiD"
   },
   "source": [
    "## 3.3 Using list comprehension to conditionally change a list's elements (3 points)\n",
    "\n",
    "- A. `using course_codes_ppol`, add the string prefix \"stats_\" to ppol506 and 560; \"ds_\" to ppol564\n",
    "- B. Store as `course_codes_detail` and print"
   ]
  },
  {
   "cell_type": "code",
   "execution_count": 21,
   "metadata": {
    "colab": {
     "base_uri": "https://localhost:8080/"
    },
    "id": "hvq6mks5UiiE",
    "outputId": "22085bd2-1acc-4232-adbf-3a0e8596704b"
   },
   "outputs": [
    {
     "name": "stdout",
     "output_type": "stream",
     "text": [
      "['stat_PPOL506', 'stat_PPOL560', 'ds_PPOL564']\n"
     ]
    }
   ],
   "source": [
    "## your code here\n",
    "course_codes_detail = [\"ds_\" + course if \"PPOL564\" in course else \"stat_\" + course for course in course_codes_ppol]\n",
    "print(course_codes_detail)\n"
   ]
  }
 ],
 "metadata": {
  "colab": {
   "collapsed_sections": [],
   "provenance": []
  },
  "kernelspec": {
   "display_name": "Python 3 (ipykernel)",
   "language": "python",
   "name": "python3"
  },
  "language_info": {
   "codemirror_mode": {
    "name": "ipython",
    "version": 3
   },
   "file_extension": ".py",
   "mimetype": "text/x-python",
   "name": "python",
   "nbconvert_exporter": "python",
   "pygments_lexer": "ipython3",
   "version": "3.9.12"
  },
  "vscode": {
   "interpreter": {
    "hash": "397704579725e15f5c7cb49fe5f0341eb7531c82d19f2c29d197e8b64ab5776b"
   }
  }
 },
 "nbformat": 4,
 "nbformat_minor": 1
}
